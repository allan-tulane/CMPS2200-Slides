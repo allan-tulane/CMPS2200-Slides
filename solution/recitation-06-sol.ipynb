{
 "cells": [
  {
   "cell_type": "markdown",
   "metadata": {},
   "source": [
    "# CMPS 2200  Recitation 06\n",
    "\n",
    "Today we'll learn more about dynamic programming using the classic problem of computing **Fibonacci Numbers**. As you know, for the $n$th Fibonacci number $F_n=F_{n-1} + F_{n-2}$. Here are the first 11 values:\n",
    "\n",
    "|0|1|2|3|4|5|6|7|8|9|10|\n",
    "|-|-|-|-|-|-|-|-|-|-|- |\n",
    "|0|1|1|2|3|5|8|13|21|34|55|\n",
    "\n",
    "**1** Implement a recursive solution by completing `fib_recursive` and test it with `test_fib_recursive`. In addition to $n$, we also use an array called `counts` that keeps track of how many times each $F_i$ is computed when computing $F_n$.\n",
    "\n",
    ".  \n",
    ".  \n",
    ".  \n",
    "\n",
    "\n",
    "**2** Write a recurrence for the **work** of this algorithm and solve it. Assume the input is $n$ to compute $F_n$.\n",
    "\n",
    "**put answer in answers.md**  \n",
    "\n",
    ".  \n",
    ".  \n",
    ".  \n",
    "\n",
    "**3** Write a recurrence for the **span** of this algorithm and solve it.\n",
    "\n",
    "**put answer in answers.md**  \n",
    "\n",
    ".  \n",
    ".  \n",
    ".  \n",
    "\n",
    "**4** Inspecting the `counts` list, what interesting pattern emerges?\n",
    "\n",
    "**put answer in answers.md**  \n",
    ".  \n",
    ".  \n",
    ".  \n",
    "\n",
    "\n",
    "\n",
    "**5** Clearly, this implementation does a ridiculous amount of duplicate work. We should really only have to compute each $F_i$ one time, for $i \\le n$. We'll next write two more efficient ways of computing $F_n$. In the first one, we'll keep an additional list called `fibs`, where `fibs[i] = F_i`, to store each value we encounter during the recursive solution. When the function is called for input $i$, we first check if $F_i$ is in `fibs`. If so, we simply return it. Otherwise, we proceed with the recursive calls. Note that we initialize `fibs` with -1's so we can tell if $F_i$ has been computed or not. Complete `fib_top_down` and test with `test_fib_top_down`. \n",
    "\n",
    "\n",
    ".  \n",
    ".  \n",
    ".  \n",
    "\n",
    "**6** When computing $F_n$, what is the maximum number of times that `fib_top_down(i)` will be called for any value $i$? Based on this, what is the **work** and **span** of this algorithm?\n",
    "\n",
    "**put answer in answers.md**  \n",
    ".  \n",
    ".  \n",
    ".  \n",
    "\n",
    "**7** Finally, we will compute a bottom-up implementation. This is a non-recursive solution that starts at $F_0$ and iteratively computes subsequent values of $F_i$ until $F_n$ is reached. To do so, store a list of $n+1$ values, initialized to 0's, which will store the Fibonacci sequence up from $F_0$ to $F_n$. Write a for loop to fill it in, then return the last value. Complete `fib_bottom_up` and test with `test_fib_bottom_up`.\n",
    "\n",
    ".  \n",
    ".  \n",
    ".  \n",
    "\n",
    "**8** When computing $F_n$, what is the maximum number of times that $F_i$ will be read for any value $i$? Based on this, what is the **work** and **span** of `fib_bottom_up`?\n",
    "\n",
    "**put answer in answers.md**  \n",
    ".  \n",
    ".  \n",
    ".  \n",
    "\n",
    "**9** `fib_bottom_up` requires storing a list of size $n+1$, so its *space complexity* is $O(n)$. We can do better than this, as we really don't need to store all the values $F_i$, just the most recent two. Implement `fib_bottom_up_better` to do so, resulting in $O(1)$ space complexity.\n",
    "\n",
    ".  \n",
    ".  \n",
    ".\n",
    "\n",
    "`fib_top_down` and `fib_bottom_up` are two simple forms of dynamic programming. Both improve over the recursive solution by **sharing** solutions to smaller problem instances in order to reduce duplicate work. `fib_top_down` does this by starting with the original problem and caching solutions to smaller problems encountered in a recursive solution. In contrast, `fib_bottom_up` creates a table of solutions to smaller problem instances, and solves them from smallest to largest. In class and in the next assignment, we will see more complicated dynamic programming solutions where the relationship between smaller and larger problem instances is more interesting. \n"
   ]
  },
  {
   "cell_type": "code",
   "execution_count": 4,
   "metadata": {},
   "outputs": [
    {
     "name": "stdout",
     "output_type": "stream",
     "text": [
      "counts [34, 55, 34, 21, 13, 8, 5, 3, 2, 1, 1]\n",
      "sum(counts) 177\n"
     ]
    }
   ],
   "source": [
    "def fib_recursive(n, counts):\n",
    "    \"\"\"\n",
    "    Return the nth Fibonacci number. \n",
    "    counts is a list of n+1 elements, where counts[i] is incremented\n",
    "    each time fib_recursive(i, counts) is called.\n",
    "    \"\"\"    \n",
    "    counts[n] += 1\n",
    "    ###TODO\n",
    "    if n < 2:\n",
    "        return n\n",
    "    else:\n",
    "        return fib_recursive(n-1, counts) + fib_recursive(n-2, counts)\n",
    "    ###\n",
    "    \n",
    "def test_fib_recursive():\n",
    "    n = 10\n",
    "    counts = [0] * (n+1)\n",
    "    assert fib_recursive(n, counts) == 55\n",
    "    print('counts', counts)\n",
    "    print('sum(counts)', sum(counts))\n",
    "    \n",
    "test_fib_recursive()"
   ]
  },
  {
   "cell_type": "markdown",
   "metadata": {},
   "source": [
    "**2**\n",
    "\n",
    "$W(n) = T(n-1) + T(n-2) + 1$\n",
    "\n",
    "\n",
    "root: $n$  \n",
    "level 1: $(n-1) +  (n-2) =     2n - 3$  \n",
    "level 2: $(n-2) + (n-3) + (n-3) + (n-4)= 4n - 12$  \n",
    "\n",
    "leaf dominated  \n",
    "- $2^i$ nodes at level $i$\n",
    "- $n$ levels\n",
    "- $\\Rightarrow O(2^n)$\n",
    "\n",
    "**3**\n",
    "\n",
    "$S(n) = S(n-1) + 1$\n",
    "\n",
    "balanced $\\rightarrow O(n)$\n"
   ]
  },
  {
   "cell_type": "code",
   "execution_count": 4,
   "metadata": {},
   "outputs": [
    {
     "name": "stdout",
     "output_type": "stream",
     "text": [
      "[-1, -1, 1, 2, 3, 5, 8, 13, 21, 34, 55]\n"
     ]
    }
   ],
   "source": [
    "def fib_top_down(n, fibs):\n",
    "    ###TODO\n",
    "    if fibs[n] != -1:\n",
    "        return fibs[n]\n",
    "    if n < 2:\n",
    "        return n\n",
    "    else:\n",
    "        fibs[n] = fib_top_down(n-1, fibs) + fib_top_down(n-2, fibs)\n",
    "        return fibs[n]\n",
    "    ###\n",
    "\n",
    "def test_fib_top_down():\n",
    "    n = 10\n",
    "    fibs = [-1] * (n+1)\n",
    "    assert fib_top_down(n, fibs) == 55\n",
    "    print(fibs)\n",
    "\n",
    "test_fib_top_down()"
   ]
  },
  {
   "cell_type": "code",
   "execution_count": 3,
   "metadata": {},
   "outputs": [
    {
     "name": "stdout",
     "output_type": "stream",
     "text": [
      "[0, 1, 1, 2, 3, 5, 8, 13, 21, 34, 55]\n"
     ]
    }
   ],
   "source": [
    "def fib_bottom_up(n):\n",
    "    ###TODO\n",
    "    fibs = [0] * (n+1)\n",
    "    for i in range(n+1):\n",
    "        if i < 2:\n",
    "            fibs[i] = i\n",
    "        else:\n",
    "            fibs[i] = fibs[i-1] + fibs[i-2]\n",
    "    print(fibs)\n",
    "    return fibs[-1]\n",
    "    ###\n",
    "\n",
    "def test_fib_bottom_up():\n",
    "    n = 10\n",
    "    assert fib_bottom_up(n) == 55\n",
    "\n",
    "test_fib_bottom_up()"
   ]
  },
  {
   "cell_type": "code",
   "execution_count": 8,
   "metadata": {},
   "outputs": [],
   "source": [
    "def fib_bottom_up_better(n):\n",
    "    ###TODO\n",
    "    prev_2 = 0\n",
    "    prev_1 = 1\n",
    "    for i in range(1, n+1):\n",
    "        prev_1, prev_2 = prev_2, prev_1 + prev_2\n",
    "    return prev_2\n",
    "    ###\n",
    "\n",
    "def test_fib_bottom_up_better():\n",
    "    n = 10\n",
    "    assert fib_bottom_up_better(n) == 55\n",
    "\n",
    "test_fib_bottom_up_better()"
   ]
  }
 ],
 "metadata": {
  "kernelspec": {
   "display_name": "Python 3",
   "language": "python",
   "name": "python3"
  },
  "language_info": {
   "codemirror_mode": {
    "name": "ipython",
    "version": 3
   },
   "file_extension": ".py",
   "mimetype": "text/x-python",
   "name": "python",
   "nbconvert_exporter": "python",
   "pygments_lexer": "ipython3",
   "version": "3.8.2"
  }
 },
 "nbformat": 4,
 "nbformat_minor": 4
}
