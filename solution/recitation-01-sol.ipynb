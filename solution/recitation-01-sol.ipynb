{
 "cells": [
  {
   "cell_type": "code",
   "execution_count": null,
   "metadata": {
    "id": "uBqao900AeuG"
   },
   "outputs": [],
   "source": [
    "\"\"\"\n",
    "CMPS 2200  Recitation 1\n",
    "\"\"\"\n",
    "\n",
    "### the only imports needed are here\n",
    "import tabulate\n",
    "import time\n",
    "###\n",
    "\n",
    "def linear_search(mylist, key):\n",
    "    \"\"\" done. \"\"\"\n",
    "    for i,v in enumerate(mylist):\n",
    "        if v == key:\n",
    "            return i\n",
    "    return -1\n",
    "\n",
    "def test_linear_search():\n",
    "    \"\"\" done. \"\"\"\n",
    "    assert linear_search([1,2,3,4,5], 5) == 4\n",
    "    assert linear_search([1,2,3,4,5], 1) == 0\n",
    "    assert linear_search([1,2,3,4,5], 6) == -1\n",
    "\n",
    "def binary_search(mylist, key):\n",
    "    \"\"\" done. \"\"\"\n",
    "    return _binary_search(mylist, key, 0, len(mylist)-1)\n",
    "\n",
    "def _binary_search(mylist, key, left, right):\n",
    "    \"\"\"\n",
    "    Recursive implementation of binary search.\n",
    "\n",
    "    Params:\n",
    "      mylist....list to search\n",
    "      key.......search key\n",
    "      left......left index into list to search\n",
    "      right.....right index into list to search\n",
    "\n",
    "    Returns:\n",
    "      index of key in mylist, or -1 if not present.\n",
    "    \"\"\"\n",
    "    ### TODO\n",
    "    if right < left:\n",
    "        return -1\n",
    "\n",
    "    mid = (right + left) // 2  # or: left + (right - left) // 2\n",
    "    if mylist[mid] == key:\n",
    "        return mid\n",
    "    elif mylist[mid] > key:\n",
    "        return _binary_search(mylist, key, left, mid - 1)\n",
    "    else:\n",
    "        return _binary_search(mylist, key, mid + 1, right)\n",
    "    ###\n",
    "\n",
    "def test_binary_search():\n",
    "    assert binary_search([1,2,3,4,5], 5) == 4\n",
    "    assert binary_search([1,2,3,4,5], 1) == 0\n",
    "    assert binary_search([1,2,3,4,5], 6) == -1\n",
    "    ### TODO: add two more tests here.\n",
    "    assert binary_search([1,2,3,4,5], 2) == 1\n",
    "    assert binary_search([], 2) == -1\n",
    "    ###\n",
    "\n",
    "\n",
    "def time_search(search_fn, mylist, key):\n",
    "    \"\"\"\n",
    "    Return the number of milliseconds to run this\n",
    "    search function on this list.\n",
    "\n",
    "    Note 1: `search_fn` parameter is a function.\n",
    "    Note 2: time.time() returns the current time in seconds.\n",
    "    You'll have to multiple by 1000 to get milliseconds.\n",
    "\n",
    "    Params:\n",
    "      sort_fn.....the search function\n",
    "      mylist......the list to search\n",
    "      key.........the search key\n",
    "\n",
    "    Returns:\n",
    "      the number of milliseconds it takes to run this\n",
    "      search function on this input.\n",
    "    \"\"\"\n",
    "    ### TODO\n",
    "    start = time.time()\n",
    "    search_fn(mylist, key)\n",
    "    return (time.time() - start) * 1000\n",
    "    ###\n",
    "\n",
    "def compare_search(sizes=[1e1, 1e2, 1e3, 1e4, 1e5, 1e6, 1e7]):\n",
    "    \"\"\"\n",
    "    Compare the running time of linear_search and binary_search\n",
    "    for input sizes as given. The key for each search should be\n",
    "    -1. The list to search for each size contains the numbers from 0 to n-1,\n",
    "    sorted in ascending order.\n",
    "\n",
    "    You'll use the time_search function to time each call.\n",
    "\n",
    "    Returns:\n",
    "      A list of tuples of the form\n",
    "      (n, linear_search_time, binary_search_time)\n",
    "      indicating the number of milliseconds it takes\n",
    "      for each method to run on each value of n\n",
    "    \"\"\"\n",
    "    ### TODO\n",
    "    result = []\n",
    "    for size in sizes:\n",
    "        mylist = list(range(int(size)))\n",
    "        result.append([\n",
    "            len(mylist),\n",
    "            time_search(linear_search, mylist, -1),\n",
    "            time_search(binary_search, mylist, -1)\n",
    "        ])\n",
    "    return result\n",
    "    ###\n",
    "\n",
    "def print_results(results):\n",
    "    \"\"\" done \"\"\"\n",
    "    print(tabulate.tabulate(results,\n",
    "                            headers=['n', 'linear', 'binary'],\n",
    "                            floatfmt=\".3f\",\n",
    "                            tablefmt=\"github\"))\n",
    "\n",
    "def test_print():\n",
    "    print_results(compare_search())\n",
    "\n",
    "def test_compare_search():\n",
    "    res = compare_search(sizes=[10, 100])\n",
    "    assert res[0][0] == 10\n",
    "    assert res[1][0] == 100\n",
    "    assert res[0][1] < 1\n",
    "    assert res[1][1] < 1\n"
   ]
  },
  {
   "cell_type": "code",
   "execution_count": null,
   "metadata": {
    "id": "q1tvRUNhAeuL"
   },
   "outputs": [],
   "source": [
    "# if tests pass, no output.\n",
    "test_linear_search()\n",
    "test_binary_search()\n",
    "test_compare_search()"
   ]
  },
  {
   "cell_type": "code",
   "execution_count": null,
   "metadata": {
    "id": "jp5RviiCAeuM",
    "outputId": "37c9f214-aacb-4c70-9a3c-8821cbfb3fa5"
   },
   "outputs": [
    {
     "name": "stdout",
     "output_type": "stream",
     "text": [
      "|        n |   linear |   binary |\n",
      "|----------|----------|----------|\n",
      "|       10 |    0.002 |    0.004 |\n",
      "|      100 |    0.004 |    0.002 |\n",
      "|     1000 |    0.040 |    0.003 |\n",
      "|    10000 |    0.415 |    0.007 |\n",
      "|   100000 |    5.096 |    0.016 |\n",
      "|  1000000 |   46.012 |    0.018 |\n",
      "| 10000000 |  466.964 |    0.025 |\n"
     ]
    }
   ],
   "source": [
    "results = compare_search()\n",
    "print_results(results)"
   ]
  },
  {
   "cell_type": "markdown",
   "metadata": {
    "id": "NIWlGztOAeuN"
   },
   "source": [
    "$ T_{\\hbox{binary_search}}(n) \\stackrel{?}{=} \\beta \\: \\hbox{lg} n + \\beta_0$  \n",
    "$ T_{\\hbox{linear_search}}(n) \\stackrel{?}{=} \\beta \\: n + \\beta_0$"
   ]
  },
  {
   "cell_type": "code",
   "execution_count": null,
   "metadata": {
    "id": "McNGMbxeAeuO",
    "outputId": "873b9985-d1a3-43f2-ccd3-f0128d3fb1f4"
   },
   "outputs": [
    {
     "data": {
      "image/png": "[encoded data removed]",
      "text/plain": [
       "<Figure size 432x288 with 2 Axes>"
      ]
     },
     "metadata": {
      "needs_background": "light"
     },
     "output_type": "display_data"
    }
   ],
   "source": [
    "# plot raw timing data and best fit curves.\n",
    "\n",
    "import matplotlib.pyplot as plt\n",
    "%matplotlib inline\n",
    "import math\n",
    "from scipy.optimize import curve_fit\n",
    "import numpy as np\n",
    "\n",
    "sizes = [x[0] for x in results]\n",
    "linear_times = [x[1] for x in results]\n",
    "binary_times = [x[2] for x in results]\n",
    "fig, ax = plt.subplots(1)\n",
    "ax2 = ax.twinx()\n",
    "ax2.plot(\n",
    "         sizes,\n",
    "         linear_times,\n",
    "         'bo-'\n",
    "       )\n",
    "ax2.set_ylabel('linear search', color='blue', size=20)\n",
    "ax2.tick_params(axis='y', labelcolor='blue')\n",
    "ax.plot(\n",
    "         sizes,\n",
    "         binary_times,\n",
    "         'ro-'\n",
    "        )\n",
    "ax.set_ylabel('binary search', color='red', size=20)\n",
    "ax.tick_params(axis='y', labelcolor='red')\n",
    "ax.set_xlabel('n', size=20)\n",
    "\n",
    "def lgn(i, beta, beta0):\n",
    "    # beta*lg(n) + beta0\n",
    "    return beta*np.array([math.log(x, 2) for x in i] ) + beta0\n",
    "\n",
    "def linearn(i, beta, beta0):\n",
    "    # beta*n + beta0\n",
    "    return beta*np.array(i) + beta0\n",
    "\n",
    "lgn_beta, _ = curve_fit(lgn, sizes, binary_times)\n",
    "ax.plot(sizes, lgn(sizes, *lgn_beta), 'r--', label='lg fit (beta=%.2g, beta0=%.2g)' % (lgn_beta[0], lgn_beta[1]))\n",
    "ax.legend(loc='upper left')\n",
    "\n",
    "linearn_beta, _ = curve_fit(linearn, sizes, linear_times)\n",
    "ax2.plot(sizes, linearn(sizes, *linearn_beta), 'b--', label='linear fit (beta=%.2g, beta0=%.2g)' % (linearn_beta[0], linearn_beta[1]))\n",
    "ax2.legend(loc='lower right')\n",
    "plt.show()"
   ]
  },
  {
   "cell_type": "markdown",
   "metadata": {
    "id": "_rrDXgX1AeuP"
   },
   "source": [
    "<br><br>\n",
    "\n",
    "T(Sort + Binary Search) $\\stackrel{?}{<}$ T(Linear Search)  \n",
    "\n",
    "<br><br><br><br>\n",
    "\n",
    "$ n^2 + k* \\mathrm{lg}n \\stackrel{?}{<} k * n$\n",
    "\n",
    "<br><br><br><br><br><br><br><br><br><br><br><br>\n",
    "\n",
    "if $k=n$\n",
    "\n",
    "$ n^2 + n \\mathrm{lg}n > n^2$ $\\Rightarrow$ Linear Search is faster\n",
    "\n",
    "\n",
    "<br><br><br><br><br><br><br><br><br><br><br><br>\n",
    "\n",
    "if $k=n^2$\n",
    "\n",
    "$ n^2 + n^2 \\mathrm{lg}n < n^3$ $\\Rightarrow$ Sort + Binary Search is faster\n",
    "\n",
    "\n",
    "<br><br><br><br><br><br><br><br><br><br><br><br>\n",
    "\n",
    "if $k=n \\mathrm{lg}n$\n",
    "\n",
    "$ n^2 + n \\mathrm{lg}^2 n < n^2 \\mathrm{lg}n$ $\\Rightarrow$ Sort + Binary Search is faster\n",
    "\n",
    "<br><br><br><br><br><br><br><br><br><br><br><br>\n",
    "\n",
    "or, solve for $k$\n",
    "\n",
    "$ n^2 + k* \\mathrm{lg}n \\stackrel{?}{<} k * n$  \n",
    "$n^2 = k*n - k * \\mathrm{lg}n$  \n",
    "$n^2 = k(n- \\mathrm{lg}n)$  \n",
    "$\\frac{n^2}{n- \\mathrm{lg}n} = k$\n",
    "\n",
    "<br><br>\n",
    "So, Sort + Binary Search is faster when $ k > \\frac{n^2}{n- \\mathrm{lg}n} $"
   ]
  }
 ],
 "metadata": {
  "colab": {
   "provenance": []
  },
  "kernelspec": {
   "display_name": "Python 3 (ipykernel)",
   "language": "python",
   "name": "python3"
  },
  "language_info": {
   "codemirror_mode": {
    "name": "ipython",
    "version": 3
   },
   "file_extension": ".py",
   "mimetype": "text/x-python",
   "name": "python",
   "nbconvert_exporter": "python",
   "pygments_lexer": "ipython3",
   "version": "3.9.6"
  }
 },
 "nbformat": 4,
 "nbformat_minor": 1
}
