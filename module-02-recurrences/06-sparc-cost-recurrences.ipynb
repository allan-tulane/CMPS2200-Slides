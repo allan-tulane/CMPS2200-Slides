{
 "cells": [
  {
   "cell_type": "code",
   "execution_count": 3,
   "metadata": {
    "code_folding": [],
    "slideshow": {
     "slide_type": "skip"
    }
   },
   "outputs": [
    {
     "data": {
      "text/html": [
       "<style>.prompt{width: 0px; min-width: 0px; visibility: collapse}</style>"
      ],
      "text/plain": [
       "<IPython.core.display.HTML object>"
      ]
     },
     "metadata": {},
     "output_type": "display_data"
    },
    {
     "data": {
      "text/html": [
       "<style>\n",
       "div#notebook {\n",
       " font-family: \"Exo_2\", sans-serif;\n",
       "}\n",
       "\n",
       ".rendered_html h1,\n",
       ".text_cell_render h1 {\n",
       " color: #126dce;\n",
       " font-size: 220%;\n",
       " text-align: center;\n",
       " font-weight: lighter;\n",
       "}\n",
       ".rendered_html h2,\n",
       ".text_cell_render h2 {\n",
       " text-align: center;\n",
       " font-size: 170%;\n",
       " color: #126dce;\n",
       " font-style: normal;\n",
       " font-weight: lighter;\n",
       "}\n",
       ".rendered_html h3,\n",
       ".text_cell_render h3 {\n",
       " font-size: 150%;\n",
       " color: #126dce;\n",
       " font-weight: lighter;\n",
       " text-decoration: italic;\n",
       " font-style: normal;\n",
       "}\n",
       ".rendered_html h4,\n",
       ".text_cell_render h4 {\n",
       " font-size: 120%;\n",
       " color: #126dce;\n",
       " font-weight: underline;\n",
       " font-style: normal;\n",
       "}\n",
       ".rendered_html h5,\n",
       ".text_cell_render h5 {\n",
       " font-size: 100%;\n",
       " color: #2f2f2f;\n",
       " font-weight: lighter;\n",
       " text-decoration: underline;\n",
       "}\n",
       "</style>\n"
      ],
      "text/plain": [
       "<IPython.core.display.HTML object>"
      ]
     },
     "metadata": {},
     "output_type": "display_data"
    }
   ],
   "source": [
    "# setup\n",
    "from IPython.core.display import display,HTML\n",
    "display(HTML('<style>.prompt{width: 0px; min-width: 0px; visibility: collapse}</style>'))\n",
    "display(HTML(open('rise.css').read()))\n",
    "\n",
    "# imports\n",
    "import numpy as np\n",
    "import matplotlib.pyplot as plt\n",
    "import seaborn as sns\n",
    "%matplotlib inline\n",
    "sns.set(style=\"whitegrid\", font_scale=1.5, rc={'figure.figsize':(12, 6)})\n"
   ]
  },
  {
   "cell_type": "markdown",
   "metadata": {
    "slideshow": {
     "slide_type": "slide"
    }
   },
   "source": [
    "# CMPS 2200\n",
    "# Introduction to Algorithms\n",
    "\n",
    "## Review & SPARC + Cost Model\n",
    "\n"
   ]
  },
  {
   "cell_type": "markdown",
   "metadata": {
    "slideshow": {
     "slide_type": "slide"
    }
   },
   "source": [
    "## Language-based Cost  Model\n",
    "\n",
    "- Define a language to specify algorithms\n",
    "- Assign a cost to each expression\n",
    "- Cost of algorithm is sum of costs for each expression\n",
    "\n",
    "> For a given expression $e$ [a series of statements], we will analyze the work $W(e)$ and span $S(e)$"
   ]
  },
  {
   "cell_type": "markdown",
   "metadata": {
    "slideshow": {
     "slide_type": "slide"
    }
   },
   "source": [
    "## SPARC Example \n",
    "\n",
    "\n",
    "<br><br>\n",
    "<p> <span>\\[\\begin{array}{l}  \n",
    "\\texttt{let}\\\\   \n",
    "~~~~x = 2 + 3\\\\  \n",
    "~~~~f (w) = (w * 4, w - 2)\\\\  \n",
    "~~~~(y,z) = f(x-1)\\\\  \n",
    "\\texttt{in}\\\\   \n",
    "~~~~x + y + z\\\\  \n",
    "\\texttt{end}   \n",
    "\\end{array}\\]</span></p>\n",
    "<br><br>\n",
    "$$x = 2 + 3 = 5$$\n",
    "\n",
    "$$f(4) \\rightarrow (16, 2)$$\n",
    "\n",
    "$$x + y + z= 5 + 16 + 2 = 23$$\n",
    "\n",
    "<br><br>\n",
    "**binding**: associate entities (data or code) with identifiers.\n",
    "\n",
    "<br>\n",
    "\n",
    "**let expression:**\n",
    "\n",
    "**let**  \n",
    "$\\:\\: b^+$  \n",
    "**in**  \n",
    "$\\:\\:e$  \n",
    "**end**\n",
    "\n",
    "Expression $e$ is applied using the bindings defined inside **let**.\n",
    "\n",
    "<br><br>\n",
    "**expression** *e*: describes a computation  \n",
    "- **evaluating** an expression produces its value\n",
    "\n",
    "\n",
    "\n",
    "\n"
   ]
  },
  {
   "cell_type": "markdown",
   "metadata": {
    "slideshow": {
     "slide_type": "slide"
    }
   },
   "source": [
    "### Factorial function\n",
    "<br><br>\n",
    "<p> <span>\\[\\begin{array}{l}  \n",
    "\\texttt{let}\\\\   \n",
    "~~~~f(i)=\\texttt{if}~(i<2) \\\\\n",
    "~~~~~~~~~~~~~~~~~~~~~\\texttt{𝚝𝚑𝚎𝚗}~i \\\\\n",
    "~~~~~~~~~~~~~~~~~\\texttt{𝚎𝚕𝚜𝚎}\\\\\n",
    "~~~~~~~~~~~~~~~~~~~~~~i*f(i-1) \\\\\n",
    "\\texttt{in}\\\\   \n",
    "~~~~f(5)\\\\  \n",
    "\\texttt{end}   \n",
    "\\end{array}\\]</span></p>\n",
    "<br><br>"
   ]
  },
  {
   "cell_type": "code",
   "execution_count": 2,
   "metadata": {
    "slideshow": {
     "slide_type": "fragment"
    }
   },
   "outputs": [
    {
     "data": {
      "text/plain": [
       "120"
      ]
     },
     "execution_count": 2,
     "metadata": {},
     "output_type": "execute_result"
    }
   ],
   "source": [
    "def factorial(i):\n",
    "    if i < 2:\n",
    "        return i\n",
    "    else:\n",
    "        return i * factorial(i-1)\n",
    "factorial(5)"
   ]
  },
  {
   "cell_type": "markdown",
   "metadata": {
    "slideshow": {
     "slide_type": "slide"
    }
   },
   "source": [
    "## Composition [Work & Span]\n",
    "<center>\n",
    "<img src=\"figures/composition.png\" width=\"60%\"/>\n",
    "</center>\n",
    "\n",
    "####  $(e_1, e_2)$: Sequential Composition\n",
    "\n",
    "Add work and span \n",
    "\n",
    "$W(e_1, e_2) = 1 + W(e_1) + W(e_2)$\n",
    "\n",
    "$S(e_1, e_2) = 1 + S(e_1)+ S(e_2)$ \n",
    "\n",
    "####  $(e_1 || e_2)$: Parallel Composition\n",
    "\n",
    "Add work but **take the maximum span** \n",
    "\n",
    "$W(e_1 || e_2) = 1 + W(e_1) + W(e_2)$\n",
    "\n",
    "$S(e_1 || e_2) = 1 + \\max(S(e_1), S(e_2))$  "
   ]
  },
  {
   "cell_type": "markdown",
   "metadata": {
    "slideshow": {
     "slide_type": "slide"
    }
   },
   "source": [
    "\n",
    "### SPARC SumList\n",
    "<p><span class=\"math display\">\\[\\begin{array}{l}   \n",
    "\\\\\\\\\n",
    "\\mathit{sumList}~a =   \n",
    "\\\\  \n",
    "~~~~~~~~~\\texttt{if}~|a| = 1~\\texttt{then}   \n",
    "\\\\  \n",
    "~~~~~~~~~~~~~\\texttt{return}~a  \n",
    "\\\\  \n",
    "~~~~~~~~~\\texttt{else}  \\\\\n",
    "~~~~~~~~~~~~\\texttt{let}\\\\   \n",
    "~~~~~~~~~~~~~~~~(l, r)=\\texttt{splitMid}~a \\\\\n",
    "~~~~~~~~~~~~~~~~(l',r')=(\\mathit{sumList}~l~||~\\mathit{sumList}~r)\\\\\n",
    "~~~~~~~~~~~~\\texttt{in}\\\\  \n",
    "~~~~~~~~~~~~~~~~l'+r'\\\\\n",
    "~~~~~~~~~~~~\\texttt{end}   \n",
    "\\end{array}\\]</span></p>\n",
    "\n",
    "\n",
    "<!-- <p><span class=\"math display\">\\[\\begin{array}{l}   \n",
    "\\\\\\\\\n",
    "\\mathit{sumList}~a =   \n",
    "\\\\  \n",
    "~~~~~~~~~\\texttt{if}~|a| = 1~\\texttt{then}   \n",
    "\\\\  \n",
    "~~~~~~~~~~~~~\\texttt{return}~a  \n",
    "\\\\  \n",
    "~~~~~~~~~\\texttt{else}  \\\\\n",
    "~~~~~~~~~~~~\\texttt{let}\\\\   \n",
    "~~~~~~~~~~~~~~~~(l, r)=\\texttt{splitMid}~a \\\\\n",
    "~~~~~~~~~~~~~~~~(l',r')=(\\mathit{sumList}~l,~\\mathit{sumList}~r)\\\\\n",
    "~~~~~~~~~~~~\\texttt{in}\\\\  \n",
    "~~~~~~~~~~~~~~~~l'+r'\\\\\n",
    "~~~~~~~~~~~~\\texttt{end}   \n",
    "\\end{array}\\]</span></p> -->"
   ]
  },
  {
   "cell_type": "markdown",
   "metadata": {
    "slideshow": {
     "slide_type": "slide"
    }
   },
   "source": [
    "<center>\n",
    "<img src=\"figures/recursion.png\" width=\"80%\"/>\n",
    "</center>"
   ]
  },
  {
   "cell_type": "code",
   "execution_count": null,
   "metadata": {
    "slideshow": {
     "slide_type": "slide"
    }
   },
   "outputs": [],
   "source": [
    "# recursive, serial\n",
    "def sum_list_recursive(mylist):    \n",
    "    print('summing %s' % mylist)\n",
    "    \n",
    "    if len(mylist) == 1:\n",
    "        return mylist[0]\n",
    "    \n",
    "    return (\n",
    "        sum_list_recursive(mylist[:len(mylist)//2]) +\n",
    "        sum_list_recursive(mylist[len(mylist)//2:])\n",
    "    )\n",
    "\n",
    "# recursive, parallel\n",
    "def sum_list_recursive_parallel(mylist):    \n",
    "    print('summing %s' % mylist)\n",
    "    if len(mylist) == 1:\n",
    "        return mylist[0]\n",
    "    \n",
    "    # each thread spawns more threads\n",
    "    result1, result2 = in_parallel(\n",
    "        sum_list_recursive_parallel, mylist[:len(mylist)//2],\n",
    "        sum_list_recursive_parallel, mylist[len(mylist)//2:]\n",
    "    )\n",
    "    print('>>>merging %s and %s' % (result1, result2))\n",
    "    return result1 + result2\n"
   ]
  },
  {
   "cell_type": "markdown",
   "metadata": {
    "slideshow": {
     "slide_type": "slide"
    }
   },
   "source": [
    "## Recurrences\n"
   ]
  },
  {
   "cell_type": "markdown",
   "metadata": {
    "slideshow": {
     "slide_type": "slide"
    }
   },
   "source": [
    "Recurrences are a way to capture the behavior of recursive algorithms.\n",
    "\n",
    "Key ingredients: \n",
    "\n",
    "- Base case ($n = c$): constant time \n",
    "- Inductive case ($n > c$): recurse on smaller instance and use output to compute solution\n",
    "\n",
    "Actually recursion is a conceptual way to view algorithm execution, and we can reframe an algorithm specification to make it recursive.\n",
    "\n"
   ]
  },
  {
   "cell_type": "code",
   "execution_count": 2,
   "metadata": {
    "scrolled": true,
    "slideshow": {
     "slide_type": "slide"
    }
   },
   "outputs": [
    {
     "name": "stdout",
     "output_type": "stream",
     "text": [
      "[2, 1, 4, 3, 9]\n",
      "[1, 2, 4, 3, 9]\n",
      "[1, 2, 4, 3, 9]\n",
      "[1, 2, 3, 4, 9]\n",
      "[1, 2, 3, 4, 9]\n"
     ]
    },
    {
     "data": {
      "text/plain": [
       "[1, 2, 3, 4, 9]"
      ]
     },
     "execution_count": 2,
     "metadata": {},
     "output_type": "execute_result"
    }
   ],
   "source": [
    "def selection_sort(L):\n",
    "    for i in range(len(L)):\n",
    "        print(L)\n",
    "        m = L.index(min(L[i:]))\n",
    "        L[i], L[m] = L[m], L[i]\n",
    "    return L\n",
    "                   \n",
    "selection_sort([2, 1, 4, 3, 9])"
   ]
  },
  {
   "cell_type": "code",
   "execution_count": 3,
   "metadata": {
    "slideshow": {
     "slide_type": "fragment"
    }
   },
   "outputs": [
    {
     "name": "stdout",
     "output_type": "stream",
     "text": [
      "L=[2, 1, 999, 4, 3]\n",
      "L=[2, 999, 4, 3]\n",
      "L=[999, 4, 3]\n",
      "L=[4, 999]\n",
      "L=[999]\n"
     ]
    },
    {
     "data": {
      "text/plain": [
       "[1, 2, 3, 4, 999]"
      ]
     },
     "execution_count": 3,
     "metadata": {},
     "output_type": "execute_result"
    }
   ],
   "source": [
    "def selection_sort_recursive(L):\n",
    "    print('L=%s' % L)\n",
    "    if (len(L) == 1):\n",
    "        return(L)\n",
    "    else:\n",
    "        m = L.index(min(L))\n",
    "        L[0], L[m] = L[m], L[0]\n",
    "        return [L[0]] + selection_sort_recursive(L[1:])\n",
    "    \n",
    "selection_sort_recursive([2, 1, 999, 4, 3])"
   ]
  },
  {
   "cell_type": "markdown",
   "metadata": {
    "slideshow": {
     "slide_type": "fragment"
    }
   },
   "source": [
    "Are these the same algorithm? Can we give a SPARC specification?"
   ]
  },
  {
   "cell_type": "markdown",
   "metadata": {},
   "source": [
    "<p><span class=\"math display\">\\[\\begin{array}{l}  \n",
    "\\mathit{selectionsort}~~L = \n",
    "\\\\  \n",
    "~~~~~\\texttt{if}~|L| = 1~\\texttt{then}    \n",
    "\\\\  \n",
    "~~~~~~~~~~~~~\\texttt{return}~~L  \n",
    "\\\\  \n",
    "~~~~~~~~~\\texttt{else}\n",
    "\\\\\n",
    "~~~~~~~~~~~~\\texttt{let}\\\\\n",
    "~~~~~~~~~~~~~~~m = \\texttt{minimum element in}~~L\\\\\n",
    "~~~~~~~~~~~~\\texttt{in}\\\\ \n",
    "~~~~~~~~~~~~~~~\\texttt{Cons}(m, (\\mathit{selectionsort~~\\langle x | x\\in L~~and~~x\\neq m \\rangle})) \\\\\n",
    "~~~~~~~~~~~~\\texttt{end} \n",
    "\\end{array}\\]</span></p>\n",
    "\n"
   ]
  },
  {
   "cell_type": "markdown",
   "metadata": {
    "slideshow": {
     "slide_type": "slide"
    }
   },
   "source": [
    "What is the work and why?"
   ]
  },
  {
   "cell_type": "markdown",
   "metadata": {
    "slideshow": {
     "slide_type": "fragment"
    }
   },
   "source": [
    "$\\begin{eqnarray}\n",
    "W(n) &=& W(n-1) + n \\\\\n",
    " &=& W(n-2) + (n-1) + n = W(n-2)+2n-1 \\\\\n",
    "&\\vdots&\n",
    "\\end{eqnarray}$\n"
   ]
  },
  {
   "cell_type": "markdown",
   "metadata": {
    "slideshow": {
     "slide_type": "fragment"
    }
   },
   "source": [
    "$\\begin{eqnarray}\n",
    "W(n) &=& \\sum_{i=1}^n i  \\\\\n",
    "&=& \\frac{n(n+1)}{2}  = \\Theta(n^2)\\\\\n",
    "&\\in& O(n^2).\n",
    "\\end{eqnarray}$\n"
   ]
  },
  {
   "cell_type": "markdown",
   "metadata": {
    "slideshow": {
     "slide_type": "slide"
    }
   },
   "source": [
    "The recurrence for Selection Sort is somewhat simple - what if we have multiple recursive calls and split the input? (This is actually what *divide-and-conquer* algorithms do.)\n",
    "\n",
    "We'll look at methods to solve recurrences in order to obtain big-O bounds for recursive algorithms.\n",
    "\n",
    "We will:\n",
    "- Get intuition for recurrences by looking the recursion tree. \n",
    "\n",
    "- Develop the **brick** method to quickly state asymptotic bounds on a recurrence by looking at the shape of the tree."
   ]
  },
  {
   "cell_type": "markdown",
   "metadata": {
    "slideshow": {
     "slide_type": "slide"
    }
   },
   "source": [
    "Let's look at the specification and recurrence for Merge Sort: \n",
    "\n",
    "<p><span class=\"math display\">\\[\\begin{array}{l}  \n",
    "\\mathit{mergeSort}~a =  \n",
    "\\\\   \n",
    "~~~~\\texttt{if}~|a| \\leq 1~\\texttt{then}  \n",
    "\\\\   \n",
    "~~~~~~~~a  \n",
    "\\\\  \n",
    "~~~~\\texttt{else}  \n",
    "\\\\   \n",
    "~~~~~~~~\\texttt{let}  \n",
    "\\\\  \n",
    "~~~~~~~~~~~~(l,r) = \\mathit{splitMid}~a  \n",
    "\\\\   \n",
    "~~~~~~~~~~~~(l',r') = (\\mathit{mergeSort}~l \\mid\\mid{} \\mathit{mergeSort}~r)  \n",
    "\\\\  \n",
    "~~~~~~~~\\texttt{in}  \n",
    "\\\\   \n",
    "~~~~~~~~~~~~\\mathit{merge} (l',r')  \n",
    "\\\\  \n",
    "~~~~~~~~\\texttt{end}  \n",
    "\\end{array}\\]</span></p>\n",
    "\n",
    "Suppose that the merging step can be done with $O(n)$ work and $O(\\log n)$ span. Then recurrence for the work is: \n",
    "\n",
    "$ \\begin{equation}\n",
    "W(n) = \\begin{cases}\n",
    "  O(1)= c_b, & \\text{if $n=1$} \\\\\n",
    "  2W(n/2) + O(n) = 2W(n/2) + c_1n + c_2, & \\text{otherwise} \n",
    "  \\end{cases}\n",
    "\\end{equation}$\n",
    "\n",
    "How do we solve this recurrence to obtain $W(n) = O(n\\log n)$?\n",
    "\n"
   ]
  },
  {
   "cell_type": "markdown",
   "metadata": {
    "slideshow": {
     "slide_type": "slide"
    }
   },
   "source": [
    "\n",
    "\n",
    "![alttext](figures/mergesort_tree.png)\n",
    "\n",
    "The recursion tree for Merge Sort has linear work at every level except at the leaves. There are a logarithmic number of levels and a linear number of leaves so we obtain an asymptotic bound of $O(n\\log n)$ for the work."
   ]
  },
  {
   "cell_type": "markdown",
   "metadata": {
    "slideshow": {
     "slide_type": "slide"
    }
   },
   "source": [
    "## Solving Recurrences with the Tree Method \n",
    "\n",
    "<br>\n",
    "\n",
    "\n",
    "<div>size at level $i$</div> <div style=\"text-align: right\"> cost at level $i$ </div>\n",
    "\n",
    "![merge-tree.jpg](figures/merge-tree.jpg)\n",
    "\n",
    "### Recipe: \n",
    "1. Determine the cost of each level $i$ to be $c_i$($i$ starts at $0$).\n",
    "2. Determine the number of levels $h$\n",
    "3. Cost = $\\sum_{i=0}^{h} c_i$\n",
    "  - This last step usually involves using properties of series\n",
    "  \n",
    "<br>\n",
    "\n",
    "E.g., for merge sort:\n",
    "\n",
    "- level $i$ contains $2^i$ nodes\n",
    "- each node at level $i$ costs $c_1 \\frac{n}{2^i} + c_2$\n",
    "- so, each level costs $2^i * (c_1 \\frac{n}{2^i} + c_2) = c_1n + 2^i c_2$\n",
    "- since each level reduces size by half, we have $\\log_2n$ levels\n",
    "- so, total cost of tree is:\n",
    "\n",
    "$$W(n) = \\sum_{i=0}^{\\log_2n} (c_1n + 2^i c_2)$$\n",
    "\n",
    "To solve this, we'll make use of bounds for **geometric series**. \n",
    "\n",
    "For $\\alpha > 1$: \n",
    "$\\:\\:\\: \\sum_{i=0}^n \\alpha^i <\\frac{\\alpha}{\\alpha - 1}\\cdot\\alpha^n$\n",
    "\n",
    "e.g., $\\sum_{i=0}^{\\log_2n} 2^i < \\frac{2}{1} * 2^{\\log_2n} = 2n$\n",
    "\n",
    "For $\\alpha < 1$: \n",
    "$\\:\\:\\: \\sum_{i=0}^\\infty \\alpha^i  < \\frac{1}{1-\\alpha}$\n",
    "\n",
    "e.g., $\\sum_{i=0}^{\\log_2n} \\frac{1}{2^i} < 2$\n",
    "\n",
    "\n",
    "<br> plugging in...\n",
    "\n",
    "$$= \\sum_{i=0}^{\\log_2n} (c_1 n + 2^i c_2)$$\n",
    "\n",
    "$$= \\sum_{i=0}^{\\log_2n}c_1 n + \\sum_{i=0}^{\\log_2n} 2^i c_2$$\n",
    "\n",
    "$$= c_1n \\sum_{i=0}^{\\log_2n} 1 + c_2 \\sum_{i=0}^{\\log_2n} 2^i$$\n",
    "\n",
    "$$<c_1n \\log_2n + 2 c_2 n$$\n",
    "\n",
    "$$\\in O(n \\lg n)$$"
   ]
  },
  {
   "cell_type": "markdown",
   "metadata": {
    "slideshow": {
     "slide_type": "slide"
    }
   },
   "source": [
    "What about the span?\n",
    "\n",
    "![alttext](figures/tree.png)\n",
    "\n",
    "\n",
    "The recurrence for the span of Mergesort is:\n",
    "\n",
    "$ \\begin{equation}\n",
    "S(n) = \\begin{cases}\n",
    "  c_3, & \\text{if $n=1$} \\\\\n",
    "  S(n/2) + c_4 \\lg n, & \\text{otherwise} \n",
    "  \\end{cases}\n",
    "\\end{equation}$\n",
    "\n",
    "\n",
    "Since each level of the recursion tree is concurrent and all nodes have the same cost, we have that\n",
    "\n",
    "$ \\begin{align}\n",
    "S(n) & = \\sum_{i=0}^{\\lg n} \\lg\\frac{n}{2^i}\\\\\n",
    "& = \\sum_{i=0}^{\\lg n} (\\lg n - i)\\\\\n",
    "& = \\sum_{i=0}^{\\lg n} (\\lg n) - \\sum_{i=1}^{\\lg n} i\\\\\n",
    "& = \\lg n * (\\lg n+1)  - \\frac{1}{2}\\lg n * (\\lg n+1) \\:\\: (\\hbox{using}\\:\\:\\sum_{i=1}^n = \\frac{n(n+1)}{2})\\\\\n",
    "& = \\frac{1}{2}\\lg^2 n + \\frac{1}{2}  \\lg n\\\\\n",
    "& \\in O(\\lg^2 n)\\\\\n",
    "\\end{align}$\n"
   ]
  },
  {
   "cell_type": "markdown",
   "metadata": {
    "slideshow": {
     "slide_type": "slide"
    }
   },
   "source": [
    "### One More Recurrence\n",
    "    \n",
    "<br>\n",
    "$ \\begin{equation}\n",
    "W(n) = \\begin{cases}\n",
    "  c_b, & \\text{if $n=1$} \\\\\n",
    "  2W(n/2) + O(n^2), & \\text{otherwise} \n",
    "  \\end{cases}\n",
    "\\end{equation}$\n",
    "\n",
    "What is the asymptotic runtime?\n",
    "\n",
    "![alttext](figures/tree.png)\n",
    "\n"
   ]
  },
  {
   "cell_type": "markdown",
   "metadata": {
    "slideshow": {
     "slide_type": "slide"
    }
   },
   "source": [
    "$$W(n) = 2W(n/2) + c_1n^2 + c_2$$\n",
    "\n",
    "<img width=\"70%\" src=\"figures/n_squared.png\"/>\n",
    "\n",
    "$= \\sum_{i=0}^{\\lg n} (c_1 \\frac{n^2}{2^i} + 2^i c_2)$\n",
    "\n",
    "$= c_1 n^2 \\sum_{i=0}^{\\lg n} \\frac{1}{2^i} + c_2 \\sum_{i=0}^{\\lg n} 2^i$\n",
    "\n",
    "$< 2 c_1 n^2 + 2 c_2 n$\n",
    "\n",
    "$\\in O(n^2)$"
   ]
  },
  {
   "cell_type": "markdown",
   "metadata": {
    "slideshow": {
     "slide_type": "slide"
    }
   },
   "source": [
    "So what if branching factor is not 2?\n",
    "\n",
    "$$W(n) = 4 W \\Big(\\frac{n}{2}\\Big) + O(n)$$\n",
    "\n",
    "**costs**\n",
    "\n",
    "- level 0: $c_1n + c_2$\n",
    "- level 1: $4(c_1 \\frac{n}{2} + c_2)$\n",
    "- level 2: $16(c_1 \\frac{n}{4} + c_2)$\n",
    "- level $i$ ?"
   ]
  },
  {
   "cell_type": "markdown",
   "metadata": {
    "slideshow": {
     "slide_type": "fragment"
    }
   },
   "source": [
    "$$4^i(c_1 \\frac{n}{2^i} + c_2)$$\n",
    "\n",
    "<br>\n",
    "\n",
    "still $\\lg n$ levels:, so $W(n)$ is:\n",
    "\n",
    "<br>\n",
    "\n",
    "$$= c_1n \\sum_{i=0}^{\\lg n} \\Big(\\frac{4}{2}\\Big)^i + c_2 \\sum_{i=0}^{\\lg n} 4^i$$\n",
    "\n",
    "$$< 2 c_1 n^2 + \\frac{4}{3} c_2 4^{\\lg n}$$\n",
    "\n",
    "$$(\\hbox{since} \\:\\:\\ \\sum_{i=0}^n \\alpha^i  < \\frac{\\alpha}{\\alpha - 1}\\cdot\\alpha^n)$$\n",
    "\n",
    "$$= 2 c_1 n^2 + \\frac{4}{3} c_2 2^{\\lg n} 2^{\\lg n}$$\n",
    "\n",
    "$$= 2 c_1 n^2 + \\frac{4}{3} c_2 n^2$$\n",
    "\n",
    "$$\\in O(n^2)$$"
   ]
  },
  {
   "cell_type": "markdown",
   "metadata": {
    "slideshow": {
     "slide_type": "skip"
    }
   },
   "source": [
    "## Summary \n",
    "\n",
    "- Algorithm Comparison [**Worse Case**, Asymptotic Analysis] $\\mathcal{O}(),~~ \\Omega(), ~~\\Theta()$ -> Limit Method\n",
    "- Parallelism -> Speedup -> Dependency [**Work $T_1$ \\& Span $T_\\infty$**]\n",
    "- Divide and Conquer -> Greedy Scheduling\n",
    "- Funtional Language [SPARC]\n",
    "- Language based Work-Span model\n",
    "\n"
   ]
  }
 ],
 "metadata": {
  "celltoolbar": "Slideshow",
  "kernelspec": {
   "display_name": "Python 3",
   "language": "python",
   "name": "python3"
  },
  "language_info": {
   "codemirror_mode": {
    "name": "ipython",
    "version": 3
   },
   "file_extension": ".py",
   "mimetype": "text/x-python",
   "name": "python",
   "nbconvert_exporter": "python",
   "pygments_lexer": "ipython3",
   "version": "3.9.5"
  },
  "rise": {
   "autolaunch": true,
   "controls": false,
   "enable_chalkboard": true,
   "scroll": true,
   "theme": "simple",
   "transition": "fade"
  },
  "toc": {
   "base_numbering": 1,
   "nav_menu": {},
   "number_sections": true,
   "sideBar": true,
   "skip_h1_title": true,
   "title_cell": "Table of Contents",
   "title_sidebar": "Contents",
   "toc_cell": true,
   "toc_position": {},
   "toc_section_display": true,
   "toc_window_display": false
  }
 },
 "nbformat": 4,
 "nbformat_minor": 4
}
