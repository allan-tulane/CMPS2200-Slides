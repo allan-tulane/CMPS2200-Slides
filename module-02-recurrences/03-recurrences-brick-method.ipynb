{
 "cells": [
  {
   "cell_type": "code",
   "execution_count": 1,
   "metadata": {
    "code_folding": [],
    "slideshow": {
     "slide_type": "skip"
    }
   },
   "outputs": [
    {
     "data": {
      "text/html": [
       "<style>.prompt{width: 0px; min-width: 0px; visibility: collapse}</style>"
      ],
      "text/plain": [
       "<IPython.core.display.HTML object>"
      ]
     },
     "metadata": {},
     "output_type": "display_data"
    },
    {
     "data": {
      "text/html": [
       "<style>\n",
       "div#notebook {\n",
       " font-family: \"Exo_2\", sans-serif;\n",
       "}\n",
       "\n",
       ".rendered_html h1,\n",
       ".text_cell_render h1 {\n",
       " color: #126dce;\n",
       " font-size: 220%;\n",
       " text-align: center;\n",
       " font-weight: lighter;\n",
       "}\n",
       ".rendered_html h2,\n",
       ".text_cell_render h2 {\n",
       " text-align: center;\n",
       " font-size: 170%;\n",
       " color: #126dce;\n",
       " font-style: normal;\n",
       " font-weight: lighter;\n",
       "}\n",
       ".rendered_html h3,\n",
       ".text_cell_render h3 {\n",
       " font-size: 150%;\n",
       " color: #126dce;\n",
       " font-weight: lighter;\n",
       " text-decoration: italic;\n",
       " font-style: normal;\n",
       "}\n",
       ".rendered_html h4,\n",
       ".text_cell_render h4 {\n",
       " font-size: 120%;\n",
       " color: #126dce;\n",
       " font-weight: underline;\n",
       " font-style: normal;\n",
       "}\n",
       ".rendered_html h5,\n",
       ".text_cell_render h5 {\n",
       " font-size: 100%;\n",
       " color: #2f2f2f;\n",
       " font-weight: lighter;\n",
       " text-decoration: underline;\n",
       "}\n",
       "</style>\n"
      ],
      "text/plain": [
       "<IPython.core.display.HTML object>"
      ]
     },
     "metadata": {},
     "output_type": "display_data"
    }
   ],
   "source": [
    "# setup\n",
    "from IPython.core.display import display,HTML\n",
    "display(HTML('<style>.prompt{width: 0px; min-width: 0px; visibility: collapse}</style>'))\n",
    "display(HTML(open('rise.css').read()))\n",
    "\n",
    "# imports\n",
    "import numpy as np\n",
    "import matplotlib.pyplot as plt\n",
    "import seaborn as sns\n",
    "%matplotlib inline\n",
    "sns.set(style=\"whitegrid\", font_scale=1.5, rc={'figure.figsize':(12, 6)})\n",
    "import time\n"
   ]
  },
  {
   "cell_type": "markdown",
   "metadata": {
    "slideshow": {
     "slide_type": "slide"
    }
   },
   "source": [
    "# CMPS 2200\n",
    "# Introduction to Algorithms\n",
    "\n",
    "## Recurrences - Brick Method\n"
   ]
  },
  {
   "cell_type": "markdown",
   "metadata": {
    "slideshow": {
     "slide_type": "slide"
    }
   },
   "source": [
    "Recurrences can be more general, so how do we get a handle on asymptotic runtimes when the recursion is really complicated?\n",
    "\n",
    "**Key Idea:** The branching properties of the recursion tree determine work at each level and the number of leaves.\n",
    "\n",
    "The **brick method** gives a way to derive asymptotic runtimes by looking at the relationships between parent and child nodes in the recursion tree. This way we only need to worry about the costs of the root and the leaves."
   ]
  },
  {
   "cell_type": "markdown",
   "metadata": {
    "slideshow": {
     "slide_type": "slide"
    }
   },
   "source": [
    "> In the tree method, if the costs grow or decay geometrically across levels, then we need only consider the cost of the root (**decay**), or the total cost of the leaves (**growth**). \n",
    "\n",
    "> If there is no geometric growth or decay then we can calculate the cost of the worst level (often either the root or leaves) and multiply it by the number of levels. \n",
    "\n",
    "This leads to three cases:\n",
    "\n",
    "1. **root dominated**\n",
    "2. **leaf dominated**\n",
    "3. **balanced**\n",
    "\n",
    "> Conveniently, to distinguish these three cases we need only consider the cost of each node in the tree and how it relates to the cost of its children."
   ]
  },
  {
   "cell_type": "markdown",
   "metadata": {
    "slideshow": {
     "slide_type": "slide"
    }
   },
   "source": [
    "The value of $n$ decreases geometrically as we collect the terms in our recurrences. We'll make use of bounds for geometric series. \n",
    "\n",
    "For any $\\alpha > 1$:\n",
    "    \n",
    "$$ \\sum_{i=0}^n \\alpha^i  = \\frac{\\alpha^{n+1}-1}{\\alpha - 1} < \\frac{\\alpha}{\\alpha - 1}\\cdot\\alpha^n$$\n",
    "\n",
    "For $\\alpha < 1$:\n",
    "\n",
    "$$ \\sum_{i=0}^\\infty \\alpha^i  = \\frac{1-\\alpha^{n+1}}{1-\\alpha} < \\frac{1}{1-\\alpha}$$\n",
    "\n"
   ]
  },
  {
   "cell_type": "markdown",
   "metadata": {
    "slideshow": {
     "slide_type": "slide"
    }
   },
   "source": [
    "### Root-dominated\n",
    "\n",
    "For a node $v$ in the recursion tree, let $C(v)$ denote its cost and $D(v)$ denote its children.\n",
    "\n",
    "A recurrence is **root-dominated** if for all $v$, there is an $\\alpha > 1$ such that:\n",
    "\n",
    "$$C(v) \\geq \\alpha \\sum_{u \\in D(v)} C(u)$$\n",
    "\n",
    "The cost of a root dominated recurrence is $O(C(r))$ if $r$ is the root.\n",
    "\n",
    "This is because the cost reduces geometrically as we go toward the leaves, and the total cost bounded by $\\alpha/(\\alpha-1)$ times $C(r)$.\n"
   ]
  },
  {
   "cell_type": "markdown",
   "metadata": {
    "slideshow": {
     "slide_type": "fragment"
    }
   },
   "source": [
    "$$W(n) = 2 W\\Big(\\frac{n}{2}\\Big) + n^2$$\n",
    "\n",
    "$C(\\hbox{root}) = n^2$\n",
    "\n",
    "$C(\\hbox{level}\\:1) = \\Big(\\frac{n}{2}\\Big)^2 + \\Big(\\frac{n}{2}\\Big)^2 = \\frac{n^2}{2}$\n",
    "\n",
    "<br>\n",
    "\n",
    "Cost has **decreased** by a factor of two when descending one level in the tree.\n",
    "\n",
    "<br>\n",
    "\n",
    "so, if $\\alpha \\leftarrow 2$:\n",
    "\n",
    "$C(v) \\ge \\alpha \\sum_{u \\in D(v)} C(u)$\n",
    "\n",
    "$n^2 \\ge 2 * \\frac{n^2}{2}$\n",
    "\n",
    "$n^2 \\ge n^2$\n",
    "\n",
    "<br>\n",
    "\n",
    "Because the cost is asymptotically dominated by the **root**, we need to only consider its cost: $O(n^2)$.\n"
   ]
  },
  {
   "cell_type": "markdown",
   "metadata": {
    "slideshow": {
     "slide_type": "slide"
    }
   },
   "source": [
    "### Leaf-dominated\n",
    "\n",
    "A recurrence is **leaf-dominated** if for all $v$, there is an $\\alpha > 1$ such that:\n",
    "\n",
    "$$C(v) \\leq \\frac{1}{\\alpha} \\sum_{u \\in D(v)} C(u)$$\n",
    "\n",
    "If we have $L$ leaves in the recursion tree, the cost of a leaf dominated recurrence is $O(L)$.\n",
    "\n",
    "This is because the cost increases geometrically as we go toward the leaves, and the total cost is bounded by $\\alpha/(\\alpha-1)$ times $c_b \\cdot L$.\n",
    "\n"
   ]
  },
  {
   "cell_type": "markdown",
   "metadata": {
    "slideshow": {
     "slide_type": "fragment"
    }
   },
   "source": [
    "$$W(n) = 2W\\Big(\\frac{n}{2}\\Big) + \\sqrt{n}$$\n",
    "\n",
    "\n",
    "$C(\\hbox{root}) = \\sqrt{n}$\n",
    "\n",
    "$C(\\hbox{level}\\:1) = \\sqrt{\\Big(\\frac{n}{2}\\Big)} + \\sqrt{\\Big(\\frac{n}{2}\\Big)} = 2 \\frac{\\sqrt{n}}{\\sqrt{2}} = \\sqrt{2}\\sqrt{n}$\n",
    "\n",
    "<br>\n",
    "\n",
    "Cost has **increased** by a factor of $\\sqrt{2}$ when descending one level in the tree.\n",
    "\n",
    "<br>\n",
    "\n",
    "so, if $\\alpha \\leftarrow \\frac{1}{\\sqrt{2}}$:\n",
    "\n",
    "$C(v) \\le \\frac{1}{\\alpha} \\sum_{u \\in D(v)} C(u)$\n",
    "\n",
    "$\\sqrt{n} \\le \\frac{1}{\\sqrt{2}} * \\sqrt{2}\\sqrt{n}$\n",
    "\n",
    "$\\sqrt{n} \\le \\sqrt{n}$\n",
    "\n",
    "<br>\n",
    "\n",
    "Because the cost is asymptotically dominated by the **leaves** (i.e., lowest level of the tree), we need to only consider their cost:\n",
    "\n",
    "<br>\n",
    "\n",
    "- Cost of each leaf is 1 (since $\\sqrt{1}==1$).\n",
    "- Depth of tree is $\\lg{n}$ (since we divide by 2 at each level)\n",
    "- Number of leaves of a binary tree with depth $\\lg{n}$ is $2^{\\lg{n}} = n$\n",
    "\n",
    "<br>\n",
    "So, final cost is $n*1 = O(n)$\n"
   ]
  },
  {
   "cell_type": "markdown",
   "metadata": {
    "slideshow": {
     "slide_type": "slide"
    }
   },
   "source": [
    "### Balanced\n",
    "\n",
    "A recurrence is **balanced** when every level of the recursion tree has the same asymptotic cost. In this case, the recurrence is\n",
    "*number of levels* times *maximum cost per level*.\n",
    "\n"
   ]
  },
  {
   "cell_type": "markdown",
   "metadata": {
    "slideshow": {
     "slide_type": "skip"
    }
   },
   "source": [
    "$O(D(r) \\log n) = O(L \\log n)$.  \n"
   ]
  },
  {
   "cell_type": "markdown",
   "metadata": {
    "slideshow": {
     "slide_type": "fragment"
    }
   },
   "source": [
    "$$W(n) = 2 W\\Big(\\frac{n}{2}\\Big) + n$$\n",
    "\n",
    "$C(\\hbox{root}) = n$\n",
    "\n",
    "$C(\\hbox{level}\\:1) = \\Big(\\frac{n}{2}\\Big) + \\Big(\\frac{n}{2}\\Big) = n$\n",
    "\n",
    "<br>\n",
    "\n",
    "Cost has **remained the same** when descending one level in the tree.\n",
    "\n",
    "So, total cost is *number of levels* times *maximum cost per level*.\n",
    "\n",
    "<br>\n",
    "\n",
    "- Number of levels = $\\lg n$\n",
    "- Maximum cost per level = $n\\:\\:$ (last level: $n$ leaves with cost 1 each; first level: one node with cost $n$)\n",
    "- $O(n \\lg n)$\n"
   ]
  },
  {
   "cell_type": "markdown",
   "metadata": {
    "slideshow": {
     "slide_type": "slide"
    }
   },
   "source": [
    "Let's look at some examples:\n",
    "\n",
    "$$ W(n) = 3 W(n/2) + n $$\n",
    "\n",
    "$$ W(n) = 2 W(n/3) + n $$\n",
    "\n",
    "$$ W(n) = 3 W(n/3) + n $$\n",
    "\n",
    "Do you see a way to count the number of leaves in the recursion tree?\n"
   ]
  },
  {
   "cell_type": "markdown",
   "metadata": {
    "slideshow": {
     "slide_type": "fragment"
    }
   },
   "source": [
    ">Useful observation: If we have a recurrence of the form $W(n) = aW(n/b) + f(n)$, then the number of leaves is $O(a^{\\log_b n})$, or equivalently, $O(n^{log_b a})$."
   ]
  },
  {
   "cell_type": "markdown",
   "metadata": {
    "slideshow": {
     "slide_type": "fragment"
    }
   },
   "source": [
    "$$ W(n) = 3 W(n/2) + n $$\n",
    "\n",
    "This is leaf-dominated, so it is $O(n^{\\log_2 3})$.\n",
    "\n",
    "$$ W(n) = 2 W(n/3) + n $$\n",
    "\n",
    "This is root-dominated, so it is $O(n)$.\n",
    "\n",
    "$$ W(n) = 3 W(n/3) + n $$\n",
    "\n",
    "This is balanced, so it is $O(n \\log n)$.\n"
   ]
  },
  {
   "cell_type": "markdown",
   "metadata": {
    "slideshow": {
     "slide_type": "slide"
    }
   },
   "source": [
    "More examples (some trickier than others):\n",
    "\n",
    "$$ W(n) = W(n - 1) + n $$\n",
    "\n",
    "$$ W(n) = \\sqrt{n} W(\\sqrt{n}) + n^2 $$\n",
    "\n",
    "$$ W(n) = W(\\sqrt{n}) + W(n/2) + n $$\n",
    "\n",
    "$$ W(n) = W(n/2) + W(n/3) + 1 $$\n",
    "\n"
   ]
  }
 ],
 "metadata": {
  "celltoolbar": "Slideshow",
  "kernelspec": {
   "display_name": "Python 3 (ipykernel)",
   "language": "python",
   "name": "python3"
  },
  "language_info": {
   "codemirror_mode": {
    "name": "ipython",
    "version": 3
   },
   "file_extension": ".py",
   "mimetype": "text/x-python",
   "name": "python",
   "nbconvert_exporter": "python",
   "pygments_lexer": "ipython3",
   "version": "3.9.6"
  },
  "rise": {
   "autolaunch": true,
   "controls": false,
   "enable_chalkboard": true,
   "scroll": true,
   "theme": "simple",
   "transition": "fade"
  },
  "toc": {
   "base_numbering": 1,
   "nav_menu": {},
   "number_sections": true,
   "sideBar": true,
   "skip_h1_title": true,
   "title_cell": "Table of Contents",
   "title_sidebar": "Contents",
   "toc_cell": true,
   "toc_position": {},
   "toc_section_display": true,
   "toc_window_display": false
  }
 },
 "nbformat": 4,
 "nbformat_minor": 4
}
