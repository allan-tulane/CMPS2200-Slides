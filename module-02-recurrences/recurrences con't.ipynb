{
 "cells": [
  {
   "cell_type": "code",
   "execution_count": 1,
   "metadata": {
    "code_folding": [],
    "slideshow": {
     "slide_type": "skip"
    }
   },
   "outputs": [
    {
     "data": {
      "text/html": [
       "<style>.prompt{width: 0px; min-width: 0px; visibility: collapse}</style>"
      ],
      "text/plain": [
       "<IPython.core.display.HTML object>"
      ]
     },
     "metadata": {},
     "output_type": "display_data"
    },
    {
     "data": {
      "text/html": [
       "<style>\n",
       "div#notebook {\n",
       " font-family: \"Exo_2\", sans-serif;\n",
       "}\n",
       "\n",
       ".rendered_html h1,\n",
       ".text_cell_render h1 {\n",
       " color: #126dce;\n",
       " font-size: 220%;\n",
       " text-align: center;\n",
       " font-weight: lighter;\n",
       "}\n",
       ".rendered_html h2,\n",
       ".text_cell_render h2 {\n",
       " text-align: center;\n",
       " font-size: 170%;\n",
       " color: #126dce;\n",
       " font-style: normal;\n",
       " font-weight: lighter;\n",
       "}\n",
       ".rendered_html h3,\n",
       ".text_cell_render h3 {\n",
       " font-size: 150%;\n",
       " color: #126dce;\n",
       " font-weight: lighter;\n",
       " text-decoration: italic;\n",
       " font-style: normal;\n",
       "}\n",
       ".rendered_html h4,\n",
       ".text_cell_render h4 {\n",
       " font-size: 120%;\n",
       " color: #126dce;\n",
       " font-weight: underline;\n",
       " font-style: normal;\n",
       "}\n",
       ".rendered_html h5,\n",
       ".text_cell_render h5 {\n",
       " font-size: 100%;\n",
       " color: #2f2f2f;\n",
       " font-weight: lighter;\n",
       " text-decoration: underline;\n",
       "}\n",
       "</style>\n"
      ],
      "text/plain": [
       "<IPython.core.display.HTML object>"
      ]
     },
     "metadata": {},
     "output_type": "display_data"
    }
   ],
   "source": [
    "# setup\n",
    "from IPython.core.display import display,HTML\n",
    "display(HTML('<style>.prompt{width: 0px; min-width: 0px; visibility: collapse}</style>'))\n",
    "display(HTML(open('rise.css').read()))\n",
    "\n",
    "# imports\n",
    "import numpy as np\n",
    "import matplotlib.pyplot as plt\n",
    "import seaborn as sns\n",
    "%matplotlib inline\n",
    "sns.set(style=\"whitegrid\", font_scale=1.5, rc={'figure.figsize':(12, 6)})\n"
   ]
  },
  {
   "cell_type": "markdown",
   "metadata": {
    "slideshow": {
     "slide_type": "slide"
    }
   },
   "source": [
    "# CMPS 2200\n",
    "# Introduction to Algorithms\n",
    "\n",
    "\n",
    "## Recurrences + Summary\n"
   ]
  },
  {
   "cell_type": "markdown",
   "metadata": {
    "slideshow": {
     "slide_type": "slide"
    }
   },
   "source": [
    "### Recursive Algorithm\n",
    "\n",
    "\n",
    "<center>\n",
    "<img src=\"figures/comp_rec.png\" width=\"=54%\"/>\n",
    "</center>\n",
    "\n"
   ]
  },
  {
   "cell_type": "markdown",
   "metadata": {
    "slideshow": {
     "slide_type": "slide"
    }
   },
   "source": [
    "### Tree Method [Summary]\n",
    "\n",
    "$$ \\begin{equation}\n",
    "W(n) = \\begin{cases}\n",
    "  \\mathcal{O}(c_b), & \\text{if $n=c$} \\\\\n",
    "  \\alpha W(\\frac{n}{\\beta}) + \\mathcal{O}(f(n)) \\leq  \\alpha W(\\frac{n}{\\beta}) + c_1f(n) + c_2, & \\text{otherwise} \n",
    "  \\end{cases}\n",
    "\\end{equation}$$\n",
    "\n",
    "\n",
    "> Step 1. What is the **input size** on level $i$? \n",
    "\n",
    "$$\\frac{n}{\\beta^i}$$\n",
    "\n",
    ">Step 2. What is the **cost** of each node on level $i$? \n",
    "\n",
    "$$c_1f(\\frac{n}{\\beta^i})+c_2$$\n",
    "\n",
    ">Step 3. How many nodes are there on level $i$? \n",
    "\n",
    "$$\\alpha^i$$\n",
    "\n",
    "\n",
    ">Step 4. What is the total cost across the level $i$?\n",
    "\n",
    "$$\\alpha^i\\big(c_1f(\\frac{n}{\\beta^i})+c_2\\big)$$\n",
    "\n",
    ">Step 5. How many levels are there in the tree [**Tree Height/Depth**]? Note that Span is positively correlated with Tree Depth.\n",
    "\n",
    "$$\\frac{n}{\\beta^i} = 1 \\Rightarrow {i = \\log_{\\beta}n}$$\n",
    "\n",
    " \n",
    "\n",
    ">Step 6. What is the total cost? \n",
    "\n",
    "$$\\sum_{i=0}^{\\log_{\\beta}n}\\alpha^i\\big(c_1f(\\frac{n}{\\beta^i})+c_2\\big)$$\n",
    "\n",
    "Note that the leave level has $\\alpha^{\\log_\\beta n}$ nodes, or equivalently, $n^{\\log_\\beta \\alpha}$.\n",
    "\n"
   ]
  },
  {
   "cell_type": "markdown",
   "metadata": {
    "slideshow": {
     "slide_type": "slide"
    }
   },
   "source": [
    "### Brick Method\n",
    "\n",
    "To derive asymptotic runtimes by looking at the relationships between parent and child nodes in the recursion tree. This leads to three cases:\n",
    "1. **root dominated**\n",
    "2. **leaf dominated**\n",
    "3. **balanced**\n",
    "\n",
    "> If the costs grow or decay geometrically across levels, then we need only consider the cost of the root (**decay**), or the total cost of the leaves (**growth**). \n",
    "\n",
    "> If there is no geometric growth or decay then we can calculate the cost of the worst level (often either the root or leaves) and multiply it by the number of levels. \n"
   ]
  },
  {
   "cell_type": "markdown",
   "metadata": {
    "slideshow": {
     "slide_type": "slide"
    }
   },
   "source": [
    "The value of $n$ decreases geometrically as we collect the terms in our recurrences. We'll make use of bounds for geometric series. \n",
    "    \n",
    "$$ \\sum_{i=0}^n \\alpha^i = 1+\\alpha+\\cdots+\\alpha^n = \\frac{\\alpha^{n+1}-1}{\\alpha - 1} = \\frac{\\alpha^{n+1}}{\\alpha - 1}+\\frac{1}{1-\\alpha}$$\n",
    "\n",
    "> Case 1: $\\sum_{i=0}^n \\alpha^i < \\frac{\\alpha}{\\alpha - 1}\\cdot\\alpha^n~$ for any $~\\alpha > 1$\n",
    "\n",
    "> Case 2: $\\sum_{i=0}^n \\alpha^i < \\frac{1}{1-\\alpha}~$ for any $~0<\\alpha < 1$\n",
    "\n",
    "$$\\Rightarrow C(\\mathrm{level}_i) = \\alpha^iC(\\mathrm{root}),~~~~~C(\\mathrm{leave}) = \\alpha^{i_d}C(\\mathrm{root})$$"
   ]
  },
  {
   "cell_type": "markdown",
   "metadata": {
    "slideshow": {
     "slide_type": "slide"
    }
   },
   "source": [
    "### Root-dominated\n",
    "\n",
    "For a node $v$ in the recursion tree, let $C(v)$ denote its cost and $D(v)$ denote its children.\n",
    "\n",
    "A recurrence is **root-dominated** if for all $v$, there is an $\\alpha > 1$ such that:\n",
    "\n",
    "$$C(v) \\geq \\alpha \\sum_{u \\in D(v)} C(u)$$\n",
    "\n",
    "The cost of a root dominated recurrence is $O(C(r))$ if $r$ is the root.\n",
    "\n",
    "This is because the cost reduces geometrically as we go toward the leaves, and the total cost bounded by $\\alpha/(\\alpha-1)$ times $C(r)$.\n"
   ]
  },
  {
   "cell_type": "markdown",
   "metadata": {
    "slideshow": {
     "slide_type": "fragment"
    }
   },
   "source": [
    "$$W(n) = 2 W\\Big(\\frac{n}{2}\\Big) + n^2$$\n",
    "\n",
    "$C(\\hbox{root}) = n^2$\n",
    "\n",
    "$C(\\hbox{level}\\:1) = \\Big(\\frac{n}{2}\\Big)^2 + \\Big(\\frac{n}{2}\\Big)^2 = \\frac{n^2}{2}$\n",
    "\n",
    "$C(\\hbox{level}\\:2) = \\Big(\\frac{n}{4}\\Big)^2 + \\Big(\\frac{n}{4}\\Big)^2 + \\Big(\\frac{n}{4}\\Big)^2 + \\Big(\\frac{n}{4}\\Big)^2= \\frac{n^2}{4}$\n",
    "\n",
    "\n",
    "\n",
    "<br>\n",
    "\n",
    "Cost has **decreased** by a factor of two when descending one level in the tree.\n",
    "\n",
    "<br>\n",
    "\n",
    "so, if $\\alpha \\leftarrow 2$:\n",
    "\n",
    "$C(v) \\ge \\alpha \\sum_{u \\in D(v)} C(u)$\n",
    "\n",
    "$n^2 \\ge 2 * \\frac{n^2}{2}$\n",
    "\n",
    "$n^2 \\ge n^2$\n",
    "\n",
    "<br>\n",
    "\n",
    "Because the cost is asymptotically dominated by the **root**, we need to only consider its cost: $O(n^2)$.\n"
   ]
  },
  {
   "cell_type": "markdown",
   "metadata": {
    "slideshow": {
     "slide_type": "slide"
    }
   },
   "source": [
    "### Leaf-dominated\n",
    "\n",
    "A recurrence is **leaf-dominated** if for all $v$, there is an $\\alpha > 1$ such that:\n",
    "\n",
    "$$C(v) \\leq \\frac{1}{\\alpha} \\sum_{u \\in D(v)} C(u)$$\n",
    "\n",
    "If we have $L$ leaves in the recursion tree, the cost of a leaf dominated recurrence is $O(L)$.\n",
    "\n",
    "This is because the cost increases geometrically as we go toward the leaves, and the total cost is bounded by $\\alpha/(\\alpha-1)$ times $c_b \\cdot L$.\n",
    "\n"
   ]
  },
  {
   "cell_type": "markdown",
   "metadata": {
    "slideshow": {
     "slide_type": "fragment"
    }
   },
   "source": [
    "$$W(n) = 2W\\Big(\\frac{n}{2}\\Big) + \\sqrt{n}$$\n",
    "\n",
    "\n",
    "$C(\\hbox{root}) = \\sqrt{n}$\n",
    "\n",
    "$C(\\hbox{level}\\:1) = \\sqrt{\\Big(\\frac{n}{2}\\Big)} + \\sqrt{\\Big(\\frac{n}{2}\\Big)} = 2 \\frac{\\sqrt{n}}{\\sqrt{2}} = \\sqrt{2}\\sqrt{n}$\n",
    "\n",
    "$C(\\hbox{level}\\:2) = \\sqrt{\\Big(\\frac{n}{4}\\Big)} + \\sqrt{\\Big(\\frac{n}{4}\\Big)} + \\sqrt{\\Big(\\frac{n}{4}\\Big)} + \\sqrt{\\Big(\\frac{n}{4}\\Big)} = 2\\sqrt{n}$\n",
    "\n",
    "<br>\n",
    "\n",
    "Cost has **increased** by a factor of $\\sqrt{2}$ when descending one level in the tree.\n",
    "\n",
    "<br>\n",
    "\n",
    "so, if $\\alpha \\leftarrow \\frac{1}{\\sqrt{2}}$:\n",
    "\n",
    "$C(v) \\le \\frac{1}{\\alpha} \\sum_{u \\in D(v)} C(u)$\n",
    "\n",
    "$\\sqrt{n} \\le \\frac{1}{\\sqrt{2}} * \\sqrt{2}\\sqrt{n}$\n",
    "\n",
    "$\\sqrt{n} \\le \\sqrt{n}$\n",
    "\n",
    "<br>\n",
    "\n",
    "Because the cost is asymptotically dominated by the **leaves** (i.e., lowest level of the tree), we need to only consider their cost:\n",
    "\n",
    "<br>\n",
    "\n",
    "- Cost of each leaf is 1 (since $\\sqrt{1}==1$).\n",
    "- Depth of tree is $\\log_2{n}$ (since we divide by 2 at each level) $\\Rightarrow \\lg n$\n",
    "- Number of leaves of a binary tree with depth $\\log_2{n}$ is $2^{\\log_2{n}} = n$\n",
    "\n",
    "<br>\n",
    "So, final cost is $n*1 = O(n)$\n"
   ]
  },
  {
   "cell_type": "markdown",
   "metadata": {
    "slideshow": {
     "slide_type": "slide"
    }
   },
   "source": [
    "### Balanced\n",
    "\n",
    "A recurrence is **balanced** when every level of the recursion tree has the same asymptotic cost. In this case, the recurrence is\n",
    "*number of levels* times *maximum cost per level* (often either the root or leaves).\n",
    "\n"
   ]
  },
  {
   "cell_type": "markdown",
   "metadata": {
    "slideshow": {
     "slide_type": "fragment"
    }
   },
   "source": [
    "$$W(n) = 2 W\\Big(\\frac{n}{2}\\Big) + n$$\n",
    "\n",
    "$C(\\hbox{root}) = n$\n",
    "\n",
    "$C(\\hbox{level}\\:1) = \\Big(\\frac{n}{2}\\Big) + \\Big(\\frac{n}{2}\\Big) = n$\n",
    "\n",
    "<br>\n",
    "\n",
    "Cost has **remained the same** when descending one level in the tree.\n",
    "\n",
    "So, total cost is *number of levels* times *maximum cost per level*.\n",
    "\n",
    "<br>\n",
    "\n",
    "- Number of levels = $\\lg n$\n",
    "- Maximum cost per level = $n\\:\\:$ (last level: $n$ leaves with cost 1 each; first level: one node with cost $n$)\n",
    "- $O(n \\lg n)$\n"
   ]
  },
  {
   "cell_type": "markdown",
   "metadata": {
    "slideshow": {
     "slide_type": "slide"
    }
   },
   "source": [
    "Let's look at some examples:\n",
    "\n",
    "$$ W(n) = 3 W(n/2) + n $$\n",
    "\n",
    "$$ W(n) = 2 W(n/3) + n $$\n",
    "\n",
    "$$ W(n) = 3 W(n/3) + n $$\n",
    "\n",
    "Do you see a way to count the number of leaves in the recursion tree?\n"
   ]
  },
  {
   "cell_type": "markdown",
   "metadata": {
    "slideshow": {
     "slide_type": "fragment"
    }
   },
   "source": [
    "$$ W(n) = 3 W(n/2) + n $$\n",
    "\n",
    "This is leaf-dominated, so it is $O(n^{\\log_2 3})$.\n",
    "\n",
    "$$ W(n) = 2 W(n/3) + n $$\n",
    "\n",
    "This is root-dominated, so it is $O(n)$.\n",
    "\n",
    "$$ W(n) = 3 W(n/3) + n $$\n",
    "\n",
    "This is balanced, so it is $O(n \\log n)$.\n"
   ]
  },
  {
   "cell_type": "markdown",
   "metadata": {
    "slideshow": {
     "slide_type": "slide"
    }
   },
   "source": [
    "More examples (some trickier than others): **Pay Attention to Base Case of Recurrence 3/4**\n",
    "\n",
    "$$ W(n) = W(n - 1) + n $$ \n",
    "\n",
    "$$S(n) = S(n/2)+\\lg n$$\n",
    "\n",
    "$$ W(n) = \\sqrt{n} W(\\sqrt{n}) + n^2 $$\n",
    "\n",
    "$$ W(n) = W(\\sqrt{n}) + W(n/2) + n $$\n",
    "\n",
    "$$ W(n) = W(n/2) + W(n/3) + 1 $$\n"
   ]
  },
  {
   "cell_type": "markdown",
   "metadata": {
    "slideshow": {
     "slide_type": "fragment"
    }
   },
   "source": [
    "$$ W(n) = W(n - 1) + n $$\n",
    "\n",
    "This is actually a balanced recurrence since every level has the asymptotic same cost and there are $n$ levels - the recurrence is $O(n^2)$. \n",
    "\n",
    "$$ S(n) = S(n/2) + \\lg n $$\n",
    "\n",
    "This is actually a balanced recurrence since every level has the asymptotic same cost and there are $n$ levels - the recurrence is $O(\\lg^2 n)$. \n",
    "\n",
    "$$ W(n) = \\sqrt{n} W(\\sqrt{n}) + n^2 $$\n",
    "\n",
    "This is root-dominated so it is $O(n^2)$.\n",
    "\n",
    "$$ W(n) = W(\\sqrt{n}) + W(n/2) + n $$\n",
    "\n",
    "This is root-dominateed so it is $O(n)$.\n",
    "\n",
    "$$ W(n) = W(n/2) + W(n/3) + 1 $$\n",
    "\n",
    "This recurrence is a little tricky - while it is leaf-dominated we need to calculate the number of leaves.\n"
   ]
  },
  {
   "cell_type": "markdown",
   "metadata": {
    "slideshow": {
     "slide_type": "slide"
    }
   },
   "source": [
    "# Summary\n",
    "\n",
    "- Algorithm Design [**efficiency** - runs quickly, requires little memory]\n",
    "\n",
    "- Algorithm Comparison [**Worse Case**, **Average Case**, **Best Case**], \n",
    "\n",
    "- **Asymptotic Dominance** [input size $n\\rightarrow\\infty$] -> Limit Method\n",
    ">Upper Bound: $\\mathcal{O}()$, Lower Bound: $\\Omega()$, Tight Bound: $\\Theta()$ \n",
    "\n",
    "![dag-sum](figures/an.png) \n",
    "\n",
    "- Parallelism -> Speedup [$\\frac{T(S)}{T(P)}$]-> Dependency [**Work $T_1$ \\& Span $T_\\infty$**]\n",
    "> When only $p$ processors are available, $T_p <\\mathcal{O}(\\frac{T_1}{p}+T_\\infty)$ [**Amdahl's Law**]\n",
    "\n",
    "- Funtional Language [SPARC] -> Pure function -> No Side Effects [**Benign Effects**] -> Parallelism\n",
    "\n",
    "- Language based Work-Span model \n",
    "> Sequential $(e_1,~e_2)$ [**Add work and span**] and Parallel $(e_1~||~e_2)$ [Add work but **take the maximum span**]<br>\n",
    "> For a given expression $e$ [a series of statements], we will analyze the work $W(e)$ and span $S(e)$\n",
    "\n",
    "\n",
    "\n",
    "- Divide and Conquer [One solution] -> Reccursive Algorithms -> Recurrences [Tree Method & Brick Method]\n"
   ]
  }
 ],
 "metadata": {
  "celltoolbar": "Slideshow",
  "kernelspec": {
   "display_name": "Python 3 (ipykernel)",
   "language": "python",
   "name": "python3"
  },
  "language_info": {
   "codemirror_mode": {
    "name": "ipython",
    "version": 3
   },
   "file_extension": ".py",
   "mimetype": "text/x-python",
   "name": "python",
   "nbconvert_exporter": "python",
   "pygments_lexer": "ipython3",
   "version": "3.9.7"
  },
  "rise": {
   "autolaunch": true,
   "controls": false,
   "enable_chalkboard": true,
   "scroll": true,
   "theme": "simple",
   "transition": "fade"
  },
  "toc": {
   "base_numbering": 1,
   "nav_menu": {},
   "number_sections": true,
   "sideBar": true,
   "skip_h1_title": true,
   "title_cell": "Table of Contents",
   "title_sidebar": "Contents",
   "toc_cell": true,
   "toc_position": {},
   "toc_section_display": true,
   "toc_window_display": false
  }
 },
 "nbformat": 4,
 "nbformat_minor": 4
}
