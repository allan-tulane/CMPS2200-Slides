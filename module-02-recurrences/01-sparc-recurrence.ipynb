{
 "cells": [
  {
   "cell_type": "code",
   "execution_count": 1,
   "metadata": {
    "code_folding": [],
    "slideshow": {
     "slide_type": "skip"
    }
   },
   "outputs": [
    {
     "name": "stderr",
     "output_type": "stream",
     "text": [
      "/var/folders/8t/f5lr_py56_78f39pmpx4l3sm0000gn/T/ipykernel_1338/1949893161.py:2: DeprecationWarning: Importing display from IPython.core.display is deprecated since IPython 7.14, please import from IPython display\n",
      "  from IPython.core.display import display,HTML\n"
     ]
    },
    {
     "data": {
      "text/html": [
       "<style>.prompt{width: 0px; min-width: 0px; visibility: collapse}</style>"
      ],
      "text/plain": [
       "<IPython.core.display.HTML object>"
      ]
     },
     "metadata": {},
     "output_type": "display_data"
    },
    {
     "data": {
      "text/html": [
       "<style>\n",
       "div#notebook {\n",
       " font-family: \"Exo_2\", sans-serif;\n",
       "}\n",
       "\n",
       ".rendered_html h1,\n",
       ".text_cell_render h1 {\n",
       " color: #126dce;\n",
       " font-size: 220%;\n",
       " text-align: center;\n",
       " font-weight: lighter;\n",
       "}\n",
       ".rendered_html h2,\n",
       ".text_cell_render h2 {\n",
       " text-align: center;\n",
       " font-size: 170%;\n",
       " color: #126dce;\n",
       " font-style: normal;\n",
       " font-weight: lighter;\n",
       "}\n",
       ".rendered_html h3,\n",
       ".text_cell_render h3 {\n",
       " font-size: 150%;\n",
       " color: #126dce;\n",
       " font-weight: lighter;\n",
       " text-decoration: italic;\n",
       " font-style: normal;\n",
       "}\n",
       ".rendered_html h4,\n",
       ".text_cell_render h4 {\n",
       " font-size: 120%;\n",
       " color: #126dce;\n",
       " font-weight: underline;\n",
       " font-style: normal;\n",
       "}\n",
       ".rendered_html h5,\n",
       ".text_cell_render h5 {\n",
       " font-size: 100%;\n",
       " color: #2f2f2f;\n",
       " font-weight: lighter;\n",
       " text-decoration: underline;\n",
       "}\n",
       "</style>\n"
      ],
      "text/plain": [
       "<IPython.core.display.HTML object>"
      ]
     },
     "metadata": {},
     "output_type": "display_data"
    }
   ],
   "source": [
    "# setup\n",
    "from IPython.core.display import display,HTML\n",
    "display(HTML('<style>.prompt{width: 0px; min-width: 0px; visibility: collapse}</style>'))\n",
    "display(HTML(open('rise.css').read()))\n",
    "# imports\n",
    "import numpy as np\n",
    "import matplotlib.pyplot as plt\n",
    "import seaborn as sns\n",
    "%matplotlib inline\n",
    "sns.set(style=\"whitegrid\", font_scale=1.5, rc={'figure.figsize':(12, 6)})\n"
   ]
  },
  {
   "cell_type": "markdown",
   "metadata": {
    "slideshow": {
     "slide_type": "slide"
    }
   },
   "source": [
    "# CMPS 2200\n",
    "# Introduction to Algorithms\n",
    "\n",
    "##  SPARC and Recurrence\n"
   ]
  },
  {
   "cell_type": "markdown",
   "metadata": {
    "slideshow": {
     "slide_type": "slide"
    }
   },
   "source": [
    "### Recursive Algorithms for Parallelism\n",
    "\n",
    "> We calculate work $W = T_1$ and span $S = T_\\infty$. This is also defined as **Work-Span Model** to analyze parallel algorithms.\n",
    "\n",
    "> Parallelism $\\dfrac{W}{S}$.\n",
    "\n",
    "### Work Efficiency\n",
    "\n",
    "> A parallel algorithm is (asymptotically) **work efficient** if the work is asymptotically the same as the time for an optimal sequential algorithm that solves the same problem.\n",
    "\n",
    "### Amdahl's Law\n",
    "\n",
    "\n",
    "$$\\dfrac{T_1}{T_p} = \\frac{1}{S + \\dfrac{1 − S}{p}} < \\frac{1}{S}, \\text{where $S$ is the amount of time that cannot be parallelized.}$$\n",
    "\n",
    "### Greedy Schedler \n",
    "\n",
    "\n",
    "<a href=\"https://stanford.edu/~rezab/dao/notes/lecture01/cme323_lec1.pdf\">**Brent's Theorem**</a>: When we only have $P$ processors, the time $T_P$ to perform computation is bounded by:\n",
    "\n",
    "$$T_P < \\frac{T_1}{P} + T_\\infty = \\frac{W}{P} + S $$ \n",
    "\n",
    "\n",
    "<br>\n",
    "\n",
    "$$\\Rightarrow T_P \\in \\mathcal{O}(\\frac{W}{P} + S)$$\n",
    "\n",
    "\n",
    "<br>\n",
    "<br>\n",
    "\n",
    "\n",
    "Because we know:  \n",
    "- $T_P \\ge \\frac{W}{P}$, since that would be the optimal division of work to processors\n",
    "- $T_P \\ge S = T_\\infty$, by the definition of span\n",
    "\n",
    "we can conclude that the best we can hope for is:\n",
    "\n",
    "$$T_P \\ge \\mathrm{max}(\\frac{W}{P},S)$$\n",
    "\n",
    "Therefore, the time using a greedy scheduler is bounded by:\n",
    "\n",
    "$$ \\mathrm{max}(\\frac{W}{P},S) \\le T_P < \\frac{W}{P} + S$$\n",
    "\n",
    "<br>\n",
    "How good is greedy? How close is $(\\frac{W}{P} + S)$ to $\\mathrm{max}(\\frac{W}{P},S)$?"
   ]
  },
  {
   "cell_type": "markdown",
   "metadata": {
    "slideshow": {
     "slide_type": "fragment"
    }
   },
   "source": [
    "Recall parallelism: $\\overline{P} = \\frac{W}{S}$. So, **the greater $\\overline{P}$ is than $P$**, the closer to optimal we get.\n",
    "\n",
    "$$\\max(\\frac{W}{P}, S) = \\frac{W}{P}$$\n",
    "\n",
    "$$\\frac{W}{P} + S = \\frac{W}{P}+\\frac{W}{\\overline{P}} = \\frac{W}{P}(1+\\frac{P}{\\overline{P}}) ~~~\\approx \\frac{W}{P}$$\n",
    "\n",
    "\n"
   ]
  },
  {
   "cell_type": "markdown",
   "metadata": {
    "slideshow": {
     "slide_type": "slide"
    }
   },
   "source": [
    "## Work-Span Model\n",
    "\n",
    "For a given expression $e$, $\\color{blue}{\\text{a series of statements or a sequence of instructions}}$, we will analyze the work $W(e)$ and span $S(e)$ \n",
    "\n",
    "All we have seen before is Python code.\n",
    "\n",
    "\n",
    "```python\n",
    "\n",
    "# recursive, serial\n",
    "def sum_list_recursive(mylist):\n",
    "    print('summing %s' % mylist)\n",
    "    if len(mylist) == 1:\n",
    "        return mylist[0]\n",
    "    return (\n",
    "        sum_list_recursive(mylist[:len(mylist)//2]) +\n",
    "        sum_list_recursive(mylist[len(mylist)//2:])\n",
    "    )\n",
    "```\n",
    "\n",
    "\n",
    "\n",
    "```python\n",
    "\n",
    "\n",
    "# recursive, parallel\n",
    "\n",
    "from multiprocessing.pool import ThreadPool\n",
    "\n",
    "def in_parallel(f1, arg1, f2, arg2):\n",
    "    with ThreadPool(2) as pool:\n",
    "        result1 = pool.apply_async(f1, [arg1])  # launch f1\n",
    "        result2 = pool.apply_async(f2, [arg2])  # launch f2\n",
    "        return (result1.get(), result2.get())   # wait for both to finish\n",
    "\n",
    "def sum_list_recursive_parallel(mylist):\n",
    "    result1, result2 = in_parallel(\n",
    "        sum_list_recursive_parallel, mylist[:len(mylist)//2],\n",
    "        sum_list_recursive_parallel, mylist[len(mylist)//2:]\n",
    "    )\n",
    "    # combine results\n",
    "    return result1 + result2\n",
    "\n",
    "\n",
    "```"
   ]
  },
  {
   "cell_type": "markdown",
   "metadata": {
    "slideshow": {
     "slide_type": "slide"
    }
   },
   "source": [
    "## SPARC\n",
    "\n",
    "Our textbook uses a **''pseudo code''** language called **SPARC**\n",
    "- based on [Standard ML](https://en.wikipedia.org/wiki/Standard_ML) [ML: Meta language]\n",
    "- functional language\n",
    "\n",
    "When possible, we will also show Python versions of key algorithms.\n",
    "\n",
    "\n"
   ]
  },
  {
   "cell_type": "markdown",
   "metadata": {
    "slideshow": {
     "slide_type": "slide"
    }
   },
   "source": [
    "## Example SPARC program\n",
    "\n",
    "\n",
    "<br><br>\n",
    "<p> <span>\\[\\begin{array}{l}  \n",
    "\\texttt{let}\\\\   \n",
    "~~~~x = 2 + 3\\\\  \n",
    "~~~~f (w) = (w * 4, w - 2)\\\\  \n",
    "~~~~(y,z) = f(x-1)\\\\  \n",
    "\\texttt{in}\\\\   \n",
    "~~~~x + y + z\\\\  \n",
    "\\texttt{end}   \n",
    "\\end{array}\\]</span></p>\n",
    "<br><br>\n",
    "\n",
    "<br><br>\n",
    "**binding**: associate entities (data or code) with identifiers.\n",
    "\n",
    "<br>\n",
    "\n",
    "**let expression:**\n",
    "\n",
    "**let**  \n",
    "$\\:\\: b^+$  \n",
    "**in**  \n",
    "$\\:\\:e$  \n",
    "**end**\n",
    "\n",
    "Expression $e$ is applied using the bindings defined inside **let**.\n",
    "\n",
    "<br><br>\n",
    "**expression** *e*: describes a computation  \n",
    "- **evaluating** an expression produces its value\n",
    "\n",
    "<br><br>\n",
    "$x = 2 + 3 = 5$  \n",
    "$f(4) \\rightarrow (16, 2)$  \n",
    "$x + y + z= 5 + 16 + 2 = 23$\n",
    "\n",
    "\n",
    "\n",
    "\n",
    "\n"
   ]
  },
  {
   "cell_type": "markdown",
   "metadata": {
    "slideshow": {
     "slide_type": "slide"
    }
   },
   "source": [
    "### What does this do?\n",
    "\n",
    "<p><span class=\"math display\">\\[\\begin{array}{l}  \n",
    "\\texttt{let}\\\\  \n",
    "~~~~f(i) = \\texttt{if} ~(i < 2) ~\\texttt{then}~ i ~\\texttt{else}~ i  *   \n",
    "f(i - 1) \\\\  \n",
    "\\texttt{in} \\\\   \n",
    "~~~~f(5) \\\\  \n",
    "\\texttt{end}   \n",
    "\\end{array}\\]</span> </p>\n",
    "\n"
   ]
  },
  {
   "cell_type": "code",
   "execution_count": 1,
   "metadata": {
    "slideshow": {
     "slide_type": "fragment"
    }
   },
   "outputs": [
    {
     "data": {
      "text/plain": [
       "120"
      ]
     },
     "execution_count": 1,
     "metadata": {},
     "output_type": "execute_result"
    }
   ],
   "source": [
    "def factorial(i):\n",
    "    if i<2:\n",
    "        return i\n",
    "    else:\n",
    "        return i*factorial(i-1)\n",
    "    \n",
    "factorial(5)"
   ]
  },
  {
   "cell_type": "markdown",
   "metadata": {
    "slideshow": {
     "slide_type": "slide"
    }
   },
   "source": [
    "## Composition [SPARC]\n",
    "\n",
    "\n",
    "\n",
    "\n",
    "<img src=\"figures/composition.png\" width=\"50%\" />\n",
    "\n",
    "\n",
    "-   $(e_1, e_2)$: Sequential Composition\n",
    "\n",
    "    -   Add work and span\n",
    "\n",
    "-   $(e_1 || e_2)$: Parallel Composition\n",
    "\n",
    "    -   Add work but **take the maximum span**\n",
    "    \n",
    "    \n",
    "\n",
    "### parallel composition: $(e_1 || e_2)$\n",
    "\n",
    "- $W(e_1 || e_2) = 1 + W(e_1) + W(e_2)$  \n",
    "- $S(e_1 || e_2) = 1 + \\max(S(e_1), S(e_2))$  "
   ]
  },
  {
   "cell_type": "markdown",
   "metadata": {
    "slideshow": {
     "slide_type": "slide"
    }
   },
   "source": [
    "Let's look at the specification and recurrence for Summing List: \n",
    "\n",
    "\n",
    "\n",
    "<p><span class=\"math display\">\\[\\begin{array}{l}  \n",
    "\\mathit{sumList}~a =  \n",
    "\\\\   \n",
    "~~~~\\texttt{if}~|a| \\leq 1~\\texttt{then}  \n",
    "\\\\   \n",
    "~~~~~~~~a  \n",
    "\\\\  \n",
    "~~~~\\texttt{else}  \n",
    "\\\\   \n",
    "~~~~~~~~\\texttt{let}  \n",
    "\\\\  \n",
    "~~~~~~~~~~~~(l,r) = \\mathit{splitMid}~a  \n",
    "\\\\   \n",
    "~~~~~~~~~~~~(l',r') = (\\mathit{sumList}~l \\mid\\mid{} \\mathit{sumList}~r) \n",
    "\\\\  \n",
    "~~~~~~~~\\texttt{in}  \n",
    "\\\\   \n",
    "~~~~~~~~~~~~l'+r'  \n",
    "\\\\  \n",
    "~~~~~~~~\\texttt{end}  \n",
    "\\end{array}\\]</span></p>\n",
    "\n"
   ]
  },
  {
   "cell_type": "markdown",
   "metadata": {
    "slideshow": {
     "slide_type": "slide"
    }
   },
   "source": [
    "### Recurrence\n",
    "Recurrences are a way to capture the behavior of recursive algorithms.\n",
    "\n",
    "Key ingredients: \n",
    "- Base case ($n = c$): constant time \n",
    "- Inductive case ($n > c$): recurse on smaller instance and use output to compute solution\n",
    "\n",
    "\n",
    "<p><span class=\"math display\">\\[\\begin{array}{l}  \n",
    "\\mathit{sumList}~a =  \n",
    "\\\\   \n",
    "~~~~\\texttt{if}~|a| \\leq 1~\\texttt{then}  \n",
    "\\\\   \n",
    "~~~~~~~~a  \n",
    "\\\\  \n",
    "~~~~\\texttt{else}  \n",
    "\\\\   \n",
    "~~~~~~~~\\texttt{let}  \n",
    "\\\\  \n",
    "~~~~~~~~~~~~(l,r) = \\mathit{splitMid}~a  \n",
    "\\\\   \n",
    "~~~~~~~~~~~~(l',r') = (\\mathit{sumList}~l \\mid\\mid{} \\mathit{sumList}~r) \n",
    "\\\\  \n",
    "~~~~~~~~\\texttt{in}  \n",
    "\\\\   \n",
    "~~~~~~~~~~~~l'+r'  \n",
    "\\\\  \n",
    "~~~~~~~~\\texttt{end}  \n",
    "\\end{array}\\]</span></p>\n",
    "\n",
    "\n",
    "#### Previously,\n",
    "\n",
    "<img src=\"figures/dag.png\" width=\"70%\" />\n",
    "\n",
    "\n",
    "\n",
    "> **Work** is the number of node: $3n-2 \\in O(n)$\n",
    "\n",
    "> **span** is the longest dependency: $2\\log_2(n) \\in O(\\log n)$\n",
    "\n",
    "\n",
    "<span style=\"color:red\">**Question**</span>: How can we use recurrence to calculate the work and span?\n",
    "\n",
    "> The idea is if we can draw the relationship based on the reccurence.\n",
    "\n",
    "\n",
    "<br>\n",
    "\n",
    "<br>\n",
    "\n",
    "<br>\n"
   ]
  },
  {
   "cell_type": "markdown",
   "metadata": {
    "slideshow": {
     "slide_type": "slide"
    }
   },
   "source": [
    "$ \\begin{equation}\n",
    "W(n) = \\begin{cases}\n",
    "  1, & \\text{if $n=1$} \\\\\n",
    "  2W(n/2) + 1, & \\text{otherwise} \n",
    "  \\end{cases}\n",
    "\\end{equation}$\n",
    "\n",
    "How do we solve this recurrence to obtain $W(n) = O(n)$? What about the span?\n",
    "\n",
    "<br>\n",
    "\n",
    "$ \\begin{equation}\n",
    "S(n) = \\begin{cases}\n",
    "  1, & \\text{if $n=1$} \\\\\n",
    "  S(n/2) + 1, & \\text{otherwise} \n",
    "  \\end{cases}\n",
    "\\end{equation}$\n",
    "\n"
   ]
  }
 ],
 "metadata": {
  "celltoolbar": "Slideshow",
  "kernelspec": {
   "display_name": "Python 3 (ipykernel)",
   "language": "python",
   "name": "python3"
  },
  "language_info": {
   "codemirror_mode": {
    "name": "ipython",
    "version": 3
   },
   "file_extension": ".py",
   "mimetype": "text/x-python",
   "name": "python",
   "nbconvert_exporter": "python",
   "pygments_lexer": "ipython3",
   "version": "3.9.6"
  },
  "rise": {
   "autolaunch": true,
   "controls": false,
   "enable_chalkboard": true,
   "scroll": true,
   "theme": "simple",
   "transition": "fade"
  },
  "toc": {
   "base_numbering": 1,
   "nav_menu": {},
   "number_sections": true,
   "sideBar": true,
   "skip_h1_title": true,
   "title_cell": "Table of Contents",
   "title_sidebar": "Contents",
   "toc_cell": true,
   "toc_position": {},
   "toc_section_display": true,
   "toc_window_display": false
  }
 },
 "nbformat": 4,
 "nbformat_minor": 4
}
