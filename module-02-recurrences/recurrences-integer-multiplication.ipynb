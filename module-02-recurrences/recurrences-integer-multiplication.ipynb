{
 "cells": [
  {
   "cell_type": "code",
   "execution_count": 1,
   "metadata": {
    "code_folding": [],
    "slideshow": {
     "slide_type": "skip"
    }
   },
   "outputs": [
    {
     "data": {
      "text/html": [
       "<style>.prompt{width: 0px; min-width: 0px; visibility: collapse}</style>"
      ],
      "text/plain": [
       "<IPython.core.display.HTML object>"
      ]
     },
     "metadata": {},
     "output_type": "display_data"
    },
    {
     "data": {
      "text/html": [
       "<style>\n",
       "div#notebook {\n",
       " font-family: \"Exo_2\", sans-serif;\n",
       "}\n",
       "\n",
       ".rendered_html h1,\n",
       ".text_cell_render h1 {\n",
       " color: #126dce;\n",
       " font-size: 220%;\n",
       " text-align: center;\n",
       " font-weight: lighter;\n",
       "}\n",
       ".rendered_html h2,\n",
       ".text_cell_render h2 {\n",
       " text-align: center;\n",
       " font-size: 170%;\n",
       " color: #126dce;\n",
       " font-style: normal;\n",
       " font-weight: lighter;\n",
       "}\n",
       ".rendered_html h3,\n",
       ".text_cell_render h3 {\n",
       " font-size: 150%;\n",
       " color: #126dce;\n",
       " font-weight: lighter;\n",
       " text-decoration: italic;\n",
       " font-style: normal;\n",
       "}\n",
       ".rendered_html h4,\n",
       ".text_cell_render h4 {\n",
       " font-size: 120%;\n",
       " color: #126dce;\n",
       " font-weight: underline;\n",
       " font-style: normal;\n",
       "}\n",
       ".rendered_html h5,\n",
       ".text_cell_render h5 {\n",
       " font-size: 100%;\n",
       " color: #2f2f2f;\n",
       " font-weight: lighter;\n",
       " text-decoration: underline;\n",
       "}\n",
       "</style>\n"
      ],
      "text/plain": [
       "<IPython.core.display.HTML object>"
      ]
     },
     "metadata": {},
     "output_type": "display_data"
    }
   ],
   "source": [
    "# setup\n",
    "from IPython.core.display import display,HTML\n",
    "display(HTML('<style>.prompt{width: 0px; min-width: 0px; visibility: collapse}</style>'))\n",
    "display(HTML(open('rise.css').read()))\n",
    "\n",
    "# imports\n",
    "import numpy as np\n",
    "import matplotlib.pyplot as plt\n",
    "import seaborn as sns\n",
    "%matplotlib inline\n",
    "sns.set(style=\"whitegrid\", font_scale=1.5, rc={'figure.figsize':(12, 6)})\n",
    "import time\n"
   ]
  },
  {
   "cell_type": "markdown",
   "metadata": {
    "slideshow": {
     "slide_type": "slide"
    }
   },
   "source": [
    "# CMPS 2200\n",
    "# Introduction to Algorithms\n",
    "\n",
    "## Recurrences (Example)\n",
    " "
   ]
  },
  {
   "cell_type": "markdown",
   "metadata": {
    "slideshow": {
     "slide_type": "slide"
    }
   },
   "source": [
    "### Integer multiplication\n",
    "\n",
    "Now that we've come up with a general technique for solving recurrences, let's look at a recursive algorithm. You learned this algorithm in elementary school for integer multiplication:\n",
    "\n",
    "- Input: $n$ bit integers $x= \\langle x_{n-1}, \\ldots, x_0\\rangle$ and $y = \\langle y_{n-1}, \\ldots, y_0\\rangle$\n",
    "\n",
    "- Output: $x \\cdot y$\n",
    "\n",
    "- Example: '1001'$\\times$'1101'\n"
   ]
  },
  {
   "cell_type": "code",
   "execution_count": 5,
   "metadata": {
    "slideshow": {
     "slide_type": "slide"
    }
   },
   "outputs": [
    {
     "data": {
      "text/plain": [
       "['1', '0', '0', '1']"
      ]
     },
     "execution_count": 5,
     "metadata": {},
     "output_type": "execute_result"
    }
   ],
   "source": [
    "def int2binary(n):\n",
    "    return list('{0:b}'.format(n))\n",
    " \n",
    "int2binary(9)"
   ]
  },
  {
   "cell_type": "code",
   "execution_count": 6,
   "metadata": {
    "slideshow": {
     "slide_type": "fragment"
    }
   },
   "outputs": [
    {
     "name": "stdout",
     "output_type": "stream",
     "text": [
      "['1', '0', '0', '1']\n",
      "['1', '1', '0', '1']\n"
     ]
    }
   ],
   "source": [
    "nine = int2binary(9)\n",
    "print(nine)\n",
    "thirteen = int2binary(13)\n",
    "print(thirteen)  "
   ]
  },
  {
   "cell_type": "markdown",
   "metadata": {
    "slideshow": {
     "slide_type": "fragment"
    }
   },
   "source": [
    "```\n",
    "       1001   \n",
    "     x 1101   \n",
    "     ======\n",
    "       1001   \n",
    "      0000    \n",
    "     1001     \n",
    "  + 1001      \n",
    "  =========\n",
    "    1110101   (117)\n",
    "```"
   ]
  },
  {
   "cell_type": "code",
   "execution_count": 7,
   "metadata": {
    "slideshow": {
     "slide_type": "fragment"
    }
   },
   "outputs": [
    {
     "data": {
      "text/plain": [
       "117"
      ]
     },
     "execution_count": 7,
     "metadata": {},
     "output_type": "execute_result"
    }
   ],
   "source": [
    "def binary2int(n): \n",
    "    return int(n, 2)\n",
    "binary2int('1110101')"
   ]
  },
  {
   "cell_type": "markdown",
   "metadata": {
    "slideshow": {
     "slide_type": "fragment"
    }
   },
   "source": [
    "<span style=\"color:red\">Question:</span> What is the work of the \"elementary school\" algorithm for two $n$-digit inputs?"
   ]
  },
  {
   "cell_type": "markdown",
   "metadata": {
    "slideshow": {
     "slide_type": "fragment"
    }
   },
   "source": [
    "- The work is $O(n^2)$, since for each digit of $x$ we might add a stack of $n$ bits. The total number of bits in the solution is at most $2n$."
   ]
  },
  {
   "cell_type": "markdown",
   "metadata": {
    "slideshow": {
     "slide_type": "slide"
    }
   },
   "source": [
    "What does this have to do with recursion and recurrences?\n",
    "\n",
    "Instead of the elementary school algorithm, consider splitting each $n$-digit input in half. Can we multiply recursively?\n",
    "\n",
    "Let $x = \\langle x_L, x_R\\rangle$, $y = \\langle y_L, y_R\\rangle$. Then,\n",
    "\n",
    "$\\begin{align} \n",
    "x &=& 2^{n/2} x_L + x_R \\:\\:\\:\\:\\:\\: \\hbox{e.g.,} \\: 1001:  2^2 (10) + (01)\\\\\n",
    "y &=& 2^{n/2} y_L + y_R \\:\\:\\:\\:\\:\\: \\hbox{e.g.,} \\: 1101:  2^2 (11) + (01)\\\\\n",
    "\\end{align}\n",
    "$\n",
    "\n",
    "<br><br>\n",
    "\n",
    "**Wait...Is multiplying by $2^{n/2}$ efficient?**\n",
    "https://en.wikipedia.org/wiki/Bitwise_operation\n",
    "<br><br>\n",
    "\n",
    "Recall: $2^2 [10] \\rightarrow [1000] \\:\\:$ (shift two places to the left).\n",
    "\n",
    "<br>\n",
    "\n",
    "So then,\n",
    "\n",
    "$\\begin{align}\n",
    "x\\cdot y &=& (2^{n/2} x_L + x_R)(2^{n/2} y_L + y_R) \\\\\n",
    " &=& 2^n (x_L \\cdot y_L) + 2^{n/2} (x_L \\cdot y_R + x_R \\cdot y_L) + (x_R \\cdot y_R) \\\\\n",
    "\\end{align}\n",
    "$\n",
    "\n",
    "<br>\n",
    "\n",
    "We've converted one multiplication of sizes $(n,n)$ into four multiplications of size $(\\frac{n}{2}, \\frac{n}{2})$.\n",
    "\n",
    "What recursive algorithm, and recurrence is suggested by this observation?"
   ]
  },
  {
   "cell_type": "markdown",
   "metadata": {
    "slideshow": {
     "slide_type": "fragment"
    }
   },
   "source": [
    ">$W(n) = 4W(n/2) + O(n)$\n",
    "\n",
    "What is the solution to this recurrence using the brick method? Is it root-dominated, or leaf-dominated?"
   ]
  },
  {
   "cell_type": "markdown",
   "metadata": {
    "slideshow": {
     "slide_type": "slide"
    }
   },
   "source": [
    "### work of recursive multiplication\n",
    "\n",
    "$C(\\hbox{root}) = n$\n",
    "\n",
    "$C(\\hbox{level}\\:1) = 4(\\frac{n}{2})= 2 \\cdot n$\n",
    "\n",
    "geometrically **increasing** as we descend the recurrence tree.\n",
    "\n",
    "A recurrence is **leaf-dominated** if for all $v$, there is an $\\alpha > 1$ such that:\n",
    "\n",
    "$$C(v) \\leq \\frac{1}{\\alpha} \\sum_{u \\in D(v)} C(u)$$\n",
    "\n",
    "let $\\alpha \\leftarrow 2$\n",
    "\n",
    "$n \\le \\frac{1}{2}\\cdot 2 \\cdot n$\n",
    "\n",
    "<br>\n",
    "\n",
    "The cost of a leaf dominated recurrence is $O(L)$, where $L$ is the number of leaves.\n",
    "\n",
    "### how many leaf nodes are there?\n",
    "\n",
    "<br><br><br>\n",
    "\n",
    "\n",
    "nodes per level: $1, 4, 64, \\ldots 4^i \\ldots 4^{\\log_2 n}=(2\\cdot2)^{\\log_2 n}=n\\cdot n = n^2$\n",
    "\n",
    "> This is a leaf-dominated reucrrence that is $O(n^2)$ -- the same as the elementary school algorithm!\n",
    "\n",
    "Now, what is the span of this algorithm if implemented in parallel?\n"
   ]
  },
  {
   "cell_type": "markdown",
   "metadata": {
    "slideshow": {
     "slide_type": "slide"
    }
   },
   "source": [
    "### span of recursive multiplication\n",
    "\n",
    "Assuming each multiplication can be done in parallel, and that addition has span $O(n)$, we get that \n",
    "\n",
    "$$S(n) = S(n/2) + O(n)$$ \n",
    "\n",
    "which yields a span of ...\n",
    "\n",
    "\n",
    "<br><br><br><br>\n",
    "\n",
    "**brick method**\n",
    "\n",
    "$S(\\hbox{root})=n$\n",
    "\n",
    "\n",
    "$S(\\hbox{level 1}) = \\frac{n}{2}$\n",
    "\n",
    "$\\rightarrow$ **root dominated** \n",
    "\n",
    "$S(n) \\in O(n)$. This is much better than the span of the grade school algorithm, which is $O(n^2)$!\n",
    "\n",
    "<br>\n",
    "\n",
    "**What parallelism is achieved?**\n",
    "\n",
    "<br>\n",
    "\n",
    "Parallelism $= \\frac{W}{S} = \\frac{n^2}{n} = n$\n",
    "\n",
    "Can we do any better?"
   ]
  },
  {
   "cell_type": "markdown",
   "metadata": {
    "slideshow": {
     "slide_type": "slide"
    }
   },
   "source": [
    "### recursive multiplication with less work\n",
    "\n",
    "Recall that \n",
    "\n",
    "$\\begin{align}\n",
    "x\\cdot y &=& (2^{n/2} x_L + x_R)(2^{n/2} y_L + y_R) \\\\\n",
    " &=& 2^n (x_L \\cdot y_L) + 2^{n/2} (x_L \\cdot y_R + x_R \\cdot y_L) + (x_R \\cdot y_R) \\\\\n",
    "\\end{align}\n",
    "$\n",
    "\n",
    "<br>\n",
    "\n",
    "Can we reduce this from 4 multiplications to 3??\n",
    "\n",
    "<br><br><br><br>\n",
    "\n",
    "Observation:\n",
    "    \n",
    "$\\begin{align} \n",
    "(x_L + x_R)\\cdot (y_L + y_R)=(x_L\\cdot y_L) + (x_L\\cdot y_R) + (x_R\\cdot y_L) + (x_R\\cdot y_R)\\\\\n",
    "\\end{align}\n",
    "$\n",
    "\n",
    "$\\begin{align}\n",
    "(x_L\\cdot y_R) + (x_R\\cdot y_L) = (x_L + x_R)\\cdot (y_L + y_R) - (x_L\\cdot y_L) - (x_R\\cdot y_R)\\\\\n",
    "\\end{align}$\n",
    "\n",
    "\n",
    "\n",
    "\n",
    "How does our observation help us? "
   ]
  },
  {
   "cell_type": "markdown",
   "metadata": {
    "slideshow": {
     "slide_type": "fragment"
    }
   },
   "source": [
    "If we calculate $(x_L\\cdot y_L)$, $(x_R\\cdot y_R)$, and $(x_L + x_R)\\cdot (y_L + y_R)$, that is *three* recursive multiplications. \n",
    "\n",
    "\n",
    "\n",
    "So with 3 recursive multiplications and two more \"additions\", we then get that $W(n) = 3W(n/2) + dn$. What is the running time?"
   ]
  },
  {
   "cell_type": "markdown",
   "metadata": {
    "slideshow": {
     "slide_type": "slide"
    }
   },
   "source": [
    "### work of $W(n) = 3W(n/2) + dn$\n",
    "\n",
    "**brick method**\n",
    "\n",
    "$C(\\hbox{root}) = n$\n",
    "\n",
    "$C(\\hbox{level 1}) = \\frac{3n}{2}$\n",
    "\n",
    "\n",
    "<br><br><br><br>\n",
    "\n",
    "$\\frac{3}{2} > 1 \\Rightarrow$ **leaf dominated**.\n",
    "\n",
    "But, there are fewer leaves this time. Why?\n",
    "\n",
    "<br><br><br><br>\n",
    "\n",
    "nodes per level: $1, 3, 9, \\ldots 3^i \\ldots 3^{\\lg n}=n^{\\lg 3} \\:\\:\\:\\: (\\hbox{by}\\: a^{\\log_b c} = c^{\\log_b a})$\n",
    "\n",
    "\n",
    "<br><br>\n",
    "\n",
    "\n",
    "Using the brick method, this is still a leaf-dominated recurrence, and thus the running time is $O(n^{\\log_2 3}) \\:\\: $ (approximately $O(n^{1.58}$) versus of $O(n^2)$ earlier).\n",
    "\n",
    "<br>\n",
    "\n",
    "This is known as the [**Karatsaba-Ofman**](https://en.wikipedia.org/wiki/Karatsuba_algorithm) algorithm (1962), and is the earliest known divide-and-conquer algorithm for integer multiplication. It is actually implemented in Intel hardware!\n",
    "\n",
    "\n",
    "<br><br>\n",
    "\n",
    "So, our we've decreased work from $O(n^2)$ to $O(n^{\\log_2 3})$. \n",
    "\n",
    "Span stays the same: $O(n)\\:\\:$  Why?\n",
    "\n",
    "<br><br>\n",
    "\n",
    "Parallelism $= \\frac{W}{S} = \\frac{n^{\\log_2 3}}{n} \\approx n^{.58} < n$\n",
    "\n",
    "<br>\n",
    "\n",
    "So, our parallelism went down. Is that good or bad?\n",
    "\n",
    "<br><br>\n",
    "\n",
    "\n",
    "Schönhage and Strassen (1971) gave an algorithm that runs in $O(n\\log n \\log\\log n)$ time.\n",
    "\n",
    "In 2007, [Fürer gave an algorithm](https://ivv5hpp.uni-muenster.de/u/cl/WS2007-8/mult.pdf) that runs in $n \\log n 2^{O(\\log^* n)}$.\n",
    "\n",
    "What is the fastest possible sequential algorithm for integer multiplication? In parallel?\n"
   ]
  }
 ],
 "metadata": {
  "celltoolbar": "Slideshow",
  "kernelspec": {
   "display_name": "Python 3 (ipykernel)",
   "language": "python",
   "name": "python3"
  },
  "language_info": {
   "codemirror_mode": {
    "name": "ipython",
    "version": 3
   },
   "file_extension": ".py",
   "mimetype": "text/x-python",
   "name": "python",
   "nbconvert_exporter": "python",
   "pygments_lexer": "ipython3",
   "version": "3.11.3"
  },
  "rise": {
   "autolaunch": true,
   "controls": false,
   "enable_chalkboard": true,
   "scroll": true,
   "theme": "simple",
   "transition": "fade"
  },
  "toc": {
   "base_numbering": 1,
   "nav_menu": {},
   "number_sections": true,
   "sideBar": true,
   "skip_h1_title": true,
   "title_cell": "Table of Contents",
   "title_sidebar": "Contents",
   "toc_cell": true,
   "toc_position": {},
   "toc_section_display": true,
   "toc_window_display": false
  }
 },
 "nbformat": 4,
 "nbformat_minor": 4
}
