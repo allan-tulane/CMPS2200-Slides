{
 "cells": [
  {
   "cell_type": "code",
   "execution_count": 1,
   "metadata": {
    "code_folding": [],
    "slideshow": {
     "slide_type": "skip"
    }
   },
   "outputs": [
    {
     "data": {
      "text/html": [
       "<style>.prompt{width: 0px; min-width: 0px; visibility: collapse}</style>"
      ],
      "text/plain": [
       "<IPython.core.display.HTML object>"
      ]
     },
     "metadata": {},
     "output_type": "display_data"
    },
    {
     "data": {
      "text/html": [
       "<style>\n",
       "div#notebook {\n",
       " font-family: \"Exo_2\", sans-serif;\n",
       "}\n",
       "\n",
       ".rendered_html h1,\n",
       ".text_cell_render h1 {\n",
       " color: #126dce;\n",
       " font-size: 220%;\n",
       " text-align: center;\n",
       " font-weight: lighter;\n",
       "}\n",
       ".rendered_html h2,\n",
       ".text_cell_render h2 {\n",
       " text-align: center;\n",
       " font-size: 170%;\n",
       " color: #126dce;\n",
       " font-style: normal;\n",
       " font-weight: lighter;\n",
       "}\n",
       ".rendered_html h3,\n",
       ".text_cell_render h3 {\n",
       " font-size: 150%;\n",
       " color: #126dce;\n",
       " font-weight: lighter;\n",
       " text-decoration: italic;\n",
       " font-style: normal;\n",
       "}\n",
       ".rendered_html h4,\n",
       ".text_cell_render h4 {\n",
       " font-size: 120%;\n",
       " color: #126dce;\n",
       " font-weight: underline;\n",
       " font-style: normal;\n",
       "}\n",
       ".rendered_html h5,\n",
       ".text_cell_render h5 {\n",
       " font-size: 100%;\n",
       " color: #2f2f2f;\n",
       " font-weight: lighter;\n",
       " text-decoration: underline;\n",
       "}\n",
       "</style>\n"
      ],
      "text/plain": [
       "<IPython.core.display.HTML object>"
      ]
     },
     "metadata": {},
     "output_type": "display_data"
    }
   ],
   "source": [
    "# setup\n",
    "from IPython.core.display import display,HTML\n",
    "display(HTML('<style>.prompt{width: 0px; min-width: 0px; visibility: collapse}</style>'))\n",
    "display(HTML(open('rise.css').read()))\n",
    "\n",
    "# imports\n",
    "import numpy as np\n",
    "import matplotlib.pyplot as plt\n",
    "import seaborn as sns\n",
    "%matplotlib inline\n",
    "sns.set(style=\"whitegrid\", font_scale=1.5, rc={'figure.figsize':(12, 6)})\n",
    "import time\n"
   ]
  },
  {
   "cell_type": "markdown",
   "metadata": {
    "slideshow": {
     "slide_type": "slide"
    }
   },
   "source": [
    "# CMPS 2200\n",
    "# Introduction to Algorithms\n",
    "\n",
    "## Recurrences - Tree Method\n"
   ]
  },
  {
   "cell_type": "markdown",
   "metadata": {
    "slideshow": {
     "slide_type": "slide"
    }
   },
   "source": [
    "Recurrences are a way to capture the behavior of recursive algorithms.\n",
    "\n",
    "Key ingredients: \n",
    "- Base case ($n = c$): constant time \n",
    "- Inductive case ($n > c$): recurse on smaller instance and use output to compute solution\n",
    "\n",
    "<p><span class=\"math display\">\\[\\begin{array}{l}  \n",
    "\\mathit{sumList}~a =  \n",
    "\\\\   \n",
    "~~~~\\texttt{if}~|a| \\leq 1~\\texttt{then}  \n",
    "\\\\   \n",
    "~~~~~~~~a  \n",
    "\\\\  \n",
    "~~~~\\texttt{else}  \n",
    "\\\\   \n",
    "~~~~~~~~\\texttt{let}  \n",
    "\\\\  \n",
    "~~~~~~~~~~~~(l,r) = \\mathit{splitMid}~a  \n",
    "\\\\   \n",
    "~~~~~~~~~~~~(l',r') = (\\mathit{sumList}~l \\mid\\mid{} \\mathit{sumList}~r) \n",
    "\\\\  \n",
    "~~~~~~~~\\texttt{in}  \n",
    "\\\\   \n",
    "~~~~~~~~~~~~l'+r'  \n",
    "\\\\  \n",
    "~~~~~~~~\\texttt{end}  \n",
    "\\end{array}\\]</span></p>\n",
    "\n",
    "\n",
    "<br>\n",
    "<br>\n",
    "<br>\n",
    "\n",
    "\n",
    "$ \\begin{equation}\n",
    "W(n) = \\begin{cases}\n",
    "  1, & \\text{if $n=1$} \\\\\n",
    "  2W(n/2) + 1, & \\text{otherwise} \n",
    "  \\end{cases}\n",
    "\\end{equation}$\n",
    "\n",
    "- How do we solve this recurrence to obtain $W(n) = O(n)$? \n",
    "\n",
    "<br>\n",
    "\n",
    "$ \\begin{equation}\n",
    "S(n) = \\begin{cases}\n",
    "  1, & \\text{if $n=1$} \\\\\n",
    "  S(n/2) + 1, & \\text{otherwise} \n",
    "  \\end{cases}\n",
    "\\end{equation}$\n",
    "\n",
    "- How do we solve this recurrence to obtain $S(n) = O(\\log n)$? \n"
   ]
  },
  {
   "cell_type": "markdown",
   "metadata": {
    "slideshow": {
     "slide_type": "fragment"
    }
   },
   "source": [
    "![alttext](figures/tree.png)\n"
   ]
  },
  {
   "cell_type": "markdown",
   "metadata": {
    "slideshow": {
     "slide_type": "slide"
    }
   },
   "source": [
    "We'll look at methods to solve recurrences in order to obtain **big-O** bounds for recursive algorithms.\n",
    "\n",
    "We will:\n",
    "- Get intuition for recurrences by looking the recursion **tree**. \n",
    "\n",
    "- Develop the **brick** method to quickly state asymptotic bounds on a recurrence by looking at the shape of the tree."
   ]
  },
  {
   "cell_type": "markdown",
   "metadata": {
    "slideshow": {
     "slide_type": "slide"
    }
   },
   "source": [
    "Let's look at the specification and recurrence for Merge Sort: \n",
    "\n",
    "<p><span class=\"math display\">\\[\\begin{array}{l}  \n",
    "\\mathit{mergeSort}~a =  \n",
    "\\\\   \n",
    "~~~~\\texttt{if}~|a| \\leq 1~\\texttt{then}  \n",
    "\\\\   \n",
    "~~~~~~~~a  \n",
    "\\\\  \n",
    "~~~~\\texttt{else}  \n",
    "\\\\   \n",
    "~~~~~~~~\\texttt{let}  \n",
    "\\\\  \n",
    "~~~~~~~~~~~~(l,r) = \\mathit{splitMid}~a  \n",
    "\\\\   \n",
    "~~~~~~~~~~~~(l',r') = (\\mathit{mergeSort}~l \\mid\\mid{} \\mathit{mergeSort}~r)  \n",
    "\\\\  \n",
    "~~~~~~~~\\texttt{in}  \n",
    "\\\\   \n",
    "~~~~~~~~~~~~\\mathit{merge} (l',r')  \n",
    "\\\\  \n",
    "~~~~~~~~\\texttt{end}  \n",
    "\\end{array}\\]</span></p>\n",
    "\n",
    "\n",
    "\n",
    "\n",
    "<br><br><br>\n",
    "Suppose that the **merging step** can be done with $O(n)$ work and $O(\\log n)$ span. Then recurrence for the work is: \n",
    "\n",
    "$ \\begin{equation}\n",
    "W(n) = \\begin{cases}\n",
    "  C_b, & \\text{if $n=1$} \\\\\n",
    "  2W(n/2) + O(n), & \\text{otherwise} \n",
    "  \\end{cases}\n",
    "\\end{equation}$\n",
    "\n",
    "How do we solve this recurrence to obtain $W(n) = O(n\\log n)$?\n"
   ]
  },
  {
   "cell_type": "markdown",
   "metadata": {
    "slideshow": {
     "slide_type": "slide"
    }
   },
   "source": [
    "\n",
    "![alttext](figures/tree0.png)\n",
    "\n",
    "\n",
    "\n",
    "<br>\n",
    "\n",
    "### merge sort:\n",
    "\n",
    "- level $i$ contains $2^i$ nodes\n",
    "- each node at level $i$ costs $c_1 \\frac{n}{2^i}$\n",
    "- so, each level costs $2^i * (c_1 \\frac{n}{2^i}) = c_1n$\n",
    "- since each level reduces size by half, we have $\\log_2 n$ levels\n",
    "- so, total cost of tree is:\n",
    "\n",
    "$$W(n) = \\sum_{i=0}^{\\log_2 n} (c_1n) = c_1n \\sum_{i=0}^{\\log_2 n} 1 <c_1n \\log_2 n \\in O(n \\log n)$$\n",
    "\n",
    "\n",
    "\n",
    "\n",
    "<!-- The recursion tree for Merge Sort has linear work at every level except at the leaves. There are a logarithmic number of levels and a linear number of leaves so we obtain an asymptotic bound of $O(n\\log n)$ for the work. -->"
   ]
  },
  {
   "cell_type": "markdown",
   "metadata": {
    "slideshow": {
     "slide_type": "fragment"
    }
   },
   "source": [
    "![alttext](figures/mergesort_tree.png)\n"
   ]
  },
  {
   "cell_type": "markdown",
   "metadata": {
    "slideshow": {
     "slide_type": "slide"
    }
   },
   "source": [
    "## Solving Recurrences with the Tree Method \n",
    "\n",
    "\n",
    "### Recipe: \n",
    "1. Determine the cost of each level $i$ ($i$ starts at $0$).\n",
    "2. Determine the number of levels $i_\\max$ [<span style=\"color:red\">known as Tree Depth</span>]\n",
    "3. Cost = $\\sum_{i=0}^{i_\\max}$ cost for level $i$\n",
    "  - This last step usually involves using properties of series\n",
    "  \n",
    " \n",
    "\n",
    "To solve this, we'll make use of bounds for **geometric series**. \n",
    "\n",
    "For $\\alpha > 1$: \n",
    "$\\:\\:\\: \\sum_{i=0}^n \\alpha^i <\\frac{\\alpha}{\\alpha - 1}\\cdot\\alpha^n$\n",
    "\n",
    "> e.g., $\\sum_{i=0}^{\\log_2 n} 2^i < \\frac{2}{1} * 2^{\\log_2 n} = 2n$\n",
    "\n",
    "For $\\alpha < 1$: \n",
    "$\\:\\:\\: \\sum_{i=0}^\\infty \\alpha^i  < \\frac{1}{1-\\alpha}$\n",
    "\n",
    "> e.g., $\\sum_{i=0}^{\\log_2 n} \\frac{1}{2^i} < 2$\n",
    "\n"
   ]
  },
  {
   "cell_type": "markdown",
   "metadata": {
    "slideshow": {
     "slide_type": "slide"
    }
   },
   "source": [
    "What about the span?\n",
    "\n",
    "![alttext](figures/tree.png)\n",
    "\n",
    "\n",
    "The recurrence for the span of Mergesort is:\n",
    "\n",
    "$ \\begin{equation}\n",
    "S(n) = \\begin{cases}\n",
    "  c_b, & \\text{if $n=1$} \\\\\n",
    "  S(n/2) + O(\\lg n), & \\text{otherwise} \n",
    "  \\end{cases}\n",
    "\\end{equation}$\n",
    "\n",
    "\n",
    "Since each level of the recursion tree is concurrent and all nodes have the same cost, we have that\n",
    "\n",
    "$ \\begin{align}\n",
    "S(n) & = \\sum_{i=0}^{\\lg n} \\lg\\frac{n}{2^i}\\\\\n",
    "& = \\sum_{i=0}^{\\lg n} (\\lg n - i)\\\\\n",
    "& = \\sum_{i=0}^{\\lg n} (\\lg n) - \\sum_{i=1}^{\\lg n} i\\\\\n",
    "& = \\lg n * (\\lg n+1)  - \\frac{1}{2}\\lg n * (\\lg n+1) \\:\\: (\\hbox{using}\\:\\:\\sum_{i=1}^n = \\frac{n(n+1)}{2})\\\\\n",
    "& = \\frac{1}{2}\\lg^2 n + \\frac{1}{2}  \\lg n\\\\\n",
    "& \\in O(\\lg^2 n)\\\\\n",
    "\\end{align}$\n"
   ]
  },
  {
   "cell_type": "markdown",
   "metadata": {
    "slideshow": {
     "slide_type": "slide"
    }
   },
   "source": [
    "Another recurrence:\n",
    "    \n",
    "$ \\begin{equation}\n",
    "W(n) = \\begin{cases}\n",
    "  c_b, & \\text{if $n=1$} \\\\\n",
    "  2W(n/2) + O(n^2), & \\text{otherwise} \n",
    "  \\end{cases}\n",
    "\\end{equation}$\n",
    "\n",
    "What is the asymptotic runtime?\n",
    "\n",
    "![alttext](figures/tree.png)\n",
    "\n"
   ]
  },
  {
   "cell_type": "markdown",
   "metadata": {
    "slideshow": {
     "slide_type": "slide"
    }
   },
   "source": [
    "$$W(n) = 2W(n/2) + n^2$$\n",
    "\n",
    "<img width=\"70%\" src=\"figures/n_squared2.jpg\"/>\n",
    "\n",
    "$$W(n)= \\sum_{i=0}^{\\lg n} (\\frac{n^2}{2^i})= n^2 \\sum_{i=0}^{\\lg n} \\frac{1}{2^i} < 2 n^2 \\in O(n^2)$$"
   ]
  },
  {
   "cell_type": "markdown",
   "metadata": {
    "slideshow": {
     "slide_type": "slide"
    }
   },
   "source": [
    "So what if branching factor is not 2? \n",
    "\n",
    "$$W(n) = 4 W \\Big(\\frac{n}{2}\\Big) + O(n)$$\n",
    "\n",
    "**costs**\n",
    "\n",
    " level 0: $n$\n",
    " \n",
    " level 1: $4(\\frac{n}{2})$\n",
    " \n",
    " level 2: $16(\\frac{n}{4})$\n",
    " \n",
    " level $i$ ?"
   ]
  },
  {
   "cell_type": "markdown",
   "metadata": {
    "slideshow": {
     "slide_type": "fragment"
    }
   },
   "source": [
    "$$4^i(\\frac{n}{2^i})$$\n",
    "\n",
    "<br>\n",
    "\n",
    "still $\\lg n$ levels:, so $W(n)$ is:\n",
    "\n",
    "<br>\n",
    "\n",
    "$$= n \\sum_{i=0}^{\\lg n} \\Big(\\frac{4}{2}\\Big)^i < 2 n^2 \\in O(n^2)$$\n",
    "\n",
    "$$(\\hbox{since} \\:\\:\\ \\sum_{i=0}^n \\alpha^i  < \\frac{\\alpha}{\\alpha - 1}\\cdot\\alpha^n)$$\n",
    "\n",
    "\n"
   ]
  },
  {
   "cell_type": "markdown",
   "metadata": {
    "slideshow": {
     "slide_type": "slide"
    }
   },
   "source": [
    "### Tree Method [Summary]\n",
    "\n",
    "$$ \\begin{equation}\n",
    "W(n) = \\begin{cases}\n",
    "  {O}(c_b), & \\text{if $n=c$} \\\\\n",
    "  \\alpha W(\\frac{n}{\\beta}) + {O}(f_w(n)) \\leq  \\alpha W(\\frac{n}{\\beta}) + f_w(n), & \\text{otherwise} \n",
    "  \\end{cases}\n",
    "\\end{equation}$$\n",
    "\n",
    "\n",
    "$$ \\begin{equation}\n",
    "S(n) = \\begin{cases}\n",
    "  {O}(c_b), & \\text{if $n=c$} \\\\\n",
    "  S(\\frac{n}{\\beta}) + {O}(f_s(n)) \\leq  S(\\frac{n}{\\beta}) + f_s(n), & \\text{otherwise} \n",
    "  \\end{cases}\n",
    "\\end{equation}$$\n",
    "\n",
    "\n",
    "> Step 1. What is the **input size** per node on level $i$? \n",
    "\n",
    "$$\\frac{n}{\\beta^i}$$\n",
    "\n",
    ">Step 2. What is the additional **cost** of each node on level $i$? \n",
    "\n",
    "$$f_w(\\frac{n}{\\beta^i})$$\n",
    "\n",
    ">Step 3. How many nodes are there on level $i$? \n",
    "\n",
    "$$\\alpha^i$$\n",
    "\n",
    "\n",
    ">Step 4. What is the total additional cost across the level $i$?\n",
    "\n",
    "$$\\alpha^i\\big(f_w(\\frac{n}{\\beta^i})\\big)$$\n",
    "\n",
    ">Step 5. How many levels are there in the tree [**Tree Height/Depth**]? Note that Span is positively correlated with Tree Depth.\n",
    "\n",
    "$$\\frac{n}{\\beta^i} = c~~~ \\Rightarrow ~~~{i = \\log_{\\beta}n} ~~(\\mathrm{if}~~c==1)$$\n",
    "\n",
    " \n",
    "\n",
    ">Step 6. What is the total cost? \n",
    "\n",
    "$$\\sum_{i=0}^{\\log_{\\beta}n}\\alpha^i\\big(f_w(\\frac{n}{\\beta^i})\\big)$$\n",
    "\n",
    "Note that the leave level has $\\alpha^{\\log_\\beta n}$ nodes, or equivalently, $n^{\\log_\\beta \\alpha}$.\n",
    "\n",
    "\n"
   ]
  }
 ],
 "metadata": {
  "celltoolbar": "Slideshow",
  "kernelspec": {
   "display_name": "Python 3 (ipykernel)",
   "language": "python",
   "name": "python3"
  },
  "language_info": {
   "codemirror_mode": {
    "name": "ipython",
    "version": 3
   },
   "file_extension": ".py",
   "mimetype": "text/x-python",
   "name": "python",
   "nbconvert_exporter": "python",
   "pygments_lexer": "ipython3",
   "version": "3.9.6"
  },
  "rise": {
   "autolaunch": true,
   "controls": false,
   "enable_chalkboard": true,
   "scroll": true,
   "theme": "simple",
   "transition": "fade"
  },
  "toc": {
   "base_numbering": 1,
   "nav_menu": {},
   "number_sections": true,
   "sideBar": true,
   "skip_h1_title": true,
   "title_cell": "Table of Contents",
   "title_sidebar": "Contents",
   "toc_cell": true,
   "toc_position": {},
   "toc_section_display": true,
   "toc_window_display": false
  }
 },
 "nbformat": 4,
 "nbformat_minor": 4
}
