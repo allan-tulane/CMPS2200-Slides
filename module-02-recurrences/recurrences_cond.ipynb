{
 "cells": [
  {
   "cell_type": "code",
   "execution_count": 1,
   "metadata": {
    "code_folding": [],
    "slideshow": {
     "slide_type": "skip"
    }
   },
   "outputs": [
    {
     "data": {
      "text/html": [
       "<style>.prompt{width: 0px; min-width: 0px; visibility: collapse}</style>"
      ],
      "text/plain": [
       "<IPython.core.display.HTML object>"
      ]
     },
     "metadata": {},
     "output_type": "display_data"
    },
    {
     "data": {
      "text/html": [
       "<style>\n",
       "div#notebook {\n",
       " font-family: \"Exo_2\", sans-serif;\n",
       "}\n",
       "\n",
       ".rendered_html h1,\n",
       ".text_cell_render h1 {\n",
       " color: #126dce;\n",
       " font-size: 220%;\n",
       " text-align: center;\n",
       " font-weight: lighter;\n",
       "}\n",
       ".rendered_html h2,\n",
       ".text_cell_render h2 {\n",
       " text-align: center;\n",
       " font-size: 170%;\n",
       " color: #126dce;\n",
       " font-style: normal;\n",
       " font-weight: lighter;\n",
       "}\n",
       ".rendered_html h3,\n",
       ".text_cell_render h3 {\n",
       " font-size: 150%;\n",
       " color: #126dce;\n",
       " font-weight: lighter;\n",
       " text-decoration: italic;\n",
       " font-style: normal;\n",
       "}\n",
       ".rendered_html h4,\n",
       ".text_cell_render h4 {\n",
       " font-size: 120%;\n",
       " color: #126dce;\n",
       " font-weight: underline;\n",
       " font-style: normal;\n",
       "}\n",
       ".rendered_html h5,\n",
       ".text_cell_render h5 {\n",
       " font-size: 100%;\n",
       " color: #2f2f2f;\n",
       " font-weight: lighter;\n",
       " text-decoration: underline;\n",
       "}\n",
       "</style>\n"
      ],
      "text/plain": [
       "<IPython.core.display.HTML object>"
      ]
     },
     "metadata": {},
     "output_type": "display_data"
    }
   ],
   "source": [
    "# setup\n",
    "from IPython.core.display import display,HTML\n",
    "display(HTML('<style>.prompt{width: 0px; min-width: 0px; visibility: collapse}</style>'))\n",
    "display(HTML(open('rise.css').read()))\n",
    "\n",
    "# imports\n",
    "import numpy as np\n",
    "import matplotlib.pyplot as plt\n",
    "import seaborn as sns\n",
    "%matplotlib inline\n",
    "sns.set(style=\"whitegrid\", font_scale=1.5, rc={'figure.figsize':(12, 6)})\n"
   ]
  },
  {
   "cell_type": "markdown",
   "metadata": {
    "slideshow": {
     "slide_type": "slide"
    }
   },
   "source": [
    "# CMPS 2200\n",
    "# Introduction to Algorithms\n",
    "\n",
    "\n",
    "## Recurrences + Summary\n"
   ]
  },
  {
   "cell_type": "markdown",
   "metadata": {
    "slideshow": {
     "slide_type": "slide"
    }
   },
   "source": [
    "### Recursive Algorithm\n",
    "\n",
    "\n",
    "<center>\n",
    "<img src=\"figures/comp_rec.png\" width=\"=54%\"/>\n",
    "</center>\n",
    "\n"
   ]
  },
  {
   "cell_type": "markdown",
   "metadata": {
    "slideshow": {
     "slide_type": "slide"
    }
   },
   "source": [
    "Suppose that the merging step can be done with $O(n)$ work and $O(\\log n)$ span.\n",
    "\n",
    "Then recurrence for the work is: \n",
    "\n",
    "$ \\begin{equation}\n",
    "W(n) = \\begin{cases}\n",
    "  c_b, & \\text{if $n=1$} \\\\\n",
    "  2W(n/2) + O(n) = 2W(n/2) + c_1n + c_2, & \\text{otherwise} \n",
    "  \\end{cases}\n",
    "\\end{equation}$\n",
    "\n",
    "The recurrence for the span of Mergesort is:\n",
    "\n",
    "$ \\begin{equation}\n",
    "S(n) = \\begin{cases}\n",
    "  c_3, & \\text{if $n=1$} \\\\\n",
    "  S(n/2) + O(\\lg n)= S(n/2) + c_4 \\lg n, & \\text{otherwise} \n",
    "  \\end{cases}\n",
    "\\end{equation}$\n",
    "\n",
    "![alttext](figures/tree.png)"
   ]
  },
  {
   "cell_type": "markdown",
   "metadata": {
    "slideshow": {
     "slide_type": "slide"
    }
   },
   "source": [
    "Another recurrence:\n",
    "    \n",
    "$ \\begin{equation}\n",
    "W(n) = \\begin{cases}\n",
    "  c_b, & \\text{if $n=1$} \\\\\n",
    "  2W(n/2) + O(n^2) = 2W(n/2) + c_1n^2+c_2, & \\text{otherwise} \n",
    "  \\end{cases}\n",
    "\\end{equation}$\n",
    "\n",
    "\n",
    "\n"
   ]
  },
  {
   "cell_type": "markdown",
   "metadata": {
    "slideshow": {
     "slide_type": "fragment"
    }
   },
   "source": [
    "$$W(n) = 2W(n/2) + c_1n^2 + c_2$$\n",
    "\n",
    "<img width=\"70%\" src=\"figures/n_squared.png\"/>\n",
    "\n",
    "$$W(n)  = \\sum_{i=0}^{\\lg n} (c_1 \\frac{n^2}{2^i} + 2^i c_2)= c_1 n^2 \\sum_{i=0}^{\\lg n} \\frac{1}{2^i} + c_2 \\sum_{i=0}^{\\lg n} 2^i$$\n",
    "\n",
    "$$< 2 c_1 n^2 + 2 c_2 n \\in O(n^2)$$"
   ]
  },
  {
   "cell_type": "markdown",
   "metadata": {
    "slideshow": {
     "slide_type": "slide"
    }
   },
   "source": [
    "### Brick Method\n",
    "\n",
    "To derive asymptotic runtimes by looking at the relationships between parent and child nodes in the recursion tree. This leads to three cases:\n",
    "1. **root dominated**\n",
    "2. **leaf dominated**\n",
    "3. **balanced**\n",
    "\n",
    "> If the costs grow or decay geometrically across levels, then we need only consider the cost of the root (**decay**), or the total cost of the leaves (**growth**). \n",
    "\n",
    "> If there is no geometric growth or decay then we can calculate the cost of the worst level (often either the root or leaves) and multiply it by the number of levels. \n"
   ]
  },
  {
   "cell_type": "markdown",
   "metadata": {
    "slideshow": {
     "slide_type": "slide"
    }
   },
   "source": [
    "### Root-dominated\n",
    "\n",
    "For a node $v$ in the recursion tree, let $C(v)$ denote its cost and $D(v)$ denote its children.\n",
    "\n",
    "A recurrence is **root-dominated** if for all $v$, there is an $\\alpha > 1$ such that:\n",
    "\n",
    "$$C(v) \\geq \\alpha \\sum_{u \\in D(v)} C(u)$$\n",
    "\n",
    "The cost of a root dominated recurrence is $O(C(r))$ if $r$ is the root.\n",
    "\n",
    "This is because the cost reduces geometrically as we go toward the leaves, and the total cost bounded by $\\alpha/(\\alpha-1)$ times $C(r)$.\n"
   ]
  },
  {
   "cell_type": "markdown",
   "metadata": {
    "slideshow": {
     "slide_type": "fragment"
    }
   },
   "source": [
    "$$W(n) = 2 W\\Big(\\frac{n}{2}\\Big) + n^2$$\n",
    "\n",
    "$C(\\hbox{root}) = n^2$\n",
    "\n",
    "$C(\\hbox{level}\\:1) = \\Big(\\frac{n}{2}\\Big)^2 + \\Big(\\frac{n}{2}\\Big)^2 = \\frac{n^2}{2}$\n",
    "\n",
    "$C(\\hbox{level}\\:2) = \\Big(\\frac{n}{4}\\Big)^2 + \\Big(\\frac{n}{4}\\Big)^2 + \\Big(\\frac{n}{4}\\Big)^2 + \\Big(\\frac{n}{4}\\Big)^2= \\frac{n^2}{4}$\n",
    "\n",
    "\n",
    "\n",
    "<br>\n",
    "\n",
    "Cost has **decreased** by a factor of two when descending one level in the tree.\n",
    "\n",
    "<br>\n",
    "\n",
    "so, if $\\alpha \\leftarrow 2$:\n",
    "\n",
    "$C(v) \\ge \\alpha \\sum_{u \\in D(v)} C(u)$\n",
    "\n",
    "$n^2 \\ge 2 * \\frac{n^2}{2}$\n",
    "\n",
    "$n^2 \\ge n^2$\n",
    "\n",
    "<br>\n",
    "\n",
    "Because the cost is asymptotically dominated by the **root**, we need to only consider its cost: $O(n^2)$.\n"
   ]
  },
  {
   "cell_type": "markdown",
   "metadata": {
    "slideshow": {
     "slide_type": "slide"
    }
   },
   "source": [
    "### Leaf-dominated\n",
    "\n",
    "A recurrence is **leaf-dominated** if for all $v$, there is an $\\alpha > 1$ such that:\n",
    "\n",
    "$$C(v) \\leq \\frac{1}{\\alpha} \\sum_{u \\in D(v)} C(u)$$\n",
    "\n",
    "If we have $L$ leaves in the recursion tree, the cost of a leaf dominated recurrence is $O(L)$.\n",
    "\n",
    "This is because the cost increases geometrically as we go toward the leaves, and the total cost is bounded by $\\alpha/(\\alpha-1)$ times $c_b \\cdot L$.\n",
    "\n"
   ]
  },
  {
   "cell_type": "markdown",
   "metadata": {
    "slideshow": {
     "slide_type": "fragment"
    }
   },
   "source": [
    "$$W(n) = 2W\\Big(\\frac{n}{2}\\Big) + \\sqrt{n}$$\n",
    "\n",
    "\n",
    "$C(\\hbox{root}) = \\sqrt{n}$\n",
    "\n",
    "$C(\\hbox{level}\\:1) = \\sqrt{\\Big(\\frac{n}{2}\\Big)} + \\sqrt{\\Big(\\frac{n}{2}\\Big)} = 2 \\frac{\\sqrt{n}}{\\sqrt{2}} = \\sqrt{2}\\sqrt{n}$\n",
    "\n",
    "$C(\\hbox{level}\\:2) = \\sqrt{\\Big(\\frac{n}{4}\\Big)} + \\sqrt{\\Big(\\frac{n}{4}\\Big)} + \\sqrt{\\Big(\\frac{n}{4}\\Big)} + \\sqrt{\\Big(\\frac{n}{4}\\Big)} = 2\\sqrt{n}$\n",
    "\n",
    "<br>\n",
    "\n",
    "Cost has **increased** by a factor of $\\sqrt{2}$ when descending one level in the tree.\n",
    "\n",
    "<br>\n",
    "\n",
    "so, if $\\alpha \\leftarrow \\frac{1}{\\sqrt{2}}$:\n",
    "\n",
    "$C(v) \\le \\frac{1}{\\alpha} \\sum_{u \\in D(v)} C(u)$\n",
    "\n",
    "$\\sqrt{n} \\le \\frac{1}{\\sqrt{2}} * \\sqrt{2}\\sqrt{n}$\n",
    "\n",
    "$\\sqrt{n} \\le \\sqrt{n}$\n",
    "\n",
    "<br>\n",
    "\n",
    "Because the cost is asymptotically dominated by the **leaves** (i.e., lowest level of the tree), we need to only consider their cost:\n",
    "\n",
    "<br>\n",
    "\n",
    "- Cost of each leaf is 1 (since $\\sqrt{1}==1$).\n",
    "- Depth of tree is $\\log_2{n}$ (since we divide by 2 at each level) $\\Rightarrow \\lg n$\n",
    "- Number of leaves of a binary tree with depth $\\log_2{n}$ is $2^{\\log_2{n}} = n$\n",
    "\n",
    "<br>\n",
    "So, final cost is $n*1 = O(n)$\n"
   ]
  },
  {
   "cell_type": "markdown",
   "metadata": {
    "slideshow": {
     "slide_type": "slide"
    }
   },
   "source": [
    "### Balanced\n",
    "\n",
    "A recurrence is **balanced** when every level of the recursion tree has the same asymptotic cost. In this case, the recurrence is\n",
    "*number of levels* times *maximum cost per level* (often either the root or leaves).\n",
    "\n"
   ]
  },
  {
   "cell_type": "markdown",
   "metadata": {
    "slideshow": {
     "slide_type": "fragment"
    }
   },
   "source": [
    "$$W(n) = 2 W\\Big(\\frac{n}{2}\\Big) + n$$\n",
    "\n",
    "$C(\\hbox{root}) = n$\n",
    "\n",
    "$C(\\hbox{level}\\:1) = \\Big(\\frac{n}{2}\\Big) + \\Big(\\frac{n}{2}\\Big) = n$\n",
    "\n",
    "<br>\n",
    "\n",
    "Cost has **remained the same** when descending one level in the tree.\n",
    "\n",
    "So, total cost is *number of levels* times *maximum cost per level*.\n",
    "\n",
    "<br>\n",
    "\n",
    "- Number of levels = $\\lg n$\n",
    "- Maximum cost per level = $n\\:\\:$ (last level: $n$ leaves with cost 1 each; first level: one node with cost $n$)\n",
    "- $O(n \\lg n)$\n"
   ]
  },
  {
   "cell_type": "markdown",
   "metadata": {
    "slideshow": {
     "slide_type": "slide"
    }
   },
   "source": [
    "Let's look at some examples:\n",
    "\n",
    "$$ W(n) = 3 W(n/2) + n $$\n",
    "\n",
    "$$ W(n) = 2 W(n/3) + n $$\n",
    "\n",
    "$$ W(n) = 3 W(n/3) + n $$\n",
    "\n",
    "Do you see a way to count the number of leaves in the recursion tree?\n"
   ]
  },
  {
   "cell_type": "markdown",
   "metadata": {
    "slideshow": {
     "slide_type": "fragment"
    }
   },
   "source": [
    "$$ W(n) = 3 W(n/2) + n $$\n",
    "\n",
    "This is leaf-dominated, so it is $O(n^{\\log_2 3})$.\n",
    "\n",
    "$$ W(n) = 2 W(n/3) + n $$\n",
    "\n",
    "This is root-dominated, so it is $O(n)$.\n",
    "\n",
    "$$ W(n) = 3 W(n/3) + n $$\n",
    "\n",
    "This is balanced, so it is $O(n \\log n)$.\n"
   ]
  },
  {
   "cell_type": "markdown",
   "metadata": {
    "slideshow": {
     "slide_type": "slide"
    }
   },
   "source": [
    "More examples (some trickier than others): **Pay Attention to Base Case of Recurrence 3 & 4**\n",
    "\n",
    "$$ W(n) = W(n - 1) + n $$ \n",
    "\n",
    "$$S(n) = S(n/2)+\\lg n$$\n",
    "\n",
    "$$ W(n) = \\sqrt{n} W(\\sqrt{n}) + n^2 $$\n",
    "\n",
    "$$ W(n) = W(\\sqrt{n}) + W(n/2) + n $$\n",
    "\n",
    "$$ W(n) = W(n/2) + W(n/3) + 1 $$\n"
   ]
  },
  {
   "cell_type": "markdown",
   "metadata": {
    "slideshow": {
     "slide_type": "fragment"
    }
   },
   "source": [
    "$$ W(n) = W(n - 1) + n $$\n",
    "\n",
    "This is actually a balanced recurrence since every level has the asymptotic same cost and there are $n$ levels - the recurrence is $O(n^2)$. \n",
    "\n",
    "$$ S(n) = S(n/2) + \\lg n $$\n",
    "\n",
    "This is actually a balanced recurrence since every level has the asymptotic same cost and there are $n$ levels - the recurrence is $O(\\lg^2 n)$. \n",
    "\n",
    "$$ W(n) = \\sqrt{n} W(\\sqrt{n}) + n^2 $$\n",
    "\n",
    "This is root-dominated so it is $O(n^2)$.\n",
    "\n",
    "$$ W(n) = W(\\sqrt{n}) + W(n/2) + n $$\n",
    "\n",
    "This is root-dominateed so it is $O(n)$.\n",
    "\n",
    "$$ W(n) = W(n/2) + W(n/3) + 1 $$\n",
    "\n",
    "This recurrence is a little tricky - while it is leaf-dominated we need to calculate the number of leaves.\n"
   ]
  }
 ],
 "metadata": {
  "celltoolbar": "Slideshow",
  "kernelspec": {
   "display_name": "Python 3 (ipykernel)",
   "language": "python",
   "name": "python3"
  },
  "language_info": {
   "codemirror_mode": {
    "name": "ipython",
    "version": 3
   },
   "file_extension": ".py",
   "mimetype": "text/x-python",
   "name": "python",
   "nbconvert_exporter": "python",
   "pygments_lexer": "ipython3",
   "version": "3.9.6"
  },
  "rise": {
   "autolaunch": true,
   "controls": false,
   "enable_chalkboard": true,
   "scroll": true,
   "theme": "simple",
   "transition": "fade"
  },
  "toc": {
   "base_numbering": 1,
   "nav_menu": {},
   "number_sections": true,
   "sideBar": true,
   "skip_h1_title": true,
   "title_cell": "Table of Contents",
   "title_sidebar": "Contents",
   "toc_cell": true,
   "toc_position": {},
   "toc_section_display": true,
   "toc_window_display": false
  }
 },
 "nbformat": 4,
 "nbformat_minor": 4
}
