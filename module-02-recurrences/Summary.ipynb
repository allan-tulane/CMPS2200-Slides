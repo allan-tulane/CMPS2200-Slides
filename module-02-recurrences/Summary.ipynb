{
 "cells": [
  {
   "cell_type": "code",
   "execution_count": 2,
   "id": "fc22f3c1",
   "metadata": {},
   "outputs": [
    {
     "data": {
      "text/html": [
       "<style>.prompt{width: 0px; min-width: 0px; visibility: collapse}</style>"
      ],
      "text/plain": [
       "<IPython.core.display.HTML object>"
      ]
     },
     "metadata": {},
     "output_type": "display_data"
    },
    {
     "data": {
      "text/html": [
       "<style>\n",
       "div#notebook {\n",
       " font-family: \"Exo_2\", sans-serif;\n",
       "}\n",
       "\n",
       ".rendered_html h1,\n",
       ".text_cell_render h1 {\n",
       " color: #126dce;\n",
       " font-size: 220%;\n",
       " text-align: center;\n",
       " font-weight: lighter;\n",
       "}\n",
       ".rendered_html h2,\n",
       ".text_cell_render h2 {\n",
       " text-align: center;\n",
       " font-size: 170%;\n",
       " color: #126dce;\n",
       " font-style: normal;\n",
       " font-weight: lighter;\n",
       "}\n",
       ".rendered_html h3,\n",
       ".text_cell_render h3 {\n",
       " font-size: 150%;\n",
       " color: #126dce;\n",
       " font-weight: lighter;\n",
       " text-decoration: italic;\n",
       " font-style: normal;\n",
       "}\n",
       ".rendered_html h4,\n",
       ".text_cell_render h4 {\n",
       " font-size: 120%;\n",
       " color: #126dce;\n",
       " font-weight: underline;\n",
       " font-style: normal;\n",
       "}\n",
       ".rendered_html h5,\n",
       ".text_cell_render h5 {\n",
       " font-size: 100%;\n",
       " color: #2f2f2f;\n",
       " font-weight: lighter;\n",
       " text-decoration: underline;\n",
       "}\n",
       "</style>\n"
      ],
      "text/plain": [
       "<IPython.core.display.HTML object>"
      ]
     },
     "metadata": {},
     "output_type": "display_data"
    }
   ],
   "source": [
    "# setup\n",
    "from IPython.core.display import display,HTML\n",
    "display(HTML('<style>.prompt{width: 0px; min-width: 0px; visibility: collapse}</style>'))\n",
    "display(HTML(open('rise.css').read()))\n",
    "\n",
    "# imports\n",
    "import numpy as np\n",
    "import matplotlib.pyplot as plt\n",
    "import seaborn as sns\n",
    "%matplotlib inline\n",
    "sns.set(style=\"whitegrid\", font_scale=1.5, rc={'figure.figsize':(12, 6)})\n",
    "\n"
   ]
  },
  {
   "cell_type": "markdown",
   "id": "cb92da52",
   "metadata": {},
   "source": [
    "## Course Summary \n",
    "\n",
    "- Good Algorithm [efficient - runs quickly, requires little memory]: input size $n$\n",
    "\n",
    "- Algorithm Comparison [**Worse Case**, Asymptotic Dominance] $\\mathcal{O}(),~~ \\Omega(), ~~\\Theta()$ -> Limit Method\n",
    "\n",
    "![dag-sum](figures/an.png) \n",
    "\n",
    "- **Parallelism:** ability to run multiple computations at the same time \n",
    ">  <span style=\"color:red\">Is this statement correct?</span> ``Parallel algorithms are useful because the more processors we have, the faster we can solve any possible computational problem``.\n",
    "\n",
    "- **Speedup**: a parellel algorithm $P$ over a sequential algorithms $S$ is: $\n",
    "speedup(P,S) = \\frac{T(S)}{T(P)}\n",
    "$\n",
    "> <span style=\"color:red\">Question:</span> If a parallel algorithm P runs on 32 processors in 100 seconds, and a competing serial algorithm S runs in 500 seconds, then what is the speedup of P as compared to S?\n",
    "\n",
    "- **Work $T_1$ \\& Span $T_\\infty$**: When only $p$ processors are available $T_p <\\mathcal{O}(\\frac{T_1}{p}+T_\\infty)$\n",
    "\n",
    "- **Amdahl's Law**: $\\frac{T_1}{T_p} = \\frac{1}{S + \\frac{1 − S}{p}}$, where $S$ be the amount of time that cannot be parallelized.\n",
    "> <span style=\"color:red\">Question:</span> If only half of the work of a parallel algorithm is concurrent, how much of a speedup can we hope to get with 1000 processors?\n",
    "\n",
    "- Funtional Language [SPARC] -> Pure function -> no side effects [**benign effects**]\n",
    "\n",
    "- Language based Work-Span model $(e_1,~e_2)$ [**Add work and span**] and $(e_1~||~e_2)$ [Add work but **take the maximum span**]\n",
    "> For a given expression $e$ [a series of statements], we will analyze the work $W(e)$ and span $S(e)$\n",
    "\n",
    "\n",
    "\n",
    "- **Reccursive Algorithms**\n",
    "> Recurrences are useful because they help us characterize the running time of recursive algorithms.<br>\n",
    "> **Tree Method \\& Brick Method**\n",
    "\n",
    "\n",
    "\n",
    "\n"
   ]
  },
  {
   "cell_type": "markdown",
   "id": "a5401545",
   "metadata": {
    "slideshow": {
     "slide_type": "slide"
    }
   },
   "source": [
    "\n",
    "<center>\n",
    "<img src=\"figures/comp_rec.png\" width=\"=54%\"/>\n",
    "</center>\n",
    "\n",
    "\n",
    "\n",
    "Suppose that the merging step can be done with $O(n)$ work and $O(\\log n)$ span. Then recurrence for the work is: \n",
    "\n",
    "$ \\begin{equation}\n",
    "W(n) = \\begin{cases}\n",
    "  O(1)= c_b, & \\text{if $n=1$} \\\\\n",
    "  2W(n/2) + O(n) = 2W(n/2) + c_1n + c_2, & \\text{otherwise} \n",
    "  \\end{cases}\n",
    "\\end{equation}$\n",
    "\n",
    "## Solving Recurrences with the Tree Method \n",
    "\n",
    "![alttext](figures/tree.png)\n",
    "\n",
    "\n",
    "### Tree Method [Summary]\n",
    "\n",
    "$$ \\begin{equation}\n",
    "W(n) = \\begin{cases}\n",
    "  \\mathcal{O}(c_b), & \\text{if $n=c$} \\\\\n",
    "  \\alpha W(\\frac{n}{\\beta}) + \\mathcal{O}(f(n)) \\leq  \\alpha W(\\frac{n}{\\beta}) + c_1f(n) + c_2, & \\text{otherwise} \n",
    "  \\end{cases}\n",
    "\\end{equation}$$\n",
    "\n",
    "\n",
    "> Step 1. What is the **input size** on level $i$? \n",
    "\n",
    "$$\\frac{n}{\\beta^i}$$\n",
    "\n",
    ">Step 2. What is the **cost** of each node on level $i$? \n",
    "\n",
    "$$c_1f(\\frac{n}{\\beta^i})+c_2$$\n",
    "\n",
    ">Step 3. How many nodes are there on level $i$? \n",
    "\n",
    "$$\\alpha^i$$\n",
    "\n",
    "\n",
    ">Step 4. What is the total cost across the level $i$? <span style=\"color:blue\">$\\Rightarrow$ This step is used for Brick Method.</span>\n",
    "\n",
    "$$\\alpha^i\\big(c_1f(\\frac{n}{\\beta^i})+c_2\\big)$$\n",
    "\n",
    ">Step 5. How many levels are there in the tree [**Tree Height/Depth**]? Note that Span is positively correlated with Tree Depth.\n",
    "\n",
    "$$\\frac{n}{\\beta^i} = 1 \\Rightarrow {i = \\log_{\\beta}n}$$\n",
    "\n",
    " \n",
    "\n",
    ">Step 6. What is the total cost? \n",
    "\n",
    "$$\\sum_{i=0}^{\\log_{\\beta}n}\\alpha^i\\big(c_1f(\\frac{n}{\\beta^i})+c_2\\big)$$\n",
    "\n",
    "Note that the leave level has $\\alpha^{\\log_\\beta n}$ nodes, or equivalently, $n^{\\log_\\beta \\alpha}$.\n",
    "\n"
   ]
  }
 ],
 "metadata": {
  "kernelspec": {
   "display_name": "Python 3 (ipykernel)",
   "language": "python",
   "name": "python3"
  },
  "language_info": {
   "codemirror_mode": {
    "name": "ipython",
    "version": 3
   },
   "file_extension": ".py",
   "mimetype": "text/x-python",
   "name": "python",
   "nbconvert_exporter": "python",
   "pygments_lexer": "ipython3",
   "version": "3.9.7"
  }
 },
 "nbformat": 4,
 "nbformat_minor": 5
}
