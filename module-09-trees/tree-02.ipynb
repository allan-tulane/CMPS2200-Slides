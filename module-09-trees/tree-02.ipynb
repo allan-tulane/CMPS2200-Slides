{
 "cells": [
  {
   "cell_type": "code",
   "execution_count": 3,
   "metadata": {
    "code_folding": [],
    "slideshow": {
     "slide_type": "skip"
    }
   },
   "outputs": [
    {
     "data": {
      "text/html": [
       "<style>.prompt{width: 0px; min-width: 0px; visibility: collapse}</style>"
      ],
      "text/plain": [
       "<IPython.core.display.HTML object>"
      ]
     },
     "metadata": {},
     "output_type": "display_data"
    },
    {
     "data": {
      "text/html": [
       "<style>\n",
       "div#notebook {\n",
       " font-family: \"Exo_2\", sans-serif;\n",
       "}\n",
       "\n",
       ".rendered_html h1,\n",
       ".text_cell_render h1 {\n",
       " color: #126dce;\n",
       " font-size: 220%;\n",
       " text-align: center;\n",
       " font-weight: lighter;\n",
       "}\n",
       ".rendered_html h2,\n",
       ".text_cell_render h2 {\n",
       " text-align: center;\n",
       " font-size: 170%;\n",
       " color: #126dce;\n",
       " font-style: normal;\n",
       " font-weight: lighter;\n",
       "}\n",
       ".rendered_html h3,\n",
       ".text_cell_render h3 {\n",
       " font-size: 150%;\n",
       " color: #126dce;\n",
       " font-weight: lighter;\n",
       " text-decoration: italic;\n",
       " font-style: normal;\n",
       "}\n",
       ".rendered_html h4,\n",
       ".text_cell_render h4 {\n",
       " font-size: 120%;\n",
       " color: #126dce;\n",
       " font-weight: underline;\n",
       " font-style: normal;\n",
       "}\n",
       ".rendered_html h5,\n",
       ".text_cell_render h5 {\n",
       " font-size: 100%;\n",
       " color: #2f2f2f;\n",
       " font-weight: lighter;\n",
       " text-decoration: underline;\n",
       "}\n",
       "</style>\n"
      ],
      "text/plain": [
       "<IPython.core.display.HTML object>"
      ]
     },
     "metadata": {},
     "output_type": "display_data"
    }
   ],
   "source": [
    "# setup\n",
    "from IPython.core.display import display,HTML\n",
    "display(HTML('<style>.prompt{width: 0px; min-width: 0px; visibility: collapse}</style>'))\n",
    "display(HTML(open('../rise.css').read()))\n",
    "\n",
    "# imports\n",
    "import numpy as np\n",
    "import matplotlib.pyplot as plt\n",
    "import seaborn as sns\n",
    "%matplotlib inline\n",
    "sns.set(style=\"whitegrid\", font_scale=1.5, rc={'figure.figsize':(12, 6)})\n"
   ]
  },
  {
   "cell_type": "markdown",
   "metadata": {
    "slideshow": {
     "slide_type": "slide"
    }
   },
   "source": [
    "# CMPS 2200\n",
    "# Introduction to Algorithms\n",
    "\n",
    "## Minimum Spanning Tree: Prim & Kruskal Algorithm\n"
   ]
  },
  {
   "cell_type": "markdown",
   "metadata": {
    "slideshow": {
     "slide_type": "slide"
    }
   },
   "source": [
    "## Spanning Tree -> Minimum Spanning Tree\n",
    "<br>\n",
    "\n",
    "<center>\n",
    "<img src=\"figures/st0.png\"/>\n",
    "</center>\n",
    "\n",
    "- We can use BFS, DFS to span a tree for a graph\n",
    "\n",
    "> For a connected undirected graph $G = (V,E)$, a **spanning tree** is a tree $T = (V,E')$ with $E' \\subseteq E$\n",
    "\n",
    "> **Minimum Spanning Tree (MST)** is for a weighted graph with its minimum weight of T\n"
   ]
  },
  {
   "cell_type": "markdown",
   "metadata": {
    "slideshow": {
     "slide_type": "fragment"
    }
   },
   "source": [
    "### Greedy Algorithm -> Light-Edge Property\n",
    "\n",
    "<br>\n",
    "\n",
    "Let $G = (V,E,w)$ be a connected undirected, weighted graph with distinct edge weights. A **graph cut** of a graph $(G,V)$ is a partitioning of vertices $V_1 \\subset V$, $V_2 = V - V_1$. Each vertex set $V_i \\subset V$ defines a **vertex-induced subgraph** consisting of edges where both endpoints are in $V_i$.\n",
    "\n",
    "\n",
    "<center>\n",
    "    <img src=\"figures/mst_example.jpeg\"/>\n",
    "</center>\n",
    "\n",
    "<br>\n",
    "\n",
    "- Node Perspective: [Greedily Adding Node -> Prim's Algorithm]\n",
    "- Edge Perspective [Greedily Adding Edge  -> Kruskal Algorithm]"
   ]
  },
  {
   "cell_type": "markdown",
   "metadata": {
    "slideshow": {
     "slide_type": "slide"
    }
   },
   "source": [
    "## Prim's Algorithm\n",
    "\n",
    "Perform **priority-first search** on $G$ starting from an arbitrary vertex $s$.\n",
    "\n",
    "To select the next edge to expand the frontier, use priority:\n",
    "- $p(v) = \\min_{x \\in X} w(x,v)$\n",
    "- Add the chosen edge $(u,v)$ to the tree.\n"
   ]
  },
  {
   "cell_type": "markdown",
   "metadata": {
    "slideshow": {
     "slide_type": "fragment"
    }
   },
   "source": [
    "\n",
    "<center>\n",
    "    <img src=\"figures/prim.jpg\" width=40%/>\n",
    "</center>\n",
    "\n",
    "- Edge $(c, f)$ has minimum weight across $(X,Y)$.\n",
    "- So, we visit $f$ by adding it to the frontier\n"
   ]
  },
  {
   "cell_type": "markdown",
   "metadata": {
    "slideshow": {
     "slide_type": "fragment"
    }
   },
   "source": [
    "This sounds very similar to Dijkstra's algorithm. What's the difference?"
   ]
  },
  {
   "cell_type": "markdown",
   "metadata": {
    "slideshow": {
     "slide_type": "fragment"
    }
   },
   "source": [
    "<center>\n",
    "<img src=\"figures/subpaths.png\" width=\"40%\"/>\n",
    "</center>\n"
   ]
  },
  {
   "cell_type": "code",
   "execution_count": null,
   "metadata": {
    "slideshow": {
     "slide_type": "slide"
    }
   },
   "outputs": [],
   "source": [
    "from heapq import heappush, heappop \n",
    "\n",
    "def dijkstra(graph, source):\n",
    "    def dijkstra_helper(visited, frontier):\n",
    "        if len(frontier) == 0:\n",
    "            return visited\n",
    "        else:\n",
    "            distance, node = heappop(frontier)\n",
    "            if node in visited:\n",
    "                return dijkstra_helper(visited, frontier)\n",
    "            else:\n",
    "                print('visiting', node)\n",
    "                visited[node] = distance\n",
    "                for neighbor, weight in graph[node]:\n",
    "                    heappush(frontier, (distance + weight, neighbor))                \n",
    "                return dijkstra_helper(visited, frontier)\n",
    "        \n",
    "    frontier = []\n",
    "    heappush(frontier, (0, source))\n",
    "    visited = dict()  # store the final shortest paths for each node.\n",
    "    return dijkstra_helper(visited, frontier)\n",
    "\n",
    "graph = {\n",
    "            's': {('a', 4), ('b', 8)},\n",
    "            'a': {('s', 4), ('b', 2), ('c', 5)},\n",
    "            'b': {('s', 8), ('a', 2), ('c', 3)}, \n",
    "            'c': {('a', 5), ('b', 3), ('d', 3)},\n",
    "            'd': {('c', 3)},\n",
    "        }\n",
    "dijkstra(graph, 's')"
   ]
  },
  {
   "cell_type": "code",
   "execution_count": null,
   "metadata": {
    "slideshow": {
     "slide_type": "fragment"
    }
   },
   "outputs": [],
   "source": [
    "def prim(graph):\n",
    "    def prim_helper(visited, frontier, tree):\n",
    "        if len(frontier) == 0:\n",
    "            return tree\n",
    "        else:\n",
    "            weight, node, parent = heappop(frontier)\n",
    "            if node in visited:\n",
    "                return prim_helper(visited, frontier, tree)\n",
    "            else:\n",
    "                print('visiting', node)\n",
    "                # record this edge in the tree\n",
    "                tree.add((weight, node, parent))\n",
    "                visited.add(node)\n",
    "                for neighbor, w in graph[node]:\n",
    "                    heappush(frontier, (w, neighbor, node)) ## different point ## \n",
    "                    # compare with dijkstra:\n",
    "                    # heappush(frontier, (distance + weight, neighbor))                \n",
    "\n",
    "                return prim_helper(visited, frontier, tree)\n",
    "        \n",
    "    # pick first node as source arbitrarily\n",
    "    source = list(graph.keys())[0]\n",
    "    frontier = []\n",
    "    heappush(frontier, (0, source, source))\n",
    "    visited = set()  # store the visited nodes (don't need distance anymore)\n",
    "    tree = set()\n",
    "    prim_helper(visited, frontier, tree)\n",
    "    return tree\n",
    "\n",
    "prim(graph)"
   ]
  },
  {
   "cell_type": "markdown",
   "metadata": {
    "slideshow": {
     "slide_type": "slide"
    }
   },
   "source": [
    "## Work of Prim's Algorithm\n",
    "\n",
    "This does identical work to Dijkstra, so $O(|E| \\log |E|)$"
   ]
  },
  {
   "cell_type": "markdown",
   "metadata": {
    "slideshow": {
     "slide_type": "fragment"
    }
   },
   "source": [
    "Can we just pick an arbitrary source node? Why or why not?"
   ]
  },
  {
   "cell_type": "markdown",
   "metadata": {
    "slideshow": {
     "slide_type": "fragment"
    }
   },
   "source": [
    "What about directed graphs? Will this work?\n",
    "\n",
    "\n",
    "No - if source node is not connected to all other nodes.\n",
    "\n",
    "Even if it is, we may have a suboptimal solution:\n",
    "\n",
    "![figures/prim-fail.png](figures/prim-fail.png)\n"
   ]
  },
  {
   "cell_type": "markdown",
   "metadata": {
    "slideshow": {
     "slide_type": "slide"
    }
   },
   "source": [
    "## Kruskal Algorithm\n",
    "\n",
    "Prim's algorithm does a graph search while computing the MST.\n",
    "\n",
    "Can we just greedily add edges in increasing order of weight?"
   ]
  },
  {
   "cell_type": "markdown",
   "metadata": {
    "slideshow": {
     "slide_type": "fragment"
    }
   },
   "source": [
    "**Almost**: need to avoid cycles and ensure we \"span\" the graph\n",
    "\n",
    "\n",
    "<center>\n",
    "<img src=\"figures/kruskal.png\" width=\"80%\"/>\n",
    "</center>\n",
    "\n",
    "\n",
    "\n",
    "\n",
    "\n",
    "<br>\n",
    "\n",
    "### Kruskal's Algorithm\n",
    "\n",
    "“Perform the following step as many times as possible: Among the edges of $G$ not yet chosen, choose the shortest edge which does not form any loops with those edges already chosen.” [Kruskal, 1956]\n"
   ]
  },
  {
   "cell_type": "markdown",
   "metadata": {
    "slideshow": {
     "slide_type": "slide"
    }
   },
   "source": [
    "### Implementing Kruskal's algorithm\n",
    "\n",
    "\"choose the shortest edge which does not form any loops with those edges already chosen\"\n",
    "\n",
    "How do we implement this?"
   ]
  },
  {
   "cell_type": "markdown",
   "metadata": {
    "slideshow": {
     "slide_type": "fragment"
    }
   },
   "source": [
    "For an edge $(u,v)$, we must check if $u$ and $v$ are in the same connected component, based on the edges added so far.\n",
    "\n",
    "How can we do this?"
   ]
  },
  {
   "cell_type": "markdown",
   "metadata": {
    "slideshow": {
     "slide_type": "fragment"
    }
   },
   "source": [
    "We can run BFS or DFS starting at $u$ or $v$, but this would be expensive: $O(|V| + |E|)$ work at each iteration.\n",
    "\n",
    "<br>\n",
    "\n",
    "If we think of each connected component as a set of nodes, we need an efficient way of:\n",
    "\n",
    "- checking which set $u$ and $v$ are in\n",
    "- determining if these two sets are equal\n",
    "- if they are not equal, then we need to take their union\n",
    "\n",
    "\n"
   ]
  },
  {
   "cell_type": "markdown",
   "metadata": {
    "slideshow": {
     "slide_type": "fragment"
    }
   },
   "source": [
    "To make checking set equality fast, we will assign a **representative** node in each set.\n",
    "\n",
    "E.g., suppose we have two sets $\\mathbf{S} = \\{S_1, S_2\\}$ where:\n",
    "\n",
    "$S_1 = \\{\\mathbf{a},b,c\\}~~~~ S_2 = \\{\\mathbf{s}, d, e\\}$\n",
    "\n",
    "We can (arbitrarily) assign the representative of $S_1$ to be $a$, and the representative of $S_2$ to be $s$.\n",
    "\n",
    "$r(S_1) = a ~~~ r(S_2) = s$\n",
    "\n",
    "<br>\n",
    "\n",
    "If $S_u$ is the set containing $u$ and $S_v$ is the set containing $v$, then we can check if $u$ and $v$ are in the same set by checking if $r(S_u) == r(S_v)$\n",
    "\n",
    "\n",
    "\n"
   ]
  },
  {
   "cell_type": "markdown",
   "metadata": {
    "slideshow": {
     "slide_type": "slide"
    }
   },
   "source": [
    "## Implementation with three operations:\n",
    "\n",
    "1. `make_set(u)`: create a new set containing the single element $u$\n",
    "  - $u$ will be the representative of this set\n",
    "  \n",
    "2. `find_set(u)`: returns the representative of the set containing $u$:  $r(S_u)$\n",
    "\n",
    "\n",
    "3. `union(u,v)`: replace $S_u$ and $S_v$ with $S_u \\cup S_v$ in the collection of sets $\\mathbf{S}$\n",
    "\n",
    "What data structures can we use to represent each set?"
   ]
  },
  {
   "cell_type": "markdown",
   "metadata": {
    "slideshow": {
     "slide_type": "slide"
    }
   },
   "source": [
    "## Data Structure of Balanced Forests\n",
    "\n",
    "<center>\n",
    "    <img src=\"figures/forest.png\"/>\n",
    "</center>\n",
    "\n",
    "Each set is a balanced tree, where the root is the representative.\n",
    "\n",
    "Assuming we represent a tree node with a pointer to its parent, what is the work of `find_set(u)` (to find the representative of $S_u$)?"
   ]
  },
  {
   "cell_type": "markdown",
   "metadata": {
    "slideshow": {
     "slide_type": "fragment"
    }
   },
   "source": [
    "$O(\\log n)$, assuming a balanced tree, to walk from a node to its root.\n",
    "\n",
    "How about `union(u,v)`?\n",
    "\n",
    "\n",
    "<center>\n",
    "    <img src=\"figures/merge.png\" width=50%/>\n",
    "</center>\n",
    "\n",
    "- find representative of $u ~~~~ O(\\log n)$\n",
    "- find representative of $v ~~~~ O(\\log n)$\n",
    "- link root of one tree to the root of another\n",
    "\n",
    "<br>\n",
    "\n",
    "But, how do we ensure tree stays balanced to keep $O(\\log n)$ work for `find_set(u)`?\n"
   ]
  },
  {
   "cell_type": "markdown",
   "metadata": {
    "slideshow": {
     "slide_type": "fragment"
    }
   },
   "source": [
    "Recall [Leftist Heaps](https://nbviewer.jupyter.org/github/tulane-cmps2200/slides/blob/master/module-06-greedy/greedy-02.ipynb?flush_cache=True) from Greedy module!\n",
    "\n",
    "<center>\n",
    "    <img src=\"figures/meld_schematic.jpg\" width=\"70%\">\n",
    "</center>\n",
    "\n",
    "similar idea here:\n",
    "\n",
    "<center>\n",
    "    <img src=\"figures/rank.png\" width=\"70%\">\n",
    "</center>\n",
    "\n",
    "Add \"shorter\" tree to the \"taller\" tree.\n",
    "- store the \"rank\" of each tree as its depth\n",
    "\n",
    "<br>\n",
    "\n",
    "Thus, if $height(S_v) < height(S_u)$, then the height the union of $S_u \\cup S_v$ is \n",
    "\n",
    "$\\max \\{ height(S_u), height(S_v)+1\\}$\n",
    "\n",
    "<br>\n",
    "Using similar arguments as in leftist heaps, we can ensure that height of any tree is $O(\\log n)$"
   ]
  },
  {
   "cell_type": "markdown",
   "metadata": {
    "slideshow": {
     "slide_type": "slide"
    }
   },
   "source": [
    "### Kruskal's Algorithm\n",
    "\n",
    "0. Initialize tree $T \\leftarrow \\emptyset$  \n",
    "\n",
    "<br>\n",
    "\n",
    "\n",
    "1. For each $v \\in V$, run `make_set(v)`\n",
    "\n",
    "<br>\n",
    "\n",
    "2. Sort edges in increasing order of weight\n",
    "\n",
    "<br>\n",
    "\n",
    "3. For each edge $e=(u,v)$ in sorted set:\n",
    "  - if `find_set(u)` $\\ne$ `find_set(v)`:\n",
    "    - $T \\leftarrow T \\cup \\{(u,v)\\}$\n",
    "    - `union(u,v)`\n"
   ]
  },
  {
   "cell_type": "code",
   "execution_count": 5,
   "metadata": {
    "slideshow": {
     "slide_type": "slide"
    }
   },
   "outputs": [
    {
     "name": "stdout",
     "output_type": "stream",
     "text": [
      "Edges in the constructed MST\n",
      "2 -- 3 == 4\n",
      "0 -- 3 == 5\n",
      "0 -- 1 == 10\n",
      "Minimum Spanning Tree 19\n"
     ]
    }
   ],
   "source": [
    "# Python program for Kruskal's algorithm to find\n",
    "# Minimum Spanning Tree of a given connected,\n",
    "# undirected and weighted graph\n",
    "\n",
    "from collections import defaultdict\n",
    "\n",
    "# Class to represent a graph\n",
    "\n",
    "\n",
    "class Graph:\n",
    "    def __init__(self, vertices):\n",
    "        self.V = vertices # No. of vertices\n",
    "        self.graph = [] # default dictionary\n",
    "        # to store graph\n",
    "\n",
    "    # function to add an edge to graph\n",
    "    def make_set(self, u, v, w):\n",
    "        self.graph.append([u, v, w])\n",
    "\n",
    "    # A utility function to find set of an element i\n",
    "    # (uses path compression technique)\n",
    "    def find_set(self, parent, i):\n",
    "        if parent[i] == i:\n",
    "            return i\n",
    "        return self.find_set(parent, parent[i])\n",
    "\n",
    "    # A function that does union of two sets of x and y\n",
    "    # (uses union by rank)\n",
    "    def union(self, parent, rank, x, y):\n",
    "        xroot = self.find_set(parent, x)\n",
    "        yroot = self.find_set(parent, y)\n",
    "        \n",
    "        # Attach smaller rank tree under root of\n",
    "        # high rank tree (Union by Rank)\n",
    "        if rank[xroot] < rank[yroot]:\n",
    "            parent[xroot] = yroot\n",
    "        elif rank[xroot] > rank[yroot]:\n",
    "            parent[yroot] = xroot\n",
    "\n",
    "            \n",
    "        # If ranks are same, then make one as root\n",
    "        # and increment its rank by one\n",
    "        else:\n",
    "            parent[yroot] = xroot\n",
    "            rank[xroot] += 1\n",
    "\n",
    "    # The main function to construct MST using Kruskal's # algorithm\n",
    "    def KruskalMST(self):\n",
    "        \n",
    "        result = [] # This will store the resultant MST\n",
    "        \n",
    "        # An index variable, used for sorted edges\n",
    "        i = 0\n",
    "        \n",
    "        # An index variable, used for result[]\n",
    "        e = 0\n",
    "\n",
    "        # Step 1: Sort all the edges in non-decreasing order of their weight. \n",
    "        # If we are not allowed to change the given graph, we can create a copy of graph\n",
    "        \n",
    "        self.graph = sorted(self.graph, key=lambda item: item[2])\n",
    "\n",
    "        parent = []\n",
    "        rank = []\n",
    "\n",
    "        # Create V subsets with single elements\n",
    "        for node in range(self.V):\n",
    "            parent.append(node)\n",
    "            rank.append(0)\n",
    "\n",
    "        # Number of edges to be taken is equal to V-1\n",
    "        while e < self.V - 1:\n",
    "\n",
    "            # Step 2: Pick the smallest edge and increment the index for next iteration\n",
    "            u, v, w = self.graph[i]\n",
    "            i = i + 1\n",
    "            x = self.find_set(parent, u)\n",
    "            y = self.find_set(parent, v)\n",
    "\n",
    "            # If including this edge does't cause cycle, include it in result and increment the indexof result for next edge\n",
    "            if x != y:\n",
    "                e = e + 1\n",
    "                result.append([u, v, w])\n",
    "                self.union(parent, rank, x, y)\n",
    "            # Else discard the edge\n",
    "\n",
    "        minimumCost = 0\n",
    "        print (\"Edges in the constructed MST\")\n",
    "        for u, v, weight in result:\n",
    "            minimumCost += weight\n",
    "            print(\"%d -- %d == %d\" % (u, v, weight))\n",
    "        print(\"Minimum Spanning Tree\" , minimumCost)\n",
    "\n",
    "# Driver code\n",
    "g = Graph(4)\n",
    "g.make_set(0, 1, 10)\n",
    "g.make_set(0, 2, 6)\n",
    "g.make_set(0, 3, 5)\n",
    "g.make_set(1, 3, 15)\n",
    "g.make_set(2, 3, 4)\n",
    "\n",
    "# Function call\n",
    "g.KruskalMST()\n"
   ]
  },
  {
   "cell_type": "markdown",
   "metadata": {
    "slideshow": {
     "slide_type": "slide"
    }
   },
   "source": [
    "### Kruskal's Algorithm - work\n",
    "\n",
    "0. Initialize tree $T \\leftarrow \\emptyset~~~~~~~~~~~~~~~~~~~~~~~~~~~~~~~O(1)$\n",
    "\n",
    "\n",
    "1. For each $v \\in V$, run `make_set(v)` $~~~~~O(|V|)$\n",
    "\n",
    "\n",
    "2. Sort edges in increasing order of weight $~~O(|E|\\lg |E|)$\n",
    "\n",
    "\n",
    "3. For each edge $e=(u,v)$ in sorted set: $~~O(|E|\\lg |V|)$\n",
    "  - if `find_set(u)` $\\ne$ `find_set(v)`: $~~O(\\lg |V|)$\n",
    "    - $T \\leftarrow T \\cup \\{(u,v)\\}$\n",
    "    - `union(u,v)`\n",
    "    \n",
    "    \n",
    "Thus, total work is $O(|E|\\lg |E|)$\n",
    "\n",
    "Since we have $E \\in O(|V|^2)$, this is equivalent to:\n",
    "\n",
    "$O(|E|\\lg |V|^2) \\equiv O(2|E| \\log |V|) \\equiv O(|E| \\log |V|)$\n"
   ]
  }
 ],
 "metadata": {
  "celltoolbar": "Slideshow",
  "kernelspec": {
   "display_name": "Python 3",
   "language": "python",
   "name": "python3"
  },
  "language_info": {
   "codemirror_mode": {
    "name": "ipython",
    "version": 3
   },
   "file_extension": ".py",
   "mimetype": "text/x-python",
   "name": "python",
   "nbconvert_exporter": "python",
   "pygments_lexer": "ipython3",
   "version": "3.8.5"
  },
  "rise": {
   "autolaunch": true,
   "controls": false,
   "enable_chalkboard": true,
   "scroll": true,
   "theme": "simple",
   "transition": "fade"
  },
  "toc": {
   "base_numbering": 1,
   "nav_menu": {},
   "number_sections": true,
   "sideBar": true,
   "skip_h1_title": true,
   "title_cell": "Table of Contents",
   "title_sidebar": "Contents",
   "toc_cell": true,
   "toc_position": {},
   "toc_section_display": true,
   "toc_window_display": false
  }
 },
 "nbformat": 4,
 "nbformat_minor": 4
}
