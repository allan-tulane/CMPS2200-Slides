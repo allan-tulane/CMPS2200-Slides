{
 "cells": [
  {
   "cell_type": "code",
   "execution_count": 2,
   "metadata": {
    "code_folding": [],
    "slideshow": {
     "slide_type": "skip"
    }
   },
   "outputs": [
    {
     "name": "stderr",
     "output_type": "stream",
     "text": [
      "/var/folders/hr/xk7y44053qvd12l_1mpwdnk40000gn/T/ipykernel_2024/1251851185.py:2: DeprecationWarning: Importing display from IPython.core.display is deprecated since IPython 7.14, please import from IPython display\n",
      "  from IPython.core.display import display,HTML\n"
     ]
    },
    {
     "data": {
      "text/html": [
       "<style>.prompt{width: 0px; min-width: 0px; visibility: collapse}</style>"
      ],
      "text/plain": [
       "<IPython.core.display.HTML object>"
      ]
     },
     "metadata": {},
     "output_type": "display_data"
    },
    {
     "data": {
      "text/html": [
       "<style>\n",
       "div#notebook {\n",
       " font-family: \"Exo_2\", sans-serif;\n",
       "}\n",
       "\n",
       ".rendered_html h1,\n",
       ".text_cell_render h1 {\n",
       " color: #126dce;\n",
       " font-size: 220%;\n",
       " text-align: center;\n",
       " font-weight: lighter;\n",
       "}\n",
       ".rendered_html h2,\n",
       ".text_cell_render h2 {\n",
       " text-align: center;\n",
       " font-size: 170%;\n",
       " color: #126dce;\n",
       " font-style: normal;\n",
       " font-weight: lighter;\n",
       "}\n",
       ".rendered_html h3,\n",
       ".text_cell_render h3 {\n",
       " font-size: 150%;\n",
       " color: #126dce;\n",
       " font-weight: lighter;\n",
       " text-decoration: italic;\n",
       " font-style: normal;\n",
       "}\n",
       ".rendered_html h4,\n",
       ".text_cell_render h4 {\n",
       " font-size: 120%;\n",
       " color: #126dce;\n",
       " font-weight: underline;\n",
       " font-style: normal;\n",
       "}\n",
       ".rendered_html h5,\n",
       ".text_cell_render h5 {\n",
       " font-size: 100%;\n",
       " color: #2f2f2f;\n",
       " font-weight: lighter;\n",
       " text-decoration: underline;\n",
       "}\n",
       "</style>\n"
      ],
      "text/plain": [
       "<IPython.core.display.HTML object>"
      ]
     },
     "metadata": {},
     "output_type": "display_data"
    }
   ],
   "source": [
    "# setup\n",
    "from IPython.core.display import display,HTML\n",
    "display(HTML('<style>.prompt{width: 0px; min-width: 0px; visibility: collapse}</style>'))\n",
    "display(HTML(open('../rise.css').read()))\n",
    "\n",
    "# imports\n",
    "import numpy as np\n",
    "import matplotlib.pyplot as plt\n",
    "import seaborn as sns\n",
    "%matplotlib inline\n",
    "sns.set(style=\"whitegrid\", font_scale=1.5, rc={'figure.figsize':(12, 6)})\n"
   ]
  },
  {
   "cell_type": "markdown",
   "metadata": {
    "slideshow": {
     "slide_type": "slide"
    }
   },
   "source": [
    "# CMPS 2200\n",
    "# Introduction to Algorithms\n",
    "\n",
    "## Minimum Spanning Tree:  Kruskal Algorithm\n"
   ]
  },
  {
   "cell_type": "markdown",
   "metadata": {
    "slideshow": {
     "slide_type": "slide"
    }
   },
   "source": [
    "Prim's algorithm does a graph search while computing the MST based on **light-edge** property. <br><br>\n",
    "\n",
    "<center>\n",
    "    <img src=\"figures/mst_example.jpeg\" width=50%/>\n",
    "</center>\n",
    "\n",
    "<br>\n",
    "<br>\n",
    "\n",
    "<span style=\"color:red\">**Question:**</span>  Can we just greedily add edges in increasing order of weight?"
   ]
  },
  {
   "cell_type": "markdown",
   "metadata": {
    "slideshow": {
     "slide_type": "slide"
    }
   },
   "source": [
    "### Kruskal's Algorithm\n",
    "\n",
    "“Perform the following step as many times as possible: Among the edges of $G$ not yet chosen, choose the shortest edge which does not form any loops with those edges already chosen.” [Kruskal, 1956]\n",
    "\n",
    "\n",
    "\n",
    "**Implementation:** \n",
    "- **Step 1**: Edge Sorting \n",
    "- **Step 2**: For an edge $(u,v)$, we must check if $u$ and $v$ are in the same connected component, based on the edges added so far.\n",
    "\n",
    "\n",
    "<span style=\"color:red\">**Question:**</span>  When will we stop? \n",
    "\n",
    "<span style=\"color:blue\">**Question:**</span>  How can we check if $u$ and $v$ from an edge $(u,v)$ are in the same connected component or not?\n"
   ]
  },
  {
   "cell_type": "markdown",
   "metadata": {
    "slideshow": {
     "slide_type": "fragment"
    }
   },
   "source": [
    "\n",
    "We can run BFS or DFS starting at $u$ or $v$, but this would be expensive: $O(|V| + |E|)$ work at each iteration."
   ]
  },
  {
   "cell_type": "markdown",
   "metadata": {
    "slideshow": {
     "slide_type": "fragment"
    }
   },
   "source": [
    "### Illustration Example\n",
    "\n",
    "<center>\n",
    "<img src=\"figures/kruskal2.png\" width=\"90%\"/>\n",
    "</center>\n",
    "\n",
    "\n"
   ]
  },
  {
   "cell_type": "markdown",
   "metadata": {
    "slideshow": {
     "slide_type": "fragment"
    }
   },
   "source": [
    "### Better Implementation\n",
    "\n",
    "If we think of each connected component as a set of nodes, we need an efficient way of:\n",
    "\n",
    "- checking which set $u$ and $v$ are in\n",
    "- determining if these two sets are equal\n",
    "- if they are not equal, then we need to take their union\n",
    "\n",
    "\n"
   ]
  },
  {
   "cell_type": "markdown",
   "metadata": {
    "slideshow": {
     "slide_type": "fragment"
    }
   },
   "source": [
    "To make checking set equality fast, we will assign a **representative** node in each set (**root**).\n",
    "\n",
    "E.g., suppose we have two sets $\\mathbf{S} = \\{S_1, S_2\\}$ where:\n",
    "\n",
    "$S_1 = \\{\\mathbf{a},b,c\\}~~~~ S_2 = \\{\\mathbf{s}, d, e\\}$\n",
    "\n",
    "We can (arbitrarily) assign the representative of $S_1$ to be $a$, and the representative of $S_2$ to be $s$.\n",
    "\n",
    "$r(S_1) = a ~~~ r(S_2) = s$\n",
    "\n",
    "<br>\n",
    "\n",
    "If $S_u$ is the set containing $u$ and $S_v$ is the set containing $v$, then we can check if $u$ and $v$ are in the same set by checking if $r(S_u) == r(S_v)$\n",
    "\n",
    "\n",
    "\n"
   ]
  },
  {
   "cell_type": "markdown",
   "metadata": {
    "slideshow": {
     "slide_type": "slide"
    }
   },
   "source": [
    "## Implementation with three operations:\n",
    "\n",
    "1. `make_set(u)`: create a new set containing the single element $u$ \n",
    "- $u$ will be the representative of this set\n",
    "\n",
    "  \n",
    "2. `find_set(u)`: returns the representative of the set containing $u$:  $r(S_u)$\n",
    "\n",
    "\n",
    "3. `union(u,v)`: replace $S_u$ and $S_v$ with $S_u \\cup S_v$ in the collection of sets $\\mathbf{S}$\n",
    "\n",
    "What data structures can we use to represent each set?"
   ]
  },
  {
   "cell_type": "markdown",
   "metadata": {
    "slideshow": {
     "slide_type": "slide"
    }
   },
   "source": [
    "## Data Structure of Balanced Forests\n",
    "\n",
    "<center>\n",
    "    <img src=\"figures/forest.png\"/>\n",
    "</center>\n",
    "\n",
    "Each set is a balanced tree, where the root is the representative.\n",
    "\n",
    "Assuming we represent a tree node with a pointer to its parent, what is the work of `find_set(u)` (to find the representative of $S_u$)?"
   ]
  },
  {
   "cell_type": "markdown",
   "metadata": {
    "slideshow": {
     "slide_type": "fragment"
    }
   },
   "source": [
    "$O(\\log n)$, assuming a balanced tree, to walk from a node to its root.\n",
    "\n",
    "How about `union(u,v)`?\n",
    "\n",
    "\n",
    "<center>\n",
    "    <img src=\"figures/merge.png\" width=50%/>\n",
    "</center>\n",
    "\n",
    "- find representative of $u ~~~~ O(\\log n)$\n",
    "- find representative of $v ~~~~ O(\\log n)$\n",
    "- link root of one tree to the root of another\n",
    "\n"
   ]
  },
  {
   "cell_type": "markdown",
   "metadata": {
    "slideshow": {
     "slide_type": "slide"
    }
   },
   "source": [
    "### Kruskal's Algorithm\n",
    "\n",
    "0. Initialize tree $T \\leftarrow \\emptyset$  \n",
    "\n",
    "<br>\n",
    "\n",
    "\n",
    "1. For each $v \\in V$, run `make_set(v)`\n",
    "\n",
    "<br>\n",
    "\n",
    "2. Sort edges in increasing order of weight\n",
    "\n",
    "<br>\n",
    "\n",
    "3. For each edge $e=(u,v)$ in sorted set:\n",
    "  - if `find_set(u)` $\\ne$ `find_set(v)`:\n",
    "    - $T \\leftarrow T \\cup \\{(u,v)\\}$\n",
    "    - `union(u,v)`\n"
   ]
  },
  {
   "cell_type": "code",
   "execution_count": 1,
   "metadata": {
    "slideshow": {
     "slide_type": "slide"
    }
   },
   "outputs": [
    {
     "name": "stdout",
     "output_type": "stream",
     "text": [
      "Edges in the constructed MST\n",
      "2 -- 3 == 4\n",
      "0 -- 3 == 5\n",
      "0 -- 1 == 10\n",
      "Minimum Spanning Tree 19\n"
     ]
    }
   ],
   "source": [
    "# Python program for Kruskal's algorithm to find\n",
    "# Minimum Spanning Tree of a given connected,\n",
    "# undirected and weighted graph\n",
    "\n",
    "from collections import defaultdict\n",
    "\n",
    "# Class to represent a graph\n",
    "\n",
    "\n",
    "class Graph:\n",
    "    def __init__(self, vertices):\n",
    "        self.V = vertices # No. of vertices\n",
    "        self.graph = [] # default dictionary\n",
    "        # to store graph\n",
    "\n",
    "    # function to add an edge to graph\n",
    "    def edge_graph(self, u, v, w):\n",
    "        self.graph.append([u, v, w])\n",
    "\n",
    "    # A utility function to find set of an element i\n",
    "    # (uses path compression technique)\n",
    "    def find_set(self, parent, i):\n",
    "        if parent[i] == i:\n",
    "            return i\n",
    "        return self.find_set(parent, parent[i])\n",
    "\n",
    "    # A function that does union of two sets of x and y\n",
    "    # (uses union by rank)\n",
    "    def union(self, parent, rank, x, y):\n",
    "        xroot = self.find_set(parent, x)\n",
    "        yroot = self.find_set(parent, y)\n",
    "        \n",
    "        # Attach smaller rank tree under root of\n",
    "        # high rank tree (Union by Rank)\n",
    "        if rank[xroot] < rank[yroot]:\n",
    "            parent[xroot] = yroot\n",
    "        elif rank[xroot] > rank[yroot]:\n",
    "            parent[yroot] = xroot\n",
    "\n",
    "            \n",
    "        # If ranks are same, then make one as root\n",
    "        # and increment its rank by one\n",
    "        else:\n",
    "            parent[yroot] = xroot\n",
    "            rank[xroot] += 1\n",
    "\n",
    "    # The main function to construct MST using Kruskal's # algorithm\n",
    "    def KruskalMST(self):\n",
    "        \n",
    "        # Create V subsets with single elements\n",
    "        def make_set(self):\n",
    "            for node in range(self.V):\n",
    "                parent.append(node)\n",
    "                rank.append(0)\n",
    "            return parent, rank\n",
    "        \n",
    "        result = [] # This will store the resultant MST\n",
    "        \n",
    "        # An index variable, used for sorted edges\n",
    "        i = 0        \n",
    "        # An index variable, used for result[]\n",
    "        e = 0\n",
    "\n",
    "        # Step 1: Sort all the edges in non-decreasing order of their weight. \n",
    "        # If we are not allowed to change the given graph, we can create a copy of graph\n",
    "        \n",
    "        self.graph = sorted(self.graph, key=lambda item: item[2])\n",
    "\n",
    "        ## create the parent for each node with rank 0\n",
    "        parent = []\n",
    "        rank = []        \n",
    "        parent, rank = make_set(self)\n",
    "\n",
    "        # Number of edges to be taken is equal to V-1\n",
    "        while e < self.V - 1:\n",
    "\n",
    "            # Step 2: Pick the smallest edge and increment the index for next iteration\n",
    "            u, v, w = self.graph[i]\n",
    "            i = i + 1\n",
    "            x = self.find_set(parent, u)\n",
    "            y = self.find_set(parent, v)\n",
    "\n",
    "            # If including this edge does't cause cycle, include it in result and increment the indexof result for next edge\n",
    "            if x != y:\n",
    "                e = e + 1\n",
    "                result.append([u, v, w])\n",
    "                self.union(parent, rank, x, y)\n",
    "            # Else discard the edge\n",
    "\n",
    "        minimumCost = 0\n",
    "        print (\"Edges in the constructed MST\")\n",
    "        for u, v, weight in result:\n",
    "            minimumCost += weight\n",
    "            print(\"%d -- %d == %d\" % (u, v, weight))\n",
    "        print(\"Minimum Spanning Tree\" , minimumCost)\n",
    "\n",
    "# Driver code\n",
    "g = Graph(4)\n",
    "## node, node, weight\n",
    "g.edge_graph(0, 1, 10)\n",
    "g.edge_graph(0, 2, 6)\n",
    "g.edge_graph(0, 3, 5)\n",
    "g.edge_graph(1, 3, 15)\n",
    "g.edge_graph(2, 3, 4)\n",
    "\n",
    "# Function call\n",
    "g.KruskalMST()"
   ]
  },
  {
   "cell_type": "markdown",
   "metadata": {
    "slideshow": {
     "slide_type": "slide"
    }
   },
   "source": [
    "### Kruskal's Algorithm - work\n",
    "\n",
    "0. Initialize tree $T \\leftarrow \\emptyset~~~~~~~~~~~~~~~~~~~~~~~~~~~~~~~O(1)$\n",
    "\n",
    "\n",
    "1. For each $v \\in V$, run `make_set(v)` $~~~~~O(|V|)$\n",
    "\n",
    "\n",
    "2. Sort edges in increasing order of weight $~~O(|E|\\lg |E|)$\n",
    "\n",
    "\n",
    "3. For each edge $e=(u,v)$ in sorted set: $~~O(|E|\\lg |V|)$\n",
    "  - if `find_set(u)` $\\ne$ `find_set(v)`: $~~O(\\lg |V|)$\n",
    "    - $T \\leftarrow T \\cup \\{(u,v)\\}$\n",
    "    - `union(u,v)`\n",
    "    \n",
    "    \n",
    "Thus, total work is $O(|E|\\lg |E|)$, since we have $|E| \\in O(|V|^2)$ and $|E| \\in \\Omega(|V|)$\n",
    "\n",
    "\n",
    "Comparison: Prim's Algorithm: $O(|E| \\log |E|)$\n"
   ]
  }
 ],
 "metadata": {
  "celltoolbar": "Slideshow",
  "kernelspec": {
   "display_name": "Python 3 (ipykernel)",
   "language": "python",
   "name": "python3"
  },
  "language_info": {
   "codemirror_mode": {
    "name": "ipython",
    "version": 3
   },
   "file_extension": ".py",
   "mimetype": "text/x-python",
   "name": "python",
   "nbconvert_exporter": "python",
   "pygments_lexer": "ipython3",
   "version": "3.11.0"
  },
  "rise": {
   "autolaunch": true,
   "controls": false,
   "enable_chalkboard": true,
   "scroll": true,
   "theme": "simple",
   "transition": "fade"
  },
  "toc": {
   "base_numbering": 1,
   "nav_menu": {},
   "number_sections": true,
   "sideBar": true,
   "skip_h1_title": true,
   "title_cell": "Table of Contents",
   "title_sidebar": "Contents",
   "toc_cell": true,
   "toc_position": {},
   "toc_section_display": true,
   "toc_window_display": false
  }
 },
 "nbformat": 4,
 "nbformat_minor": 4
}
