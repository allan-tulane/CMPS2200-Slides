{
 "cells": [
  {
   "cell_type": "code",
   "execution_count": 3,
   "metadata": {
    "code_folding": [],
    "slideshow": {
     "slide_type": "skip"
    }
   },
   "outputs": [
    {
     "data": {
      "text/html": [
       "<style>.prompt{width: 0px; min-width: 0px; visibility: collapse}</style>"
      ],
      "text/plain": [
       "<IPython.core.display.HTML object>"
      ]
     },
     "metadata": {},
     "output_type": "display_data"
    },
    {
     "data": {
      "text/html": [
       "<style>\n",
       "div#notebook {\n",
       " font-family: \"Exo_2\", sans-serif;\n",
       "}\n",
       "\n",
       ".rendered_html h1,\n",
       ".text_cell_render h1 {\n",
       " color: #126dce;\n",
       " font-size: 220%;\n",
       " text-align: center;\n",
       " font-weight: lighter;\n",
       "}\n",
       ".rendered_html h2,\n",
       ".text_cell_render h2 {\n",
       " text-align: center;\n",
       " font-size: 170%;\n",
       " color: #126dce;\n",
       " font-style: normal;\n",
       " font-weight: lighter;\n",
       "}\n",
       ".rendered_html h3,\n",
       ".text_cell_render h3 {\n",
       " font-size: 150%;\n",
       " color: #126dce;\n",
       " font-weight: lighter;\n",
       " text-decoration: italic;\n",
       " font-style: normal;\n",
       "}\n",
       ".rendered_html h4,\n",
       ".text_cell_render h4 {\n",
       " font-size: 120%;\n",
       " color: #126dce;\n",
       " font-weight: underline;\n",
       " font-style: normal;\n",
       "}\n",
       ".rendered_html h5,\n",
       ".text_cell_render h5 {\n",
       " font-size: 100%;\n",
       " color: #2f2f2f;\n",
       " font-weight: lighter;\n",
       " text-decoration: underline;\n",
       "}\n",
       "</style>\n"
      ],
      "text/plain": [
       "<IPython.core.display.HTML object>"
      ]
     },
     "metadata": {},
     "output_type": "display_data"
    }
   ],
   "source": [
    "# setup\n",
    "from IPython.core.display import display,HTML\n",
    "display(HTML('<style>.prompt{width: 0px; min-width: 0px; visibility: collapse}</style>'))\n",
    "display(HTML(open('../rise.css').read()))\n",
    "\n",
    "# imports\n",
    "import numpy as np\n",
    "import matplotlib.pyplot as plt\n",
    "import seaborn as sns\n",
    "%matplotlib inline\n",
    "sns.set(style=\"whitegrid\", font_scale=1.5, rc={'figure.figsize':(12, 6)})\n"
   ]
  },
  {
   "cell_type": "markdown",
   "metadata": {
    "slideshow": {
     "slide_type": "slide"
    }
   },
   "source": [
    "# CMPS 2200\n",
    "# Introduction to Algorithms\n",
    "\n",
    "## Parallel Minimum Spanning Tree\n"
   ]
  },
  {
   "cell_type": "markdown",
   "metadata": {
    "slideshow": {
     "slide_type": "slide"
    }
   },
   "source": [
    "\n",
    "\n",
    "- We know that each light edge must be in the MST.\n",
    "\n",
    "- Prim and Kruskal greedily pick lightest edges one at a time.\n",
    "\n",
    "\n",
    "<center>\n",
    "    <img src=\"figures/mst_example.jpeg\" width=50%/>\n",
    "</center>\n",
    "\n",
    "<br>\n",
    "<br>\n",
    "\n",
    "<span style=\"color:red\">**Question:**</span>  Can we pick more than one at a time?\n",
    "\n",
    "\n"
   ]
  },
  {
   "cell_type": "markdown",
   "metadata": {
    "slideshow": {
     "slide_type": "slide"
    }
   },
   "source": [
    "Consider a trivial cut: one vertex in one partition, everything else in the other.\n",
    "\n",
    "We know that lowest weight edge from a vertex must be in MST. Call these the **vertex-bridges** of the graph.\n",
    "\n",
    "<center>\n",
    "<img src=\"figures/bridges.jpg\" width=50%/>\n",
    "</center>\n",
    "\n",
    "Are we done? "
   ]
  },
  {
   "cell_type": "markdown",
   "metadata": {
    "slideshow": {
     "slide_type": "slide"
    }
   },
   "source": [
    "We haven't necessarily selected $n-1$ edges, which we need to have a MST.\n",
    "\n",
    "The problem is some edges are selected by multiple vertices -- e.g., $a$ and $b$ both pick edge $(a,b)$.\n",
    "\n",
    "So, we need to repeat this somehow, efficiently.\n",
    "\n",
    "If we could collapse together the vertices connected by the selected edges, then we could solve a smaller version of this problem.\n",
    "\n",
    "This is exactly what **contraction** is for!\n",
    "\n",
    "<center>\n",
    "    <img src=\"figures/borukva1.jpg\" width=40%/>\n",
    "    <img src=\"figures/borukva2.jpg\" width=10%/>    \n",
    "</center>\n",
    "\n",
    "<br><br>\n",
    "\n",
    "Due to light edge property, we know we should select $(e,f)$ which has minimum weight of $4$.\n",
    "\n",
    "<br>\n",
    "\n",
    "Notice that by collapsing vertices, we ignore internal edges -- e.g., if there were an edge from $c$ to $f$, we would ignore it when collapsing $c,d,f$. Why is this okay? "
   ]
  },
  {
   "cell_type": "markdown",
   "metadata": {
    "slideshow": {
     "slide_type": "slide"
    }
   },
   "source": [
    "## Borůvka's Algorithm\n",
    "\n",
    "While there are edges remaining:\n",
    "\n",
    "- select the minimum weight edge out of each vertex and contract each part defined by these edges into a vertex;\n",
    "\n",
    "- remove self edges, and when there are redundant edges keep the minimum weight edge; and\n",
    "\n",
    "- add all selected edges to the MST.\n"
   ]
  },
  {
   "cell_type": "markdown",
   "metadata": {
    "slideshow": {
     "slide_type": "fragment"
    }
   },
   "source": [
    "How many vertices will we contract at each iteration? Consider the example again:\n",
    "\n",
    "<center>\n",
    "    <img src=\"figures/borukva1.jpg\" width=40%/>\n",
    "</center>\n",
    "\n"
   ]
  },
  {
   "cell_type": "markdown",
   "metadata": {
    "slideshow": {
     "slide_type": "fragment"
    }
   },
   "source": [
    "**Best-case**: contract away $n-1$ vertices. We found the MST in one iteration!\n",
    "\n",
    "\n",
    "<center>\n",
    "    <img src=\"figures/borukva3.jpg\" width=40%/>\n",
    "</center>\n",
    "\n",
    "**Worst-case**: contract away $\\frac{n}{2}$ vertices. Each edge removes a single vertex.\n",
    "<center>\n",
    "    <img src=\"figures/borukva4.png\" width=40%/>\n",
    "</center>\n",
    "\n",
    "<br>\n",
    "\n",
    "So, we're guaranteed to remove $n/2$ vertices at each iteration.\n",
    "\n",
    "Total number of contraction iterations is $O(\\lg n)$"
   ]
  },
  {
   "cell_type": "markdown",
   "metadata": {
    "slideshow": {
     "slide_type": "slide"
    }
   },
   "source": [
    "## Contracting in Borůvka's Algorithm\n",
    "\n",
    "How can we contract these partitions?\n",
    "\n",
    "<center>\n",
    "    <img src=\"figures/borukva1.jpg\" width=40%/>\n",
    "</center>\n",
    "\n"
   ]
  },
  {
   "cell_type": "markdown",
   "metadata": {
    "slideshow": {
     "slide_type": "slide"
    }
   },
   "source": [
    "## Implementing Borůvka's Algorithm\n",
    "\n",
    "While there are edges remaining:\n",
    "\n",
    "- select the minimum weight edge out of each vertex and contract each part defined by these edges into a vertex;\n",
    "  - Can implement with a min `reduce` at each vertex: span $\\Rightarrow O(\\lg |V|)$.\n",
    "  \n",
    "  \n",
    "- remove self edges, and when there are redundant edges keep the minimum weight edge;\n",
    "  - One run of contraction: span $\\Rightarrow O(\\lg |V|)$.\n",
    "\n",
    "\n",
    "- add all selected edges to the MST.\n",
    "  - `filter`: span $\\Rightarrow O(\\lg |E|) \\in O(\\lg |V|)$\n",
    "\n",
    "\n",
    "<br>\n",
    "\n",
    "$S(|V|) = S(\\frac{3|V|}{4}) + \\lg |V| \\in O(\\lg^2 |V|)$"
   ]
  }
 ],
 "metadata": {
  "celltoolbar": "Slideshow",
  "kernelspec": {
   "display_name": "Python 3 (ipykernel)",
   "language": "python",
   "name": "python3"
  },
  "language_info": {
   "codemirror_mode": {
    "name": "ipython",
    "version": 3
   },
   "file_extension": ".py",
   "mimetype": "text/x-python",
   "name": "python",
   "nbconvert_exporter": "python",
   "pygments_lexer": "ipython3",
   "version": "3.11.0"
  },
  "rise": {
   "autolaunch": true,
   "controls": false,
   "enable_chalkboard": true,
   "scroll": true,
   "theme": "simple",
   "transition": "fade"
  },
  "toc": {
   "base_numbering": 1,
   "nav_menu": {},
   "number_sections": true,
   "sideBar": true,
   "skip_h1_title": true,
   "title_cell": "Table of Contents",
   "title_sidebar": "Contents",
   "toc_cell": true,
   "toc_position": {},
   "toc_section_display": true,
   "toc_window_display": false
  }
 },
 "nbformat": 4,
 "nbformat_minor": 4
}
