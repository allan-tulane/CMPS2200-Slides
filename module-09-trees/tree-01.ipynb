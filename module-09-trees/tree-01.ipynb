{
 "cells": [
  {
   "cell_type": "code",
   "execution_count": 1,
   "metadata": {
    "code_folding": [],
    "slideshow": {
     "slide_type": "skip"
    }
   },
   "outputs": [
    {
     "data": {
      "text/html": [
       "<style>.prompt{width: 0px; min-width: 0px; visibility: collapse}</style>"
      ],
      "text/plain": [
       "<IPython.core.display.HTML object>"
      ]
     },
     "metadata": {},
     "output_type": "display_data"
    },
    {
     "data": {
      "text/html": [
       "<style>\n",
       "div#notebook {\n",
       " font-family: \"Exo_2\", sans-serif;\n",
       "}\n",
       "\n",
       ".rendered_html h1,\n",
       ".text_cell_render h1 {\n",
       " color: #126dce;\n",
       " font-size: 220%;\n",
       " text-align: center;\n",
       " font-weight: lighter;\n",
       "}\n",
       ".rendered_html h2,\n",
       ".text_cell_render h2 {\n",
       " text-align: center;\n",
       " font-size: 170%;\n",
       " color: #126dce;\n",
       " font-style: normal;\n",
       " font-weight: lighter;\n",
       "}\n",
       ".rendered_html h3,\n",
       ".text_cell_render h3 {\n",
       " font-size: 150%;\n",
       " color: #126dce;\n",
       " font-weight: lighter;\n",
       " text-decoration: italic;\n",
       " font-style: normal;\n",
       "}\n",
       ".rendered_html h4,\n",
       ".text_cell_render h4 {\n",
       " font-size: 120%;\n",
       " color: #126dce;\n",
       " font-weight: underline;\n",
       " font-style: normal;\n",
       "}\n",
       ".rendered_html h5,\n",
       ".text_cell_render h5 {\n",
       " font-size: 100%;\n",
       " color: #2f2f2f;\n",
       " font-weight: lighter;\n",
       " text-decoration: underline;\n",
       "}\n",
       "</style>\n"
      ],
      "text/plain": [
       "<IPython.core.display.HTML object>"
      ]
     },
     "metadata": {},
     "output_type": "display_data"
    }
   ],
   "source": [
    "# setup\n",
    "from IPython.core.display import display,HTML\n",
    "display(HTML('<style>.prompt{width: 0px; min-width: 0px; visibility: collapse}</style>'))\n",
    "display(HTML(open('../rise.css').read()))\n",
    "\n",
    "# imports\n",
    "import numpy as np\n",
    "import matplotlib.pyplot as plt\n",
    "import seaborn as sns\n",
    "%matplotlib inline\n",
    "sns.set(style=\"whitegrid\", font_scale=1.5, rc={'figure.figsize':(12, 6)})\n"
   ]
  },
  {
   "cell_type": "markdown",
   "metadata": {
    "slideshow": {
     "slide_type": "slide"
    }
   },
   "source": [
    "# CMPS 2200\n",
    "# Introduction to Algorithms\n",
    "\n",
    "## Spanning Trees\n"
   ]
  },
  {
   "cell_type": "markdown",
   "metadata": {
    "slideshow": {
     "slide_type": "slide"
    }
   },
   "source": [
    "Agenda\n",
    "\n",
    "- Introduce Spanning Trees \n",
    "- Minimal Spanning Trees"
   ]
  },
  {
   "cell_type": "markdown",
   "metadata": {
    "slideshow": {
     "slide_type": "slide"
    }
   },
   "source": [
    "Recall breadth-first search. What order will it visit nodes in this graph?\n",
    "\n",
    "<center>\n",
    "<img src=\"figures/st0.png\"/>\n",
    "</center>"
   ]
  },
  {
   "cell_type": "markdown",
   "metadata": {
    "slideshow": {
     "slide_type": "fragment"
    }
   },
   "source": [
    "<center>\n",
    "<img src=\"figures/st1.png\"/>\n",
    "</center>\n",
    "\n",
    "<br><br>\n",
    "\n",
    "Because we avoid revisiting nodes, we can view the edges we visit as a tree.\n",
    "\n",
    "```python\n",
    "for n in graph[node]:\n",
    "    if n not in visited:\n",
    "        frontier.append(n)\n",
    "```\n",
    "\n",
    "<center>\n",
    "<img src=\"figures/st2.png\"/>\n",
    "</center>\n",
    "\n",
    "<br>\n",
    "\n",
    "Because this tree includes all vertices, we call this a **spanning tree**.\n",
    "\n",
    "> For a connected undirected graph $G = (V,E)$, a **spanning tree** is a tree $T = (V,E')$ with $E' \\subseteq E$\n",
    " "
   ]
  },
  {
   "cell_type": "markdown",
   "metadata": {
    "slideshow": {
     "slide_type": "fragment"
    }
   },
   "source": [
    "\n",
    " \n",
    "Now, suppose we have a weighted graph:\n",
    "\n",
    "<center>\n",
    "<img src=\"figures/st3.png\"/>\n",
    "</center>\n",
    "\n",
    "We refer to the **weight** of a tree $T$ with edges $E(T)$ as:\n",
    "\n",
    "$$w(T) = \\sum_{e \\in E(T)} w(e)$$\n",
    "\n",
    "\n",
    "`Is there any small spanning tree?`"
   ]
  },
  {
   "cell_type": "markdown",
   "metadata": {
    "slideshow": {
     "slide_type": "fragment"
    }
   },
   "source": [
    "<center>\n",
    "<img src=\"figures/st4.png\"/>\n",
    "</center>\n",
    "\n",
    "This is called the **minimum spanning tree (MST)**  of the graph.\n",
    "\n",
    "<br><br>\n",
    "\n",
    "What are some applications where we might want to find the MST?"
   ]
  },
  {
   "cell_type": "markdown",
   "metadata": {
    "slideshow": {
     "slide_type": "fragment"
    }
   },
   "source": [
    "### Applications of MST\n",
    "\n",
    "- Power grid\n",
    "  - minimize cost\n",
    "  \n",
    "- Transportation networks\n",
    "  - build bridges between towns\n",
    "  - minimize building cost\n",
    "  \n",
    "- Computer networks\n",
    "  - minimize throughput\n",
    "  \n",
    "  \n"
   ]
  },
  {
   "cell_type": "markdown",
   "metadata": {
    "slideshow": {
     "slide_type": "slide"
    }
   },
   "source": [
    "What is the brute-force approach to find the MST?"
   ]
  },
  {
   "cell_type": "markdown",
   "metadata": {
    "slideshow": {
     "slide_type": "fragment"
    }
   },
   "source": [
    "As usual, we'll have an exponential number of possible spanning trees to consider.\n",
    "\n",
    "<br><br>\n",
    "\n",
    "What about a greedy approach?"
   ]
  },
  {
   "cell_type": "markdown",
   "metadata": {
    "slideshow": {
     "slide_type": "fragment"
    }
   },
   "source": [
    "Can we just select edges in increasing order of weight?"
   ]
  },
  {
   "cell_type": "markdown",
   "metadata": {
    "slideshow": {
     "slide_type": "slide"
    }
   },
   "source": [
    "### Light-Edge Property\n",
    "\n",
    "<br><br>\n",
    "\n",
    "<center>\n",
    "    <img src=\"figures/mst_example.jpeg\"/>\n",
    "</center>\n",
    "\n",
    "<br>\n",
    "\n",
    "- Node Perspective [Prim's Algorithm]\n",
    "- Edge Perspective [Kruskal Algorithm]"
   ]
  },
  {
   "cell_type": "markdown",
   "metadata": {
    "slideshow": {
     "slide_type": "slide"
    }
   },
   "source": [
    "## Prim's Algorithm\n",
    "\n",
    "Perform **priority-first search** on $G$ starting from an arbitrary vertex $s$.\n",
    "\n",
    "To select the next edge to expand the frontier $X$, use priority:\n",
    "- $p(v) = \\min_{x \\in X} w(x,v)$\n",
    "- Add the chosen edge $(u,v)$ to the tree.\n"
   ]
  },
  {
   "cell_type": "markdown",
   "metadata": {
    "slideshow": {
     "slide_type": "fragment"
    }
   },
   "source": [
    "\n",
    "<center>\n",
    "    <img src=\"figures/prim.jpg\" width=40%/>\n",
    "</center>\n",
    "\n",
    "- Edge $(c, f)$ has minimum weight across the cut $(X,Y)$.\n",
    "- So, we visit $f$ by adding it to the frontier\n"
   ]
  },
  {
   "cell_type": "markdown",
   "metadata": {
    "slideshow": {
     "slide_type": "fragment"
    }
   },
   "source": [
    "This sounds very similar to Dijkstra's algorithm. What's the difference?"
   ]
  },
  {
   "cell_type": "markdown",
   "metadata": {
    "slideshow": {
     "slide_type": "fragment"
    }
   },
   "source": [
    "<center>\n",
    "<img src=\"figures/st4.png\"/>\n",
    "</center>\n"
   ]
  },
  {
   "cell_type": "code",
   "execution_count": null,
   "metadata": {
    "slideshow": {
     "slide_type": "fragment"
    }
   },
   "outputs": [],
   "source": [
    "from heapq import heappush, heappop \n",
    "\n",
    "def dijkstra(graph, source):\n",
    "    def dijkstra_helper(visited, frontier):\n",
    "        if len(frontier) == 0:\n",
    "            return visited\n",
    "        else:\n",
    "            distance, node = heappop(frontier)\n",
    "            if node in visited:\n",
    "                return dijkstra_helper(visited, frontier)\n",
    "            else:\n",
    "                print('visiting', node)\n",
    "                visited[node] = distance\n",
    "                for neighbor, weight in graph[node]:\n",
    "                    heappush(frontier, (distance + weight, neighbor))                \n",
    "                return dijkstra_helper(visited, frontier)\n",
    "        \n",
    "    frontier = []\n",
    "    heappush(frontier, (0, source))\n",
    "    visited = dict()  # store the final shortest paths for each node.\n",
    "    return dijkstra_helper(visited, frontier)\n",
    "\n",
    "graph = {\n",
    "            's': {('a', 4), ('b', 8)},\n",
    "            'a': {('s', 4), ('b', 2), ('c', 5)},\n",
    "            'b': {('s', 8), ('a', 2), ('c', 3)}, \n",
    "            'c': {('a', 5), ('b', 3), ('d', 3)},\n",
    "            'd': {('c', 3)},\n",
    "        }\n",
    "dijkstra(graph, 's')"
   ]
  },
  {
   "cell_type": "code",
   "execution_count": null,
   "metadata": {
    "slideshow": {
     "slide_type": "fragment"
    }
   },
   "outputs": [],
   "source": [
    "def prim(graph):\n",
    "    def prim_helper(visited, frontier, tree):\n",
    "        if len(frontier) == 0:\n",
    "            return tree\n",
    "        else:\n",
    "            weight, node, parent = heappop(frontier)\n",
    "            if node in visited:\n",
    "                return prim_helper(visited, frontier, tree)\n",
    "            else:\n",
    "                print('visiting', node)\n",
    "                # record this edge in the tree\n",
    "                tree.add((weight, node, parent))\n",
    "                visited.add(node)\n",
    "                for neighbor, w in graph[node]:\n",
    "                    heappush(frontier, (w, neighbor, node)) ## different point ## \n",
    "                    # compare with dijkstra:\n",
    "                    # heappush(frontier, (distance + weight, neighbor))                \n",
    "\n",
    "                return prim_helper(visited, frontier, tree)\n",
    "        \n",
    "    # pick first node as source arbitrarily\n",
    "    source = list(graph.keys())[0]\n",
    "    frontier = []\n",
    "    heappush(frontier, (0, source, source))\n",
    "    visited = set()  # store the visited nodes (don't need distance anymore)\n",
    "    tree = set()\n",
    "    prim_helper(visited, frontier, tree)\n",
    "    return tree\n",
    "\n",
    "prim(graph)"
   ]
  },
  {
   "cell_type": "markdown",
   "metadata": {
    "slideshow": {
     "slide_type": "slide"
    }
   },
   "source": [
    "## Work of Prim's Algorithm\n",
    "\n",
    "This does identical work to Dijkstra, so $O(|E| \\log |E|)$"
   ]
  },
  {
   "cell_type": "markdown",
   "metadata": {
    "slideshow": {
     "slide_type": "slide"
    }
   },
   "source": [
    "Can we just pick an arbitrary source node? Why or why not?"
   ]
  },
  {
   "cell_type": "markdown",
   "metadata": {
    "slideshow": {
     "slide_type": "fragment"
    }
   },
   "source": [
    "What about directed graphs? Will this work?"
   ]
  },
  {
   "cell_type": "markdown",
   "metadata": {
    "slideshow": {
     "slide_type": "fragment"
    }
   },
   "source": [
    "No - if source node is not connected to all other nodes.\n",
    "\n",
    "Even if it is, we may have a suboptimal solution:\n",
    "\n",
    "![figures/prim-fail.png](figures/prim-fail.png)"
   ]
  }
 ],
 "metadata": {
  "celltoolbar": "Slideshow",
  "kernelspec": {
   "display_name": "Python 3",
   "language": "python",
   "name": "python3"
  },
  "language_info": {
   "codemirror_mode": {
    "name": "ipython",
    "version": 3
   },
   "file_extension": ".py",
   "mimetype": "text/x-python",
   "name": "python",
   "nbconvert_exporter": "python",
   "pygments_lexer": "ipython3",
   "version": "3.8.5"
  },
  "rise": {
   "autolaunch": true,
   "controls": false,
   "enable_chalkboard": true,
   "scroll": true,
   "theme": "simple",
   "transition": "fade"
  },
  "toc": {
   "base_numbering": 1,
   "nav_menu": {},
   "number_sections": true,
   "sideBar": true,
   "skip_h1_title": true,
   "title_cell": "Table of Contents",
   "title_sidebar": "Contents",
   "toc_cell": true,
   "toc_position": {},
   "toc_section_display": true,
   "toc_window_display": false
  }
 },
 "nbformat": 4,
 "nbformat_minor": 4
}
