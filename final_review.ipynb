{
 "cells": [
  {
   "cell_type": "code",
   "execution_count": 3,
   "metadata": {
    "code_folding": [],
    "slideshow": {
     "slide_type": "skip"
    }
   },
   "outputs": [
    {
     "data": {
      "text/html": [
       "<style>.prompt{width: 0px; min-width: 0px; visibility: collapse}</style>"
      ],
      "text/plain": [
       "<IPython.core.display.HTML object>"
      ]
     },
     "metadata": {},
     "output_type": "display_data"
    },
    {
     "data": {
      "text/html": [
       "<style>\n",
       "div#notebook {\n",
       " font-family: \"Exo_2\", sans-serif;\n",
       "}\n",
       "\n",
       ".rendered_html h1,\n",
       ".text_cell_render h1 {\n",
       " color: #126dce;\n",
       " font-size: 220%;\n",
       " text-align: center;\n",
       " font-weight: lighter;\n",
       "}\n",
       ".rendered_html h2,\n",
       ".text_cell_render h2 {\n",
       " text-align: center;\n",
       " font-size: 170%;\n",
       " color: #126dce;\n",
       " font-style: normal;\n",
       " font-weight: lighter;\n",
       "}\n",
       ".rendered_html h3,\n",
       ".text_cell_render h3 {\n",
       " font-size: 150%;\n",
       " color: #126dce;\n",
       " font-weight: lighter;\n",
       " text-decoration: italic;\n",
       " font-style: normal;\n",
       "}\n",
       ".rendered_html h4,\n",
       ".text_cell_render h4 {\n",
       " font-size: 120%;\n",
       " color: #126dce;\n",
       " font-weight: underline;\n",
       " font-style: normal;\n",
       "}\n",
       ".rendered_html h5,\n",
       ".text_cell_render h5 {\n",
       " font-size: 100%;\n",
       " color: #2f2f2f;\n",
       " font-weight: lighter;\n",
       " text-decoration: underline;\n",
       "}\n",
       "</style>\n"
      ],
      "text/plain": [
       "<IPython.core.display.HTML object>"
      ]
     },
     "metadata": {},
     "output_type": "display_data"
    }
   ],
   "source": [
    "# setup\n",
    "from IPython.core.display import display,HTML\n",
    "display(HTML('<style>.prompt{width: 0px; min-width: 0px; visibility: collapse}</style>'))\n",
    "display(HTML(open('rise.css').read()))\n",
    "\n",
    "# imports\n",
    "import numpy as np\n",
    "import matplotlib.pyplot as plt\n",
    "import seaborn as sns\n",
    "%matplotlib inline\n",
    "sns.set(style=\"whitegrid\", font_scale=1.5, rc={'figure.figsize':(12, 6)})\n"
   ]
  },
  {
   "cell_type": "markdown",
   "metadata": {
    "slideshow": {
     "slide_type": "slide"
    }
   },
   "source": [
    "# CMPS 2200\n",
    "# Introduction to Algorithms\n",
    "\n",
    "## Final Review\n"
   ]
  },
  {
   "cell_type": "markdown",
   "metadata": {
    "slideshow": {
     "slide_type": "slide"
    }
   },
   "source": [
    "### Schedule\n",
    "\n",
    "\n",
    "- Part 1: Online, Dec 13 12PM-2PM, ST 402A [TA: Zach Yin]\n",
    "- Part 2: Take-Home, Dec 11 - Dec 14\n",
    "\n",
    "\n",
    "### What's going to be covered on the test?\n",
    "\n",
    "- Randomized \n",
    "- Greedy\n",
    "- Dynamic \n",
    "- Graph\n",
    "- Minimal Spanning Tree\n"
   ]
  },
  {
   "cell_type": "markdown",
   "metadata": {
    "slideshow": {
     "slide_type": "slide"
    }
   },
   "source": [
    "### Randomized Algorithm\n",
    " \n",
    "\n",
    "- Expected Work and Span - > We still have an extreme small probability to worst case\n",
    "\n",
    "- The expected number of trials to get an outcome of probability 𝒑 is 𝟏/𝒑.\n",
    "\n",
    "\n",
    "> Selection (Finding the k-th minimal element); what is the work and span?\n",
    "\n",
    "> QuickSort v.s. MergeSort\n",
    "\n",
    "<span style=\"color:red\">**Question**:</span>  Random pivot iteratively partitions the sequence; Can you describe iteratively?"
   ]
  },
  {
   "cell_type": "markdown",
   "metadata": {
    "slideshow": {
     "slide_type": "slide"
    }
   },
   "source": [
    "### Greedy Algorithm\n",
    "\n",
    "> Optimal substructure: An optimal solution can be constructed from optimal solutions of smaller subproblems.\n",
    "\n",
    "> Greedy choice: A greedy choice must be in some optimal solution (of a given size).\n",
    "\n",
    "<span style=\"color:red\">**Question**:</span> What algorithms belong to this so far we learned?\n",
    "\n",
    "- Unit Scheduling Task\n",
    " **unit task scheduling problem**: a set of $n$ tasks $A = \\{a_0, \\ldots, a_{n-1}\\}$. Each task $i$ has start and finish times $(s_i, f_i)$. The goal is to select a subset $S$ of tasks with no overlaps that is as large as possible.\n",
    " \n",
    "<span style=\"color:red\">**Question**:</span> What about weighted task scheduling? \n",
    "\n",
    "- Huffman Coding\n",
    "\n",
    "\n",
    "|$$\\sigma$$ |$$f(\\sigma)$$| $$e'(\\sigma)$$|\n",
    "|-------|--|-------------|\n",
    "| A     | 9 | 0   |\n",
    "| B     | 1 |10  |\n",
    "| C     | 1 |110 | \n",
    "| D     | 1 |111 |\n",
    "\n",
    "So the optimal compression of $D$ can be achieved by identifying the encoding tree $T$ that minimizes:\n",
    "\n",
    "$$C(T) = \\sum_{\\sigma\\in\\Sigma} f(\\sigma)\\cdot d_T(\\sigma)$$\n",
    "\n",
    "\n",
    "<span style=\"color:red\">**Question**:</span> How to decode given the Huaffman Tree? Say `00000000010110111`\n",
    "\n",
    "<span style=\"color:red\">**Question**:</span> What is the tree depth for fixed-length coding?\n",
    "\n",
    "\n"
   ]
  },
  {
   "cell_type": "markdown",
   "metadata": {
    "slideshow": {
     "slide_type": "slide"
    }
   },
   "source": [
    "### Dynamic Programming \n",
    "\n",
    "> Directed Acyclic Graph or DAG.\n",
    "> Optimal Substructure\n",
    "\n",
    "\n",
    "<span style=\"color:red\">**Question**:</span> What is the key difference from Divide-and-Conquer?\n",
    "\n",
    "\n",
    "\n",
    "<img src=\"module-07-dynamic/knapsack_recursion_tree.jpg\" width=\"70%\">\n",
    "\n",
    "### 0-1 Knapsack\n",
    "\n",
    "\n",
    "**Optimal Substructure for Knapsack**: For any set of objects $[n]$ and $W>0$, we have\n",
    "\n",
    "$$v(OPT(n, W)) = \\max \\{v(n) + v(OPT([n-1], W - w(n))), \\\\~~~~~~v(OPT(n-1, W))\\}.$$\n",
    "\n",
    "### Minimal Edit Distance\n",
    "\n",
    "**Optimal Substructure for Edit Distance**: Let $S$ and $T$ be strings of length $m$ and $n$. <span style=\"color:red\">**If we only consider insertions and deletions**</span>, then, the optional substructure is:\n",
    "\n",
    "$$\\mathit{MED}(S, T) = \n",
    "\\begin{cases}\n",
    "\\mathit{MED}(S[1:], T[1:]), \\mbox{if}~~~S[0]=T[0] \\\\\n",
    "1+\\min\\{\\mathit{MED}(S[1:], T),\\mathit{MED}(S, T[1:])\\}, \\mbox{otherwise} \\\\\n",
    "\\end{cases}\n",
    "$$\n",
    "\n",
    "<img src=\"module-07-dynamic/med_table_rs1.png\" width=\"60%\">\n",
    "\n"
   ]
  },
  {
   "cell_type": "markdown",
   "metadata": {
    "slideshow": {
     "slide_type": "slide"
    }
   },
   "source": [
    "## Assignment 4 Discussion\n"
   ]
  },
  {
   "cell_type": "markdown",
   "metadata": {
    "slideshow": {
     "slide_type": "fragment"
    }
   },
   "source": [
    "\n",
    "## Part 1: Making Change\n",
    "\n",
    "The pandemic is over and you decide to take a much needed vacation. You arrive in a city called Geometrica, and head to the bank to\n",
    "exchange $N$ dollars for local currency. In Geometrica they have a\n",
    "currency that is 1-1 with U.S. Dollars, but they only have\n",
    "coins. Moreover the coins are in\n",
    "denominations of powers of $2$ (e.g., $k$ denominations of values $2^0$, $2^1$, $\\cdots$,\n",
    "$2^k$). You wonder why they have\n",
    "such strange denominations. You think about it a while, and because\n",
    "you had such a good Algorithms instructor, you realize that there is a\n",
    "very clever reason. \n",
    "\n",
    "**1a)** Given a $N$ dollars, state a greedy algorithm for producing\n",
    "as few coins as possible that sum to $N$.\n",
    "\n",
    ".  \n",
    ".  \n",
    "\n",
    "> The greedy algorithm is \"largest denomination first\", where we simply\n",
    "take as many coins of the largest denomination possible. Once we can no\n",
    "longer use a denomination, we drop to the next lower denomination. We\n",
    "repeat this until we make exact change. This is possibly since we\n",
    "have a coin denomination of 1.\n",
    "\n",
    ".  \n",
    ".  \n",
    "\n",
    "\n",
    "**1b)** Prove that this algorithm is optimal by proving the greedy\n",
    "  choice and optimal substructure properties.\n",
    "\n",
    "\n",
    "> We can actually prove these two properties together. Consider an optimal sequence of coins $o$ where $o_i$ denotes the\n",
    "number of coins of denomination $2^i$. First let us observe that for\n",
    "all $i<k$, $o_i < 2$. This is because if we took more than 2 of some\n",
    "coin $2^i$, we could just replace 2 coins of denomination $2^i$ with\n",
    "one coin of denomination $2^{i+1}$ resulting in a contradiction to\n",
    "optimality. For denomination $2^k$ then the optimal must just select\n",
    "as many coins as possible. But this is exactly the greedy\n",
    "algorithm, and it is thus optimal. \n",
    "\n",
    "\n",
    "\n",
    "**1c)** What is the work and span of your algorithm?\n",
    "\n",
    ".  \n",
    ".  \n",
    "\n",
    "> This algorithm has work/span $O(\\log  N)$. This is because for each successively smaller coin we reduce $N$\n",
    "  by at least a factor of two, and the number of each coins of each denomination with\n",
    "  one multiplication.\n",
    "  \n",
    ".  "
   ]
  },
  {
   "cell_type": "markdown",
   "metadata": {
    "slideshow": {
     "slide_type": "slide"
    }
   },
   "source": [
    "\n",
    "## Part 2: Making Change Again\n",
    "\n",
    "You get tired of Geometrica and travel to the nearby town of\n",
    "Fortuito. While Fortuito also has a 1-1 exchange rate to the US\n",
    "Dollar, it has an even stranger system of currency where any given bank\n",
    "has a completely arbitrary set of denominations ($k$ denominations of\n",
    "values $D_0, D_2, \\ldots, D_k$). There is no guarantee that you can\n",
    "even make change. So you wonder, given $N$ dollars is it possible to\n",
    "even make change? If so, how can it be done with as few coins as\n",
    "possible?\n",
    "\n",
    "**2a)** You realize the greedy algorithm you devised above doesn't\n",
    "  work in Fortuito. Give a simple counterexample that shows that the\n",
    "  greedy algorithm does not produce the fewest number of coins.\n",
    "  \n",
    ".  \n",
    ".  \n",
    "\n",
    "> Suppose we have coin denominations of $1, 5, 6$ and we want to make change\n",
    "for $10$. The greedy algorithm would choose 1 coin of value $6$ and 4\n",
    "coins of value $1$, whereas the optimal solution has 2 coins of value $5$.\n",
    "\n",
    ".  \n",
    ".  \n",
    "\n",
    "\n",
    "**2b)** Since you paid attention in Algorithms class, you realize that\n",
    "  while this problem does not have the greedy choice property it does\n",
    "  have an optimal substructure property. State and prove this\n",
    "  property.\n",
    "\n",
    ".  \n",
    ".  \n",
    "> Let $C(N, k)$ denote the minimum number of coins needed to make change\n",
    "for $n$ using denominations $0, \\ldots, k$, where $C(N, k) = \\infty$ if it is\n",
    "not possible to make change. We first observe that the optimal\n",
    "solution must use some number ($0, \\ldots,\\lfloor n/D_k \\rfloor$) of coins of\n",
    "denomination $D_k$. If we use 0 coins of denomination $D_k$ in the\n",
    "optimal solution then $C(N, k) = C(N, k-1)$. Otherwise $C(N, k) =\n",
    "1+C(N-D_k, k)$, since we use at least one coin of denomination $D_k$\n",
    "and then consider making change for $N-D_k$ with the possibility of\n",
    "using more coins of denomination $D_k$. Thus\n",
    "the optimal substructure property can be written as:\n",
    "\n",
    "$$ C(N, k) = \\min\\{C(N, k-1), 1 + C(N - D_k, k)\\}. $$ \n",
    "\n",
    "> Note that we can set base cases $C(0, i)=0$, and set $C(n, i) =\n",
    "\\infty$ whenever $n<D_0$. For simplicity we can assume the\n",
    "denominations are sorted by their index.\n",
    "\n",
    ".  \n",
    ".  \n",
    "\n",
    "\n",
    "**2c)** Use this optimal substructure property to design a\n",
    "  dynamic programming algorithm for this problem. If you used top-down\n",
    "  or bottom-up memoization to avoid recomputing solutions to\n",
    "  subproblems, what is the work and span of your approach?\n",
    "\n",
    "> For the work, notice that the number of distinct subproblems is $Nk$,\n",
    "and each minimization on the right hand side requires $O(1)$\n",
    "work. This results in an overall work and span of $O(N k)$. \n"
   ]
  },
  {
   "cell_type": "markdown",
   "metadata": {
    "slideshow": {
     "slide_type": "slide"
    }
   },
   "source": [
    "\n",
    "\n",
    "## Part 3: Edit Distance\n",
    "\n",
    "\n",
    "In class we proved an optimal substructure property for the **Edit\n",
    "Distance** problem. This allowed us to implement a simple recursive\n",
    "algorithm in Python that was horribly inefficient.\n",
    "\n",
    "\n",
    "**3a)** The code for `MED` from the lecture notes is provided as a\n",
    "  starting point in `main.py.` Now implement `fast_MED`, a **top-down**\n",
    "  memoized version of `MED`. Test your implementation code using `test_MED`.\n",
    "\n",
    "\n",
    "  ```python\n",
    "  \n",
    "\n",
    "def MED(S, T):\n",
    "    # TO DO - modify to account for insertions, deletions and substitutions\n",
    "    if (S == \"\"):\n",
    "        return(len(T))\n",
    "    elif (T == \"\"):\n",
    "        return(len(S))\n",
    "    else:\n",
    "        if (S[0] == T[0]):\n",
    "            return(MED(S[1:], T[1:]))\n",
    "        else:\n",
    "            return(1 + min(MED(S, T[1:]), MED(S[1:], T)))\n",
    "\n",
    "\n",
    "def fast_MED(S, T):\n",
    "  m = len(S)\n",
    "  n = len(T)\n",
    "  # Fill MED[][] in bottom up manner\n",
    "  fMED = [[0 for x in range(n + 1)] for x in range(m + 1)]\n",
    "  for i in range(m + 1):\n",
    "    for j in range(n + 1):\n",
    "      if i == 0:\n",
    "        fMED[i][j] = j # Min. operations = j\n",
    "      elif j == 0:\n",
    "        fMED[i][j] = i \n",
    "      # If last characters are same, ignore last char and recur for remaining string\n",
    "      elif S[i-1] == T[j-1]:\n",
    "        fMED[i][j] = fMED[i-1][j-1]\n",
    "      else:\n",
    "        # If last character are different, consider all possibilities and find minimum\n",
    "        fMED[i][j] = 1 + min(fMED[i][j-1], fMED[i-1][j])\n",
    "  return fMED\n",
    "\n",
    "\n",
    "\n",
    "\n",
    "  \n",
    "  \n",
    "  ```\n",
    "\n",
    "\n",
    "**3b)** Now that you have implemented an efficient algorithm for\n",
    "  computing edit distance, let's turn to the problem of identifying\n",
    "  the actual edits between two sequences.\n",
    "\n",
    " Notice that in the process of computing the optimal edit\n",
    "  distance, we can also keep track of the actual sequence of edits to\n",
    "  each position of $S$ and $T$. Update your implementation of `fast_MED` to\n",
    "  return the optimal edit distance as well as an *alignment* of the\n",
    "  two strings which show the edits that yield this distance. An\n",
    "  alignment just shows what changes are made to $S$ to transform it to\n",
    "  $T$. For example, suppose $S$=`relevant` and $T$=`elephant`. If\n",
    "  insertion and deletion costs are both equal to $1$, then the\n",
    "  edit distance between $S$ and $T$ is 4 and an\n",
    "  alignment of these two strings would look like this:\n",
    "\n",
    "  `relev--ant`\\\n",
    "  `-ele-phant`\n",
    "\n",
    "```python\n",
    "\n",
    "def fast_align_MED(S, T, fMED={}):\n",
    "    # TODO - keep track of alignment\n",
    "    fMED = fast_MED(S, T)\n",
    "    S_align = []\n",
    "    T_align = []\n",
    "    i = len(S)\n",
    "    j = len(T)\n",
    "    while True:\n",
    "      if(i == 0 and j==0):\n",
    "        break\n",
    "      else:\n",
    "        insert = fMED[i][j-1]\n",
    "        remove = fMED[i-1][j]\n",
    "        minimum = min(insert,remove)\n",
    "        if(insert == minimum):\n",
    "          S_align = ['-'] + S_align\n",
    "          T_align = [T[j-1]] + T_align\n",
    "          j = j-1\n",
    "        elif(remove == minimum):\n",
    "          T_align = ['-'] + T_align\n",
    "          S_align = [S[i-1]] + S_align\n",
    "          i = i-1\n",
    "      return S_align\n",
    "           \n",
    "\n",
    "```\n",
    "\n"
   ]
  },
  {
   "cell_type": "markdown",
   "metadata": {
    "slideshow": {
     "slide_type": "slide"
    }
   },
   "source": [
    "#### Graph Search\n",
    "\n",
    "- BFS, DFS, Dijkstra, Bellman-Ford [<span style=\"color:red\">Visiting Order per given source node</span>]\n",
    "\n",
    "**Unweighted Graph:** Both work $O(|V| + |E|)$\n",
    "> Breadth-first: Sibling > Children \n",
    "\n",
    "> Depth-first: Children > Sibling\n",
    "\n",
    "-  `frontier = deque()`\n",
    "\n",
    "`dfs_stack`: <span style=\"color:blue\">**[last in, first out]**</span>\n",
    "\n",
    "- `node = frontier.pop()`\n",
    "\n",
    "\n",
    "`bfs_serial`: <span style=\"color:orange\">**[first in, first out]**</span>\n",
    "\n",
    "- `node = frontier.popleft()`\n",
    "\n",
    "**Positive Weighted Graph:**\n",
    "Dijkstra's work $O(|E| \\log |E|)$ \n",
    "> At most how many times can one node be inserted to the heap?\n",
    "\n",
    "**Negative Weighed Graph:**\n",
    "Bellman-Ford's work $O(|V| \\cdot |E|)$\n",
    "\n",
    "\n",
    "<span style=\"color:blue\">Note that we can still apply BFS/DFS for weighted graph, Dijkstra for negative weighted graph. Just the solution is not correct.</span>\n",
    " \n",
    "\n",
    "<img src=\"module-08-graph/figures/nweighted.png\" width=60%/>\n",
    "\n",
    "\n",
    "\n",
    "\n",
    "**All Pairs Shortest Path:**\n",
    "> Graph transoformation\n",
    "\n",
    "\n",
    "<center>\n",
    "<img src=\"module-08-graph/figures/johnson_path.png\" width=80%/>\n",
    "</center>"
   ]
  },
  {
   "cell_type": "markdown",
   "metadata": {
    "slideshow": {
     "slide_type": "slide"
    }
   },
   "source": [
    "#### Minimal Spanning Tree\n",
    "\n",
    "- Prim's Algorithm and Kruskal's Algorithm [<span style=\"color:red\">Visiting Order per Step</span>]\n",
    "\n",
    "<span style=\"color:red\">**Question:**</span> Given some intermediate steps, can you quickly identify which algorithm it is using?\n",
    "\n",
    "- Borůvka's Algorithm [Paralell MST]\n",
    "\n",
    "\n",
    "<center>\n",
    "    <img src=\"module-09-trees/figures/mst_example.jpeg\" width=50%/>\n",
    "</center>\n",
    "\n"
   ]
  }
 ],
 "metadata": {
  "celltoolbar": "Slideshow",
  "kernelspec": {
   "display_name": "Python 3 (ipykernel)",
   "language": "python",
   "name": "python3"
  },
  "language_info": {
   "codemirror_mode": {
    "name": "ipython",
    "version": 3
   },
   "file_extension": ".py",
   "mimetype": "text/x-python",
   "name": "python",
   "nbconvert_exporter": "python",
   "pygments_lexer": "ipython3",
   "version": "3.11.0"
  },
  "rise": {
   "autolaunch": true,
   "controls": false,
   "enable_chalkboard": true,
   "scroll": true,
   "theme": "simple",
   "transition": "fade"
  },
  "toc": {
   "base_numbering": 1,
   "nav_menu": {},
   "number_sections": true,
   "sideBar": true,
   "skip_h1_title": true,
   "title_cell": "Table of Contents",
   "title_sidebar": "Contents",
   "toc_cell": true,
   "toc_position": {},
   "toc_section_display": true,
   "toc_window_display": false
  }
 },
 "nbformat": 4,
 "nbformat_minor": 4
}
