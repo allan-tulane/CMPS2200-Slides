{
 "cells": [
  {
   "cell_type": "markdown",
   "id": "cb92da52",
   "metadata": {
    "id": "cb92da52"
   },
   "source": [
    "## Final Review\n",
    "\n",
    "#### Randomized Algorithm\n",
    " \n",
    "\n",
    "- Expected Work and Span - > We still have an extreme small probability to worst case\n",
    "- <span style=\"color:red\">**Question**:</span> Why do we consider the worst case for other algorithms?\n",
    "- The expected number of trials to get an outcome of probability 𝒑 is 𝟏/𝒑.\n",
    "\n"
   ]
  },
  {
   "cell_type": "markdown",
   "id": "b1eba850",
   "metadata": {},
   "source": [
    "- QuickSort\n",
    "\n",
    " <p>\\[\\begin{array}{ll}  \n",
    "\\mathit{quicksort}~a =  \\\\  \n",
    "~~~~\\texttt{if}~|a| = 0~\\texttt{then}~a  \\\\  \n",
    "~~~~\\texttt{else}   \\\\  \n",
    "~~~~~~~~\\texttt{let}  \\\\  \n",
    "~~~~~~~~~~~~p = \\texttt{pick a random pivot from}~a  \\\\  \n",
    "~~~~~~~~~~~~    a_1 = \\left\\langle\\, x \\in a \\;|\\; x < p \\,\\right\\rangle  \\\\  \n",
    "~~~~~~~~~~~~    a_2 = \\left\\langle\\, x \\in a \\;|\\; x = p \\,\\right\\rangle  \\\\  \n",
    "~~~~~~~~~~~~    a_3 = \\left\\langle\\, x \\in a \\;|\\; x > p \\,\\right\\rangle  \\\\  \n",
    "~~~~~~~~~~~~    (s_1,s_3) = (\\mathit{quicksort}~a_1)~\\mid\\mid{}~(\\mathit{quicksort}~a_3)  \\\\  \n",
    "~~~~~~~~   \\texttt{in}  \\\\  \n",
    "~~~~~~~~~~~~    s_1 \\texttt{++}{} a_2 \\texttt{++}{} s_3  \\\\  \n",
    "~~~~~~~~  \\texttt{end}  \n",
    "\\end{array}\\]</p>\n",
    "\n",
    "<img src=\"module-05-random/sorting.jpg\" width=\"60%\">"
   ]
  },
  {
   "cell_type": "markdown",
   "id": "a5401545",
   "metadata": {
    "id": "a5401545"
   },
   "source": [
    "#### Greedy Algorithm\n",
    "\n",
    "> Optimal substructure: An optimal solution can be constructed from optimal solutions of smaller subproblems.\n",
    "\n",
    "> Greedy choice: A greedy choice must be in some optimal solution (of a given size).\n",
    "\n",
    "<span style=\"color:red\">**Question**:</span> What algorithms belong to this so far we learned?\n",
    "\n",
    "- Unit Scheduling Task\n",
    " **unit task scheduling problem**: a set of $n$ tasks $A = \\{a_0, \\ldots, a_{n-1}\\}$. Each task $i$ has start and finish times $(s_i, f_i)$. The goal is to select a subset $S$ of tasks with no overlaps that is as large as possible.\n",
    " \n",
    "<span style=\"color:red\">**Question**:</span> What about weighted unit task? \n",
    "\n",
    "- Huffman Coding\n",
    "\n",
    "\n",
    "|$$\\sigma$$ |$$f(\\sigma)$$| $$e'(\\sigma)$$|\n",
    "|-------|--|-------------|\n",
    "| A     | 9 | 0   |\n",
    "| B     | 1 |10  |\n",
    "| C     | 1 |110 | \n",
    "| D     | 1 |111 |\n",
    "\n",
    "So the optimal compression of $D$ can be achieved by identifying the encoding tree $T$ that minimizes:\n",
    "\n",
    "$$C(T) = \\sum_{\\sigma\\in\\Sigma} f(\\sigma)\\cdot d_T(\\sigma)$$\n",
    "\n",
    "\n",
    "<span style=\"color:red\">**Question**:</span> How to decode given the Huaffman Tree? Say `00000000010110111`\n",
    "\n",
    "<span style=\"color:red\">**Question**:</span> What is the tree depth for fixed-length coding?\n",
    "\n",
    "\n"
   ]
  },
  {
   "cell_type": "markdown",
   "id": "83511232",
   "metadata": {},
   "source": [
    "## Dynamic Programming \n",
    "\n",
    "> Directed Acyclic Graph or DAG.\n",
    "> Optimal Substructure\n",
    "\n",
    "<span style=\"color:red\">**Question**:</span>  What is the key difference with divide-and-conquer?\n",
    "\n",
    "<img src=\"module-07-dynamic/knapsack_recursion_tree.jpg\" width=\"70%\">\n",
    "\n",
    "### 0-1 Knapsack\n",
    "\n",
    "\n",
    "**Optimal Substructure for Knapsack**: For any set of objects $[n]$ and $W>0$, we have\n",
    "\n",
    "$$v(OPT(n, W)) = \\max \\{v(n) + v(OPT([n-1], W - w(n))), \\\\~~~~~~v(OPT(n-1, W))\\}.$$\n",
    "\n",
    "### Minimal Edit Distance\n",
    "\n",
    "**Optimal Substructure for Edit Distance**: Let $S$ and $T$ be strings of length $m$ and $n$. <span style=\"color:red\">**If we only consider insertions and deletions**</span>, then, the optional substructure is:\n",
    "\n",
    "$$\\mathit{MED}(S, T) = \n",
    "\\begin{cases}\n",
    "\\mathit{MED}(S[1:], T[1:]), \\mbox{if}~~~S[0]=T[0] \\\\\n",
    "1+\\min\\{\\mathit{MED}(S[1:], T),\\mathit{MED}(S, T[1:])\\}, \\mbox{otherwise} \\\\\n",
    "\\end{cases}\n",
    "$$\n",
    "\n",
    "<img src=\"module-07-dynamic/med_table_rs1.png\" width=\"60%\">\n",
    "\n"
   ]
  },
  {
   "cell_type": "markdown",
   "id": "51cbd7d1",
   "metadata": {},
   "source": [
    "#### Graph Search\n",
    "\n",
    "- BFS, DFS, Dijkstra, Bellman-Ford [<span style=\"color:red\">Visiting Order per given source node</span>]\n",
    "\n",
    "**Unweighted Graph:** Both work $O(|V| + |E|)$\n",
    "> Breadth-first: Sibling > Children \n",
    "\n",
    "> Depth-first: Children > Sibling\n",
    "\n",
    "-  `frontier = deque()`\n",
    "\n",
    "`dfs_stack`: <span style=\"color:blue\">**[last in, first out]**</span>\n",
    "\n",
    "- `node = frontier.pop()`\n",
    "\n",
    "\n",
    "`bfs_serial`: <span style=\"color:orange\">**[first in, first out]**</span>\n",
    "\n",
    "- `node = frontier.popleft()`\n",
    "\n",
    "**Positive Weighted Graph:**\n",
    "Dijkstra's work $O(|E| \\log |E|)$ \n",
    "> At most how many times can one node be inserted to the heap?\n",
    "\n",
    "**Negative Weighed Graph:**\n",
    "Bellman-Ford's work $O(|V| \\cdot |E|)$\n",
    "\n",
    "\n",
    "<span style=\"color:blue\">Note that we can still apply BFS/DFS for weighted graph, Dijkstra for negative weighted graph. Just the solution is not correct.</span>\n",
    " \n",
    "\n",
    "\n",
    "\n",
    "\n"
   ]
  },
  {
   "cell_type": "markdown",
   "id": "b23c45c1",
   "metadata": {},
   "source": [
    "#### Minimal Spanning Tree\n",
    "\n",
    "- Prim's Algorithm and Kruskal's Algorithm [<span style=\"color:red\">Visiting Order per Step</span>]\n",
    "\n",
    "<span style=\"color:red\">**Question:**</span> Given some intermediate steps, can you quickly identify which algorithm it is using?\n",
    "\n",
    "- Borůvka's Algorithm [Paralell MST]\n",
    "\n",
    "\n",
    "<center>\n",
    "    <img src=\"module-09-trees/figures/mst_example.jpeg\" width=50%/>\n",
    "</center>\n",
    "\n"
   ]
  }
 ],
 "metadata": {
  "colab": {
   "collapsed_sections": [],
   "name": "mid_term_review.ipynb",
   "provenance": []
  },
  "kernelspec": {
   "display_name": "Python 3 (ipykernel)",
   "language": "python",
   "name": "python3"
  },
  "language_info": {
   "codemirror_mode": {
    "name": "ipython",
    "version": 3
   },
   "file_extension": ".py",
   "mimetype": "text/x-python",
   "name": "python",
   "nbconvert_exporter": "python",
   "pygments_lexer": "ipython3",
   "version": "3.9.6"
  }
 },
 "nbformat": 4,
 "nbformat_minor": 5
}
