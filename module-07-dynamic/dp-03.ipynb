{
 "cells": [
  {
   "cell_type": "code",
   "execution_count": 2,
   "metadata": {
    "code_folding": [],
    "slideshow": {
     "slide_type": "skip"
    }
   },
   "outputs": [
    {
     "data": {
      "text/html": [
       "<style>.prompt{width: 0px; min-width: 0px; visibility: collapse}</style>"
      ],
      "text/plain": [
       "<IPython.core.display.HTML object>"
      ]
     },
     "metadata": {},
     "output_type": "display_data"
    },
    {
     "data": {
      "text/html": [
       "<style>\n",
       "div#notebook {\n",
       " font-family: \"Exo_2\", sans-serif;\n",
       "}\n",
       "\n",
       ".rendered_html h1,\n",
       ".text_cell_render h1 {\n",
       " color: #126dce;\n",
       " font-size: 220%;\n",
       " text-align: center;\n",
       " font-weight: lighter;\n",
       "}\n",
       ".rendered_html h2,\n",
       ".text_cell_render h2 {\n",
       " text-align: center;\n",
       " font-size: 170%;\n",
       " color: #126dce;\n",
       " font-style: normal;\n",
       " font-weight: lighter;\n",
       "}\n",
       ".rendered_html h3,\n",
       ".text_cell_render h3 {\n",
       " font-size: 150%;\n",
       " color: #126dce;\n",
       " font-weight: lighter;\n",
       " text-decoration: italic;\n",
       " font-style: normal;\n",
       "}\n",
       ".rendered_html h4,\n",
       ".text_cell_render h4 {\n",
       " font-size: 120%;\n",
       " color: #126dce;\n",
       " font-weight: underline;\n",
       " font-style: normal;\n",
       "}\n",
       ".rendered_html h5,\n",
       ".text_cell_render h5 {\n",
       " font-size: 100%;\n",
       " color: #2f2f2f;\n",
       " font-weight: lighter;\n",
       " text-decoration: underline;\n",
       "}\n",
       "</style>\n"
      ],
      "text/plain": [
       "<IPython.core.display.HTML object>"
      ]
     },
     "metadata": {},
     "output_type": "display_data"
    }
   ],
   "source": [
    "# setup\n",
    "from IPython.core.display import display,HTML\n",
    "display(HTML('<style>.prompt{width: 0px; min-width: 0px; visibility: collapse}</style>'))\n",
    "display(HTML(open('rise.css').read()))\n",
    "\n",
    "# imports\n",
    "import numpy as np\n",
    "import matplotlib.pyplot as plt\n",
    "import seaborn as sns\n",
    "%matplotlib inline\n",
    "sns.set(style=\"whitegrid\", font_scale=1.5, rc={'figure.figsize':(12, 6)})\n"
   ]
  },
  {
   "cell_type": "markdown",
   "metadata": {
    "slideshow": {
     "slide_type": "slide"
    }
   },
   "source": [
    "# CMPS 2200\n",
    "# Introduction to Algorithms\n",
    "\n",
    "## Optimal Binary Search Trees\n"
   ]
  },
  {
   "cell_type": "markdown",
   "metadata": {
    "slideshow": {
     "slide_type": "slide"
    }
   },
   "source": [
    "### Binary Search Tree\n",
    "\n",
    "For a set of keys $S$ ($|S|=n$), a *binary search tree* organizes $S$ as follows. Each element $x$ of $S$ is placed in the tree so that all elements $y \\leq x$ are in the left subtree of $x$ and all of the elements $z>x$ are in the right subtree. For any binary tree $T$, let $d(x, T)$ be the depth of an element $x\\in S.$\n",
    "\n",
    "<img src=\"BST.png\" width=\"70%\">\n",
    "\n",
    "A **balanced** binary search tree has the property that the maximum depth is $O(\\log n)$. There are a number of approaches to ensure that search, insertion and deletion operations can be performed in $O(\\log n)$ time. \n",
    "\n",
    "Example: Let $S = \\{1, 2, 3, 4, 5, 6, 7\\}$. Then a balanced binary search tree $T$ would have the following structure:\n",
    "\n",
    "<img src=\"balanced_bst.jpg\" width=\"30%\">\n",
    "\n",
    "Suppose we are focused on the cost of retrieval of items from $T$. In the worst case, retrieval has cost $3$. \n",
    "\n"
   ]
  },
  {
   "cell_type": "markdown",
   "metadata": {
    "slideshow": {
     "slide_type": "slide"
    }
   },
   "source": [
    "### Optimal Binary Search Tree\n",
    "\n",
    "\n",
    "But what if we knew the frequency of retrieval $f(x)$ for each $x\\in S$? We previously used this additional knowledge to greatly improve compression. Then a binary search tree $T$ above has search cost $C(T) = \\sum_{x\\in S} f(x)\\cdot d(x, T).$ \n",
    "\n",
    "Do frequencies affect the best retrieval cost we can achieve? \n",
    "\n",
    "Example: Let $f(1) = 1000, f(2) = 1, f(3) = 1, f(4) = 1, f(5) = 1, f(6) = 1, f(7) = 1.$ Then a balanced tree has cost $3014.$ \n",
    "\n",
    "<img src=\"balanced_bst.jpg\" width=\"30%\">\n",
    "\n",
    "<br>\n",
    "<br>\n",
    "<br>\n",
    "Consider the following tree:\n",
    "\n",
    "<img src=\"frequency_bst.jpg\" width=\"30%\">\n",
    "\n",
    "The cost is $2000 + 1 + 2 + 6 + 8 = 2017$, which is much better!\n",
    "\n",
    "With the given frequencies, does this binary search tree minimize retrieval cost?\n",
    "\n"
   ]
  },
  {
   "cell_type": "markdown",
   "metadata": {
    "slideshow": {
     "slide_type": "fragment"
    }
   },
   "source": [
    "No! Here is a better tree with cost $1000 + 2 + 3 + 8 + 10 = 1023$:\n",
    "\n",
    "<img src=\"better_frequency_bst.jpg\" width=\"30%\">\n",
    "\n",
    "\n",
    "<span style=\"color:red\">**Question**:</span> Is this the optimal?? Can we do better?"
   ]
  },
  {
   "cell_type": "markdown",
   "metadata": {
    "slideshow": {
     "slide_type": "slide"
    }
   },
   "source": [
    "Given a set of $S$ comparable elements with given frequencies, the **Optimal Binary Search Tree** problem asks us to find the binary search tree $T$ for $S$ that minimizes \n",
    "\n",
    "$$C(T) = \\sum_{x\\in S} f(x)\\cdot d(x, T).$$\n",
    "\n",
    "Would a greedy algorithm work? What if we simply made the most frequent item the root?"
   ]
  },
  {
   "cell_type": "markdown",
   "metadata": {
    "slideshow": {
     "slide_type": "fragment"
    }
   },
   "source": [
    "This approach fails if the largest element is most frequent. Consider $S={1, 2, 3}$ where $f(1) = 9, f(2)=9, f(3) = 10$. \n",
    "\n",
    "<img src = \"greedy_counterexample.jpg\" width=\"40%\">\n",
    "\n",
    "\n",
    "A greedily constructed tree has $3$ as the root and cost $10+18+27 = 55.$ A balanced tree has $2$ as the root and cost $9 + 18 + 20 = 47.$\n"
   ]
  },
  {
   "cell_type": "markdown",
   "metadata": {
    "slideshow": {
     "slide_type": "slide"
    }
   },
   "source": [
    "### Intuition - > Example\n",
    "\n",
    "> Define $B(n)$ as the number of BSTs of $n$-nodes\n",
    "\n",
    "<img src = \"figures/bst_exm.png\" width=\"75%\">\n",
    "\n",
    "\n",
    "\n",
    "\n",
    "<span style=\"color:red\">**Question**:</span> How can we extend to $n$ nodes?\n"
   ]
  },
  {
   "cell_type": "markdown",
   "metadata": {
    "slideshow": {
     "slide_type": "fragment"
    }
   },
   "source": [
    "For $B(n)$, any node can be the root, and set it to $r$:\n",
    "\n",
    "<img src = \"figures/bst_intuition.png\" width=\"80%\">\n",
    "\n"
   ]
  },
  {
   "cell_type": "markdown",
   "metadata": {
    "slideshow": {
     "slide_type": "fragment"
    }
   },
   "source": [
    "\n",
    "$$B(n) = \\sum\\limits_{i=0}^{n-1}(B(i)*B(n-i-1),$$ where $B(0) = 1; B(1) = 1; B(2) = 2$.\n",
    "\n",
    "\n",
    "\n",
    "<br><br><br>\n",
    "<br><br><br>\n",
    "<br><br><br>\n",
    "$$B(n) = \\dfrac{(2n)!}{(n + 1)! * n!}$$"
   ]
  },
  {
   "cell_type": "markdown",
   "metadata": {
    "slideshow": {
     "slide_type": "slide"
    }
   },
   "source": [
    "### A Dynamic Programming Approach\n",
    "\n",
    "Suppose we have the elements of $S$ in sorted order. Let $S_{i,j}$ denote the elements from rank $i$ to rank $j$ inclusive. For any $T$ with root $S_r$, let's look at its cost in terms of the left and right subtrees $T_L$ and $T_R$: \n",
    "\n",
    "$$\\begin{eqnarray*}\n",
    "C(T) &=& \\sum_{x\\in T} f(x)\\cdot d(x, T) \\\\\n",
    "&=& f(S_r) + \\sum_{x\\in T_L} f(x) \\cdot (d(x, T_L) + 1) + \\sum_{x\\in T_R} f(x) \\cdot (d(x, T_R) + 1) \\\\\n",
    "&=& f(S_r) + \\sum_{x\\in T_L} f(x) + \\sum_{x\\in T_L} f(x) \\cdot d(x, T_L) + \\sum_{x\\in T_R} f(x)+ \\sum_{x\\in T_R} f(x) \\cdot d(x, T_R) \\\\\n",
    "&=& \\sum_{x\\in T} f(x) + \\sum_{x\\in T_L} f(x) \\cdot d(x, T_L) + \\sum_{x\\in T_R} f(x) \\cdot d(x, T_R) \\\\\n",
    "&=& \\sum_{x\\in T} f(x) + C(T_L) + C(T_R) \\\\\n",
    "\\end{eqnarray*}$$\n",
    "\n",
    "Let $\\mathit{OBST}(S)$ be the cost of an optimal binary search tree for $S$ with given frequencies. Some element $r$ in $S$ must be the root of an optimal binary search tree. Moreover, the left and right subtrees must also be optimal binary search trees for $S_{0,r-1}$ and $S_{r+1, n-1}$, respectively. \n",
    "\n",
    "But which element $r$ should be the root?\n",
    "\n"
   ]
  },
  {
   "cell_type": "markdown",
   "metadata": {
    "slideshow": {
     "slide_type": "fragment"
    }
   },
   "source": [
    "It should be the element that yields left and right subtrees so that the overall tree $T$ minimizes the total cost $C(T)$. \n",
    "\n",
    "**Optimal Substructure for Optimal Binary Search Trees**: For a set of $n$ keys $S$, \n",
    "\n",
    "\n",
    "$$\n",
    "\\mathit{OBST}(S) = \n",
    "\\begin{cases}\n",
    "0,~~~\\text{if}~~ |S| = 0\\\\\n",
    "\\sum_{x \\in S} f(x) + \\min_{i \\in [n]} \\left(\\mathit{OBST}(S_{1,i-1})+\\mathit{OBST}(S_{i+1,n-1})\\right),~~~\\text{otherwise}\\\\\n",
    "\\end{cases}\n",
    "$$\n",
    "\n",
    "Yet again we see that the recursion tree for this optimal substructure property grows exponentially. Fortunately, the evaluation of subproblems requires time linear in the size of the subproblem.\n"
   ]
  },
  {
   "cell_type": "code",
   "execution_count": 1,
   "metadata": {
    "slideshow": {
     "slide_type": "slide"
    }
   },
   "outputs": [],
   "source": [
    "def obst_recursive(keys, freq):\n",
    "    def obst_recursive_helper(freq, i, j):\n",
    "\n",
    "        # Base cases \n",
    "        if j < i:      \n",
    "            return 0\n",
    "        if j == i:     \n",
    "            return freq[i] \n",
    "\n",
    "        fmin = float('inf')\n",
    "\n",
    "        for r in range(i, j + 1):\n",
    "            cost = (obst_recursive_helper(freq, i, r - 1) + obst_recursive_helper(freq, r + 1, j)) \n",
    "            if cost < fmin: \n",
    "                fmin = cost\n",
    "                \n",
    "        current_cost = sum(freq[i:j+1]) \n",
    "\n",
    "        return fmin + current_cost\n",
    "     \n",
    "    return obst_recursive_helper(freq, 0, len(keys) - 1)\n",
    " "
   ]
  },
  {
   "cell_type": "code",
   "execution_count": 3,
   "metadata": {},
   "outputs": [],
   "source": [
    "def obst_dp(keys, freq):\n",
    "    n = len(keys)\n",
    "    cost = [[0] * n for _ in range(n)]\n",
    "\n",
    "    for i in range(n):\n",
    "        cost[i][i] = freq[i]\n",
    "\n",
    "    for l in range(2, n + 1):\n",
    "        for i in range(n - l + 1):\n",
    "            j = i + l - 1\n",
    "            cost[i][j] = float('inf')\n",
    "            for k in range(i, j + 1):\n",
    "                current_cost = sum(freq[i:j + 1])\n",
    "                if k > i:\n",
    "                    current_cost += cost[i][k - 1]\n",
    "                if k < j:\n",
    "                    current_cost += cost[k + 1][j]\n",
    "                cost[i][j] = min(cost[i][j], current_cost)\n",
    "\n",
    "    return cost[0][n - 1]\n",
    "\n"
   ]
  },
  {
   "cell_type": "code",
   "execution_count": 4,
   "metadata": {
    "slideshow": {
     "slide_type": "fragment"
    }
   },
   "outputs": [
    {
     "name": "stdout",
     "output_type": "stream",
     "text": [
      "The cost of the OBST (Recursive) is: 47\n",
      "The cost of the OBST (DP) is: 47\n"
     ]
    }
   ],
   "source": [
    "# Example usage:\n",
    "keys = [1, 2, 3]\n",
    "freq = [9, 9, 10]\n",
    "\n",
    "\n",
    "print(f\"The cost of the OBST (Recursive) is: {obst_recursive(keys, freq)}\")\n",
    "\n",
    "print(f\"The cost of the OBST (DP) is: {obst_dp(keys, freq)}\")\n"
   ]
  }
 ],
 "metadata": {
  "celltoolbar": "Slideshow",
  "kernelspec": {
   "display_name": "Python 3 (ipykernel)",
   "language": "python",
   "name": "python3"
  },
  "language_info": {
   "codemirror_mode": {
    "name": "ipython",
    "version": 3
   },
   "file_extension": ".py",
   "mimetype": "text/x-python",
   "name": "python",
   "nbconvert_exporter": "python",
   "pygments_lexer": "ipython3",
   "version": "3.9.6"
  },
  "rise": {
   "autolaunch": true,
   "controls": false,
   "enable_chalkboard": true,
   "scroll": true,
   "theme": "simple",
   "transition": "fade"
  },
  "toc": {
   "base_numbering": 1,
   "nav_menu": {},
   "number_sections": true,
   "sideBar": true,
   "skip_h1_title": true,
   "title_cell": "Table of Contents",
   "title_sidebar": "Contents",
   "toc_cell": true,
   "toc_position": {},
   "toc_section_display": true,
   "toc_window_display": false
  }
 },
 "nbformat": 4,
 "nbformat_minor": 4
}
