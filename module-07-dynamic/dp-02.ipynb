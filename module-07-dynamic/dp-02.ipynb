{
 "cells": [
  {
   "cell_type": "code",
   "execution_count": null,
   "metadata": {
    "code_folding": [],
    "slideshow": {
     "slide_type": "skip"
    }
   },
   "outputs": [],
   "source": [
    "# setup\n",
    "from IPython.core.display import display,HTML\n",
    "display(HTML('<style>.prompt{width: 0px; min-width: 0px; visibility: collapse}</style>'))\n",
    "display(HTML(open('rise.css').read()))\n",
    "\n",
    "# imports\n",
    "import numpy as np\n",
    "import matplotlib.pyplot as plt\n",
    "import seaborn as sns\n",
    "%matplotlib inline\n",
    "sns.set(style=\"whitegrid\", font_scale=1.5, rc={'figure.figsize':(12, 6)})\n"
   ]
  },
  {
   "cell_type": "markdown",
   "metadata": {
    "slideshow": {
     "slide_type": "slide"
    }
   },
   "source": [
    "# CMPS 2200\n",
    "# Introduction to Algorithms\n",
    "\n",
    "## Dynamic Programming - Edit Distance\n"
   ]
  },
  {
   "cell_type": "markdown",
   "metadata": {
    "slideshow": {
     "slide_type": "skip"
    }
   },
   "source": [
    "Let's look at 4 different paradigms of algorithm design:\n",
    "\n",
    "- Divide and Conquer\n",
    "- Brute Force\n",
    "- Greedy\n",
    "- Dynamic Programming \n",
    "\n",
    "(Randomization can be added to any of these.)\n",
    "\n",
    "Divide and Conquer and Greedy both had a restriction to them in that we always recurse on one or more solutions to *fixed size* subproblems.\n",
    "\n",
    "In certain cases, for example using a greedy approach for the Knapsack Problem, this prevented us from reaching an optimal solution.\n",
    "\n",
    "Dynamic Programming considers **all possible** subproblems. This is sort of a hybrid of brute force and Greedy/Divide and Conquer."
   ]
  },
  {
   "cell_type": "markdown",
   "metadata": {
    "slideshow": {
     "slide_type": "slide"
    }
   },
   "source": [
    "### Edit Distance\n",
    "\n",
    "Given two strings $S, T \\in \\Sigma^*$, how similar are they?\n",
    "\n",
    "We can measure this using *edit distance*, which is the number of insertions and deletions needed to turn $S$ into $T$. Note that we can also go from $T$ to $S$ if we just reverse the edits (by turning insertions into deletions)\n",
    "\n",
    "Example: $S$ = `abcdefghijkl`, $T$ = `abcdghikjl`. How many edits are needed?\n",
    "\n",
    "Consider following edit sequence:\n",
    "\n",
    "$S$: `abcdefghijkl---`<br>\n",
    "$T$: `abcd--ghi---kjl`\n",
    "\n",
    "This has 5 deletions and 3 insertions, for a total of 8 edits. What about this one:\n",
    "\n",
    "$S$: `abcdefghijk-l`<br>\n",
    "$T$: `abcd--ghi-kjl`\n",
    "\n",
    "We have 3 deletions and 1 insertion for a total of 4 edits.\n",
    "\n",
    "Our goal is to compute the **minimum edit distance** between two strings $S$ and $T$ of lengths $m$ and $n$, respectively.\n",
    "\n",
    "It might seem like a toy problem, but this is a critical problem in comparing gene/protein sequences, and also online tools (e.g., Git/Overleaf/Google Doc). By attaching  weights to insertions and deletions, we can assess the evolutionary distance between two sequences."
   ]
  },
  {
   "cell_type": "markdown",
   "metadata": {
    "slideshow": {
     "slide_type": "slide"
    }
   },
   "source": [
    "\n",
    "\n",
    "Notice that once again, if we greedily apply edits to the beginning or end of the string we might miss a set of edits interspersed throughout the string. \n",
    "\n",
    "\n",
    "**Can we identify an optimal substructure property for this problem?**\n",
    "\n",
    "<br>\n",
    "\n",
    "Let's use case-based reasoning about the optimal solution as we did for Knapsack. Let $\\mathit{MED}(S, T)$ be the optimal number of edits between $S$ and $T$. \n",
    "\n",
    "<br><br><br>\n",
    "\n",
    "In an optimal sequence of edits, how would we deal with the first two characters of $S$ and $T$, respectively?\n",
    "\n",
    "<br><br>\n",
    "\n",
    "For the base cases, is $S$ is empty and $T$ is not, what is the edit cost?  \n",
    "S=` ` T=`abcde`\n",
    "\n",
    "<br><br><br>\n",
    "\n",
    "\n",
    "If either string is empty, then the edit cost is simply the length of the other string.\n",
    "\n",
    "<br><br>\n",
    "\n",
    "What if $S[0] = T[0]$?  \n",
    "S=`abc` T=`ade`\n",
    "\n",
    "<br><br>\n",
    "\n",
    "then there is no benefit to editing and $\\mathit{MED}(S, T) = \\mathit{MED}(S[1:], T[1:])$. \n",
    "\n",
    "<br><br>\n",
    "What if $S[0] \\neq T[0]$?  \n",
    "S=`abc` T=`bde`\n",
    "\n",
    "<br><br><br>\n",
    "then we must incur 1 edit either `insertion` or `deletion`. The less costly edit is either `Delete S[0] from S` or `Insert T[0] to S`.\n",
    "\n",
    "$\\rightarrow 1+\\mathit{MED}(S[1:], T)~~~~$    e.g, $1+\\mathit{MED}($ `bc` , `bde` $)$  \n",
    "or   \n",
    "$\\rightarrow 1+\\mathit{MED}(S, T[1:])~~~~$  e.g, $1+\\mathit{MED}($ `abc` , `de` $)$  \n",
    "\n",
    "\n",
    "<br><br>\n",
    "If we allow substitution, then we can easily replace `S[0]` with `T[0]`, in this case, we have another solution.\n",
    "$\\rightarrow 1+\\mathit{MED}(S[1:], T[1:])~~~~$<br>\n",
    "e.g, S = `abc`, T = `dbc`.  \n",
    "\n",
    "\n",
    "\n",
    "<br>\n",
    "\n",
    "**Optimal Substructure for Edit Distance**: Let $S$ and $T$ be strings of length $m$ and $n$. Then,\n",
    "\n",
    "$$\\mathit{MED}(S, T) = \n",
    "\\begin{cases}\n",
    "\\mathit{MED}(S[1:], T[1:]), \\mbox{if}~~~S[0]=T[0] \\\\\n",
    "1+\\min\\{\\mathit{MED}(S[1:], T),\\mathit{MED}(S, T[1:])\\}, \\mbox{otherwise} \\\\\n",
    "\\end{cases}\n",
    "$$\n",
    "\n",
    "Just as with Knapsack, this recursion tree for this recurrence yields an exponential number of nodes. How many nodes are there, and what is the depth? \n"
   ]
  },
  {
   "cell_type": "markdown",
   "metadata": {
    "slideshow": {
     "slide_type": "fragment"
    }
   },
   "source": [
    "The recursion tree has $O(2^{m+n})$ nodes and depth $O(m+n)$. Are there shared subproblems?\n",
    "\n",
    "For $S$=`ABC` and $T$=`DBC` we have the following DAG:\n",
    "\n",
    "<img src=\"edit_distance_DAG.jpg\" width=\"60%\">\n",
    "\n",
    "How much sharing is possible? In other words, how many distinct subproblems are there?"
   ]
  },
  {
   "cell_type": "markdown",
   "metadata": {
    "slideshow": {
     "slide_type": "slide"
    }
   },
   "source": [
    "In any recursive call, the subproblems we consider consist of strings with one less character. So there are $O(mn)$ subproblems, each of which can each be computed in $O(1)$ time (if we have precomputed the necessary dependencies). The longest path in the recursion DAG is $O(m+n)$.\n"
   ]
  },
  {
   "cell_type": "code",
   "execution_count": 1,
   "metadata": {
    "slideshow": {
     "slide_type": "fragment"
    }
   },
   "outputs": [
    {
     "name": "stdout",
     "output_type": "stream",
     "text": [
      "5\n"
     ]
    }
   ],
   "source": [
    "def MED(S, T):\n",
    "    #print(\"S:%s, T:%s\" % (S, T))\n",
    "    if (S == \"\"):\n",
    "        return(len(T))\n",
    "    elif (T == \"\"):\n",
    "        return(len(S))\n",
    "    else:\n",
    "        if (S[0] == T[0]):\n",
    "            return(MED(S[1:], T[1:]))\n",
    "        else:\n",
    "            return(1 + min(MED(S, T[1:]), MED(S[1:], T)))\n",
    "\n",
    "# S= \"abcdefghijkl\"\n",
    "# T= \"abcdghikjl\"\n",
    "S = 'kitten'\n",
    "T = 'sitting'\n",
    "print(MED(S, T))"
   ]
  },
  {
   "cell_type": "markdown",
   "metadata": {
    "slideshow": {
     "slide_type": "slide"
    }
   },
   "source": [
    "Any idea for memoization??"
   ]
  },
  {
   "cell_type": "markdown",
   "metadata": {
    "slideshow": {
     "slide_type": "fragment"
    }
   },
   "source": [
    "<img src=\"med_table.png\" width=\"60%\">\n"
   ]
  },
  {
   "cell_type": "markdown",
   "metadata": {
    "slideshow": {
     "slide_type": "fragment"
    }
   },
   "source": [
    "<img src=\"med_table_rs.png\" width=\"60%\">"
   ]
  }
 ],
 "metadata": {
  "celltoolbar": "Slideshow",
  "kernelspec": {
   "display_name": "Python 3 (ipykernel)",
   "language": "python",
   "name": "python3"
  },
  "language_info": {
   "codemirror_mode": {
    "name": "ipython",
    "version": 3
   },
   "file_extension": ".py",
   "mimetype": "text/x-python",
   "name": "python",
   "nbconvert_exporter": "python",
   "pygments_lexer": "ipython3",
   "version": "3.9.7"
  },
  "rise": {
   "autolaunch": true,
   "controls": false,
   "enable_chalkboard": true,
   "scroll": true,
   "theme": "simple",
   "transition": "fade"
  },
  "toc": {
   "base_numbering": 1,
   "nav_menu": {},
   "number_sections": true,
   "sideBar": true,
   "skip_h1_title": true,
   "title_cell": "Table of Contents",
   "title_sidebar": "Contents",
   "toc_cell": true,
   "toc_position": {},
   "toc_section_display": true,
   "toc_window_display": false
  }
 },
 "nbformat": 4,
 "nbformat_minor": 4
}
