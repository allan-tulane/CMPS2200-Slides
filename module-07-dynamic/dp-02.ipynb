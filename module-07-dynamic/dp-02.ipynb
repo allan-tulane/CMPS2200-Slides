{
 "cells": [
  {
   "cell_type": "code",
   "execution_count": 2,
   "metadata": {
    "code_folding": [],
    "slideshow": {
     "slide_type": "skip"
    }
   },
   "outputs": [
    {
     "name": "stderr",
     "output_type": "stream",
     "text": [
      "/var/folders/8t/f5lr_py56_78f39pmpx4l3sm0000gn/T/ipykernel_3632/1435612826.py:2: DeprecationWarning: Importing display from IPython.core.display is deprecated since IPython 7.14, please import from IPython display\n",
      "  from IPython.core.display import display,HTML\n"
     ]
    },
    {
     "data": {
      "text/html": [
       "<style>.prompt{width: 0px; min-width: 0px; visibility: collapse}</style>"
      ],
      "text/plain": [
       "<IPython.core.display.HTML object>"
      ]
     },
     "metadata": {},
     "output_type": "display_data"
    },
    {
     "data": {
      "text/html": [
       "<style>\n",
       "div#notebook {\n",
       " font-family: \"Exo_2\", sans-serif;\n",
       "}\n",
       "\n",
       ".rendered_html h1,\n",
       ".text_cell_render h1 {\n",
       " color: #126dce;\n",
       " font-size: 220%;\n",
       " text-align: center;\n",
       " font-weight: lighter;\n",
       "}\n",
       ".rendered_html h2,\n",
       ".text_cell_render h2 {\n",
       " text-align: center;\n",
       " font-size: 170%;\n",
       " color: #126dce;\n",
       " font-style: normal;\n",
       " font-weight: lighter;\n",
       "}\n",
       ".rendered_html h3,\n",
       ".text_cell_render h3 {\n",
       " font-size: 150%;\n",
       " color: #126dce;\n",
       " font-weight: lighter;\n",
       " text-decoration: italic;\n",
       " font-style: normal;\n",
       "}\n",
       ".rendered_html h4,\n",
       ".text_cell_render h4 {\n",
       " font-size: 120%;\n",
       " color: #126dce;\n",
       " font-weight: underline;\n",
       " font-style: normal;\n",
       "}\n",
       ".rendered_html h5,\n",
       ".text_cell_render h5 {\n",
       " font-size: 100%;\n",
       " color: #2f2f2f;\n",
       " font-weight: lighter;\n",
       " text-decoration: underline;\n",
       "}\n",
       "</style>\n"
      ],
      "text/plain": [
       "<IPython.core.display.HTML object>"
      ]
     },
     "metadata": {},
     "output_type": "display_data"
    }
   ],
   "source": [
    "# setup\n",
    "from IPython.core.display import display,HTML\n",
    "display(HTML('<style>.prompt{width: 0px; min-width: 0px; visibility: collapse}</style>'))\n",
    "display(HTML(open('rise.css').read()))\n",
    "\n",
    "# imports\n",
    "import numpy as np\n",
    "import matplotlib.pyplot as plt\n",
    "import seaborn as sns\n",
    "%matplotlib inline\n",
    "sns.set(style=\"whitegrid\", font_scale=1.5, rc={'figure.figsize':(12, 6)})\n"
   ]
  },
  {
   "cell_type": "markdown",
   "metadata": {
    "slideshow": {
     "slide_type": "slide"
    }
   },
   "source": [
    "# CMPS 2200\n",
    "# Introduction to Algorithms\n",
    "\n",
    "## Dynamic Programming - Edit Distance\n"
   ]
  },
  {
   "cell_type": "markdown",
   "metadata": {
    "slideshow": {
     "slide_type": "slide"
    }
   },
   "source": [
    "### Target: Finish your meal.\n",
    "\n",
    "- **Solution 1**: Eat the starter, main course and dessert all at once without following any order. Getting food into your stomach is the only thought you have.\n",
    "\n",
    "- **Solution 2**: Eat the starter first to stimulate your appetite and now you can enjoy main course better. After finishing the starters, go on to the main courses. And now further for dessert!"
   ]
  },
  {
   "cell_type": "markdown",
   "metadata": {
    "slideshow": {
     "slide_type": "slide"
    }
   },
   "source": [
    "Consider the following Python code to compute the minimum element in a list:\n",
    "\n",
    "```python \n",
    "def my_min(a):\n",
    "    S = a[0]\n",
    "    for i in range(len(a)):\n",
    "        S = min(S, a[i])\n",
    "    return(S)\n",
    "```\n",
    "What algorithmic paradigm are we using here?"
   ]
  },
  {
   "cell_type": "markdown",
   "metadata": {
    "slideshow": {
     "slide_type": "fragment"
    }
   },
   "source": [
    "| Feature             | **Greedy Algorithm**                                                         | **Dynamic Programming**                                                                                            |\n",
    "| ------------------- | ---------------------------------------------------------------------------- | ------------------------------------------------------------------------------------------------------------------ |\n",
    "| **Approach**        | Make the best local (immediate) choice, hoping it leads to a global optimum. | Explore all subproblems, store their results, and combine them to find a global optimum.                           |\n",
    "| **Key Idea**        | *Locally optimal → globally optimal*                                         | *Optimal substructure + overlapping subproblems*                                                                   |\n",
    "| **Decision Making** | One-shot choice at each step                                                 | Exhaustive, but efficient reuse via memoization or tabulation                                                      |\n",
    "| **Speed**           | Usually faster (O(n log n), O(n))                                            | Often slower (O(n²), O(n·W), etc.)                                                                                 |\n",
    "| **Memory Usage**    | Low                                                                          | Higher (tables or recursion caches)                                                                                |\n",
    "| **When It Works**   | Problem has **greedy-choice property** and **optimal substructure**          | Problem has **optimal substructure** and **overlapping subproblems**, but *not necessarily greedy-choice property* |\n"
   ]
  },
  {
   "cell_type": "markdown",
   "metadata": {
    "slideshow": {
     "slide_type": "slide"
    }
   },
   "source": [
    "### Edit Distance\n",
    "\n",
    "Given two strings $S, T \\in \\Sigma^*$, how similar are they?\n",
    "\n",
    "We can measure this using **edit distance**, which is the number of insertions and deletions (sometimes substitutions) needed to turn $S$ into $T$. Note that we can also go from $T$ to $S$ if we just reverse the edits (by turning insertions into deletions)\n",
    "\n",
    "Example: $S$ = `abcdefghijkl`, $T$ = `abcdghikjl`. How many edits are needed?\n",
    "\n",
    "Consider following edit sequence:\n",
    "\n",
    "$S$: `abcdefghijkl---`<br>\n",
    "$T$: `abcd--ghi---kjl`\n",
    "\n",
    "This has 5 deletions and 3 insertions, for a total of 8 edits. What about this one:\n",
    "\n",
    "$S$: `abcdefghijk-l`<br>\n",
    "$T$: `abcd--ghi-kjl`\n",
    "\n",
    "We have 3 deletions and 1 insertion for a total of 4 edits.\n",
    "\n",
    "Our goal is to compute the **minimum edit distance** between two strings $S$ and $T$ of lengths $m$ and $n$, respectively.\n",
    "\n",
    "It might seem like a toy problem, but this is a critical problem in comparing gene/protein sequences, and also online tools (e.g., Git/Overleaf/Google Doc). By attaching  weights to insertions and deletions, we can assess the evolutionary distance between two sequences."
   ]
  },
  {
   "cell_type": "markdown",
   "metadata": {
    "slideshow": {
     "slide_type": "slide"
    }
   },
   "source": [
    "\n",
    "\n",
    "Notice that once again, if we greedily apply edits to the beginning or end of the string we might miss a set of edits interspersed throughout the string. \n",
    "\n",
    "\n",
    "**Can we identify an optimal substructure property for this problem?**\n",
    "\n",
    "<br>\n",
    "\n",
    "Let's use case-based reasoning about the optimal solution as we did for Knapsack. Let $\\color{red}{\\mathit{MED}(S, T)}$ be the optimal number of edits between $S$ and $T$. \n",
    "\n",
    "<br><br><br>\n",
    "\n",
    "In an optimal sequence of edits, how would we deal with the first two characters of $S$ and $T$, respectively?\n",
    "\n",
    "<br><br>\n",
    "\n",
    "For the base cases, is $S$ is empty and $T$ is not, what is the edit cost?  \n",
    "S=` ` <br>\n",
    "T=`abcde`\n",
    "\n",
    "<br><br><br>\n",
    "\n",
    "\n",
    "If either string is empty, then the edit cost is simply the length of the other string.\n",
    "\n",
    "<br><br>\n",
    "\n",
    "What if $S[0] = T[0]$?  \n",
    "S=`abc`<br>\n",
    "T=`ade`\n",
    "\n",
    "<br><br>\n",
    "\n",
    "then there is no benefit to editing and $\\mathit{MED}(S, T) = \\mathit{MED}(S[1:], T[1:])$. \n",
    "\n",
    "<br><br>\n",
    "What if $S[0] \\neq T[0]$?  \n",
    "S=`abc` <br>\n",
    "T=`bde`\n",
    "\n",
    "<br><br><br>\n",
    "then we must incur 1 edit either `insertion` or `deletion`. The less costly edit is either `Delete S[0] from S` or `Insert T[0] to S`.\n",
    "\n",
    "$\\rightarrow 1+\\mathit{MED}(S[1:], T)~~~~$    e.g, $1+\\mathit{MED}($ `bc` , `bde` $)$  \n",
    "or   \n",
    "$\\rightarrow 1+\\mathit{MED}(S, T[1:])~~~~$  e.g, $1+\\mathit{MED}($ `abc` , `de` $)$  \n",
    "\n",
    "<br>\n",
    "\n",
    "**Optimal Substructure for Edit Distance**: Let $S$ and $T$ be strings of length $m$ and $n$, the optional substructure is:\n",
    "\n",
    "$$\\mathit{MED}(S, T) = \n",
    "\\begin{cases}\n",
    "\\mathit{MED}(S[1:], T[1:]), \\mbox{if}~~~S[0]=T[0] \\\\\n",
    "1+\\min\\{\\mathit{MED}(S[1:], T),\\mathit{MED}(S, T[1:])\\}, \\mbox{otherwise} \\\\\n",
    "\\end{cases}\n",
    "$$\n",
    "\n",
    "Just as with Knapsack, this recursion tree for this recurrence yields an exponential number of nodes. How many nodes are there, and what is the depth? \n",
    "\n",
    "<!-- <br><br>\n",
    "<br><br>\n",
    "<br><br>\n",
    "Note that if we allow `substitutions`, then we can easily replace `S[0]` with `T[0]`, in this case, we have another solution.\n",
    "$\\rightarrow 1+\\mathit{MED}(S[1:], T[1:])~~~~$e.g, S = `abc`, T = `dbc`.  <span style=\"color:blue\">**You will see this in Assignment 5 - Question 3.**</span>\n",
    "\n",
    " -->\n",
    "\n",
    "\n"
   ]
  },
  {
   "cell_type": "markdown",
   "metadata": {
    "slideshow": {
     "slide_type": "fragment"
    }
   },
   "source": [
    "The recursion tree has $O(2^{m+n})$ nodes and depth $O(m+n)$. Are there shared subproblems?\n",
    "\n",
    "For $S$=`ABC` and $T$=`DBC` we have the following DAG:\n",
    "\n",
    "<img src=\"figures\\edit_distance_dag.jpg\" width=\"60%\">\n",
    "\n",
    "How much sharing is possible? In other words, how many distinct subproblems are there?"
   ]
  },
  {
   "cell_type": "markdown",
   "metadata": {
    "slideshow": {
     "slide_type": "slide"
    }
   },
   "source": [
    "In any recursive call, the subproblems we consider consist of strings with one less character. So there are $O(mn)$ subproblems, each of which can each be computed in $O(1)$ time (if we have precomputed the necessary dependencies). The longest path in the recursion DAG is $O(m+n)$.\n"
   ]
  },
  {
   "cell_type": "markdown",
   "metadata": {
    "slideshow": {
     "slide_type": "slide"
    }
   },
   "source": [
    "\n",
    "### What the pros and cons for top-down and bottom up?\n",
    "\n",
    "<img src=\"figures\\Dynamic-Programming.png\" width=\"70%\">\n",
    "\n",
    "\n",
    "\n",
    "\n"
   ]
  },
  {
   "cell_type": "markdown",
   "metadata": {
    "slideshow": {
     "slide_type": "fragment"
    }
   },
   "source": [
    "### 🧠 Top-Down DP (Memoization)\n",
    "\n",
    "\n",
    "✅ Pros\n",
    "\n",
    "- Easier to write and understand – Follows the natural recursive structure of the problem.\n",
    "$\\rightarrow$ Great for problems that are naturally recursive (e.g., Fibonacci).\n",
    "\n",
    "- Solves only necessary subproblems – Doesn’t compute states you don’t need.\n",
    "$\\rightarrow$ Useful when many possible subproblems exist but only a few are relevant.\n",
    "\n",
    "- Quick to implement – Especially with recursion + caching (e.g., using a dictionary or array).\n",
    "\n",
    "❌ Cons\n",
    "\n",
    "- Function call overhead – Recursive calls add stack frames, which increases overhead.\n",
    "$\\rightarrow$ Can be an issue for large input sizes.\n",
    "\n",
    "- Risk of stack overflow – Deep recursion (like in long chains) can exceed call stack limits.\n",
    "\n",
    "- More difficult to control order of computation – May be harder to optimize memory usage.\n",
    "\n",
    "###  ⚙️ Bottom-Up DP (Tabulation)\n",
    "\n",
    "✅ Pros\n",
    "\n",
    "- No recursion overhead – Uses loops, so no stack issues.\n",
    "\n",
    "- Can be more space-optimized – You can often keep only a few rows or variables instead of the entire table.\n",
    "\n",
    "- Deterministic execution order – Easier to reason about time and memory usage.\n",
    "\n",
    "❌ Cons\n",
    "\n",
    "- Computes all subproblems – Even those not needed for the final answer. $\\rightarrow$ Less efficient if only a subset of subproblems are relevant.\n",
    "\n",
    "- Harder to implement – Requires careful thought about the correct iteration order.\n",
    "\n",
    "- Less intuitive – Especially for problems that are naturally recursive (like trees or graphs)."
   ]
  },
  {
   "cell_type": "code",
   "execution_count": 1,
   "metadata": {
    "slideshow": {
     "slide_type": "fragment"
    }
   },
   "outputs": [
    {
     "name": "stdout",
     "output_type": "stream",
     "text": [
      "4\n",
      "5\n"
     ]
    }
   ],
   "source": [
    "def MED(S, T):\n",
    "    #print(\"S:%s, T:%s\" % (S, T))\n",
    "    if (S == \"\"):\n",
    "        return(len(T))\n",
    "    elif (T == \"\"):\n",
    "        return(len(S))\n",
    "    else:\n",
    "        if (S[0] == T[0]):\n",
    "            return(MED(S[1:], T[1:]))\n",
    "        else:\n",
    "            return(1 + min(MED(S, T[1:]), MED(S[1:], T)))\n",
    "\n",
    "## Case 1\n",
    "S= \"abcdefghijkl\"\n",
    "T= \"abcdghikjl\"\n",
    "print(MED(S, T))\n",
    "\n",
    "## Case 2\n",
    "S0 = 'kitten'\n",
    "T0 = 'sitting'\n",
    "print(MED(S0, T0))"
   ]
  },
  {
   "cell_type": "code",
   "execution_count": 3,
   "metadata": {
    "slideshow": {
     "slide_type": "slide"
    }
   },
   "outputs": [
    {
     "name": "stdout",
     "output_type": "stream",
     "text": [
      "Case 1: 4\n",
      "Case 2: 5\n"
     ]
    }
   ],
   "source": [
    "def med_top_down(S, T, MED={}):\n",
    "\n",
    "    \n",
    "    if (S, T) in MED:\n",
    "        return MED[(S, T)]\n",
    "    \n",
    "    if not S:\n",
    "        return len(T)\n",
    "    if not T:\n",
    "        return len(S)\n",
    "\n",
    "    if S[0] == T[0]:  # If first characters are the same, move to the next\n",
    "        MED[(S, T)] = med_top_down(S[1:], T[1:], MED)\n",
    "    else:\n",
    "        insert = med_top_down(S, T[1:], MED) + 1  # Insert a character\n",
    "        delete = med_top_down(S[1:], T, MED) + 1  # Delete a character\n",
    "        MED[(S, T)] = min(insert, delete)\n",
    "    \n",
    "    return MED[(S, T)]\n",
    "\n",
    "## Case 1\n",
    "S= \"abcdefghijkl\"\n",
    "T= \"abcdghikjl\"\n",
    "print(\"Case 1:\", med_top_down(S, T))\n",
    "\n",
    "## Case 2\n",
    "S = 'kitten'\n",
    "T = 'sitting'\n",
    "print(\"Case 2:\", med_top_down(S, T))\n"
   ]
  },
  {
   "cell_type": "markdown",
   "metadata": {
    "slideshow": {
     "slide_type": "slide"
    }
   },
   "source": [
    "### Top-down Design\n",
    "\n",
    "```python\n",
    "\n",
    "def med_top_down(S, T, MED={}):\n",
    "\n",
    "    \n",
    "    if (S, T) in MED:\n",
    "        return MED[(S, T)]\n",
    "    \n",
    "    if not S:\n",
    "        return len(T)\n",
    "    if not T:\n",
    "        return len(S)\n",
    "\n",
    "    if S[0] == T[0]:  # If first characters are the same, move to the next\n",
    "        MED[(S, T)] = med_top_down(S[1:], T[1:], MED)\n",
    "    else:\n",
    "        insert = med_top_down(S, T[1:], MED) + 1  # Insert a character\n",
    "        delete = med_top_down(S[1:], T, MED) + 1  # Delete a character\n",
    "        MED[(S, T)] = min(insert, delete)\n",
    "    \n",
    "    return MED[(S, T)]\n",
    "\n",
    "## Case 1\n",
    "S= \"abcdefghijkl\"\n",
    "T= \"abcdghikjl\"\n",
    "print(\"Case 1:\", med_top_down(S, T))\n",
    "\n",
    "## Case 2\n",
    "S = 'kitten'\n",
    "T = 'sitting'\n",
    "print(\"Case 2:\", med_top_down(S, T))\n",
    "\n",
    "```"
   ]
  },
  {
   "cell_type": "markdown",
   "metadata": {
    "slideshow": {
     "slide_type": "fragment"
    }
   },
   "source": [
    "### Bottom-up Design: 2D Array <span style=\"color:red\">of size $(n+1)\\times(m+1)$</span>\n",
    "\n",
    "$$\\mathit{MED}(S, T) = \n",
    "\\begin{cases}\n",
    "\\mathit{MED}(S[1:], T[1:]), \\mbox{if}~~~S[0]=T[0] \\\\\n",
    "1+\\min\\{\\mathit{MED}(S[1:], T),\\mathit{MED}(S, T[1:])\\}, \\mbox{otherwise} \\\\\n",
    "\\end{cases}\n",
    "$$\n",
    "\n",
    "<img src=\"figures\\med_table.png\" width=\"60%\">\n"
   ]
  },
  {
   "cell_type": "markdown",
   "metadata": {
    "slideshow": {
     "slide_type": "fragment"
    }
   },
   "source": [
    "<img src=\"figures\\med_table_rs.png\" width=\"60%\">"
   ]
  },
  {
   "cell_type": "markdown",
   "metadata": {},
   "source": [
    "<img src=\"figures\\med_table_rs_path.png\" width=\"60%\">"
   ]
  },
  {
   "cell_type": "markdown",
   "metadata": {
    "slideshow": {
     "slide_type": "slide"
    }
   },
   "source": [
    "$$\n",
    "v(\\text{OPT}([n], W)) = \n",
    "\\max \\Big\\{\n",
    "\\color{blue}{v(n) + v(OPT([n-1], W - w(n)))} ,\\;\\;\n",
    "\\color{red}{v(OPT([n-1], W))}\n",
    "\\Big\\}.\n",
    "$$ \n",
    "\n",
    "\n",
    "\n",
    "<img src=\"figures\\0-1Quiz.png\" width=\"24%\">\n",
    "\n",
    "### Bottum-up\n",
    "\n",
    "$$\n",
    "\\begin{array}{c|ccccccccccc}\n",
    "i \\backslash W & 0 & 1 & 2 & 3 & 4 & 5 & 6 & 7 & 8 & 9 & 10 & 11 \\\\ \\hline\n",
    "1 & 0 & 1 & 1 & 1 & 1 & 1 & 1 & 1 & 1 & 1 & 1 & 1 \\\\\n",
    "2 & 0 & 1 & 6 & 7 & 7 & 7 & 7 & 7 & 7 & 7 & 7 & 7 \\\\\n",
    "3 & 0 & 1 & 6 & 7 & 7 & 18 & 19 & 24 & 25 & 25 & 25 & 25 \\\\\n",
    "4 & 0 & 1 & 6 & 7 & 7 & 18 & 22 & 24 & 28 & 29 & 29 & 40 \\\\\n",
    "5 & 0 & 1 & 6 & 7 & 7 & 18 & 22 & 28 & 29 & 34 & 35 & 40 \\\\\n",
    "\\end{array}\n",
    "$$\n"
   ]
  },
  {
   "cell_type": "markdown",
   "metadata": {
    "slideshow": {
     "slide_type": "fragment"
    }
   },
   "source": [
    "\n",
    "### Top-down\n",
    "\n",
    "- `(1, 0)`: 0\n",
    "- `(1, 2)`: 1\n",
    "- `(1, 3)`: 1\n",
    "- `(1, 4)`: 1\n",
    "- `(1, 5)`: 1\n",
    "- `(1, 6)`: 1\n",
    "- `(1, 9)`: 1\n",
    "- `(1, 11)`: 1\n",
    "- `(2, 0)`: 0\n",
    "- `(2, 4)`: 7\n",
    "- `(2, 5)`: 7\n",
    "- `(2, 6)`: 7\n",
    "- `(2, 11)`: 7\n",
    "- `(3, 4)`: 7\n",
    "- `(3, 5)`: 18\n",
    "- `(3, 11)`: 25\n",
    "- `(4, 4)`: 7\n",
    "- `(4, 11)`: 40\n",
    "- `(5, 11)`: 40\n",
    "\n",
    "\n",
    "$$\n",
    "\\begin{array}{c|ccccccccccc}\n",
    "i \\backslash W & 0 & 1 & 2 & 3 & 4 & 5 & 6 & 7 & 8 & 9 & 10 & 11 \\\\ \\hline\n",
    "1 & 0 &   & 1 & 1 & 1 & 1 & 1 &   &   & 1 &   & 1 \\\\\n",
    "2 & 0 &   &   &   & 7 & 7 & 7 &   &   &   &   & 7 \\\\\n",
    "3 &   &   &   &   & 7 & 18 &   &   &   &   &   & 25 \\\\\n",
    "4 &   &   &   &   & 7 &   &   &   &   &   &   & 40 \\\\\n",
    "5 &   &   &   &   &   &   &   &   &   &   &   & 40 \\\\\n",
    "\\end{array}\n",
    "$$\n"
   ]
  }
 ],
 "metadata": {
  "celltoolbar": "Slideshow",
  "kernelspec": {
   "display_name": "Python 3 (ipykernel)",
   "language": "python",
   "name": "python3"
  },
  "language_info": {
   "codemirror_mode": {
    "name": "ipython",
    "version": 3
   },
   "file_extension": ".py",
   "mimetype": "text/x-python",
   "name": "python",
   "nbconvert_exporter": "python",
   "pygments_lexer": "ipython3",
   "version": "3.9.6"
  },
  "rise": {
   "autolaunch": true,
   "controls": false,
   "enable_chalkboard": true,
   "scroll": true,
   "theme": "simple",
   "transition": "fade"
  },
  "toc": {
   "base_numbering": 1,
   "nav_menu": {},
   "number_sections": true,
   "sideBar": true,
   "skip_h1_title": true,
   "title_cell": "Table of Contents",
   "title_sidebar": "Contents",
   "toc_cell": true,
   "toc_position": {},
   "toc_section_display": true,
   "toc_window_display": false
  }
 },
 "nbformat": 4,
 "nbformat_minor": 4
}
