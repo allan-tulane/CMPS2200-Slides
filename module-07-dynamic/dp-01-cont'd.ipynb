{
 "cells": [
  {
   "cell_type": "code",
   "execution_count": 277,
   "metadata": {
    "code_folding": [],
    "slideshow": {
     "slide_type": "skip"
    }
   },
   "outputs": [
    {
     "data": {
      "text/html": [
       "<style>.prompt{width: 0px; min-width: 0px; visibility: collapse}</style>"
      ],
      "text/plain": [
       "<IPython.core.display.HTML object>"
      ]
     },
     "metadata": {},
     "output_type": "display_data"
    },
    {
     "data": {
      "text/html": [
       "<style>\n",
       "div#notebook {\n",
       " font-family: \"Exo_2\", sans-serif;\n",
       "}\n",
       "\n",
       ".rendered_html h1,\n",
       ".text_cell_render h1 {\n",
       " color: #126dce;\n",
       " font-size: 220%;\n",
       " text-align: center;\n",
       " font-weight: lighter;\n",
       "}\n",
       ".rendered_html h2,\n",
       ".text_cell_render h2 {\n",
       " text-align: center;\n",
       " font-size: 170%;\n",
       " color: #126dce;\n",
       " font-style: normal;\n",
       " font-weight: lighter;\n",
       "}\n",
       ".rendered_html h3,\n",
       ".text_cell_render h3 {\n",
       " font-size: 150%;\n",
       " color: #126dce;\n",
       " font-weight: lighter;\n",
       " text-decoration: italic;\n",
       " font-style: normal;\n",
       "}\n",
       ".rendered_html h4,\n",
       ".text_cell_render h4 {\n",
       " font-size: 120%;\n",
       " color: #126dce;\n",
       " font-weight: underline;\n",
       " font-style: normal;\n",
       "}\n",
       ".rendered_html h5,\n",
       ".text_cell_render h5 {\n",
       " font-size: 100%;\n",
       " color: #2f2f2f;\n",
       " font-weight: lighter;\n",
       " text-decoration: underline;\n",
       "}\n",
       "</style>\n"
      ],
      "text/plain": [
       "<IPython.core.display.HTML object>"
      ]
     },
     "metadata": {},
     "output_type": "display_data"
    }
   ],
   "source": [
    "# setup\n",
    "from IPython.core.display import display,HTML\n",
    "display(HTML('<style>.prompt{width: 0px; min-width: 0px; visibility: collapse}</style>'))\n",
    "display(HTML(open('rise.css').read()))\n",
    "\n",
    "# imports\n",
    "import numpy as np\n",
    "import matplotlib.pyplot as plt\n",
    "import seaborn as sns\n",
    "%matplotlib inline\n",
    "sns.set(style=\"whitegrid\", font_scale=1.5, rc={'figure.figsize':(12, 6)})\n"
   ]
  },
  {
   "cell_type": "markdown",
   "metadata": {
    "slideshow": {
     "slide_type": "slide"
    }
   },
   "source": [
    "# CMPS 2200\n",
    "# Introduction to Algorithms\n",
    "\n",
    "## Dynamic Programming (Cont'd)\n"
   ]
  },
  {
   "cell_type": "markdown",
   "metadata": {
    "slideshow": {
     "slide_type": "slide"
    }
   },
   "source": [
    "### 0-1 Knapsack\n",
    "\n",
    "Suppose there are $n$ objects, each with a *value* $v_i$ and *weight* $w_i$. You have a \"knapsack\" of capacity $W$ and want to fill it with a set of objects $X \\subseteq [n]$ so that $w(X) \\leq W$ and $v(X)$ is maximized. \n",
    "\n",
    "<img src=\"Knapsack.jpg\" width=\"50%\">\n",
    "\n",
    "\n",
    "Let $OPT(S, W)$ be an optimal solution to the Knapsack problem for a set of objects $S$ and capacity $W$.\n",
    "\n",
    "We started with $n$ objects and capacity $W$ so we are interested in finding $OPT([n], W)$. \n",
    "\n",
    "\n",
    "If object $n$ is in the optimal solution, then <br>\n",
    "<br>\n",
    "$~~~~~~~~OPT([n], W)=\\{n\\} \\cup OPT([n-1], W-w(n)).$ \n",
    "<br>\n",
    "<br>\n",
    "If it isn't, then <br>\n",
    "<br>\n",
    "$~~~~~~~~OPT([n], W) = OPT([n-1], W)$.\n",
    "\n",
    "\n",
    "\n",
    "<br>\n",
    "<br>\n",
    "\n",
    "**Optimal Substructure for Knapsack**: For any set of objects $[n]$ and $W>0$, we have\n",
    "\n",
    "$$v(OPT([n], W)) = \\max\\Big \\{v(n) + v\\big(OPT([n-1], W - w(n))\\big), ~v(OPT([n-1], W)\\big)\\Big\\}.$$"
   ]
  },
  {
   "cell_type": "markdown",
   "metadata": {
    "slideshow": {
     "slide_type": "slide"
    }
   },
   "source": [
    "Let's consider the recursion tree:\n",
    "\n",
    "<img src=\"knapsack_recursion_tree.jpg\" width=\"70%\">\n",
    "\n",
    "> $\\Omega(2^n)$ work and $O(n)$ span.  "
   ]
  },
  {
   "cell_type": "markdown",
   "metadata": {
    "slideshow": {
     "slide_type": "fragment"
    }
   },
   "source": [
    "### <span style=\"color:red\">Memoization</span> - All about sharing\n",
    "\n",
    "We compute $v(OPT(i, w))$ once and save the result for later use (e.g., in a suitable data structure). When performing memoization, we can either proceed **top-down** or **bottom-up**:\n",
    "\n",
    "\n",
    "\n",
    "Then, we no longer have a binary tree but rather a **directed acyclic graph** or **DAG**.\n",
    "\n",
    "\n",
    "<img src=\"knapsack_recursion_dag.jpg\" width=\"70%\">\n",
    "\n",
    "\n",
    "\n",
    "<br>\n",
    "\n",
    "> The number of nodes in this DAG will allow us to determine the work of this algorithm\n",
    "> The longest path in the DAG will allow us to determine the span. \n",
    "\n",
    "\n",
    "### Example:\n",
    "\n",
    "|index |value|weight|\n",
    "|------|------|-----|\n",
    "|0     | 10   |5    |\n",
    "|1     | 6    | 3 |\n",
    "|2     | 6    | 2 |\n",
    "\n",
    "\n",
    "Optimal solution is 12 (second and third items) for capacity $W =5$.\n",
    "<br>\n",
    "\n",
    "\n",
    "<br><br>**Define a table**: number of items to include (rows) by weight (cols)\n",
    "<span style=\"color:red\">**Note**</span>: The size of table $(n+1)\\times(W+1)$ when we include boundaries.\n",
    "\n",
    "| |0 |1 |2 |3 |4 |5 |\n",
    "|-|-|-|-|-|-|-|\n",
    "|0|0 |0 |0 |0 |0 |0 |\n",
    "|1|0 |0 |0 |0 |0 |10|\n",
    "|2|0 |0 |0 |6 |6 |10|\n",
    "|3|0 |0 |6 |6 |6 |**12** |\n",
    "\n",
    "\n",
    "\n"
   ]
  },
  {
   "cell_type": "code",
   "execution_count": 1,
   "metadata": {
    "slideshow": {
     "slide_type": "slide"
    }
   },
   "outputs": [],
   "source": [
    "import random\n",
    "\n",
    "\n",
    "### objects = [(10,5), (6,3), (6,2)]\n",
    "\n",
    "## Implementation 1\n",
    "def recursive_knapsack(objects, i, W):\n",
    "    v, w = objects[i]\n",
    "    if (i == 0):\n",
    "        if (w <= W):\n",
    "            return(v)\n",
    "        else:\n",
    "            return(0)\n",
    "    else:\n",
    "        if (w <= W):\n",
    "            take = v + recursive_knapsack(objects, i-1, W-w)\n",
    "            dont_take = recursive_knapsack(objects, i-1, W)\n",
    "            return(max(take, dont_take))\n",
    "        elif (W == 0):\n",
    "            return(0)\n",
    "        else:\n",
    "            # w>W\n",
    "            return(recursive_knapsack(objects, i-1, W))\n"
   ]
  },
  {
   "cell_type": "code",
   "execution_count": 2,
   "metadata": {
    "slideshow": {
     "slide_type": "fragment"
    }
   },
   "outputs": [],
   "source": [
    "## Implementation 2\n",
    "def tabular_knapsack(objects, W):\n",
    "    n = len(objects)\n",
    "    # we'll rely on indices to also represent weights, so we'll index from 1...W \n",
    "    # in the weight dimension of the table\n",
    "    OPT = [[0]*(W+1)]\n",
    "\n",
    "    \n",
    "    # use the optimal substructure property to compute increasingly larger solutions\n",
    "    for i in range(0,n):\n",
    "        OPT.append([0]*(W+1))\n",
    "        v_i, w_i = objects[i]\n",
    "        for w in range(W+1):\n",
    "            if (w_i <= w):\n",
    "                OPT[i+1][w] = max(v_i + OPT[i][w-w_i], OPT[i][w])\n",
    "            else:\n",
    "                OPT[i+1][w] = OPT[i-1][w] \n",
    "\n",
    "    return(OPT[n][W])\n"
   ]
  },
  {
   "cell_type": "code",
   "execution_count": 13,
   "metadata": {
    "slideshow": {
     "slide_type": "fragment"
    }
   },
   "outputs": [
    {
     "name": "stdout",
     "output_type": "stream",
     "text": [
      "Implementation 1: 12\n",
      "The time cost for recursive version 0.00041\n",
      "Implementation 2: 12\n",
      "The time cost for recursive version 0.0002\n"
     ]
    }
   ],
   "source": [
    "## Evaluation Stage\n",
    "## Case 1\n",
    "W = 5\n",
    "objects = [(10,5), (6,3), (6,2)]\n",
    "\n",
    "Ts = time.time()\n",
    "\n",
    "print('Implementation 1:', recursive_knapsack(objects, len(objects)-1, W))\n",
    "T1 = time.time()\n",
    "print('The time cost for recursive version', round(T1-Ts, 5))\n",
    "\n",
    "\n",
    "print('Implementation 2:', tabular_knapsack(objects, W))\n",
    "T2 = time.time()\n",
    "print('The time cost for recursive version', round(T2-T1, 5))\n"
   ]
  },
  {
   "cell_type": "code",
   "execution_count": 15,
   "metadata": {
    "slideshow": {
     "slide_type": "fragment"
    }
   },
   "outputs": [
    {
     "name": "stdout",
     "output_type": "stream",
     "text": [
      "Implementation 1: 10\n",
      "The time cost for recursive version 0.00063\n",
      "Implementation 2: 10\n",
      "The time cost for recursive version 0.00059\n"
     ]
    }
   ],
   "source": [
    "\n",
    "## Case 2\n",
    "W = 5\n",
    "objects = [(10, 5), (9.999, 3)]\n",
    "\n",
    "Ts = time.time()\n",
    "\n",
    "print('Implementation 1:', recursive_knapsack(objects, len(objects)-1, W))\n",
    "T1 = time.time()\n",
    "print('The time cost for recursive version', round(T1-Ts, 5))\n",
    "\n",
    "\n",
    "print('Implementation 2:', tabular_knapsack(objects, W))\n",
    "T2 = time.time()\n",
    "print('The time cost for recursive version', round(T2-T1, 5))"
   ]
  },
  {
   "cell_type": "code",
   "execution_count": null,
   "metadata": {
    "slideshow": {
     "slide_type": "fragment"
    }
   },
   "outputs": [],
   "source": [
    "## Case 3\n",
    "import time\n",
    "W = 100\n",
    "n = 500\n",
    "objects = [(i, i) for i in range(1, n)]\n",
    "\n",
    "Ts = time.time()\n",
    "\n",
    "print('Implementation 1:', recursive_knapsack(objects, len(objects)-1, W))\n",
    "T1 = time.time()\n",
    "print('The time cost for recursive version', round(T1-Ts, 5))\n",
    "\n",
    "\n",
    "print('Implementation 2:', tabular_knapsack(objects, W))\n",
    "T2 = time.time()\n",
    "print('The time cost for recursive version', round(T2-T1, 5))\n"
   ]
  },
  {
   "cell_type": "markdown",
   "metadata": {
    "slideshow": {
     "slide_type": "slide"
    }
   },
   "source": [
    "### Elements of Dynamic Programming\n",
    "\n",
    "This is what we call **dynamic programming**. The elements of a dynamic programming algorithm are:\n",
    "\n",
    "- Optimal Substructure\n",
    "- Recursion DAG\n",
    "\n",
    "The correctness of the dynamic programming approach follows from the optimal substructure property (i.e., induction). If we can prove that the optimal substructure property holds, and that we compute a solution by correctly implementing this property then our solution is optimal.\n",
    "\n",
    "As with divide and conquer algorithms, achieving a good work/span can be tricky. We can minimize redundant computation by memoizing solutions to all subproblems. This can be done *top-down* by saving the result of a recursive call the first time we encounter it. Or, we can compute the optimal substructure property *bottom-up* by starting with the base case(s) and working our way up.\n",
    "\n",
    "Can we derive the number of nodes in the DAG using the optimal substructure property?\n"
   ]
  },
  {
   "cell_type": "markdown",
   "metadata": {
    "slideshow": {
     "slide_type": "slide"
    }
   },
   "source": [
    "### Work and Span in Dynamic Programming\n",
    "\n",
    "Since we memoize the solution to every distinct subproblem, the number of nodes in the DAG is equal to the number of distinct subproblems considered. \n",
    "\n",
    "The longest path in the DAG represents the span of our dynamic programming algorithm.\n",
    "\n",
    "\n",
    "For example, 0-1 Knapsack Problem (n, W)\n",
    "- There are at most $O(nW)$ nodes in this DAG, and the longest path is $O(n)$. Each node requires $O(1)$ work/span, so the work is $O(nW)$ and the span is $O(n)$. \n"
   ]
  },
  {
   "cell_type": "markdown",
   "metadata": {
    "slideshow": {
     "slide_type": "slide"
    }
   },
   "source": [
    "### Why \"Dynamic Programming\"?\n",
    "\n",
    "The mathematician Richard Bellman coined the term [\"dynamic programming\"](https://en.wikipedia.org/wiki/Dynamic_programming) to describe the recursive approach we just showed. The optimal substructure property is sometimes referred to as a \"Bellman equation.\" But why did he call it dynamic programming?\n",
    "\n",
    "There is some [folklore](https://en.wikipedia.org/wiki/Dynamic_programming#History) around the exact reason. But it could possibly be because \"dynamic\" is a really dramatic way to describe the search weaving through the DAG. The term \"programming\" was used in the field of optimization in the 1950s to describe an optimization approach (e.g., linear programming, quadratic programming, mathematical programming). \n"
   ]
  },
  {
   "cell_type": "markdown",
   "metadata": {
    "slideshow": {
     "slide_type": "slide"
    }
   },
   "source": [
    "#### One More Example \n",
    "\n",
    "\n",
    "The capacity is 11, and there are 5 items with different values and weights.<br>\n",
    "<img src=\"0-1Quiz.png\" width=\"24%\">"
   ]
  },
  {
   "cell_type": "markdown",
   "metadata": {
    "slideshow": {
     "slide_type": "slide"
    }
   },
   "source": [
    "$$\n",
    "\\begin{array}{l}\n",
    "\\mathit{Fib}~x =   \\\\\n",
    "~~~~\\texttt{if}{}~~x \\le 1~~\\texttt{then}{}\\\\\n",
    "~~~~~~~~x\\\\   \n",
    "~~~~\\texttt{else}\\\\\n",
    "~~~~~~~~\\texttt{let}{}~~(ra, rb) = (\\mathit{Fib}~(x-1))~~,~~(\\mathit{Fib}~(x-2))~~\\texttt{in}{}\\\\  \n",
    "~~~~~~~~~~~~ra + rb\\\\  \n",
    "~~~~~~~~\\texttt{end}{}.\\\\\n",
    "\\end{array}\n",
    "$$ "
   ]
  }
 ],
 "metadata": {
  "celltoolbar": "Slideshow",
  "kernelspec": {
   "display_name": "Python 3 (ipykernel)",
   "language": "python",
   "name": "python3"
  },
  "language_info": {
   "codemirror_mode": {
    "name": "ipython",
    "version": 3
   },
   "file_extension": ".py",
   "mimetype": "text/x-python",
   "name": "python",
   "nbconvert_exporter": "python",
   "pygments_lexer": "ipython3",
   "version": "3.9.7"
  },
  "rise": {
   "autolaunch": true,
   "controls": false,
   "enable_chalkboard": true,
   "scroll": true,
   "theme": "simple",
   "transition": "fade"
  },
  "toc": {
   "base_numbering": 1,
   "nav_menu": {},
   "number_sections": true,
   "sideBar": true,
   "skip_h1_title": true,
   "title_cell": "Table of Contents",
   "title_sidebar": "Contents",
   "toc_cell": true,
   "toc_position": {},
   "toc_section_display": true,
   "toc_window_display": false
  }
 },
 "nbformat": 4,
 "nbformat_minor": 4
}
