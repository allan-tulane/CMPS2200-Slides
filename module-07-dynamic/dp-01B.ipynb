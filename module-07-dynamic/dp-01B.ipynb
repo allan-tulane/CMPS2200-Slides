{
 "cells": [
  {
   "cell_type": "code",
   "execution_count": 277,
   "metadata": {
    "code_folding": [],
    "slideshow": {
     "slide_type": "skip"
    }
   },
   "outputs": [
    {
     "data": {
      "text/html": [
       "<style>.prompt{width: 0px; min-width: 0px; visibility: collapse}</style>"
      ],
      "text/plain": [
       "<IPython.core.display.HTML object>"
      ]
     },
     "metadata": {},
     "output_type": "display_data"
    },
    {
     "data": {
      "text/html": [
       "<style>\n",
       "div#notebook {\n",
       " font-family: \"Exo_2\", sans-serif;\n",
       "}\n",
       "\n",
       ".rendered_html h1,\n",
       ".text_cell_render h1 {\n",
       " color: #126dce;\n",
       " font-size: 220%;\n",
       " text-align: center;\n",
       " font-weight: lighter;\n",
       "}\n",
       ".rendered_html h2,\n",
       ".text_cell_render h2 {\n",
       " text-align: center;\n",
       " font-size: 170%;\n",
       " color: #126dce;\n",
       " font-style: normal;\n",
       " font-weight: lighter;\n",
       "}\n",
       ".rendered_html h3,\n",
       ".text_cell_render h3 {\n",
       " font-size: 150%;\n",
       " color: #126dce;\n",
       " font-weight: lighter;\n",
       " text-decoration: italic;\n",
       " font-style: normal;\n",
       "}\n",
       ".rendered_html h4,\n",
       ".text_cell_render h4 {\n",
       " font-size: 120%;\n",
       " color: #126dce;\n",
       " font-weight: underline;\n",
       " font-style: normal;\n",
       "}\n",
       ".rendered_html h5,\n",
       ".text_cell_render h5 {\n",
       " font-size: 100%;\n",
       " color: #2f2f2f;\n",
       " font-weight: lighter;\n",
       " text-decoration: underline;\n",
       "}\n",
       "</style>\n"
      ],
      "text/plain": [
       "<IPython.core.display.HTML object>"
      ]
     },
     "metadata": {},
     "output_type": "display_data"
    }
   ],
   "source": [
    "# setup\n",
    "from IPython.core.display import display,HTML\n",
    "display(HTML('<style>.prompt{width: 0px; min-width: 0px; visibility: collapse}</style>'))\n",
    "display(HTML(open('rise.css').read()))\n",
    "\n",
    "# imports\n",
    "import numpy as np\n",
    "import matplotlib.pyplot as plt\n",
    "import seaborn as sns\n",
    "%matplotlib inline\n",
    "sns.set(style=\"whitegrid\", font_scale=1.5, rc={'figure.figsize':(12, 6)})\n"
   ]
  },
  {
   "cell_type": "markdown",
   "metadata": {
    "slideshow": {
     "slide_type": "slide"
    }
   },
   "source": [
    "# CMPS 2200\n",
    "# Introduction to Algorithms\n",
    "\n",
    "## Dynamic Programming [Cont'd]"
   ]
  },
  {
   "cell_type": "markdown",
   "metadata": {
    "slideshow": {
     "slide_type": "slide"
    }
   },
   "source": [
    "### Knapsack [Review & Cont'd]\n",
    "\n",
    "Suppose there are $n$ objects, each with a *value* $v_i$ and *weight* $w_i$. You have a \"knapsack\" of capacity $W$ and want to fill it with a set of objects $X \\subseteq [n]$ so that $w(X) \\leq W$ and $v(X)$ is maximized. \n",
    "\n",
    "Let $OPT(S, W)$ be an optimal solution to the Knapsack problem for a set of objects $S$ and capacity $W$. We started with $n$ objects and capacity $W$ so we are interested in finding $OPT([n], W)$. \n",
    "\n",
    "Now, we can make the following simple observation: if object $n$ is in the optimal solution, then <br>\n",
    "<br>\n",
    "$~~~~~~~~OPT([n], W)=\\{n\\} \\cup OPT([n-1], W-w(n)).$ \n",
    "<br>\n",
    "<br>\n",
    "If it isn't, then <br>\n",
    "<br>\n",
    "$~~~~~~~~OPT([n], W) = OPT([n-1], W)$.\n",
    "\n",
    "**Optimal Substructure for Knapsack**: For any set of objects $[n]$ and $W>0$, we have\n",
    "\n",
    "$$v(OPT([n], W)) = \\max \\{v(n) + v(OPT([n-1], W - w(n))), \\\\~~~~~~v(OPT([n-1], W))\\}.$$"
   ]
  },
  {
   "cell_type": "markdown",
   "metadata": {
    "slideshow": {
     "slide_type": "slide"
    }
   },
   "source": [
    "We can see that our optimal substructure recurrence depends both on the number of objects as well as their weights. The number of recursive calls doubles in every recursion.\n",
    "\n",
    "Suppose all items have weight 1 - is there a glaring inefficiency we can fix? Let's consider the recursion tree:\n",
    "\n",
    "<center>\n",
    "<img src=\"knapsack_recursion_tree.jpg\" width=\"70%\">\n",
    "</center>\n",
    "\n",
    "If we blindly recompute the redundant calls when they are encountered, we have:  \n",
    "$$W(n) = 2W(n-1)+O(1)$$<br>\n",
    "$$S(n) = S(n-1)+O(1)$$\n",
    "\n",
    "To sum up, we will do $\\Omega(2^n)$ work and $O(n)$ span even if we can take all the items.\n",
    "\n",
    "\n",
    "### Directed Acyclic Graph (DAG)\n",
    "\n",
    "When we need to compute $v(OPT(i, w))$, we compute it once and save the result for later use (e.g., in a suitable data structure) -- this is called *memoization*. \n",
    "\n",
    "<center>\n",
    "<img src=\"knapsack_recursion_dag.jpg\" width=\"70%\">\n",
    "</center>\n",
    "\n",
    "`Work`: the number of nodes in the DAG equals to the number of distinct subproblems considered, since we memoize the solution to every distinct subproblem.\n",
    "\n",
    "`Span`: the longest path in the DAG represents the span of our dynamic programming algorithm.\n",
    "\n",
    "For example, 0-1 Knapsack Problem (n, W)\n",
    "- How much does each node need?\n",
    "- What are the work and span?\n"
   ]
  },
  {
   "cell_type": "markdown",
   "metadata": {
    "slideshow": {
     "slide_type": "fragment"
    }
   },
   "source": [
    "There are at most $O(nW)$ nodes in this DAG, and the longest path is $O(n)$. Each node requires $O(1)$ work/span, so the work is $O(nW)$ and the span is $O(n)$. "
   ]
  },
  {
   "cell_type": "markdown",
   "metadata": {
    "slideshow": {
     "slide_type": "slide"
    }
   },
   "source": [
    "When performing `memoization`, we can either proceed **top-down** or **bottom-up**:\n",
    "\n",
    "- **top-down**: use recursion solution as usual, but maintain a hashmap or related data structure to quickly lookup solutions previously computed\n",
    "\n",
    "- **bottom-up**: start with solutions to smallest problem instances, then proceed to larger instances. This is typically implemented by filling a table.\n",
    "\n",
    "|index |value|weight|\n",
    "|------|------|-----|\n",
    "|0     | 10   |5    |\n",
    "|1     | 6    | 3 |\n",
    "|2     | 6    | 2 |\n",
    "\n",
    "\n",
    "Optimal solution is 12 (second and third items) when capacity $W =5$.\n",
    "<br>\n",
    "\n",
    "`Consider this table`: number of items to include (rows) by weight (cols)\n",
    "\n",
    "\n",
    "| |0 |1 |2 |3 |4 |5 |\n",
    "|-|-|-|-|-|-|-|\n",
    "|0|0 |0 |0 |0 |0 |0 |\n",
    "|1|0 |0 |0 |0 |0 |10|\n",
    "|2|0 |0 |0 |6 |6 |10|\n",
    "|3|0 |0 |6 |6 |6 |**12** |\n",
    "\n",
    "\n",
    "<br>\n",
    "\n",
    "#### One More Example [Please try to solve it]\n",
    "\n",
    "\n",
    "The capacity is 11, and there are 5 items with different values and weights.<br>\n",
    "<img src=\"0-1Quiz.png\" width=\"24%\">\n",
    "\n"
   ]
  },
  {
   "cell_type": "code",
   "execution_count": 5,
   "metadata": {
    "slideshow": {
     "slide_type": "slide"
    }
   },
   "outputs": [],
   "source": [
    "import random\n",
    "import time\n",
    "\n",
    "## Implementation 1\n",
    "def recursive_knapsack(objects, n, W):\n",
    "    v, w = objects[n]\n",
    "    if (n == 0):\n",
    "        if (w <= W):\n",
    "            return(v)\n",
    "        else:\n",
    "            return(0)\n",
    "    else:\n",
    "        if (w <= W):\n",
    "            take = v + recursive_knapsack(objects, n-1, W-w)\n",
    "            dont_take = recursive_knapsack(objects, n-1, W)\n",
    "            return(max(take, dont_take))\n",
    "        elif (W == 0):\n",
    "            return(0)\n",
    "        else:\n",
    "            # w>W\n",
    "            return(recursive_knapsack(objects, n-1, W))\n",
    "\n",
    "## Implementation 2\n",
    "def tabular_knapsack(objects, W):\n",
    "    n = len(objects)\n",
    "    # we'll rely on indices to also represent weights, so we'll index from 1...W \n",
    "    # in the weight dimension of the table\n",
    "    OPT = [[0]*(W+1)]\n",
    "    \n",
    "    #print(objects[0][1])\n",
    "    # initialize the first row of the table\n",
    "    for w in range(W+1):\n",
    "        if (objects[0][1] <= w):\n",
    "            OPT[0][w] = objects[0][0]\n",
    "        else:\n",
    "            OPT[0][w] = 0\n",
    "\n",
    "    # use the optimal substructure property to compute increasingly larger solutions\n",
    "    for i in range(1,n):\n",
    "        OPT.append([0]*(W+1))\n",
    "        v_i, w_i = objects[i]\n",
    "        for w in range(W+1):\n",
    "            if (w_i <= w):\n",
    "                OPT[i][w] = max(v_i + OPT[i-1][w-w_i], OPT[i-1][w])\n",
    "            else:\n",
    "                OPT[i][w] = OPT[i-1][w]               \n",
    "#     print(OPT)\n",
    "    return(OPT[n-1][W])"
   ]
  },
  {
   "cell_type": "code",
   "execution_count": 2,
   "metadata": {
    "slideshow": {
     "slide_type": "fragment"
    }
   },
   "outputs": [
    {
     "name": "stdout",
     "output_type": "stream",
     "text": [
      "Implementation 1: 12\n",
      "Implementation 2: 12\n"
     ]
    }
   ],
   "source": [
    "## Evaluation Stage\n",
    "## Case 1\n",
    "W = 5\n",
    "objects = [(10,5), (6,3), (6,2)]\n",
    "n = len(objects)-1\n",
    "\n",
    "print('Implementation 1:', recursive_knapsack(objects.copy(), n, W))\n",
    "\n",
    "print('Implementation 2:', tabular_knapsack(objects, W))\n"
   ]
  },
  {
   "cell_type": "code",
   "execution_count": 3,
   "metadata": {
    "slideshow": {
     "slide_type": "fragment"
    }
   },
   "outputs": [
    {
     "name": "stdout",
     "output_type": "stream",
     "text": [
      "Implementation 1: 10\n",
      "Implementation 2: 10\n"
     ]
    }
   ],
   "source": [
    "\n",
    "## Case 2\n",
    "W = 5\n",
    "objects = [(10, 5), (9.999, 3)]\n",
    "n = len(objects)-1\n",
    "print('Implementation 1:', recursive_knapsack(objects.copy(), n, W))\n",
    "print('Implementation 2:', tabular_knapsack(objects.copy(), W))"
   ]
  },
  {
   "cell_type": "code",
   "execution_count": 9,
   "metadata": {
    "slideshow": {
     "slide_type": "fragment"
    }
   },
   "outputs": [
    {
     "name": "stdout",
     "output_type": "stream",
     "text": [
      "Implementation 1: 100\n",
      "1.2302701473236084\n",
      "Implementation 2: 100\n",
      "0.012791633605957031\n"
     ]
    }
   ],
   "source": [
    "## Case 3\n",
    "W = 100\n",
    "n = 1000\n",
    "objects = [(i, i) for i in range(1, n)]\n",
    "n = len(objects)-1\n",
    "t0 = time.time()\n",
    "print('Implementation 1:', recursive_knapsack(objects, n, W))\n",
    "\n",
    "t1 = time.time()\n",
    "print(t1-t0)\n",
    "\n",
    "print('Implementation 2:', tabular_knapsack(objects, W))\n",
    "\n",
    "t2 = time.time()\n",
    "print(t2-t1)"
   ]
  },
  {
   "cell_type": "markdown",
   "metadata": {
    "slideshow": {
     "slide_type": "slide"
    }
   },
   "source": [
    "### Elements of Dynamic Programming\n",
    "\n",
    "The elements of a dynamic programming algorithm are:\n",
    "\n",
    "- Optimal Substructure\n",
    "- Recursion DAG\n",
    "\n",
    "The `correctness` of the dynamic programming approach follows from the optimal substructure property (i.e., induction). If we can prove that the optimal substructure property holds, and that we compute a solution by correctly implementing this property then our solution is optimal.\n",
    "\n"
   ]
  }
 ],
 "metadata": {
  "celltoolbar": "Slideshow",
  "kernelspec": {
   "display_name": "Python 3 (ipykernel)",
   "language": "python",
   "name": "python3"
  },
  "language_info": {
   "codemirror_mode": {
    "name": "ipython",
    "version": 3
   },
   "file_extension": ".py",
   "mimetype": "text/x-python",
   "name": "python",
   "nbconvert_exporter": "python",
   "pygments_lexer": "ipython3",
   "version": "3.10.10"
  },
  "rise": {
   "autolaunch": true,
   "controls": false,
   "enable_chalkboard": true,
   "scroll": true,
   "theme": "simple",
   "transition": "fade"
  },
  "toc": {
   "base_numbering": 1,
   "nav_menu": {},
   "number_sections": true,
   "sideBar": true,
   "skip_h1_title": true,
   "title_cell": "Table of Contents",
   "title_sidebar": "Contents",
   "toc_cell": true,
   "toc_position": {},
   "toc_section_display": true,
   "toc_window_display": false
  }
 },
 "nbformat": 4,
 "nbformat_minor": 4
}
