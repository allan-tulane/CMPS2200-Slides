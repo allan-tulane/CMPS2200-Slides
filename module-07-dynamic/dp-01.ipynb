{
 "cells": [
  {
   "cell_type": "code",
   "execution_count": 7,
   "metadata": {
    "code_folding": [],
    "slideshow": {
     "slide_type": "skip"
    }
   },
   "outputs": [
    {
     "name": "stderr",
     "output_type": "stream",
     "text": [
      "/var/folders/8t/f5lr_py56_78f39pmpx4l3sm0000gn/T/ipykernel_1741/1435612826.py:2: DeprecationWarning: Importing display from IPython.core.display is deprecated since IPython 7.14, please import from IPython display\n",
      "  from IPython.core.display import display,HTML\n"
     ]
    },
    {
     "data": {
      "text/html": [
       "<style>.prompt{width: 0px; min-width: 0px; visibility: collapse}</style>"
      ],
      "text/plain": [
       "<IPython.core.display.HTML object>"
      ]
     },
     "metadata": {},
     "output_type": "display_data"
    },
    {
     "data": {
      "text/html": [
       "<style>\n",
       "div#notebook {\n",
       " font-family: \"Exo_2\", sans-serif;\n",
       "}\n",
       "\n",
       ".rendered_html h1,\n",
       ".text_cell_render h1 {\n",
       " color: #126dce;\n",
       " font-size: 220%;\n",
       " text-align: center;\n",
       " font-weight: lighter;\n",
       "}\n",
       ".rendered_html h2,\n",
       ".text_cell_render h2 {\n",
       " text-align: center;\n",
       " font-size: 170%;\n",
       " color: #126dce;\n",
       " font-style: normal;\n",
       " font-weight: lighter;\n",
       "}\n",
       ".rendered_html h3,\n",
       ".text_cell_render h3 {\n",
       " font-size: 150%;\n",
       " color: #126dce;\n",
       " font-weight: lighter;\n",
       " text-decoration: italic;\n",
       " font-style: normal;\n",
       "}\n",
       ".rendered_html h4,\n",
       ".text_cell_render h4 {\n",
       " font-size: 120%;\n",
       " color: #126dce;\n",
       " font-weight: underline;\n",
       " font-style: normal;\n",
       "}\n",
       ".rendered_html h5,\n",
       ".text_cell_render h5 {\n",
       " font-size: 100%;\n",
       " color: #2f2f2f;\n",
       " font-weight: lighter;\n",
       " text-decoration: underline;\n",
       "}\n",
       "</style>\n"
      ],
      "text/plain": [
       "<IPython.core.display.HTML object>"
      ]
     },
     "metadata": {},
     "output_type": "display_data"
    }
   ],
   "source": [
    "# setup\n",
    "from IPython.core.display import display,HTML\n",
    "display(HTML('<style>.prompt{width: 0px; min-width: 0px; visibility: collapse}</style>'))\n",
    "display(HTML(open('rise.css').read()))\n",
    "\n",
    "# imports\n",
    "import numpy as np\n",
    "import matplotlib.pyplot as plt\n",
    "import seaborn as sns\n",
    "%matplotlib inline\n",
    "sns.set(style=\"whitegrid\", font_scale=1.5, rc={'figure.figsize':(12, 6)})\n"
   ]
  },
  {
   "cell_type": "markdown",
   "metadata": {
    "slideshow": {
     "slide_type": "slide"
    }
   },
   "source": [
    "# CMPS 2200\n",
    "# Introduction to Algorithms\n",
    "\n",
    "## Dynamic Programming [0-1 Knapsack]"
   ]
  },
  {
   "cell_type": "markdown",
   "metadata": {
    "slideshow": {
     "slide_type": "slide"
    }
   },
   "source": [
    "### 0-1 Knapsack\n",
    "\n",
    "Suppose there are $n$ objects, each with a *value* $v_i$ and *weight* $w_i$. You have a \"knapsack\" of capacity $W$ and want to fill it with a set of objects $X \\subseteq [n]$ so that $w(X) \\leq W$ and $v(X)$ is maximized. \n",
    "\n",
    "We saw previously that a greedy approach didn't really take leftover capacity into account. "
   ]
  },
  {
   "cell_type": "markdown",
   "metadata": {
    "slideshow": {
     "slide_type": "fragment"
    }
   },
   "source": [
    "We can give a simple counterexample with 2 objects that have weights/values $(10, 5), (9.999, 3)$ with $W=5.$\n",
    "    \n",
    "The problem is that the greedy choice to maximize value/weight is incorrect because we can have leftover capacity. We really need to look at *all possible* choices of objects and their associated optimal solutions. \n",
    "\n",
    "<span style=\"color:red\">**Question**:</span> How many solutions do you have if we use `Brute Force` algorithm for $n$ objects?\n",
    "\n",
    "<br>\n",
    "\n"
   ]
  },
  {
   "cell_type": "markdown",
   "metadata": {
    "slideshow": {
     "slide_type": "slide"
    }
   },
   "source": [
    "Let $OPT(S, W)$ be an optimal solution to the Knapsack problem for a set of objects $S$ and capacity $W$. We started with $n$ objects and capacity $W$ so we are interested in finding $OPT([n], W)$. \n",
    "\n",
    "<br>\n",
    "<br>\n",
    "<br>\n",
    "<br>\n",
    "Now, we can make the following simple observation: if object $n$ is in the optimal solution, then <br>\n",
    "<br>\n",
    "$~~~~~~~~OPT([n], W)= \\color{blue}{\\{n\\} \\cup OPT\\Big([n-1], W-w(n)\\Big)}$ \n",
    "<br>\n",
    "<br>\n",
    "If it isn't, then <br>\n",
    "<br>\n",
    "$~~~~~~~~OPT([n], W) = \\color{red}{OPT([n-1], W)}$.\n"
   ]
  },
  {
   "cell_type": "markdown",
   "metadata": {
    "slideshow": {
     "slide_type": "fragment"
    }
   },
   "source": [
    "\n",
    "**Optimal Substructure for Knapsack**: For any set of objects $[n]$ and $W>0$, we have\n",
    "\n",
    "$$\n",
    "v(\\text{OPT}([n], W)) = \n",
    "\\max \\Big\\{\n",
    "\\color{blue}{v(n) + v(OPT([n-1], W - w(n)))} ,\\;\\;\n",
    "\\color{red}{v(OPT([n-1], W))}\n",
    "\\Big\\}.\n",
    "$$\n",
    "\n",
    "\n",
    "In a way, this really isn't saying much. Put plainly we're just saying that the optimal solution either contains object $n$ or it doesn't.\n",
    "\n",
    "For the example above, we have that:\n",
    "\n",
    "|index |value|weight|\n",
    "|------|------|-----|\n",
    "|0     | 10    |5    |\n",
    "|1     | 9.999     |3    |\n",
    "\n",
    "$\\begin{eqnarray*}\n",
    "v(OPT([1], 5)) &=& \\max\\{v(1) + v(OPT(0, 2)), v(OPT(0, 5))\\} \\\\\n",
    "&=& \\max\\{9.999, 10\\} \\\\\n",
    "&=& 10. \\\\\n",
    "\\end{eqnarray*}$"
   ]
  },
  {
   "cell_type": "markdown",
   "metadata": {
    "slideshow": {
     "slide_type": "slide"
    }
   },
   "source": [
    "Does this give us an algorithm? It is easy to write this in SPARC:\n",
    "\n",
    "$$\n",
    "\\begin{aligned}\n",
    "\\mathit{knapsack}(n, W) = & \\\\\n",
    "& \\texttt{if }~ n = 0: \\\\\n",
    "& \\quad 0 \\\\[6pt]\n",
    "& \\texttt{if }~ n = 1: \\\\\n",
    "& \\quad \\texttt{if }~ w(1) \\le W: \\\\\n",
    "& \\qquad v(1) \\\\\n",
    "& \\quad \\texttt{else:}~ 0 \\\\[6pt]\n",
    "& \\texttt{else:} \\\\\n",
    "& \\quad \\texttt{if }~ w(n) \\ge W: \\\\\n",
    "& \\qquad \\mathit{knapsack}(n-1, W) \\\\\n",
    "& \\quad \\texttt{else:} \\\\\n",
    "& \\qquad \\max\\{v(n) + \\mathit{knapsack}(n-1, W - w(n)),~ \\mathit{knapsack}(n-1, W)\\}\n",
    "\\end{aligned}\n",
    "$$\n",
    "\n",
    "\n",
    "\n",
    "\n",
    "We can see that our optimal substructure recurrence depends both on the number of objects as well as their weights. The number of recursive calls doubles in every recursion.\n",
    "\n",
    "<span style=\"color:red\">**Question**:</span> **What is the work and span??**"
   ]
  },
  {
   "cell_type": "markdown",
   "metadata": {
    "slideshow": {
     "slide_type": "slide"
    }
   },
   "source": [
    "Suppose all items have weight 1 - is there a glaring inefficiency we can fix? Let's consider the recursion tree:\n",
    "\n",
    "<img src=\"figures\\knapsack_recursion_tree.jpg\" width=\"70%\">\n",
    "\n",
    "If we blindly recompute the redundant calls when they are encountered, then we will do $\\Omega(2^n)$ work and $O(n)$ span even if we can take all the items.  "
   ]
  },
  {
   "cell_type": "markdown",
   "metadata": {
    "slideshow": {
     "slide_type": "fragment"
    }
   },
   "source": [
    "However, suppose that whenever we need to compute $v(OPT(i, w))$, we compute it once and save the result for later use (e.g., in a suitable data structure) -- this is called <span style=\"color:red\">memoization</span>. \n",
    "\n",
    "\n",
    "Then, we no longer have a binary tree but rather a **directed acyclic graph** or **DAG**.\n",
    "\n",
    "\n",
    "<img src=\"figures\\knapsack_recursion_dag.jpg\" width=\"70%\">\n",
    "\n",
    "\n",
    "\n",
    "<br>\n",
    "\n",
    "> The number of nodes in this DAG will allow us to determine the work of this algorithm, and the longest path in the DAG will allow us to determine the span. \n"
   ]
  },
  {
   "cell_type": "markdown",
   "metadata": {
    "slideshow": {
     "slide_type": "slide"
    }
   },
   "source": [
    "When performing memoization, we can either proceed **top-down** or **bottom-up**:\n",
    "\n",
    "- **top-down**: use recursion solution as usual, but maintain a hashmap or related data structure to quickly lookup solutions previously computed\n",
    "\n",
    "- **bottom-up**: start with solutions to smallest problem instances, then proceed to larger instances. This is typically implemented by filling a table.\n",
    "\n",
    "|index |value|weight|\n",
    "|------|------|-----|\n",
    "|0     | 10   |5    |\n",
    "|1     | 6    | 3 |\n",
    "|2     | 6    | 2 |\n",
    "\n",
    "\n",
    "Optimal solution is 12 (second and third items) for capacity $W =5$.\n",
    "<br>\n",
    "\n",
    "#### Optimal Substructure\n",
    "\n",
    "$$v\\big(OPT([n], W)\\big) = \\max \\{v(n) + v\\big(OPT([n-1], W - w(n))\\big), v\\big(OPT([n-1], W)\\big)\\}$$\n",
    "\n",
    "\n",
    "\n",
    "\n",
    "\n"
   ]
  },
  {
   "cell_type": "code",
   "execution_count": 1,
   "metadata": {
    "slideshow": {
     "slide_type": "slide"
    }
   },
   "outputs": [],
   "source": [
    "\n",
    "### objects = [(10,5), (6,3), (6,2)]\n",
    "\n",
    "## Implementation 1\n",
    "def recursive_knapsack(objects, i, W):\n",
    "    v, w = objects[i]\n",
    "    if (i == 0):\n",
    "        if w <= W:\n",
    "            return v\n",
    "        else:\n",
    "            return 0\n",
    "    else:\n",
    "        if w <= W:\n",
    "            take = v + recursive_knapsack(objects, i-1, W-w)\n",
    "            dont_take = recursive_knapsack(objects, i-1, W)\n",
    "            return max(take, dont_take)\n",
    "        elif W == 0:\n",
    "            return 0\n",
    "        else:\n",
    "            # w>W\n",
    "            return recursive_knapsack(objects, i-1, W)\n"
   ]
  },
  {
   "cell_type": "code",
   "execution_count": 25,
   "metadata": {
    "slideshow": {
     "slide_type": "slide"
    }
   },
   "outputs": [],
   "source": [
    "\n",
    "## Implementation 2\n",
    "\n",
    "def topdown_knapsack(objects, i, W, memo = {}):\n",
    "\n",
    "    # Check if result already computed\n",
    "    if (i, W) in memo:\n",
    "        return memo[(i, W)]   \n",
    "    \n",
    "    # otherwise update memo\n",
    "    else:\n",
    "\n",
    "        v, w = objects[i]\n",
    "\n",
    "        # Base case\n",
    "        if i == 0:\n",
    "            if w <= W:\n",
    "                result = v\n",
    "            else:\n",
    "                result = 0\n",
    "        else:\n",
    "            if w <= W:\n",
    "                take = v + topdown_knapsack(objects, i - 1, W - w, memo)\n",
    "                dont_take = topdown_knapsack(objects, i - 1, W, memo)\n",
    "                result = max(take, dont_take)\n",
    "            else:\n",
    "                result = topdown_knapsack(objects, i - 1, W, memo)\n",
    "\n",
    "        # Store result in memo before returning\n",
    "        memo[(i, W)] = result\n",
    "    return result\n"
   ]
  },
  {
   "cell_type": "markdown",
   "metadata": {
    "slideshow": {
     "slide_type": "slide"
    }
   },
   "source": [
    "### Bottom-Up\n",
    "\n",
    "<br><br>**Consider this table**: number of items to include (rows) by weight (cols)\n",
    "\n",
    "\n",
    "\n",
    "<center><img src=\"figures\\bottom_up.jpeg\" width=\"40%\"></center>\n",
    "\n",
    "| |0 |1 |2 |3 |4 |5 |\n",
    "|-|-|-|-|-|-|-|\n",
    "|0| | | | | | |\n",
    "|1| | | | | | |\n",
    "|2| | | | | | |\n",
    "|3| | | | | | |"
   ]
  },
  {
   "cell_type": "markdown",
   "metadata": {
    "slideshow": {
     "slide_type": "fragment"
    }
   },
   "source": [
    "\n",
    "| |0 |1 |2 |3 |4 |5 |\n",
    "|-|-|-|-|-|-|-|\n",
    "|0|0 |0 |0 |0 |0 |0 |\n",
    "|1|0 |0 |0 |0 |0 |10|\n",
    "|2|0 |0 |0 |6 |6 |10|\n",
    "|3|0 |0 |6 |6 |6 |**12** |"
   ]
  },
  {
   "cell_type": "markdown",
   "metadata": {
    "slideshow": {
     "slide_type": "slide"
    }
   },
   "source": [
    "#### One More Example [Please try to solve it]\n",
    "\n",
    "\n",
    "The capacity is 11, and there are 5 items with different values and weights.<br>\n",
    "<img src=\"figures\\0-1Quiz.png\" width=\"24%\">"
   ]
  },
  {
   "cell_type": "code",
   "execution_count": 4,
   "metadata": {
    "slideshow": {
     "slide_type": "fragment"
    }
   },
   "outputs": [],
   "source": [
    "## Implementation 3\n",
    "def tabular_knapsack(objects, W):\n",
    "    n = len(objects)\n",
    "    # we'll rely on indices to also represent weights, so we'll index from 1...W \n",
    "    # in the weight dimension of the table\n",
    "    OPT = [[0]*(W+1)]\n",
    "    \n",
    "    # initialize the first row of the table\n",
    "    for w in range(W+1):\n",
    "        if objects[0][1] <= w:\n",
    "            OPT[0][w] = objects[0][0]\n",
    "        else:\n",
    "            OPT[0][w] = 0\n",
    "    \n",
    "    # use the optimal substructure property to compute increasingly larger solutions\n",
    "    for i in range(1,n):\n",
    "        OPT.append([0]*(W+1))\n",
    "        v_i, w_i = objects[i]\n",
    "        for w in range(W+1):\n",
    "            if w_i <= w:\n",
    "                OPT[i][w] = max(v_i + OPT[i-1][w-w_i], OPT[i-1][w])\n",
    "            else:\n",
    "                OPT[i][w] = OPT[i-1][w] \n",
    "#     print(OPT)\n",
    "    return OPT[n-1][W]"
   ]
  },
  {
   "cell_type": "code",
   "execution_count": 18,
   "metadata": {
    "slideshow": {
     "slide_type": "fragment"
    }
   },
   "outputs": [
    {
     "name": "stdout",
     "output_type": "stream",
     "text": [
      "Implementation 1: 12\n",
      "Implementation 2: 12\n",
      "Implementation 3: 12\n"
     ]
    }
   ],
   "source": [
    "## Evaluation Stage\n",
    "## Case 1\n",
    "W = 5\n",
    "objects = [(12,5), (6,3), (6,2)]\n",
    "n = len(objects)-1\n",
    "\n",
    "print('Implementation 1:', recursive_knapsack(objects.copy(), n, W))\n",
    "\n",
    "\n",
    "print('Implementation 2:', topdown_knapsack(objects, n, W))\n",
    "\n",
    "\n",
    "print('Implementation 3:', tabular_knapsack(objects, W))\n",
    "\n"
   ]
  },
  {
   "cell_type": "code",
   "execution_count": 22,
   "metadata": {
    "slideshow": {
     "slide_type": "fragment"
    }
   },
   "outputs": [
    {
     "name": "stdout",
     "output_type": "stream",
     "text": [
      "Implementation 1: 10\n",
      "Implementation 2: 10\n",
      "Implementation 3: 10\n"
     ]
    }
   ],
   "source": [
    "\n",
    "## Case 2\n",
    "W = 5\n",
    "objects = [(10, 5), (9.999, 3)]\n",
    "n = len(objects)-1\n",
    "print('Implementation 1:', recursive_knapsack(objects.copy(), n, W))\n",
    "\n",
    "\n",
    "print('Implementation 2:', topdown_knapsack(objects, n, W))\n",
    "\n",
    "\n",
    "print('Implementation 3:', tabular_knapsack(objects, W))\n"
   ]
  },
  {
   "cell_type": "code",
   "execution_count": 31,
   "metadata": {
    "slideshow": {
     "slide_type": "fragment"
    }
   },
   "outputs": [
    {
     "name": "stdout",
     "output_type": "stream",
     "text": [
      "Implementation 1: 100\n",
      "Time of Recursive: 0.91412s\n",
      "Implementation 2: 100\n",
      "Time of Top Down: 0.00007s\n",
      "Implementation 3: 100\n",
      "Time of Botton Up: 0.00418s\n"
     ]
    }
   ],
   "source": [
    "import time\n",
    "\n",
    "W = 100\n",
    "n = 500\n",
    "objects = [(i, i) for i in range(1, n)]\n",
    "n = len(objects) - 1\n",
    "\n",
    "t0 = time.time()\n",
    "print('Implementation 1:', recursive_knapsack(objects, n, W))\n",
    "t1 = time.time()\n",
    "print(f\"Time of Recursive: {t1 - t0:.5f}s\")\n",
    "\n",
    "print('Implementation 2:', topdown_knapsack(objects, n, W))\n",
    "t2 = time.time()\n",
    "print(f\"Time of Top Down: {t2 - t1:.5f}s\")\n",
    "\n",
    "print('Implementation 3:', tabular_knapsack(objects, W))\n",
    "t3 = time.time()\n",
    "print(f\"Time of Botton Up: {t3 - t2:.5f}s\")\n"
   ]
  },
  {
   "cell_type": "markdown",
   "metadata": {
    "slideshow": {
     "slide_type": "slide"
    }
   },
   "source": [
    "### Elements of Dynamic Programming\n",
    "\n",
    "This is what we call **dynamic programming**. The elements of a dynamic programming algorithm are:\n",
    "\n",
    "- Optimal Substructure\n",
    "- Recursion DAG\n",
    "\n",
    "The correctness of the dynamic programming approach follows from the optimal substructure property (i.e., induction). If we can prove that the optimal substructure property holds, and that we compute a solution by correctly implementing this property then our solution is optimal.\n",
    "\n",
    "As with divide and conquer algorithms, achieving a good work/span can be tricky. We can minimize redundant computation by memoizing solutions to all subproblems. This can be done *top-down* by saving the result of a recursive call the first time we encounter it. Or, we can compute the optimal substructure property *bottom-up* by starting with the base case(s) and working our way up.\n",
    "\n",
    "Can we derive the number of nodes in the DAG using the optimal substructure property?\n"
   ]
  },
  {
   "cell_type": "markdown",
   "metadata": {
    "slideshow": {
     "slide_type": "slide"
    }
   },
   "source": [
    "### Work and Span in Dynamic Programming\n",
    "\n",
    "Since we memoize the solution to every distinct subproblem, the number of nodes in the DAG is equal to the number of distinct subproblems considered. \n",
    "\n",
    "The longest path in the DAG represents the span of our dynamic programming algorithm.\n",
    "\n",
    "\n",
    "For example, 0-1 Knapsack Problem (n, W)\n",
    "- There are at most $O(nW)$ nodes in this DAG, and the longest path is $O(n)$. Each node requires $O(1)$ work/span, so the work is $O(nW)$ and the span is $O(n)$. \n"
   ]
  },
  {
   "cell_type": "markdown",
   "metadata": {
    "slideshow": {
     "slide_type": "slide"
    }
   },
   "source": [
    "### Why \"Dynamic Programming\"?\n",
    "\n",
    "The mathematician Richard Bellman coined the term [\"dynamic programming\"](https://en.wikipedia.org/wiki/Dynamic_programming) to describe the recursive approach we just showed. The optimal substructure property is sometimes referred to as a \"Bellman equation.\" But why did he call it dynamic programming?\n",
    "\n",
    "There is some [folklore](https://en.wikipedia.org/wiki/Dynamic_programming#History) around the exact reason. But it could possibly be because \"dynamic\" is a really dramatic way to describe the search weaving through the DAG. The term \"programming\" was used in the field of optimization in the 1950s to describe an optimization approach (e.g., linear programming, quadratic programming, mathematical programming). \n"
   ]
  }
 ],
 "metadata": {
  "celltoolbar": "Slideshow",
  "kernelspec": {
   "display_name": "Python 3 (ipykernel)",
   "language": "python",
   "name": "python3"
  },
  "language_info": {
   "codemirror_mode": {
    "name": "ipython",
    "version": 3
   },
   "file_extension": ".py",
   "mimetype": "text/x-python",
   "name": "python",
   "nbconvert_exporter": "python",
   "pygments_lexer": "ipython3",
   "version": "3.9.6"
  },
  "rise": {
   "autolaunch": true,
   "controls": false,
   "enable_chalkboard": true,
   "scroll": true,
   "theme": "simple",
   "transition": "fade"
  },
  "toc": {
   "base_numbering": 1,
   "nav_menu": {},
   "number_sections": true,
   "sideBar": true,
   "skip_h1_title": true,
   "title_cell": "Table of Contents",
   "title_sidebar": "Contents",
   "toc_cell": true,
   "toc_position": {},
   "toc_section_display": true,
   "toc_window_display": false
  }
 },
 "nbformat": 4,
 "nbformat_minor": 4
}
