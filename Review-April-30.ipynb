{
 "cells": [
  {
   "cell_type": "code",
   "execution_count": null,
   "metadata": {
    "code_folding": [],
    "slideshow": {
     "slide_type": "skip"
    }
   },
   "outputs": [
    {
     "name": "stderr",
     "output_type": "stream",
     "text": [
      "/var/folders/tv/1sn89zwj2k1_whhj0cz2v_tw0000gn/T/ipykernel_13613/50404802.py:2: DeprecationWarning: Importing display from IPython.core.display is deprecated since IPython 7.14, please import from IPython.display\n",
      "  from IPython.core.display import display,HTML\n"
     ]
    },
    {
     "data": {
      "text/html": [
       "<style>.prompt{width: 0px; min-width: 0px; visibility: collapse}</style>"
      ],
      "text/plain": [
       "<IPython.core.display.HTML object>"
      ]
     },
     "metadata": {},
     "output_type": "display_data"
    },
    {
     "data": {
      "text/html": [
       "<style>\n",
       "div#notebook {\n",
       " font-family: \"Exo_2\", sans-serif;\n",
       "}\n",
       "\n",
       ".rendered_html h1,\n",
       ".text_cell_render h1 {\n",
       " color: #126dce;\n",
       " font-size: 220%;\n",
       " text-align: center;\n",
       " font-weight: lighter;\n",
       "}\n",
       ".rendered_html h2,\n",
       ".text_cell_render h2 {\n",
       " text-align: center;\n",
       " font-size: 170%;\n",
       " color: #126dce;\n",
       " font-style: normal;\n",
       " font-weight: lighter;\n",
       "}\n",
       ".rendered_html h3,\n",
       ".text_cell_render h3 {\n",
       " font-size: 150%;\n",
       " color: #126dce;\n",
       " font-weight: lighter;\n",
       " text-decoration: italic;\n",
       " font-style: normal;\n",
       "}\n",
       ".rendered_html h4,\n",
       ".text_cell_render h4 {\n",
       " font-size: 120%;\n",
       " color: #126dce;\n",
       " font-weight: underline;\n",
       " font-style: normal;\n",
       "}\n",
       ".rendered_html h5,\n",
       ".text_cell_render h5 {\n",
       " font-size: 100%;\n",
       " color: #2f2f2f;\n",
       " font-weight: lighter;\n",
       " text-decoration: underline;\n",
       "}\n",
       "</style>\n"
      ],
      "text/plain": [
       "<IPython.core.display.HTML object>"
      ]
     },
     "metadata": {},
     "output_type": "display_data"
    }
   ],
   "source": [
    "# setup\n",
    "from IPython.core.display import display,HTML\n",
    "display(HTML('<style>.prompt{width: 0px; min-width: 0px; visibility: collapse}</style>'))\n",
    "display(HTML(open('rise.css').read()))\n",
    "\n",
    "# imports\n",
    "import numpy as np\n",
    "import matplotlib.pyplot as plt\n",
    "# import seaborn as sns\n",
    "# %matplotlib inline\n",
    "# sns.set(style=\"whitegrid\", font_scale=1.5, rc={'figure.figsize':(12, 6)})\n"
   ]
  },
  {
   "cell_type": "markdown",
   "metadata": {
    "slideshow": {
     "slide_type": "slide"
    }
   },
   "source": [
    "# CMPS 2200\n",
    "# Introduction to Algorithms\n",
    "\n",
    "## Final Review (April 30)\n"
   ]
  },
  {
   "cell_type": "markdown",
   "metadata": {
    "slideshow": {
     "slide_type": "slide"
    }
   },
   "source": [
    "### Schedule\n",
    "\n",
    "\n",
    "- Part I: In-person, ST 302, May 5: 1PM-3PM \n",
    "- Part II: Take-home, May 5 - May 7\n",
    "\n",
    "\n",
    "### What's going to be covered on the test?\n",
    "\n",
    "- Randomized \n",
    "- Greedy\n",
    "- Dynamic \n",
    "- Graph\n",
    "- Minimal Spanning Tree\n"
   ]
  },
  {
   "cell_type": "markdown",
   "metadata": {
    "slideshow": {
     "slide_type": "slide"
    }
   },
   "source": [
    "### Randomized Algorithm\n",
    " \n",
    "- **Deterministic worst-case work** -> Considering flip a coin [Assume Head is Win]\n",
    "\n",
    "<br>\n",
    "<br><br><br>\n",
    "\n",
    "- **Expected Work and Span** - > We still have an extreme small probability to worst case\n",
    "<br><br>\n",
    "\n",
    "- The expected number of trials to get an outcome of probability 𝒑 is 𝟏/𝒑.\n",
    "<br><br>\n",
    "\n",
    "<span style=\"color:red\">**Question**:</span> What is the purpose of randomization in Randomized Quicksort?\n",
    "- A. To speed up sorting in the average case\n",
    "- B. To avoid worst-case performance on certain inputs\n",
    "- C. To eliminate the need for recursion\n",
    "- D. To reduce space complexity\n"
   ]
  },
  {
   "cell_type": "markdown",
   "metadata": {
    "slideshow": {
     "slide_type": "slide"
    }
   },
   "source": [
    "### Greedy Algorithm\n",
    "\n",
    "> Optimal substructure: An optimal solution can be constructed from optimal solutions of smaller subproblems.\n",
    "\n",
    "> Greedy choice: A greedy choice must be in some optimal solution (of a given size).\n",
    "\n",
    "<span style=\"color:red\">**Question**:</span> What algorithms belong to this so far we learned?\n",
    "\n",
    "- Unit Scheduling Task\n",
    " **unit task scheduling problem**: a set of $n$ tasks $A = \\{a_0, \\ldots, a_{n-1}\\}$. Each task $i$ has start and finish times $(s_i, f_i)$. The goal is to select a subset $S$ of tasks with no overlaps that is as large as possible.\n",
    " \n",
    "<span style=\"color:red\">**Question**:</span> What about weighted task scheduling? \n",
    "\n",
    "- Huffman Coding\n",
    "\n",
    "\n",
    "|$$\\sigma$$ |$$f(\\sigma)$$| $$e'(\\sigma)$$|\n",
    "|-------|--|-------------|\n",
    "| A     | 9 | 0   |\n",
    "| B     | 1 |10  |\n",
    "| C     | 1 |110 | \n",
    "| D     | 1 |111 |\n",
    "\n",
    "So the optimal compression of $D$ can be achieved by identifying the encoding tree $T$ that minimizes:\n",
    "\n",
    "$$C(T) = \\sum_{\\sigma\\in\\Sigma} f(\\sigma)\\cdot d_T(\\sigma)$$\n",
    "\n",
    "\n",
    "<span style=\"color:red\">**Question**:</span>  What data structure is commonly used in Huffman coding (a greedy algorithm)?\n",
    "- A. Stack\n",
    "- B. Queue\n",
    "- C. Priority Queue\n",
    "- D. Hash Table\n",
    "\n",
    "<br>\n",
    "\n",
    "<span style=\"color:red\">**Question**:</span> Which of the following algorithms is a greedy algorithm for finding a Minimum Spanning Tree? \n",
    "- A. Kruskal’s algorithm\n",
    "- B. Prim’s algorithm\n",
    "- C. Bellman-Ford algorithm\n",
    "- D. Floyd-Warshall algorithm\n",
    "\n",
    "\n",
    "<br>\n",
    "\n",
    "<span style=\"color:red\">**Question**:</span> You are given an array of coin denominations [1, 3, 4]. What is the minimum number of coins needed to make change for 6 using a greedy algorithm? Is the result optimal?\n",
    "- A. 2 coins; Yes\n",
    "- B. 2 coins; No\n",
    "- C. 3 coins; Yes\n",
    "- D. 3 coins; No\n",
    "\n",
    "\n",
    "\n",
    "<br>\n",
    "\n",
    "<span style=\"color:red\">**Question**:</span> Which of the following statements about Huffman coding is TRUE?\n",
    "- A. The algorithm relies on a greedy approach with optimal substructure but not greedy-choice property.\n",
    "- B. Huffman coding fails if character frequencies are not sorted.\n",
    "- C. The greedy choice is always combining the two least frequent symbols.\n",
    "- D. Huffman codes may not be prefix-free."
   ]
  },
  {
   "cell_type": "markdown",
   "metadata": {
    "slideshow": {
     "slide_type": "slide"
    }
   },
   "source": [
    "### Dynamic Programming \n",
    "\n",
    "> Directed Acyclic Graph or DAG.\n",
    "> Optimal Substructure\n",
    "\n",
    "\n",
    "\n",
    "\n",
    "### 0-1 Knapsack\n",
    "\n",
    "\n",
    "**Optimal Substructure for Knapsack**: For any set of objects $[n]$ and $W>0$, we have\n",
    "\n",
    "$$v(OPT(n, W)) = \\max \\{v(n) + v(OPT([n-1], W - w(n))), \\\\~~~~~~v(OPT(n-1, W))\\}.$$\n",
    "\n",
    "\n",
    "\n",
    "<img src=\"module-07-dynamic/knapsack_recursion_tree.jpg\" width=\"70%\">\n",
    "\n",
    "<br>\n",
    "\n",
    "<span style=\"color:red\">**Question**:</span> What is the key difference from Divide-and-Conquer?\n",
    "\n",
    "<br>\n",
    "<br>\n",
    "\n",
    "<span style=\"color:red\">**Question**:</span> Which of the following best describes the difference between top-down and bottom-up approaches in dynamic programming?\n",
    "A. Top-down uses recursion and memoization, while bottom-up uses iteration to build solutions.\n",
    "B. Top-down builds solutions iteratively, while bottom-up uses recursion and memoization.\n",
    "C. Top-down and bottom-up approaches are identical.\n",
    "D. Top-down has lower space complexity than bottom-up.\n"
   ]
  },
  {
   "cell_type": "markdown",
   "metadata": {
    "slideshow": {
     "slide_type": "slide"
    }
   },
   "source": [
    "## Assignment 3 Discussion\n"
   ]
  },
  {
   "cell_type": "markdown",
   "metadata": {
    "slideshow": {
     "slide_type": "fragment"
    }
   },
   "source": [
    "\n",
    "## Part 1: Making Change\n",
    "\n",
    "The pandemic is over and you decide to take a much needed vacation. You arrive in a city called Geometrica, and head to the bank to\n",
    "exchange $N$ dollars for local currency. In Geometrica they have a\n",
    "currency that is 1-1 with U.S. Dollars, but they only have\n",
    "coins. Moreover the coins are in\n",
    "denominations of powers of $2$ (e.g., $k$ denominations of values $2^0$, $2^1$, $\\cdots$,\n",
    "$2^k$). You wonder why they have\n",
    "such strange denominations. You think about it a while, and because\n",
    "you had such a good Algorithms instructor, you realize that there is a\n",
    "very clever reason. \n",
    "\n",
    "**1a)** Given a $N$ dollars, state a greedy algorithm for producing\n",
    "as few coins as possible that sum to $N$.\n",
    "\n",
    ".  \n",
    ".  \n",
    "\n",
    "> The greedy algorithm is \"largest denomination first\", where we simply\n",
    "take as many coins of the largest denomination possible. Once we can no\n",
    "longer use a denomination, we drop to the next lower denomination. We\n",
    "repeat this until we make exact change. This is possibly since we\n",
    "have a coin denomination of 1.\n",
    "\n",
    ".  \n",
    ".  \n",
    "\n",
    "\n",
    "**1b)** Prove that this algorithm is optimal by proving the greedy\n",
    "  choice and optimal substructure properties.\n",
    "\n",
    "\n",
    "> We can actually prove these two properties together. Consider an optimal sequence of coins $o$ where $o_i$ denotes the\n",
    "number of coins of denomination $2^i$. First let us observe that for\n",
    "all $i<k$, $o_i < 2$. This is because if we took more than 2 of some\n",
    "coin $2^i$, we could just replace 2 coins of denomination $2^i$ with\n",
    "one coin of denomination $2^{i+1}$ resulting in a contradiction to\n",
    "optimality. For denomination $2^k$ then the optimal must just select\n",
    "as many coins as possible. But this is exactly the greedy\n",
    "algorithm, and it is thus optimal. \n",
    "\n",
    "\n",
    "\n",
    "**1c)** What is the work and span of your algorithm?\n",
    "\n",
    ".  \n",
    ".  \n",
    "\n",
    "> This algorithm has work/span $O(\\log  N)$. This is because for each successively smaller coin we reduce $N$\n",
    "  by at least a factor of two, and the number of each coins of each denomination with\n",
    "  one multiplication.\n",
    "  \n",
    ".  "
   ]
  },
  {
   "cell_type": "markdown",
   "metadata": {
    "slideshow": {
     "slide_type": "slide"
    }
   },
   "source": [
    "\n",
    "## Part 2: Making Change Again\n",
    "\n",
    "You get tired of Geometrica and travel to the nearby town of\n",
    "Fortuito. While Fortuito also has a 1-1 exchange rate to the US\n",
    "Dollar, it has an even stranger system of currency where any given bank\n",
    "has a completely arbitrary set of denominations ($k$ denominations of\n",
    "values $D_0, D_2, \\ldots, D_k$). There is no guarantee that you can\n",
    "even make change. So you wonder, given $N$ dollars is it possible to\n",
    "even make change? If so, how can it be done with as few coins as\n",
    "possible?\n",
    "\n",
    "**2a)** You realize the greedy algorithm you devised above doesn't\n",
    "  work in Fortuito. Give a simple counterexample that shows that the\n",
    "  greedy algorithm does not produce the fewest number of coins.\n",
    "  \n",
    ".  \n",
    ".  \n",
    "\n",
    "> Suppose we have coin denominations of $1, 5, 6$ and we want to make change\n",
    "for $10$. The greedy algorithm would choose 1 coin of value $6$ and 4\n",
    "coins of value $1$, whereas the optimal solution has 2 coins of value $5$.\n",
    "\n",
    ".  \n",
    ".  \n",
    "\n",
    "\n",
    "**2b)** Since you paid attention in Algorithms class, you realize that\n",
    "  while this problem does not have the greedy choice property it does\n",
    "  have an optimal substructure property. State and prove this\n",
    "  property.\n",
    "\n",
    ".  \n",
    ".  \n",
    "> Let $C(N, k)$ denote the minimum number of coins needed to make change\n",
    "for $n$ using denominations $0, \\ldots, k$, where $C(N, k) = \\infty$ if it is\n",
    "not possible to make change. We first observe that the optimal\n",
    "solution must use some number ($0, \\ldots,\\lfloor n/D_k \\rfloor$) of coins of\n",
    "denomination $D_k$. If we use 0 coins of denomination $D_k$ in the\n",
    "optimal solution then $C(N, k) = C(N, k-1)$. Otherwise $C(N, k) =\n",
    "1+C(N-D_k, k)$, since we use at least one coin of denomination $D_k$\n",
    "and then consider making change for $N-D_k$ with the possibility of\n",
    "using more coins of denomination $D_k$. Thus\n",
    "the optimal substructure property can be written as:\n",
    "\n",
    "$$ C(N, k) = \\min\\{C(N, k-1), 1 + C(N - D_k, k)\\}. $$ \n",
    "\n",
    "> Note that we can set base cases $C(0, i)=0$, and set $C(n, i) =\n",
    "\\infty$ whenever $n<D_0$. For simplicity we can assume the\n",
    "denominations are sorted by their index.\n",
    "\n",
    ".  \n",
    ".  \n",
    "\n",
    "\n",
    "**2c)** Use this optimal substructure property to design a\n",
    "  dynamic programming algorithm for this problem. If you used top-down\n",
    "  or bottom-up memoization to avoid recomputing solutions to\n",
    "  subproblems, what is the work and span of your approach?\n",
    "\n",
    "> For the work, notice that the number of distinct subproblems is $Nk$,\n",
    "and each minimization on the right hand side requires $O(1)$\n",
    "work. This results in an overall work and span of $O(N k)$. \n"
   ]
  },
  {
   "cell_type": "markdown",
   "metadata": {
    "slideshow": {
     "slide_type": "slide"
    }
   },
   "source": [
    "#### Graph Search\n",
    "\n",
    "- BFS, DFS, Dijkstra, Bellman-Ford [<span style=\"color:red\">Visiting Order per given source node</span>]\n",
    "\n",
    "**Unweighted Graph:** Both work $O(|V| + |E|)$\n",
    "> Breadth-first: Sibling > Children \n",
    "\n",
    "> Depth-first: Children > Sibling\n",
    "\n",
    "-  `frontier = deque()`\n",
    "\n",
    "`dfs_stack`: <span style=\"color:blue\">**[last in, first out]**</span>\n",
    "\n",
    "- `node = frontier.pop()`\n",
    "\n",
    "\n",
    "`bfs_serial`: <span style=\"color:orange\">**[first in, first out]**</span>\n",
    "\n",
    "- `node = frontier.popleft()`\n",
    "\n",
    "**Positive Weighted Graph:**\n",
    "Dijkstra's work $O(|E| \\log |E|)$ \n",
    "> At most how many times can one node be inserted to the heap?\n",
    "\n",
    "**Negative Weighed Graph:**\n",
    "Bellman-Ford's work $O(|V| \\cdot |E|)$\n",
    "\n",
    "\n",
    "<span style=\"color:blue\">Note that we can still apply BFS/DFS for weighted graph, Dijkstra for negative weighted graph. Just the solution is not correct.</span>\n",
    " \n",
    "\n",
    "<img src=\"module-08-graph/figures/nweighted.png\" width=60%/>\n",
    "\n",
    "\n",
    "\n",
    "\n",
    "**All Pairs Shortest Path:**\n",
    "> Graph transformation\n",
    "\n",
    "\n",
    "<center>\n",
    "<img src=\"module-08-graph/figures/johnson_path.png\" width=80%/>\n",
    "</center>"
   ]
  },
  {
   "cell_type": "markdown",
   "metadata": {
    "slideshow": {
     "slide_type": "slide"
    }
   },
   "source": [
    "#### Minimal Spanning Tree\n",
    "\n",
    "- Prim's Algorithm and Kruskal's Algorithm [<span style=\"color:red\">Visiting Order per Step</span>]\n",
    "\n",
    "<span style=\"color:red\">**Question:**</span> Given some intermediate steps, can you quickly identify which algorithm it is using?\n",
    "\n",
    "- Borůvka's Algorithm [Paralell MST]\n",
    "\n",
    "\n",
    "<center>\n",
    "    <img src=\"module-09-trees/figures/mst_example.jpeg\" width=50%/>\n",
    "</center>\n",
    "\n"
   ]
  }
 ],
 "metadata": {
  "celltoolbar": "Slideshow",
  "kernelspec": {
   "display_name": "Python 3 (ipykernel)",
   "language": "python",
   "name": "python3"
  },
  "language_info": {
   "codemirror_mode": {
    "name": "ipython",
    "version": 3
   },
   "file_extension": ".py",
   "mimetype": "text/x-python",
   "name": "python",
   "nbconvert_exporter": "python",
   "pygments_lexer": "ipython3",
   "version": "3.12.2"
  },
  "rise": {
   "autolaunch": true,
   "controls": false,
   "enable_chalkboard": true,
   "scroll": true,
   "theme": "simple",
   "transition": "fade"
  },
  "toc": {
   "base_numbering": 1,
   "nav_menu": {},
   "number_sections": true,
   "sideBar": true,
   "skip_h1_title": true,
   "title_cell": "Table of Contents",
   "title_sidebar": "Contents",
   "toc_cell": true,
   "toc_position": {},
   "toc_section_display": true,
   "toc_window_display": false
  }
 },
 "nbformat": 4,
 "nbformat_minor": 4
}
