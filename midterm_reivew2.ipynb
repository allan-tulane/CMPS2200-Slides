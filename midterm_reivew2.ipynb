{
 "cells": [
  {
   "cell_type": "code",
   "execution_count": 1,
   "id": "35f4e498",
   "metadata": {},
   "outputs": [],
   "source": [
    "def run_map_reduce(map_f, reduce_f, prefix):\n",
    "    # done. do not change me.\n",
    "    \"\"\"\n",
    "    The main map reduce logic.\n",
    "\n",
    "    Params:\n",
    "      map_f......the mapping function\n",
    "      reduce_f...the reduce function\n",
    "      prefix.......list of input records\n",
    "    \"\"\"\n",
    "    # 1. call map_f on each element of docs and flatten the results\n",
    "    # e.g., [('m', 1), ('i', 1), ('s', 1), ('s', 1), ('i', 1), ('s', 1), ('s', 1), ('i', 1), ('p', 1), ('p', 1), ('i', 1)]\n",
    "    pairs = flatten(list(map(map_f, prefix)))\n",
    "    # 2. group all pairs by their key\n",
    "    # e.g., [('i', [1, 1, 1, 1]), ('m', [1]), ('p', [1, 1]), ('s', [1, 1, 1, 1])]\n",
    "    groups = collect(pairs)\n",
    "    # 3. reduce each group to the final answer\n",
    "    # e.g., [('i', 4), ('m', 1), ('p', 2), ('s', 4)]\n",
    "    return [reduce_f(g) for g in groups]"
   ]
  },
  {
   "cell_type": "code",
   "execution_count": 2,
   "id": "15f047a2",
   "metadata": {},
   "outputs": [
    {
     "name": "stdout",
     "output_type": "stream",
     "text": [
      "[('i', 4), ('m', 1), ('p', 2), ('s', 4)]\n"
     ]
    }
   ],
   "source": [
    "from collections import defaultdict\n",
    "\n",
    "def reduce(f, id_, a):\n",
    "    # done. do not change me.\n",
    "    if len(a) == 0:\n",
    "        return id_\n",
    "    elif len(a) == 1:\n",
    "        return a[0]\n",
    "    else:\n",
    "        return f(reduce(f, id_, a[:len(a)//2]),\n",
    "                 reduce(f, id_, a[len(a)//2:]))\n",
    "    \n",
    "def add(x, y):\n",
    "    return x + y\n",
    "\n",
    "\n",
    "def flatten(sequences):\n",
    "    return reduce(add, [], sequences) # iterate(plus, [], sequences)\n",
    "\n",
    "\n",
    "def collect(pairs):\n",
    "    \n",
    "    result = defaultdict(list)\n",
    "    for pair in sorted(pairs):\n",
    "        result[pair[0]].append(pair[1])\n",
    "    return list(result.items())\n",
    "\n",
    "\n",
    "def char_count_map(a):\n",
    "    return list(map(lambda x: (x, 1), a))\n",
    "\n",
    "\n",
    "def char_count_reduce(group):\n",
    "    return (group[0], reduce(add, 0, group[1])) ## work O(n) and span O(log n)\n",
    "\n",
    "\n",
    "\n",
    "seq = 'mississippi'\n",
    " \n",
    "res = run_map_reduce(char_count_map, char_count_reduce, seq)\n",
    "\n",
    "print(res)"
   ]
  }
 ],
 "metadata": {
  "kernelspec": {
   "display_name": "Python 3 (ipykernel)",
   "language": "python",
   "name": "python3"
  },
  "language_info": {
   "codemirror_mode": {
    "name": "ipython",
    "version": 3
   },
   "file_extension": ".py",
   "mimetype": "text/x-python",
   "name": "python",
   "nbconvert_exporter": "python",
   "pygments_lexer": "ipython3",
   "version": "3.9.7"
  }
 },
 "nbformat": 4,
 "nbformat_minor": 5
}
