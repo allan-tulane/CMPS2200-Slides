{
 "cells": [
  {
   "cell_type": "code",
   "execution_count": 3,
   "metadata": {
    "code_folding": [],
    "slideshow": {
     "slide_type": "skip"
    }
   },
   "outputs": [
    {
     "data": {
      "text/html": [
       "<style>.prompt{width: 0px; min-width: 0px; visibility: collapse}</style>"
      ],
      "text/plain": [
       "<IPython.core.display.HTML object>"
      ]
     },
     "metadata": {},
     "output_type": "display_data"
    },
    {
     "data": {
      "text/html": [
       "<style>\n",
       "div#notebook {\n",
       " font-family: \"Exo_2\", sans-serif;\n",
       "}\n",
       "\n",
       ".rendered_html h1,\n",
       ".text_cell_render h1 {\n",
       " color: #126dce;\n",
       " font-size: 220%;\n",
       " text-align: center;\n",
       " font-weight: lighter;\n",
       "}\n",
       ".rendered_html h2,\n",
       ".text_cell_render h2 {\n",
       " text-align: center;\n",
       " font-size: 170%;\n",
       " color: #126dce;\n",
       " font-style: normal;\n",
       " font-weight: lighter;\n",
       "}\n",
       ".rendered_html h3,\n",
       ".text_cell_render h3 {\n",
       " font-size: 150%;\n",
       " color: #126dce;\n",
       " font-weight: lighter;\n",
       " text-decoration: italic;\n",
       " font-style: normal;\n",
       "}\n",
       ".rendered_html h4,\n",
       ".text_cell_render h4 {\n",
       " font-size: 120%;\n",
       " color: #126dce;\n",
       " font-weight: underline;\n",
       " font-style: normal;\n",
       "}\n",
       ".rendered_html h5,\n",
       ".text_cell_render h5 {\n",
       " font-size: 100%;\n",
       " color: #2f2f2f;\n",
       " font-weight: lighter;\n",
       " text-decoration: underline;\n",
       "}\n",
       "</style>\n"
      ],
      "text/plain": [
       "<IPython.core.display.HTML object>"
      ]
     },
     "metadata": {},
     "output_type": "display_data"
    }
   ],
   "source": [
    "# setup\n",
    "from IPython.core.display import display,HTML\n",
    "display(HTML('<style>.prompt{width: 0px; min-width: 0px; visibility: collapse}</style>'))\n",
    "display(HTML(open('rise.css').read()))\n",
    "\n",
    "# imports\n",
    "import numpy as np\n",
    "import matplotlib.pyplot as plt\n",
    "import seaborn as sns\n",
    "%matplotlib inline\n",
    "sns.set(style=\"whitegrid\", font_scale=1.5, rc={'figure.figsize':(12, 6)})\n"
   ]
  },
  {
   "cell_type": "markdown",
   "metadata": {
    "slideshow": {
     "slide_type": "slide"
    }
   },
   "source": [
    "# CMPS 2200\n",
    "# Introduction to Algorithms\n",
    "\n",
    "## Cost models \n"
   ]
  },
  {
   "cell_type": "markdown",
   "metadata": {
    "slideshow": {
     "slide_type": "slide"
    }
   },
   "source": [
    "## Language Based Models\n",
    "\n",
    "- Define a language to specify algorithms\n",
    "- Assign a cost to each expression\n",
    "- Cost of algorithm is sum of costs for each expression\n",
    "\n",
    "\n",
    "**Work-Span Model**\n",
    " > For a given expression $e$ [a series of statements], we will analyze the work $W(e)$ and span $S(e)$ \n"
   ]
  },
  {
   "cell_type": "markdown",
   "metadata": {
    "slideshow": {
     "slide_type": "slide"
    }
   },
   "source": [
    "## SPARC\n",
    "\n",
    "Our textbook uses a pseudo code language called **SPARC**\n",
    "- based on [Standard ML](https://en.wikipedia.org/wiki/Standard_ML) [ML: Meta language]\n",
    "- functional language\n",
    "\n",
    "When possible, we will also show Python versions of key algorithms.\n",
    "\n",
    "\n"
   ]
  },
  {
   "cell_type": "markdown",
   "metadata": {
    "slideshow": {
     "slide_type": "slide"
    }
   },
   "source": [
    "## Example SPARC program\n",
    "\n",
    "\n",
    "<br><br>\n",
    "<p> <span>\\[\\begin{array}{l}  \n",
    "\\texttt{let}\\\\   \n",
    "~~~~x = 2 + 3\\\\  \n",
    "~~~~f (w) = (w * 4, w - 2)\\\\  \n",
    "~~~~(y,z) = f(x-1)\\\\  \n",
    "\\texttt{in}\\\\   \n",
    "~~~~x + y + z\\\\  \n",
    "\\texttt{end}   \n",
    "\\end{array}\\]</span></p>\n",
    "<br><br>\n",
    "\n",
    "<br><br>\n",
    "**binding**: associate entities (data or code) with identifiers.\n",
    "\n",
    "<br>\n",
    "\n",
    "**let expression:**\n",
    "\n",
    "**let**  \n",
    "$\\:\\: b^+$  \n",
    "**in**  \n",
    "$\\:\\:e$  \n",
    "**end**\n",
    "\n",
    "Expression $e$ is applied using the bindings defined inside **let**.\n",
    "\n",
    "<br><br>\n",
    "**expression** *e*: describes a computation  \n",
    "- **evaluating** an expression produces its value\n",
    "\n",
    "<br><br>\n",
    "$x = 2 + 3 = 5$  \n",
    "$f(4) \\rightarrow (16, 2)$  \n",
    "$x + y + z= 5 + 16 + 2 = 23$\n",
    "\n",
    "\n",
    "\n",
    "\n",
    "\n"
   ]
  },
  {
   "cell_type": "markdown",
   "metadata": {
    "slideshow": {
     "slide_type": "slide"
    }
   },
   "source": [
    "### What does this do?\n",
    "\n",
    "<p><span class=\"math display\">\\[\\begin{array}{l}  \n",
    "\\texttt{let}\\\\  \n",
    "~~~~f(i) = \\texttt{if} ~(i < 2) ~\\texttt{then}~ i ~\\texttt{else}~ i  *   \n",
    "f(i - 1) \\\\  \n",
    "\\texttt{in} \\\\   \n",
    "~~~~f(5) \\\\  \n",
    "\\texttt{end}   \n",
    "\\end{array}\\]</span> </p>\n",
    "\n"
   ]
  },
  {
   "cell_type": "code",
   "execution_count": 1,
   "metadata": {
    "slideshow": {
     "slide_type": "fragment"
    }
   },
   "outputs": [
    {
     "data": {
      "text/plain": [
       "120"
      ]
     },
     "execution_count": 1,
     "metadata": {},
     "output_type": "execute_result"
    }
   ],
   "source": [
    "def factorial(i):\n",
    "    if i<2:\n",
    "        return i\n",
    "    else:\n",
    "        return i*factorial(i-1)\n",
    "    \n",
    "factorial(5)"
   ]
  },
  {
   "cell_type": "markdown",
   "metadata": {
    "slideshow": {
     "slide_type": "fragment"
    }
   },
   "source": [
    "## Composition [SPARC]\n",
    "\n",
    "<img src=\"figures/composition.png\" width=\"50%\" />\n",
    "\n",
    "\n",
    "-   $(e_1, e_2)$: Sequential Composition\n",
    "\n",
    "    -   Add work and span\n",
    "\n",
    "-   $(e_1 || e_2)$: Parallel Composition\n",
    "\n",
    "    -   Add work but **take the maximum span**\n",
    "    \n",
    "    \n",
    "\n",
    "### parallel composition: $(e_1 || e_2)$\n",
    "\n",
    "- $W(e_1 || e_2) = 1 + W(e_1) + W(e_2)$  \n",
    "- $S(e_1 || e_2) = 1 + \\max(S(e_1), S(e_2))$  "
   ]
  },
  {
   "cell_type": "markdown",
   "metadata": {
    "slideshow": {
     "slide_type": "slide"
    }
   },
   "source": [
    "Let's look at the specification and recurrence for Summing List: \n",
    "\n",
    "<p><span class=\"math display\">\\[\\begin{array}{l}  \n",
    "\\mathit{sumList}~a =  \n",
    "\\\\   \n",
    "~~~~\\texttt{if}~|a| \\leq 1~\\texttt{then}  \n",
    "\\\\   \n",
    "~~~~~~~~a  \n",
    "\\\\  \n",
    "~~~~\\texttt{else}  \n",
    "\\\\   \n",
    "~~~~~~~~\\texttt{let}  \n",
    "\\\\  \n",
    "~~~~~~~~~~~~(l,r) = \\mathit{splitMid}~a  \n",
    "\\\\   \n",
    "~~~~~~~~~~~~(l',r') = (\\mathit{sumList}~l \\mid\\mid{} \\mathit{sumList}~r)  \n",
    "\\\\  \n",
    "~~~~~~~~\\texttt{in}  \n",
    "\\\\   \n",
    "~~~~~~~~~~~~l'+r'  \n",
    "\\\\  \n",
    "~~~~~~~~\\texttt{end}  \n",
    "\\end{array}\\]</span></p>\n",
    "\n",
    "\n",
    "\n"
   ]
  },
  {
   "cell_type": "markdown",
   "metadata": {
    "slideshow": {
     "slide_type": "slide"
    }
   },
   "source": [
    "## Parallelism\n",
    "\n",
    "how many processors can we use efficiently?\n",
    "\n",
    "\n",
    "**average parallelism**: \n",
    "\n",
    "$$\n",
    "\\overline{P} = \\frac{T_1}{T_\\infty} = \\frac{W}{S}\n",
    "$$\n",
    "\n",
    "\n",
    "<br><br>\n",
    "To increase parallelism, we can either:\n",
    "- decrease span\n",
    "- increasing work (but that's not really desireable, since we want the overall cost to be low)\n",
    "\n",
    "<br>\n",
    "\n",
    "**work efficiency**: a parallel algorithm is *work efficient* if it performs asymptotically the same work as the best known sequential algorithm for the problem.\n",
    "\n",
    "So, we want a *work efficient* parallel algorithm with low span.\n"
   ]
  },
  {
   "cell_type": "markdown",
   "metadata": {
    "slideshow": {
     "slide_type": "slide"
    }
   },
   "source": [
    "## Scheduling\n",
    "\n",
    "Key issue of parallel algorithms is **scheduling**: which processor will run which task when?\n",
    "- typically have more tasks than processors.\n",
    "\n",
    "Recall our parallel sum method:\n",
    "\n",
    "![dag-sum](figures/dag-sum.png)  \n",
    "[source](https://homes.cs.washington.edu/~djg/teachingMaterials/spac/sophomoricParallelismAndConcurrency.pdf)\n",
    "\n",
    "\n",
    "\n",
    "We must decide when to run each part of the sum. There are dependencies that constrain the order."
   ]
  },
  {
   "cell_type": "markdown",
   "metadata": {
    "slideshow": {
     "slide_type": "slide"
    }
   },
   "source": [
    "## Scheduler\n",
    "- For each task generated by a parallel algorithm, assign it to an available processor\n",
    "- Goal: minimize execution time.\n",
    "\n",
    "\n"
   ]
  },
  {
   "cell_type": "markdown",
   "metadata": {
    "slideshow": {
     "slide_type": "fragment"
    }
   },
   "source": [
    "\n",
    "## Greedy Scheduler\n",
    "\n",
    "Whenever there is a processor available and a task ready to execute, assign the task to the processor and start it immediately. \n",
    "\n",
    "Why might this not be optimal?\n",
    "\n",
    "![greedy](figures/greedy.png)"
   ]
  },
  {
   "cell_type": "markdown",
   "metadata": {
    "slideshow": {
     "slide_type": "slide"
    }
   },
   "source": [
    "Greedy schedulers have an important property that is summarized by the **greedy scheduling principle**.\n",
    "\n",
    "Assuming $P$ processors, then the time $T_P$ to perform computation with work $W$ and span $S$ is bounded by:\n",
    "\n",
    "$$T_P < \\frac{T_1}{P} + T_\\infty = \\frac{W}{P} + S$$\n",
    "\n",
    "\n",
    "Because we know:  \n",
    "- $T_P \\ge \\frac{W}{P}$, since that would be the optimal division of work to processors\n",
    "- $T_P \\ge S = T_\\infty$, by the definition of span\n",
    "\n",
    "we can conclude that the best we can hope for is:\n",
    "\n",
    "$$T_P \\ge \\mathrm{max}(\\frac{W}{P},S)$$\n",
    "\n",
    "Therefore, the time using a greedy scheduler is bounded by:\n",
    "\n",
    "$$ \\mathrm{max}(\\frac{W}{P},S) \\le T_P < \\frac{W}{P} + S$$\n",
    "\n",
    "<br>\n",
    "How good is greedy? How close is $(\\frac{W}{P} + S)$ to $\\mathrm{max}(\\frac{W}{P},S)$?"
   ]
  },
  {
   "cell_type": "markdown",
   "metadata": {
    "slideshow": {
     "slide_type": "fragment"
    }
   },
   "source": [
    "\n",
    "actually pretty close.\n",
    "\n",
    "> $\\frac{W}{P} + S \\le 2 * \\mathrm{max}(\\frac{W}{P},S)$\n",
    "\n",
    "(why? consider what the worst possible span is...)\n",
    "\n",
    "<br>\n",
    "\n",
    "Greedy scheduler gets better, the more parallelism is possible in the algorithm.\n",
    "\n",
    "Recall average parallelism: $\\overline{P} = \\frac{W}{S}$\n",
    "\n",
    "We can rewrite:\n",
    "\n",
    "$$T_P < \\frac{W}{P} + S= \\frac{W}{P} + \\frac{W}{\\overline{P}}=\\frac{W}{P}(1+\\frac{P}{\\overline{P}})$$\n",
    "\n",
    "\n",
    "So, the greater $\\overline{P}$ is than $P$, the closer to optimal we get.\n"
   ]
  },
  {
   "cell_type": "markdown",
   "metadata": {
    "slideshow": {
     "slide_type": "slide"
    }
   },
   "source": [
    "E.g., recall our parallel sum method, which has\n",
    "\n",
    "$W=O(n)$  \n",
    "$S=O(\\lg n)$\n",
    "\n",
    "<br>\n",
    "$\\overline{P} = \\frac{W}{S} = \\frac{O(n)}{O(\\lg n)}$\n",
    "\n",
    "<br>\n",
    "\n",
    "$ \\mathrm{max}(\\frac{W}{P},S) \\le T_P < \\frac{W}{P} + S$\n",
    "\n",
    "<br>\n",
    "\n",
    "so, if we have 2 processors:\n",
    "\n",
    "$\\mathrm{max}(\\frac{O(n)}{2},O(\\lg n)) \\le T_2 < \\frac{O(n)}{2} + O(\\lg n)$\n",
    "\n",
    "$\\frac{O(n)}{2} \\le T_2 < \\frac{O(n)}{2} + O(\\lg n)$\n",
    "\n",
    "<br><br><br>\n",
    "\n",
    "if we have $\\lg n$ processors:\n",
    "\n",
    "\n",
    "$\\mathrm{max}(\\frac{O(n)}{\\lg n},O(\\lg n)) \\le T_{\\lg n} < \\frac{O(n)}{\\lg n} + O(\\lg n)$\n",
    "\n",
    "$\\frac{O(n)}{\\lg n} \\le T_{\\lg n} < \\frac{O(n)}{\\lg n} + O(\\lg n)$\n"
   ]
  },
  {
   "cell_type": "markdown",
   "metadata": {
    "slideshow": {
     "slide_type": "slide"
    }
   },
   "source": [
    "\n",
    "\n",
    "The advantage of the Work-Span model:\n",
    "\n",
    "- We can design parallel algorithms without worrying about scheduling details.\n",
    "\n",
    "- We are ignoring some overhead in the creation of the schedule itself.\n",
    "  - This is acceptable since we are focused on asymptotics (just as in RAM model)"
   ]
  }
 ],
 "metadata": {
  "celltoolbar": "Slideshow",
  "kernelspec": {
   "display_name": "Python 3 (ipykernel)",
   "language": "python",
   "name": "python3"
  },
  "language_info": {
   "codemirror_mode": {
    "name": "ipython",
    "version": 3
   },
   "file_extension": ".py",
   "mimetype": "text/x-python",
   "name": "python",
   "nbconvert_exporter": "python",
   "pygments_lexer": "ipython3",
   "version": "3.11.0"
  },
  "rise": {
   "autolaunch": true,
   "controls": false,
   "enable_chalkboard": true,
   "scroll": true,
   "theme": "simple",
   "transition": "fade"
  },
  "toc": {
   "base_numbering": 1,
   "nav_menu": {},
   "number_sections": true,
   "sideBar": true,
   "skip_h1_title": true,
   "title_cell": "Table of Contents",
   "title_sidebar": "Contents",
   "toc_cell": true,
   "toc_position": {},
   "toc_section_display": true,
   "toc_window_display": false
  }
 },
 "nbformat": 4,
 "nbformat_minor": 4
}
