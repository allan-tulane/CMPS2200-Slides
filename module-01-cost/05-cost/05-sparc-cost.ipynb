{
 "cells": [
  {
   "cell_type": "code",
   "execution_count": 3,
   "metadata": {
    "code_folding": [],
    "slideshow": {
     "slide_type": "skip"
    }
   },
   "outputs": [
    {
     "data": {
      "text/html": [
       "<style>.prompt{width: 0px; min-width: 0px; visibility: collapse}</style>"
      ],
      "text/plain": [
       "<IPython.core.display.HTML object>"
      ]
     },
     "metadata": {},
     "output_type": "display_data"
    },
    {
     "data": {
      "text/html": [
       "<style>\n",
       "div#notebook {\n",
       " font-family: \"Exo_2\", sans-serif;\n",
       "}\n",
       "\n",
       ".rendered_html h1,\n",
       ".text_cell_render h1 {\n",
       " color: #126dce;\n",
       " font-size: 220%;\n",
       " text-align: center;\n",
       " font-weight: lighter;\n",
       "}\n",
       ".rendered_html h2,\n",
       ".text_cell_render h2 {\n",
       " text-align: center;\n",
       " font-size: 170%;\n",
       " color: #126dce;\n",
       " font-style: normal;\n",
       " font-weight: lighter;\n",
       "}\n",
       ".rendered_html h3,\n",
       ".text_cell_render h3 {\n",
       " font-size: 150%;\n",
       " color: #126dce;\n",
       " font-weight: lighter;\n",
       " text-decoration: italic;\n",
       " font-style: normal;\n",
       "}\n",
       ".rendered_html h4,\n",
       ".text_cell_render h4 {\n",
       " font-size: 120%;\n",
       " color: #126dce;\n",
       " font-weight: underline;\n",
       " font-style: normal;\n",
       "}\n",
       ".rendered_html h5,\n",
       ".text_cell_render h5 {\n",
       " font-size: 100%;\n",
       " color: #2f2f2f;\n",
       " font-weight: lighter;\n",
       " text-decoration: underline;\n",
       "}\n",
       "</style>\n"
      ],
      "text/plain": [
       "<IPython.core.display.HTML object>"
      ]
     },
     "metadata": {},
     "output_type": "display_data"
    }
   ],
   "source": [
    "# setup\n",
    "from IPython.core.display import display,HTML\n",
    "display(HTML('<style>.prompt{width: 0px; min-width: 0px; visibility: collapse}</style>'))\n",
    "display(HTML(open('rise.css').read()))\n",
    "\n",
    "# imports\n",
    "import numpy as np\n",
    "import matplotlib.pyplot as plt\n",
    "import seaborn as sns\n",
    "%matplotlib inline\n",
    "sns.set(style=\"whitegrid\", font_scale=1.5, rc={'figure.figsize':(12, 6)})\n"
   ]
  },
  {
   "cell_type": "markdown",
   "metadata": {
    "slideshow": {
     "slide_type": "slide"
    }
   },
   "source": [
    "# CMPS 2200\n",
    "# Introduction to Algorithms\n",
    "\n",
    "## Review & Functional Language\n",
    "\n"
   ]
  },
  {
   "cell_type": "markdown",
   "metadata": {
    "slideshow": {
     "slide_type": "slide"
    }
   },
   "source": [
    "### Using $p$ processors\n",
    "\n",
    "$$T_p \\leq \\frac{T_1}{p} + T_\\infty$$\n",
    "$$T_p \\in O(\\frac{T_1}{p} + T_\\infty)$$\n",
    "\n",
    "### Amdahl's Law\n",
    "\n",
    "- Let $T_1$ be the total time of the parallel algorithm on one processor. Let's set this value to 1.\n",
    "- Let $S$ be the amount of time that cannot be parallelized.\n",
    "- Assume (generously) that the remaining time (1-S) gets perfect speedup using $p$ processors.\n",
    "- Then we have\n",
    "\n",
    "$T_1 = S + (1-S) = 1, ~~T_P = S + \\dfrac{(1-S)}{p}~~~\\Rightarrow~~~~\\dfrac{T_1}{T_p} = \\dfrac{1}{S + \\dfrac{1 − S}{p}}$\n",
    "\n",
    "speedup using $p$ processors is limited by the fraction of the algorithm that is parallelizable."
   ]
  },
  {
   "cell_type": "code",
   "execution_count": 4,
   "metadata": {
    "code_folding": [
     0
    ],
    "scrolled": false,
    "slideshow": {
     "slide_type": "slide"
    }
   },
   "outputs": [
    {
     "data": {
      "image/png": "[encoded data removed]",
      "text/plain": [
       "<Figure size 432x288 with 1 Axes>"
      ]
     },
     "metadata": {
      "needs_background": "light"
     },
     "output_type": "display_data"
    }
   ],
   "source": [
    "# plot amdahl's law\n",
    "import matplotlib.pyplot as plt\n",
    "processors = [1,2,4,8,16,32,64,128,256,512,1024]\n",
    "parallel_portions = [.5, .75, .9, .95]\n",
    "plt.figure()\n",
    "for parallel_portion in parallel_portions:\n",
    "    S = 1 - parallel_portion\n",
    "    speedups = [1 / (S + (1-S)/p) for p in processors]\n",
    "    plt.plot(processors, speedups, label='%.2f parallelizable' % parallel_portion)\n",
    "plt.legend()\n",
    "plt.ylabel('speedup')\n",
    "plt.xlabel('number of processors')\n",
    "plt.title(\"Amdahl's Law\")\n",
    "plt.show()\n",
    "        "
   ]
  },
  {
   "cell_type": "markdown",
   "metadata": {
    "slideshow": {
     "slide_type": "slide"
    }
   },
   "source": [
    "**Algorithm specification**: defines what an algorithm should do.\n",
    "\n",
    "> Given a sequence $A$ of $n$ elements, return a sequence $B$ such that $B[i] \\leq B[j]$ for all $0 \\leq i \\le j \\le n$\n",
    "\n",
    "May also include **cost specification**, e.g. $O(n \\log n)$ work and $O(\\log^2 n)$ span.\n",
    "\n",
    "<br>\n",
    "\n",
    "**Algorithm implementation** (or just **algorithm**): defines **how** an algorithm works.\n",
    "\n",
    "This could be real, working code, or pseudo-code.\n",
    "\n",
    "Our textbook uses a pseudo code language called **SPARC**\n",
    "\n",
    "When possible, we will also show Python versions of key algorithms.\n",
    "\n"
   ]
  },
  {
   "cell_type": "markdown",
   "metadata": {
    "slideshow": {
     "slide_type": "slide"
    }
   },
   "source": [
    "## Functional languages\n",
    "\n",
    "In functional languages, functions act like mathematical functions.\n",
    "\n",
    "Two key properties:\n",
    "\n",
    "1. function maps an input to an output $f : X \\mapsto Y$: no **side effects**\n",
    "    \n",
    "2. function can be treated as values: **function A can be passed to function B**"
   ]
  },
  {
   "cell_type": "markdown",
   "metadata": {
    "slideshow": {
     "slide_type": "slide"
    }
   },
   "source": [
    "## Functions as values\n",
    "\n",
    "Many languages allow functions to be passed to other functions.\n",
    "\n",
    "Functions as \"first-class values.\""
   ]
  },
  {
   "cell_type": "code",
   "execution_count": 5,
   "metadata": {
    "slideshow": {
     "slide_type": "fragment"
    }
   },
   "outputs": [
    {
     "data": {
      "text/plain": [
       "12"
      ]
     },
     "execution_count": 5,
     "metadata": {},
     "output_type": "execute_result"
    }
   ],
   "source": [
    "def double(value):\n",
    "    return 2 * value\n",
    "\n",
    "def double_and_sum(double_fn, vals):\n",
    "    total = 0\n",
    "    for v in vals:\n",
    "        total += double_fn(v)\n",
    "    return total\n",
    "\n",
    "# pass the function double to the function double_and_sum\n",
    "double_and_sum(double, [1,2,3]) \n",
    "# 1*2 + 2*2 + 3*2"
   ]
  },
  {
   "cell_type": "markdown",
   "metadata": {
    "slideshow": {
     "slide_type": "fragment"
    }
   },
   "source": [
    "`double_and_sum` is called a **higher-order function**, since it takes another function as input.\n",
    "\n",
    "Why is this useful?"
   ]
  },
  {
   "cell_type": "code",
   "execution_count": 8,
   "metadata": {
    "slideshow": {
     "slide_type": "fragment"
    }
   },
   "outputs": [
    {
     "data": {
      "text/plain": [
       "[2, 4, 6]"
      ]
     },
     "execution_count": 8,
     "metadata": {},
     "output_type": "execute_result"
    }
   ],
   "source": [
    "def map_function(function, values):\n",
    "    for v in values:\n",
    "        yield function(v)\n",
    "\n",
    "list(map_function(double, [1,2,3]))"
   ]
  },
  {
   "cell_type": "code",
   "execution_count": 9,
   "metadata": {
    "slideshow": {
     "slide_type": "fragment"
    }
   },
   "outputs": [
    {
     "data": {
      "text/plain": [
       "[1, 4, 9]"
      ]
     },
     "execution_count": 9,
     "metadata": {},
     "output_type": "execute_result"
    }
   ],
   "source": [
    "def square(value):\n",
    "    return value * value\n",
    "\n",
    "list(map_function(square, [1,2,3]))"
   ]
  },
  {
   "cell_type": "code",
   "execution_count": 10,
   "metadata": {
    "slideshow": {
     "slide_type": "fragment"
    }
   },
   "outputs": [
    {
     "data": {
      "text/plain": [
       "[2, 8, 18]"
      ]
     },
     "execution_count": 10,
     "metadata": {},
     "output_type": "execute_result"
    }
   ],
   "source": [
    "list(map_function(double, map_function(square, [1,2,3])))"
   ]
  },
  {
   "cell_type": "markdown",
   "metadata": {
    "slideshow": {
     "slide_type": "fragment"
    }
   },
   "source": [
    "- If we know that `function` is pure, then we can trivially parallelize `map_function` for many inputs.\n",
    "\n",
    "\n",
    "\n",
    "- By using higher-order functions, we can define a few primitive, high-order functions that will make it easier to reason about and analyze run-time of parallel computations."
   ]
  },
  {
   "cell_type": "markdown",
   "metadata": {
    "slideshow": {
     "slide_type": "slide"
    }
   },
   "source": [
    "## Algorithmic Cost  Models\n",
    "\n",
    "- Define a language to specify algorithms\n",
    "- Assign a cost to each expression\n",
    "- Cost of algorithm is sum of costs for each expression"
   ]
  },
  {
   "cell_type": "markdown",
   "metadata": {
    "slideshow": {
     "slide_type": "slide"
    }
   },
   "source": [
    "## Language based Work-Span model\n",
    "\n",
    "Recall our definitions of **work** and **span**\n",
    "\n",
    "> **work**: total number of primitive operations performed by an algorithm\n",
    "\n",
    "> **span**: longest sequence of dependencies in computation\n",
    "- time to run with an infinite number of processors\n",
    "- measure of how \"parallelized\" an algorithm is \n",
    "- also called: *critical path length* or *computational depth*\n",
    "\n",
    "<br>\n",
    "\n",
    "**intuition**:  \n",
    "**work**: total energy consumed by a computation  \n",
    "**span**: minimum possible time that the computation requires\n",
    "\n",
    "<br>\n",
    "        \n",
    "**work**: $T_1$ = time using one processor  \n",
    "**span**: $T_\\infty$ = time using $\\infty$ processors\n",
    "\n",
    "For a given expression $e$ [a series of statements], we will analyze the work $W(e)$ and span $S(e)$"
   ]
  },
  {
   "cell_type": "markdown",
   "metadata": {
    "slideshow": {
     "slide_type": "slide"
    }
   },
   "source": [
    "## SPARC Example \n",
    "\n",
    "\n",
    "<br><br>\n",
    "<p> <span>\\[\\begin{array}{l}  \n",
    "\\texttt{let}\\\\   \n",
    "~~~~x = 2 + 3\\\\  \n",
    "~~~~f (w) = (w * 4, w - 2)\\\\  \n",
    "~~~~(y,z) = f(x-1)\\\\  \n",
    "\\texttt{in}\\\\   \n",
    "~~~~x + y + z\\\\  \n",
    "\\texttt{end}   \n",
    "\\end{array}\\]</span></p>\n",
    "<br><br>\n",
    "$x = 2 + 3 = 5$  \n",
    "$f(4) \\rightarrow (16, 2)$  \n",
    "$x + y + z= 5 + 16 + 2 = 23$\n",
    "\n",
    "<br><br>\n",
    "**binding**: associate entities (data or code) with identifiers.\n",
    "\n",
    "<br>\n",
    "\n",
    "**let expression:**\n",
    "\n",
    "**let**  \n",
    "$\\:\\: b^+$  \n",
    "**in**  \n",
    "$\\:\\:e$  \n",
    "**end**\n",
    "\n",
    "Expression $e$ is applied using the bindings defined inside **let**.\n",
    "\n",
    "<br><br>\n",
    "**expression** *e*: describes a computation  \n",
    "- **evaluating** an expression produces its value\n",
    "\n",
    "\n",
    "\n",
    "\n"
   ]
  },
  {
   "cell_type": "markdown",
   "metadata": {
    "slideshow": {
     "slide_type": "slide"
    }
   },
   "source": [
    "> What does this do?\n",
    "<br><br>\n",
    "<p> <span>\\[\\begin{array}{l}  \n",
    "\\texttt{let}\\\\   \n",
    "~~~~f(i)=\\texttt{if}~(i<2) \\\\\n",
    "~~~~~~~~~~~~~~~~~~~~~\\texttt{𝚝𝚑𝚎𝚗}~i \\\\\n",
    "~~~~~~~~~~~~~~~~~\\texttt{𝚎𝚕𝚜𝚎}\\\\\n",
    "~~~~~~~~~~~~~~~~~~~~~~i*f(i-1) \\\\\n",
    "\\texttt{in}\\\\   \n",
    "~~~~f(5)\\\\  \n",
    "\\texttt{end}   \n",
    "\\end{array}\\]</span></p>\n",
    "<br><br>"
   ]
  },
  {
   "cell_type": "markdown",
   "metadata": {
    "slideshow": {
     "slide_type": "fragment"
    }
   },
   "source": [
    "The expression will evaluate to the factorial of 5, i.e., 5∗4∗3∗2∗1, which is 120."
   ]
  },
  {
   "cell_type": "code",
   "execution_count": 2,
   "metadata": {
    "slideshow": {
     "slide_type": "fragment"
    }
   },
   "outputs": [
    {
     "data": {
      "text/plain": [
       "120"
      ]
     },
     "execution_count": 2,
     "metadata": {},
     "output_type": "execute_result"
    }
   ],
   "source": [
    "def factorial(i):\n",
    "    if i < 2:\n",
    "        return i\n",
    "    else:\n",
    "        return i * factorial(i-1)\n",
    "factorial(5)"
   ]
  },
  {
   "cell_type": "markdown",
   "metadata": {
    "slideshow": {
     "slide_type": "slide"
    }
   },
   "source": [
    "## Composition\n",
    "\n",
    "<img src=\"figures/composition.png\" width=\"50%\"/>\n",
    "\n",
    "\n",
    "-   $(e_1, e_2)$: Sequential Composition\n",
    "\n",
    "    -   Add work and span\n",
    "\n",
    "-   $(e_1 || e_2)$: Parallel Composition\n",
    "\n",
    "    -   Add work but **take the maximum span**\n",
    "    \n",
    "    \n",
    "\n",
    "### parallel composition: $(e_1 || e_2)$\n",
    "\n",
    "- $W(e_1 || e_2) = 1 + W(e_1) + W(e_2)$  \n",
    "- $S(e_1 || e_2) = 1 + \\max(S(e_1), S(e_2))$  "
   ]
  },
  {
   "cell_type": "markdown",
   "metadata": {
    "slideshow": {
     "slide_type": "slide"
    }
   },
   "source": [
    "\n",
    "### SPARC SumList\n",
    "<p><span class=\"math display\">\\[\\begin{array}{l}   \n",
    "\\\\\\\\\n",
    "\\mathit{sumList}~a =   \n",
    "\\\\  \n",
    "~~~~~~~~~\\texttt{if}~|a| = 1~\\texttt{then}   \n",
    "\\\\  \n",
    "~~~~~~~~~~~~~\\texttt{return}~a  \n",
    "\\\\  \n",
    "~~~~~~~~~\\texttt{else}  \\\\\n",
    "~~~~~~~~~~~~\\texttt{let}\\\\   \n",
    "~~~~~~~~~~~~~~~~(l, r)=\\texttt{splitMid}~a \\\\\n",
    "~~~~~~~~~~~~~~~~(l',r')=(\\mathit{sumList}~l~||~\\mathit{sumList}~r)\\\\\n",
    "~~~~~~~~~~~~\\texttt{in}\\\\  \n",
    "~~~~~~~~~~~~~~~~l'+r'\\\\\n",
    "~~~~~~~~~~~~\\texttt{end}   \n",
    "\\end{array}\\]</span></p>\n",
    "\n",
    "\n",
    "<!-- <p><span class=\"math display\">\\[\\begin{array}{l}   \n",
    "\\\\\\\\\n",
    "\\mathit{sumList}~a =   \n",
    "\\\\  \n",
    "~~~~~~~~~\\texttt{if}~|a| = 1~\\texttt{then}   \n",
    "\\\\  \n",
    "~~~~~~~~~~~~~\\texttt{return}~a  \n",
    "\\\\  \n",
    "~~~~~~~~~\\texttt{else}  \\\\\n",
    "~~~~~~~~~~~~\\texttt{let}\\\\   \n",
    "~~~~~~~~~~~~~~~~(l, r)=\\texttt{splitMid}~a \\\\\n",
    "~~~~~~~~~~~~~~~~(l',r')=(\\mathit{sumList}~l,~\\mathit{sumList}~r)\\\\\n",
    "~~~~~~~~~~~~\\texttt{in}\\\\  \n",
    "~~~~~~~~~~~~~~~~l'+r'\\\\\n",
    "~~~~~~~~~~~~\\texttt{end}   \n",
    "\\end{array}\\]</span></p> -->"
   ]
  },
  {
   "cell_type": "code",
   "execution_count": null,
   "metadata": {
    "slideshow": {
     "slide_type": "slide"
    }
   },
   "outputs": [],
   "source": [
    "# recursive, serial\n",
    "def sum_list_recursive(mylist):    \n",
    "    print('summing %s' % mylist)\n",
    "    \n",
    "    if len(mylist) == 1:\n",
    "        return mylist[0]\n",
    "    \n",
    "    return (\n",
    "        sum_list_recursive(mylist[:len(mylist)//2]) +\n",
    "        sum_list_recursive(mylist[len(mylist)//2:])\n",
    "    )\n",
    "\n",
    "# recursive, parallel\n",
    "def sum_list_recursive_parallel(mylist):    \n",
    "    print('summing %s' % mylist)\n",
    "    if len(mylist) == 1:\n",
    "        return mylist[0]\n",
    "    \n",
    "    # each thread spawns more threads\n",
    "    result1, result2 = in_parallel(\n",
    "        sum_list_recursive_parallel, mylist[:len(mylist)//2],\n",
    "        sum_list_recursive_parallel, mylist[len(mylist)//2:]\n",
    "    )\n",
    "    print('>>>merging %s and %s' % (result1, result2))\n",
    "    return result1 + result2\n"
   ]
  },
  {
   "cell_type": "markdown",
   "metadata": {
    "slideshow": {
     "slide_type": "slide"
    }
   },
   "source": [
    "## Scheduling\n",
    "\n",
    "Key issue of parallel algorithms is **scheduling**: which processor will run which task when?\n",
    "- typically have more tasks than processors.\n",
    "\n",
    "Recall our parallel sum method:\n",
    "\n",
    "![greedy](figures/dag-sum.png)  \n",
    "[source](https://homes.cs.washington.edu/~djg/teachingMaterials/spac/sophomoricParallelismAndConcurrency.pdf)\n",
    "\n",
    "\n",
    "\n",
    "We must decide when to run each part of the sum. There are dependencies that constrain the order."
   ]
  },
  {
   "cell_type": "markdown",
   "metadata": {
    "slideshow": {
     "slide_type": "slide"
    }
   },
   "source": [
    "## Scheduler\n",
    "- For each task generated by a parallel algorithm, assign it to an available processor\n",
    "- Goal: minimize execution time.\n",
    "\n",
    "\n",
    "## Greedy Scheduler\n",
    "\n",
    "Whenever there is a processor available and a task ready to execute, assign the task to the processor and start it immediately. \n",
    "\n",
    "Why might this not be optimal? [Assume you have 3 processors for the below task.]\n",
    "![greedy](figures/greedy.png)\n"
   ]
  },
  {
   "cell_type": "markdown",
   "metadata": {
    "slideshow": {
     "slide_type": "slide"
    }
   },
   "source": [
    "Greedy schedulers have an important property that is summarized by the greedy scheduling principle.\n",
    "\n",
    "Assuming $P$ processors, then the time $T_P$ to perform computation with work $W$ and span $S$ is bounded by:\n",
    "\n",
    "$T_P < \\frac{W}{P} + S$\n",
    "\n",
    "\n",
    "Because we know:  \n",
    "- $T_P \\ge \\frac{W}{P}$, since that would be the optimal division of work to processors\n",
    "- $T_P \\ge S = T_\\infty$, by the definition of span\n",
    "\n",
    "we can conclude that the best we can hope for is:\n",
    "\n",
    "$T_P \\ge \\mathrm{max}(\\frac{W}{P},S)$\n",
    "\n",
    "Therefore the time using a greedy scheduler is bounded by:\n",
    "\n",
    "$ \\mathrm{max}(\\frac{W}{P},S) \\le T_P < \\frac{W}{P} + S$\n",
    "\n",
    "<br>\n",
    "How good is greedy? How close is $(\\frac{W}{P} + S)$ to $\\mathrm{max}(\\frac{W}{P},S)$?"
   ]
  },
  {
   "cell_type": "markdown",
   "metadata": {
    "slideshow": {
     "slide_type": "fragment"
    }
   },
   "source": [
    "\n",
    "actually pretty close.\n",
    "\n",
    "> $\\frac{W}{P} + S \\le 2 * \\mathrm{max}(\\frac{W}{P},S)$\n",
    "\n",
    "(why? consider what the worst possible span is...)\n",
    "\n",
    "<br>\n",
    "\n",
    "Greedy scheduler gets better the more parallelism is possible in the algorithm.\n",
    "\n",
    "Recall average parallelism: $\\overline{P} = \\frac{W}{S}$\n",
    "\n",
    "We can rewrite:\n",
    "\n",
    "$T_P < \\frac{W}{P} + S$  \n",
    "$~~~~= \\frac{W}{P} + \\frac{W}{\\overline{P}}$  \n",
    "$~~~~=\\frac{W}{P}(1+\\frac{P}{\\overline{P}})$\n",
    "\n",
    "\n",
    "So, the greater $\\overline{P}$ is than $P$, the closer to optimal we get.\n"
   ]
  },
  {
   "cell_type": "markdown",
   "metadata": {
    "slideshow": {
     "slide_type": "slide"
    }
   },
   "source": [
    "E.g., recall our parallel sum method, which has\n",
    "\n",
    "$W=O(n)$  \n",
    "$S=O(\\lg n)$\n",
    "\n",
    "<br>\n",
    "$\\overline{P} = \\frac{W}{S} = \\frac{O(n)}{O(\\lg n)}$\n",
    "\n",
    "<br>\n",
    "\n",
    "$ \\mathrm{max}(\\frac{W}{P},S) \\le T_P < \\frac{W}{P} + S$\n",
    "\n",
    "<br>\n",
    "\n",
    "so, if we have 2 processors:\n",
    "\n",
    "$\\mathrm{max}(\\frac{O(n)}{2},O(\\lg n)) \\le T_2 < \\frac{O(n)}{2} + O(\\lg n)$\n",
    "\n",
    "$\\frac{O(n)}{2} \\le T_2 < \\frac{O(n)}{2} + O(\\lg n)$\n",
    "\n",
    "<br><br><br>\n",
    "\n",
    "if we have $\\lg n$ processors:\n",
    "\n",
    "\n",
    "$\\mathrm{max}(\\frac{O(n)}{\\lg n},O(\\lg n)) \\le T_{\\lg n} < \\frac{O(n)}{\\lg n} + O(\\lg n)$\n",
    "\n",
    "$\\frac{O(n)}{\\lg n} \\le T_{\\lg n} < \\frac{O(n)}{\\lg n} + O(\\lg n)$\n"
   ]
  },
  {
   "cell_type": "markdown",
   "metadata": {
    "slideshow": {
     "slide_type": "slide"
    }
   },
   "source": [
    "\n",
    "\n",
    "The advantage of the Work-Span model:\n",
    "\n",
    "- We can design parallel algorithms without worrying about scheduling details.\n",
    "\n",
    "- We are ignoring some overhead in the creation of the schedule itself.\n",
    "  - This is acceptable since we are focused on asymptotics (just as in RAM model)"
   ]
  }
 ],
 "metadata": {
  "celltoolbar": "Slideshow",
  "kernelspec": {
   "display_name": "Python 3",
   "language": "python",
   "name": "python3"
  },
  "language_info": {
   "codemirror_mode": {
    "name": "ipython",
    "version": 3
   },
   "file_extension": ".py",
   "mimetype": "text/x-python",
   "name": "python",
   "nbconvert_exporter": "python",
   "pygments_lexer": "ipython3",
   "version": "3.9.5"
  },
  "rise": {
   "autolaunch": true,
   "controls": false,
   "enable_chalkboard": true,
   "scroll": true,
   "theme": "simple",
   "transition": "fade"
  },
  "toc": {
   "base_numbering": 1,
   "nav_menu": {},
   "number_sections": true,
   "sideBar": true,
   "skip_h1_title": true,
   "title_cell": "Table of Contents",
   "title_sidebar": "Contents",
   "toc_cell": true,
   "toc_position": {},
   "toc_section_display": true,
   "toc_window_display": false
  }
 },
 "nbformat": 4,
 "nbformat_minor": 4
}
