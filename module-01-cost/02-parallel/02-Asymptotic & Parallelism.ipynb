{
 "cells": [
  {
   "cell_type": "code",
   "execution_count": 2,
   "metadata": {
    "code_folding": [
     0
    ],
    "slideshow": {
     "slide_type": "skip"
    }
   },
   "outputs": [
    {
     "data": {
      "text/html": [
       "<style>.prompt{width: 0px; min-width: 0px; visibility: collapse}</style>"
      ],
      "text/plain": [
       "<IPython.core.display.HTML object>"
      ]
     },
     "metadata": {},
     "output_type": "display_data"
    },
    {
     "data": {
      "text/html": [
       "<style>\n",
       "div#notebook {\n",
       " font-family: \"Exo_2\", sans-serif;\n",
       "}\n",
       "\n",
       ".rendered_html h1,\n",
       ".text_cell_render h1 {\n",
       " color: #126dce;\n",
       " font-size: 220%;\n",
       " text-align: center;\n",
       " font-weight: lighter;\n",
       "}\n",
       ".rendered_html h2,\n",
       ".text_cell_render h2 {\n",
       " text-align: center;\n",
       " font-size: 170%;\n",
       " color: #126dce;\n",
       " font-style: normal;\n",
       " font-weight: lighter;\n",
       "}\n",
       ".rendered_html h3,\n",
       ".text_cell_render h3 {\n",
       " font-size: 150%;\n",
       " color: #126dce;\n",
       " font-weight: lighter;\n",
       " text-decoration: italic;\n",
       " font-style: normal;\n",
       "}\n",
       ".rendered_html h4,\n",
       ".text_cell_render h4 {\n",
       " font-size: 120%;\n",
       " color: #126dce;\n",
       " font-weight: underline;\n",
       " font-style: normal;\n",
       "}\n",
       ".rendered_html h5,\n",
       ".text_cell_render h5 {\n",
       " font-size: 100%;\n",
       " color: #2f2f2f;\n",
       " font-weight: lighter;\n",
       " text-decoration: underline;\n",
       "}\n",
       "</style>\n"
      ],
      "text/plain": [
       "<IPython.core.display.HTML object>"
      ]
     },
     "metadata": {},
     "output_type": "display_data"
    }
   ],
   "source": [
    "# setup\n",
    "from IPython.core.display import display,HTML\n",
    "display(HTML('<style>.prompt{width: 0px; min-width: 0px; visibility: collapse}</style>'))\n",
    "display(HTML(open('rise.css').read()))\n",
    "\n",
    "# imports\n",
    "import numpy as np\n",
    "import matplotlib.pyplot as plt\n",
    "import seaborn as sns\n",
    "%matplotlib inline\n",
    "sns.set(style=\"whitegrid\", font_scale=1.5, rc={'figure.figsize':(12, 8)})\n"
   ]
  },
  {
   "cell_type": "markdown",
   "metadata": {
    "slideshow": {
     "slide_type": "slide"
    }
   },
   "source": [
    "# CMPS 2200\n",
    "# Introduction to Algorithms\n",
    "\n",
    "## Asymptotic Analysis\n",
    "\n",
    "- Finish the `Intro Survey`\n",
    "- Read Diderot textbook\n",
    "- Create GitHub/Repls Accounts\n",
    "- Thursday lab is in person, either morning session or afternoon session, from the third week.\n",
    "- Annoucements for Quiz/Assignments/Lab will be sent along with publish. "
   ]
  },
  {
   "cell_type": "markdown",
   "metadata": {
    "slideshow": {
     "slide_type": "slide"
    }
   },
   "source": [
    "## Algorithm\n",
    "\n",
    ">  an explicit, precise, unambiguous, mechanically-executable sequence of elementary instructions, usually intended to accomplish a specific purpose.<br>\n",
    "\n",
    "#### Note that the same task can be implemented in different algorithms \n",
    "- Analyze Algorithms: methods to compute tight bounds on running time\n",
    "- Design Algorithms: various approaches to designing efficient algorithms(lists, sequences, trees, graphs,...)\n",
    "\n",
    "#### This course's focus on **efficiency** in parallel computing.\n",
    "  - runs quickly  \n",
    "  - requires little memory\n"
   ]
  },
  {
   "cell_type": "markdown",
   "metadata": {
    "slideshow": {
     "slide_type": "slide"
    }
   },
   "source": [
    "### Analysis of Linear Search\n",
    "\n",
    "- Assign a time cost $c_i$ to each line $i$.\n",
    "- Figure out how often each line is run $n_i$\n",
    "- total cost is the cost per line multiplied by the number of times it is run\n",
    "\n",
    "\n",
    "$\n",
    "\\hbox{Cost(linear-search, mylist, key)} = \\sum_i c_i * n_i\n",
    "$"
   ]
  },
  {
   "cell_type": "code",
   "execution_count": 1,
   "metadata": {
    "slideshow": {
     "slide_type": "fragment"
    }
   },
   "outputs": [],
   "source": [
    "\n",
    "def linear_search(mylist, key):        #   cost         number of times run\n",
    "    for i,v in enumerate(mylist):      #   c1               ?\n",
    "        if v == key:                   #   c2               ?\n",
    "            return i                   #   c3               ?\n",
    "    return -1                          #   c4               ?"
   ]
  },
  {
   "cell_type": "markdown",
   "metadata": {
    "slideshow": {
     "slide_type": "slide"
    }
   },
   "source": [
    "### Best/Average/Worst case\n",
    "\n",
    "To deal with the effects of the input values on performance, we can consider three types of analysis, but only focus on worst case [Liebig's law of the minimum].\n",
    "\n",
    "\n",
    "### Worst-case analysis of linear search\n",
    "\n",
    "Assume $n \\leftarrow$ `len(mylist)`\n",
    "\n",
    "\n",
    "$ \\hbox{Cost(linear-search, } n) = c_1n + c_2n + c_4$\n"
   ]
  },
  {
   "cell_type": "markdown",
   "metadata": {
    "slideshow": {
     "slide_type": "slide"
    }
   },
   "source": [
    "### Big Idea: Asymptotic Analysis\n",
    "\n",
    "- Ignore machine-dependent constants\n",
    "- Focus on **growth** of running time\n",
    "  - What happens in the limit as $n \\rightarrow \\infty$ https://en.wikipedia.org/wiki/Limit_(mathematics)\n",
    "\n",
    "$ c_1n + c_2n + c_4 \\approx c_5n + c_6n + c_4 \\in O(n)$"
   ]
  },
  {
   "cell_type": "markdown",
   "metadata": {
    "slideshow": {
     "slide_type": "slide"
    }
   },
   "source": [
    "### Definition: Asymptotic dominance\n",
    "\n",
    "Function $f(n)$ **asymptotically dominates** function $g(n)$ if **there exist** constants $c$ and $n_0$ such that\n",
    "\n",
    "$ g(n) \\le c \\cdot f(n)$ **for all** $n \\ge n_0$\n",
    "\n",
    "<br>\n",
    "\n",
    "e.g., $f(n)= c_1n^2$ asymptotically dominates $g(n)=c_2n +c_3$\n"
   ]
  },
  {
   "cell_type": "markdown",
   "metadata": {
    "slideshow": {
     "slide_type": "slide"
    }
   },
   "source": [
    "## Asymptotic Notation\n",
    "\n",
    "$\n",
    "\\begin{align}\n",
    "\\hline\n",
    "\\mathcal{O} (f(n)) & = \\{ g(n) \\mid f(n) \\hbox{ asymptotically dominates } g(n)\\}\\\\\n",
    "\\Omega (f(n)) & =  \\{ g(n) \\mid  g(n) \\hbox{ asymptotically dominates } f(n)\\}\\\\\n",
    "\\Theta (f(n)) & =  \\mathcal{O} (f(n)) \\cap \\Omega (f(n))\\\\\n",
    "\\hline\n",
    "o(f(n)) &  = \\mathcal{O}(f(n)) \\setminus \\Theta(f(n))\\\\\n",
    "\\omega (f(n)) &=\\Omega(f(n)) \\setminus \\Theta(f(n))\\\\\n",
    "\\hline\n",
    "\\end{align}\n",
    "$\n",
    "\n",
    "Note that $\\cap$ denotes set intersection and $\\setminus$ means set difference.\n",
    "\n",
    "In other words, $\\mathcal{O}()$ is the upper bound, and $\\Omega()$ is lower bound."
   ]
  },
  {
   "cell_type": "markdown",
   "metadata": {
    "slideshow": {
     "slide_type": "slide"
    }
   },
   "source": [
    "## Example\n",
    "![dag-sum](figures/asym_exmp.png) \n",
    "\n",
    "- We often abuse notation such as $2n = \\mathcal{O}(n^2)$ or $2n \\mathrm{~is~} \\mathcal{O}(n^2)$\n",
    "\n",
    "\n",
    "## Analogy \n",
    "\n",
    "|$\\mathcal{O}~~~$ | $\\Omega~~~$ | $\\Theta~~~$ | $\\mathcal{o}$ | $\\omega$ |\n",
    "|--------------|----------|----------|---------------|----------|\n",
    "| $\\leq~~~$       | $\\geq~~~$   | $=~~~$      | $\\lt~~~ $         | $\\gt~~~$    |    "
   ]
  },
  {
   "cell_type": "markdown",
   "metadata": {
    "slideshow": {
     "slide_type": "slide"
    }
   },
   "source": [
    "<br><br>\n",
    "## Limit Method \n",
    " - L’Hospital’s Rule https://en.wikipedia.org/wiki/L%27H%C3%B4pital%27s_rule\n",
    "![dag-sum](figures/an.png) "
   ]
  },
  {
   "cell_type": "markdown",
   "metadata": {
    "slideshow": {
     "slide_type": "slide"
    }
   },
   "source": [
    "# CMPS 2200\n",
    "# Introduction to Algorithms\n",
    "\n",
    "## Parallelism"
   ]
  },
  {
   "cell_type": "markdown",
   "metadata": {
    "slideshow": {
     "slide_type": "slide"
    }
   },
   "source": [
    "## What is parallelism? (aka parallel computing)"
   ]
  },
  {
   "cell_type": "markdown",
   "metadata": {
    "slideshow": {
     "slide_type": "fragment"
    }
   },
   "source": [
    "> ability to run multiple computations at the same time"
   ]
  },
  {
   "cell_type": "markdown",
   "metadata": {
    "slideshow": {
     "slide_type": "slide"
    }
   },
   "source": [
    "## Why study parallel algorithms?"
   ]
  },
  {
   "cell_type": "markdown",
   "metadata": {
    "slideshow": {
     "slide_type": "fragment"
    }
   },
   "source": [
    "- faster\n",
    "- lower energy usage\n",
    "  + performing a computation twice as fast sequentially requires roughly eight times as much energy\n",
    "  + energy consumption is a cubic function of clock frequency\n",
    "- better hardware now available\n",
    "  + multicore processors are the norm\n",
    "  + GPUs (graphics processor units)\n",
    "  \n",
    "E.g., more than **one million** core machines now possible:  \n",
    "SpiNNaker (Spiking Neural Network Architecture), University of Manchester  \n",
    "<img src=\"https://upload.wikimedia.org/wikipedia/commons/9/97/Spinn_1m_pano.jpg\" alt=\"SpiNNaker\"/>\n",
    "\n"
   ]
  },
  {
   "cell_type": "markdown",
   "metadata": {
    "slideshow": {
     "slide_type": "slide"
    }
   },
   "source": [
    "## Example: Summing a list\n",
    "\n",
    "Summing can easily be parallelised by splitting the input list into two (or $k$) pieces.\n"
   ]
  },
  {
   "cell_type": "code",
   "execution_count": 2,
   "metadata": {
    "slideshow": {
     "slide_type": "fragment"
    }
   },
   "outputs": [
    {
     "data": {
      "text/plain": [
       "45"
      ]
     },
     "execution_count": 2,
     "metadata": {},
     "output_type": "execute_result"
    }
   ],
   "source": [
    "def sum_list(mylist):\n",
    "    result = 0\n",
    "    for v in mylist:\n",
    "        result += v\n",
    "    return result\n",
    "\n",
    "sum_list(range(10))"
   ]
  },
  {
   "cell_type": "markdown",
   "metadata": {
    "slideshow": {
     "slide_type": "fragment"
    }
   },
   "source": [
    "becomes"
   ]
  },
  {
   "cell_type": "code",
   "execution_count": 3,
   "metadata": {
    "slideshow": {
     "slide_type": "fragment"
    }
   },
   "outputs": [
    {
     "data": {
      "text/plain": [
       "45"
      ]
     },
     "execution_count": 3,
     "metadata": {},
     "output_type": "execute_result"
    }
   ],
   "source": [
    "from multiprocessing.pool import ThreadPool\n",
    "\n",
    "def parallel_sum_list(mylist):\n",
    "    result1, result2 = in_parallel(\n",
    "        sum_list, mylist[:len(mylist)//2],\n",
    "        sum_list, mylist[len(mylist)//2:]\n",
    "    )\n",
    "    # combine results\n",
    "    return result1 + result2\n",
    "\n",
    "def in_parallel(f1, arg1, f2, arg2):\n",
    "    with ThreadPool(2) as pool:\n",
    "        result1 = pool.apply_async(f1, [arg1])  # launch f1\n",
    "        result2 = pool.apply_async(f2, [arg2])  # launch f2\n",
    "        return (result1.get(), result2.get())   # wait for both to finish\n",
    "\n",
    "parallel_sum_list(list(range(10)))"
   ]
  },
  {
   "cell_type": "markdown",
   "metadata": {
    "slideshow": {
     "slide_type": "slide"
    }
   },
   "source": [
    "- How much faster should parallel version be?"
   ]
  },
  {
   "cell_type": "markdown",
   "metadata": {
    "slideshow": {
     "slide_type": "fragment"
    }
   },
   "source": [
    "`parallel_sum_list` is twice as fast `sum_list` \n",
    "\n",
    "<br><br>\n",
    "...almost. This ignores the **overhead** to setup parallel code and communicate/combine results.\n",
    "\n",
    "$O(\\frac{n}{2}) + O(1)$  \n",
    "$O(1)$  to combine results\n",
    "\n",
    "\n",
    "<br>\n",
    "some current state-of-the-art results:\n",
    "\n",
    "| application                           | sequential | parallel (32 core) | speedup |\n",
    "|---------------------------------------|------------|--------------------|---------|\n",
    "| sort $10^7$ strings                   | 2.9        | .095               | 30x     | \n",
    "| remove duplicated from $10^7$ strings | .66        | .038               | 17x     | \n",
    "| min. spanning tree for $10^7$ edges   | 1.6        | .14                | 11x     | \n",
    "| breadth first search for $10^7$ edges | .82        | .046               | 18x     |\n",
    "\n",
    "The **speedup** of a parellel algorithm $P$ over a sequential algorithms $S$ is:\n",
    "$$\n",
    "speedup(P,S) = \\frac{T(S)}{T(P)}\n",
    "$$"
   ]
  },
  {
   "cell_type": "markdown",
   "metadata": {
    "slideshow": {
     "slide_type": "slide"
    }
   },
   "source": [
    "## Parallel software\n",
    "\n",
    "So why isn't all software parallel?"
   ]
  },
  {
   "cell_type": "markdown",
   "metadata": {
    "slideshow": {
     "slide_type": "fragment"
    }
   },
   "source": [
    "**dependency**\n",
    "\n",
    "> The fundamental challenge of parallel algorithms is that computations must be **independent** to be performed in parallel.  Parallel computations should not depend on each other."
   ]
  },
  {
   "cell_type": "markdown",
   "metadata": {
    "slideshow": {
     "slide_type": "fragment"
    }
   },
   "source": [
    "**What should this code output?**"
   ]
  },
  {
   "cell_type": "markdown",
   "metadata": {
    "slideshow": {
     "slide_type": "skip"
    }
   },
   "source": [
    "run this a few times and see if output changes..."
   ]
  },
  {
   "cell_type": "code",
   "execution_count": 4,
   "metadata": {
    "slideshow": {
     "slide_type": "fragment"
    }
   },
   "outputs": [
    {
     "name": "stdout",
     "output_type": "stream",
     "text": [
      "1525722\n"
     ]
    }
   ],
   "source": [
    "total = 0\n",
    "\n",
    "def count(size):\n",
    "    global total\n",
    "    for _ in range(size):\n",
    "        total += 1\n",
    "    \n",
    "def race_condition_example():\n",
    "    global total\n",
    "    in_parallel(count, 1000000,\n",
    "                count, 1000000)\n",
    "    print(total)\n",
    "    \n",
    "race_condition_example()"
   ]
  },
  {
   "cell_type": "markdown",
   "metadata": {
    "slideshow": {
     "slide_type": "fragment"
    }
   },
   "source": [
    "#### Counting in parallel is hard!\n",
    "\n",
    "- motivates functional programming (next class)\n",
    "\n",
    "This course will focus on:\n",
    "- understanding when things can run in parallel and when they cannot\n",
    "- algorithm, not hardware specifics (though see CMPS 4760: Distributed Systems)\n",
    "- runtime analysis"
   ]
  }
 ],
 "metadata": {
  "celltoolbar": "Slideshow",
  "kernelspec": {
   "display_name": "Python 3 (ipykernel)",
   "language": "python",
   "name": "python3"
  },
  "language_info": {
   "codemirror_mode": {
    "name": "ipython",
    "version": 3
   },
   "file_extension": ".py",
   "mimetype": "text/x-python",
   "name": "python",
   "nbconvert_exporter": "python",
   "pygments_lexer": "ipython3",
   "version": "3.9.7"
  },
  "rise": {
   "autolaunch": true,
   "controls": false,
   "enable_chalkboard": true,
   "scroll": true,
   "theme": "simple",
   "transition": "fade"
  },
  "toc": {
   "base_numbering": 1,
   "nav_menu": {},
   "number_sections": true,
   "sideBar": true,
   "skip_h1_title": true,
   "title_cell": "Table of Contents",
   "title_sidebar": "Contents",
   "toc_cell": true,
   "toc_position": {},
   "toc_section_display": true,
   "toc_window_display": false
  }
 },
 "nbformat": 4,
 "nbformat_minor": 4
}
