{
 "cells": [
  {
   "cell_type": "code",
   "execution_count": 1,
   "metadata": {
    "code_folding": [],
    "slideshow": {
     "slide_type": "skip"
    }
   },
   "outputs": [
    {
     "data": {
      "text/html": [
       "<style>.prompt{width: 0px; min-width: 0px; visibility: collapse}</style>"
      ],
      "text/plain": [
       "<IPython.core.display.HTML object>"
      ]
     },
     "metadata": {},
     "output_type": "display_data"
    },
    {
     "data": {
      "text/html": [
       "<style>\n",
       "div#notebook {\n",
       " font-family: \"Exo_2\", sans-serif;\n",
       "}\n",
       "\n",
       ".rendered_html h1,\n",
       ".text_cell_render h1 {\n",
       " color: #126dce;\n",
       " font-size: 220%;\n",
       " text-align: center;\n",
       " font-weight: lighter;\n",
       "}\n",
       ".rendered_html h2,\n",
       ".text_cell_render h2 {\n",
       " text-align: center;\n",
       " font-size: 170%;\n",
       " color: #126dce;\n",
       " font-style: normal;\n",
       " font-weight: lighter;\n",
       "}\n",
       ".rendered_html h3,\n",
       ".text_cell_render h3 {\n",
       " font-size: 150%;\n",
       " color: #126dce;\n",
       " font-weight: lighter;\n",
       " text-decoration: italic;\n",
       " font-style: normal;\n",
       "}\n",
       ".rendered_html h4,\n",
       ".text_cell_render h4 {\n",
       " font-size: 120%;\n",
       " color: #126dce;\n",
       " font-weight: underline;\n",
       " font-style: normal;\n",
       "}\n",
       ".rendered_html h5,\n",
       ".text_cell_render h5 {\n",
       " font-size: 100%;\n",
       " color: #2f2f2f;\n",
       " font-weight: lighter;\n",
       " text-decoration: underline;\n",
       "}\n",
       "</style>\n"
      ],
      "text/plain": [
       "<IPython.core.display.HTML object>"
      ]
     },
     "metadata": {},
     "output_type": "display_data"
    }
   ],
   "source": [
    "# setup\n",
    "from IPython.core.display import display,HTML\n",
    "display(HTML('<style>.prompt{width: 0px; min-width: 0px; visibility: collapse}</style>'))\n",
    "display(HTML(open('rise.css').read()))\n",
    "\n",
    "# imports\n",
    "import numpy as np\n",
    "import matplotlib.pyplot as plt\n",
    "import seaborn as sns\n",
    "%matplotlib inline\n",
    "sns.set(style=\"whitegrid\", font_scale=1.5, rc={'figure.figsize':(12, 6)})\n"
   ]
  },
  {
   "cell_type": "markdown",
   "metadata": {
    "slideshow": {
     "slide_type": "slide"
    }
   },
   "source": [
    "# CMPS 2200\n",
    "# Introduction to Algorithms\n",
    "\n",
    "## Parallelism (Cont'd)\n",
    " "
   ]
  },
  {
   "cell_type": "markdown",
   "metadata": {
    "slideshow": {
     "slide_type": "slide"
    }
   },
   "source": [
    "## Parallelism (aka parallel computing)\n",
    "\n",
    "> ability to run multiple computations at the same time\n",
    "\n",
    "- faster\n",
    "- lower energy usage\n",
    "  + energy consumption is a cubic function of clock frequency\n",
    "- better hardware now available\n",
    "  + multicore processors & GPUs\n",
    "  \n",
    "  \n",
    "The **speedup** of a parellel algorithm $P$ over a sequential algorithms $S$ is:\n",
    "$$\n",
    "speedup(P,S) = \\frac{T(S)}{T(P)}\n",
    "$$\n",
    "\n",
    "  "
   ]
  },
  {
   "cell_type": "markdown",
   "metadata": {
    "slideshow": {
     "slide_type": "slide"
    }
   },
   "source": [
    "## Example: Summing a list\n",
    "\n",
    "Summing can easily be parallelised by splitting the input list into two (or $k$) pieces.\n",
    "\n",
    "```python\n",
    "def sum_list(mylist):\n",
    "    result = 0\n",
    "    for v in mylist:\n",
    "        result += v\n",
    "    return result\n",
    "\n",
    "```\n",
    "#### What is the cost?\n",
    "> assume the the length of mylist is $n$\n"
   ]
  },
  {
   "cell_type": "markdown",
   "metadata": {
    "slideshow": {
     "slide_type": "slide"
    }
   },
   "source": [
    "```python\n",
    "from multiprocessing.pool import ThreadPool\n",
    "\n",
    "def parallel_sum_list(mylist):\n",
    "    result1, result2 = in_parallel(\n",
    "        sum_list, mylist[:len(mylist)//2],\n",
    "        sum_list, mylist[len(mylist)//2:]\n",
    "    )\n",
    "    # combine results\n",
    "    return result1 + result2\n",
    "def in_parallel(f1, arg1, f2, arg2):\n",
    "    with ThreadPool(2) as pool:\n",
    "        result1 = pool.apply_async(f1, [arg1])  # launch f1\n",
    "        result2 = pool.apply_async(f2, [arg2])  # launch f2\n",
    "        return (result1.get(), result2.get())   # wait for both to finish  \n",
    "```\n",
    "\n",
    "\n",
    ">`parallel_sum_list` is almost twice as fast `sum_list` \n",
    "$O(\\frac{n}{2}) + O(1)$, where $O(1)$ to combine results\n",
    "\n",
    "\n",
    "\n",
    "\n"
   ]
  },
  {
   "cell_type": "markdown",
   "metadata": {
    "slideshow": {
     "slide_type": "slide"
    }
   },
   "source": [
    "## divide and conquer\n",
    "\n",
    "**idea**: \n",
    "- let threads create threads recursively https://www.programiz.com/python-programming/recursion\n",
    "- parallelize combination steps\n",
    "\n",
    "\n",
    "![dag-sum](figures/dag-sum1.png)  \n",
    "[source](https://homes.cs.washington.edu/~djg/teachingMaterials/spac/sophomoricParallelismAndConcurrency.pdf)\n"
   ]
  },
  {
   "cell_type": "code",
   "execution_count": 3,
   "metadata": {
    "slideshow": {
     "slide_type": "slide"
    }
   },
   "outputs": [
    {
     "name": "stdout",
     "output_type": "stream",
     "text": [
      "summing range(0, 10)\n",
      "summing range(0, 5)\n",
      "summing range(0, 2)\n",
      "summing range(0, 1)\n",
      "summing range(1, 2)\n",
      "summing range(2, 5)\n",
      "summing range(2, 3)\n",
      "summing range(3, 5)\n",
      "summing range(3, 4)\n",
      "summing range(4, 5)\n",
      "summing range(5, 10)\n",
      "summing range(5, 7)\n",
      "summing range(5, 6)\n",
      "summing range(6, 7)\n",
      "summing range(7, 10)\n",
      "summing range(7, 8)\n",
      "summing range(8, 10)\n",
      "summing range(8, 9)\n",
      "summing range(9, 10)\n"
     ]
    },
    {
     "data": {
      "text/plain": [
       "45"
      ]
     },
     "execution_count": 3,
     "metadata": {},
     "output_type": "execute_result"
    }
   ],
   "source": [
    "# recursive, serial\n",
    "def sum_list_recursive(mylist):    \n",
    "    print('summing %s' % mylist)\n",
    "    if len(mylist) == 1:\n",
    "        return mylist[0]\n",
    "    return (\n",
    "        sum_list_recursive(mylist[:len(mylist)//2]) +\n",
    "        sum_list_recursive(mylist[len(mylist)//2:])\n",
    "    )\n",
    "\n",
    "sum_list_recursive(range(10))"
   ]
  },
  {
   "cell_type": "code",
   "execution_count": 6,
   "metadata": {
    "slideshow": {
     "slide_type": "slide"
    }
   },
   "outputs": [
    {
     "name": "stdout",
     "output_type": "stream",
     "text": [
      "summing range(0, 10)\n",
      "summing range(0, 5)\n",
      "summing range(5, 10)\n",
      "summing range(0, 2)\n",
      "summing range(2, 5)\n",
      "summing range(5, 7)\n",
      "summing range(7, 10)\n",
      "summing range(0, 1)\n",
      "summing range(1, 2)\n",
      "summing range(2, 3)\n",
      "summing range(3, 5)\n",
      "summing range(5, 6)\n",
      "summing range(6, 7)\n",
      "summing range(7, 8)\n",
      "summing range(8, 10)\n",
      ">>>merging 0 and 1\n",
      ">>>merging 5 and 6\n",
      "summing range(3, 4)\n",
      "summing range(4, 5)\n",
      ">>>merging 3 and 4\n",
      "summing range(8, 9)\n",
      "summing range(9, 10)\n",
      ">>>merging 2 and 7\n",
      ">>>merging 8 and 9\n",
      ">>>merging 7 and 17\n",
      ">>>merging 1 and 9\n",
      ">>>merging 11 and 24\n",
      ">>>merging 10 and 35\n"
     ]
    },
    {
     "data": {
      "text/plain": [
       "45"
      ]
     },
     "execution_count": 6,
     "metadata": {},
     "output_type": "execute_result"
    }
   ],
   "source": [
    "# recursive, parallel\n",
    "def sum_list_recursive_parallel(mylist):    \n",
    "    print('summing %s' % mylist)\n",
    "    if len(mylist) == 1:\n",
    "        return mylist[0]\n",
    "    \n",
    "    # each thread spawns more threads\n",
    "    result1, result2 = in_parallel(\n",
    "        sum_list_recursive_parallel, mylist[:len(mylist)//2],\n",
    "        sum_list_recursive_parallel, mylist[len(mylist)//2:]\n",
    "    )\n",
    "    print('>>>merging %s and %s' % (result1, result2))\n",
    "    return result1 + result2\n",
    "\n",
    "sum_list_recursive_parallel(range(10))"
   ]
  },
  {
   "cell_type": "markdown",
   "metadata": {
    "slideshow": {
     "slide_type": "slide"
    }
   },
   "source": [
    "## Analyzing parallel algorithms\n",
    "\n",
    "> **work**: total number of primitive operations performed by an algorithm\n",
    "\n",
    "- For sequential machine, just total sequential time.\n",
    "- On parallel machine, work is divided among $P$ processors\n",
    "\n",
    "> **perfect speedup**: dividing $W$ work across $P$ processors yields total time $\\frac{W}{P}$\n",
    "\n",
    "> **span**: longest sequence of dependencies in computation\n",
    "- time to run with an infinite number of processors\n",
    "- measure of how \"parallelized\" an algorithm is \n",
    "- also called: *critical path length* or *computational depth*"
   ]
  },
  {
   "cell_type": "markdown",
   "metadata": {
    "slideshow": {
     "slide_type": "slide"
    }
   },
   "source": [
    "\n",
    "## Intuition\n",
    ">**work**: total energy consumed by a computation  \n",
    ">**span**: minimum possible time that the computation requires\n",
    "\n",
    "<br><br>      \n",
    "        \n",
    ">**work**: $T_1$ = time using one processor  \n",
    ">**span**: $T_\\infty$ = time using $\\infty$ processors\n",
    "\n",
    "> **parallelism** = $\\frac{T_1}{T_\\infty}$  \n",
    "> maximum possible speedup with unlimited processors"
   ]
  },
  {
   "cell_type": "markdown",
   "metadata": {
    "slideshow": {
     "slide_type": "slide"
    }
   },
   "source": [
    "## Computation Graph\n",
    "\n",
    "![dag](figures/dag.png)  \n",
    "[source](https://homes.cs.washington.edu/~djg/teachingMaterials/spac/sophomoricParallelismAndConcurrency.pdf)\n",
    "\n",
    "- Directed-acyclic graph (DAG) where\n",
    "  - Each node is a unit of computation $(O(1))$\n",
    "  - An edge is a **computational dependency**\n",
    "    - Edge from node $A$ and $B$ means $A$ must complete before $B$ begins\n",
    "    \n",
    "> **work**: total number of primitive operations performed by an algorithm  \n",
    "> **span**: longest sequence of dependencies in computation\n",
    "\n"
   ]
  },
  {
   "cell_type": "markdown",
   "metadata": {
    "slideshow": {
     "slide_type": "slide"
    }
   },
   "source": [
    "#### So, what is work and span for `sum_list_recursive_parallel`? \n",
    "\n",
    "**work**: number of nodes\n",
    "\n",
    "**span**: length of longest path"
   ]
  },
  {
   "cell_type": "markdown",
   "metadata": {
    "slideshow": {
     "slide_type": "fragment"
    }
   },
   "source": [
    "What is the height of a balanced binary tree with $n$ nodes?"
   ]
  },
  {
   "cell_type": "markdown",
   "metadata": {
    "slideshow": {
     "slide_type": "fragment"
    }
   },
   "source": [
    "> $O(\\log_2 n)$\n",
    "\n",
    "\n",
    "- Number of leaf nodes in a perfect binary tree is $2^h$.\n",
    "- To add an array of length $n$, the computation graph has $2 * 2^{(\\log_2 n)} +n = 3n$ nodes.\n",
    "\n",
    "<br>\n",
    "\n",
    "so, \n",
    "\n",
    "**work**: $3n \\in O(n)$  \n",
    "**span**: $2 \\log_2 n \\in O(\\log_2 n)$\n",
    "\n",
    "<br>\n",
    "\n",
    "**parallelism**: $O(\\frac{n}{\\log_2 n})$ = **exponential speedup**\n",
    "\n",
    "<br><br>\n",
    "\n",
    "### Work Efficiency\n",
    "\n",
    "> A parallel algorithm is (asymptotically) **work efficient** if the work is asymptotically the same as the time for an optimal sequential algorithm that solves the same problem.\n",
    "\n",
    "Since $T_{\\hbox{sequential}} = T_1 = O(n)$, our parallel algorithm is work efficient"
   ]
  },
  {
   "cell_type": "markdown",
   "metadata": {
    "slideshow": {
     "slide_type": "slide"
    }
   },
   "source": [
    "## Using $p$ processors\n",
    "\n",
    "Of course, we don't have $\\infty$ processors. What if we only have $p$?\n",
    "\n",
    "It can be shown that (and will be shown in lecture 4):\n",
    "\n",
    "$T_p \\leq \\frac{T_1}{p} + T_\\infty$  \n",
    "$T_p \\in O(\\frac{T_1}{p} + T_\\infty)$\n",
    "\n",
    "So, assuming $\\log_2 n$ processors, our parallel sum algorithm has time\n",
    "\n",
    "$O(\\frac{n}{\\log_2 n} + \\log_2 n)$\n",
    "\n",
    "compared to $O(n)$ of serial algorithm.\n",
    "\n"
   ]
  },
  {
   "cell_type": "markdown",
   "metadata": {
    "slideshow": {
     "slide_type": "slide"
    }
   },
   "source": [
    "## Amdahl's Law\n",
    "\n",
    "As seen above, some parts of parallel algorithms are sequential.\n",
    "\n",
    "We expect that the bigger the \"sequential\" part of the parallel algorithm is, the lower its speedup.\n",
    "\n",
    "How bad is a little bit of sequential code?\n"
   ]
  },
  {
   "cell_type": "markdown",
   "metadata": {
    "slideshow": {
     "slide_type": "fragment"
    }
   },
   "source": [
    "- Let $T_1$ be the total time of the parallel algorithm on one processor. Let's set this value to 1.\n",
    "- Let $S$ be the amount of time that cannot be parallelized.\n",
    "- Assume (generously) that the remaining time (1-S) gets perfect speedup using $p$ processors.\n",
    "- Then we have\n",
    "\n",
    "$T_1 = S + (1-S) = 1$  \n",
    "$T_P = S + \\frac{(1-S)}{p}$\n",
    "\n",
    "\n",
    "<br><br>\n",
    "**Amdahl's Law**\n",
    "\n",
    "$$\\frac{T_1}{T_p} = \\frac{1}{S + \\frac{1 − S}{p}}$$\n",
    "\n",
    "speedup using $p$ processors is limited by the fraction of the algorithm that is parallelizable."
   ]
  },
  {
   "cell_type": "code",
   "execution_count": 8,
   "metadata": {
    "code_folding": [
     0
    ],
    "slideshow": {
     "slide_type": "slide"
    }
   },
   "outputs": [
    {
     "data": {
      "image/png": "[encoded data removed]",
      "text/plain": [
       "<Figure size 640x480 with 1 Axes>"
      ]
     },
     "metadata": {},
     "output_type": "display_data"
    }
   ],
   "source": [
    "# plot amdahl's law\n",
    "import matplotlib.pyplot as plt\n",
    "processors = [1,2,4,8,16,32,64,128,256,512,1024]\n",
    "parallel_portions = [.5, .75, .9, .95]\n",
    "plt.figure()\n",
    "for parallel_portion in parallel_portions:\n",
    "    S = 1 - parallel_portion\n",
    "    speedups = [1 / (S + (1-S)/p) for p in processors]\n",
    "    plt.plot(processors, speedups, label='%.2f parallelizable' % parallel_portion)\n",
    "plt.legend()\n",
    "plt.ylabel('speedup')\n",
    "plt.xlabel('number of processors')\n",
    "plt.title(\"Amdahl's Law\")\n",
    "plt.show()\n",
    "        "
   ]
  },
  {
   "cell_type": "markdown",
   "metadata": {
    "slideshow": {
     "slide_type": "fragment"
    }
   },
   "source": [
    "If 95% of the program can be parallelized, the theoretical maximum speedup using parallel computing would be 20 times.\n",
    "\n",
    "If 50% of the program can be parallelized, the theoretical maximum speedup using parallel computing would be 2 times.\n",
    "\n",
    "**even if you have a billion processors!**"
   ]
  },
  {
   "cell_type": "markdown",
   "metadata": {
    "slideshow": {
     "slide_type": "fragment"
    }
   },
   "source": [
    "**Reasons for hope:**\n",
    "\n",
    "As number of processors grow, span becomes more important than work.\n",
    "- scalability matters more than performance\n",
    "- we can tradeoff work and span in algorithm choice\n",
    "\n",
    "Allows us to do new things we couldn't do before:\n",
    "- consider **computer graphics**: rendering many pixels in parallel allows more accurate images"
   ]
  }
 ],
 "metadata": {
  "celltoolbar": "Slideshow",
  "kernelspec": {
   "display_name": "Python 3 (ipykernel)",
   "language": "python",
   "name": "python3"
  },
  "language_info": {
   "codemirror_mode": {
    "name": "ipython",
    "version": 3
   },
   "file_extension": ".py",
   "mimetype": "text/x-python",
   "name": "python",
   "nbconvert_exporter": "python",
   "pygments_lexer": "ipython3",
   "version": "3.8.2"
  },
  "rise": {
   "autolaunch": true,
   "controls": false,
   "enable_chalkboard": true,
   "scroll": true,
   "theme": "simple",
   "transition": "fade"
  },
  "toc": {
   "base_numbering": 1,
   "nav_menu": {},
   "number_sections": true,
   "sideBar": true,
   "skip_h1_title": true,
   "title_cell": "Table of Contents",
   "title_sidebar": "Contents",
   "toc_cell": true,
   "toc_position": {},
   "toc_section_display": true,
   "toc_window_display": false
  }
 },
 "nbformat": 4,
 "nbformat_minor": 4
}
