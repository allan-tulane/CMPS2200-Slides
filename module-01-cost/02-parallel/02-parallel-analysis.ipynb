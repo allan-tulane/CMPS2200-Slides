{
 "cells": [
  {
   "cell_type": "code",
   "execution_count": 1,
   "metadata": {
    "code_folding": [],
    "id": "9bySclPKT4I0",
    "outputId": "9fa71b58-b73a-4d1e-83f9-a63e1441aaba",
    "slideshow": {
     "slide_type": "skip"
    }
   },
   "outputs": [
    {
     "name": "stderr",
     "output_type": "stream",
     "text": [
      "/var/folders/8t/f5lr_py56_78f39pmpx4l3sm0000gn/T/ipykernel_2842/1435612826.py:2: DeprecationWarning: Importing display from IPython.core.display is deprecated since IPython 7.14, please import from IPython display\n",
      "  from IPython.core.display import display,HTML\n"
     ]
    },
    {
     "data": {
      "text/html": [
       "<style>.prompt{width: 0px; min-width: 0px; visibility: collapse}</style>"
      ],
      "text/plain": [
       "<IPython.core.display.HTML object>"
      ]
     },
     "metadata": {},
     "output_type": "display_data"
    },
    {
     "data": {
      "text/html": [
       "<style>\n",
       "div#notebook {\n",
       " font-family: \"Exo_2\", sans-serif;\n",
       "}\n",
       "\n",
       ".rendered_html h1,\n",
       ".text_cell_render h1 {\n",
       " color: #126dce;\n",
       " font-size: 220%;\n",
       " text-align: center;\n",
       " font-weight: lighter;\n",
       "}\n",
       ".rendered_html h2,\n",
       ".text_cell_render h2 {\n",
       " text-align: center;\n",
       " font-size: 170%;\n",
       " color: #126dce;\n",
       " font-style: normal;\n",
       " font-weight: lighter;\n",
       "}\n",
       ".rendered_html h3,\n",
       ".text_cell_render h3 {\n",
       " font-size: 150%;\n",
       " color: #126dce;\n",
       " font-weight: lighter;\n",
       " text-decoration: italic;\n",
       " font-style: normal;\n",
       "}\n",
       ".rendered_html h4,\n",
       ".text_cell_render h4 {\n",
       " font-size: 120%;\n",
       " color: #126dce;\n",
       " font-weight: underline;\n",
       " font-style: normal;\n",
       "}\n",
       ".rendered_html h5,\n",
       ".text_cell_render h5 {\n",
       " font-size: 100%;\n",
       " color: #2f2f2f;\n",
       " font-weight: lighter;\n",
       " text-decoration: underline;\n",
       "}\n",
       "</style>\n"
      ],
      "text/plain": [
       "<IPython.core.display.HTML object>"
      ]
     },
     "metadata": {},
     "output_type": "display_data"
    }
   ],
   "source": [
    "# setup\n",
    "from IPython.core.display import display,HTML\n",
    "display(HTML('<style>.prompt{width: 0px; min-width: 0px; visibility: collapse}</style>'))\n",
    "display(HTML(open('rise.css').read()))\n",
    "\n",
    "# imports\n",
    "import numpy as np\n",
    "import matplotlib.pyplot as plt\n",
    "import seaborn as sns\n",
    "%matplotlib inline\n",
    "sns.set(style=\"whitegrid\", font_scale=1.5, rc={'figure.figsize':(12, 6)})\n"
   ]
  },
  {
   "cell_type": "markdown",
   "metadata": {
    "id": "149QztHaT4I4",
    "slideshow": {
     "slide_type": "slide"
    }
   },
   "source": [
    "# CMPS 2200\n",
    "# Introduction to Algorithm\n",
    "\n",
    "\n",
    "## Parallelism and Analysis\n"
   ]
  },
  {
   "cell_type": "markdown",
   "metadata": {
    "slideshow": {
     "slide_type": "slide"
    }
   },
   "source": [
    "## Parallelism (aka parallel computing)\n",
    "\n",
    "> ability to run multiple computations at the same time\n",
    "\n",
    "- faster\n",
    "- lower energy usage\n",
    "- better hardware now available\n"
   ]
  },
  {
   "cell_type": "markdown",
   "metadata": {
    "id": "O7Ny6e9JT4I8",
    "outputId": "43a3e8f7-f4b7-428a-b430-f2e256c3b52e",
    "slideshow": {
     "slide_type": "slide"
    }
   },
   "source": [
    "### Pure Computation\n",
    "\n",
    "\n",
    "<span style=\"color:orange\">**Question**</span>: Does this function have side effects?\n",
    "\n",
    "\n",
    "```python\n",
    "\n",
    "def sum_list(mylist):\n",
    "    result = 0\n",
    "    for v in mylist:\n",
    "        result += v\n",
    "    return result\n",
    "\n",
    "```\n",
    "\n",
    "\n",
    "\n",
    "<br>\n",
    "\n",
    "<span style=\"color:red\">**Question**</span>: What is the running time? Note that the length of $mylist$ is $n$.\n"
   ]
  },
  {
   "cell_type": "markdown",
   "metadata": {
    "id": "VWQUD_MeT4I9",
    "outputId": "31a221ee-6fe0-4b59-da8b-a33a9365e84f",
    "slideshow": {
     "slide_type": "fragment"
    }
   },
   "source": [
    "#### Parallel Algorithm\n",
    "\n",
    "```python \n",
    "def parallel_sum_list(mylist):\n",
    "    result1, result2 = in_parallel(\n",
    "        sum_list, mylist[:len(mylist)//2],\n",
    "        sum_list, mylist[len(mylist)//2:]\n",
    "    )\n",
    "    # combine results\n",
    "    return result1 + result2\n",
    "\n",
    "```\n",
    "\n",
    "<span style=\"color:red\">**Question**</span>: What is the running time when we have 2 processors? Note that the length of $mylist$ is $n$.\n"
   ]
  },
  {
   "cell_type": "markdown",
   "metadata": {
    "id": "ZvTjOTGYT4I-",
    "slideshow": {
     "slide_type": "slide"
    }
   },
   "source": [
    "\n",
    "\n",
    "The **speedup** of a parellel algorithm $P$ over a sequential algorithm $S$ is:\n",
    "$$\n",
    "\\text{speedup}(P,S) = \\frac{T(S)}{T(P)} \n",
    "$$\n",
    "\n",
    "<br>\n",
    "<br>\n",
    "\n",
    "<span style=\"color:blue\">**Question**</span>: How shall we analyze paralell algorithms? \n"
   ]
  },
  {
   "cell_type": "markdown",
   "metadata": {
    "slideshow": {
     "slide_type": "fragment"
    }
   },
   "source": [
    "For a project, worker **A** can complete the work alone in 2 days, earning $200 per day. \n",
    "\n",
    "Now, suppose worker **B** joins, and **A** and **B** have the same capability. \n",
    "\n",
    "- How many days will it take for them to finish the project together? \n",
    "\n",
    "- What will be the total cost of paying both workers? \n",
    "\n",
    "- What about if we have more workers?"
   ]
  },
  {
   "cell_type": "markdown",
   "metadata": {
    "id": "udgfj94_T4I_",
    "slideshow": {
     "slide_type": "slide"
    }
   },
   "source": [
    "## Analyzing parallel algorithms\n",
    "\n",
    "> **work**: total number of primitive operations performed by an algorithm\n",
    "\n",
    "\n",
    "- For sequential machine, just total sequential time. \n",
    "- On parallel machine, work is divided among $P$ processors\n",
    "\n"
   ]
  },
  {
   "cell_type": "markdown",
   "metadata": {
    "id": "kAHZJIRcT4I_",
    "slideshow": {
     "slide_type": "fragment"
    }
   },
   "source": [
    "> **perfect speedup**: dividing $W$ work across $P$ processors yields total time $\\frac{W}{P}$"
   ]
  },
  {
   "cell_type": "markdown",
   "metadata": {
    "id": "5qz2IYfkT4I_",
    "slideshow": {
     "slide_type": "fragment"
    }
   },
   "source": [
    "> **span**: longest sequence of dependencies in computation\n",
    "- time to run with an infinite number of processors\n",
    "- measure of how \"parallelized\" an algorithm is\n",
    "- also called: **critical path length** or **computational depth**"
   ]
  },
  {
   "cell_type": "markdown",
   "metadata": {
    "id": "UZZO28nNT4I_",
    "slideshow": {
     "slide_type": "slide"
    }
   },
   "source": [
    "\n",
    "## More Intuition\n",
    "\n",
    ">**work**: $T_1$ = time using one processor  \n",
    ">**span**: $T_\\infty$ = time using $\\infty$ processors\n",
    "\n",
    "\n",
    ">**work**: total energy consumed by a computation  \n",
    ">**span**: minimum possible time that the computation requires\n",
    "\n",
    "\n",
    "> **parallelism** = $\\frac{T_1}{T_\\infty}$  \n",
    "> maximum possible speedup with unlimited processors"
   ]
  },
  {
   "cell_type": "markdown",
   "metadata": {
    "id": "kS04GiYbT4I_",
    "slideshow": {
     "slide_type": "slide"
    }
   },
   "source": [
    "Summing can easily be parallelised by splitting the input list into two (or $k$) pieces.\n",
    "\n",
    "> [1, 2, 3, 4, 5, 6, 7, 8, 9, 10, 11, 12, 13, 14, 15, 16, 17, 18, 19, 20]\n",
    "\n",
    "\n",
    "**What is work and span of `parallel_sum_list` algorithm using $n$ threads?**\n"
   ]
  },
  {
   "cell_type": "code",
   "execution_count": 4,
   "metadata": {
    "slideshow": {
     "slide_type": "fragment"
    }
   },
   "outputs": [
    {
     "data": {
      "text/plain": [
       "45"
      ]
     },
     "execution_count": 4,
     "metadata": {},
     "output_type": "execute_result"
    }
   ],
   "source": [
    "def in_parallel_n(tasks):\n",
    "    \"\"\"\n",
    "    generalize in_parallel for n threads.\n",
    "    \n",
    "    Params:\n",
    "      tasks: list of (function, argument) tuples to run in parallel\n",
    "      \n",
    "    Returns:\n",
    "      list of results\n",
    "    \"\"\"\n",
    "    with ThreadPool(len(tasks)) as pool:\n",
    "        results = []\n",
    "        for func, arg in tasks:\n",
    "            results.append(pool.apply_async(func, [arg]))\n",
    "        return [r.get() for r in results]\n",
    "\n",
    "\n",
    "def parallel_n_sum_list(mylist):\n",
    " \n",
    "    result = 0\n",
    "    for v in results:\n",
    "        result += v\n",
    "    return result\n",
    "\n",
    "parallel_n_sum_list(range(10))"
   ]
  },
  {
   "cell_type": "markdown",
   "metadata": {
    "id": "NBVWROrDT4JA",
    "slideshow": {
     "slide_type": "fragment"
    }
   },
   "source": [
    "- work: $O(n)$\n",
    "- span: $O(n)$\n"
   ]
  },
  {
   "cell_type": "markdown",
   "metadata": {
    "id": "ZOlH1Z7gT4JA",
    "slideshow": {
     "slide_type": "fragment"
    }
   },
   "source": [
    "**oops** that didn't work...\n",
    "\n",
    "<br>\n",
    "\n",
    "can we do better?"
   ]
  },
  {
   "cell_type": "markdown",
   "metadata": {
    "id": "OreE_unnT4JA",
    "slideshow": {
     "slide_type": "slide"
    }
   },
   "source": [
    "**Idea: Recursive Algorithm**\n",
    "- let threads create threads recursively [**Example**:] https://www.programiz.com/python-programming/recursion\n",
    "\n",
    "- parallelize multiple threads\n",
    "\n",
    "\n"
   ]
  },
  {
   "cell_type": "markdown",
   "metadata": {
    "id": "9WJCzbqqT4JA",
    "slideshow": {
     "slide_type": "slide"
    }
   },
   "source": [
    "## Divide-and-Conquer\n",
    "\n",
    "![dag-sum](figures/dag-sum.png)  \n",
    "[source](https://homes.cs.washington.edu/~djg/teachingMaterials/spac/sophomoricParallelismAndConcurrency.pdf)\n"
   ]
  },
  {
   "cell_type": "code",
   "execution_count": null,
   "metadata": {
    "slideshow": {
     "slide_type": "slide"
    }
   },
   "outputs": [],
   "source": [
    "# recursive, serial\n",
    "def sum_list_recursive(mylist):\n",
    "    print('summing %s' % mylist)\n",
    "    if len(mylist) == 1:\n",
    "        return mylist[0]\n",
    "    return (\n",
    "        sum_list_recursive(mylist[:len(mylist)//2]) +\n",
    "        sum_list_recursive(mylist[len(mylist)//2:])\n",
    "    )\n",
    "\n",
    "sum_list_recursive(range(10))"
   ]
  },
  {
   "cell_type": "code",
   "execution_count": null,
   "metadata": {
    "slideshow": {
     "slide_type": "slide"
    }
   },
   "outputs": [],
   "source": [
    "# recursive, parallel\n",
    "def sum_list_recursive_parallel(mylist):\n",
    "    print('summing %s' % mylist)\n",
    "    if len(mylist) == 1:\n",
    "        return mylist[0]\n",
    "\n",
    "    # each thread spawns more threads\n",
    "    result1, result2 = in_parallel(\n",
    "        sum_list_recursive_parallel, mylist[:len(mylist)//2],\n",
    "        sum_list_recursive_parallel, mylist[len(mylist)//2:]\n",
    "    )\n",
    "    print('>>>merging %s and %s' % (result1, result2))\n",
    "    return result1 + result2\n",
    "\n",
    "sum_list_recursive_parallel(range(10))"
   ]
  },
  {
   "cell_type": "markdown",
   "metadata": {
    "id": "_p-gLkMuT4JB",
    "slideshow": {
     "slide_type": "slide"
    }
   },
   "source": [
    "## Computation Graph\n",
    "\n",
    "![dag](figures/dag.png)  \n",
    "[source](https://homes.cs.washington.edu/~djg/teachingMaterials/spac/sophomoricParallelismAndConcurrency.pdf)\n",
    "\n",
    "- Directed-acyclic graph (DAG) where\n",
    "  - Each node is a unit of computation $(O(1))$\n",
    "  - An edge is a **computational dependency**\n",
    "    - Edge from node $A$ and $B$ means $A$ must complete before $B$ begins\n",
    "    \n",
    "> **work**: total number of primitive operations performed by an algorithm  \n",
    "> **span**: longest sequence of dependencies in computation\n",
    "\n"
   ]
  },
  {
   "cell_type": "markdown",
   "metadata": {
    "id": "IqtdOxMnT4JB",
    "slideshow": {
     "slide_type": "slide"
    }
   },
   "source": [
    "#### So, what is work and span for `sum_list_recursive_parallel`?\n",
    "\n",
    "**work**: number of nodes\n",
    "\n",
    "**span**: length of longest path"
   ]
  },
  {
   "cell_type": "markdown",
   "metadata": {
    "id": "Y_vO3eG4T4JB",
    "slideshow": {
     "slide_type": "fragment"
    }
   },
   "source": [
    "What is the height of a balanced binary tree with $n$ nodes?"
   ]
  },
  {
   "cell_type": "markdown",
   "metadata": {
    "id": "OW9ohyNET4JB",
    "slideshow": {
     "slide_type": "fragment"
    }
   },
   "source": [
    "\n",
    "> $\\mathcal{O}(\\log_2 n)$\n",
    "\n",
    "\n",
    "- Number of leaf nodes in a perfect binary tree is $2^h$.\n",
    "- To add an array of length $n$, the computation graph has $3n-2$ nodes.\n",
    "\n",
    "<br>\n",
    "\n",
    "so,\n",
    "\n",
    "**work**: $3n-2 \\in \\mathcal{O}(n)$  \n",
    "**span**: $2 \\log_2 n \\in \\mathcal{O}(\\log_2 n)$\n",
    "\n",
    "<br>\n",
    "\n",
    "**parallelism**: $\\mathcal{O}(\\frac{n}{\\log_2 n})$ = **exponential speedup**\n",
    "\n",
    "\n"
   ]
  }
 ],
 "metadata": {
  "celltoolbar": "Slideshow",
  "colab": {
   "provenance": []
  },
  "kernelspec": {
   "display_name": "Python 3 (ipykernel)",
   "language": "python",
   "name": "python3"
  },
  "language_info": {
   "codemirror_mode": {
    "name": "ipython",
    "version": 3
   },
   "file_extension": ".py",
   "mimetype": "text/x-python",
   "name": "python",
   "nbconvert_exporter": "python",
   "pygments_lexer": "ipython3",
   "version": "3.9.6"
  },
  "rise": {
   "autolaunch": true,
   "controls": false,
   "enable_chalkboard": true,
   "scroll": true,
   "theme": "simple",
   "transition": "fade"
  },
  "toc": {
   "base_numbering": 1,
   "nav_menu": {},
   "number_sections": true,
   "sideBar": true,
   "skip_h1_title": true,
   "title_cell": "Table of Contents",
   "title_sidebar": "Contents",
   "toc_cell": true,
   "toc_position": {},
   "toc_section_display": true,
   "toc_window_display": false
  }
 },
 "nbformat": 4,
 "nbformat_minor": 1
}
