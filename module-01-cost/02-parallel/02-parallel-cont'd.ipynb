{
 "cells": [
  {
   "cell_type": "code",
   "execution_count": 1,
   "metadata": {
    "code_folding": [],
    "id": "9bySclPKT4I0",
    "outputId": "9fa71b58-b73a-4d1e-83f9-a63e1441aaba",
    "slideshow": {
     "slide_type": "skip"
    }
   },
   "outputs": [
    {
     "name": "stderr",
     "output_type": "stream",
     "text": [
      "/var/folders/hr/xk7y44053qvd12l_1mpwdnk40000gn/T/ipykernel_49018/1435612826.py:2: DeprecationWarning: Importing display from IPython.core.display is deprecated since IPython 7.14, please import from IPython display\n",
      "  from IPython.core.display import display,HTML\n"
     ]
    },
    {
     "data": {
      "text/html": [
       "<style>.prompt{width: 0px; min-width: 0px; visibility: collapse}</style>"
      ],
      "text/plain": [
       "<IPython.core.display.HTML object>"
      ]
     },
     "metadata": {},
     "output_type": "display_data"
    },
    {
     "data": {
      "text/html": [
       "<style>\n",
       "div#notebook {\n",
       " font-family: \"Exo_2\", sans-serif;\n",
       "}\n",
       "\n",
       ".rendered_html h1,\n",
       ".text_cell_render h1 {\n",
       " color: #126dce;\n",
       " font-size: 220%;\n",
       " text-align: center;\n",
       " font-weight: lighter;\n",
       "}\n",
       ".rendered_html h2,\n",
       ".text_cell_render h2 {\n",
       " text-align: center;\n",
       " font-size: 170%;\n",
       " color: #126dce;\n",
       " font-style: normal;\n",
       " font-weight: lighter;\n",
       "}\n",
       ".rendered_html h3,\n",
       ".text_cell_render h3 {\n",
       " font-size: 150%;\n",
       " color: #126dce;\n",
       " font-weight: lighter;\n",
       " text-decoration: italic;\n",
       " font-style: normal;\n",
       "}\n",
       ".rendered_html h4,\n",
       ".text_cell_render h4 {\n",
       " font-size: 120%;\n",
       " color: #126dce;\n",
       " font-weight: underline;\n",
       " font-style: normal;\n",
       "}\n",
       ".rendered_html h5,\n",
       ".text_cell_render h5 {\n",
       " font-size: 100%;\n",
       " color: #2f2f2f;\n",
       " font-weight: lighter;\n",
       " text-decoration: underline;\n",
       "}\n",
       "</style>\n"
      ],
      "text/plain": [
       "<IPython.core.display.HTML object>"
      ]
     },
     "metadata": {},
     "output_type": "display_data"
    }
   ],
   "source": [
    "# setup\n",
    "from IPython.core.display import display,HTML\n",
    "display(HTML('<style>.prompt{width: 0px; min-width: 0px; visibility: collapse}</style>'))\n",
    "display(HTML(open('rise.css').read()))\n",
    "\n",
    "# imports\n",
    "import numpy as np\n",
    "import matplotlib.pyplot as plt\n",
    "import seaborn as sns\n",
    "%matplotlib inline\n",
    "sns.set(style=\"whitegrid\", font_scale=1.5, rc={'figure.figsize':(12, 6)})\n"
   ]
  },
  {
   "cell_type": "markdown",
   "metadata": {
    "id": "149QztHaT4I4",
    "slideshow": {
     "slide_type": "slide"
    }
   },
   "source": [
    "# CMPS 2200\n",
    "# Introduction to Algorithms\n",
    "\n",
    "## Parallelism (Cont'd)\n"
   ]
  },
  {
   "cell_type": "markdown",
   "metadata": {
    "id": "RuVHMX7bT4I7",
    "slideshow": {
     "slide_type": "slide"
    }
   },
   "source": [
    "## Example: Summing a list\n",
    "\n",
    "Summing can easily be parallelised by splitting the input list into two (or $k$) pieces.\n",
    "\n",
    "#### Sequential Version \n",
    "\n",
    "```python \n",
    "\n",
    "def sum_list(mylist):\n",
    "    result = 0\n",
    "    for v in mylist:\n",
    "        result += v\n",
    "    return result\n",
    "\n",
    "sum_list(range(10))\n",
    "\n",
    "```\n",
    "\n",
    "<br>\n",
    "\n",
    "> <span style=\"color:red\">**Question**</span>:  What is the time cost? [It means the input length is $n$]"
   ]
  },
  {
   "cell_type": "markdown",
   "metadata": {
    "slideshow": {
     "slide_type": "fragment"
    }
   },
   "source": [
    "\n",
    "\n",
    "####  Paralell Version\n",
    "\n",
    "```python\n",
    "\n",
    "from multiprocessing.pool import ThreadPool\n",
    "\n",
    "def in_parallel(f1, arg1, f2, arg2):\n",
    "    with ThreadPool(2) as pool:\n",
    "        result1 = pool.apply_async(f1, [arg1])  # launch f1\n",
    "        result2 = pool.apply_async(f2, [arg2])  # launch f2\n",
    "        return (result1.get(), result2.get())   # wait for both to finish\n",
    "\n",
    "def parallel_sum_list(mylist):\n",
    "    result1, result2 = in_parallel(\n",
    "        sum_list, mylist[:len(mylist)//2],\n",
    "        sum_list, mylist[len(mylist)//2:]\n",
    "    )\n",
    "    # combine results\n",
    "    return result1 + result2\n",
    "\n",
    "parallel_sum_list(list(range(10)))\n",
    "\n",
    "```"
   ]
  },
  {
   "cell_type": "markdown",
   "metadata": {
    "id": "ZvTjOTGYT4I-",
    "slideshow": {
     "slide_type": "slide"
    }
   },
   "source": [
    "\n",
    "\n",
    "The **speedup** of a parellel algorithm $P$ over a sequential algorithm $S$ is:\n",
    "$$\n",
    "\\text{speedup}(P,S) = \\frac{T(S)}{T(P)} \n",
    "$$\n",
    "\n"
   ]
  },
  {
   "cell_type": "markdown",
   "metadata": {
    "id": "nTUnYjIhT4I-",
    "slideshow": {
     "slide_type": "slide"
    }
   },
   "source": [
    "### Dependency\n",
    "\n",
    "> The fundamental challenge of parallel algorithms is that computations must be **independent** to be performed in parallel.  Parallel computations should not depend on each other."
   ]
  },
  {
   "cell_type": "markdown",
   "metadata": {
    "id": "XI61zNr7T4I-",
    "slideshow": {
     "slide_type": "fragment"
    }
   },
   "source": [
    "**What should this code output?**\n",
    "\n",
    "```python\n",
    "\n",
    "total = 0\n",
    "\n",
    "def count(size):\n",
    "    global total\n",
    "    for _ in range(size):\n",
    "        total += 1\n",
    "\n",
    "def race_condition_example():\n",
    "    global total\n",
    "    in_parallel(count, 100000,\n",
    "                count, 100000)\n",
    "    print(total)\n",
    "\n",
    "race_condition_example()\n",
    "\n",
    "```"
   ]
  },
  {
   "cell_type": "markdown",
   "metadata": {
    "id": "LBoR9FO5T4I_",
    "slideshow": {
     "slide_type": "slide"
    }
   },
   "source": [
    "#### Counting in parallel is hard!\n",
    "\n",
    "- motivates functional programming (next class)\n",
    "\n",
    "This course will focus on:\n",
    "- understanding when things can run in parallel and when they cannot\n",
    "- algorithm, not hardware specifics (though see CMPS 4760: Distributed Systems)\n",
    "\n",
    "<br>\n",
    "\n",
    "<span style=\"color:red\">**Question**</span>: How can we compare two parallel algorithms?"
   ]
  },
  {
   "cell_type": "markdown",
   "metadata": {
    "id": "udgfj94_T4I_",
    "slideshow": {
     "slide_type": "slide"
    }
   },
   "source": [
    "## Analyzing parallel algorithms\n",
    "\n",
    "> **work**: total number of primitive operations performed by an algorithm\n",
    "\n",
    "\n",
    "- For sequential machine, just total sequential time. \n",
    "- On parallel machine, work is divided among $P$ processors\n",
    "\n",
    "<br>\n",
    "\n",
    "- e.g., <span style=\"color:red\">**parallel_sum_list**</span>: input list $a$ ($n$ elements) $\\rightarrow$ ($a_1$, $a_2$) to a machine with 2 processors [increase to 4 processors or more]\n",
    "\n"
   ]
  },
  {
   "cell_type": "markdown",
   "metadata": {
    "id": "kAHZJIRcT4I_",
    "slideshow": {
     "slide_type": "fragment"
    }
   },
   "source": [
    "> **perfect speedup**: dividing $W$ work across $P$ processors yields total time $\\frac{W}{P}$\n",
    "\n",
    "> Unfortunately, we cannot achieve this. <span style=\"color:red\">**Why?**</span>"
   ]
  },
  {
   "cell_type": "markdown",
   "metadata": {
    "id": "5qz2IYfkT4I_",
    "slideshow": {
     "slide_type": "fragment"
    }
   },
   "source": [
    "> **span**: longest sequence of dependencies in computation\n",
    "- time to run with an infinite number of processors\n",
    "- measure of how \"parallelized\" an algorithm is\n",
    "- also called: **critical path length** or **computational depth**"
   ]
  },
  {
   "cell_type": "markdown",
   "metadata": {
    "id": "UZZO28nNT4I_",
    "slideshow": {
     "slide_type": "slide"
    }
   },
   "source": [
    "\n",
    "## More Intuition\n",
    "\n",
    ">**work**: $T_1$ = time using one processor  \n",
    ">**span**: $T_\\infty$ = time using $\\infty$ processors\n",
    "\n",
    "\n",
    ">**work**: total energy consumed by a computation  \n",
    ">**span**: minimum possible time that the computation requires\n",
    "\n",
    "\n",
    "> **parallelism** = $\\frac{T_1}{T_\\infty}$  \n",
    ">  <span style=\"color:red\">**maximum**</span> possible speedup with unlimited processors"
   ]
  },
  {
   "cell_type": "markdown",
   "metadata": {
    "id": "kS04GiYbT4I_",
    "slideshow": {
     "slide_type": "slide"
    }
   },
   "source": [
    "Summing can easily be parallelised by splitting the input list into two (or $k$) pieces.\n",
    "\n",
    "> [1, 2, 3, 4, 5, 6, 7, 8, 9, 10, 11, 12, 13, 14, 15, 16, 17, 18, 19, 20]\n",
    "\n",
    "\n",
    "**What is work and span of `parallel_sum_list` algorithm using $n$ threads?**\n"
   ]
  },
  {
   "cell_type": "code",
   "execution_count": 4,
   "metadata": {
    "slideshow": {
     "slide_type": "fragment"
    }
   },
   "outputs": [
    {
     "data": {
      "text/plain": [
       "45"
      ]
     },
     "execution_count": 4,
     "metadata": {},
     "output_type": "execute_result"
    }
   ],
   "source": [
    "def in_parallel_n(tasks):\n",
    "    \"\"\"\n",
    "    generalize in_parallel for n threads.\n",
    "    \n",
    "    Params:\n",
    "      tasks: list of (function, argument) tuples to run in parallel\n",
    "      \n",
    "    Returns:\n",
    "      list of results\n",
    "    \"\"\"\n",
    "    with ThreadPool(len(tasks)) as pool:\n",
    "        results = []\n",
    "        for func, arg in tasks:\n",
    "            results.append(pool.apply_async(func, [arg]))\n",
    "        return [r.get() for r in results]\n",
    "\n",
    "\n",
    "def parallel_n_sum_list(mylist):\n",
    "    results = in_parallel_n([ (sum_list, [v]) for v in mylist ])\n",
    "    # combine results...looks familiar...\n",
    "    result = 0\n",
    "    for v in results:\n",
    "        result += v\n",
    "    return result\n",
    "\n",
    "parallel_n_sum_list(range(10))"
   ]
  },
  {
   "cell_type": "markdown",
   "metadata": {
    "id": "NBVWROrDT4JA",
    "slideshow": {
     "slide_type": "fragment"
    }
   },
   "source": [
    "- work: $\\mathcal{O}(n)$\n",
    "- span: $\\mathcal{O}(n)$\n"
   ]
  },
  {
   "cell_type": "markdown",
   "metadata": {
    "id": "ZOlH1Z7gT4JA",
    "slideshow": {
     "slide_type": "fragment"
    }
   },
   "source": [
    "**oops** that didn't work...\n",
    "\n",
    "<br>\n",
    "\n",
    "can we do better?"
   ]
  },
  {
   "cell_type": "markdown",
   "metadata": {
    "id": "OreE_unnT4JA",
    "slideshow": {
     "slide_type": "slide"
    }
   },
   "source": [
    "**Idea: Recursive Algorithm**\n",
    "- let threads create threads recursively [**Example**:] https://www.programiz.com/python-programming/recursion\n",
    "\n",
    "- parallelize combination steps\n"
   ]
  },
  {
   "cell_type": "markdown",
   "metadata": {
    "id": "9WJCzbqqT4JA",
    "slideshow": {
     "slide_type": "slide"
    }
   },
   "source": [
    "## Divide-and-Conquer\n",
    "\n",
    "![dag-sum](figures/dag-sum.png)  \n",
    "[source](https://homes.cs.washington.edu/~djg/teachingMaterials/spac/sophomoricParallelismAndConcurrency.pdf)\n"
   ]
  },
  {
   "cell_type": "code",
   "execution_count": null,
   "metadata": {
    "slideshow": {
     "slide_type": "slide"
    }
   },
   "outputs": [],
   "source": [
    "# recursive, serial\n",
    "def sum_list_recursive(mylist):\n",
    "    print('summing %s' % mylist)\n",
    "    if len(mylist) == 1:\n",
    "        return mylist[0]\n",
    "    return (\n",
    "        sum_list_recursive(mylist[:len(mylist)//2]) +\n",
    "        sum_list_recursive(mylist[len(mylist)//2:])\n",
    "    )\n",
    "\n",
    "sum_list_recursive(range(10))"
   ]
  },
  {
   "cell_type": "code",
   "execution_count": null,
   "metadata": {
    "slideshow": {
     "slide_type": "slide"
    }
   },
   "outputs": [],
   "source": [
    "# recursive, parallel\n",
    "def sum_list_recursive_parallel(mylist):\n",
    "    print('summing %s' % mylist)\n",
    "    if len(mylist) == 1:\n",
    "        return mylist[0]\n",
    "\n",
    "    # each thread spawns more threads\n",
    "    result1, result2 = in_parallel(\n",
    "        sum_list_recursive_parallel, mylist[:len(mylist)//2],\n",
    "        sum_list_recursive_parallel, mylist[len(mylist)//2:]\n",
    "    )\n",
    "    print('>>>merging %s and %s' % (result1, result2))\n",
    "    return result1 + result2\n",
    "\n",
    "sum_list_recursive_parallel(range(10))"
   ]
  },
  {
   "cell_type": "markdown",
   "metadata": {
    "id": "_p-gLkMuT4JB",
    "slideshow": {
     "slide_type": "slide"
    }
   },
   "source": [
    "## Computation Graph\n",
    "\n",
    "![dag](figures/dag.png)  \n",
    "[source](https://homes.cs.washington.edu/~djg/teachingMaterials/spac/sophomoricParallelismAndConcurrency.pdf)\n",
    "\n",
    "- Directed-acyclic graph (DAG) where\n",
    "  - Each node is a unit of computation $(\\mathcal{O}(1))$\n",
    "  - An edge is a **computational dependency**\n",
    "    - Edge from node $A$ and $B$ means $A$ must complete before $B$ begins\n",
    "    \n",
    "> **work**: total number of primitive operations performed by an algorithm  \n",
    "> **span**: longest sequence of dependencies in computation\n",
    "\n"
   ]
  },
  {
   "cell_type": "markdown",
   "metadata": {
    "id": "IqtdOxMnT4JB",
    "slideshow": {
     "slide_type": "slide"
    }
   },
   "source": [
    "#### So, what is work and span for `sum_list_recursive_parallel`?\n",
    "\n",
    "**work**: number of nodes\n",
    "\n",
    "**span**: length of longest path"
   ]
  },
  {
   "cell_type": "markdown",
   "metadata": {
    "id": "Y_vO3eG4T4JB",
    "slideshow": {
     "slide_type": "fragment"
    }
   },
   "source": [
    "What is the height of a balanced binary tree with $n$ nodes?"
   ]
  },
  {
   "cell_type": "markdown",
   "metadata": {
    "id": "OW9ohyNET4JB",
    "slideshow": {
     "slide_type": "fragment"
    }
   },
   "source": [
    "> $\\mathcal{O}(\\log_2 n)$\n",
    "\n",
    "\n",
    "- Number of leaf nodes in a perfect binary tree is $2^h$.\n",
    "- To add an array of length $n$, the computation graph has $2 * 2^{(\\log_2 n)} = 2n$ nodes.\n",
    "\n",
    "<br>\n",
    "\n",
    "so,\n",
    "\n",
    "**work**: $2n \\in \\mathcal{O}(n)$  \n",
    "**span**: $2 \\log_2 n \\in \\mathcal{O}(\\log_2 n)$\n",
    "\n",
    "<br>\n",
    "\n",
    "**parallelism**: $\\mathcal{O}(\\frac{n}{\\log_2 n})$ = **exponential speedup**\n",
    "\n"
   ]
  },
  {
   "cell_type": "markdown",
   "metadata": {
    "slideshow": {
     "slide_type": "fragment"
    }
   },
   "source": [
    "\n",
    "### Work Efficiency\n",
    "\n",
    "> A parallel algorithm is (asymptotically) **work efficient** if the work is asymptotically the same as the time for an optimal sequential algorithm that solves the same problem.\n",
    "\n",
    "Since $T_{\\hbox{sequential}} = T_1 = \\mathcal{O}(n)$, our parallel algorithm is work efficient"
   ]
  },
  {
   "cell_type": "markdown",
   "metadata": {
    "id": "RwVx_NkAT4JB",
    "slideshow": {
     "slide_type": "slide"
    }
   },
   "source": [
    "## Using $p$ processors\n",
    "\n",
    "Of course, we don't have $\\infty$ processors. What if we only have $p$?\n",
    "\n",
    "It can be shown that:\n",
    "\n",
    "$$T_p \\leq \\frac{T_1}{p} + T_\\infty$$ or $$T_p \\in \\mathcal{O}(\\frac{T_1}{p} + T_\\infty)$$\n",
    "\n",
    "So, assuming $\\log_2 n$ processors, our parallel sum algorithm has time\n",
    "\n",
    "$\\mathcal{O}(\\frac{n}{\\log_2 n} + \\log_2 n)$\n",
    "\n",
    "compared to $\\mathcal{O}(n)$ of serial algorithm.\n",
    "\n"
   ]
  },
  {
   "cell_type": "markdown",
   "metadata": {
    "id": "SEU7M5-7T4JC",
    "slideshow": {
     "slide_type": "slide"
    }
   },
   "source": [
    "## Amdahl's Law\n",
    "\n",
    "As seen above, some parts of parallel algorithms are sequential.\n",
    "\n",
    "We expect that the bigger the \"sequential\" part of the parallel algorithm is, the lower its speedup.\n",
    "\n",
    "How bad is a little bit of sequential code?\n"
   ]
  },
  {
   "cell_type": "markdown",
   "metadata": {
    "id": "GLcpix9fT4JC",
    "slideshow": {
     "slide_type": "fragment"
    }
   },
   "source": [
    "- Let $T_1$ be the total time of the parallel algorithm on one processor. Let's set this value to 1.\n",
    "- Let $S$ be the amount of time that cannot be parallelized.\n",
    "- Assume (generously) that the remaining time (1-S) gets perfect speedup using $p$ processors.\n",
    "- Then we have\n",
    "\n",
    "$T_1 = S + (1-S) = 1$  \n",
    "$T_P = S + \\frac{(1-S)}{p}$\n",
    "\n",
    "\n",
    "<br><br>\n",
    "**Amdahl's Law**\n",
    "\n",
    "$$\\frac{T_1}{T_p} = \\frac{1}{S + \\frac{1 − S}{p}}$$\n",
    "\n",
    "speedup using $p$ processors is limited by the fraction of the algorithm that is parallelizable."
   ]
  },
  {
   "cell_type": "code",
   "execution_count": 5,
   "metadata": {
    "code_folding": [
     0
    ],
    "id": "P93qZOaxT4JC",
    "outputId": "8265ccb3-2324-41c3-b3dc-2740fa5f6d30",
    "slideshow": {
     "slide_type": "fragment"
    }
   },
   "outputs": [
    {
     "data": {
      "image/png": "[encoded data removed]",
      "text/plain": [
       "<Figure size 640x480 with 1 Axes>"
      ]
     },
     "metadata": {},
     "output_type": "display_data"
    }
   ],
   "source": [
    "# plot amdahl's law\n",
    "import matplotlib.pyplot as plt\n",
    "\n",
    "processors = [1,2,4,8,16,32,64,128,256,512,1024]\n",
    "parallel_portions = [.5, .75, .9, .95]\n",
    "plt.figure()\n",
    "for parallel_portion in parallel_portions:\n",
    "    S = 1 - parallel_portion\n",
    "    speedups = [1 / (S + (1-S)/p) for p in processors]\n",
    "    plt.plot(processors, speedups, label='%.2f parallelizable' % parallel_portion)\n",
    "plt.legend()\n",
    "plt.ylabel('speedup')\n",
    "plt.xlabel('number of processors')\n",
    "plt.title(\"Amdahl's Law\")\n",
    "plt.show()\n"
   ]
  },
  {
   "cell_type": "markdown",
   "metadata": {
    "id": "rp14HCvqT4JH",
    "slideshow": {
     "slide_type": "fragment"
    }
   },
   "source": [
    "If 95% of the program can be parallelized, the theoretical maximum speedup using parallel computing would be 20 times.\n",
    "\n",
    "If 50% of the program can be parallelized, the theoretical maximum speedup using parallel computing would be 2 times.\n",
    "\n",
    "**even if you have a billion processors!**"
   ]
  },
  {
   "cell_type": "markdown",
   "metadata": {
    "id": "ganOvcVhT4JI",
    "slideshow": {
     "slide_type": "slide"
    }
   },
   "source": [
    "**Reasons for hope:**\n",
    "\n",
    "As number of processors grow, span becomes more important than work.\n",
    "- scalability matters more than performance\n",
    "- we can tradeoff work and span in algorithm choice\n",
    "\n",
    "Allows us to do new things we couldn't do before:\n",
    "- consider **computer graphics**: rendering many pixels in parallel allows more accurate images"
   ]
  }
 ],
 "metadata": {
  "celltoolbar": "Slideshow",
  "colab": {
   "provenance": []
  },
  "kernelspec": {
   "display_name": "Python 3 (ipykernel)",
   "language": "python",
   "name": "python3"
  },
  "language_info": {
   "codemirror_mode": {
    "name": "ipython",
    "version": 3
   },
   "file_extension": ".py",
   "mimetype": "text/x-python",
   "name": "python",
   "nbconvert_exporter": "python",
   "pygments_lexer": "ipython3",
   "version": "3.12.2"
  },
  "rise": {
   "autolaunch": true,
   "controls": false,
   "enable_chalkboard": true,
   "scroll": true,
   "theme": "simple",
   "transition": "fade"
  },
  "toc": {
   "base_numbering": 1,
   "nav_menu": {},
   "number_sections": true,
   "sideBar": true,
   "skip_h1_title": true,
   "title_cell": "Table of Contents",
   "title_sidebar": "Contents",
   "toc_cell": true,
   "toc_position": {},
   "toc_section_display": true,
   "toc_window_display": false
  }
 },
 "nbformat": 4,
 "nbformat_minor": 1
}
