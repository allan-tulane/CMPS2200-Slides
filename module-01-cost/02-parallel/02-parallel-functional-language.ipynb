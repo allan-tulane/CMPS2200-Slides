{
 "cells": [
  {
   "cell_type": "code",
   "execution_count": 1,
   "metadata": {
    "code_folding": [],
    "id": "9bySclPKT4I0",
    "outputId": "9fa71b58-b73a-4d1e-83f9-a63e1441aaba",
    "slideshow": {
     "slide_type": "skip"
    }
   },
   "outputs": [
    {
     "name": "stderr",
     "output_type": "stream",
     "text": [
      "/var/folders/hr/xk7y44053qvd12l_1mpwdnk40000gn/T/ipykernel_49018/1435612826.py:2: DeprecationWarning: Importing display from IPython.core.display is deprecated since IPython 7.14, please import from IPython display\n",
      "  from IPython.core.display import display,HTML\n"
     ]
    },
    {
     "data": {
      "text/html": [
       "<style>.prompt{width: 0px; min-width: 0px; visibility: collapse}</style>"
      ],
      "text/plain": [
       "<IPython.core.display.HTML object>"
      ]
     },
     "metadata": {},
     "output_type": "display_data"
    },
    {
     "data": {
      "text/html": [
       "<style>\n",
       "div#notebook {\n",
       " font-family: \"Exo_2\", sans-serif;\n",
       "}\n",
       "\n",
       ".rendered_html h1,\n",
       ".text_cell_render h1 {\n",
       " color: #126dce;\n",
       " font-size: 220%;\n",
       " text-align: center;\n",
       " font-weight: lighter;\n",
       "}\n",
       ".rendered_html h2,\n",
       ".text_cell_render h2 {\n",
       " text-align: center;\n",
       " font-size: 170%;\n",
       " color: #126dce;\n",
       " font-style: normal;\n",
       " font-weight: lighter;\n",
       "}\n",
       ".rendered_html h3,\n",
       ".text_cell_render h3 {\n",
       " font-size: 150%;\n",
       " color: #126dce;\n",
       " font-weight: lighter;\n",
       " text-decoration: italic;\n",
       " font-style: normal;\n",
       "}\n",
       ".rendered_html h4,\n",
       ".text_cell_render h4 {\n",
       " font-size: 120%;\n",
       " color: #126dce;\n",
       " font-weight: underline;\n",
       " font-style: normal;\n",
       "}\n",
       ".rendered_html h5,\n",
       ".text_cell_render h5 {\n",
       " font-size: 100%;\n",
       " color: #2f2f2f;\n",
       " font-weight: lighter;\n",
       " text-decoration: underline;\n",
       "}\n",
       "</style>\n"
      ],
      "text/plain": [
       "<IPython.core.display.HTML object>"
      ]
     },
     "metadata": {},
     "output_type": "display_data"
    }
   ],
   "source": [
    "# setup\n",
    "from IPython.core.display import display,HTML\n",
    "display(HTML('<style>.prompt{width: 0px; min-width: 0px; visibility: collapse}</style>'))\n",
    "display(HTML(open('rise.css').read()))\n",
    "\n",
    "# imports\n",
    "import numpy as np\n",
    "import matplotlib.pyplot as plt\n",
    "import seaborn as sns\n",
    "%matplotlib inline\n",
    "sns.set(style=\"whitegrid\", font_scale=1.5, rc={'figure.figsize':(12, 6)})\n"
   ]
  },
  {
   "cell_type": "markdown",
   "metadata": {
    "id": "149QztHaT4I4",
    "slideshow": {
     "slide_type": "slide"
    }
   },
   "source": [
    "# CMPS 2200\n",
    "# Introduction to Algorithms\n",
    "\n",
    "## Parallelism - Functional Programming\n"
   ]
  },
  {
   "cell_type": "markdown",
   "metadata": {
    "id": "diTALOlsT4I5",
    "slideshow": {
     "slide_type": "slide"
    }
   },
   "source": [
    "## What is parallelism? (aka parallel computing)"
   ]
  },
  {
   "cell_type": "markdown",
   "metadata": {
    "id": "91ssR5rsT4I6",
    "slideshow": {
     "slide_type": "fragment"
    }
   },
   "source": [
    "> ability to run multiple computations at the same time\n"
   ]
  },
  {
   "cell_type": "markdown",
   "metadata": {
    "id": "OuG78ed0T4I6",
    "slideshow": {
     "slide_type": "slide"
    }
   },
   "source": [
    "## Why study parallel algorithms?"
   ]
  },
  {
   "cell_type": "markdown",
   "metadata": {
    "id": "gQ6zkqaYT4I7",
    "slideshow": {
     "slide_type": "fragment"
    }
   },
   "source": [
    "- faster\n",
    "- lower energy usage\n",
    "  + performing a computation **twice** as fast sequentially requires roughly **eight** times as much energy\n",
    "  + energy consumption is a cubic function of clock frequency\n",
    "- better hardware now available\n",
    "  + multicore processors are the norm\n",
    "  + GPUs (graphics processor units)\n",
    "  \n",
    "E.g., more than **one million** core machines now possible:  \n",
    "SpiNNaker (Spiking Neural Network Architecture), University of Manchester  \n",
    "<img src=\"https://upload.wikimedia.org/wikipedia/commons/9/97/Spinn_1m_pano.jpg\" alt=\"SpiNNaker\"/>\n",
    "\n"
   ]
  },
  {
   "cell_type": "markdown",
   "metadata": {
    "id": "RuVHMX7bT4I7",
    "slideshow": {
     "slide_type": "slide"
    }
   },
   "source": [
    "## Example: Summing a list\n",
    "\n",
    "Summing can easily be parallelised by splitting the input list into two (or $k$) pieces.\n",
    "\n",
    "- [1, 2, 3, 4, 5, 6, 7, 8, 9, 10, 11, 12, 13, 14, 15, 16, 17, 18, 19, 20]"
   ]
  },
  {
   "cell_type": "code",
   "execution_count": 3,
   "metadata": {
    "id": "O7Ny6e9JT4I8",
    "outputId": "43a3e8f7-f4b7-428a-b430-f2e256c3b52e",
    "slideshow": {
     "slide_type": "fragment"
    }
   },
   "outputs": [
    {
     "data": {
      "text/plain": [
       "45"
      ]
     },
     "execution_count": 3,
     "metadata": {},
     "output_type": "execute_result"
    }
   ],
   "source": [
    "def sum_list(mylist):\n",
    "    result = 0\n",
    "    for v in mylist:\n",
    "        result += v\n",
    "    return result\n",
    "\n",
    "sum_list(range(10))"
   ]
  },
  {
   "cell_type": "markdown",
   "metadata": {
    "id": "bj1xKEb2T4I8",
    "slideshow": {
     "slide_type": "fragment"
    }
   },
   "source": [
    "becomes"
   ]
  },
  {
   "cell_type": "code",
   "execution_count": 4,
   "metadata": {
    "id": "VWQUD_MeT4I9",
    "outputId": "31a221ee-6fe0-4b59-da8b-a33a9365e84f",
    "slideshow": {
     "slide_type": "fragment"
    }
   },
   "outputs": [
    {
     "data": {
      "text/plain": [
       "45"
      ]
     },
     "execution_count": 4,
     "metadata": {},
     "output_type": "execute_result"
    }
   ],
   "source": [
    "from multiprocessing.pool import ThreadPool\n",
    "\n",
    "def in_parallel(f1, arg1, f2, arg2):\n",
    "    with ThreadPool(2) as pool:\n",
    "        result1 = pool.apply_async(f1, [arg1])  # launch f1\n",
    "        result2 = pool.apply_async(f2, [arg2])  # launch f2\n",
    "        return (result1.get(), result2.get())   # wait for both to finish\n",
    "\n",
    "def parallel_sum_list(mylist):\n",
    "    result1, result2 = in_parallel(\n",
    "        sum_list, mylist[:len(mylist)//2],\n",
    "        sum_list, mylist[len(mylist)//2:]\n",
    "    )\n",
    "    # combine results\n",
    "    return result1 + result2\n",
    "\n",
    "parallel_sum_list(list(range(10)))"
   ]
  },
  {
   "cell_type": "markdown",
   "metadata": {
    "id": "rEa8nG8RT4I9",
    "slideshow": {
     "slide_type": "fragment"
    }
   },
   "source": [
    "- How much faster should parallel version be?"
   ]
  },
  {
   "cell_type": "markdown",
   "metadata": {
    "id": "VmppqEz0T4I9",
    "slideshow": {
     "slide_type": "fragment"
    }
   },
   "source": [
    "`parallel_sum_list` is twice as fast `sum_list`\n",
    "\n",
    "<br><br>\n",
    "...almost. This ignores the **overhead** to setup parallel code and communicate/combine results.\n",
    "\n",
    "$O(\\frac{n}{2}) + O(1)$  \n",
    "$O(1)$  to combine results\n",
    "\n"
   ]
  },
  {
   "cell_type": "markdown",
   "metadata": {
    "id": "ZvTjOTGYT4I-",
    "slideshow": {
     "slide_type": "slide"
    }
   },
   "source": [
    "\n",
    "\n",
    "The **speedup** of a parellel algorithm $P$ over a sequential algorithm $S$ is:\n",
    "$$\n",
    "\\text{speedup}(P,S) = \\frac{T(S)}{T(P)} \n",
    "$$\n",
    "\n",
    "<br>\n",
    "<br>\n",
    "<br>\n",
    "<br>\n",
    "\n",
    "some current state-of-the-art results:\n",
    "\n",
    "\n",
    "| application                           | sequential | parallel (<span style=\"color:red\">**32 core**</span>) | speedup |\n",
    "|---------------------------------------|------------|--------------------|---------|\n",
    "| sort $10^7$ strings                   | 2.9        | .095               | 30x     |\n",
    "| remove duplicated from $10^7$ strings | .66        | .038               | 17x     |\n",
    "| min. spanning tree for $10^7$ edges   | 1.6        | .14                | 11x     |\n",
    "| breadth first search for $10^7$ edges | .82        | .046               | 18x     |\n",
    "\n",
    "<br>\n",
    "\n",
    "<span style=\"color:red\">**Question**</span>: Why are the speedups different and lower than 32?\n",
    "\n",
    "\n",
    "<span style=\"color:blue\">**Question**</span>: Why aren't all softwares parallel? Any examples in real life?\n",
    "\n"
   ]
  },
  {
   "cell_type": "markdown",
   "metadata": {
    "id": "nTUnYjIhT4I-",
    "slideshow": {
     "slide_type": "slide"
    }
   },
   "source": [
    "### Dependency\n",
    "\n",
    "> The fundamental challenge of parallel algorithms is that computations must be **independent** to be performed in parallel.  Parallel computations should not depend on each other."
   ]
  },
  {
   "cell_type": "markdown",
   "metadata": {
    "id": "XI61zNr7T4I-",
    "slideshow": {
     "slide_type": "fragment"
    }
   },
   "source": [
    "**What should this code output?**\n",
    "\n",
    " - run this a few times and see if output changes..."
   ]
  },
  {
   "cell_type": "code",
   "execution_count": 6,
   "metadata": {
    "slideshow": {
     "slide_type": "fragment"
    }
   },
   "outputs": [
    {
     "name": "stdout",
     "output_type": "stream",
     "text": [
      "140632\n"
     ]
    }
   ],
   "source": [
    "\n",
    "def count(size):\n",
    "    global total\n",
    "    for _ in range(size):\n",
    "        total += 1\n",
    "    \n",
    "def race_condition_example():\n",
    "    global total\n",
    "    in_parallel(count, 100000,\n",
    "                count, 100000)\n",
    "    print(total)\n",
    "    \n",
    "race_condition_example()"
   ]
  },
  {
   "cell_type": "markdown",
   "metadata": {
    "id": "LBoR9FO5T4I_",
    "slideshow": {
     "slide_type": "slide"
    }
   },
   "source": [
    "#### Counting in parallel is hard!\n",
    "\n",
    "- motivates functional programming \n",
    "\n",
    "This course will focus on:\n",
    "- understanding when things can run in parallel and when they cannot\n",
    "- algorithm, not hardware specifics (though see CMPS 4760: Distributed Systems)\n",
    "\n"
   ]
  },
  {
   "cell_type": "markdown",
   "metadata": {
    "slideshow": {
     "slide_type": "slide"
    }
   },
   "source": [
    "## Functional languages\n",
    "\n",
    "In functional languages, functions act like mathematical functions.\n",
    "\n",
    "Two key properties:\n",
    "\n",
    "1. function maps an input to an output $f : X \\mapsto Y$\n",
    "    - no **side effects**\n",
    "    \n",
    "    \n",
    "2. function can be treated as values\n",
    "    - function A can be passed to function B"
   ]
  },
  {
   "cell_type": "markdown",
   "metadata": {
    "slideshow": {
     "slide_type": "slide"
    }
   },
   "source": [
    "## Pure function\n",
    "\n",
    "A function is **pure** if it maps an input to an output with no **side effects.**\n",
    "\n",
    "A computation is **pure** if all of its functions are pure.\n"
   ]
  },
  {
   "cell_type": "code",
   "execution_count": 1,
   "metadata": {
    "slideshow": {
     "slide_type": "fragment"
    }
   },
   "outputs": [
    {
     "data": {
      "text/plain": [
       "20"
      ]
     },
     "execution_count": 1,
     "metadata": {},
     "output_type": "execute_result"
    }
   ],
   "source": [
    "def double(value):\n",
    "    return 2 * value\n",
    "\n",
    "double(10)"
   ]
  },
  {
   "cell_type": "markdown",
   "metadata": {
    "slideshow": {
     "slide_type": "fragment"
    }
   },
   "source": [
    "We can view the `double` function as a mathematical function, defined by the mapping:\n",
    "\n",
    "$$ \\{(0, 0), (1, 2), (2, 4), \\ldots \\}$$"
   ]
  },
  {
   "cell_type": "markdown",
   "metadata": {
    "slideshow": {
     "slide_type": "fragment"
    }
   },
   "source": [
    "versus..."
   ]
  },
  {
   "cell_type": "code",
   "execution_count": 3,
   "metadata": {
    "slideshow": {
     "slide_type": "fragment"
    }
   },
   "outputs": [
    {
     "data": {
      "text/plain": [
       "[1, 2, 3, 6]"
      ]
     },
     "execution_count": 3,
     "metadata": {},
     "output_type": "execute_result"
    }
   ],
   "source": [
    "def append_sum(mylist):\n",
    "    return mylist.append(sum(mylist))\n",
    "\n",
    "mylist = [1,2,3]\n",
    "append_sum(mylist)\n",
    "mylist"
   ]
  },
  {
   "cell_type": "markdown",
   "metadata": {
    "slideshow": {
     "slide_type": "fragment"
    }
   },
   "source": [
    "This has the side effect of changing (or *mutating*) `mylist`."
   ]
  },
  {
   "cell_type": "markdown",
   "metadata": {
    "slideshow": {
     "slide_type": "fragment"
    }
   },
   "source": [
    "though compare with..."
   ]
  },
  {
   "cell_type": "code",
   "execution_count": 4,
   "metadata": {
    "slideshow": {
     "slide_type": "fragment"
    }
   },
   "outputs": [
    {
     "data": {
      "text/plain": [
       "[1, 2, 3]"
      ]
     },
     "execution_count": 4,
     "metadata": {},
     "output_type": "execute_result"
    }
   ],
   "source": [
    "def append_sum(mylist):\n",
    "    return list(mylist).append(sum(mylist))\n",
    "\n",
    "mylist = [1,2,3]\n",
    "append_sum(mylist)\n",
    "mylist"
   ]
  },
  {
   "cell_type": "markdown",
   "metadata": {
    "slideshow": {
     "slide_type": "slide"
    }
   },
   "source": [
    "Almost all \"real\" computations have some side effects. Consider:"
   ]
  },
  {
   "cell_type": "code",
   "execution_count": 5,
   "metadata": {
    "slideshow": {
     "slide_type": "fragment"
    }
   },
   "outputs": [],
   "source": [
    "def do_sum(mylist):\n",
    "    total = 0\n",
    "    for v in mylist:\n",
    "        total += v\n",
    "    return total"
   ]
  },
  {
   "cell_type": "markdown",
   "metadata": {
    "slideshow": {
     "slide_type": "fragment"
    }
   },
   "source": [
    "`do_sum` has the side effect of modifying `total`. But, this effect is not visible outside of `do_sum`, due to variable scoping.\n",
    "\n",
    "> **benign effect:** a side-effect that is not observable from outside of the function.\n",
    "\n",
    "A function with benign effects is still considered pure."
   ]
  },
  {
   "cell_type": "markdown",
   "metadata": {
    "slideshow": {
     "slide_type": "slide"
    }
   },
   "source": [
    "## Why is pure computation good for parallel programming?"
   ]
  },
  {
   "cell_type": "markdown",
   "metadata": {
    "slideshow": {
     "slide_type": "fragment"
    }
   },
   "source": [
    "  Recall our **race condition** example:"
   ]
  },
  {
   "cell_type": "code",
   "execution_count": 6,
   "metadata": {
    "slideshow": {
     "slide_type": "fragment"
    }
   },
   "outputs": [
    {
     "name": "stdout",
     "output_type": "stream",
     "text": [
      "140632\n"
     ]
    }
   ],
   "source": [
    "from multiprocessing.pool import ThreadPool\n",
    "\n",
    "def in_parallel(f1, arg1, f2, arg2):\n",
    "    with ThreadPool(2) as pool:\n",
    "        result1 = pool.apply_async(f1, [arg1])  # launch f1\n",
    "        result2 = pool.apply_async(f2, [arg2])  # launch f2\n",
    "        return (result1.get(), result2.get())   # wait for both to finish\n",
    "    \n",
    "total = 0\n",
    "\n",
    "def count(size):\n",
    "    global total\n",
    "    for _ in range(size):\n",
    "        total += 1\n",
    "    \n",
    "def race_condition_example():\n",
    "    global total\n",
    "    in_parallel(count, 100000,\n",
    "                count, 100000)\n",
    "    print(total)\n",
    "    \n",
    "race_condition_example()"
   ]
  },
  {
   "cell_type": "markdown",
   "metadata": {
    "slideshow": {
     "slide_type": "fragment"
    }
   },
   "source": [
    "The `count` function has a side-effect of changing the global variable `total`."
   ]
  },
  {
   "cell_type": "markdown",
   "metadata": {
    "slideshow": {
     "slide_type": "slide"
    }
   },
   "source": [
    "\n",
    "More generally, if we want to parallelize two functions $f(a)$ and $g(b)$, we want the same result **no matter which order they are run in.**\n",
    "\n",
    "> Because of the lack of side-effects, pure functions satisfy this condition."
   ]
  },
  {
   "cell_type": "markdown",
   "metadata": {
    "slideshow": {
     "slide_type": "slide"
    }
   },
   "source": [
    "## Data Persistence\n",
    "\n",
    "In pure computation no data can ever be overwritten, only new data can be created.   \n",
    "\n",
    "Data is therefore always **persistent**\n",
    "  —if you keep a reference to a data structure, it will always be there and in the same state as it started.\n",
    "\n",
    "\n",
    "<span style=\"color:red\">**Note:**</span> This is the same to **immutable types** in Python. <a href=\"https://www.geeksforgeeks.org/python/mutable-vs-immutable-objects-in-python/\">[Link]</a>"
   ]
  },
  {
   "cell_type": "markdown",
   "metadata": {
    "slideshow": {
     "slide_type": "slide"
    }
   },
   "source": [
    "## Functional languages\n",
    "\n",
    "In functional languages, functions act like mathematical functions.\n",
    "\n",
    "Two key properties:\n",
    "\n",
    "1. function maps an input to an output $f : X \\mapsto Y$\n",
    "    - no **side effects**\n",
    "    \n",
    "    \n",
    "2. function can be treated as values\n",
    "    - function A can be passed to function B"
   ]
  },
  {
   "cell_type": "markdown",
   "metadata": {
    "slideshow": {
     "slide_type": "slide"
    }
   },
   "source": [
    "## Functions as values\n",
    "\n",
    "Many languages allow functions to be passed to other functions.\n",
    "\n",
    "Functions as \"first-class values.\""
   ]
  },
  {
   "cell_type": "code",
   "execution_count": 2,
   "metadata": {
    "slideshow": {
     "slide_type": "fragment"
    }
   },
   "outputs": [
    {
     "data": {
      "text/plain": [
       "12"
      ]
     },
     "execution_count": 2,
     "metadata": {},
     "output_type": "execute_result"
    }
   ],
   "source": [
    "def double(value):\n",
    "    return 2 * value\n",
    "\n",
    "def double_and_sum(double_fn, vals):\n",
    "    total = 0\n",
    "    for v in vals:\n",
    "        total += double_fn(v)\n",
    "    return total\n",
    "\n",
    "# pass the function double to the function double_and_sum\n",
    "double_and_sum(double, [1,2,3]) \n",
    "# 1*2 + 2*2 + 3*3"
   ]
  },
  {
   "cell_type": "markdown",
   "metadata": {
    "slideshow": {
     "slide_type": "fragment"
    }
   },
   "source": [
    "`double_and_sum` is called a **higher-order function**, since it takes another function as input.\n",
    "\n",
    "Why is this useful?"
   ]
  },
  {
   "cell_type": "code",
   "execution_count": 7,
   "metadata": {
    "slideshow": {
     "slide_type": "fragment"
    }
   },
   "outputs": [
    {
     "data": {
      "text/plain": [
       "[2, 4, 6]"
      ]
     },
     "execution_count": 7,
     "metadata": {},
     "output_type": "execute_result"
    }
   ],
   "source": [
    "def map_function(function, values):\n",
    "    for v in values:\n",
    "        yield function(v)\n",
    "\n",
    "list(map_function(double, [1,2,3]))"
   ]
  },
  {
   "cell_type": "code",
   "execution_count": 6,
   "metadata": {
    "slideshow": {
     "slide_type": "fragment"
    }
   },
   "outputs": [
    {
     "data": {
      "text/plain": [
       "[1, 4, 9]"
      ]
     },
     "execution_count": 6,
     "metadata": {},
     "output_type": "execute_result"
    }
   ],
   "source": [
    "def square(value):\n",
    "    return value * value\n",
    "\n",
    "list(map_function(square, [1,2,3]))"
   ]
  },
  {
   "cell_type": "code",
   "execution_count": 7,
   "metadata": {
    "slideshow": {
     "slide_type": "fragment"
    }
   },
   "outputs": [
    {
     "data": {
      "text/plain": [
       "[2, 8, 18]"
      ]
     },
     "execution_count": 7,
     "metadata": {},
     "output_type": "execute_result"
    }
   ],
   "source": [
    "list(map_function(double, map_function(square, [1,2,3])))"
   ]
  },
  {
   "cell_type": "markdown",
   "metadata": {
    "slideshow": {
     "slide_type": "fragment"
    }
   },
   "source": [
    "- If we know that `function` is pure, then we can trivially parallelize `map_function` for many inputs.\n",
    "\n",
    "\n",
    "\n",
    "- By using higher-order functions, we can define a few primitive, high-order functions that will make it easier to reason about and analyze run-time of parallel computations."
   ]
  },
  {
   "cell_type": "markdown",
   "metadata": {
    "slideshow": {
     "slide_type": "slide"
    }
   },
   "source": [
    "## Lambda Calculus \n",
    "\n",
    "Consists of expressions $e$ in one of three forms:\n",
    "\n",
    "1. a **variable**, e.g., $x$\n",
    "2. a **lambda abstraction**, e.g., $(\\lambda \\: x \\: . \\: e)$, where $e$ is a function body.\n",
    "3. an **application**, written $(e_1, e_2)$ for expressions $e_1$, $e_2$.\n",
    "\n",
    "```python\n",
    "factorial = lambda i: i if i < 2 else i*factorial(i-1)\n",
    "factorial(8)\n",
    "```\n",
    "\n",
    "<a href='https://en.wikipedia.org/wiki/Lambda_calculus'>Source</a>"
   ]
  },
  {
   "cell_type": "code",
   "execution_count": 1,
   "metadata": {
    "slideshow": {
     "slide_type": "fragment"
    }
   },
   "outputs": [
    {
     "data": {
      "text/plain": [
       "40320"
      ]
     },
     "execution_count": 1,
     "metadata": {},
     "output_type": "execute_result"
    }
   ],
   "source": [
    "def factorial(i):\n",
    "    if i<2: \n",
    "        return i\n",
    "    else:\n",
    "        return i*factorial(i-1)\n",
    "    \n",
    "\n",
    "factorial(8)"
   ]
  },
  {
   "cell_type": "code",
   "execution_count": 1,
   "metadata": {
    "slideshow": {
     "slide_type": "fragment"
    }
   },
   "outputs": [
    {
     "data": {
      "text/plain": [
       "100"
      ]
     },
     "execution_count": 1,
     "metadata": {},
     "output_type": "execute_result"
    }
   ],
   "source": [
    "# lambda functions exist in Python.\n",
    "# these are anonymous functions (no names)\n",
    "# Here, e_2 is a variable.\n",
    "square = lambda x: x*x\n",
    "square(10)"
   ]
  },
  {
   "cell_type": "markdown",
   "metadata": {
    "slideshow": {
     "slide_type": "slide"
    }
   },
   "source": [
    "We can also chain functions together. E.g., $e_2$ can be another function."
   ]
  },
  {
   "cell_type": "code",
   "execution_count": 2,
   "metadata": {
    "slideshow": {
     "slide_type": "fragment"
    }
   },
   "outputs": [
    {
     "data": {
      "text/plain": [
       "39.37007874015748"
      ]
     },
     "execution_count": 2,
     "metadata": {},
     "output_type": "execute_result"
    }
   ],
   "source": [
    "def compose(g, f):\n",
    "    \"\"\"\n",
    "    Returns a **function** that composes f and g\n",
    "    \"\"\"\n",
    "    return lambda x: g(f(x))  # different from just: g(f(x))\n",
    "\n",
    "def meter2cm(d):\n",
    "    return d * 100\n",
    "\n",
    "def cm2inch(d):\n",
    "    return d / 2.54\n",
    "\n",
    "\n",
    "# how many inches in a meter?\n",
    "meter2inch = compose(cm2inch, meter2cm)\n",
    "meter2inch(1)"
   ]
  }
 ],
 "metadata": {
  "celltoolbar": "Slideshow",
  "colab": {
   "provenance": []
  },
  "kernelspec": {
   "display_name": "Python 3 (ipykernel)",
   "language": "python",
   "name": "python3"
  },
  "language_info": {
   "codemirror_mode": {
    "name": "ipython",
    "version": 3
   },
   "file_extension": ".py",
   "mimetype": "text/x-python",
   "name": "python",
   "nbconvert_exporter": "python",
   "pygments_lexer": "ipython3",
   "version": "3.9.6"
  },
  "rise": {
   "autolaunch": true,
   "controls": false,
   "enable_chalkboard": true,
   "scroll": true,
   "theme": "simple",
   "transition": "fade"
  },
  "toc": {
   "base_numbering": 1,
   "nav_menu": {},
   "number_sections": true,
   "sideBar": true,
   "skip_h1_title": true,
   "title_cell": "Table of Contents",
   "title_sidebar": "Contents",
   "toc_cell": true,
   "toc_position": {},
   "toc_section_display": true,
   "toc_window_display": false
  }
 },
 "nbformat": 4,
 "nbformat_minor": 1
}
