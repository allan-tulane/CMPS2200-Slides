{
 "cells": [
  {
   "cell_type": "code",
   "execution_count": 1,
   "metadata": {
    "code_folding": [],
    "slideshow": {
     "slide_type": "skip"
    }
   },
   "outputs": [
    {
     "data": {
      "text/html": [
       "<style>.prompt{width: 0px; min-width: 0px; visibility: collapse}</style>"
      ],
      "text/plain": [
       "<IPython.core.display.HTML object>"
      ]
     },
     "metadata": {},
     "output_type": "display_data"
    },
    {
     "data": {
      "text/html": [
       "<style>\n",
       "div#notebook {\n",
       " font-family: \"Exo_2\", sans-serif;\n",
       "}\n",
       "\n",
       ".rendered_html h1,\n",
       ".text_cell_render h1 {\n",
       " color: #126dce;\n",
       " font-size: 220%;\n",
       " text-align: center;\n",
       " font-weight: lighter;\n",
       "}\n",
       ".rendered_html h2,\n",
       ".text_cell_render h2 {\n",
       " text-align: center;\n",
       " font-size: 170%;\n",
       " color: #126dce;\n",
       " font-style: normal;\n",
       " font-weight: lighter;\n",
       "}\n",
       ".rendered_html h3,\n",
       ".text_cell_render h3 {\n",
       " font-size: 150%;\n",
       " color: #126dce;\n",
       " font-weight: lighter;\n",
       " text-decoration: italic;\n",
       " font-style: normal;\n",
       "}\n",
       ".rendered_html h4,\n",
       ".text_cell_render h4 {\n",
       " font-size: 120%;\n",
       " color: #126dce;\n",
       " font-weight: underline;\n",
       " font-style: normal;\n",
       "}\n",
       ".rendered_html h5,\n",
       ".text_cell_render h5 {\n",
       " font-size: 100%;\n",
       " color: #2f2f2f;\n",
       " font-weight: lighter;\n",
       " text-decoration: underline;\n",
       "}\n",
       "</style>\n"
      ],
      "text/plain": [
       "<IPython.core.display.HTML object>"
      ]
     },
     "metadata": {},
     "output_type": "display_data"
    }
   ],
   "source": [
    "# setup\n",
    "from IPython.core.display import display,HTML\n",
    "display(HTML('<style>.prompt{width: 0px; min-width: 0px; visibility: collapse}</style>'))\n",
    "display(HTML(open('rise.css').read()))\n",
    "\n",
    "# imports\n",
    "import numpy as np\n",
    "import matplotlib.pyplot as plt\n",
    "import seaborn as sns\n",
    "%matplotlib inline\n",
    "sns.set(style=\"whitegrid\", font_scale=1.5, rc={'figure.figsize':(12, 6)})\n"
   ]
  },
  {
   "cell_type": "markdown",
   "metadata": {
    "slideshow": {
     "slide_type": "slide"
    }
   },
   "source": [
    "# CMPS 2200\n",
    "# Introduction to Algorithms\n",
    "\n",
    "## Functional Programming\n"
   ]
  },
  {
   "cell_type": "markdown",
   "metadata": {
    "slideshow": {
     "slide_type": "slide"
    }
   },
   "source": [
    "## Specifying algorithms\n",
    "\n",
    "We need a way to specify both **what** an algorithm does and **how** it does it.\n",
    "\n",
    "**Algorithm specification**: defines what an algorithm should do.\n",
    "\n",
    "> Given a sequence $A$ of $n$ elements, return a sequence $B$ such that $B[i] \\leq B[j]$ for all $0 \\leq i \\le j \\le n$\n",
    "\n",
    "May also include **cost specification**, e.g. $O(n \\log n)$ work and. $O(\\log^2 n)$ span."
   ]
  },
  {
   "cell_type": "markdown",
   "metadata": {
    "slideshow": {
     "slide_type": "fragment"
    }
   },
   "source": [
    "**Algorithm implementation** (or just **algorithm**): defines **how** an algorithm works.\n",
    "\n",
    "This could be real, working code, or pseudo-code.\n",
    "\n"
   ]
  },
  {
   "cell_type": "markdown",
   "metadata": {
    "slideshow": {
     "slide_type": "slide"
    }
   },
   "source": [
    "## Functional languages\n",
    "\n",
    "In functional languages, functions act like mathematical functions.\n",
    "\n",
    "Two key properties:\n",
    "\n",
    "1. function maps an input to an output $f : X \\mapsto Y$\n",
    "    - no **side effects**\n",
    "    \n",
    "    \n",
    "2. function can be treated as values\n",
    "    - function A can be passed to function B"
   ]
  },
  {
   "cell_type": "markdown",
   "metadata": {
    "slideshow": {
     "slide_type": "slide"
    }
   },
   "source": [
    "## Pure function\n",
    "\n",
    "A function is **pure** if it maps an input to an output with no **side effects.**\n",
    "\n",
    "A computation is **pure** if all of its functions are pure.\n"
   ]
  },
  {
   "cell_type": "code",
   "execution_count": 2,
   "metadata": {
    "slideshow": {
     "slide_type": "fragment"
    }
   },
   "outputs": [
    {
     "data": {
      "text/plain": [
       "20"
      ]
     },
     "execution_count": 2,
     "metadata": {},
     "output_type": "execute_result"
    }
   ],
   "source": [
    "def double(value):\n",
    "    return 2 * value\n",
    "\n",
    "double(10)"
   ]
  },
  {
   "cell_type": "markdown",
   "metadata": {
    "slideshow": {
     "slide_type": "fragment"
    }
   },
   "source": [
    "We can view the `double` function as a mathematical function, defined by the mapping:\n",
    "\n",
    "$$ \\{(0, 0), (1, 2), (2, 4), \\ldots \\}$$"
   ]
  },
  {
   "cell_type": "markdown",
   "metadata": {
    "slideshow": {
     "slide_type": "fragment"
    }
   },
   "source": [
    "versus..."
   ]
  },
  {
   "cell_type": "code",
   "execution_count": 3,
   "metadata": {
    "slideshow": {
     "slide_type": "fragment"
    }
   },
   "outputs": [
    {
     "data": {
      "text/plain": [
       "[1, 2, 3, 6]"
      ]
     },
     "execution_count": 3,
     "metadata": {},
     "output_type": "execute_result"
    }
   ],
   "source": [
    "def append_sum(mylist):\n",
    "    return mylist.append(sum(mylist))\n",
    "\n",
    "mylist = [1,2,3]\n",
    "append_sum(mylist)\n",
    "mylist"
   ]
  },
  {
   "cell_type": "markdown",
   "metadata": {
    "slideshow": {
     "slide_type": "fragment"
    }
   },
   "source": [
    "This has the side effecet of changing (or *mutating*) `mylist`."
   ]
  },
  {
   "cell_type": "markdown",
   "metadata": {
    "slideshow": {
     "slide_type": "fragment"
    }
   },
   "source": [
    "though compare with..."
   ]
  },
  {
   "cell_type": "code",
   "execution_count": 4,
   "metadata": {
    "slideshow": {
     "slide_type": "fragment"
    }
   },
   "outputs": [
    {
     "data": {
      "text/plain": [
       "[1, 2, 3]"
      ]
     },
     "execution_count": 4,
     "metadata": {},
     "output_type": "execute_result"
    }
   ],
   "source": [
    "def append_sum(mylist):\n",
    "    return list(mylist).append(sum(mylist))\n",
    "\n",
    "mylist = [1,2,3]\n",
    "append_sum(mylist)\n",
    "mylist"
   ]
  },
  {
   "cell_type": "markdown",
   "metadata": {
    "slideshow": {
     "slide_type": "slide"
    }
   },
   "source": [
    "Almost all \"real\" computations have some side effects. Consider:"
   ]
  },
  {
   "cell_type": "code",
   "execution_count": 5,
   "metadata": {
    "slideshow": {
     "slide_type": "fragment"
    }
   },
   "outputs": [],
   "source": [
    "def do_sum(mylist):\n",
    "    total = 0\n",
    "    for v in mylist:\n",
    "        total += v\n",
    "    return total"
   ]
  },
  {
   "cell_type": "markdown",
   "metadata": {
    "slideshow": {
     "slide_type": "fragment"
    }
   },
   "source": [
    "`do_sum` has the side effect of modifying `total`. But, this effect is not visible outside of `do_sum`, due to variable scoping.\n",
    "\n",
    "> **benign effect:** a side-effect that is not observable from outside of the function.\n",
    "\n",
    "A function with benign effects is still considered pure."
   ]
  },
  {
   "cell_type": "markdown",
   "metadata": {
    "slideshow": {
     "slide_type": "slide"
    }
   },
   "source": [
    "## Why is pure computation good for parallel programming?"
   ]
  },
  {
   "cell_type": "markdown",
   "metadata": {
    "slideshow": {
     "slide_type": "fragment"
    }
   },
   "source": [
    "  Recall our **race condition** example:"
   ]
  },
  {
   "cell_type": "code",
   "execution_count": 6,
   "metadata": {
    "slideshow": {
     "slide_type": "fragment"
    }
   },
   "outputs": [
    {
     "name": "stdout",
     "output_type": "stream",
     "text": [
      "140632\n"
     ]
    }
   ],
   "source": [
    "from multiprocessing.pool import ThreadPool\n",
    "\n",
    "def in_parallel(f1, arg1, f2, arg2):\n",
    "    with ThreadPool(2) as pool:\n",
    "        result1 = pool.apply_async(f1, [arg1])  # launch f1\n",
    "        result2 = pool.apply_async(f2, [arg2])  # launch f2\n",
    "        return (result1.get(), result2.get())   # wait for both to finish\n",
    "    \n",
    "total = 0\n",
    "\n",
    "def count(size):\n",
    "    global total\n",
    "    for _ in range(size):\n",
    "        total += 1\n",
    "    \n",
    "def race_condition_example():\n",
    "    global total\n",
    "    in_parallel(count, 100000,\n",
    "                count, 100000)\n",
    "    print(total)\n",
    "    \n",
    "race_condition_example()"
   ]
  },
  {
   "cell_type": "markdown",
   "metadata": {
    "slideshow": {
     "slide_type": "fragment"
    }
   },
   "source": [
    "The `count` function has a side-effect of changing the global variable `total`."
   ]
  },
  {
   "cell_type": "markdown",
   "metadata": {
    "slideshow": {
     "slide_type": "slide"
    }
   },
   "source": [
    "## Heisenbugs\n",
    "\n",
    "<img src=\"figures/heisenberg.jpg\" width=\"10%\"/>\n",
    "\n",
    "- Race conditions can lead to bugs that only appear, e.g., 1 out of 1000 runs of the program.\n",
    "- Reference to Heisenberg uncertainty principal (the bug disappears when you study it, but reappears when you stop studying it)"
   ]
  },
  {
   "cell_type": "markdown",
   "metadata": {
    "slideshow": {
     "slide_type": "fragment"
    }
   },
   "source": [
    "\n",
    "More generally, if we want to parallelize two functions $f(a)$ and $g(b)$, we want the same result **no matter which order they are run in.**\n",
    "\n",
    "> Because of the lack of side-effects, pure functions satisfy this condition."
   ]
  },
  {
   "cell_type": "markdown",
   "metadata": {
    "slideshow": {
     "slide_type": "slide"
    }
   },
   "source": [
    "## Data Persistence\n",
    "\n",
    "In pure computation no data can ever be overwritten, only new data can be created.   \n",
    "\n",
    "Data is therefore always **persistent**\n",
    "  —if you keep a reference to a data structure, it will always be there and in the same state as it started.\n",
    "\n",
    "### Isn't this horribly space inefficient?"
   ]
  },
  {
   "cell_type": "markdown",
   "metadata": {
    "slideshow": {
     "slide_type": "fragment"
    }
   },
   "source": [
    "> garbage collection"
   ]
  },
  {
   "cell_type": "markdown",
   "metadata": {
    "slideshow": {
     "slide_type": "slide"
    }
   },
   "source": [
    "## Functional languages\n",
    "\n",
    "In functional languages, functions act like mathematical functions.\n",
    "\n",
    "Two key properties:\n",
    "\n",
    "1. function maps an input to an output $f : X \\mapsto Y$\n",
    "    - no **side effects**\n",
    "    \n",
    "    \n",
    "2. function can be treated as values\n",
    "    - function A can be passed to function B"
   ]
  },
  {
   "cell_type": "markdown",
   "metadata": {
    "slideshow": {
     "slide_type": "slide"
    }
   },
   "source": [
    "## Functions as values\n",
    "\n",
    "Many languages allow functions to be passed to other functions.\n",
    "\n",
    "Functions as \"first-class values.\""
   ]
  },
  {
   "cell_type": "code",
   "execution_count": 7,
   "metadata": {
    "slideshow": {
     "slide_type": "fragment"
    }
   },
   "outputs": [
    {
     "data": {
      "text/plain": [
       "12"
      ]
     },
     "execution_count": 7,
     "metadata": {},
     "output_type": "execute_result"
    }
   ],
   "source": [
    "def double(value):\n",
    "    return 2 * value\n",
    "\n",
    "def double_and_sum(double_fn, vals):\n",
    "    total = 0\n",
    "    for v in vals:\n",
    "        total += double_fn(v)\n",
    "    return total\n",
    "\n",
    "# pass the function double to the function double_and_sum\n",
    "double_and_sum(double, [1,2,3]) \n",
    "# 1*2 + 2*2 + 3*3"
   ]
  },
  {
   "cell_type": "markdown",
   "metadata": {
    "slideshow": {
     "slide_type": "fragment"
    }
   },
   "source": [
    "`double_and_sum` is called a **higher-order function**, since it takes another function as input.\n",
    "\n",
    "Why is this useful?"
   ]
  },
  {
   "cell_type": "code",
   "execution_count": 8,
   "metadata": {
    "slideshow": {
     "slide_type": "fragment"
    }
   },
   "outputs": [
    {
     "data": {
      "text/plain": [
       "[2, 4, 6]"
      ]
     },
     "execution_count": 8,
     "metadata": {},
     "output_type": "execute_result"
    }
   ],
   "source": [
    "def map_function(function, values):\n",
    "    for v in values:\n",
    "        yield function(v)\n",
    "\n",
    "list(map_function(double, [1,2,3]))"
   ]
  },
  {
   "cell_type": "code",
   "execution_count": 9,
   "metadata": {
    "slideshow": {
     "slide_type": "fragment"
    }
   },
   "outputs": [
    {
     "data": {
      "text/plain": [
       "[1, 4, 9]"
      ]
     },
     "execution_count": 9,
     "metadata": {},
     "output_type": "execute_result"
    }
   ],
   "source": [
    "def square(value):\n",
    "    return value * value\n",
    "\n",
    "list(map_function(square, [1,2,3]))"
   ]
  },
  {
   "cell_type": "code",
   "execution_count": 10,
   "metadata": {
    "slideshow": {
     "slide_type": "fragment"
    }
   },
   "outputs": [
    {
     "data": {
      "text/plain": [
       "[2, 8, 18]"
      ]
     },
     "execution_count": 10,
     "metadata": {},
     "output_type": "execute_result"
    }
   ],
   "source": [
    "list(map_function(double, map_function(square, [1,2,3])))"
   ]
  },
  {
   "cell_type": "markdown",
   "metadata": {
    "slideshow": {
     "slide_type": "fragment"
    }
   },
   "source": [
    "- If we know that `function` is pure, then we can trivially parallelize `map_function` for many inputs.\n",
    "\n",
    "\n",
    "\n",
    "- By using higher-order functions, we can define a few primitive, high-order functions that will make it easier to reason about and analyze run-time of parallel computations."
   ]
  },
  {
   "cell_type": "markdown",
   "metadata": {
    "slideshow": {
     "slide_type": "slide"
    }
   },
   "source": [
    "## SPARC\n",
    "\n",
    "Our textbook uses a pseudo code language called **SPARC**\n",
    "- based on [Standard ML](https://www.cs.cmu.edu/~rwh/isml/book.pdf)\n",
    "- functional language\n",
    "\n",
    "When possible, we will also show Python versions of key algorithms.\n"
   ]
  },
  {
   "cell_type": "markdown",
   "metadata": {
    "slideshow": {
     "slide_type": "slide"
    }
   },
   "source": [
    "## Example SPARC program\n",
    "\n",
    "\n",
    "<br><br>\n",
    "<p> <span>\\[\\begin{array}{l}  \n",
    "\\texttt{let}\\\\   \n",
    "~~~~x = 2 + 3\\\\  \n",
    "~~~~f (w) = (w * 4, w - 2)\\\\  \n",
    "~~~~(y,z) = f(x-1)\\\\  \n",
    "\\texttt{in}\\\\   \n",
    "~~~~x + y + z\\\\  \n",
    "\\texttt{end}   \n",
    "\\end{array}\\]</span></p>\n",
    "<br><br>\n",
    "\n",
    "<br><br>\n",
    "**binding**: associate entities (data or code) with identifiers.\n",
    "\n",
    "<br>\n",
    "\n",
    "**let expression:**\n",
    "\n",
    "**let**  \n",
    "$\\:\\: b^+$  \n",
    "**in**  \n",
    "$\\:\\:e$  \n",
    "**end**\n",
    "\n",
    "Expression $e$ is applied using the bindings defined inside **let**.\n",
    "\n",
    "<br><br>\n",
    "**expression** *e*: describes a computation  \n",
    "- **evaluating** an expression produces its value\n",
    "\n",
    "<br><br>\n",
    "$x = 2 + 3 = 5$  \n",
    "$f(4) \\rightarrow (16, 2)$  \n",
    "$x + y + z= 5 + 16 + 2 = 23$\n",
    "\n",
    "\n",
    "\n",
    "\n",
    "\n"
   ]
  },
  {
   "cell_type": "markdown",
   "metadata": {
    "slideshow": {
     "slide_type": "slide"
    }
   },
   "source": [
    "### What does this do?\n",
    "\n",
    "<p><span class=\"math display\">\\[\\begin{array}{l}  \n",
    "\\texttt{let}\\\\  \n",
    "~~~~f(i) = \\texttt{if} ~(i < 2) ~\\texttt{then}~ i ~\\texttt{else}~ i  *   \n",
    "f(i - 1) \\\\  \n",
    "\\texttt{in} \\\\   \n",
    "~~~~f(5) \\\\  \n",
    "\\texttt{end}   \n",
    "\\end{array}\\]</span> </p>\n",
    "\n"
   ]
  },
  {
   "cell_type": "code",
   "execution_count": 4,
   "metadata": {
    "slideshow": {
     "slide_type": "fragment"
    }
   },
   "outputs": [
    {
     "data": {
      "text/plain": [
       "40320"
      ]
     },
     "execution_count": 4,
     "metadata": {},
     "output_type": "execute_result"
    }
   ],
   "source": [
    "def factorial(i):\n",
    "    if i<2:\n",
    "        return i\n",
    "    else:\n",
    "        return i*factorial(i-1)\n",
    "    \n",
    "\n",
    "factorial(8)"
   ]
  },
  {
   "cell_type": "markdown",
   "metadata": {
    "slideshow": {
     "slide_type": "slide"
    }
   },
   "source": [
    "## Lambda Calculus \n",
    "\n",
    "Consists of expressions $e$ in one of three forms:\n",
    "\n",
    "1. a **variable**, e.g., $x$\n",
    "2. a **lambda abstraction**, e.g., $(\\lambda \\: x \\: . \\: e)$, where $e$ is a function body.\n",
    "3. an **application**, written $(e_1, e_2)$ for expressions $e_1$, $e_2$.\n",
    "\n",
    "```python\n",
    "factorial = lambda i: i if i < 2 else i*factorial(i-1)\n",
    "```"
   ]
  },
  {
   "cell_type": "code",
   "execution_count": 6,
   "metadata": {
    "slideshow": {
     "slide_type": "fragment"
    }
   },
   "outputs": [
    {
     "data": {
      "text/plain": [
       "144"
      ]
     },
     "execution_count": 6,
     "metadata": {},
     "output_type": "execute_result"
    }
   ],
   "source": [
    "# lambda functions exist in Python.\n",
    "# these are anonymous functions (no names)\n",
    "# Here, e_2 is a variable.\n",
    "(lambda x: x*x)(12)"
   ]
  },
  {
   "cell_type": "markdown",
   "metadata": {
    "slideshow": {
     "slide_type": "fragment"
    }
   },
   "source": [
    "\n",
    "$\n",
    "(\\lambda \\: x \\: . \\: x * x) \\:  10 \\mapsto 10 * 10 \\mapsto 100\n",
    "$"
   ]
  },
  {
   "cell_type": "markdown",
   "metadata": {
    "slideshow": {
     "slide_type": "slide"
    }
   },
   "source": [
    "We can also chain functions together. E.g., $e_2$ can be another function."
   ]
  },
  {
   "cell_type": "code",
   "execution_count": 1,
   "metadata": {
    "slideshow": {
     "slide_type": "fragment"
    }
   },
   "outputs": [
    {
     "data": {
      "text/plain": [
       "39.370078740157474"
      ]
     },
     "execution_count": 1,
     "metadata": {},
     "output_type": "execute_result"
    }
   ],
   "source": [
    "def compose(g, f):\n",
    "    \"\"\"\n",
    "    Returns a **function** that composes f and g\n",
    "    \"\"\"\n",
    "    return lambda x: g(f(x))  # different from just: g(f(x))\n",
    "\n",
    "def meter2cm(d):\n",
    "    return d * 100\n",
    "\n",
    "def cm2inch(d):\n",
    "    return d / 2.54\n",
    "\n",
    "\n",
    "# how many inches in a meter?\n",
    "meter2inch = compose(meter2cm, cm2inch)\n",
    "meter2inch(1)"
   ]
  },
  {
   "cell_type": "markdown",
   "metadata": {
    "slideshow": {
     "slide_type": "slide"
    }
   },
   "source": [
    "## Composition\n",
    "\n",
    "**sequential composition**: $(e_1, e_2)$\n",
    "\n",
    "**parallel composition**: $(e_1 \\: || \\: e_2)$\n",
    "\n",
    "e.g.\n",
    "\n",
    "$\\mathtt{lambda} \\: (x,y) . (x * x, y * y)$  \n",
    "\n",
    "vs\n",
    "\n",
    "$\\mathtt{lambda} \\: (x,y) . (x * x \\: || \\: y * y)$"
   ]
  },
  {
   "cell_type": "markdown",
   "metadata": {
    "slideshow": {
     "slide_type": "slide"
    }
   },
   "source": [
    "### Currying\n",
    "\n",
    "> Convert a function of $n$ variables into a sequence of functions with 1 argument each.\n",
    "\n",
    "\n",
    "**Why?**\n",
    "\n",
    "<br><br>\n",
    "- Get specialized functions from more general functions by using composition.\n",
    "- DRY: no need to repeat function arguments\n",
    "- Lambda calculus: can define a programming language that only allows functions of one argument\n",
    "  - easier for proofs!"
   ]
  },
  {
   "cell_type": "code",
   "execution_count": null,
   "metadata": {
    "slideshow": {
     "slide_type": "fragment"
    }
   },
   "outputs": [],
   "source": [
    "def curry(f):\n",
    "    \"\"\"\n",
    "    Given a function f of two variables,\n",
    "    return a function g that binds the first variable\n",
    "    and returns a function of the second variable.\n",
    "    \"\"\"\n",
    "    def g(x):      # nested function 1\n",
    "        def h(y):  # nested function 2\n",
    "            return f(x, y) \n",
    "        return h # bind x and return function of y\n",
    "    return g\n",
    "\n",
    "def f(x,y):\n",
    "     return x + y**2\n",
    "\n",
    "print(f)\n",
    "print(curry(f))         # returns f'n g. input: x, output function of y         \n",
    "print(curry(f)(10))     # returns f'n h. input: y, output f(10,y)\n",
    "print(curry(f)(10)(20)) # returns f(10,20)\n",
    "print(curry(f)(10)(3))  # returns f(10,3)"
   ]
  }
 ],
 "metadata": {
  "celltoolbar": "Slideshow",
  "kernelspec": {
   "display_name": "Python 3 (ipykernel)",
   "language": "python",
   "name": "python3"
  },
  "language_info": {
   "codemirror_mode": {
    "name": "ipython",
    "version": 3
   },
   "file_extension": ".py",
   "mimetype": "text/x-python",
   "name": "python",
   "nbconvert_exporter": "python",
   "pygments_lexer": "ipython3",
   "version": "3.8.2"
  },
  "rise": {
   "autolaunch": true,
   "controls": false,
   "enable_chalkboard": true,
   "scroll": true,
   "theme": "simple",
   "transition": "fade"
  },
  "toc": {
   "base_numbering": 1,
   "nav_menu": {},
   "number_sections": true,
   "sideBar": true,
   "skip_h1_title": true,
   "title_cell": "Table of Contents",
   "title_sidebar": "Contents",
   "toc_cell": true,
   "toc_position": {},
   "toc_section_display": true,
   "toc_window_display": false
  }
 },
 "nbformat": 4,
 "nbformat_minor": 4
}
