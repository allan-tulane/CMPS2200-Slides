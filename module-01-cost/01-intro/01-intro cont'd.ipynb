{
 "cells": [
  {
   "cell_type": "code",
   "execution_count": 2,
   "metadata": {
    "code_folding": [
     0
    ],
    "slideshow": {
     "slide_type": "skip"
    }
   },
   "outputs": [
    {
     "data": {
      "text/html": [
       "<style>.prompt{width: 0px; min-width: 0px; visibility: collapse}</style>"
      ],
      "text/plain": [
       "<IPython.core.display.HTML object>"
      ]
     },
     "metadata": {},
     "output_type": "display_data"
    },
    {
     "data": {
      "text/html": [
       "<style>\n",
       "div#notebook {\n",
       " font-family: \"Exo_2\", sans-serif;\n",
       "}\n",
       "\n",
       ".rendered_html h1,\n",
       ".text_cell_render h1 {\n",
       " color: #126dce;\n",
       " font-size: 220%;\n",
       " text-align: center;\n",
       " font-weight: lighter;\n",
       "}\n",
       ".rendered_html h2,\n",
       ".text_cell_render h2 {\n",
       " text-align: center;\n",
       " font-size: 170%;\n",
       " color: #126dce;\n",
       " font-style: normal;\n",
       " font-weight: lighter;\n",
       "}\n",
       ".rendered_html h3,\n",
       ".text_cell_render h3 {\n",
       " font-size: 150%;\n",
       " color: #126dce;\n",
       " font-weight: lighter;\n",
       " text-decoration: italic;\n",
       " font-style: normal;\n",
       "}\n",
       ".rendered_html h4,\n",
       ".text_cell_render h4 {\n",
       " font-size: 120%;\n",
       " color: #126dce;\n",
       " font-weight: underline;\n",
       " font-style: normal;\n",
       "}\n",
       ".rendered_html h5,\n",
       ".text_cell_render h5 {\n",
       " font-size: 100%;\n",
       " color: #2f2f2f;\n",
       " font-weight: lighter;\n",
       " text-decoration: underline;\n",
       "}\n",
       "</style>\n"
      ],
      "text/plain": [
       "<IPython.core.display.HTML object>"
      ]
     },
     "metadata": {},
     "output_type": "display_data"
    }
   ],
   "source": [
    "# setup\n",
    "from IPython.core.display import display,HTML\n",
    "display(HTML('<style>.prompt{width: 0px; min-width: 0px; visibility: collapse}</style>'))\n",
    "display(HTML(open('rise.css').read()))\n",
    "\n",
    "# imports\n",
    "import numpy as np\n",
    "import matplotlib.pyplot as plt\n",
    "import seaborn as sns\n",
    "%matplotlib inline\n",
    "sns.set(style=\"whitegrid\", font_scale=1.5, rc={'figure.figsize':(12, 8)})\n"
   ]
  },
  {
   "cell_type": "markdown",
   "metadata": {
    "slideshow": {
     "slide_type": "slide"
    }
   },
   "source": [
    "# CMPS 2200\n",
    "# Introduction to Algorithms\n",
    "\n",
    "## Asymptotic Analysis (Cont'd)\n"
   ]
  },
  {
   "cell_type": "markdown",
   "metadata": {
    "slideshow": {
     "slide_type": "slide"
    }
   },
   "source": [
    "### Analysis of Linear Search [Worst-Case]\n",
    "\n",
    "Assume $n \\leftarrow$ `len(mylist)` \n",
    "```python\n",
    "\n",
    "\n",
    "def linear_search(mylist, key):   #  cost     frequency\n",
    "    for i in range(len(mylist)):  #   c1          n\n",
    "        if mylist[i] == key:      #   c2          n\n",
    "            return i              #   c3          0\n",
    "    return -1                     #   c4          1\n",
    "\n",
    "\n",
    "```\n",
    "\n",
    "$ \\hbox{Cost(linear-search, } n) = c_1n + c_2n + c_4 = f(n)$\n",
    "\n",
    "**Cost is now just a function of:**\n",
    "\n",
    "- input size $n$\n",
    "- constants $c$ (depend on machine, compiler, etc)"
   ]
  },
  {
   "cell_type": "markdown",
   "metadata": {
    "slideshow": {
     "slide_type": "slide"
    }
   },
   "source": [
    "### Big Idea: Asymptotic Analysis\n",
    "\n",
    "- Ignore machine-dependent constants\n",
    "- Focus on **growth** of running timeas $n \\rightarrow \\infty$\n",
    "\n",
    "\n",
    "\n",
    "> We need to compare various algorithms."
   ]
  },
  {
   "cell_type": "markdown",
   "metadata": {
    "slideshow": {
     "slide_type": "slide"
    }
   },
   "source": [
    "### Definition: Asymptotic dominance\n",
    "\n",
    "The costs of two algorithms are the functions of $n$, e.g., $f(n),~~g(n)$.\n",
    "\n",
    "Function $f(n)$ **asymptotically dominates** function $g(n)$ if **there exist** constants $c$ and $n_0$ such that\n",
    "\n",
    "$$ c \\cdot f(n) \\ge g(n)~~~ \\text{for all}~~ n \\ge n_0$$\n",
    "\n",
    "<br>\n",
    "<p align=\"center\">\n",
    "<img src=\"figures/BigO.png\" alt=\"drawing\" width=\"900\"/>\n",
    "</p>\n",
    "\n"
   ]
  },
  {
   "cell_type": "markdown",
   "metadata": {
    "slideshow": {
     "slide_type": "fragment"
    }
   },
   "source": [
    "####  Upper Bound: \n",
    "\n",
    "> $f(n)$ is the upper bound of $g(n)$\n",
    "\n",
    "> $g(n) \\in \\mathcal{O} (f(n))$\n",
    "\n",
    "> $\n",
    "\\begin{align}\n",
    "\\mathcal{O} (f(n)) & = \\{ g(n) \\mid f(n) \\hbox{ asymptotically dominates } g(n)\\}\n",
    "\\end{align}\n",
    "$"
   ]
  },
  {
   "cell_type": "markdown",
   "metadata": {
    "slideshow": {
     "slide_type": "slide"
    }
   },
   "source": [
    "e.g., $n^2$ asymptotically dominates $120 n - 2000$"
   ]
  },
  {
   "cell_type": "markdown",
   "metadata": {
    "slideshow": {
     "slide_type": "fragment"
    }
   },
   "source": [
    "**Proof:**\n",
    "\n",
    "Find $c$ and $n_0$ such that\n",
    "\n",
    "$120 n - 2000 \\leq c*n^2$  for all $n>n_0$\n",
    "\n",
    "<br>\n",
    "\n",
    "Let $c=1$. Find an $n_0$ such that \n",
    "\n",
    "$\n",
    "120 n - 2000 \\leq n^2 \\\\\n",
    "$\n",
    "for all $n \\ge n_0$\n",
    "\n",
    "$\n",
    "\\begin{align}\n",
    "120n - 2000 & \\leq n^2 \\\\\n",
    "0 & \\leq n^2 - 120n + 2000\\\\\n",
    "0 & \\leq (n-100)(n-20)\\\\\n",
    "\\end{align}\n",
    "$\n",
    "\n",
    "\n",
    "When $n=100$, $120n - 2000 = n^2 $\n",
    "\n",
    "For all $n \\ge 100$, $120n - 2000 \\le n^2 $\n",
    "\n",
    "So, $c=1, n_0=100$ satisfies the definition of asymptotic dominance.\n",
    "\n",
    "\n",
    "<a href='https://www.desmos.com/calculator'>Tools</a>"
   ]
  },
  {
   "cell_type": "code",
   "execution_count": 1,
   "metadata": {
    "code_folding": [
     0
    ],
    "slideshow": {
     "slide_type": "fragment"
    }
   },
   "outputs": [
    {
     "data": {
      "image/png": "[encoded data removed]",
      "text/plain": [
       "<Figure size 640x480 with 1 Axes>"
      ]
     },
     "metadata": {},
     "output_type": "display_data"
    }
   ],
   "source": [
    "import numpy as np\n",
    "import matplotlib.pyplot as plt\n",
    "\n",
    "\n",
    "\n",
    "# show n_0\n",
    "n = np.arange(150)\n",
    "time1 = 120*n + - 2000\n",
    "time2 = n*n\n",
    "\n",
    "# plot\n",
    "plt.figure()\n",
    "plt.plot(n, time1, label='$120 n - 2000$')\n",
    "plt.plot(n, time2, label='$n^2$')\n",
    "plt.axvline(100, color='g')\n",
    "plt.text(94,1000,'$n_0$', fontsize=18, color='g')\n",
    "plt.xlabel(\"$n$\")\n",
    "plt.ylabel('running time')\n",
    "plt.legend()\n",
    "plt.show()"
   ]
  },
  {
   "cell_type": "markdown",
   "metadata": {
    "slideshow": {
     "slide_type": "slide"
    }
   },
   "source": [
    "## Asymptotic Notation\n",
    "\n",
    "Beyond Big-O, we also have\n",
    "\n",
    "\n",
    "\n",
    "> Lower Bound\n",
    "\n",
    "$$\n",
    "\\begin{align}\n",
    "\\Omega (f(n)) & =  \\{ g(n) \\mid  g(n) \\hbox{ asymptotically dominates } f(n)\\}\\\\\n",
    "& \\Rightarrow cf(n) \\le g(n), ~~\\text{when}~~~n\\ge n_0\\\\\n",
    "& \\Rightarrow g(n) \\in \\Omega(f(n)).\n",
    "\\end{align}\n",
    "$$\n",
    "\n",
    "<p align=\"center\">\n",
    "<img src=\"figures/BigOmega.png\" alt=\"drawing\" width=\"900\"/>\n",
    "</p>\n",
    "\n",
    "\n",
    "\n"
   ]
  },
  {
   "cell_type": "markdown",
   "metadata": {
    "slideshow": {
     "slide_type": "fragment"
    }
   },
   "source": [
    "> Tight Bound\n",
    "\n",
    "$$\n",
    "\\begin{align}\n",
    "\\Theta (f(n)) & =  \\mathcal{O} (f(n)) \\cap \\Omega (f(n))\\\\\n",
    "& \\Rightarrow c_1f(n) \\ge g(n) \\ge c_2f(n), ~~\\text{when}~~~n\\ge n_0\\\\\n",
    "& \\Rightarrow g(n) \\in \\Theta(f(n)).\n",
    "\\end{align}\n",
    "$$\n",
    "\n",
    "<img src=\"figures/BigTheta.jpeg\" alt=\"drawing\" width=\"900\"/>\n",
    "\n",
    "\n"
   ]
  },
  {
   "cell_type": "markdown",
   "metadata": {
    "slideshow": {
     "slide_type": "slide"
    }
   },
   "source": [
    "e.g.\n",
    "\n",
    "$120 n - 2000 \\in \\mathcal{O}(n^2)$\n",
    "\n",
    "$ 10n^3 + 2n^2 - 100 \\in \\Omega(n^2) $\n",
    "\n",
    "$ 14n^2 - 5n +50 \\in \\Theta(n^2) $\n",
    "\n",
    "\n",
    "<br><br>\n",
    "We often abuse notation such as\n",
    "\n",
    "$120 n - 2000 = \\mathcal{O}(n^2)$\n",
    "\n",
    "or\n",
    "\n",
    "$120 n - 2000 \\mathrm{~is~} \\mathcal{O}(n^2)$\n",
    "\n"
   ]
  },
  {
   "cell_type": "markdown",
   "metadata": {
    "slideshow": {
     "slide_type": "slide"
    }
   },
   "source": [
    "## Limit Method\n",
    "![dag-sum](figures/an1.png) \n",
    "\n",
    "<!-- <br><br>\n",
    "Analogy:\n",
    "\n",
    "|$\\mathcal{O}~~~$ | $\\Omega~~~$ | $\\Theta~~~$ | $\\mathcal{o}~~~$ | $\\omega~~~$ |\n",
    "|--------------|----------|----------|---------------|----------|\n",
    "| $\\leq~~~$       | $\\geq~~~$   | $=~~~$      | $\\lt~~~$         | $\\gt~~~$    |     -->"
   ]
  },
  {
   "cell_type": "markdown",
   "metadata": {
    "slideshow": {
     "slide_type": "fragment"
    }
   },
   "source": [
    "## More Example\n",
    "\n",
    "> Please compare the following time cost function with $g(n) = n$\n",
    "\n",
    "$$f_1(n) = 2n$$\n",
    "\n",
    "$$f_2(n) = \\sqrt{n}$$\n",
    "\n",
    "$$f_3(n) = n\\sqrt{n}$$\n",
    "\n",
    "$$f_4(n) = \\log(n)$$\n",
    "\n",
    "$$f_5(n) = \\log^k(n)~~ \\text{for} ~~k>1$$\n"
   ]
  },
  {
   "cell_type": "markdown",
   "metadata": {
    "slideshow": {
     "slide_type": "fragment"
    }
   },
   "source": [
    "<span style=\"color:red\">**Test Samples**</span>: \n",
    "\n",
    "$$2n + \\log^3(n) \\in \\mathcal{O}(n^2), ~\\color{red}{\\text{Ture or False?}}$$\n",
    "\n",
    "$$3n^2-2n+7\\log(n) \\in \\Theta(n^2), ~\\color{red}{\\text{Ture or False?}}$$\n",
    "\n",
    "\n",
    "$$5n^2\\log(n)+\\sqrt{n} \\in \\Omega(n^2), ~\\color{red}{\\text{Ture or False?}}$$\n"
   ]
  },
  {
   "cell_type": "markdown",
   "metadata": {
    "slideshow": {
     "slide_type": "slide"
    }
   },
   "source": [
    "![dag-sum](figures/an2.png) \n",
    "\n",
    "\n",
    "<a href='https://github.com/allan-tulane/CMPS2200-Slides/blob/main/module-01-cost/01-intro/asymptoticDominance.pdf'>More</a> Asymptotic Dominance"
   ]
  }
 ],
 "metadata": {
  "celltoolbar": "Slideshow",
  "kernelspec": {
   "display_name": "Python 3 (ipykernel)",
   "language": "python",
   "name": "python3"
  },
  "language_info": {
   "codemirror_mode": {
    "name": "ipython",
    "version": 3
   },
   "file_extension": ".py",
   "mimetype": "text/x-python",
   "name": "python",
   "nbconvert_exporter": "python",
   "pygments_lexer": "ipython3",
   "version": "3.11.0"
  },
  "rise": {
   "autolaunch": true,
   "controls": false,
   "enable_chalkboard": true,
   "scroll": true,
   "theme": "simple",
   "transition": "fade"
  },
  "toc": {
   "base_numbering": 1,
   "nav_menu": {},
   "number_sections": true,
   "sideBar": true,
   "skip_h1_title": true,
   "title_cell": "Table of Contents",
   "title_sidebar": "Contents",
   "toc_cell": true,
   "toc_position": {},
   "toc_section_display": true,
   "toc_window_display": false
  }
 },
 "nbformat": 4,
 "nbformat_minor": 4
}
