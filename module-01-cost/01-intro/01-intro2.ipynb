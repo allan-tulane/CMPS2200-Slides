{
 "cells": [
  {
   "cell_type": "code",
   "execution_count": 1,
   "metadata": {
    "slideshow": {
     "slide_type": "skip"
    }
   },
   "outputs": [
    {
     "name": "stderr",
     "output_type": "stream",
     "text": [
      "/var/folders/58/tt1ykq5j7t70x29f1wjcb1640000gn/T/ipykernel_6232/1977562237.py:2: DeprecationWarning: Importing display from IPython.core.display is deprecated since IPython 7.14, please import from IPython display\n",
      "  from IPython.core.display import display,HTML\n"
     ]
    },
    {
     "data": {
      "text/html": [
       "<style>.prompt{width: 0px; min-width: 0px; visibility: collapse}</style>"
      ],
      "text/plain": [
       "<IPython.core.display.HTML object>"
      ]
     },
     "metadata": {},
     "output_type": "display_data"
    },
    {
     "data": {
      "text/html": [
       "<style>\n",
       "div#notebook {\n",
       " font-family: \"Exo_2\", sans-serif;\n",
       "}\n",
       "\n",
       ".rendered_html h1,\n",
       ".text_cell_render h1 {\n",
       " color: #126dce;\n",
       " font-size: 220%;\n",
       " text-align: center;\n",
       " font-weight: lighter;\n",
       "}\n",
       ".rendered_html h2,\n",
       ".text_cell_render h2 {\n",
       " text-align: center;\n",
       " font-size: 170%;\n",
       " color: #126dce;\n",
       " font-style: normal;\n",
       " font-weight: lighter;\n",
       "}\n",
       ".rendered_html h3,\n",
       ".text_cell_render h3 {\n",
       " font-size: 150%;\n",
       " color: #126dce;\n",
       " font-weight: lighter;\n",
       " text-decoration: italic;\n",
       " font-style: normal;\n",
       "}\n",
       ".rendered_html h4,\n",
       ".text_cell_render h4 {\n",
       " font-size: 120%;\n",
       " color: #126dce;\n",
       " font-weight: underline;\n",
       " font-style: normal;\n",
       "}\n",
       ".rendered_html h5,\n",
       ".text_cell_render h5 {\n",
       " font-size: 100%;\n",
       " color: #2f2f2f;\n",
       " font-weight: lighter;\n",
       " text-decoration: underline;\n",
       "}\n",
       "</style>\n"
      ],
      "text/plain": [
       "<IPython.core.display.HTML object>"
      ]
     },
     "metadata": {},
     "output_type": "display_data"
    }
   ],
   "source": [
    "# setup\n",
    "from IPython.core.display import display,HTML\n",
    "display(HTML('<style>.prompt{width: 0px; min-width: 0px; visibility: collapse}</style>'))\n",
    "display(HTML(open('rise.css').read()))\n",
    "\n",
    "# imports\n",
    "import numpy as np\n",
    "import matplotlib.pyplot as plt\n",
    "import seaborn as sns\n",
    "%matplotlib inline\n",
    "sns.set(style=\"whitegrid\", font_scale=1.5, rc={'figure.figsize':(12, 8)})\n"
   ]
  },
  {
   "cell_type": "markdown",
   "metadata": {
    "slideshow": {
     "slide_type": "slide"
    }
   },
   "source": [
    "# CMPS 2200\n",
    "# Introduction to Algorithms\n",
    "\n",
    "## Overview (Cont'd)\n"
   ]
  },
  {
   "cell_type": "markdown",
   "metadata": {
    "slideshow": {
     "slide_type": "slide"
    }
   },
   "source": [
    "### Analysis of Linear Search [Time Cost]\n",
    "\n",
    "- Assign a time cost $c_i$ to each line $i$. \n",
    "- Figure out how often each line is run $n_i$\n",
    "- total cost is the cost per line multiplied by the number of times it is run\n",
    "\n",
    "\n",
    "$\n",
    "\\hbox{Cost(linear-search, mylist, key)} = \\sum_i c_i * n_i\n",
    "$\n",
    "\n",
    "\n",
    "```python\n",
    "\n",
    "def linear_search(mylist, key):        #   cost         number of times run\n",
    "    for i,v in enumerate(mylist):      #   c1               n1\n",
    "        if v == key:                   #   c2               n2\n",
    "            return i                   #   c3               n3\n",
    "    return -1                          #   c4               n4\n",
    "    \n",
    "```\n",
    "\n",
    "> $n_i$ really depends on various inputs, so we have best, worst and average cases.\n",
    "\n",
    "<br>\n",
    "<br>"
   ]
  },
  {
   "cell_type": "markdown",
   "metadata": {
    "slideshow": {
     "slide_type": "slide"
    }
   },
   "source": [
    "### Big Idea: Asymptotic Analysis\n",
    "\n",
    "- Ignore machine-dependent constants\n",
    "- Focus on **growth** of running time\n",
    "  - What happens in the limit as $n \\rightarrow \\infty$ https://en.wikipedia.org/wiki/Limit_(mathematics)\n",
    "\n",
    "$ c_1n + c_2n + c_4 \\approx c_5n + c_6n + c_4 $"
   ]
  },
  {
   "cell_type": "markdown",
   "metadata": {
    "slideshow": {
     "slide_type": "slide"
    }
   },
   "source": [
    "### Definition: Asymptotic dominance\n",
    "\n",
    "Function $f(n)$ **asymptotically dominates** function $g(n)$ if **there exist** constants $c$ and $n_0$ such that\n",
    "\n",
    "$ c \\cdot f(n) \\ge g(n)~~~$ **for all** $~~~n \\ge n_0$\n",
    "\n",
    "<br>\n",
    "\n",
    "e.g., $f(n)= c_1n^2$ asymptotically dominates $g(n)=c_2n +c_3$\n",
    "\n",
    "\n"
   ]
  },
  {
   "cell_type": "markdown",
   "metadata": {
    "slideshow": {
     "slide_type": "slide"
    }
   },
   "source": [
    "## Asymptotic Notation\n",
    "\n",
    "$\n",
    "\\begin{align}\n",
    "\\mathcal{O} (f(n)) & = \\{ g(n) \\mid f(n) \\hbox{ asymptotically dominates } g(n)\\}\\\\\n",
    "\\Omega (f(n)) & =  \\{ g(n) \\mid  g(n) \\hbox{ asymptotically dominates } f(n)\\}\\\\\n",
    "\\Theta (f(n)) & =  \\mathcal{O} (f(n)) \\cap \\Omega (f(n))\n",
    "\\end{align}\n",
    "$\n",
    "\n",
    "e.g.,\n",
    "\n",
    "$120 n - 2000 \\in \\mathcal{O}(n^2)$\n",
    "\n",
    "$ 10n^3 + 2n^2 - 100 \\in \\Omega(n^2) $\n",
    "\n",
    "$ 14n^2 - 5n +50 \\in \\Theta(n^2) $\n",
    "\n",
    "\n",
    "<br><br>\n",
    "We often abuse notation such as\n",
    "\n",
    "$120 n - 2000 = \\mathcal{O}(n^2)$\n",
    "\n",
    "or\n",
    "\n",
    "$120 n - 2000 \\mathrm{~is~} \\mathcal{O}(n^2)$\n",
    "<br><br>"
   ]
  },
  {
   "cell_type": "markdown",
   "metadata": {
    "slideshow": {
     "slide_type": "slide"
    }
   },
   "source": [
    "\n",
    "## Limit Method\n",
    "![dag-sum](figures/an1.png) \n",
    "\n",
    "<br>\n"
   ]
  },
  {
   "cell_type": "markdown",
   "metadata": {
    "slideshow": {
     "slide_type": "fragment"
    }
   },
   "source": [
    "$f_1(n) = 2n$\n",
    "\n",
    "$f_2(n) = \\sqrt{n}$\n",
    "\n",
    "$f_3(n) = n\\sqrt{n}$\n",
    "\n",
    "$f_4(n) = \\log(n)$\n",
    "\n",
    "$f_5(n) = \\log^k(n)$ for $k>1$\n"
   ]
  },
  {
   "cell_type": "markdown",
   "metadata": {
    "slideshow": {
     "slide_type": "slide"
    }
   },
   "source": [
    "![dag-sum](figures/an2.png) "
   ]
  }
 ],
 "metadata": {
  "celltoolbar": "Slideshow",
  "kernelspec": {
   "display_name": "Python 3 (ipykernel)",
   "language": "python",
   "name": "python3"
  },
  "language_info": {
   "codemirror_mode": {
    "name": "ipython",
    "version": 3
   },
   "file_extension": ".py",
   "mimetype": "text/x-python",
   "name": "python",
   "nbconvert_exporter": "python",
   "pygments_lexer": "ipython3",
   "version": "3.11.0"
  },
  "rise": {
   "autolaunch": true,
   "controls": false,
   "enable_chalkboard": true,
   "scroll": true,
   "theme": "simple",
   "transition": "fade"
  },
  "toc": {
   "base_numbering": 1,
   "nav_menu": {},
   "number_sections": true,
   "sideBar": true,
   "skip_h1_title": true,
   "title_cell": "Table of Contents",
   "title_sidebar": "Contents",
   "toc_cell": true,
   "toc_position": {},
   "toc_section_display": true,
   "toc_window_display": false
  }
 },
 "nbformat": 4,
 "nbformat_minor": 4
}
