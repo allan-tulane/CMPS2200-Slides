{
 "cells": [
  {
   "cell_type": "code",
   "execution_count": 1,
   "metadata": {
    "code_folding": [],
    "scrolled": true,
    "slideshow": {
     "slide_type": "skip"
    }
   },
   "outputs": [
    {
     "data": {
      "text/html": [
       "<style>.prompt{width: 0px; min-width: 0px; visibility: collapse}</style>"
      ],
      "text/plain": [
       "<IPython.core.display.HTML object>"
      ]
     },
     "metadata": {},
     "output_type": "display_data"
    },
    {
     "data": {
      "text/html": [
       "<style>\n",
       "div#notebook {\n",
       " font-family: \"Exo_2\", sans-serif;\n",
       "}\n",
       "\n",
       ".rendered_html h1,\n",
       ".text_cell_render h1 {\n",
       " color: #126dce;\n",
       " font-size: 220%;\n",
       " text-align: center;\n",
       " font-weight: lighter;\n",
       "}\n",
       ".rendered_html h2,\n",
       ".text_cell_render h2 {\n",
       " text-align: center;\n",
       " font-size: 170%;\n",
       " color: #126dce;\n",
       " font-style: normal;\n",
       " font-weight: lighter;\n",
       "}\n",
       ".rendered_html h3,\n",
       ".text_cell_render h3 {\n",
       " font-size: 150%;\n",
       " color: #126dce;\n",
       " font-weight: lighter;\n",
       " text-decoration: italic;\n",
       " font-style: normal;\n",
       "}\n",
       ".rendered_html h4,\n",
       ".text_cell_render h4 {\n",
       " font-size: 120%;\n",
       " color: #126dce;\n",
       " font-weight: underline;\n",
       " font-style: normal;\n",
       "}\n",
       ".rendered_html h5,\n",
       ".text_cell_render h5 {\n",
       " font-size: 100%;\n",
       " color: #2f2f2f;\n",
       " font-weight: lighter;\n",
       " text-decoration: underline;\n",
       "}\n",
       "</style>\n"
      ],
      "text/plain": [
       "<IPython.core.display.HTML object>"
      ]
     },
     "metadata": {},
     "output_type": "display_data"
    }
   ],
   "source": [
    "# setup\n",
    "from IPython.core.display import display,HTML\n",
    "display(HTML('<style>.prompt{width: 0px; min-width: 0px; visibility: collapse}</style>'))\n",
    "display(HTML(open('rise.css').read()))\n",
    "\n",
    "# imports\n",
    "import numpy as np\n",
    "import matplotlib.pyplot as plt\n",
    "import seaborn as sns\n",
    "%matplotlib inline\n",
    "sns.set(style=\"whitegrid\", font_scale=1.5, rc={'figure.figsize':(12, 6)})\n"
   ]
  },
  {
   "cell_type": "markdown",
   "metadata": {
    "slideshow": {
     "slide_type": "slide"
    }
   },
   "source": [
    "# CMPS 2200\n",
    "# Introduction to Algorithms\n",
    "\n",
    "## Greedy Algorithms - Huffman Coding\n"
   ]
  },
  {
   "cell_type": "markdown",
   "metadata": {
    "slideshow": {
     "slide_type": "slide"
    }
   },
   "source": [
    "We will now look at *Greedy* algorithms. The greedy framework is very simple: \n",
    "\n",
    "- Let $\\mathcal{X}$ be possible choices for the solution. Initialize solution $S=\\emptyset$. \n",
    "- Select $x\\in\\mathcal{X}$ according to a `greedy criterion` $C(x)$ and set $S := S \\cup \\{x\\}, \\mathcal{X} := \\mathcal{X} - \\{x\\}$.\n",
    "- Repeat until solution is complete.\n",
    "\n",
    "\n",
    "### Unit Task Scheduling\n",
    "\n",
    "<img src=\"simple_unit_task1.jpeg\" width=\"70%\">\n",
    "\n",
    "### The Knapsack Problem\n",
    "\n",
    "Let's look another optimization problem. Suppose there are $n$ objects, each with a *value* $v_i$ and *weight* $w_i$. You have a \"knapsack\" of capacity $W$ and want to fill it with a set of objects $X \\subseteq [n]$ so that $w(X) \\leq W$ and $v(X)$ is maximized. \n",
    "\n",
    "<img src=\"Knapsack.jpg\" width=\"50%\">"
   ]
  },
  {
   "cell_type": "markdown",
   "metadata": {
    "slideshow": {
     "slide_type": "slide"
    }
   },
   "source": [
    "## Fixed-length encoding\n",
    "\n",
    "Suppose we are given a document $D$ in which we use the alphabet $\\Sigma = \\{\\sigma_1 \\ldots \\sigma_k\\}$. Our goal is to create a binary encoding of $\\Sigma$ to represent $D$ with as few bits as possible. Of course, the encoding must distinctly represent $\\Sigma$.\n",
    "\n",
    "Example: Suppose dictionary $\\Sigma=\\{A, B, C, D\\}$, and document $D = \\langle A, A, A, A, A, A, A, A, A, B, C, D\\rangle$. \n",
    "\n",
    "The naive encoding could be \n",
    "\n",
    "|$$\\sigma$$|$$e(\\sigma)$$         |\n",
    "|-------|-----------------------|\n",
    "| A     | 00 |\n",
    "| B     | 01 |\n",
    "| C     | 10 | \n",
    "| D     | 11 |\n",
    "\n",
    "This is a **fixed-length** encoding of $\\Sigma$. What is the number of bits required to encode the entire document with this encoding?\n"
   ]
  },
  {
   "cell_type": "markdown",
   "metadata": {
    "slideshow": {
     "slide_type": "fragment"
    }
   },
   "source": [
    "The length of the document with this encoding is $2\\cdot 12 = 24$. The encoding is:\n",
    "\n",
    "$e(D) = \"000000000000000000011011\"$"
   ]
  },
  {
   "cell_type": "markdown",
   "metadata": {
    "slideshow": {
     "slide_type": "slide"
    }
   },
   "source": [
    "## Variable-length encoding\n",
    "\n",
    "\n",
    "Fixed-length encoding doesn't account for redundancy in the document. \n",
    "\n",
    "Let $f: \\sigma \\rightarrow \\mathbb{R}$ be the number of times a character appears in $D$; this is easily computed in $O(|D|)$ work. What about the span?\n",
    "\n",
    "Intuitively, we should encode the document by the frequency of the characters in the alphabet. The more frequent the character, the smaller its code should be.\n",
    "\n",
    "\n",
    "$D = \\langle A, A, A, A, A, A, A, A, A, B, C, D\\rangle$\n",
    "\n",
    "|$$\\sigma$$ | $$f(\\sigma)$$|\n",
    "|-------|---------------|\n",
    "| A     | 9 |\n",
    "| B     | 1 |\n",
    "| C     | 1 | \n",
    "| D     | 1 |\n",
    "\n",
    "\n",
    "\n",
    "So, following that logic, we could come up with a code like this:\n",
    "\n",
    "|$$\\sigma$$ |$$e'(\\sigma)$$|\n",
    "|-------|---------------|\n",
    "| A     | 0   |\n",
    "| B     | 1  |\n",
    "| C     | 00 | \n",
    "| D     | 11 |\n",
    "\n",
    "Is this a valid encoding?"
   ]
  },
  {
   "cell_type": "markdown",
   "metadata": {
    "slideshow": {
     "slide_type": "slide"
    }
   },
   "source": [
    "<br><br>\n",
    "How should we decode `11`? It's ambiguous between `B` and `DD`.\n",
    "\n",
    "<br><br>\n",
    "<br><br>\n",
    "<br><br>\n",
    "\n",
    "<br><br>\n",
    "<br><br>\n",
    "\n",
    "Instead, we could use:\n",
    "\n",
    "\n",
    "|$$\\sigma$$ |$$e'(\\sigma)$$|\n",
    "|-------|---------------|\n",
    "| A     | 0   |\n",
    "| B     | 10  |\n",
    "| C     | 110 | \n",
    "| D     | 111 |\n",
    "\n",
    "This is a **variable-length** encoding, where each character may be encoded by a different number of bits.\n",
    "\n",
    "This leads to an encoding of $D = \\langle A, A, A, A, A, A, A, A, A, B, C, D\\rangle$ as:\n",
    "\n",
    "<br><br><br>\n",
    "\n",
    "$e'(D) = \"00000000010110111\"$\n",
    "\n",
    "<br><br>\n",
    "\n",
    "This has length $1\\cdot 9 + 2\\cdot 1 + 3\\cdot 1 + 3\\cdot 1 = 17$. So this is a bit better. \n",
    "\n",
    "In general, the cost of a given encoding $e$ is \n",
    "\n",
    "$$C(e) = \\sum_{i=0}^{|D|} |e(D[i])| = \\sum_{\\sigma\\in\\Sigma} f(\\sigma)\\cdot e(\\sigma).$$\n",
    "\n",
    "Over all possible valid encodings $e: \\Sigma \\rightarrow \\{0,1\\}^*$, we want to find a variable-length encoding $e_*$ so that $C(e_*)$ is minimized.\n",
    "\n"
   ]
  },
  {
   "cell_type": "markdown",
   "metadata": {
    "slideshow": {
     "slide_type": "slide"
    }
   },
   "source": [
    "## Encodings as Trees\n",
    "\n",
    "\n",
    "<img src = \"encoding_trees.jpg\" width=\"60%\">\n",
    "\n",
    "Every prefix-free encoding $e$ can be represented by a tree $T_e$. \n",
    "\n",
    "The depth of each character $d_T(\\sigma)$ in the tree determines how many bits are needed to encode $\\sigma$.\n",
    "\n",
    "So the optimal compression of $D$ can be achieved by identifying the encoding tree $T$ that minimizes:\n",
    "\n",
    "$$C(T) = \\sum_{\\sigma\\in\\Sigma} f(\\sigma)\\cdot d_T(\\sigma)$$\n",
    "\n",
    "We will come up with a greedy algorithm for constructing $T$ and show that it is optimal.\n",
    "\n",
    "\n"
   ]
  },
  {
   "cell_type": "markdown",
   "metadata": {
    "slideshow": {
     "slide_type": "slide"
    }
   },
   "source": [
    "### Huffman Coding\n",
    "\n",
    "\n",
    "Intuitively we know we should ensure that when constructing an encoding tree, the higher the frequency is, the shorter the path length is.\n",
    "\n",
    "How about if we sort the frequencies in descending order and then assign tree positions in this order? But how do we guarantee the highest frequency characters have a short depth? \n",
    "\n",
    "\n",
    "\n",
    "[<a href='https://en.wikipedia.org/wiki/Shannon%E2%80%93Fano_coding'>Shannon-Fano Coding</a>] We could group the characters into two sets of equal total frequency, this way the more frequent characters will have lower depth. This divide-and-conquer approach was developed by Shannon-Fano... but is not optimal.\n",
    "\n",
    "\n",
    "David Huffman (as a graduate student in Robert Fano's class) came up with a *bottom-up* greedy algorithm as a class project and was able to prove that it was optimal.\n",
    "\n",
    "The main idea of `Huffman Coding` is to choose the two **least** frequent characters $x$ and $y$ and create a subtree with $x$ and $y$ as sibling leaves for the final encoding. We then remove $x$ and $y$ from $\\Sigma$ and add a *new* character $z$ with frequency $f(x)+f(y)$, and recurse to compute a tree $T'$. The final tree $T$ is just $T'$ with $z$ replaced by the subtree with $x, y$ as siblings. \n",
    "\n",
    "<img src=\"huffman_example.jpg\" width=\"60%\">\n"
   ]
  },
  {
   "cell_type": "markdown",
   "metadata": {
    "slideshow": {
     "slide_type": "slide"
    }
   },
   "source": [
    "#### One More Example\n",
    "\n",
    "|Character  | Frequency |\n",
    "|---|--------|\n",
    "|a  | 5      |\n",
    "|b  | 9      |\n",
    "|c  | 12     |\n",
    "|d  | 13     |\n",
    "|e  | 16     |\n",
    "|f  | 45     |\n",
    "\n",
    "    "
   ]
  },
  {
   "cell_type": "markdown",
   "metadata": {
    "slideshow": {
     "slide_type": "slide"
    }
   },
   "source": [
    "### Decoding\n",
    "\n",
    "So how do we use Huffman coding in practice?\n",
    "\n",
    "Given a document $D$, we would compute frequencies and then construct an encoding tree $T$. Then to store the compressed version of $D$ we save the encoding of $\\Sigma$, the tree $T$ and the encoded version of $D$. To decode a document, we would read bits sequentially and traverse $T$, emitting the appropriate character from $\\Sigma$ whenever we hit a leaf. \n",
    "\n",
    "What is the worst-case work of decoding a document?\n",
    "\n",
    "<img src = \"encoding_trees.jpg\" width=\"60%\">"
   ]
  },
  {
   "cell_type": "markdown",
   "metadata": {
    "slideshow": {
     "slide_type": "subslide"
    }
   },
   "source": [
    "$00000000010110111 \\rightarrow \\langle A, A, A, A, A, A, A, A, A, B, C, D\\rangle$\n",
    "\n",
    "- We start at the root, and descend the tree until we reach a leaf.\n",
    "- Then, we return to the root and repeat\n",
    "\n",
    "So, if the input has $n$ bits, we will visit each bit exactly once.\n",
    "\n",
    "$\\Rightarrow O(n)$\n",
    "\n",
    "which is equivalent to the total cost of the encoding tree:\n",
    "\n",
    "$\\Rightarrow O(C(T))$"
   ]
  },
  {
   "cell_type": "markdown",
   "metadata": {
    "slideshow": {
     "slide_type": "slide"
    }
   },
   "source": [
    "### Implementation using Priority Queues\n",
    "\n",
    "The *priority queue* is a tree-based data structure that matches well with greedy algorithms since it allows for efficient insertions, removals and updates of items. \n",
    "\n",
    "\n",
    "For simplicity we'll assume that we are always seeking the minimum-value element from the priority queue. The priority queue data structure needs to support some basic operations:\n",
    "\n",
    "- *deleteMin*: Identify the element with minimum value and remove it. \n",
    "\n",
    "- *insert(x, s)*: insert a new element $x$ with initial value $s$.\n"
   ]
  },
  {
   "cell_type": "markdown",
   "metadata": {
    "slideshow": {
     "slide_type": "fragment"
    }
   },
   "source": [
    "\n",
    "### The Heap Property\n",
    "\n",
    "The *heap property* for a tree states that every node in the tree is smaller than either of its children. This means that the root of a tree with the heap property is always the minimum element. So for a binary tree:\n",
    "\n",
    "<img src=\"heap_property_fixed_examples.jpg\" width=\"70%\">\n",
    "\n",
    "Notice that a binary heap is less restrictive than a binary search tree since the left and right subtrees can be swapped.\n",
    "\n",
    "We've seen that binary trees that have all possible nodes have logarithmic depth. In lab you implement a *binary heap*, which has performance since it is an \"almost-complete\", and thus balanced, binary tree. \n",
    "\n",
    "Maintaining the heap property upon insertion or deletion requires time proportional to the depth of the tree because we can swap elements upward or downward, following the path from the modification either upward or downward.\n",
    "\n"
   ]
  },
  {
   "cell_type": "markdown",
   "metadata": {
    "slideshow": {
     "slide_type": "fragment"
    }
   },
   "source": [
    "### Meldable Heaps\n",
    "\n",
    "We'll look at an alternative to maintaining the shape property. We will still use binary trees and maintain the heap property, but will not require them to be almost-complete. We will make use of the observation that really, heap operations just require the ability to combine or *meld* heaps efficiently:\n",
    "\n",
    "- *deleteMin* needs to delete the root of the tree, and then somehow meld the left and right subtrees.\n",
    "\n",
    "![heap-meld-1.png](heap-meld-1.png)\n",
    "\n",
    "to delete the minimum value, remove the root and meld the two subtrees\n",
    "\n",
    "![heap-meld-2.png](heap-meld-2.png)\n",
    "\n",
    "\n",
    "- *insert* is just the melding of the current tree and a singleton tree.\n",
    "\n",
    "<br>\n",
    "\n",
    "Suppose we wish to meld two heaps $A$ and $B$, with $A$ smaller than $B$. To create a single tree $C$ from $A$ and $B$, we need to decide on the root. Suppose we let the root $r_A$ of the smaller tree $A$ be the new root. What do we do with the left and right subtrees $L_A$ and $R_A$ of $r_A$ and $B$? \n",
    "\n",
    "If we maintain the left subtree $L_A$ of $r_A$, we can meld $R_A$ and $B$ and make this the right subtree of $r_A$. \n",
    "\n",
    "<img src=\"meld_schematic.jpg\" width=\"70%\">\n",
    "\n",
    "<img src = \"example_heap_meld.jpg\" width=\"50%\">\n",
    "\n",
    "\n",
    "\n",
    "\n",
    "\n",
    "This is a well-defined procedure for melding two heaps, but as we can see in this example, we may actually obtain a very long right \"spine\" of the melded tree. Actually in the worst case we might take $\\Theta(|A|+|B|)$ work! \n"
   ]
  },
  {
   "cell_type": "markdown",
   "metadata": {
    "slideshow": {
     "slide_type": "fragment"
    }
   },
   "source": [
    "### Huffman Coding (Cont'd)\n",
    "\n",
    "We need to efficiently retrieve the next two smallest frequency nodes.\n",
    "\n",
    "\n",
    "1. Initialize a min-heap with character frequencies $f(\\sigma)$\n",
    "\n",
    "\n",
    "![huffman-heap-2.png](huffman-heap-2.png)\n",
    "\n",
    "\n",
    "Then, repeat:\n",
    "\n",
    "2. Call `deleteMin` twice to get the two least frequent nodes $x$ and $y$\n",
    "3. Create a new node $z$ with frequency $f(x) + f(y)$\n",
    "4. Make $x$ and $y$ children of $z$ in the tree.\n",
    "4. Call `insert` to add $z$ to the heap\n",
    "\n",
    "How many times will this repeat?\n",
    "\n",
    "<br><br>\n",
    "\n",
    "What is work/span of this algorithm?\n"
   ]
  },
  {
   "cell_type": "markdown",
   "metadata": {
    "slideshow": {
     "slide_type": "fragment"
    }
   },
   "source": [
    "Because we will always reduce the number of nodes by 1, this will repeat $n$ times (where $n = |\\Sigma|$).\n",
    "\n",
    "The cost of 2 calls to `deleteMin` and one call to `insert` is $3 \\lg n$.\n",
    "\n",
    "Thus, total work is $O(n \\lg n)$.\n",
    "\n",
    "We unfortunately have not exposed any parallelism in this algorithm, so the span is also $O(n \\lg n)$."
   ]
  },
  {
   "cell_type": "code",
   "execution_count": 10,
   "metadata": {
    "slideshow": {
     "slide_type": "slide"
    }
   },
   "outputs": [
    {
     "name": "stdout",
     "output_type": "stream",
     "text": [
      "The charachter is A with its frequency as 9\n",
      "The charachter is B with its frequency as 4\n",
      "The charachter is C with its frequency as 2\n",
      "The charachter is D with its frequency as 1\n",
      "4\n",
      "(1, 'D')\n"
     ]
    }
   ],
   "source": [
    "import math, queue\n",
    "from collections import Counter\n",
    "\n",
    "## we can also do `map`, `reduce`\n",
    "\n",
    "cnt = Counter()\n",
    "for word in ['A', 'A', 'A', 'A', 'A', 'A', 'A', 'A', 'A', 'B', 'C', 'B', 'D', 'B', 'C', 'B']:\n",
    "    cnt[word] += 1\n",
    "\n",
    "## print each frequency per key\n",
    "for c in cnt.keys():\n",
    "    print('The charachter is', c, 'with its frequency as', cnt[c])\n",
    "\n",
    "    \n",
    "\n",
    "class TreeNode(object):\n",
    "    # we assume data is a tuple (frequency, character)\n",
    "    def __init__(self, left=None, right=None, data=None):\n",
    "        self.left = left\n",
    "        self.right = right\n",
    "        self.data = data\n",
    "    def __lt__(self, other):\n",
    "        return(self.data < other.data)\n",
    "    def children(self):\n",
    "        return((self.left, self.right))\n",
    "\n",
    "\n",
    "p = queue.PriorityQueue()\n",
    "# construct heap from frequencies, the initial items should be\n",
    "# the leaves of the final tree\n",
    "for c in cnt.keys():\n",
    "    p.put(TreeNode(None,None,(cnt[c], c)))\n",
    "\n",
    "print(p.qsize())\n",
    "\n",
    "print(p.get().data)"
   ]
  }
 ],
 "metadata": {
  "celltoolbar": "Slideshow",
  "kernelspec": {
   "display_name": "Python 3 (ipykernel)",
   "language": "python",
   "name": "python3"
  },
  "language_info": {
   "codemirror_mode": {
    "name": "ipython",
    "version": 3
   },
   "file_extension": ".py",
   "mimetype": "text/x-python",
   "name": "python",
   "nbconvert_exporter": "python",
   "pygments_lexer": "ipython3",
   "version": "3.9.6"
  },
  "rise": {
   "autolaunch": true,
   "controls": false,
   "enable_chalkboard": true,
   "scroll": true,
   "theme": "simple",
   "transition": "fade"
  },
  "toc": {
   "base_numbering": 1,
   "nav_menu": {},
   "number_sections": true,
   "sideBar": true,
   "skip_h1_title": true,
   "title_cell": "Table of Contents",
   "title_sidebar": "Contents",
   "toc_cell": true,
   "toc_position": {},
   "toc_section_display": true,
   "toc_window_display": false
  }
 },
 "nbformat": 4,
 "nbformat_minor": 4
}
