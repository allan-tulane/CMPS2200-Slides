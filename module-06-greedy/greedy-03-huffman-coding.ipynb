{
 "cells": [
  {
   "cell_type": "code",
   "execution_count": 1,
   "metadata": {
    "code_folding": [],
    "scrolled": true,
    "slideshow": {
     "slide_type": "skip"
    }
   },
   "outputs": [
    {
     "data": {
      "text/html": [
       "<style>.prompt{width: 0px; min-width: 0px; visibility: collapse}</style>"
      ],
      "text/plain": [
       "<IPython.core.display.HTML object>"
      ]
     },
     "metadata": {},
     "output_type": "display_data"
    },
    {
     "data": {
      "text/html": [
       "<style>\n",
       "div#notebook {\n",
       " font-family: \"Exo_2\", sans-serif;\n",
       "}\n",
       "\n",
       ".rendered_html h1,\n",
       ".text_cell_render h1 {\n",
       " color: #126dce;\n",
       " font-size: 220%;\n",
       " text-align: center;\n",
       " font-weight: lighter;\n",
       "}\n",
       ".rendered_html h2,\n",
       ".text_cell_render h2 {\n",
       " text-align: center;\n",
       " font-size: 170%;\n",
       " color: #126dce;\n",
       " font-style: normal;\n",
       " font-weight: lighter;\n",
       "}\n",
       ".rendered_html h3,\n",
       ".text_cell_render h3 {\n",
       " font-size: 150%;\n",
       " color: #126dce;\n",
       " font-weight: lighter;\n",
       " text-decoration: italic;\n",
       " font-style: normal;\n",
       "}\n",
       ".rendered_html h4,\n",
       ".text_cell_render h4 {\n",
       " font-size: 120%;\n",
       " color: #126dce;\n",
       " font-weight: underline;\n",
       " font-style: normal;\n",
       "}\n",
       ".rendered_html h5,\n",
       ".text_cell_render h5 {\n",
       " font-size: 100%;\n",
       " color: #2f2f2f;\n",
       " font-weight: lighter;\n",
       " text-decoration: underline;\n",
       "}\n",
       "</style>\n"
      ],
      "text/plain": [
       "<IPython.core.display.HTML object>"
      ]
     },
     "metadata": {},
     "output_type": "display_data"
    }
   ],
   "source": [
    "# setup\n",
    "from IPython.core.display import display,HTML\n",
    "display(HTML('<style>.prompt{width: 0px; min-width: 0px; visibility: collapse}</style>'))\n",
    "display(HTML(open('rise.css').read()))\n",
    "\n",
    "# imports\n",
    "import numpy as np\n",
    "import matplotlib.pyplot as plt\n",
    "import seaborn as sns\n",
    "%matplotlib inline\n",
    "sns.set(style=\"whitegrid\", font_scale=1.5, rc={'figure.figsize':(12, 6)})\n"
   ]
  },
  {
   "cell_type": "markdown",
   "metadata": {
    "slideshow": {
     "slide_type": "slide"
    }
   },
   "source": [
    "# CMPS 2200\n",
    "# Introduction to Algorithms\n",
    "\n",
    "## Huffman Coding Implementation\n"
   ]
  },
  {
   "cell_type": "markdown",
   "metadata": {
    "slideshow": {
     "slide_type": "slide"
    }
   },
   "source": [
    "## Fixed-length encoding and Variable-length encoding\n",
    "\n",
    "\n",
    "Suppose we are given a document $D$ in which we use the alphabet $\\Sigma = \\{\\sigma_1 \\ldots \\sigma_k\\}$. Our goal is to create a binary encoding of $\\Sigma$ to represent $D$ with as few bits as possible. \n",
    "\n",
    "Example: Suppose dictionary $\\Sigma=\\{A, B, C, D\\}$, and document $D = \\langle A, A, A, A, A, A, A, A, A, B, C, D\\rangle$. \n",
    "\n",
    "The `fixed-length encoding` could be \n",
    "\n",
    "|$$\\sigma$$|$$e(\\sigma)$$         |\n",
    "|-------|-----------------------|\n",
    "| A     | 00 |\n",
    "| B     | 01 |\n",
    "| C     | 10 | \n",
    "| D     | 11 |\n",
    "\n",
    "Define $f: \\sigma \\rightarrow \\mathbb{R}$ be the number of times a character appears in $D$. The `variable-length coding` could be\n",
    "\n",
    "|$$\\sigma$$ |$$f(\\sigma)$$| $$e'(\\sigma)$$|\n",
    "|-------|--|-------------|\n",
    "| A     | 9 | 0   |\n",
    "| B     | 1 |10  |\n",
    "| C     | 1 |110 | \n",
    "| D     | 1 |111 |"
   ]
  },
  {
   "cell_type": "code",
   "execution_count": 2,
   "metadata": {},
   "outputs": [
    {
     "name": "stdout",
     "output_type": "stream",
     "text": [
      "Counter({'A': 9, 'B': 3, 'C': 2, 'D': 1})\n",
      "The charachter is A with its frequency as 9\n",
      "The charachter is B with its frequency as 3\n",
      "The charachter is C with its frequency as 2\n",
      "The charachter is D with its frequency as 1\n"
     ]
    }
   ],
   "source": [
    "from collections import Counter\n",
    "\n",
    "## we can also do `map`, `reduce`\n",
    "\n",
    "cnt = Counter()\n",
    "for word in ['A', 'A', 'A', 'A', 'A', 'A', 'A', 'A', 'A', 'B', 'C', 'B', 'D', 'B', 'C']:\n",
    "    cnt[word] += 1\n",
    "\n",
    "\n",
    "## print the overall counter\n",
    "print(cnt)\n",
    "\n",
    "## print each frequency per key\n",
    "for c in cnt.keys():\n",
    "    print('The charachter is', c, 'with its frequency as', cnt[c])\n"
   ]
  },
  {
   "cell_type": "markdown",
   "metadata": {
    "slideshow": {
     "slide_type": "slide"
    }
   },
   "source": [
    "## Encodings as Trees\n",
    "\n",
    "\n",
    "<img src = \"encoding_trees.jpg\" width=\"60%\">\n",
    "\n",
    "Every prefix-free encoding $e$ can be represented by a tree $T_e$. \n",
    "\n",
    "The depth of each character $d_T(\\sigma)$ in the tree determines how many bits are needed to encode $\\sigma$.\n",
    "\n",
    "<span style=\"color:red\">Question:</span> What is the tree depth for fixed-length coding?\n",
    "\n",
    "So the optimal compression of $D$ can be achieved by identifying the encoding tree $T$ that minimizes:\n",
    "\n",
    "$$C(T) = \\sum_{\\sigma\\in\\Sigma} f(\\sigma)\\cdot d_T(\\sigma)$$\n"
   ]
  },
  {
   "cell_type": "markdown",
   "metadata": {
    "slideshow": {
     "slide_type": "slide"
    }
   },
   "source": [
    "### Huffman Coding [1951']\n",
    "\n",
    "\n",
    "The main idea of `Huffman Coding` is to choose the two **least** frequent characters $x$ and $y$ and create a subtree with $x$ and $y$ as sibling leaves for the final encoding. We then remove $x$ and $y$ from $\\Sigma$ and add a *new* character $z$ with frequency $f(x)+f(y)$, and recurse to compute a tree $T'$. The final tree $T$ is just $T'$ with $z$ replaced by the subtree with $x, y$ as siblings. \n",
    "\n",
    "<img src=\"huffman_example.jpg\" width=\"60%\">\n"
   ]
  },
  {
   "cell_type": "markdown",
   "metadata": {
    "slideshow": {
     "slide_type": "slide"
    }
   },
   "source": [
    "### Implementation using Priority Queues\n",
    "\n",
    "The *priority queue* maintains a set of elements from a total ordering, allowing at least insertion of a new element and deleting and returning the minimum element. The priority queue data structure needs to support some basic operations:\n",
    "\n",
    "- *deleteMin*: Identify the element with minimum value and remove it. \n",
    "\n",
    "- *insert(x, s)*: insert a new element $x$ with initial value $s$.\n",
    "\n",
    "Priority queues can be implemented by using a variety of data structures such as Linked lists or Arrays, Balanced Trees, Heaps etc.\n",
    "\n",
    "### Leftist min-Heap\n",
    "\n",
    "Every node in the tree is smaller than either of its children. This means that the root of a tree with the heap property is always the minimum element. The `Leftist` is to keep the trees so that the trees are always deeper on the left than the right. So for a binary tree:\n",
    "\n",
    "<img src=\"heap_property_fixed_examples.png\" width=\"70%\">\n",
    "\n",
    "\n",
    "Maintaining the heap property upon insertion or deletion requires time proportional to the depth of the tree because we can swap elements upward or downward, following the path from the modification either upward or downward. Work for insertion and deletion is $O(\\log n)$. <span style=\"color:red\">[<a href=\"https://github.com/allan-tulane/cmps2200-slides/blob/main/module-06-greedy/greedy-02.ipynb\">Proof is optional</a>]</span> "
   ]
  },
  {
   "cell_type": "markdown",
   "metadata": {
    "slideshow": {
     "slide_type": "fragment"
    }
   },
   "source": [
    "### Huffman Coding (Cont'd)\n",
    "\n",
    "We need to efficiently retrieve the next two smallest frequency nodes.\n",
    "\n",
    "\n",
    "1. Initialize a min-heap with character frequencies $f(\\sigma)$\n",
    "\n",
    "\n",
    "![huffman-heap-2.png](huffman-heap-2.png)\n",
    "\n",
    "\n",
    "Then, repeat:\n",
    "\n",
    "2. Call `deleteMin` twice to get the two least frequent nodes $x$ and $y$\n",
    "3. Create a new node $z$ with frequency $f(x) + f(y)$\n",
    "4. Make $x$ and $y$ children of $z$ in the tree.\n",
    "4. Call `insert` to add $z$ to the heap"
   ]
  },
  {
   "cell_type": "code",
   "execution_count": 8,
   "metadata": {
    "slideshow": {
     "slide_type": "slide"
    }
   },
   "outputs": [
    {
     "name": "stdout",
     "output_type": "stream",
     "text": [
      "1 D\n",
      "2 C\n",
      "New Tree\n",
      "\n",
      "3 B\n",
      "5 E\n",
      "The children of E are D C\n",
      "9 A\n"
     ]
    }
   ],
   "source": [
    "import math, queue\n",
    "from collections import Counter\n",
    "\n",
    "class TreeNode(object):\n",
    "    # we assume data is a tuple (frequency, character)\n",
    "    def __init__(self, left=None, right=None, data=None):\n",
    "        self.left = left\n",
    "        self.right = right\n",
    "        self.data = data\n",
    "    def __lt__(self, other):\n",
    "        return(self.data < other.data)\n",
    "    def children(self):\n",
    "        return((self.left, self.right))\n",
    "    \n",
    "\n",
    "## https://docs.python.org/3/library/queue.html\n",
    "## Counter({'A': 9, 'B': 3, 'C': 2, 'D': 1})\n",
    "\n",
    "def priority_queue(f):\n",
    "    p = queue.PriorityQueue()\n",
    "    # construct heap from frequencies, the initial items should be\n",
    "    # the leaves of the final tree\n",
    "    for c in f.keys():\n",
    "        p.put(TreeNode(None,None,(f[c], c)))        \n",
    "    return p\n",
    "    \n",
    "\n",
    "p = priority_queue(cnt)\n",
    "\n",
    "l = p.get()\n",
    "print(l.data[0], l.data[1])\n",
    "\n",
    "r = p.get()\n",
    "print(r.data[0], r.data[1])\n",
    "\n",
    "p.put(TreeNode(l,r,(5, 'E')))\n",
    "\n",
    "\n",
    "print('New Tree\\n')\n",
    "\n",
    "while (p.qsize() > 0):\n",
    "    e = p.get()\n",
    "    print(e.data[0], e.data[1])\n",
    "    if e.data[1]=='E':\n",
    "        l = e.left\n",
    "        r = e.right\n",
    "        print('The children of E are', l.data[1], r.data[1])\n"
   ]
  }
 ],
 "metadata": {
  "celltoolbar": "Slideshow",
  "kernelspec": {
   "display_name": "Python 3 (ipykernel)",
   "language": "python",
   "name": "python3"
  },
  "language_info": {
   "codemirror_mode": {
    "name": "ipython",
    "version": 3
   },
   "file_extension": ".py",
   "mimetype": "text/x-python",
   "name": "python",
   "nbconvert_exporter": "python",
   "pygments_lexer": "ipython3",
   "version": "3.9.7"
  },
  "rise": {
   "autolaunch": true,
   "controls": false,
   "enable_chalkboard": true,
   "scroll": true,
   "theme": "simple",
   "transition": "fade"
  },
  "toc": {
   "base_numbering": 1,
   "nav_menu": {},
   "number_sections": true,
   "sideBar": true,
   "skip_h1_title": true,
   "title_cell": "Table of Contents",
   "title_sidebar": "Contents",
   "toc_cell": true,
   "toc_position": {},
   "toc_section_display": true,
   "toc_window_display": false
  }
 },
 "nbformat": 4,
 "nbformat_minor": 4
}
