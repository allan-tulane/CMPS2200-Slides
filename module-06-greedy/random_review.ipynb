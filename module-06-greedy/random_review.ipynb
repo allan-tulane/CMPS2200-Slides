{
  "cells": [
    {
      "cell_type": "code",
      "execution_count": null,
      "metadata": {
        "code_folding": [],
        "id": "u3D5oRyDcjup",
        "outputId": "5fe2cd6a-fade-4e7b-ff83-ffc4872b8437"
      },
      "outputs": [
        {
          "data": {
            "text/html": [
              "<style>.prompt{width: 0px; min-width: 0px; visibility: collapse}</style>"
            ],
            "text/plain": [
              "<IPython.core.display.HTML object>"
            ]
          },
          "metadata": {},
          "output_type": "display_data"
        },
        {
          "data": {
            "text/html": [
              "<style>\n",
              "div#notebook {\n",
              " font-family: \"Exo_2\", sans-serif;\n",
              "}\n",
              "\n",
              ".rendered_html h1,\n",
              ".text_cell_render h1 {\n",
              " color: #126dce;\n",
              " font-size: 220%;\n",
              " text-align: center;\n",
              " font-weight: lighter;\n",
              "}\n",
              ".rendered_html h2,\n",
              ".text_cell_render h2 {\n",
              " text-align: center;\n",
              " font-size: 170%;\n",
              " color: #126dce;\n",
              " font-style: normal;\n",
              " font-weight: lighter;\n",
              "}\n",
              ".rendered_html h3,\n",
              ".text_cell_render h3 {\n",
              " font-size: 150%;\n",
              " color: #126dce;\n",
              " font-weight: lighter;\n",
              " text-decoration: italic;\n",
              " font-style: normal;\n",
              "}\n",
              ".rendered_html h4,\n",
              ".text_cell_render h4 {\n",
              " font-size: 120%;\n",
              " color: #126dce;\n",
              " font-weight: underline;\n",
              " font-style: normal;\n",
              "}\n",
              ".rendered_html h5,\n",
              ".text_cell_render h5 {\n",
              " font-size: 100%;\n",
              " color: #2f2f2f;\n",
              " font-weight: lighter;\n",
              " text-decoration: underline;\n",
              "}\n",
              "</style>\n"
            ],
            "text/plain": [
              "<IPython.core.display.HTML object>"
            ]
          },
          "metadata": {},
          "output_type": "display_data"
        }
      ],
      "source": [
        "# setup\n",
        "from IPython.core.display import display,HTML\n",
        "display(HTML('<style>.prompt{width: 0px; min-width: 0px; visibility: collapse}</style>'))\n",
        "display(HTML(open('rise.css').read()))\n",
        "\n",
        "# imports\n",
        "import numpy as np\n",
        "import matplotlib.pyplot as plt\n",
        "import seaborn as sns\n",
        "%matplotlib inline\n",
        "sns.set(style=\"whitegrid\", font_scale=1.5, rc={'figure.figsize':(12, 6)})\n"
      ]
    },
    {
      "cell_type": "markdown",
      "metadata": {
        "id": "2fdWiWSVcjut"
      },
      "source": [
        "# CMPS 2200\n",
        "# Introduction to Algorithms\n",
        "\n",
        "## Review of Randomized Algorithm - Selection & Quicksort\n"
      ]
    },
    {
      "cell_type": "markdown",
      "metadata": {
        "id": "Y07GdyN-cjuu"
      },
      "source": [
        "### Randomized Algorithms [a hope and a prayer]\n",
        "\n",
        "When we don't know exactly how to proceed in solving a problem, we can make a random choice and hope we made the right one. Alternately, we can view randomization as helping us avoid always making the worst/wrong choice. \n",
        "\n",
        "\n",
        "#### Advantages of Randomization\n",
        "- Simplicity: randomization can simplify the design of algorithms, sometimes dramatically.\n",
        "\n",
        "- Efficiency: randomization can improve efficiency, e.g., by facilitating “symmetry breaking” without relying on communication and coordination.\n",
        "\n",
        "- Robustness: randomization can improve the robustness of an algorithm, e.g., by reducing certain biases.\n",
        "\n",
        "#### Disadvantages of Randomization\n",
        "\n",
        "- Complexity of Analysis: it usually complicates their analysis. Because we only have to analyze an algorithm once, but use it many times, we consider this cost to be acceptable.\n",
        "\n",
        "- Uncertainty: for example, a randomized algorithm could get unlucky in the random choices that it makes and take a long time to compute the answer. In some applications, such as real-time systems, this uncertainty may be unacceptable.\n",
        "\n"
      ]
    },
    {
      "cell_type": "markdown",
      "metadata": {
        "id": "Efz3kD35cjuv"
      },
      "source": [
        "<span style=\"color:red\">Problem:</span> Given an unsorted list $a$ and an integer $k$ ($0\\leq k< |a|$), the **order statistics** (or **selection**) problem asks us to return the $k$-th smallest element from $a$.\n",
        "\n",
        "<p>\\begin{array}{ll}  \n",
        "\\mathit{select}~a~k =   \n",
        "\\\\  \n",
        "\\texttt{let}  \n",
        "\\\\  \n",
        "~~~~p = \\mbox{pick a uniformly random element from}~a\n",
        "\\\\  \n",
        "~~~~\\ell = \\left\\langle\\, x \\in a \\;|\\; x < p \\,\\right\\rangle  \n",
        "\\\\  \n",
        "~~~~r = \\left\\langle\\, x \\in a \\;|\\; x > p \\,\\right\\rangle  \n",
        "\\\\  \n",
        "\\texttt{in}  \n",
        "\\\\  \n",
        "~~~~\\texttt{if}~(k < |\\ell|)~\\texttt{then}~\\mathit{select}~\\ell~k  \n",
        "\\\\  \n",
        "~~~~\\texttt{else if}~(k < |a| - |r|)~\\texttt{then}~p  \n",
        "\\\\  \n",
        "~~~~\\texttt{else}~\\mathit{select}~r~(k - (|a| - |r|))  \n",
        "\\\\  \n",
        "\\texttt{end}  \n",
        "\\end{array}</p>\n",
        "\n",
        "The recurrence of work is:\n",
        "$$W(n) = \\max\\{W(\\mid l\\mid), W(\\mid r\\mid)\\} + O(n)$$\n",
        "\n",
        "Let $X(n)$ be the fractional size of the larger side of the split\n",
        "\n",
        "$$X(n) = \\frac{\\max{\\{|l|, |r|\\}}}{n}$$\n",
        "\n",
        "Then the work and span recurrences are:\n",
        "\n",
        "$$W(n) = W\\big(X(n) \\cdot n\\big) + O(n)$$\n",
        "\n",
        "$$S(n) = S\\big(X(n) \\cdot n\\big) + O(\\lg n)$$ \n",
        "\n",
        "\n",
        "\n",
        "$$\\Rightarrow \\mathbf{E}[X(n)]\\leq 3/4$$"
      ]
    },
    {
      "cell_type": "markdown",
      "metadata": {
        "id": "xN8CXLizcjuw"
      },
      "source": [
        "\n",
        "$$W(n) \\leq W(\\frac{3}{4}n) + O(n) \\Rightarrow \\mathrm{root~dominated}  \\Rightarrow W(n)=\\mathcal{O}(n)$$\n",
        "\n",
        "$$S(n) \\leq S(\\frac{3}{4}n) + O(\\lg n) \\Rightarrow \\mathrm{balanced} \\Rightarrow S(n) = \\mathcal{O}(\\lg^2n)$$ "
      ]
    },
    {
      "cell_type": "markdown",
      "metadata": {
        "id": "mUsW5u_qcjuw"
      },
      "source": [
        "## Quick Sort\n",
        "\n",
        " \n",
        " \n",
        " <p>\\[\\begin{array}{ll}  \n",
        "\\mathit{quicksort}~a =  \\\\  \n",
        "~~~~\\texttt{if}~|a| = 0~\\texttt{then}~a  \\\\  \n",
        "~~~~\\texttt{else}   \\\\  \n",
        "~~~~~~~~\\texttt{let}  \\\\  \n",
        "~~~~~~~~~~~~p = \\texttt{pick a random pivot from}~a  \\\\  \n",
        "~~~~~~~~~~~~    a_1 = \\left\\langle\\, x \\in a \\;|\\; x < p \\,\\right\\rangle  \\\\  \n",
        "~~~~~~~~~~~~    a_2 = \\left\\langle\\, x \\in a \\;|\\; x = p \\,\\right\\rangle  \\\\  \n",
        "~~~~~~~~~~~~    a_3 = \\left\\langle\\, x \\in a \\;|\\; x > p \\,\\right\\rangle  \\\\  \n",
        "~~~~~~~~~~~~    (s_1,s_3) = (\\mathit{quicksort}~a_1)~\\mid\\mid{}~(\\mathit{quicksort}~a_3)  \\\\  \n",
        "~~~~~~~~   \\texttt{in}  \\\\  \n",
        "~~~~~~~~~~~~    s_1 \\texttt{++}{} a_2 \\texttt{++}{} s_3  \\\\  \n",
        "~~~~~~~~  \\texttt{end}  \n",
        "\\end{array}\\]</p>\n"
      ]
    },
    {
      "cell_type": "markdown",
      "metadata": {
        "id": "eqadCiYtcjux"
      },
      "source": [
        "Then the work and span recurrences are:\n",
        "$$W(n) \\leq W\\big(X(n) \\cdot n\\big)+ W\\big((1-X(n)) \\cdot n\\big)+ O(n)$$\n",
        "\n",
        "$$S(n) \\leq S\\big(X(n) \\cdot n\\big) + O(\\lg n)$$ \n",
        "\n",
        "The expected work and span are:\n",
        "\n",
        "$$W(n) \\leq W(\\frac{3}{4}n)+W(\\frac{1}{4}n) + O(n) \\Rightarrow \\mathrm{balanced}  \\Rightarrow W(n)=\\mathcal{O}(n\\lg n)$$\n",
        "\n",
        "$$S(n) \\leq S(\\frac{3}{4}n) + O(\\lg n) \\Rightarrow \\mathrm{balanced} \\Rightarrow S(n) = \\mathcal{O}(\\lg^2n)$$ \n",
        "\n",
        "However, the worse work and span are [`What is this case??`]\n",
        "\n",
        "$$W(n) \\leq W(n-1)+W(1) + O(n) \\Rightarrow \\mathrm{balanced}  \\Rightarrow W(n)=\\mathcal{O}(n^2)$$\n",
        "\n",
        "$$S(n) \\leq S(n-1) + O(\\lg n) \\Rightarrow \\mathrm{balanced} \\Rightarrow S(n) = \\mathcal{O}(n\\lg n)$$ \n"
      ]
    }
  ],
  "metadata": {
    "celltoolbar": "Slideshow",
    "kernelspec": {
      "display_name": "Python 3 (ipykernel)",
      "language": "python",
      "name": "python3"
    },
    "language_info": {
      "codemirror_mode": {
        "name": "ipython",
        "version": 3
      },
      "file_extension": ".py",
      "mimetype": "text/x-python",
      "name": "python",
      "nbconvert_exporter": "python",
      "pygments_lexer": "ipython3",
      "version": "3.9.7"
    },
    "rise": {
      "autolaunch": true,
      "controls": false,
      "enable_chalkboard": true,
      "scroll": true,
      "theme": "simple",
      "transition": "fade"
    },
    "toc": {
      "base_numbering": 1,
      "nav_menu": {},
      "number_sections": true,
      "sideBar": true,
      "skip_h1_title": true,
      "title_cell": "Table of Contents",
      "title_sidebar": "Contents",
      "toc_cell": true,
      "toc_position": {},
      "toc_section_display": true,
      "toc_window_display": false
    },
    "colab": {
      "name": "random-review.ipynb",
      "provenance": [],
      "collapsed_sections": []
    }
  },
  "nbformat": 4,
  "nbformat_minor": 0
}