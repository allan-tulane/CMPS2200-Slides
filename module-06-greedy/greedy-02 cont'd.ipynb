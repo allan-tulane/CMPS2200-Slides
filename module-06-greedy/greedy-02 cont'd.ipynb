{
 "cells": [
  {
   "cell_type": "code",
   "execution_count": 1,
   "metadata": {
    "code_folding": [],
    "scrolled": true,
    "slideshow": {
     "slide_type": "skip"
    }
   },
   "outputs": [
    {
     "data": {
      "text/html": [
       "<style>.prompt{width: 0px; min-width: 0px; visibility: collapse}</style>"
      ],
      "text/plain": [
       "<IPython.core.display.HTML object>"
      ]
     },
     "metadata": {},
     "output_type": "display_data"
    },
    {
     "data": {
      "text/html": [
       "<style>\n",
       "div#notebook {\n",
       " font-family: \"Exo_2\", sans-serif;\n",
       "}\n",
       "\n",
       ".rendered_html h1,\n",
       ".text_cell_render h1 {\n",
       " color: #126dce;\n",
       " font-size: 220%;\n",
       " text-align: center;\n",
       " font-weight: lighter;\n",
       "}\n",
       ".rendered_html h2,\n",
       ".text_cell_render h2 {\n",
       " text-align: center;\n",
       " font-size: 170%;\n",
       " color: #126dce;\n",
       " font-style: normal;\n",
       " font-weight: lighter;\n",
       "}\n",
       ".rendered_html h3,\n",
       ".text_cell_render h3 {\n",
       " font-size: 150%;\n",
       " color: #126dce;\n",
       " font-weight: lighter;\n",
       " text-decoration: italic;\n",
       " font-style: normal;\n",
       "}\n",
       ".rendered_html h4,\n",
       ".text_cell_render h4 {\n",
       " font-size: 120%;\n",
       " color: #126dce;\n",
       " font-weight: underline;\n",
       " font-style: normal;\n",
       "}\n",
       ".rendered_html h5,\n",
       ".text_cell_render h5 {\n",
       " font-size: 100%;\n",
       " color: #2f2f2f;\n",
       " font-weight: lighter;\n",
       " text-decoration: underline;\n",
       "}\n",
       "</style>\n"
      ],
      "text/plain": [
       "<IPython.core.display.HTML object>"
      ]
     },
     "metadata": {},
     "output_type": "display_data"
    }
   ],
   "source": [
    "# setup\n",
    "from IPython.core.display import display,HTML\n",
    "display(HTML('<style>.prompt{width: 0px; min-width: 0px; visibility: collapse}</style>'))\n",
    "display(HTML(open('rise.css').read()))\n",
    "\n",
    "# imports\n",
    "import numpy as np\n",
    "import matplotlib.pyplot as plt\n",
    "import seaborn as sns\n",
    "%matplotlib inline\n",
    "sns.set(style=\"whitegrid\", font_scale=1.5, rc={'figure.figsize':(12, 6)})\n"
   ]
  },
  {
   "cell_type": "markdown",
   "metadata": {
    "slideshow": {
     "slide_type": "slide"
    }
   },
   "source": [
    "# CMPS 2200\n",
    "# Introduction to Algorithms\n",
    "\n",
    "## Greedy Algorithms - Huffman Coding\n"
   ]
  },
  {
   "cell_type": "markdown",
   "metadata": {
    "slideshow": {
     "slide_type": "slide"
    }
   },
   "source": [
    "### How to implement Huffman Coding? -  Using Priority Queues\n",
    "\n",
    "The *priority queue* is a tree-based data structure that matches well with greedy algorithms since it allows for efficient **insertions**, **removals** and **updates** of items. \n",
    "\n",
    "\n",
    "For simplicity, we'll assume that we are always seeking the minimum-value element from the priority queue. The priority queue data structure needs to support some basic operations:\n",
    "\n",
    "- *deleteMin*: Identify the element with minimum value and remove it. \n",
    "\n",
    "- *insert(x, s)*: insert a new element $x$ with initial value $s$.\n",
    "\n",
    " "
   ]
  },
  {
   "cell_type": "markdown",
   "metadata": {
    "slideshow": {
     "slide_type": "slide"
    }
   },
   "source": [
    "\n",
    "### The Heap Property\n",
    "\n",
    "The *min-heap property* for a tree states that every node in the tree is smaller than either of its children. This means that the root of a tree with the heap property is always the minimum element. So for a binary tree:\n",
    "\n",
    "<img src=\"heap_property_fixed_examples.jpg\" width=\"70%\">\n",
    "\n",
    "Notice that a **binary heap** is less restrictive than a **binary search tree** since the left and right subtrees can be swapped.\n",
    "\n",
    "> Maintaining the heap property upon insertion or deletion requires time proportional to the depth of the tree because we can swap elements upward or downward, following the path from the modification either upward or downward.\n",
    "\n",
    "\n",
    "> This leads to $O(\\log n)$ work per operation."
   ]
  },
  {
   "cell_type": "markdown",
   "metadata": {
    "slideshow": {
     "slide_type": "slide"
    }
   },
   "source": [
    "We need to efficiently retrieve the next two smallest frequency nodes.\n",
    "\n",
    "\n",
    "1. Initialize a min-heap with character frequencies $f(\\sigma)$\n",
    "\n",
    "\n",
    "![huffman-heap-2.png](huffman-heap-2.png)\n",
    "\n",
    "\n",
    "Then, repeat:\n",
    "\n",
    "2. Call `deleteMin` twice to get the two least frequent nodes $x$ and $y$\n",
    "3. Create a new node $z$ with frequency $f(x) + f(y)$\n",
    "4. Make $x$ and $y$ children of $z$ in the tree.\n",
    "4. Call `insert` to add $z$ to the heap\n",
    "\n",
    "How many times will this repeat if $|\\Sigma| = n$?\n",
    "\n",
    "<br><br>\n",
    "\n",
    "<span style=\"color:red\">**Question**:</span> What is work/span of this algorithm? What is the recurrence of work/span?\n"
   ]
  },
  {
   "cell_type": "markdown",
   "metadata": {
    "slideshow": {
     "slide_type": "fragment"
    }
   },
   "source": [
    "Because we will always reduce the number of nodes by 1, this will repeat $n$ times (where $n = |\\Sigma|$).\n",
    "\n",
    "The cost of 2 calls to `deleteMin` and one call to `insert` is $3 \\lg n$.\n",
    "\n",
    "Thus, total work is $O(n \\lg n)$. \n",
    "\n",
    "We unfortunately have not exposed any parallelism in this algorithm, so the span is also $O(n \\lg n)$."
   ]
  },
  {
   "cell_type": "code",
   "execution_count": 1,
   "metadata": {
    "slideshow": {
     "slide_type": "slide"
    }
   },
   "outputs": [
    {
     "name": "stdout",
     "output_type": "stream",
     "text": [
      "The charachter is A with its frequency as 9\n",
      "The charachter is B with its frequency as 4\n",
      "The charachter is C with its frequency as 2\n",
      "The charachter is D with its frequency as 1\n"
     ]
    }
   ],
   "source": [
    "import math, queue\n",
    "from collections import Counter\n",
    "\n",
    "## we can also do `map`, `reduce`\n",
    "D = ['A', 'A', 'A', 'A', 'A', 'A', 'A', 'A', 'A', 'B', 'C', 'B', 'D', 'B', 'C', 'B']\n",
    "cnt = Counter()\n",
    "for c in D:\n",
    "    cnt[c] += 1\n",
    "\n",
    "## print each frequency per key\n",
    "for c in cnt.keys():\n",
    "    print('The charachter is', c, 'with its frequency as', cnt[c  ])\n",
    "\n",
    "    \n"
   ]
  },
  {
   "cell_type": "code",
   "execution_count": 2,
   "metadata": {
    "slideshow": {
     "slide_type": "fragment"
    }
   },
   "outputs": [
    {
     "name": "stdout",
     "output_type": "stream",
     "text": [
      "4\n",
      "(1, 'D')\n",
      "3\n",
      "(2, 'C')\n",
      "2\n",
      "(4, 'B')\n",
      "1\n",
      "(9, 'A')\n"
     ]
    }
   ],
   "source": [
    "class TreeNode(object):\n",
    "    # we assume data is a tuple (frequency, character)\n",
    "    def __init__(self, left=None, right=None, data=None):\n",
    "        self.left = left\n",
    "        self.right = right\n",
    "        self.data = data\n",
    "    def __lt__(self, other):\n",
    "        return(self.data < other.data)\n",
    "    def children(self):\n",
    "        return((self.left, self.right))\n",
    "\n",
    "\n",
    "p = queue.PriorityQueue()\n",
    "# construct heap from frequencies, the initial items should be\n",
    "# the leaves of the final tree\n",
    "for c in cnt.keys():\n",
    "    p.put(TreeNode(None,None,(cnt[c], c)))\n",
    "\n",
    "## print the priority queue    \n",
    "for i in range(p.qsize()):    \n",
    "    print(p.qsize())\n",
    "    print(p.get().data)"
   ]
  },
  {
   "cell_type": "markdown",
   "metadata": {
    "slideshow": {
     "slide_type": "slide"
    }
   },
   "source": [
    "### Meldable Heaps\n",
    "\n",
    "We'll look at an alterntaive to maintaining the shape property. We will still use binary trees and maintain the heap property, but will not require them to be almost-complete. We will make use of the observation that really, heap operations just require the ability to combine or **meld** heaps efficiently:\n",
    "\n",
    "- **deleteMin** needs to delete the root of the tree, and then somehow meld the left and right subtrees.\n",
    "\n",
    "![heap-meld-1.png](heap-meld-1.png)\n",
    "\n",
    "to delete the minimum value, remove the root and meld the two subtrees\n",
    "\n",
    "![heap-meld-2.png](heap-meld-2.png)\n",
    "\n",
    "\n",
    "- **insert** is just the melding of the current tree and and a singleton tree.\n",
    "\n",
    "<br>\n",
    "\n",
    "- With the **meld** operation, we can construct a priorty queue in parallel:\n",
    "\n",
    "> `val pq = Seq.reduce Q.meld Q.empty (Seq.map Q.singleton S)`\n",
    "\n",
    "<br>\n",
    "\n",
    "Suppose we wish to meld two heaps $A$ and $B$, with $A$ smaller than $B$. To create a single tree $C$ from $A$ and $B$, we need to decide on the root. \n",
    "\n",
    "> Let the root $r_A$ of the smaller tree $A$ be the new root. What do we do with the left and right subtrees $L_A$ and $R_A$ of $r_A$ and $B$? \n",
    "\n",
    "If we maintain the left subtree $L_A$ of $r_A$, we can meld $R_A$ and $B$ and make this the right subtree of $r_A$. \n",
    "\n",
    "<img src=\"meld_schematic.jpg\" width=\"70%\">\n",
    "\n",
    "<img src = \"example_heap_meld.jpg\" width=\"50%\">\n",
    "\n",
    "This defines a recursive procedure for melding two heaps:\n",
    "\n",
    "<img src = \"naive_meldable_heap_spec.png\" width=\"50%\">\n",
    "\n",
    "\n",
    "This is a well-defined procedure for melding two heaps, but as we can see in this example, we may actually obtain a very long right \"spine\" of the melded tree. Actually in the worst case we might take $\\Theta(|A|+|B|)$ work! "
   ]
  },
  {
   "cell_type": "markdown",
   "metadata": {
    "slideshow": {
     "slide_type": "slide"
    }
   },
   "source": [
    "### Leftist Heaps\n",
    "\n",
    "To address this imbalance in our approach, we can do some bookkeeping and use our flexibility in choosing how to orient subtrees left to right. \n",
    "\n",
    "We will ensure that the tree is **always deeper on the left** than the right.\n",
    "\n",
    "- The **right spine** of a binary tree is the path from the root to the rightmost node.\n",
    "\n",
    "- Let $rank(x)$ be length of the right spine starting at $x$. \n",
    "\n",
    "- Let $L(x)$ be the left child of $x$ and $R(x)$ the right child of $x$.\n",
    "\n",
    "#### A **leftist heap** has the property that for any node $x$ in the heap: $rank(L(x)) \\geq rank(R(x))$.\n",
    "\n",
    "<br>\n",
    "\n",
    "Of course, a leftist heap could be imbalanced on the left:\n",
    "\n",
    "<img src=\"leftist_heap-unbalanced.jpg\" width=\"20%\">\n",
    "\n",
    "This is okay, since meld only traverses the right spine of a tree.\n",
    "\n",
    "\n",
    "Fortunately, keeping the $rank$ measure at every node will allow us to essentially balance the heap. The key idea is that since melding only recurses right, if we use meld to insert elements into the heap it will \"balance out\" the left bias of the leftist property.\n",
    "\n",
    "#### The work of deletion and insertion is $O(\\log n)$.\n",
    "\n",
    "<img src=\"cost_comp.png\" width=\"60%\"> "
   ]
  },
  {
   "cell_type": "markdown",
   "metadata": {
    "slideshow": {
     "slide_type": "slide"
    }
   },
   "source": [
    "<img src = \"leftist_meldable_heap_spec.png\" width=\"45%\">\n",
    "\n",
    "We maintain a rank at each leftist node, incrementing it and always guaranteeing that the leftist property holds when we create a new node."
   ]
  }
 ],
 "metadata": {
  "celltoolbar": "Slideshow",
  "kernelspec": {
   "display_name": "Python 3 (ipykernel)",
   "language": "python",
   "name": "python3"
  },
  "language_info": {
   "codemirror_mode": {
    "name": "ipython",
    "version": 3
   },
   "file_extension": ".py",
   "mimetype": "text/x-python",
   "name": "python",
   "nbconvert_exporter": "python",
   "pygments_lexer": "ipython3",
   "version": "3.9.6"
  },
  "rise": {
   "autolaunch": true,
   "controls": false,
   "enable_chalkboard": true,
   "scroll": true,
   "theme": "simple",
   "transition": "fade"
  },
  "toc": {
   "base_numbering": 1,
   "nav_menu": {},
   "number_sections": true,
   "sideBar": true,
   "skip_h1_title": true,
   "title_cell": "Table of Contents",
   "title_sidebar": "Contents",
   "toc_cell": true,
   "toc_position": {},
   "toc_section_display": true,
   "toc_window_display": false
  }
 },
 "nbformat": 4,
 "nbformat_minor": 4
}
