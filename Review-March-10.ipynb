{
 "cells": [
  {
   "cell_type": "code",
   "execution_count": 3,
   "metadata": {
    "code_folding": [],
    "slideshow": {
     "slide_type": "skip"
    }
   },
   "outputs": [
    {
     "name": "stderr",
     "output_type": "stream",
     "text": [
      "/var/folders/tv/1sn89zwj2k1_whhj0cz2v_tw0000gn/T/ipykernel_1631/3038648106.py:2: DeprecationWarning: Importing display from IPython.core.display is deprecated since IPython 7.14, please import from IPython.display\n",
      "  from IPython.core.display import display,HTML\n"
     ]
    },
    {
     "data": {
      "text/html": [
       "<style>.prompt{width: 0px; min-width: 0px; visibility: collapse}</style>"
      ],
      "text/plain": [
       "<IPython.core.display.HTML object>"
      ]
     },
     "metadata": {},
     "output_type": "display_data"
    },
    {
     "data": {
      "text/html": [
       "<style>\n",
       "div#notebook {\n",
       " font-family: \"Exo_2\", sans-serif;\n",
       "}\n",
       "\n",
       ".rendered_html h1,\n",
       ".text_cell_render h1 {\n",
       " color: #126dce;\n",
       " font-size: 220%;\n",
       " text-align: center;\n",
       " font-weight: lighter;\n",
       "}\n",
       ".rendered_html h2,\n",
       ".text_cell_render h2 {\n",
       " text-align: center;\n",
       " font-size: 170%;\n",
       " color: #126dce;\n",
       " font-style: normal;\n",
       " font-weight: lighter;\n",
       "}\n",
       ".rendered_html h3,\n",
       ".text_cell_render h3 {\n",
       " font-size: 150%;\n",
       " color: #126dce;\n",
       " font-weight: lighter;\n",
       " text-decoration: italic;\n",
       " font-style: normal;\n",
       "}\n",
       ".rendered_html h4,\n",
       ".text_cell_render h4 {\n",
       " font-size: 120%;\n",
       " color: #126dce;\n",
       " font-weight: underline;\n",
       " font-style: normal;\n",
       "}\n",
       ".rendered_html h5,\n",
       ".text_cell_render h5 {\n",
       " font-size: 100%;\n",
       " color: #2f2f2f;\n",
       " font-weight: lighter;\n",
       " text-decoration: underline;\n",
       "}\n",
       "</style>\n"
      ],
      "text/plain": [
       "<IPython.core.display.HTML object>"
      ]
     },
     "metadata": {},
     "output_type": "display_data"
    }
   ],
   "source": [
    "# setup\n",
    "from IPython.core.display import display,HTML\n",
    "display(HTML('<style>.prompt{width: 0px; min-width: 0px; visibility: collapse}</style>'))\n",
    "display(HTML(open('rise.css').read()))\n",
    "\n"
   ]
  },
  {
   "cell_type": "markdown",
   "metadata": {
    "slideshow": {
     "slide_type": "slide"
    }
   },
   "source": [
    "# CMPS 2200\n",
    "# Introduction to Algorithms\n",
    "\n",
    "## Review on 3/10\n",
    "\n"
   ]
  },
  {
   "cell_type": "markdown",
   "metadata": {
    "slideshow": {
     "slide_type": "slide"
    }
   },
   "source": [
    "The mid-term exam will be divided into two parts:\n",
    "\n",
    " - Part I (in-class): Similar to a quiz, it will be held on Wednesday, 3:00–3:50 PM in ST 302.\n",
    " - Part II (take-home): Similar to assignments, it will be available from Wednesday to Friday (72 hours)."
   ]
  },
  {
   "cell_type": "markdown",
   "metadata": {
    "slideshow": {
     "slide_type": "slide"
    }
   },
   "source": [
    "### Module 4: Reduction and Brute Force"
   ]
  },
  {
   "cell_type": "markdown",
   "metadata": {
    "slideshow": {
     "slide_type": "fragment"
    }
   },
   "source": [
    "Which of the following best describes the brute force approach?\n",
    " - a) It optimally divides the problem into subproblems\n",
    " - b) It tries all possible solutions exhaustively\n",
    " - c) It uses heuristics to improve performance\n",
    " - d) It guarantees the most efficient solution\n",
    " \n",
    "> Solution: b"
   ]
  },
  {
   "cell_type": "markdown",
   "metadata": {
    "slideshow": {
     "slide_type": "fragment"
    }
   },
   "source": [
    "In a brute force approach, increasing the number of processors generally leads to:\n",
    " - a) No improvement in execution time\n",
    " - b) A guaranteed linear speedup\n",
    " - c) A potential reduction in execution time\n",
    " - d) Always optimal parallel efficiency\n",
    " \n",
    "> Solution: c"
   ]
  },
  {
   "cell_type": "markdown",
   "metadata": {
    "slideshow": {
     "slide_type": "fragment"
    }
   },
   "source": [
    "What is the major drawback of using brute force algorithms?\n",
    " - a) Difficult implementation\n",
    " - b) High computational overhead\n",
    " - c) Requires specialized hardware\n",
    " - d) Cannot be parallelized\n",
    " \n",
    "> Solution: b"
   ]
  },
  {
   "cell_type": "markdown",
   "metadata": {
    "slideshow": {
     "slide_type": "fragment"
    }
   },
   "source": [
    "What is the main goal of **Reduction**?\n",
    " - a) To increase the number of computations\n",
    " - b) To transform a problem into another problem that is easier to solve\n",
    " - c) To reduce the number of processors needed\n",
    " - d) To increase algorithm complexity\n",
    " \n",
    " \n",
    " > Solution: b"
   ]
  },
  {
   "cell_type": "markdown",
   "metadata": {
    "slideshow": {
     "slide_type": "fragment"
    }
   },
   "source": [
    "Which of the following is an example of **Reduction**?\n",
    " - a) Transforming a shortest path problem into a matrix multiplication problem\n",
    " - b) Using brute force to solve a problem\n",
    " - c) Increasing the number of iterations in an algorithm\n",
    " - d) Using more processors to solve a problem\n",
    " \n",
    " > Solution: a"
   ]
  },
  {
   "cell_type": "markdown",
   "metadata": {
    "slideshow": {
     "slide_type": "fragment"
    }
   },
   "source": [
    "#### Traveling Salesman Problem (TSP)\n",
    "\n",
    "Given a list of $n$ cities and the distances between each pair of cities, the goal is to find the shortest possible route that visits every city exactly once and returns to the starting point.\n",
    "\n",
    "For companies like Amazon and UPS, the TSP is a real-world optimization challenge. Both companies need to find the most efficient route for their delivery trucks to visit multiple destinations (i.e., customer addresses) and return to the starting point (the warehouse or distribution center) while minimizing travel distance, cost, or time.\n",
    "\n",
    "What is the search space? What is the work and span for brute force?\n",
    "\n",
    "\n",
    "> Solution:  search space is $O(n!)$\n",
    "\n",
    "Step 1: check each solution (path) -> $O(n)$, the total work is $O(n*n!)$, all to be paralell, the span is $O(\\log n)$\n",
    "\n",
    "Step 2: We have $n!$ distances, finding the minimal, the work is $O(n!)$, the span is $O(\\log(n!))$\n",
    "\n",
    "In total, the work is $O(n*n!)$, then span is $O(\\log(n!))$."
   ]
  },
  {
   "cell_type": "markdown",
   "metadata": {
    "slideshow": {
     "slide_type": "fragment"
    }
   },
   "source": [
    "Which of the following best describes the approach of Divide-and-Conquer algorithms?\n",
    "\n",
    " - a) Solving the problem by solving smaller subproblems and combining their solutions.\n",
    " - b) Solving the problem iteratively without breaking it down.\n",
    " - c) Repeating the same operation until a base case is reached.\n",
    " - d) Solving the problem using dynamic programming principles.\n",
    " \n",
    "> Solution:  a"
   ]
  },
  {
   "cell_type": "markdown",
   "metadata": {
    "slideshow": {
     "slide_type": "fragment"
    }
   },
   "source": [
    "Suppose you are solving a problem and considering the following three algorithms:\n",
    "\n",
    "1. **Algorithm X**: Breaks the problem into **three subproblems**, each of size $n/4$, solves them recursively, and then combines the solutions in $O(n^2)$ time.\n",
    "\n",
    "2. **Algorithm Y**: Solves a problem of size $n$ by recursively solving **one subproblem** of size $n - 1$ and combining the results in **linear time** $O(n)$.\n",
    "\n",
    "3. **Algorithm Z**: Breaks the problem into **seven subproblems**, each of size $n/3$, solves them recursively, and combines the results in **linear time** $O(n)$.\n",
    "\n",
    "\n",
    "> Solution:  \n",
    "\n",
    "$$W_x(n) = 3W_x(n/4)+O(n^2) \\rightarrow \\text{root donimated} O(n^2)$$\n",
    "$$W_y(n) = W_y(n-1)+O(n) \\rightarrow \\text{balanced} O(n^2)$$\n",
    "$$W_z(n) = 7W_z(n/3)+O(n) \\rightarrow \\text{leaf-donimated} O(n^{\\log_3^7})$$"
   ]
  }
 ],
 "metadata": {
  "celltoolbar": "Slideshow",
  "kernelspec": {
   "display_name": "Python 3 (ipykernel)",
   "language": "python",
   "name": "python3"
  },
  "language_info": {
   "codemirror_mode": {
    "name": "ipython",
    "version": 3
   },
   "file_extension": ".py",
   "mimetype": "text/x-python",
   "name": "python",
   "nbconvert_exporter": "python",
   "pygments_lexer": "ipython3",
   "version": "3.12.2"
  },
  "rise": {
   "autolaunch": true,
   "controls": false,
   "enable_chalkboard": true,
   "scroll": true,
   "theme": "simple",
   "transition": "fade"
  },
  "toc": {
   "base_numbering": 1,
   "nav_menu": {},
   "number_sections": true,
   "sideBar": true,
   "skip_h1_title": true,
   "title_cell": "Table of Contents",
   "title_sidebar": "Contents",
   "toc_cell": true,
   "toc_position": {},
   "toc_section_display": true,
   "toc_window_display": false
  }
 },
 "nbformat": 4,
 "nbformat_minor": 4
}
