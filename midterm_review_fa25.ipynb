{
 "cells": [
  {
   "cell_type": "code",
   "execution_count": 1,
   "metadata": {
    "code_folding": [],
    "slideshow": {
     "slide_type": "skip"
    }
   },
   "outputs": [
    {
     "name": "stderr",
     "output_type": "stream",
     "text": [
      "/var/folders/8t/f5lr_py56_78f39pmpx4l3sm0000gn/T/ipykernel_14383/1435612826.py:2: DeprecationWarning: Importing display from IPython.core.display is deprecated since IPython 7.14, please import from IPython display\n",
      "  from IPython.core.display import display,HTML\n"
     ]
    },
    {
     "data": {
      "text/html": [
       "<style>.prompt{width: 0px; min-width: 0px; visibility: collapse}</style>"
      ],
      "text/plain": [
       "<IPython.core.display.HTML object>"
      ]
     },
     "metadata": {},
     "output_type": "display_data"
    },
    {
     "data": {
      "text/html": [
       "<style>\n",
       "div#notebook {\n",
       " font-family: \"Exo_2\", sans-serif;\n",
       "}\n",
       "\n",
       ".rendered_html h1,\n",
       ".text_cell_render h1 {\n",
       " color: #126dce;\n",
       " font-size: 220%;\n",
       " text-align: center;\n",
       " font-weight: lighter;\n",
       "}\n",
       ".rendered_html h2,\n",
       ".text_cell_render h2 {\n",
       " text-align: center;\n",
       " font-size: 170%;\n",
       " color: #126dce;\n",
       " font-style: normal;\n",
       " font-weight: lighter;\n",
       "}\n",
       ".rendered_html h3,\n",
       ".text_cell_render h3 {\n",
       " font-size: 150%;\n",
       " color: #126dce;\n",
       " font-weight: lighter;\n",
       " text-decoration: italic;\n",
       " font-style: normal;\n",
       "}\n",
       ".rendered_html h4,\n",
       ".text_cell_render h4 {\n",
       " font-size: 120%;\n",
       " color: #126dce;\n",
       " font-weight: underline;\n",
       " font-style: normal;\n",
       "}\n",
       ".rendered_html h5,\n",
       ".text_cell_render h5 {\n",
       " font-size: 100%;\n",
       " color: #2f2f2f;\n",
       " font-weight: lighter;\n",
       " text-decoration: underline;\n",
       "}\n",
       "</style>\n"
      ],
      "text/plain": [
       "<IPython.core.display.HTML object>"
      ]
     },
     "metadata": {},
     "output_type": "display_data"
    }
   ],
   "source": [
    "# setup\n",
    "from IPython.core.display import display,HTML\n",
    "display(HTML('<style>.prompt{width: 0px; min-width: 0px; visibility: collapse}</style>'))\n",
    "display(HTML(open('rise.css').read()))\n",
    "\n",
    "# imports\n",
    "import numpy as np\n",
    "import matplotlib.pyplot as plt\n",
    "import seaborn as sns\n",
    "%matplotlib inline\n",
    "sns.set(style=\"whitegrid\", font_scale=1.5, rc={'figure.figsize':(12, 6)})\n"
   ]
  },
  {
   "cell_type": "markdown",
   "metadata": {
    "slideshow": {
     "slide_type": "slide"
    }
   },
   "source": [
    "# CMPS 2200\n",
    "## Mid-term Review \n",
    "\n",
    "> Part I: 4:00PM-5:00PM - Oct 6.\n",
    "\n",
    "> Part II: 00:00PM, Oct 6 - 11:59PM, Oct 7\n",
    "\n",
    "\n",
    "\n",
    "\n",
    "You are allowed to use any relevant class materials (book, lectures, notes, etc.). You are not to use any other source of information, or to communicate with anyone about this exam (either portion) other than the instructors."
   ]
  },
  {
   "cell_type": "markdown",
   "metadata": {
    "slideshow": {
     "slide_type": "slide"
    }
   },
   "source": [
    "- Good Algorithm [efficient - runs quickly, requires little memory]\n",
    "> input size $n$<br>\n",
    "\n",
    "- Algorithm Comparison [**Worse Case**, Asymptotic Dominance] \n",
    "  - Upper Bound: $\\mathcal{O}(\\cdot)$, Lower Bound: $\\Omega(\\cdot)$, Tight Bound: $\\Theta(\\cdot)$, \n",
    "  - Limit Method, e.g., $\\lim_{n=∞}\\frac{n^c}{(n-1)^{c}}=1$\n",
    "\n",
    "- **Exampe**-[Assignment 1]\n",
    " \n",
    "  - 1a. Is $2^{n+1} \\in O(2^n)$? Why or why not? *TRUE*\n",
    " \n",
    "  - 1b. Is $2^{2^n} \\in O(2^n)$? Why or why not?   *FALSE* \n",
    "\n",
    "  - 1c. Is $n^{1.01} \\in O(\\mathrm{log}^2 n)$?     *FALSE* \n",
    "\n",
    "  - 1d. Is $n^{1.01} \\in \\Omega(\\mathrm{log}^2 n)$?  *TRUE*\n",
    " \n",
    "  - 1e. Is $\\sqrt{n} \\in O((\\mathrm{log} n)^3)$?  *FALSE*\n",
    "\n",
    "  - 1f. Is $\\sqrt{n} \\in \\Omega((\\mathrm{log} n)^3)$?  *TRUE*\n"
   ]
  },
  {
   "cell_type": "markdown",
   "metadata": {
    "slideshow": {
     "slide_type": "fragment"
    }
   },
   "source": [
    "\n",
    "- **Parallelism:** ability to run multiple computations at the same time. \n",
    "<br><br>\n",
    "- **Speedup**: To solve a same task, a parellel algorithm $P$ over a sequential algorithms $S$ is: \n",
    "$$\n",
    "\\mathrm{speedup}(P,S) = \\frac{T(S)}{T(P)}\n",
    "$$\n",
    "\n",
    "\n",
    "<br><br>\n",
    "- **Work $T_1$ \\& Span $T_\\infty$**\n",
    "  - **Work**: total energy consumed by a computation; \n",
    "  - **Span**: minimum possible time that the computation requires\n",
    "  - When only $p$ processors are available $T_p <\\mathcal{O}(\\frac{T_1}{p}+T_\\infty)$ [when applying the Greedy Scheduler]\n",
    "  \n",
    "\n",
    "<br><br>\n",
    "- **Amdahl's Law**: \n",
    "$$\\frac{T_1}{T_p} = \\frac{1}{S + \\frac{1 − S}{p}}$$\n",
    "where $S$ be the amount of time that cannot be parallelized.\n",
    "\n"
   ]
  },
  {
   "cell_type": "markdown",
   "metadata": {
    "slideshow": {
     "slide_type": "fragment"
    }
   },
   "source": [
    "\n",
    "- Funtional Language [SPARC] \n",
    "  - Pure function -> no side effects [**benign effects**]\n",
    "  - High Order Function (function as variable) -> e.g., we pass mapping and reduce functions to a higher order one\n",
    "<br><br>\n",
    "- Work-Span model \n",
    "  - $(e_1,~e_2)$ [**Add work and span**]\n",
    "  - $(e_1~||~e_2)$ [Add work but **take the maximum span**]\n",
    "\n",
    "\n",
    "\n"
   ]
  },
  {
   "cell_type": "markdown",
   "metadata": {
    "slideshow": {
     "slide_type": "slide"
    }
   },
   "source": [
    "### **Reccursive Algorithms**\n",
    "  - Recurrences are useful because they help us characterize the running time of recursive algorithms.\n",
    "  - **Tree Method \\& Brick Method**\n",
    "  - General Formulation: $$W(n) = \\alpha W(\\dfrac{n}{\\beta}) + f_w(n) \\Rightarrow S(n) = S(\\dfrac{n}{\\beta}) + f_s(n)$$ \n",
    "\n",
    "- **Take Work as an example**:\n",
    "\n",
    "> Step 1. What is the **input size** per node at level $i$? \n",
    "\n",
    "$$\\frac{n}{\\beta^i}$$\n",
    "\n",
    ">Step 2. What is the **cost** of each node at level $i$? \n",
    "\n",
    "$$f_w(\\frac{n}{\\beta^i})$$\n",
    "\n",
    ">Step 3. How many nodes are there at level $i$? \n",
    "\n",
    "$$\\alpha^i$$\n",
    "\n",
    "\n",
    ">Step 4. What is the total cost across the level $i$? <span style=\"color:blue\">$\\Rightarrow$ This step is used for Brick Method.</span>\n",
    "\n",
    "$$\\alpha^i\\big(f_w(\\frac{n}{\\beta^i})\\big)$$\n",
    "\n",
    ">Step 5. How many levels are there in the tree [**Tree Height/Depth**]? <span style=\"color:blue\">Note that Span is positively correlated with Tree Depth.</span>\n",
    "\n",
    "$$\\frac{n}{\\beta^i} = 1 \\Rightarrow {i = \\log_{\\beta}n}$$\n",
    "\n",
    " \n",
    "\n",
    ">Step 6. What is the total cost? \n",
    "\n",
    "$$\\sum_{i=0}^{\\log_{\\beta}n}\\alpha^i\\big(f_w(\\frac{n}{\\beta^i})\\big)$$\n",
    "\n",
    "\n",
    "<span style=\"color:green\"> Note that the leave level has $\\alpha^{\\log_\\beta n}$ nodes, or equivalently, $n^{\\log_\\beta \\alpha}$.</span>\n",
    "\n",
    "<br><br>\n",
    "<span style=\"color:red\">**Question**:</span> What is the geometric property? What is the base case?\n",
    "\n",
    "$ W(n) = 3 W(n/2) + n \\Rightarrow$ Leaf dominated, $O(n^{\\log_23})$, where base case $n=1$.\n",
    "\n",
    "- Root: n, Level 1: 3*(n/2) = 1.5n, it is leaf dominated. The depth is $\\log_2n$, the number of leaves is $3^{\\log_2n}$, which is $O(n^{\\log_23})$.\n",
    "\n",
    "<br>\n",
    "<br>\n",
    "$ W(n) = 2 W(n/3) + n \\Rightarrow$ Root dominated, $O(n)$, where base case $n=1$.\n",
    "\n",
    "<br>\n",
    "<br>\n",
    "\n",
    "$ W(n) = 3 W(n/3) + n \\Rightarrow$ Balanced , $O(n\\log_3n)$, where base case $n=1$.\n",
    "\n",
    "<br>\n",
    "<br>\n",
    "\n",
    "$ W(n)=2W(n/3)+1 \\Rightarrow$ Leaf dominated, $O(n^{\\log_32})$, where base case $n=1$.\n",
    "\n",
    "<br>\n",
    "<br>\n",
    "\n",
    "$ W(n)=W(\\sqrt{n})+1 \\Rightarrow$ Balanced, $O(\\log\\log{n})$, where base case $n=2$.\n",
    "\n",
    "- Root: n, Level 1: 1, it is balanced. The node size at level $i$ is $n^\\frac{1}{2^i}$ and the base case is 2 (must be larger than 1), so that the depth is $\\log_2\\log_2n$.\n",
    "\n",
    "<br>\n",
    "<br>\n",
    "\n",
    "$W(n)=W(n-1)+2 \\Rightarrow$ Balanced, $O(n)$, where base case $n=1$."
   ]
  },
  {
   "cell_type": "markdown",
   "metadata": {
    "slideshow": {
     "slide_type": "slide"
    }
   },
   "source": [
    "If a recursive algorithm performs two recursive calls on subproblems of size $\\dfrac{n}{2}$ and combines the result in $O(n)$ work, which recurrence expresses its work ($W(n)$)?\n",
    "\n",
    " > soluiton: $W(n) = 2W(n/2)+O(n)$\n"
   ]
  },
  {
   "cell_type": "markdown",
   "metadata": {
    "slideshow": {
     "slide_type": "slide"
    }
   },
   "source": [
    "## Sequence\n",
    "- iterate: $W(n) = O(n), S(n) = O(n)$\n",
    "- reduce: $W(n) = O(n), S(n) = O(\\log n)$\n",
    "- scan [fast version]: $W(n) = O(n), S(n) = O(\\log n)$\n",
    "\n",
    "\n",
    "Note that the three arguements of each function."
   ]
  },
  {
   "cell_type": "markdown",
   "metadata": {
    "slideshow": {
     "slide_type": "slide"
    }
   },
   "source": [
    "\n",
    "### Reduction/Brute-Force Algorithms/Search Space\n",
    "\n",
    "<span style=\"color:red\">Reduction:</span> A problem $A$ is reducible to a problem $B$ if any instance of problem $A$ can be turned into some instance of $B$.\n",
    "\n",
    "If $A$ is reducible to $B$ then: (1) $A$ is not harder than $B$; (2) $B$ is at least as hard as $A$\n",
    "\n",
    "\n",
    "- <span style=\"color:blue\">Lower Bound and Upper Bound</span>\n",
    "  - $A$ is reducible to $B$, $B$ is reducible to $C$.\n",
    "\n",
    "<br><br>\n",
    "<span style=\"color:red\">Brute Force</span> paradigm just for a problem $A$ and an instance $\\mathcal{I}_A$, just looks at every possible solution and checks each one.\n",
    "\n",
    "\n",
    "<span style=\"color:green\">Question:</span> Consider the problem of finding the minimal element in a list $L$ of length $n$, what is the search space for this problem and what is the work/span of the brute-force algorithm?\n",
    "\n",
    "\n",
    "<br><br><br>\n",
    "\n",
    "\n",
    "<span style=\"color:blue\">Solution:</span> \n",
    "- **Using `iterate`**: work $O(n)$; span $O(n)$\n",
    "- **Using `reduce`**: work $O(n)$; span $O(\\log n)$\n",
    "- **Brute-force**: work $O(n^2)$; span $O(\\log n)$\n",
    "\n",
    "\n",
    "\n"
   ]
  },
  {
   "cell_type": "markdown",
   "metadata": {
    "slideshow": {
     "slide_type": "fragment"
    }
   },
   "source": [
    "Q1. In a brute force approach, increasing the number of processors generally leads to:\n",
    " - a) No improvement in execution time\n",
    " - b) A guaranteed linear speedup\n",
    " - c) A potential reduction in execution time\n",
    " - d) Always optimal parallel efficiency\n",
    "\n",
    " > soluiton: c"
   ]
  },
  {
   "cell_type": "markdown",
   "metadata": {
    "slideshow": {
     "slide_type": "fragment"
    }
   },
   "source": [
    "Q2. What is the major drawback of using brute force algorithms?\n",
    " - a) Difficult implementation\n",
    " - b) High computational overhead \n",
    " - c) Requires specialized hardware\n",
    " - d) Cannot be parallelized\n",
    " \n",
    " > soluiton: b\n"
   ]
  },
  {
   "cell_type": "markdown",
   "metadata": {
    "slideshow": {
     "slide_type": "fragment"
    }
   },
   "source": [
    "Q3. What is the main goal of **Reduction**?\n",
    " - a) To increase the number of computations\n",
    " - b) To transform a problem into another problem that is easier to solve\n",
    " - c) To reduce the number of processors needed\n",
    " - d) To increase algorithm complexity\n",
    " \n",
    "  > soluiton: b"
   ]
  },
  {
   "cell_type": "markdown",
   "metadata": {
    "slideshow": {
     "slide_type": "fragment"
    }
   },
   "source": [
    "Q4. Which of the following best describes the approach of Divide-and-Conquer algorithms?\n",
    "\n",
    " - a) Solving the problem by solving smaller subproblems and combining their solutions.\n",
    " - b) Solving the problem iteratively without breaking it down.\n",
    " - c) Repeating the same operation until a base case is reached.\n",
    " - d) Solving the problem using dynamic programming principles.\n",
    " \n",
    "  > soluiton: a\n"
   ]
  },
  {
   "cell_type": "markdown",
   "metadata": {
    "slideshow": {
     "slide_type": "fragment"
    }
   },
   "source": [
    "Suppose you are solving a problem and considering the following three algorithms:\n",
    "\n",
    "1. **Algorithm X**: Breaks the problem into **three subproblems**, each of size $n/4$, solves them recursively, and then combines the solutions in $O(n^2)$ time.\n",
    "\n",
    "2. **Algorithm Y**: Solves a problem of size $n$ by recursively solving **one subproblem** of size $n - 1$ and combining the results in **linear time** $O(n)$.\n",
    "\n",
    "3. **Algorithm Z**: Breaks the problem into **seven subproblems**, each of size $n/3$, solves them recursively, and combines the results in **linear time** $O(n)$.\n",
    "\n",
    "\n",
    "> Solution:  \n",
    "\n",
    "$$W_x(n) = 3W_x(n/4)+O(n^2) \\rightarrow \\text{root donimated} \\rightarrow O(n^2)$$\n",
    "$$W_y(n) = W_y(n-1)+O(n) \\rightarrow \\text{balanced} \\rightarrow O(n^2)$$\n",
    "$$W_z(n) = 7W_z(n/3)+O(n) \\rightarrow \\text{leaf-donimated} \\rightarrow O(n^{\\log_3^7})$$"
   ]
  },
  {
   "cell_type": "markdown",
   "metadata": {
    "slideshow": {
     "slide_type": "slide"
    }
   },
   "source": [
    "Look at the following Python code for Matrix Multiplication $A \\times{B}$, $A~\\text{and} ~B\\in \\mathbb{R}^{n\\times n}$ (Strassen's Algorithm)\n",
    "\n",
    "- **Problem**: Multiply two matrices using divide-and-conquer instead of the traditional approach.\n",
    "\n",
    "Divide-and-Conquer Approach:\n",
    " - Divide each matrix into 4 submatrices.\n",
    " - Recursively multiply smaller matrices.\n",
    " - Combine results using Strassen's formula.\n",
    " \n",
    "\n",
    "<span style=\"color:red\">**Question**</span> What is the work and span?\n"
   ]
  },
  {
   "cell_type": "code",
   "execution_count": 1,
   "metadata": {
    "slideshow": {
     "slide_type": "fragment"
    }
   },
   "outputs": [
    {
     "name": "stdout",
     "output_type": "stream",
     "text": [
      "[[19 22]\n",
      " [43 50]]\n"
     ]
    }
   ],
   "source": [
    "import numpy as np\n",
    "\n",
    "def strassen_multiply(A, B):\n",
    "    n = len(A)\n",
    "    if n == 1:\n",
    "        return A * B\n",
    "\n",
    "    mid = n // 2\n",
    "\n",
    "    A11, A12, A21, A22 = A[:mid, :mid], A[:mid, mid:], A[mid:, :mid], A[mid:, mid:]\n",
    "    B11, B12, B21, B22 = B[:mid, :mid], B[:mid, mid:], B[mid:, :mid], B[mid:, mid:]\n",
    "\n",
    "    M1 = strassen_multiply(A11 + A22, B11 + B22)\n",
    "    M2 = strassen_multiply(A21 + A22, B11)\n",
    "    M3 = strassen_multiply(A11, B12 - B22)\n",
    "    M4 = strassen_multiply(A22, B21 - B11)\n",
    "    M5 = strassen_multiply(A11 + A12, B22)\n",
    "    M6 = strassen_multiply(A21 - A11, B11 + B12)\n",
    "    M7 = strassen_multiply(A12 - A22, B21 + B22)\n",
    "\n",
    "    C11 = M1 + M4 - M5 + M7\n",
    "    C12 = M3 + M5\n",
    "    C21 = M2 + M4\n",
    "    C22 = M1 - M2 + M3 + M6\n",
    "\n",
    "    return np.vstack((np.hstack((C11, C12)), np.hstack((C21, C22))))\n",
    "\n",
    "A = np.array([[1, 2], [3, 4]])\n",
    "B = np.array([[5, 6], [7, 8]])\n",
    "print(strassen_multiply(A, B))\n"
   ]
  },
  {
   "cell_type": "markdown",
   "metadata": {
    "slideshow": {
     "slide_type": "slide"
    }
   },
   "source": [
    "\n",
    " > Solution: \n",
    " \n",
    " $$W(n) = 7W(n/2)+O(n^2)$$\n",
    " $$S(n) = S(n/2)+O(n^2)$$"
   ]
  }
 ],
 "metadata": {
  "celltoolbar": "Slideshow",
  "kernelspec": {
   "display_name": "Python 3 (ipykernel)",
   "language": "python",
   "name": "python3"
  },
  "language_info": {
   "codemirror_mode": {
    "name": "ipython",
    "version": 3
   },
   "file_extension": ".py",
   "mimetype": "text/x-python",
   "name": "python",
   "nbconvert_exporter": "python",
   "pygments_lexer": "ipython3",
   "version": "3.9.6"
  },
  "rise": {
   "autolaunch": true,
   "controls": false,
   "enable_chalkboard": true,
   "scroll": true,
   "theme": "simple",
   "transition": "fade"
  },
  "toc": {
   "base_numbering": 1,
   "nav_menu": {},
   "number_sections": true,
   "sideBar": true,
   "skip_h1_title": true,
   "title_cell": "Table of Contents",
   "title_sidebar": "Contents",
   "toc_cell": true,
   "toc_position": {},
   "toc_section_display": true,
   "toc_window_display": false
  }
 },
 "nbformat": 4,
 "nbformat_minor": 4
}
