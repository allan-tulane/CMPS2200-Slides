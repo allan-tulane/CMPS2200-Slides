{
 "cells": [
  {
   "cell_type": "code",
   "execution_count": 3,
   "metadata": {
    "code_folding": [],
    "slideshow": {
     "slide_type": "skip"
    }
   },
   "outputs": [
    {
     "name": "stderr",
     "output_type": "stream",
     "text": [
      "/var/folders/tv/1sn89zwj2k1_whhj0cz2v_tw0000gn/T/ipykernel_1631/3038648106.py:2: DeprecationWarning: Importing display from IPython.core.display is deprecated since IPython 7.14, please import from IPython.display\n",
      "  from IPython.core.display import display,HTML\n"
     ]
    },
    {
     "data": {
      "text/html": [
       "<style>.prompt{width: 0px; min-width: 0px; visibility: collapse}</style>"
      ],
      "text/plain": [
       "<IPython.core.display.HTML object>"
      ]
     },
     "metadata": {},
     "output_type": "display_data"
    },
    {
     "data": {
      "text/html": [
       "<style>\n",
       "div#notebook {\n",
       " font-family: \"Exo_2\", sans-serif;\n",
       "}\n",
       "\n",
       ".rendered_html h1,\n",
       ".text_cell_render h1 {\n",
       " color: #126dce;\n",
       " font-size: 220%;\n",
       " text-align: center;\n",
       " font-weight: lighter;\n",
       "}\n",
       ".rendered_html h2,\n",
       ".text_cell_render h2 {\n",
       " text-align: center;\n",
       " font-size: 170%;\n",
       " color: #126dce;\n",
       " font-style: normal;\n",
       " font-weight: lighter;\n",
       "}\n",
       ".rendered_html h3,\n",
       ".text_cell_render h3 {\n",
       " font-size: 150%;\n",
       " color: #126dce;\n",
       " font-weight: lighter;\n",
       " text-decoration: italic;\n",
       " font-style: normal;\n",
       "}\n",
       ".rendered_html h4,\n",
       ".text_cell_render h4 {\n",
       " font-size: 120%;\n",
       " color: #126dce;\n",
       " font-weight: underline;\n",
       " font-style: normal;\n",
       "}\n",
       ".rendered_html h5,\n",
       ".text_cell_render h5 {\n",
       " font-size: 100%;\n",
       " color: #2f2f2f;\n",
       " font-weight: lighter;\n",
       " text-decoration: underline;\n",
       "}\n",
       "</style>\n"
      ],
      "text/plain": [
       "<IPython.core.display.HTML object>"
      ]
     },
     "metadata": {},
     "output_type": "display_data"
    }
   ],
   "source": [
    "# setup\n",
    "from IPython.core.display import display,HTML\n",
    "display(HTML('<style>.prompt{width: 0px; min-width: 0px; visibility: collapse}</style>'))\n",
    "display(HTML(open('rise.css').read()))\n",
    "\n"
   ]
  },
  {
   "cell_type": "markdown",
   "metadata": {
    "slideshow": {
     "slide_type": "slide"
    }
   },
   "source": [
    "# CMPS 2200\n",
    "# Introduction to Algorithms\n",
    "\n",
    "## Review  on 02/28\n"
   ]
  },
  {
   "cell_type": "markdown",
   "metadata": {
    "slideshow": {
     "slide_type": "slide"
    }
   },
   "source": [
    "What does asymptotic analysis primarily study?\n",
    "- A) The exact running time of an algorithm\n",
    "- B) The growth rate of an algorithm as input size increases\n",
    "- C) The memory usage of an algorithm\n",
    "- D) The best-case performance of an algorithm\n",
    "\n",
    "> Solution: B"
   ]
  },
  {
   "cell_type": "markdown",
   "metadata": {
    "slideshow": {
     "slide_type": "slide"
    }
   },
   "source": [
    "Which of the following functions dominates as n$\\rightarrow \\infty$?\n",
    "- A) $O(n\\log n)$\n",
    "- B) $O(n^(\\frac{3}{2}))$\n",
    "\n",
    "- C) $O(2^n)$\n",
    "- D) $O(n!)$\n",
    "\n",
    "> Solution: D"
   ]
  },
  {
   "cell_type": "markdown",
   "metadata": {
    "slideshow": {
     "slide_type": "slide"
    }
   },
   "source": [
    "What does the work of a parallel algorithm represent?\n",
    "\n",
    "  - A) The maximum number of processors used at any point\n",
    "\n",
    "  - B) The total number of operations performed across all processors\n",
    "\n",
    "  - C) The longest sequence of dependent operations\n",
    "\n",
    "  - D) The minimum time required to finish the computation\n",
    "  \n",
    "> Solution: B"
   ]
  },
  {
   "cell_type": "markdown",
   "metadata": {
    "slideshow": {
     "slide_type": "slide"
    }
   },
   "source": [
    "What does the span (or critical path length) of a parallel algorithm represent?\n",
    "\n",
    "  - A) The number of processors available\n",
    "\n",
    "  - B) The total number of operations performed\n",
    "\n",
    "  - C) The longest sequence of dependent operations\n",
    "  \n",
    "  - D) The maximum speedup achievable\n",
    "  \n",
    "> Solution: C"
   ]
  },
  {
   "cell_type": "markdown",
   "metadata": {
    "slideshow": {
     "slide_type": "slide"
    }
   },
   "source": [
    "What is the main goal of analyzing work and span in parallel algorithms?\n",
    "\n",
    "  - A) To measure the memory usage\n",
    "\n",
    "  - B) To estimate the time complexity on a single processor\n",
    "\n",
    "  - C) To predict the performance and scalability of parallel algorithms\n",
    "  \n",
    "  - D) To count the number of recursive calls\n",
    "  \n",
    "  \n",
    "> Solution: C"
   ]
  },
  {
   "cell_type": "markdown",
   "metadata": {
    "slideshow": {
     "slide_type": "slide"
    }
   },
   "source": [
    "[**True/False**]: If the span of an algorithm is significantly smaller than the work, the algorithm can achieve high parallelism.\n",
    "\n",
    "> Solution: True"
   ]
  },
  {
   "cell_type": "markdown",
   "metadata": {
    "slideshow": {
     "slide_type": "slide"
    }
   },
   "source": [
    "[**True/False**]: The span of a parallel algorithm is always greater than or equal to the work.\n",
    "\n",
    "> Solution: False\n"
   ]
  },
  {
   "cell_type": "markdown",
   "metadata": {
    "slideshow": {
     "slide_type": "slide"
    }
   },
   "source": [
    "Amdahl's Law states that the maximum speedup of a program is limited by:\n",
    "- A) The number of processors available\n",
    "- B) The sequential portion of the program\n",
    "- C) The parallel portion of the program\n",
    "- D) The total runtime of the program\n",
    "\n",
    "> Solution: B or C"
   ]
  },
  {
   "cell_type": "markdown",
   "metadata": {},
   "source": [
    "A program is 70\\% parallelizable. What is the theoretical maximum speedup as the number of processors (P) approaches infinity?\n",
    "- A) 10\n",
    "- B) 3.33\n",
    "- C) 1.43\n",
    "- D) 1.30\n",
    "\n",
    "> Solution: B"
   ]
  },
  {
   "cell_type": "markdown",
   "metadata": {
    "slideshow": {
     "slide_type": "slide"
    }
   },
   "source": [
    "If a recursive algorithm performs two recursive calls on subproblems of size n/2 and combines the result in O(n) work, which recurrence expresses its work (W(n))?\n",
    "\n",
    "  - A) W(n) = 2W(n/2) + O(n)\n",
    "\n",
    "  - B) W(n) = W(n/2) + O(n)\n",
    "\n",
    "  - C) W(n) = 2W(n/2) + O(1)\n",
    "\n",
    "  - D) W(n) = W(n-1) + O(1)\n",
    "  \n",
    "> Solution: A"
   ]
  },
  {
   "cell_type": "markdown",
   "metadata": {
    "slideshow": {
     "slide_type": "slide"
    }
   },
   "source": [
    "Which of the following recursive algorithms has the highest span (S)?\n",
    "\n",
    "  - A) Merge Sort\n",
    "\n",
    "  - B) Quick Sort\n",
    "\n",
    "  - C) Fibonacci Recursive Algorithm\n",
    "\n",
    "  - D) Binary Search\n",
    "  \n",
    "  \n",
    "> Solution: C"
   ]
  },
  {
   "cell_type": "markdown",
   "metadata": {
    "slideshow": {
     "slide_type": "slide"
    }
   },
   "source": [
    "Look at the following Python code for Matrix Multiplication (Strassen's Algorithm)\n",
    "\n",
    "> **Problem**: Multiply two matrices using divide-and-conquer instead of the traditional approach.\n",
    "\n",
    "Divide-and-Conquer Approach:\n",
    " - Divide each matrix into 4 submatrices.\n",
    " - Recursively multiply smaller matrices.\n",
    " - Combine results using Strassen's formula.\n",
    " \n",
    "\n",
    "```python\n",
    "\n",
    "import numpy as np\n",
    "\n",
    "def strassen_multiply(A, B):\n",
    "    n = len(A)\n",
    "    if n == 1:\n",
    "        return A * B\n",
    "\n",
    "    mid = n // 2\n",
    "\n",
    "    A11, A12, A21, A22 = A[:mid, :mid], A[:mid, mid:], A[mid:, :mid], A[mid:, mid:]\n",
    "    B11, B12, B21, B22 = B[:mid, :mid], B[:mid, mid:], B[mid:, :mid], B[mid:, mid:]\n",
    "\n",
    "    M1 = strassen_multiply(A11 + A22, B11 + B22)\n",
    "    M2 = strassen_multiply(A21 + A22, B11)\n",
    "    M3 = strassen_multiply(A11, B12 - B22)\n",
    "    M4 = strassen_multiply(A22, B21 - B11)\n",
    "    M5 = strassen_multiply(A11 + A12, B22)\n",
    "    M6 = strassen_multiply(A21 - A11, B11 + B12)\n",
    "    M7 = strassen_multiply(A12 - A22, B21 + B22)\n",
    "\n",
    "    C11 = M1 + M4 - M5 + M7\n",
    "    C12 = M3 + M5\n",
    "    C21 = M2 + M4\n",
    "    C22 = M1 - M2 + M3 + M6\n",
    "\n",
    "    return np.vstack((np.hstack((C11, C12)), np.hstack((C21, C22))))\n",
    "\n",
    "A = np.array([[1, 2], [3, 4]])\n",
    "B = np.array([[5, 6], [7, 8]])\n",
    "print(strassen_multiply(A, B))\n",
    "\n",
    "\n",
    "\n",
    "\n",
    "```\n",
    "\n",
    " <span style=\"color:red\">**Question**</span> What is the work and span?\n",
    " \n",
    " > Solution: \n",
    " \n",
    " $$W(n) = 7W(n/2)+O(n^2)$$\n",
    " $$S(n) = S(n/2)+O(n^2)$$\n"
   ]
  },
  {
   "cell_type": "markdown",
   "metadata": {
    "slideshow": {
     "slide_type": "slide"
    }
   },
   "source": [
    "### Fast Exponentiation (Exponentiation by Squaring)\n",
    "\n",
    "\n",
    "    \n",
    "```python\n",
    "    \n",
    "def fast_exponentiation_recursive(a, b):\n",
    "    if b == 0:\n",
    "        return 1\n",
    "    half = fast_exponentiation_recursive(a, b // 2)\n",
    "    if b % 2 == 0:\n",
    "        return half * half  # Even power\n",
    "    else:\n",
    "        return a * half * half  # Odd power\n",
    "\n",
    "# Example Usage\n",
    "print(fast_exponentiation_recursive(2, 10))  # Output: 1024\n",
    "\n",
    "    \n",
    "    \n",
    "```\n",
    "<span style=\"color:red\">**Question**</span> What is the work and span?\n",
    "\n",
    "\n",
    " > Solution: \n",
    " \n",
    " $$W(n) = W(n/2)+O(1)$$\n",
    " $$S(n) = S(n/2)+O(1)$$\n"
   ]
  }
 ],
 "metadata": {
  "celltoolbar": "Slideshow",
  "kernelspec": {
   "display_name": "Python 3 (ipykernel)",
   "language": "python",
   "name": "python3"
  },
  "language_info": {
   "codemirror_mode": {
    "name": "ipython",
    "version": 3
   },
   "file_extension": ".py",
   "mimetype": "text/x-python",
   "name": "python",
   "nbconvert_exporter": "python",
   "pygments_lexer": "ipython3",
   "version": "3.12.2"
  },
  "rise": {
   "autolaunch": true,
   "controls": false,
   "enable_chalkboard": true,
   "scroll": true,
   "theme": "simple",
   "transition": "fade"
  },
  "toc": {
   "base_numbering": 1,
   "nav_menu": {},
   "number_sections": true,
   "sideBar": true,
   "skip_h1_title": true,
   "title_cell": "Table of Contents",
   "title_sidebar": "Contents",
   "toc_cell": true,
   "toc_position": {},
   "toc_section_display": true,
   "toc_window_display": false
  }
 },
 "nbformat": 4,
 "nbformat_minor": 4
}
