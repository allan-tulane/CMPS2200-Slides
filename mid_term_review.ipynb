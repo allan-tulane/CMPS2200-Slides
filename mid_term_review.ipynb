{
 "cells": [
  {
   "cell_type": "code",
   "execution_count": null,
   "id": "fc22f3c1",
   "metadata": {
    "id": "fc22f3c1",
    "outputId": "f4581611-a56e-4fda-ca70-5f7b8afce1ee"
   },
   "outputs": [
    {
     "data": {
      "text/html": [
       "<style>.prompt{width: 0px; min-width: 0px; visibility: collapse}</style>"
      ],
      "text/plain": [
       "<IPython.core.display.HTML object>"
      ]
     },
     "metadata": {},
     "output_type": "display_data"
    },
    {
     "data": {
      "text/html": [
       "<style>\n",
       "div#notebook {\n",
       " font-family: \"Exo_2\", sans-serif;\n",
       "}\n",
       "\n",
       ".rendered_html h1,\n",
       ".text_cell_render h1 {\n",
       " color: #126dce;\n",
       " font-size: 220%;\n",
       " text-align: center;\n",
       " font-weight: lighter;\n",
       "}\n",
       ".rendered_html h2,\n",
       ".text_cell_render h2 {\n",
       " text-align: center;\n",
       " font-size: 170%;\n",
       " color: #126dce;\n",
       " font-style: normal;\n",
       " font-weight: lighter;\n",
       "}\n",
       ".rendered_html h3,\n",
       ".text_cell_render h3 {\n",
       " font-size: 150%;\n",
       " color: #126dce;\n",
       " font-weight: lighter;\n",
       " text-decoration: italic;\n",
       " font-style: normal;\n",
       "}\n",
       ".rendered_html h4,\n",
       ".text_cell_render h4 {\n",
       " font-size: 120%;\n",
       " color: #126dce;\n",
       " font-weight: underline;\n",
       " font-style: normal;\n",
       "}\n",
       ".rendered_html h5,\n",
       ".text_cell_render h5 {\n",
       " font-size: 100%;\n",
       " color: #2f2f2f;\n",
       " font-weight: lighter;\n",
       " text-decoration: underline;\n",
       "}\n",
       "</style>\n"
      ],
      "text/plain": [
       "<IPython.core.display.HTML object>"
      ]
     },
     "metadata": {},
     "output_type": "display_data"
    }
   ],
   "source": [
    "# setup\n",
    "from IPython.core.display import display,HTML\n",
    "display(HTML('<style>.prompt{width: 0px; min-width: 0px; visibility: collapse}</style>'))\n",
    "display(HTML(open('rise.css').read()))\n",
    "\n",
    "# imports\n",
    "import numpy as np\n",
    "import matplotlib.pyplot as plt\n",
    "import seaborn as sns\n",
    "%matplotlib inline\n",
    "sns.set(style=\"whitegrid\", font_scale=1.5, rc={'figure.figsize':(12, 6)})\n",
    "\n"
   ]
  },
  {
   "cell_type": "markdown",
   "id": "cb92da52",
   "metadata": {
    "id": "cb92da52"
   },
   "source": [
    "## Mid-term Review \n",
    "\n",
    "- Good Algorithm [efficient - runs quickly, requires little memory]: input size $n$\n",
    "\n",
    "- Algorithm Comparison [**Worse Case**, Asymptotic Dominance] \n",
    "  - $\\mathcal{O}(),~~ \\Omega(), ~~\\Theta()$ \n",
    "  - Upper/Lower/Tight Bound\n",
    "  - Limit Method\n",
    "> **Exampe**: $n^2+8n = \\mathcal{O}(n^2)$, $n^2+8n = \\Theta(n^2)$, $n^2+8n = \\Omega(n^2)$\n",
    "\n",
    "- **Parallelism:** ability to run multiple computations at the same time \n",
    ">  <span style=\"color:red\">Question:</span> ``Parallel algorithms are useful because the more processors we have, the faster we can solve any possible computational problem``.\n",
    "\n",
    "- **Speedup**: a parellel algorithm $P$ over a sequential algorithms $S$ is: \n",
    "$$\n",
    "speedup(P,S) = \\frac{T(S)}{T(P)}\n",
    "$$\n",
    "> <span style=\"color:red\">Question:</span> If a parallel algorithm P runs on 16 processors in 50 seconds, and a competing serial algorithm S runs in 250 seconds, then what is the speedup of P as compared to S?\n",
    "\n",
    "- **Work $T_1$ \\& Span $T_\\infty$**\n",
    "  - **work**: total energy consumed by a computation; and **span**: minimum possible time that the computation requires\n",
    "  - When only $p$ processors are available $T_p <\\mathcal{O}(\\frac{T_1}{p}+T_\\infty)$ [when applying the Greedy Scheduler]\n",
    "\n",
    "- **Amdahl's Law**: $\\frac{T_1}{T_p} = \\frac{1}{S + \\frac{1 − S}{p}}$, where $S$ be the amount of time that cannot be parallelized.\n",
    "> <span style=\"color:red\">Question:</span> If only two-thirds work of a parallel algorithm is concurrent, how much of a speedup can we hope to get with 500 processors?\n",
    "\n",
    "- Funtional Language [SPARC] \n",
    "  - Pure function -> no side effects [**benign effects**]\n",
    "  - High Order Function (function as variable)\n",
    "\n",
    "- Language based Work-Span model \n",
    "  - $(e_1,~e_2)$ [**Add work and span**]\n",
    "  - $(e_1~||~e_2)$ [Add work but **take the maximum span**]\n",
    "> For a given expression $e$ [a series of statements], we will analyze the work $W(e)$ and span $S(e)$\n",
    "\n",
    "\n"
   ]
  },
  {
   "cell_type": "markdown",
   "id": "a5401545",
   "metadata": {
    "id": "a5401545"
   },
   "source": [
    "- **Reccursive Algorithms**\n",
    "  - Recurrences are useful because they help us characterize the running time of recursive algorithms.\n",
    "  - **Tree Method \\& Brick Method**\n",
    "  - General Formulation: $W(n) = \\alpha W(\\dfrac{n}{\\beta}) + f_W(n) \\Rightarrow S(n) = S(\\dfrac{n}{\\beta}) + f_S(n)$ \n",
    "\n",
    "Take Work as an example:\n",
    "\n",
    "> Step 1. What is the **input size** on level $i$? \n",
    "\n",
    "$$\\frac{n}{\\beta^i}$$\n",
    "\n",
    ">Step 2. What is the **cost** of each node on level $i$? \n",
    "\n",
    "$$c_1f_W(\\frac{n}{\\beta^i})+c_2$$\n",
    "\n",
    ">Step 3. How many nodes are there on level $i$? \n",
    "\n",
    "$$\\alpha^i$$\n",
    "\n",
    "\n",
    ">Step 4. What is the total cost across the level $i$? <span style=\"color:blue\">$\\Rightarrow$ This step is used for Brick Method.</span>\n",
    "\n",
    "$$\\alpha^i\\big(c_1f_W(\\frac{n}{\\beta^i})+c_2\\big)$$\n",
    "\n",
    ">Step 5. How many levels are there in the tree [**Tree Height/Depth**]? Note that Span is positively correlated with Tree Depth.\n",
    "\n",
    "$$\\frac{n}{\\beta^i} = 1 \\Rightarrow {i = \\log_{\\beta}n}$$\n",
    "\n",
    " \n",
    "\n",
    ">Step 6. What is the total cost? \n",
    "\n",
    "$$\\sum_{i=0}^{\\log_{\\beta}n}\\alpha^i\\big(c_1f_W(\\frac{n}{\\beta^i})+c_2\\big)$$\n",
    "\n",
    "\n",
    "Note that the leave level has $\\alpha^{\\log_\\beta n}$ nodes, or equivalently, $n^{\\log_\\beta \\alpha}$.\n",
    "\n",
    "\n",
    "### Example\n",
    "\n",
    "$$ W(n) = 3 W(n/2) + n $$\n",
    "\n",
    "$$ W(n) = 2 W(n/3) + n $$\n",
    "\n",
    "$$ W(n) = 3 W(n/3) + n $$\n",
    "\n",
    "$$ W(n)=2W(n/3)+1 $$\n",
    "\n",
    "$$ W(n)=W(\\sqrt{n})+1$$\n",
    "\n",
    "$$ W(n) = W(n - 1) + n $$\n",
    "\n",
    "$$ W(n) = \\sqrt{n} W(\\sqrt{n}) + n^2 $$\n",
    "\n",
    "$$ W(n) = W(\\sqrt{n}) + W(n/2) + n $$\n",
    "\n",
    "$$ W(n) = W(n/2) + W(n/3) + 1 $$\n",
    "\n"
   ]
  },
  {
   "cell_type": "markdown",
   "id": "b1ee4044",
   "metadata": {
    "id": "b1ee4044"
   },
   "source": [
    "### Sequence\n",
    "\n",
    "\n",
    "```\n",
    "def my_map(f, a):\n",
    "    return [f(x) for x in a]\n",
    "\n",
    "def iterate(f, x, a):\n",
    "    if len(a) == 0:\n",
    "        return x\n",
    "    else:\n",
    "        return iterate(f, f(x, a[0]), a[1:])\n",
    "\n",
    "def flatten(sequences):\n",
    "    return iterate(plus, [], sequences)\n",
    "\n",
    "def reduce(f, id_, a):\n",
    "    if len(a) == 0:\n",
    "        return id_\n",
    "    elif len(a) == 1:\n",
    "        return a[0]\n",
    "    else:\n",
    "        return f(reduce(f, id_, a[:len(a)//2]),\n",
    "                 reduce(f, id_, a[len(a)//2:]))\n",
    "\n",
    "def scan(f, id_, a):\n",
    "    return (\n",
    "            [reduce(f, id_, a[:i+1]) for i in range(len(a))],\n",
    "             reduce(f, id_, a)\n",
    "           )\n",
    "\n",
    "def plus(x, y):\n",
    "    return x + y\n",
    "\n",
    "```\n",
    "\n",
    "\n",
    "**Examples**\n",
    "- Given a list, count the number of prime elements; how can we use ``scan``? Similar to sentiment analysis [Negative \\& Positive Words]\n",
    "- Given a list, count the frequency of one element;"
   ]
  },
  {
   "cell_type": "markdown",
   "id": "77wfeiKW0Px-",
   "metadata": {
    "id": "77wfeiKW0Px-"
   },
   "source": [
    "\n",
    "### Reduction/Brute-Force Algorithms/Search Space\n",
    "\n",
    "If $A$ is reducible to $B$ then:\n",
    "\n",
    "- $A$ is not harder than $B$\n",
    "- $B$ is at least as hard as $A$\n",
    "\n",
    "> <span style=\"color:red\">Comparison:</span> Problem, Algorithm, Instance?\n",
    "\n",
    "- <span style=\"color:blue\">Lower Bound and Upper Bound</span>\n",
    "  - $A$ is reducable to $B$, $B$ is reducable to $C$.\n",
    "\n",
    "<span style=\"color:red\">Brute Force</span> paradigm just for a problem $A$ and an instance $\\mathcal{I}_A$, just looks at every possible solution and checks each one.\n",
    "\n",
    "- The upside of brute-force algorithms is the astronomical total work, but all possible solutions are checked concurrently.\n",
    "\n",
    "<span style=\"color:green\">Question:</span> Consider the problem of finding a given element $x$ in a list $L$ of length $n$, what is the search space for this problem and what is the work/span of the brute-force algorithm?\n",
    "\n",
    "\n",
    "\n",
    "> <span style=\"color:red\">Question:</span> ``If a problem A can be reduced to a problem B, then any algorithm for problem A can be used to solve problem B.``\n",
    "\n",
    "\n",
    "\n",
    "### Divide-and-Conquer \\& Contraction\n",
    "- Prove the correctness: <span style=\"color:red\">Induction</span>\n",
    "- Deduct Work and Span"
   ]
  }
 ],
 "metadata": {
  "colab": {
   "collapsed_sections": [],
   "name": "mid-term review.ipynb",
   "provenance": []
  },
  "kernelspec": {
   "display_name": "Python 3 (ipykernel)",
   "language": "python",
   "name": "python3"
  },
  "language_info": {
   "codemirror_mode": {
    "name": "ipython",
    "version": 3
   },
   "file_extension": ".py",
   "mimetype": "text/x-python",
   "name": "python",
   "nbconvert_exporter": "python",
   "pygments_lexer": "ipython3",
   "version": "3.9.7"
  }
 },
 "nbformat": 4,
 "nbformat_minor": 5
}
