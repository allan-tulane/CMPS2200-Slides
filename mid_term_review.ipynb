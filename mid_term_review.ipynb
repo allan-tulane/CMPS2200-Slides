{
  "cells": [
    {
      "cell_type": "markdown",
      "id": "cb92da52",
      "metadata": {
        "id": "cb92da52"
      },
      "source": [
        "# Mid-term Review \n",
        "\n",
        "- Good Algorithm [efficient - runs quickly, requires little memory]: input size $n$\n",
        "\n",
        "- Algorithm Comparison [**Worse Case**, Asymptotic Dominance] \n",
        "  - Upper Bound: $\\mathcal{O}()$, Lower Bound: $\\Omega()$, Tight Bound: $\\Theta()$ \n",
        "  - Limit Method, e.g., $\\lim_{n=∞}\\frac{n^c}{(n-1)^{c}}=1$\n",
        "> **Exampe**: $n^2+8n = \\mathcal{O}(n^2)$, $n^2+8n = \\Theta(n^2)$, $n^2+8n = \\Omega(n^2)$\n",
        "> $~~~~~~~~~~~~~~8n = \\mathcal{O}(n^2)$, $n^3 = \\Omega(n^2)$\n",
        "\n",
        "- **Parallelism:** ability to run multiple computations at the same time \n",
        ">  <span style=\"color:red\">Question:</span> ``Parallel algorithms are useful because the more processors we have, the faster we can solve any possible computational problem``.\n",
        "\n",
        "- **Speedup**: To solve a same task, a parellel algorithm $P$ over a sequential algorithms $S$ is: \n",
        "$$\n",
        "\\mathrm{speedup}(P,S) = \\frac{T(S)}{T(P)}\n",
        "$$\n",
        "> <span style=\"color:red\">Question:</span> If a parallel algorithm P runs on 16 processors in 50 seconds, and a competing serial algorithm S runs in 250 seconds, then what is the speedup of P as compared to S?\n",
        "\n",
        "- **Work $T_1$ \\& Span $T_\\infty$**\n",
        "  - **Work**: total energy consumed by a computation; \n",
        "  - **Span**: minimum possible time that the computation requires\n",
        "  - When only $p$ processors are available $T_p <\\mathcal{O}(\\frac{T_1}{p}+T_\\infty)$ [when applying the Greedy Scheduler]\n",
        "\n",
        "- **Amdahl's Law**: $\\frac{T_1}{T_p} = \\frac{1}{S + \\frac{1 − S}{p}}$, where $S$ be the amount of time that cannot be parallelized.\n",
        "> <span style=\"color:red\">Question:</span> If only two-thirds ($\\frac{2}{3}$) work of a parallel algorithm is concurrent, how much of a speedup can we hope to get with 500 processors?\n",
        "\n",
        "- Funtional Language [SPARC] \n",
        "  - Pure function -> no side effects [**benign effects**]\n",
        "  - High Order Function (function as variable) -> e.g., we pass mapping and reduce functions to a higher order one\n",
        "\n",
        "- Language based Work-Span model \n",
        "  - $(e_1,~e_2)$ [**Add work and span**]\n",
        "  - $(e_1~||~e_2)$ [Add work but **take the maximum span**]\n",
        "> For a given expression $e$ [a series of statements], we will analyze the work $W(e)$ and span $S(e)$\n",
        "\n",
        "\n"
      ]
    },
    {
      "cell_type": "markdown",
      "id": "a5401545",
      "metadata": {
        "id": "a5401545"
      },
      "source": [
        "- **Reccursive Algorithms**\n",
        "  - Recurrences are useful because they help us characterize the running time of recursive algorithms.\n",
        "  - **Tree Method \\& Brick Method**\n",
        "  - General Formulation: $W(n) = \\alpha W(\\dfrac{n}{\\beta}) + f_w(n) \\Rightarrow S(n) = S(\\dfrac{n}{\\beta}) + f_s(n)$, where master method can work. \n",
        "\n",
        "- **Take Work as an example**:\n",
        "\n",
        "> Step 1. What is the **input size** per node at level $i$? \n",
        "\n",
        "$$\\frac{n}{\\beta^i}$$\n",
        "\n",
        ">Step 2. What is the **cost** of each node at level $i$? \n",
        "\n",
        "$$c_1f_w(\\frac{n}{\\beta^i})+c_2$$\n",
        "\n",
        ">Step 3. How many nodes are there at level $i$? \n",
        "\n",
        "$$\\alpha^i$$\n",
        "\n",
        "\n",
        ">Step 4. What is the total cost across the level $i$? <span style=\"color:blue\">$\\Rightarrow$ This step is used for Brick Method.</span>\n",
        "\n",
        "$$\\alpha^i\\big(c_1f_w(\\frac{n}{\\beta^i})+c_2\\big)$$\n",
        "\n",
        ">Step 5. How many levels are there in the tree [**Tree Height/Depth**]? <span style=\"color:blue\">Note that Span is positively correlated with Tree Depth.</span>\n",
        "\n",
        "$$\\frac{n}{\\beta^i} = 1 \\Rightarrow {i = \\log_{\\beta}n}$$\n",
        "\n",
        " \n",
        "\n",
        ">Step 6. What is the total cost? \n",
        "\n",
        "$$\\sum_{i=0}^{\\log_{\\beta}n}\\alpha^i\\big(c_1f_w(\\frac{n}{\\beta^i})+c_2\\big)$$\n",
        "\n",
        "\n",
        "<span style=\"color:blue\"> Note that the leave level has $\\alpha^{\\log_\\beta n}$ nodes, or equivalently, $n^{\\log_\\beta \\alpha}$.</span>\n",
        "\n",
        "\n",
        "### Example\n",
        "\n",
        "$$ W(n) = 3 W(n/2) + n $$\n",
        "\n",
        "$$ W(n) = 2 W(n/3) + n $$\n",
        "\n",
        "$$ W(n) = 3 W(n/3) + n $$\n",
        "\n",
        "$$ W(n)=2W(n/3)+1 $$\n",
        "\n",
        "$$ W(n)=W(\\sqrt{n})+1$$\n",
        "\n",
        "$$ W(n) = W(n - 1) + n $$\n",
        "\n",
        "$$ W(n) = \\sqrt{n} W(\\sqrt{n}) + n^2 $$"
      ]
    },
    {
      "cell_type": "markdown",
      "source": [
        "## Sequence\n",
        "- iterate: $W(n) = O(n), S(n) = O(n)$\n",
        "- reduce: $W(n) = O(n), S(n) = O(\\log n)$\n",
        "- scan [fast version]: $W(n) = O(n), S(n) = O(\\log n)$"
      ],
      "metadata": {
        "id": "4KfJJhrE655Z"
      },
      "id": "4KfJJhrE655Z"
    },
    {
      "cell_type": "code",
      "source": [
        "from collections import defaultdict\n",
        "\n",
        "def iterate(f, x, a):\n",
        "    if len(a) == 0:\n",
        "        return x\n",
        "    else:\n",
        "        return iterate(f, f(x, a[0]), a[1:])\n",
        "    \n",
        "def flatten(sequences):\n",
        "    return iterate(plus, [], sequences)\n",
        "\n",
        "def collect(pairs):\n",
        "    result = defaultdict(list)\n",
        "    for pair in sorted(pairs):\n",
        "        result[pair[0]].append(pair[1])\n",
        "    return list(result.items())\n",
        "\n",
        "def plus(x, y):\n",
        "    return x + y\n",
        "\n",
        "def reduce(f, id_, a):\n",
        "    if len(a) == 0:\n",
        "        return id_\n",
        "    elif len(a) == 1:\n",
        "        return a[0]\n",
        "    else:\n",
        "        return f(reduce(f, id_, a[:len(a)//2]),\n",
        "                 reduce(f, id_, a[len(a)//2:]))\n",
        "\n",
        "## The specific implementation\n",
        "def word_count_map(doc):\n",
        "    return [(token, 1) for token in doc.split()] ## work and span ??\n",
        "\n",
        "\n",
        "def word_count_reduce(group):\n",
        "    return (group[0], reduce(plus, 0, group[1])) ## work and span ??\n",
        "\n",
        "\n",
        "def run_map_reduce(map_f, reduce_f, docs):\n",
        "\n",
        "    pairs = flatten(list(map(map_f, docs))) ## work: O(n); span: O(log n)\n",
        "\n",
        "    groups = collect(pairs) ## work: O(nlog n); span: O(log^2n)\n",
        "\n",
        "    return [reduce_f(g) for g in groups] ## \n",
        "    \n",
        "def test_word_count():\n",
        "    assert run_map_reduce(word_count_map, word_count_reduce, ['i am sam i am', 'sam is ham']) == \\\n",
        "           [('am', 2), ('ham', 1), ('i', 2), ('is', 1), ('sam', 2)]\n",
        "\n",
        "\n",
        "run_map_reduce(word_count_map, word_count_reduce, ['i am sam i am', 'sam is ham'])"
      ],
      "metadata": {
        "colab": {
          "base_uri": "https://localhost:8080/"
        },
        "id": "qCACsHlcBPK3",
        "outputId": "d197760a-f2ec-4e87-e6fa-4ef8bfb22506"
      },
      "id": "qCACsHlcBPK3",
      "execution_count": null,
      "outputs": [
        {
          "output_type": "execute_result",
          "data": {
            "text/plain": [
              "[('am', 2), ('ham', 1), ('i', 2), ('is', 1), ('sam', 2)]"
            ]
          },
          "metadata": {},
          "execution_count": 2
        }
      ]
    },
    {
      "cell_type": "markdown",
      "source": [
        "\n",
        "\n",
        "**Examples**\n",
        "- Given a list, count the number of prime elements; how can we use ``scan``? Similar to sentiment analysis [Negative \\& Positive Words]\n",
        "- Given a list, count the frequency of one element;"
      ],
      "metadata": {
        "id": "hzNX6oSqBeGa"
      },
      "id": "hzNX6oSqBeGa"
    },
    {
      "cell_type": "markdown",
      "id": "77wfeiKW0Px-",
      "metadata": {
        "id": "77wfeiKW0Px-"
      },
      "source": [
        "\n",
        "### Reduction/Brute-Force Algorithms/Search Space\n",
        "\n",
        "If $A$ is reducible to $B$ then:\n",
        "\n",
        "- $A$ is not harder than $B$\n",
        "- $B$ is at least as hard as $A$\n",
        "\n",
        "> <span style=\"color:red\">Comparison:</span> Problem, Algorithm, Instance?\n",
        "\n",
        "- <span style=\"color:blue\">Lower Bound and Upper Bound</span>\n",
        "  - $A$ is reducable to $B$, $B$ is reducable to $C$.\n",
        "\n",
        "<span style=\"color:red\">Brute Force</span> paradigm just for a problem $A$ and an instance $\\mathcal{I}_A$, just looks at every possible solution and checks each one.\n",
        "\n",
        "- The upside of brute-force algorithms is the astronomical total work, but all possible solutions are checked concurrently.\n",
        "\n",
        "<span style=\"color:green\">Question:</span> Consider the problem of finding a given element $x$ in a list $L$ of length $n$, what is the search space for this problem and what is the work/span of the brute-force algorithm?\n",
        "\n",
        "### Divide-and-Conquer \\& Contraction\n",
        "- Prove the correctness: <span style=\"color:red\">Induction</span>\n",
        "- Deduct Work and Span"
      ]
    }
  ],
  "metadata": {
    "colab": {
      "collapsed_sections": [],
      "name": "mid_term_review.ipynb",
      "provenance": []
    },
    "kernelspec": {
      "display_name": "Python 3 (ipykernel)",
      "language": "python",
      "name": "python3"
    },
    "language_info": {
      "codemirror_mode": {
        "name": "ipython",
        "version": 3
      },
      "file_extension": ".py",
      "mimetype": "text/x-python",
      "name": "python",
      "nbconvert_exporter": "python",
      "pygments_lexer": "ipython3",
      "version": "3.9.7"
    }
  },
  "nbformat": 4,
  "nbformat_minor": 5
}