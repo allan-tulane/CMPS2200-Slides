{
 "cells": [
  {
   "cell_type": "code",
   "execution_count": 4,
   "metadata": {
    "code_folding": [],
    "slideshow": {
     "slide_type": "skip"
    }
   },
   "outputs": [
    {
     "data": {
      "text/html": [
       "<style>.prompt{width: 0px; min-width: 0px; visibility: collapse}</style>"
      ],
      "text/plain": [
       "<IPython.core.display.HTML object>"
      ]
     },
     "metadata": {},
     "output_type": "display_data"
    },
    {
     "data": {
      "text/html": [
       "<style>\n",
       "div#notebook {\n",
       " font-family: \"Exo_2\", sans-serif;\n",
       "}\n",
       "\n",
       ".rendered_html h1,\n",
       ".text_cell_render h1 {\n",
       " color: #126dce;\n",
       " font-size: 220%;\n",
       " text-align: center;\n",
       " font-weight: lighter;\n",
       "}\n",
       ".rendered_html h2,\n",
       ".text_cell_render h2 {\n",
       " text-align: center;\n",
       " font-size: 170%;\n",
       " color: #126dce;\n",
       " font-style: normal;\n",
       " font-weight: lighter;\n",
       "}\n",
       ".rendered_html h3,\n",
       ".text_cell_render h3 {\n",
       " font-size: 150%;\n",
       " color: #126dce;\n",
       " font-weight: lighter;\n",
       " text-decoration: italic;\n",
       " font-style: normal;\n",
       "}\n",
       ".rendered_html h4,\n",
       ".text_cell_render h4 {\n",
       " font-size: 120%;\n",
       " color: #126dce;\n",
       " font-weight: underline;\n",
       " font-style: normal;\n",
       "}\n",
       ".rendered_html h5,\n",
       ".text_cell_render h5 {\n",
       " font-size: 100%;\n",
       " color: #2f2f2f;\n",
       " font-weight: lighter;\n",
       " text-decoration: underline;\n",
       "}\n",
       "</style>\n"
      ],
      "text/plain": [
       "<IPython.core.display.HTML object>"
      ]
     },
     "metadata": {},
     "output_type": "display_data"
    }
   ],
   "source": [
    "# setup\n",
    "from IPython.core.display import display,HTML\n",
    "display(HTML('<style>.prompt{width: 0px; min-width: 0px; visibility: collapse}</style>'))\n",
    "display(HTML(open('rise.css').read()))\n",
    "\n",
    "# imports\n",
    "import numpy as np\n",
    "import matplotlib.pyplot as plt\n",
    "import seaborn as sns\n",
    "%matplotlib inline\n",
    "sns.set(style=\"whitegrid\", font_scale=1.5, rc={'figure.figsize':(12, 6)})\n"
   ]
  },
  {
   "cell_type": "markdown",
   "metadata": {
    "slideshow": {
     "slide_type": "slide"
    }
   },
   "source": [
    "# CMPS 2200\n",
    "# Introduction to Algorithms\n",
    "\n",
    "## Computational Complexity and NP-Hardness\n"
   ]
  },
  {
   "cell_type": "markdown",
   "metadata": {
    "slideshow": {
     "slide_type": "slide"
    }
   },
   "source": [
    "Going back to our discussions of asymptotic complexity, we said that we were interested in algorithms for computational problems that:\n",
    "\n",
    "- Did polynomial work in the input size\n",
    "\n",
    "- Leveraged concurrency to achieve span (i.e., parallel speedup)\n",
    "\n",
    "We have studied different algorithmic paradigms to try and achieve these two goals. But, when is this actually possible?\n",
    "\n",
    "What problems are solvable with polynomial work? Of those, which allow us to achieve a good parallel speedup?\n",
    "\n",
    "Or, which problems **aren't** solvable with polynomial work? Perhaps we could just avoid or approximate these, instead of trying to find efficient algorithms.\n",
    "\n",
    "The field of **computational complexity** tries to characterize problems by resource complexity (e.g., work, span, space).\n"
   ]
  },
  {
   "cell_type": "markdown",
   "metadata": {
    "slideshow": {
     "slide_type": "slide"
    }
   },
   "source": [
    "### Checking versus Solving ###\n",
    "\n",
    "Another interesting thing about these problems that we can't seem to solve is that, given a solution, we can actually check whether or not the solution is correct very quickly. We just don't know how to produce correct solution efficiently.\n",
    "\n",
    "Likewise we can easily check solutions to TSP, and Knapsack with polynomial work. \n",
    "\n",
    "- The class of problems for which we can **check**, with a provided candidate solution, whether the input produces correct answer is known as $\\mathcal{NP}$ (nondeterministic polynomial). \n",
    "\n",
    "- $\\mathcal{P}$ is the class of problems for which we can compute solutions directly with polynomial work.\n",
    "\n",
    "Now we know that $\\mathcal{P}\\subseteq\\mathcal{NP}$, since we can efficiently check a problem solution by constructing it in polynomial work.\n",
    "\n",
    "But does $\\mathcal{P} = \\mathcal{NP}$? Or more informally, do we need substantially more work to solve a problem than to check a solution to it?\n",
    "\n"
   ]
  },
  {
   "cell_type": "markdown",
   "metadata": {
    "slideshow": {
     "slide_type": "fragment"
    }
   },
   "source": [
    "### Reduction ###\n",
    "\n",
    "Interestingly, many of these problems reduce to one another.\n",
    "\n",
    "- A problem $\\mathcal{X}$ is *polynomial-work reducible* to a problem $\\mathcal{Y}$ if we can i) perform an input transformation from $\\mathcal{X}$ to $\\mathcal{Y}$ and ii) an output transformation from $\\mathcal{Y}$ to $\\mathcal{X}$ with polynomial work. This shows that $\\mathcal{Y}$ \"is as hard\" as $\\mathcal{X}$, because an algorithm for $\\mathcal{Y}$ then yields an algorithm for $\\mathcal{X}$ (with an additional polynomial amount of work).\n",
    "\n",
    "\n",
    "- A problem $\\mathcal{X}$ in $\\mathcal{NP}$ is $\\mathcal{NP}$-complete if every other problem in $\\mathcal{NP}$ can be transformed (or reduced) into $\\mathcal{X}$ in polynomial work. It is not known whether every problem in $\\mathcal{NP}$ can be quickly solved.\n",
    "\n",
    "\n",
    "Richard Karp used reductions to show 21 different problems were all $\\mathcal{NP}$-complete.\n",
    "\n",
    "<a href=\"http://cgi.di.uoa.gr/~sgk/teaching/grad/handouts/karp.pdf\"><img src =\"karp_21_problems.jpg\" width=70%></a>\n"
   ]
  },
  {
   "cell_type": "markdown",
   "metadata": {
    "slideshow": {
     "slide_type": "slide"
    }
   },
   "source": [
    "### Parallelism? ###\n",
    "\n",
    "Can we parallelize and solve $\\mathcal{NP}$-complete problems? \n",
    "\n",
    "Since the definition of span doesn't really care about the number of processors, we can solve problems in $\\mathcal{NP}$ using brute force with polynomial span. This is because the definition of $\\mathcal{NP}$ ensures that we can efficiently check candidate solutions.\n",
    "\n",
    "However if we were able to achieve polynomial work, we'd immediately have shown $\\mathcal{P}=\\mathcal{NP}$ since we could just do all the work on a single processor."
   ]
  },
  {
   "cell_type": "markdown",
   "metadata": {
    "slideshow": {
     "slide_type": "fragment"
    }
   },
   "source": [
    "A more interesting question is whether we can effectively parallelize problems in $\\mathcal{P}$. That is, for any problem $\\mathcal{X}$ that is solvable in polynomial work, does it also have low span?\n",
    "\n",
    "Let $\\mathcal{NC}$ (``Nick's Class``) denote the set of all problems with span $O(\\log^c n)$ for some constant $c$ using a polynomial number of processors. \n",
    "\n",
    "We know that $\\mathcal{NC}\\subseteq \\mathcal{P}$, but is $\\mathcal{P}\\subseteq\\mathcal{NC}$? \n",
    "\n",
    "What does this statement imply?"
   ]
  },
  {
   "cell_type": "markdown",
   "metadata": {
    "slideshow": {
     "slide_type": "fragment"
    }
   },
   "source": [
    "It implies that **every** problem in $\\mathcal{P}$ is parallelizable. \n",
    "\n",
    "As with $\\mathcal{NP}$, it's possible to define $\\mathcal{P}$-complete problems. \n",
    "\n",
    "The Circuit Value Problem ($\\mathit{CVP}$) asks, for a given circuit on AND, OR, and NOT gates along with inputs, does the circuit produce an output of 1?\n",
    "\n",
    "$\\mathit{CVP}$ is $\\mathcal{P}$-complete.\n",
    "\n",
    "As with $\\mathcal{NP}$, we have [a long list of $\\mathcal{P}$-complete problems](https://en.wikipedia.org/wiki/P-complete#P-complete_problems). We cannot find polylogarithmic span algorithms for any of them, nor can we prove that it is not possible to come up with such algorithms."
   ]
  },
  {
   "cell_type": "markdown",
   "metadata": {
    "slideshow": {
     "slide_type": "slide"
    }
   },
   "source": [
    "We have just looked at two complexity classes, but this <a href=\"https://complexityzoo.uwaterloo.ca/Complexity_Zoo\">area</a> is quite deep.\n",
    "\n",
    "\n",
    "<a href = \"https://jeremykun.com/2012/02/29/other-complexity-classes/\"><img src=\"complexity_venn_diagram.jpg\" width=60%></a>"
   ]
  }
 ],
 "metadata": {
  "celltoolbar": "Slideshow",
  "kernelspec": {
   "display_name": "Python 3",
   "language": "python",
   "name": "python3"
  },
  "language_info": {
   "codemirror_mode": {
    "name": "ipython",
    "version": 3
   },
   "file_extension": ".py",
   "mimetype": "text/x-python",
   "name": "python",
   "nbconvert_exporter": "python",
   "pygments_lexer": "ipython3",
   "version": "3.8.5"
  },
  "rise": {
   "autolaunch": true,
   "controls": false,
   "enable_chalkboard": true,
   "scroll": true,
   "theme": "simple",
   "transition": "fade"
  },
  "toc": {
   "base_numbering": 1,
   "nav_menu": {},
   "number_sections": true,
   "sideBar": true,
   "skip_h1_title": true,
   "title_cell": "Table of Contents",
   "title_sidebar": "Contents",
   "toc_cell": true,
   "toc_position": {},
   "toc_section_display": true,
   "toc_window_display": false
  }
 },
 "nbformat": 4,
 "nbformat_minor": 4
}
