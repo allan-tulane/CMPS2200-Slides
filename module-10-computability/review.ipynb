{
 "cells": [
  {
   "cell_type": "code",
   "execution_count": 3,
   "metadata": {
    "code_folding": [],
    "slideshow": {
     "slide_type": "skip"
    }
   },
   "outputs": [
    {
     "data": {
      "text/html": [
       "<style>.prompt{width: 0px; min-width: 0px; visibility: collapse}</style>"
      ],
      "text/plain": [
       "<IPython.core.display.HTML object>"
      ]
     },
     "metadata": {},
     "output_type": "display_data"
    },
    {
     "data": {
      "text/html": [
       "<style>\n",
       "div#notebook {\n",
       " font-family: \"Exo_2\", sans-serif;\n",
       "}\n",
       "\n",
       ".rendered_html h1,\n",
       ".text_cell_render h1 {\n",
       " color: #126dce;\n",
       " font-size: 220%;\n",
       " text-align: center;\n",
       " font-weight: lighter;\n",
       "}\n",
       ".rendered_html h2,\n",
       ".text_cell_render h2 {\n",
       " text-align: center;\n",
       " font-size: 170%;\n",
       " color: #126dce;\n",
       " font-style: normal;\n",
       " font-weight: lighter;\n",
       "}\n",
       ".rendered_html h3,\n",
       ".text_cell_render h3 {\n",
       " font-size: 150%;\n",
       " color: #126dce;\n",
       " font-weight: lighter;\n",
       " text-decoration: italic;\n",
       " font-style: normal;\n",
       "}\n",
       ".rendered_html h4,\n",
       ".text_cell_render h4 {\n",
       " font-size: 120%;\n",
       " color: #126dce;\n",
       " font-weight: underline;\n",
       " font-style: normal;\n",
       "}\n",
       ".rendered_html h5,\n",
       ".text_cell_render h5 {\n",
       " font-size: 100%;\n",
       " color: #2f2f2f;\n",
       " font-weight: lighter;\n",
       " text-decoration: underline;\n",
       "}\n",
       "</style>\n"
      ],
      "text/plain": [
       "<IPython.core.display.HTML object>"
      ]
     },
     "metadata": {},
     "output_type": "display_data"
    }
   ],
   "source": [
    "# setup\n",
    "from IPython.core.display import display,HTML\n",
    "display(HTML('<style>.prompt{width: 0px; min-width: 0px; visibility: collapse}</style>'))\n",
    "display(HTML(open('rise.css').read()))\n",
    "\n",
    "# imports\n",
    "import numpy as np\n",
    "import matplotlib.pyplot as plt\n",
    "import seaborn as sns\n",
    "%matplotlib inline\n",
    "sns.set(style=\"whitegrid\", font_scale=1.5, rc={'figure.figsize':(12, 6)})\n"
   ]
  },
  {
   "cell_type": "markdown",
   "metadata": {
    "slideshow": {
     "slide_type": "slide"
    }
   },
   "source": [
    "# CMPS 2200\n",
    "# Introduction to Algorithms\n",
    "\n",
    "## Final Exam Review\n"
   ]
  },
  {
   "cell_type": "markdown",
   "metadata": {
    "slideshow": {
     "slide_type": "slide"
    }
   },
   "source": [
    "# Module 1: Model of Computation and Asymptotic Notation\n",
    "\n",
    "### Lecture Topics:\n",
    "\n",
    "- Asymptotic Notation ($O, \\Omega, o, \\omega$)\n",
    "\n",
    "- Work, Span, Speedup, Amdahl's Law\n",
    "\n",
    "- Functional languages and SPARC\n",
    "\n",
    "- Computational costs, Parallelism, Work Efficiency, Scheduling\n",
    "\n",
    "### Homework 1\n",
    "\n",
    "- Asymptotic analysis \n",
    "- SPARC to Python and back\n",
    "- Longest run (a divide-and-conquer algorithm, actually)\n",
    "\n",
    "### Lab 1\n",
    "\n",
    "- Comparison of the empirical performance linear and binary search.\n",
    "\n",
    "### Lab 2\n",
    "\n",
    "- Calculating the values of recurrences\n",
    "\n",
    "### Skills\n",
    "\n",
    "- Knowledge of our model of computation (parallelism, speedup, work, span, work efficiency)\n",
    "\n",
    "- Know the difference between functional and imperative expressions\n",
    "\n",
    "- Translate between SPARC and Python\n",
    "\n",
    "- Given a function of $n$, derive asymptotic bounds\n"
   ]
  },
  {
   "cell_type": "markdown",
   "metadata": {
    "slideshow": {
     "slide_type": "slide"
    }
   },
   "source": [
    "# Module 2: Recurrences\n",
    "\n",
    "### Lecture Topics:\n",
    "\n",
    "- Why do we care about recurrences?\n",
    "\n",
    "- Tree Method\n",
    "\n",
    "- Brick Method\n",
    "\n",
    "- Example: Integer Multiplication\n",
    "\n",
    "### Homework 2\n",
    "\n",
    "- More recurrences using the brick method.\n",
    "\n",
    "- Comparing the asymptotic performance (work, actually) of 3 algorithms\n",
    "\n",
    "- Implement Karatsaba-Ofman\n",
    "\n",
    "### Lab 3\n",
    "\n",
    "- Practice the tree method and the brick method.\n",
    "\n",
    "### Lab 4\n",
    "\n",
    "- `map` and `reduce` for word occurrences and sentiment analysis\n",
    "\n",
    "### Skills\n",
    "\n",
    "- Write a recurrence that captures the behavior of a given algorithm\n",
    "\n",
    "- Understand the computation graph for an algorithm execution\n",
    "\n",
    "- Application of the tree and brick methods to analyze a given algorithm"
   ]
  },
  {
   "cell_type": "markdown",
   "metadata": {
    "slideshow": {
     "slide_type": "slide"
    }
   },
   "source": [
    "# Module 3: Sequences\n",
    "\n",
    "### Lecture Topics:\n",
    "\n",
    "- Abstract Data Types\n",
    "\n",
    "- Operations on sequences\n",
    "\n",
    "- Reduce and Iterate\n",
    "\n",
    "- `scan` (using contraction)\n",
    "\n",
    "# Module 4: Divide-and-Conquer\n",
    "\n",
    "### Lecture Topics:\n",
    "\n",
    "- Reductions, Search Spaces and Brute-Force\n",
    "\n",
    "- Divide and Conquer Framework\n",
    "    - Correctness using induction\n",
    "    - Running time using recurrences\n",
    "    \n",
    "- Examples:\n",
    "    - MergeSort\n",
    "    - Karatsaba-Ofman\n",
    "    - `reduce`\n",
    "    - `scan`\n",
    "    - eTSP\n",
    "    - MCSS\n",
    "\n",
    "### Homework 3\n",
    "\n",
    "- Finding an element in an unsorted list using Divide and Conquer\n",
    "\n",
    "- Parenthesis matching\n",
    "\n",
    "### Lab 5\n",
    "\n",
    "- Count Sort\n",
    "\n",
    "### Skills\n",
    "\n",
    "- Understand how sequence operations such as `reduce` and `scan` are parallelized\n",
    "\n",
    "- Applying sequence operations to solve problems efficiently\n",
    "\n",
    "- Provide a brute force search algorithm along with its work/span for a given algorithm\n",
    "\n",
    "- Understand reductions and how they relate to problem complexity \n",
    "\n",
    "- Devise divide and conquer algorithms and prove their correctness and running time"
   ]
  },
  {
   "cell_type": "markdown",
   "metadata": {
    "slideshow": {
     "slide_type": "slide"
    }
   },
   "source": [
    "# Module 5: Randomization\n",
    "\n",
    "### Lecture Topics:\n",
    "\n",
    "- Basic Probability\n",
    "\n",
    "- Selection\n",
    "\n",
    "- Quicksort\n",
    "\n",
    "### Homework 4\n",
    "\n",
    "- Markov's Inequality\n",
    "- Las Vegas and Monte Carlo Algorithms\n",
    "- Quicksort performance\n",
    "\n",
    "### Skills\n",
    "\n",
    "- Formulate expected work/span\n",
    "\n",
    "- Compute probabilities and expectations\n",
    "\n",
    "\n"
   ]
  },
  {
   "cell_type": "markdown",
   "metadata": {
    "slideshow": {
     "slide_type": "slide"
    }
   },
   "source": [
    "# Module 6: Greedy Algorithms\n",
    "\n",
    "### Lecture Topics:\n",
    "\n",
    "- Greedy choice and optimal substructure properties\n",
    "\n",
    "- Unit Task Scheduling\n",
    "\n",
    "- Fractional Knapsack\n",
    "\n",
    "- Binary and Meldable Heaps\n",
    "\n",
    "- Huffman Coding\n",
    "\n",
    "\n",
    "### Skills\n",
    "\n",
    "- Prove greedy choice and optimal substructure properties\n",
    "\n",
    "\n",
    "# Module 7: Dynamic Programming\n",
    "\n",
    "### Lecture Topics:\n",
    "\n",
    "- Dynamic Programming paradigm\n",
    "\n",
    "- 0-1 Knapsack\n",
    "\n",
    "- Edit Distance\n",
    "\n",
    "- Longest Increasing Subsequence\n",
    "\n",
    "- Optimal Binary Search Trees\n",
    "\n",
    "\n",
    "### Homework 5\n",
    "\n",
    "- Proving that greedy algorithms are optimal (or not)\n",
    "- Greedy choice\n",
    "- Optimal Substructure\n",
    "\n",
    "### Labs\n",
    "\n",
    "- Binary Heaps\n",
    "- Top-down and bottom-up memoization for dynamic programming\n",
    "\n",
    "\n",
    "### Skills\n",
    "\n",
    "- Formulate greedy algorithms and prove greedy choice property\n",
    "- Formulate and prove optimal substructure property\n",
    "- Utilize top-down or bottom-up memoization\n",
    "- Analyze work/span\n",
    "\n"
   ]
  },
  {
   "cell_type": "markdown",
   "metadata": {
    "slideshow": {
     "slide_type": "slide"
    }
   },
   "source": [
    "\n",
    "# Module 8: Graph Search and Shortest Paths\n",
    "\n",
    "### Lecture Topics:\n",
    "\n",
    "- Graph representation and data structures\n",
    "\n",
    "- Breadth First Search, Depth First Search\n",
    "\n",
    "- Dijkstra's Algorithm\n",
    "\n",
    "- Bellman-Ford Algorithm\n",
    "\n",
    "- All-pairs Shortest Paths with Johnson's Algorithm\n",
    "\n",
    "### Lab\n",
    "\n",
    "- Connectivity and reachability\n",
    "\n",
    "### Skills\n",
    "\n",
    "- Use graph search/shortest path algorithms\n",
    "\n",
    "\n",
    "# Module 9: Trees and Contraction\n",
    "\n",
    "### Lecture Topics:\n",
    "\n",
    "- Spanning Trees and Minimum Spanning Trees\n",
    "\n",
    "- Prim's Algorithm\n",
    "\n",
    "- Kruskal's Algorithm\n",
    "\n",
    "- Borůvka's Algorithm\n",
    "\n",
    "### Homework 6\n",
    "\n",
    "- BFS\n",
    "- Shortest Paths\n",
    "- All-pairs shortest paths\n",
    "- Spanning Trees\n",
    "\n",
    "### Labs\n",
    "\n",
    "- MST\n",
    "- Graph partitioning\n",
    "\n",
    "### Skills\n",
    "\n",
    "- Be able to reason about MSTs and graph partitioning\n",
    "\n",
    "\n",
    "# Module 10: Computational Complexity and NP-Completeness\n",
    "\n",
    "### Lecture Topics:\n",
    "\n",
    "- $\\mathcal{P} = \\mathcal{NP}$ ?\n",
    "- Reductions and NP-completeness \n",
    "- $\\mathcal{NC} = \\mathcal{P}$ ?\n",
    "\n",
    "### Skills\n",
    "\n",
    "- Reductions"
   ]
  }
 ],
 "metadata": {
  "celltoolbar": "Slideshow",
  "kernelspec": {
   "display_name": "Python 3",
   "language": "python",
   "name": "python3"
  },
  "language_info": {
   "codemirror_mode": {
    "name": "ipython",
    "version": 3
   },
   "file_extension": ".py",
   "mimetype": "text/x-python",
   "name": "python",
   "nbconvert_exporter": "python",
   "pygments_lexer": "ipython3",
   "version": "3.6.5"
  },
  "rise": {
   "autolaunch": true,
   "controls": false,
   "enable_chalkboard": true,
   "scroll": true,
   "theme": "simple",
   "transition": "fade"
  },
  "toc": {
   "base_numbering": 1,
   "nav_menu": {},
   "number_sections": true,
   "sideBar": true,
   "skip_h1_title": true,
   "title_cell": "Table of Contents",
   "title_sidebar": "Contents",
   "toc_cell": true,
   "toc_position": {},
   "toc_section_display": true,
   "toc_window_display": false
  }
 },
 "nbformat": 4,
 "nbformat_minor": 4
}
