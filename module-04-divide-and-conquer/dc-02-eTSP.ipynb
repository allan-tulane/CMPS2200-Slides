{
 "cells": [
  {
   "cell_type": "code",
   "execution_count": 6,
   "metadata": {
    "code_folding": [],
    "slideshow": {
     "slide_type": "skip"
    }
   },
   "outputs": [
    {
     "data": {
      "text/html": [
       "<style>.prompt{width: 0px; min-width: 0px; visibility: collapse}</style>"
      ],
      "text/plain": [
       "<IPython.core.display.HTML object>"
      ]
     },
     "metadata": {},
     "output_type": "display_data"
    },
    {
     "data": {
      "text/html": [
       "<style>\n",
       "div#notebook {\n",
       " font-family: \"Exo_2\", sans-serif;\n",
       "}\n",
       "\n",
       ".rendered_html h1,\n",
       ".text_cell_render h1 {\n",
       " color: #126dce;\n",
       " font-size: 220%;\n",
       " text-align: center;\n",
       " font-weight: lighter;\n",
       "}\n",
       ".rendered_html h2,\n",
       ".text_cell_render h2 {\n",
       " text-align: center;\n",
       " font-size: 170%;\n",
       " color: #126dce;\n",
       " font-style: normal;\n",
       " font-weight: lighter;\n",
       "}\n",
       ".rendered_html h3,\n",
       ".text_cell_render h3 {\n",
       " font-size: 150%;\n",
       " color: #126dce;\n",
       " font-weight: lighter;\n",
       " text-decoration: italic;\n",
       " font-style: normal;\n",
       "}\n",
       ".rendered_html h4,\n",
       ".text_cell_render h4 {\n",
       " font-size: 120%;\n",
       " color: #126dce;\n",
       " font-weight: underline;\n",
       " font-style: normal;\n",
       "}\n",
       ".rendered_html h5,\n",
       ".text_cell_render h5 {\n",
       " font-size: 100%;\n",
       " color: #2f2f2f;\n",
       " font-weight: lighter;\n",
       " text-decoration: underline;\n",
       "}\n",
       "</style>\n"
      ],
      "text/plain": [
       "<IPython.core.display.HTML object>"
      ]
     },
     "metadata": {},
     "output_type": "display_data"
    }
   ],
   "source": [
    "# setup\n",
    "from IPython.core.display import display,HTML\n",
    "display(HTML('<style>.prompt{width: 0px; min-width: 0px; visibility: collapse}</style>'))\n",
    "display(HTML(open('../rise.css').read()))\n",
    "\n",
    "# imports\n",
    "import numpy as np\n",
    "import matplotlib.pyplot as plt\n",
    "import seaborn as sns\n",
    "%matplotlib inline\n",
    "sns.set(style=\"whitegrid\", font_scale=1.5, rc={'figure.figsize':(12, 6)})\n"
   ]
  },
  {
   "cell_type": "markdown",
   "metadata": {
    "slideshow": {
     "slide_type": "slide"
    }
   },
   "source": [
    "# CMPS 2200\n",
    "# Introduction to Algorithms\n",
    "\n",
    "## Euclidean Traveling Salesperson Problem"
   ]
  },
  {
   "cell_type": "markdown",
   "metadata": {
    "slideshow": {
     "slide_type": "slide"
    }
   },
   "source": [
    "### Example: Euclidean Traveling Salesperson Problem\n",
    "\n",
    "In the Euclidean Traveling Salesperson Problem (eTSP), you are given a set of $n$ 2D points. The goal is to find a \"tour\" that begins and ends with the same point such that:\n",
    "- every point is visited exactly once (except the starting point) \n",
    "- the sum of distances between adjacent points is minimized\n",
    "\n",
    "This is an incredibly widespread and useful problem -- consider all the various kinds of routing problems that are solved every day. \n",
    "\n",
    "For a simple example, think of Amazon/USPS/UPS package deliveries.\n",
    "\n",
    "Which solution is better?\n",
    "\n",
    "<br><p> \n",
    " ![eTSP_simple.jpg](eTSP_simple.jpg)\n",
    "<br><p> \n",
    "\n",
    "Given an input with $n$ points, how many possible solutions are there?"
   ]
  },
  {
   "cell_type": "markdown",
   "metadata": {
    "slideshow": {
     "slide_type": "slide"
    }
   },
   "source": [
    "## Brute-Force?\n",
    "\n",
    "If we take a brute-force approach to this problem, what is the solution space and how can we search it?"
   ]
  },
  {
   "cell_type": "markdown",
   "metadata": {
    "slideshow": {
     "slide_type": "fragment"
    }
   },
   "source": [
    "There are $n!$ possible solutions, and we must check the cost of each by summing $n$ distances. This can be done with $O(n)$ work and $O(\\log n)$ span. So we can solve eTSP with $O(n\\cdot n!)$ work and $O(\\log n)$ span. \n",
    "\n",
    "\n",
    "\n",
    "\n"
   ]
  },
  {
   "cell_type": "markdown",
   "metadata": {
    "slideshow": {
     "slide_type": "fragment"
    }
   },
   "source": [
    "<span style=\"color:red\">Question:</span> Are we done if we use brute-force approach? "
   ]
  },
  {
   "cell_type": "markdown",
   "metadata": {
    "slideshow": {
     "slide_type": "slide"
    }
   },
   "source": [
    "## Divide-and-Conquer?\n",
    "\n",
    "What intuition can we get about the fact that this problem is in 2D?\n",
    "\n",
    "\n",
    "<br><p> \n",
    " ![eTSP_harder_sol.jpg](eTSP_harder_sol.jpg)\n",
    "<br><p> \n",
    "\n",
    "Since points that are \"clustered\" can possibly be dealt with first, how about a divide-and-conquer approach? How would that work?\n",
    "\n"
   ]
  },
  {
   "cell_type": "markdown",
   "metadata": {
    "slideshow": {
     "slide_type": "fragment"
    }
   },
   "source": [
    "We can split the input using a \"cut\" through the plane that separates the input points into two equal parts. Then, recursively solve eTSP for each smaller point set. \n",
    "\n",
    "How do we combine smaller solutions into larger ones?\n",
    "\n"
   ]
  },
  {
   "cell_type": "markdown",
   "metadata": {
    "slideshow": {
     "slide_type": "fragment"
    }
   },
   "source": [
    "We need to make sure that two tours can be combined into the best possible single tour.\n",
    "\n",
    "<br><p> \n",
    " ![eTSP_merge.jpg](eTSP_merge2.jpg)\n",
    "<br><p> \n",
    "\n",
    "To do this, we can try all possible ways to merge each tour by rerouting across the cut and back and choose the least costly. This yields the following algorithm:\n",
    "\n",
    "\n",
    "<p><span class=\"math display\">\\[\\begin{array}{l}  \n",
    "\\mathit{eTSP}~(P) =  \n",
    "\\\\  \n",
    "~~~~\\texttt{if}~|P|<2~\\texttt{then}  \n",
    "\\\\  \n",
    "~~~~~~~~\\texttt{raise}~\\mathit{TooSmall}  \n",
    "\\\\  \n",
    "~~~~\\texttt{else if}~|P| = 2~\\texttt{then}  \n",
    "\\\\  \n",
    "~~~~~~~~\\left\\langle\\, (P[0],P[1]),(P[1],P[0]) \\,\\right\\rangle  \n",
    "\\\\  \n",
    "~~~~\\texttt{else}  \n",
    "\\\\  \n",
    "~~~~~~~~\\texttt{let}  \n",
    "\\\\  \n",
    "~~~~~~~~~~~~(P_\\ell, P_r) = \\mathit{split}~P~\\texttt{along the longest dimension}  \n",
    "\\\\  \n",
    "~~~~~~~~~~~~(L, R) = (\\mathit{eTSP}~P_\\ell) \\mid\\mid{} (\\mathit{eTSP}~P_r)  \n",
    "\\\\  \n",
    "~~~~~~~~~~~~(c,(e,e')) = \\mathit{minVal}_{\\mathit{first}} \\left\\{ (\\mathit{swapCost}(e,e'),(e,e')) : e \\in L, e' \\in R \\right\\}  \n",
    "\\\\  \n",
    "~~~~~~~~\\texttt{in}  \n",
    "\\\\  \n",
    "~~~~~~~~~~~~~~~~\\mathit{swapEdges}~(\\mathit{append}~(L,R),e,e')  \n",
    "\\\\  \n",
    "~~~~~~~~\\texttt{end}  \n",
    "\\end{array}\\]</span></p>\n",
    "\n",
    "<p>The function $\\mathit{minVal}_{\\mathit{first}}$ uses the first value of the pairs to find the minimum, and returns the (first) pair with that minimum. The function $\\mathit{swapEdges}(E,e,e')$ finds the edges $e$ and $e'$ and swaps the endpoints. As there are two ways to swap, it picks the cheaper one.</p>\n",
    "\n",
    "   "
   ]
  },
  {
   "cell_type": "markdown",
   "metadata": {
    "slideshow": {
     "slide_type": "slide"
    }
   },
   "source": [
    "**Correctness**: Does this algorithm compute a tour? Does this algorithm compute a minimum-cost tour?\n",
    "    \n",
    "We can show by induction that this algorithm always produces a tour. \n",
    "\n",
    "### However, the combine step does not necessarily produce a minimum cost tour! <span style=\"color:red\">Why?</span>\n",
    "\n",
    "<br>\n",
    "\n",
    "Actually, we currently do not know of any  polynomial-work algorithm to solve this problem. In fact, the brute-force algorithm is essentially the best we can do. \n"
   ]
  },
  {
   "cell_type": "markdown",
   "metadata": {
    "slideshow": {
     "slide_type": "slide"
    }
   },
   "source": [
    "**Work/Span**:\n",
    "\n",
    "This algorithm has two recursive calls that each operate on $n/2$ points. To combine the solution we must check $O(n^2)$ ways too cross the cut and compute the best. This requires $O(n^2)$ work and $O(\\log n)$ span. \n",
    "\n",
    "So we have that the work is $W(n) = 2W(n/2) + O(n^2).$ This is a root-dominated recurrence, and thus $W(n) = O(n^2)$. \n",
    "\n",
    "The span is $S(n) = S(n/2) + O(\\log n)$. This is a balanced recurrence with $\\lg n$ levels, and so $S(n) = O(\\log^2 n)$.\n"
   ]
  }
 ],
 "metadata": {
  "celltoolbar": "Slideshow",
  "kernelspec": {
   "display_name": "Python 3 (ipykernel)",
   "language": "python",
   "name": "python3"
  },
  "language_info": {
   "codemirror_mode": {
    "name": "ipython",
    "version": 3
   },
   "file_extension": ".py",
   "mimetype": "text/x-python",
   "name": "python",
   "nbconvert_exporter": "python",
   "pygments_lexer": "ipython3",
   "version": "3.11.4"
  },
  "rise": {
   "autolaunch": true,
   "controls": false,
   "enable_chalkboard": true,
   "scroll": true,
   "theme": "simple",
   "transition": "fade"
  },
  "toc": {
   "base_numbering": 1,
   "nav_menu": {},
   "number_sections": true,
   "sideBar": true,
   "skip_h1_title": true,
   "title_cell": "Table of Contents",
   "title_sidebar": "Contents",
   "toc_cell": true,
   "toc_position": {},
   "toc_section_display": true,
   "toc_window_display": false
  }
 },
 "nbformat": 4,
 "nbformat_minor": 4
}
