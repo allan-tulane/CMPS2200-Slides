{
 "cells": [
  {
   "cell_type": "code",
   "execution_count": 4,
   "metadata": {
    "code_folding": [],
    "slideshow": {
     "slide_type": "skip"
    }
   },
   "outputs": [],
   "source": [
    "# setup\n",
    "from IPython.core.display import display,HTML\n",
    "display(HTML('<style>.prompt{width: 0px; min-width: 0px; visibility: collapse}</style>'))\n",
    "display(HTML(open('../rise.css').read()))\n",
    "\n",
    "# imports\n",
    "import numpy as np\n",
    "import matplotlib.pyplot as plt\n",
    "import seaborn as sns\n",
    "%matplotlib inline\n",
    "sns.set(style=\"whitegrid\", font_scale=1.5, rc={'figure.figsize':(12, 6)})\n"
   ]
  },
  {
   "cell_type": "markdown",
   "metadata": {
    "slideshow": {
     "slide_type": "slide"
    }
   },
   "source": [
    "# CMPS 2200\n",
    "# Introduction to Algorithms\n",
    "\n",
    "## MCSS and Euclidean TSP\n"
   ]
  },
  {
   "cell_type": "markdown",
   "metadata": {
    "slideshow": {
     "slide_type": "slide"
    }
   },
   "source": [
    "Today's agenda:\n",
    "\n",
    "- Divide-and-Conquer with `reduce`\n",
    "- Maximum Contiguous Subsequence Sum\n",
    "- Euclidean TSP\n"
   ]
  },
  {
   "cell_type": "markdown",
   "metadata": {
    "slideshow": {
     "slide_type": "slide"
    }
   },
   "source": [
    "Recall that we gave a divide-and-conquer algorithm for `reduce`:\n",
    "\n",
    "$reduce \\: f \\: id \\: a =\n",
    "\\begin{cases}\n",
    "id & \\hbox{if} \\: |a| = 0\\\\\n",
    "a[0] & \\hbox{if} \\: |a| = 1\\\\\n",
    "f(reduce \\: f \\: id \\: (a[0 \\ldots \\lfloor \\frac{|a|}{2} \\rfloor - 1]), \\\\ \\:\\:\\:reduce \\: f \\: id \\: (a[\\lfloor \\frac{|a|}{2} \\rfloor \\ldots |a|-1])& \\hbox{otherwise}\n",
    "\\end{cases}\n",
    "$\n",
    "\n",
    "What happens when $f$ is the method for combining solutions? \n",
    "\n",
    "`reduce(merge, [], list(map(singleton, [1,3,6,4,8,7,5,2])))`\n",
    "\n",
    "This is Merge Sort! Can all divide-and-conquer algorithms be implemented with `reduce`?\n"
   ]
  },
  {
   "cell_type": "markdown",
   "metadata": {
    "slideshow": {
     "slide_type": "fragment"
    }
   },
   "source": [
    "The divide-and-conquer framework is much more general than `reduce`. So `reduce` cannot be used when, for example, we wish to split the input into 3 or more parts, or if they are of unequal size. "
   ]
  },
  {
   "cell_type": "markdown",
   "metadata": {
    "slideshow": {
     "slide_type": "slide"
    }
   },
   "source": [
    "## Maximum Continguous Subsequence Sum\n",
    "\n",
    "<p>Given a sequence of integers, the&#160; <strong><em>Maximum Contiguous Subsequence Sum Problem</em></strong> (<span class=\"sans-serif\">MCSS</span>) requires finding the contiguous subsequence of the sequence with maximum total sum:\n",
    "    $$\\textsf{MCS}{}\\,(a) = \\arg\\max_{0 \\leq i,j < |a|} \\left( {\\left( \\sum_{k=i}^j a[k]  \\right)} \\right).  $$ \n",
    "    \n",
    "We define the sum of an empty sequence to $-\\infty$.</p>\n",
    "\n",
    "Example: For $a = \\langle 1, -2, 0, 3, -1, 0, 2, -3 \\rangle$ a maximum contiguous subsequence (MCSS) is $\\langle\\, 3, -1, 0, 2 \\rangle$. Another is $\\langle 0, 3, -1, 0, 2 \\rangle.$</p>\n",
    "\n",
    "<br><br><br><br><br>\n",
    "This is similar to Problem 4 on HW1 (`longest_run`). How?MCSS is useful for many applications, from genomics to data science and finance.\n",
    "\n",
    "Let's first take a brute-force approach to this problem. What is the solution space, and how long does it take to evaluate it?\n",
    "\n"
   ]
  },
  {
   "cell_type": "markdown",
   "metadata": {
    "slideshow": {
     "slide_type": "fragment"
    }
   },
   "source": [
    "We must consider every contiguous subsequence and evaluate the maximum element within each. There are $O(n^2)$ contiguous subsequences. To evaluate the maximum in each contiguous subsequence we need $O(n)$ work and $O(\\log n)$ span. Thus the brute-force approach takes $O(n^3)$ work and $O(\\log n)$ span.\n",
    "\n",
    "Can we do better using divide-and-conquer?"
   ]
  },
  {
   "cell_type": "markdown",
   "metadata": {
    "slideshow": {
     "slide_type": "slide"
    }
   },
   "source": [
    "As usual let's start by dividing the input into two equal parts and recursively finding the solution. If the MCSS is within either part entirely, then in the combine step we just need to return the subsequence with larger maximum. \n",
    "\n",
    "But what if the MCSS spans the two halves?\n",
    "\n",
    "![mcss_combine.jpg](mcss_combine.jpg)\n",
    "\n",
    "Example: $a = \\langle 1, -2, 0, 3, -1, 0, 2, -3 \\rangle$\n",
    "\n",
    "- Split into left = $\\langle 1, -2, 0, 3 \\rangle$, right = $\\langle -1, 0, 2, -3 \\rangle$\n",
    "\n",
    "- Left MCSS is $\\langle 0, 3 \\rangle$ (or just $\\langle 3 \\rangle$) $= 3$\n",
    "\n",
    "- Right MCSS is $\\langle 0, 2 \\rangle$ $= 2$ \n",
    "\n",
    "- But, the best MCSS crossing the cut is $\\langle 0, 3, -1, 0, 2 \\rangle$ $=4$\n",
    "\n",
    "<br><br>\n",
    "\n",
    "The maximum sum spanning the cut is the sum of the largest suffix on the left plus the largest prefix on the right.\n",
    "\n",
    "<br><br>\n",
    "\n",
    "Suppose we could identify an MCSS ending at position $\\lfloor n/2 \\rfloor$ and an MCSS beginning at position $\\lfloor n/2 \\rfloor$. Then we could add values of these to obtain a candidate MCSS for the whole sequence. Then the best of the three candidate solutions is an MCSS for the entire sequence.\n",
    "\n",
    "- **MCSSS**$(i)$: maximum contiguous sum **starting** at position $i$\n",
    "- **MCSSE**$(i)$: maximum contiguous sum **ending** at position $i$"
   ]
  },
  {
   "cell_type": "markdown",
   "metadata": {
    "slideshow": {
     "slide_type": "fragment"
    }
   },
   "source": [
    "Suppose MCSSE and MCSSS can be solved in $\\Theta(n)$ work and $\\Theta(\\log n)$ span, and $\\mathit{bestAcross}~(b, c)$ constructs an MCSS crossing the split using these solutions. Then we could give this divide-and-conquer algorithm.\n",
    "\n",
    "<p><span class=\"math display\">\\[\\begin{array}{l}\n",
    "\\mathit{MCSSDC}~a =  \n",
    "\\\\  \n",
    "~~~~\\texttt{if}~ |a| = 0~\\texttt{then}  \n",
    "\\\\  \n",
    "~~~~~~~~{-\\infty}{}  \n",
    "\\\\  \n",
    "~~~~\\texttt{else if}~|a| = 1 ~\\texttt{then}  \n",
    "\\\\   \n",
    "~~~~~~~~a[0]  \n",
    "\\\\  \n",
    "~~~~\\texttt{else}  \n",
    "\\\\   \n",
    "~~~~~~~~\\texttt{let}  \n",
    "\\\\   \n",
    "~~~~~~~~~~~~(b, c)  = \\mathit{splitMid}~a  \n",
    "\\\\   \n",
    "~~~~~~~~~~~~(m_b, m_c) = \\left( \\mathit{MCSSDC}~b \\ ||\\ \\mathit{MCSSDC}~c \\right)  \n",
    "\\\\   \n",
    "~~~~~~~~~~~~m_{bc} = \\mathit{bestAcross}~(b, c)  \n",
    "\\\\   \n",
    "~~~~~~~~\\texttt{in}  \n",
    "\\\\   \n",
    "~~~~~~~~~~~~\\max\\{m_b, m_c, m_{bc}\\}  \n",
    "\\\\   \n",
    "~~~~~~~~\\texttt{end}  \n",
    "\\end{array}\\]</span></p>\n",
    "\n",
    "**Correctness**:\n",
    "\n",
    "We can proceed by induction as usual. The base case produces the correct results. For the induction step, we make the hypothesis that the recursively computed MCSS's for $b$ and $c$ are correct. With a correct implementation of $\\mathit{bestAcross}$, we can conclude $\\max\\{m_b, m_c, m_{bc}\\}$ is an MCSS.\n",
    "\n",
    "**Work/Span**:\n",
    "\n",
    "Using our assumption about $\\mathit{bestAcross}$ we have that:\n",
    "\n",
    "$$ W(n) = 2W(n/2) + \\Theta(n)$$\n",
    "\n",
    "and\n",
    "\n",
    "$$ S(n) = S(n/2) + \\Theta(\\log n)$$\n",
    "\n",
    "These yield $O(n\\log n)$ work and $O(\\log^2 n)$ span. What is a lower bound for the work? (It turns out we can [match this lower bound](https://www.diderot.one/courses/43/books/185/part/332/chapter/2684#segment-192144).)\n"
   ]
  },
  {
   "cell_type": "markdown",
   "metadata": {
    "slideshow": {
     "slide_type": "fragment"
    }
   },
   "source": [
    "But how do we obtain an MCSS starting at a specified position (MCSSS) or ending at a specified position (MCSSE)?\n",
    "\n",
    "Because one end of the contiguous subsequence is fixed, it turns out that we can use `reduce`,  `scan` and `scanI` (an inclusive version of scan) to design algorithms for [MCSSS](https://www.diderot.one/courses/43/books/185/part/332/chapter/2684#atom-176120) and [MCSSE](https://www.diderot.one/courses/43/books/185/part/332/chapter/2684#atom-176121) using $O(n)$ work and $O(\\log n)$ span for our application in which the start and end position is the middle of the input list. \n",
    "\n",
    "**MCSS starting at position $i$:**\n",
    "\n",
    "<span class=\"math display\">\\begin{array}{l}  \n",
    "\\mathit{MCSSSOpt}~a~i =  \n",
    "\\\\   \n",
    "~~~~\\texttt{let}   \n",
    "\\\\   \n",
    "~~~~~~~~b = \\mathit{scanI}~\\text{'}\\,{\\texttt{+}}\\,\\text{'}~0~a~[i \\cdots (|a|-1)]  \n",
    "\\\\   \n",
    "~~~~\\texttt{in}  \n",
    "\\\\   \n",
    "~~~~~~~~\\mathit{reduce}~\\mathit{max}~{-\\infty}{}~b  \n",
    "\\\\   \n",
    "~~~~\\texttt{end}  \n",
    "\\end{array}</span></p>\n",
    "\n",
    "The intuition for this approach is just that if we lock position $i$ for the subsequence, then computing a prefix sum and then subsequent maximum suffices.\n",
    "\n",
    "![mcsss_fig.jpg](mcsss_fig.jpg)\n",
    "\n",
    "left = $\\langle 1, -2, 0, 3 \\rangle$, right = $\\langle -1, 0, 2, -3 \\rangle$\n",
    "\n",
    "```python\n",
    ">>> scan(add, 0, [-1,0,2,-3])\n",
    "([-1, -1, 1, -2], -2)\n",
    "```\n",
    "Max of $1$ happens when using prefix $[-1, 0, 2]$"
   ]
  },
  {
   "cell_type": "markdown",
   "metadata": {
    "slideshow": {
     "slide_type": "fragment"
    }
   },
   "source": [
    "Solving MCSSE is similar, except \"backwards\":\n",
    "\n",
    "**MCSS ending at position $i$:**\n",
    "\n",
    "<p><span class=\"math display\">\\[\\begin{array}{l}  \n",
    "\\mathit{MCSSEOpt}~a~j=  \n",
    "\\\\  \n",
    "~~~~\\texttt{let}  \n",
    "\\\\  \n",
    "~~~~~~~~(b,v) = \\mathit{scan}~\\text{'}\\,{\\texttt{+}}\\,\\text{'}~0~a[0 \\cdots j]  \n",
    "\\\\  \n",
    "~~~~~~~~w= \\mathit{reduce}~\\mathit{min}~\\infty~b  \n",
    "\\\\  \n",
    "~~~~\\texttt{in}  \n",
    "\\\\  \n",
    "~~~~~~~~v - w   \n",
    "\\\\  \n",
    "~~~~\\texttt{end}  \n",
    "\\end{array}\\]</span></p>\n",
    "\n",
    "Here, $v$ is the sum of $a[0\\cdots j]$. The key observation here is that for a location $i$, if we subtract prefix sum up to position $i$ from $v$ then we have the subsequence sum for $a[i\\cdots j]$. The first `scan` computes these prefixes and the `reduce` identifies which difference is maximum. \n",
    "\n",
    "![mcsse_fig.jpg](mcsse_fig.jpg)\n",
    "\n",
    "```python\n",
    ">>> b, v = scan(add, 0, [1,-2,0,3])\n",
    ">>> print('b=', b, 'v=', v)\n",
    "b= [1, -1, -1, 2] v= 2\n",
    "\n",
    ">>> w = reduce(min, -math.inf, b)\n",
    ">>> print('w=', w)\n",
    "w= -1\n",
    "\n",
    ">>> print('v-w=', v-w)\n",
    "v-w= 3\n",
    "```\n",
    "\n",
    "Max of $3$ happens for subsequence $[0,3]$"
   ]
  },
  {
   "cell_type": "markdown",
   "metadata": {
    "slideshow": {
     "slide_type": "slide"
    }
   },
   "source": [
    "## The Euclidean Traveling Salesperson Problem\n",
    "\n",
    "In the Euclidean Traveling Salesperson Problem (eTSP), you are given a set of $n$ 2D points. The goal is to find a \"tour\" (of the points with minimum cost. That is, we must construct a sequence of all the points (i.e., a sequence of 2D points) that begins and ends with the same point such that:\n",
    "\n",
    "- every point is visited exactly once (except the starting point) \n",
    "- the sum of distances between adjacent points is minimized\n",
    "\n",
    "This is an incredibly widespread and useful problem -- consider all the various kinds of routing problems that are solved every day. For a simple example, think of Amazon/USPS/UPS package deliveries.\n",
    "\n",
    "Which solution is better?\n",
    "\n",
    "<br><p> \n",
    " ![eTSP_simple.jpg](eTSP_simple.jpg)\n",
    "<br><p> \n",
    "\n",
    "Given an input with $n$ points, how many possible solutions are there?"
   ]
  },
  {
   "cell_type": "markdown",
   "metadata": {
    "slideshow": {
     "slide_type": "slide"
    }
   },
   "source": [
    "## Brute-Force?\n",
    "\n",
    "If we take a brute-force approach to this problem, what is the solution space and how can we search it?\n",
    "\n",
    "There are $n!$ possible solutions, and we must check the cost of each by summing $n-1$ distances. This can be done with $O(n)$ work and $O(\\log n)$ span. So we can solve eTSP with $O(n\\cdot n!)$ work and $O(\\log n)$ span. \n",
    "\n",
    "This is good span, but an astronomical amount of work. What if we had more points?\n",
    "\n",
    "<br><p> \n",
    " ![eTSP_harder.jpg](eTSP_harder.jpg)\n",
    "<br><p> \n",
    "\n",
    "16! is about $2 x 10^{13}$, so while there are very few points the brute-force approach is not tractable!\n",
    "\n",
    "Is the brute-force algorithm work-efficient?\n"
   ]
  },
  {
   "cell_type": "markdown",
   "metadata": {
    "slideshow": {
     "slide_type": "slide"
    }
   },
   "source": [
    "## Divide-and-Conquer?\n",
    "\n",
    "What intuition can we get about the fact that this problem is in 2D?\n",
    "\n",
    "\n",
    "<br><p> \n",
    " ![eTSP_harder_sol.jpg](eTSP_harder_sol.jpg)\n",
    "<br><p> \n",
    "\n",
    "Since points that are \"clustered\" can possibly be dealt with first, how about a divide-and-conquer approach? How would that work?\n",
    "\n"
   ]
  },
  {
   "cell_type": "markdown",
   "metadata": {
    "slideshow": {
     "slide_type": "fragment"
    }
   },
   "source": [
    "We can split the input using a \"cut\" through the plane that separates the input points into two equal parts. Then, recursively solve eTSP for each smaller point set. \n",
    "\n",
    "How do we combine smaller solutions into larger ones?\n",
    "\n"
   ]
  },
  {
   "cell_type": "markdown",
   "metadata": {
    "slideshow": {
     "slide_type": "fragment"
    }
   },
   "source": [
    "We need to make sure that two tours can be combined into the best possible single tour.\n",
    "\n",
    "<br><p> \n",
    " ![eTSP_merge.jpg](eTSP_merge2.jpg)\n",
    "<br><p> \n",
    "\n",
    "To do this, we can try all possible ways to merge each tour by rerouting across the cut and back and choose the least costly. This yields the following algorithm:\n",
    "\n",
    "\n",
    "<p><span class=\"math display\">\\[\\begin{array}{l}  \n",
    "\\mathit{eTSP}~(P) =  \n",
    "\\\\  \n",
    "~~~~\\texttt{if}~|P|<2~\\texttt{then}  \n",
    "\\\\  \n",
    "~~~~~~~~\\texttt{raise}~\\mathit{TooSmall}  \n",
    "\\\\  \n",
    "~~~~\\texttt{else if}~|P| = 2~\\texttt{then}  \n",
    "\\\\  \n",
    "~~~~~~~~\\left\\langle\\, (P[0],P[1]),(P[1],P[0]) \\,\\right\\rangle  \n",
    "\\\\  \n",
    "~~~~\\texttt{else}  \n",
    "\\\\  \n",
    "~~~~~~~~\\texttt{let}  \n",
    "\\\\  \n",
    "~~~~~~~~~~~~(P_\\ell, P_r) = \\mathit{split}~P~\\texttt{along the longest dimension}  \n",
    "\\\\  \n",
    "~~~~~~~~~~~~(L, R) = (\\mathit{eTSP}~P_\\ell) \\mid\\mid{} (\\mathit{eTSP}~P_r)  \n",
    "\\\\  \n",
    "~~~~~~~~~~~~(c,(e,e')) = \\mathit{minVal}_{\\mathit{first}} \\left\\{ (\\mathit{swapCost}(e,e'),(e,e')) : e \\in L, e' \\in R \\right\\}  \n",
    "\\\\  \n",
    "~~~~~~~~\\texttt{in}  \n",
    "\\\\  \n",
    "~~~~~~~~~~~~~~~~\\mathit{swapEdges}~(\\mathit{append}~(L,R),e,e')  \n",
    "\\\\  \n",
    "~~~~~~~~\\texttt{end}  \n",
    "\\end{array}\\]</span></p>\n",
    "\n",
    "<p>The function $\\mathit{minVal}_{\\mathit{first}}$ uses the first value of the pairs to find the minimum, and returns the (first) pair with that minimum. The function $\\mathit{swapEdges}(E,e,e')$ finds the edges $e$ and $e'$ and swaps the endpoints. As there are two ways to swap, it picks the cheaper one.</p>\n",
    "\n"
   ]
  },
  {
   "cell_type": "markdown",
   "metadata": {
    "slideshow": {
     "slide_type": "slide"
    }
   },
   "source": [
    "**Correctness**: Does this algorithm compute a tour? Does this algorithm compute a minimum-cost tour?\n",
    "    \n",
    "We can show by induction that this algorithm always produces a tour. \n",
    "\n",
    "### However, the combine step does not necessarily produce a minimum cost tour!\n",
    "\n",
    "<br>\n",
    "\n",
    "Actually, we currently do not know of any  polynomial-work algorithm to solve this problem. In fact, the brute-force algorithm is essentially the best we can do. (We'll get to this in more detail at the end of the semester.)\n",
    "\n",
    "What we do know how to do efficiently is to compute an *approximation* to the optimal eTSP solution. We can compute a solution that is within $(1+\\epsilon)$ of optimal. The running time is polynomial in $n$ and $1/\\epsilon$. \n",
    "\n",
    "This algorithm is actually not correct in the sense that it is not necessarily an approximation to the optimal solution. Rather, it is a *heuristic* that works well in practice."
   ]
  },
  {
   "cell_type": "markdown",
   "metadata": {
    "slideshow": {
     "slide_type": "slide"
    }
   },
   "source": [
    "**Work/Span**:\n",
    "\n",
    "This algorithm has two recursive calls that each operate on $n/2$ points. To combine the solution we must check $O(n^2)$ ways too cross the cut and compute the best. This requires $O(n^2)$ work and $O(\\log n)$ span. \n",
    "\n",
    "So we have that the work is $W(n) = 2W(n/2) + O(n^2).$ This is a root-dominated recurrence, and thus $W(n) = O(n^2)$. \n",
    "\n",
    "The span is $S(n) = S(n/2) + O(\\log n)$. This is a balanced recurrence with $\\lg n$ levels, and so $S(n) = O(\\log^2 n)$.\n"
   ]
  }
 ],
 "metadata": {
  "celltoolbar": "Slideshow",
  "kernelspec": {
   "display_name": "Python 3",
   "language": "python",
   "name": "python3"
  },
  "language_info": {
   "codemirror_mode": {
    "name": "ipython",
    "version": 3
   },
   "file_extension": ".py",
   "mimetype": "text/x-python",
   "name": "python",
   "nbconvert_exporter": "python",
   "pygments_lexer": "ipython3",
   "version": "3.7.3"
  },
  "rise": {
   "autolaunch": true,
   "controls": false,
   "enable_chalkboard": true,
   "scroll": true,
   "theme": "simple",
   "transition": "fade"
  },
  "toc": {
   "base_numbering": 1,
   "nav_menu": {},
   "number_sections": true,
   "sideBar": true,
   "skip_h1_title": true,
   "title_cell": "Table of Contents",
   "title_sidebar": "Contents",
   "toc_cell": true,
   "toc_position": {},
   "toc_section_display": true,
   "toc_window_display": false
  }
 },
 "nbformat": 4,
 "nbformat_minor": 4
}
