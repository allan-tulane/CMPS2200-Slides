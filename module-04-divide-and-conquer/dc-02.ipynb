{
 "cells": [
  {
   "cell_type": "code",
   "execution_count": 4,
   "metadata": {
    "code_folding": [],
    "slideshow": {
     "slide_type": "skip"
    }
   },
   "outputs": [],
   "source": [
    "# setup\n",
    "from IPython.core.display import display,HTML\n",
    "display(HTML('<style>.prompt{width: 0px; min-width: 0px; visibility: collapse}</style>'))\n",
    "display(HTML(open('../rise.css').read()))\n",
    "\n",
    "# imports\n",
    "import numpy as np\n",
    "import matplotlib.pyplot as plt\n",
    "import seaborn as sns\n",
    "%matplotlib inline\n",
    "sns.set(style=\"whitegrid\", font_scale=1.5, rc={'figure.figsize':(12, 6)})\n"
   ]
  },
  {
   "cell_type": "markdown",
   "metadata": {
    "slideshow": {
     "slide_type": "slide"
    }
   },
   "source": [
    "# CMPS 2200\n",
    "# Introduction to Algorithms\n",
    "\n",
    "## Divide-and-Conquer & Contraction\n",
    "\n",
    "\n",
    "<!-- MCSS: Maximum Contiguous Subsequence Sum -->\n"
   ]
  },
  {
   "cell_type": "markdown",
   "metadata": {
    "slideshow": {
     "slide_type": "slide"
    }
   },
   "source": [
    "## Maximum Continguous Subsequence Sum\n",
    "\n",
    "<p>Given a sequence of integers, the&#160; <strong><em>Maximum Contiguous Subsequence Sum Problem</em></strong> (<span class=\"sans-serif\">MCSS</span>) requires finding the contiguous subsequence of the sequence with maximum total sum:</p><br>\n",
    "    $$\\textsf{MCS}{}\\,(a) = {\\arg\\max}_{0 \\leq i,j < |a|} \\left( {\\left( \\sum_{k=i}^j a[k]  \\right)} \\right).  $$ \n",
    "    \n",
    "We define the sum of an empty sequence to $-\\infty$.\n",
    "\n",
    "MCSS is useful for many applications, from genomics to data science and finance.\n",
    "\n",
    "\n",
    "\n",
    "\n"
   ]
  },
  {
   "cell_type": "markdown",
   "metadata": {
    "slideshow": {
     "slide_type": "fragment"
    }
   },
   "source": [
    "<span style=\"color:red\">**Example**</span>: For $a = \\langle 1, -2, 0, 3, -1, 0, 2, -3 \\rangle$ a maximum contiguous subsequence (MCSS) is $\\langle\\, 3, -1, 0, 2 \\rangle$. Another is $\\langle 0, 3, -1, 0, 2 \\rangle.$</p>\n",
    "\n",
    "<p align=\"center\">\n",
    "  <img width=40% src=\"figures\\mcss_emp.png\"/>\n",
    "</p>\n",
    "\n",
    "\n",
    "<br><br><br><br><br>\n",
    "This is similar to Problem 3 on HW1 (`longest_run`). Let's now look at a **brute-force** approach to this problem. \n",
    "\n",
    "What is the solution space, and how long does it take to evaluate it?\n",
    "\n",
    "\n",
    "\n"
   ]
  },
  {
   "cell_type": "markdown",
   "metadata": {
    "slideshow": {
     "slide_type": "fragment"
    }
   },
   "source": [
    "We must consider every contiguous subsequence and evaluate the maximum element within each. There are $O(n^2)$ contiguous subsequences. \n",
    "\n",
    "```python\n",
    "\n",
    "# nested tabulate\n",
    "a = [1,2,3,4,5]\n",
    "flatten(\n",
    "    tabulate(lambda i: \n",
    "             tabulate(lambda j: a[i:i+j+1],\n",
    "                      len(a)-i),\n",
    "         len(a))\n",
    ")\n",
    "\n",
    "```\n",
    "\n",
    "<br>\n",
    "The brute-force approach takes $O(n^3)$ work and $O(\\log n)$ span."
   ]
  },
  {
   "cell_type": "markdown",
   "metadata": {
    "slideshow": {
     "slide_type": "slide"
    }
   },
   "source": [
    "### How about iterative, sequential version?\n",
    "\n",
    "```python\n",
    "\n",
    "a = [1, -2, 0, 3, -1, 0, 2, -3]\n",
    "\n",
    "```"
   ]
  },
  {
   "cell_type": "code",
   "execution_count": 1,
   "metadata": {
    "slideshow": {
     "slide_type": "fragment"
    }
   },
   "outputs": [
    {
     "name": "stdout",
     "output_type": "stream",
     "text": [
      "[1, -2, 0, 3, -1, 0, 2, -3]\n",
      "4\n"
     ]
    }
   ],
   "source": [
    "## Kadane’s Algorithm - O(n) Solution\n",
    "\n",
    "a = [1, -2, 0, 3, -1, 0, 2, -3]\n",
    "\n",
    "print(a)\n",
    "\n",
    "def mcss_iterate(a):\n",
    "    # init\n",
    "    max_cur = 0\n",
    "    max_new = 0\n",
    "    # iter\n",
    "    for i in range(len(a)):\n",
    "        max_new = max(max_new + a[i], 0)\n",
    "        max_cur = max(max_cur, max_new)\n",
    "    return max_cur\n",
    "\n",
    "\n",
    "print(mcss_iterate(a))"
   ]
  },
  {
   "cell_type": "markdown",
   "metadata": {
    "slideshow": {
     "slide_type": "slide"
    }
   },
   "source": [
    "### Can we do better using divide-and-conquer?"
   ]
  },
  {
   "cell_type": "markdown",
   "metadata": {
    "slideshow": {
     "slide_type": "fragment"
    }
   },
   "source": [
    "As usual let's start by dividing the input into two equal parts and recursively finding the solution. If the MCSS is within either part entirely, then in the combine step we just need to return the subsequence with larger maximum. \n",
    "\n",
    "But what if the MCSS spans the two halves?\n",
    "\n",
    "<img width=70% src=\"figures\\mcss_combine.jpg\"/>\n",
    "\n",
    "\n",
    "\n",
    "<!-- ![mcss_combine.jpg](mcss_combine.jpg)\n",
    " -->\n",
    "Example: $a = \\langle 1, -2, 0, 3, -1, 0, 2, -3 \\rangle$\n",
    "\n",
    "- Split into left = $\\langle 1, -2, 0, 3 \\rangle$, right = $\\langle -1, 0, 2, -3 \\rangle$\n",
    "\n",
    "- Left MCSS is $\\langle 0, 3 \\rangle$ (or just $\\langle 3 \\rangle$) $= 3$\n",
    "\n",
    "- Right MCSS is $\\langle 0, 2 \\rangle$ $= 2$ \n",
    "\n",
    "- But, the best MCSS crossing the cut is $\\langle 0, 3, -1, 0, 2 \\rangle$ $=4$\n",
    "\n",
    "<br><br>\n",
    "\n",
    "> The maximum sum spanning the cut is the sum of the largest suffix on the left plus the largest prefix on the right.\n",
    "\n",
    "<br><br>\n",
    "\n",
    "Suppose we could identify an MCSS ending at position $\\lfloor n/2 \\rfloor$ and an MCSS beginning at position $\\lfloor n/2 \\rfloor$. Then we could add values of these to obtain a candidate MCSS for the whole sequence. Then the best of the three candidate solutions is an MCSS for the entire sequence.\n",
    "\n",
    "- **MCSSS**$(i)$: maximum contiguous sum **starting** at position $i$\n",
    "- **MCSSE**$(i)$: maximum contiguous sum **ending** at position $i$"
   ]
  },
  {
   "cell_type": "markdown",
   "metadata": {
    "slideshow": {
     "slide_type": "slide"
    }
   },
   "source": [
    "Suppose MCSSE and MCSSS can be solved in $O(n)$ work and $O(\\log n)$ span, and $\\mathit{bestAcross}~(b, c)$ constructs an MCSS crossing the split using these solutions. Then we could give this divide-and-conquer algorithm.\n",
    "\n",
    "<p><span class=\"math display\">\\[\\begin{array}{l}\n",
    "\\mathit{MCSSDC}~a =  \n",
    "\\\\  \n",
    "~~~~\\texttt{if}~ |a| = 0~\\texttt{then}  \n",
    "\\\\  \n",
    "~~~~~~~~{-\\infty}{}  \n",
    "\\\\  \n",
    "~~~~\\texttt{else if}~|a| = 1 ~\\texttt{then}  \n",
    "\\\\   \n",
    "~~~~~~~~a[0]  \n",
    "\\\\  \n",
    "~~~~\\texttt{else}  \n",
    "\\\\   \n",
    "~~~~~~~~\\texttt{let}  \n",
    "\\\\   \n",
    "~~~~~~~~~~~~(b, c)  = \\mathit{splitMid}~a  \n",
    "\\\\   \n",
    "~~~~~~~~~~~~(m_b, m_c) = \\left( \\mathit{MCSSDC}~b \\ ||\\ \\mathit{MCSSDC}~c \\right)  \n",
    "\\\\   \n",
    "~~~~~~~~~~~~m_{bc} = \\mathit{bestAcross}~(b, c)  \n",
    "\\\\   \n",
    "~~~~~~~~\\texttt{in}  \n",
    "\\\\   \n",
    "~~~~~~~~~~~~\\max\\{m_b, m_c, m_{bc}\\}  \n",
    "\\\\   \n",
    "~~~~~~~~\\texttt{end}  \n",
    "\\end{array}\\]</span></p>\n"
   ]
  },
  {
   "cell_type": "markdown",
   "metadata": {
    "slideshow": {
     "slide_type": "slide"
    }
   },
   "source": [
    "\n",
    "**Correctness**:\n",
    "\n",
    "We can proceed by induction as usual. The base case produces the correct results. For the induction step, we make the hypothesis that the recursively computed MCSS's for $b$ and $c$ are correct. With a correct implementation of $\\mathit{bestAcross}$, we can conclude $\\max\\{m_b, m_c, m_{bc}\\}$ is an MCSS.\n",
    "\n",
    "**Work/Span**:\n",
    "\n",
    "Using our assumption about $\\mathit{bestAcross}$ we have that:\n",
    "\n",
    "$$ W(n) = 2W(n/2) + O(n)$$\n",
    "\n",
    "and\n",
    "\n",
    "$$ S(n) = S(n/2) + O(\\log n)$$\n",
    "\n",
    "These yield $O(n\\log n)$ work and $O(\\log^2 n)$ span. What is a lower bound for the work? (It turns out we can [match this lower bound](https://www.diderot.one/courses/43/books/185/part/332/chapter/2684#segment-192144).)\n",
    "\n"
   ]
  },
  {
   "cell_type": "markdown",
   "metadata": {
    "slideshow": {
     "slide_type": "slide"
    }
   },
   "source": [
    "But how do we obtain an MCSS starting at a specified position (MCSSS) or ending at a specified position (MCSSE)?\n",
    "\n",
    "Because one end of the contiguous subsequence is fixed, it turns out that we can use `reduce`,  `scan` and `scanI` (an inclusive version of scan) to design algorithms for [MCSSS](https://www.diderot.one/courses/43/books/185/part/332/chapter/2684#atom-176120) and [MCSSE](https://www.diderot.one/courses/43/books/185/part/332/chapter/2684#atom-176121) using $O(n)$ work and $O(\\log n)$ span for our application in which the start and end position is the middle of the input list. \n",
    "\n"
   ]
  },
  {
   "cell_type": "markdown",
   "metadata": {
    "slideshow": {
     "slide_type": "fragment"
    }
   },
   "source": [
    "\n",
    "**MCSS starting at position $i$:**\n",
    "\n",
    "\n",
    "The intuition for this approach is just that if we lock position $i$ for the subsequence, then computing a prefix sum and then subsequent maximum suffices.\n",
    "\n",
    "\n",
    "<img width=70% src=\"figures\\mcsss_fig.jpg\"/>\n",
    "\n",
    "<!-- ![mcsss_fig.jpg](mcsss_fig.jpg) -->\n"
   ]
  },
  {
   "cell_type": "markdown",
   "metadata": {
    "slideshow": {
     "slide_type": "fragment"
    }
   },
   "source": [
    "### Sparc Code\n",
    "\n",
    "<p><span class=\"math display\">\\begin{array}{l}  \n",
    "\\mathit{MCSSSOpt}~a~i =  \n",
    "\\\\   \n",
    "~~~~\\texttt{let}   \n",
    "\\\\   \n",
    "~~~~~~~~b = \\mathit{scanI}~\\text{'}\\,{\\texttt{+}}\\,\\text{'}~0~a~[i \\cdots (|a|-1)]  \n",
    "\\\\   \n",
    "~~~~\\texttt{in}  \n",
    "\\\\   \n",
    "~~~~~~~~\\mathit{reduce}~\\mathit{max}~{-\\infty}{}~b  \n",
    "\\\\   \n",
    "~~~~\\texttt{end}  \n",
    "\\end{array}</span></p>\n",
    "\n",
    "\n",
    "\n",
    "### Python Code\n",
    "\n",
    "left = $\\langle 1, -2, 0, 3 \\rangle$, right = $\\langle -1, 0, 2, -3 \\rangle$\n",
    "\n",
    "```python\n",
    ">>> scan(add, 0, [-1,0,2,-3])\n",
    "([-1, -1, 1, -2], -2)\n",
    "```\n",
    "Max of $1$ happens when using prefix $[-1, 0, 2]$"
   ]
  },
  {
   "cell_type": "markdown",
   "metadata": {
    "slideshow": {
     "slide_type": "slide"
    }
   },
   "source": [
    "Solving MCSSE is similar, except \"backwards\":\n",
    "\n",
    "**MCSS ending at position $i$:**\n",
    "\n",
    "\n",
    "Here, $v$ is the sum of $a[0\\cdots j]$. The key observation here is that for a location $i$, if we subtract prefix sum up to position $i$ from $v$ then we have the subsequence sum for $a[i\\cdots j]$. The first `scan` computes these prefixes and the `reduce` identifies which difference is maximum. \n",
    "\n",
    "\n",
    "<img width=70% src=\"figures\\mcsse_fig.jpg\"/>\n",
    "\n",
    "\n"
   ]
  },
  {
   "cell_type": "markdown",
   "metadata": {
    "slideshow": {
     "slide_type": "fragment"
    }
   },
   "source": [
    "\n",
    "### Sparc Code\n",
    "\n",
    "<p><span class=\"math display\">\\[\\begin{array}{l}  \n",
    "\\mathit{MCSSEOpt}~a~j=  \n",
    "\\\\  \n",
    "~~~~\\texttt{let}  \n",
    "\\\\  \n",
    "~~~~~~~~(b,v) = \\mathit{scan}~\\text{'}\\,{\\texttt{+}}\\,\\text{'}~0~a[0 \\cdots j]  \n",
    "\\\\  \n",
    "~~~~~~~~w= \\mathit{reduce}~\\mathit{min}~\\infty~b  \n",
    "\\\\  \n",
    "~~~~\\texttt{in}  \n",
    "\\\\  \n",
    "~~~~~~~~v - w   \n",
    "\\\\  \n",
    "~~~~\\texttt{end}  \n",
    "\\end{array}\\]</span></p>\n",
    "\n",
    "<!-- ![mcsse_fig.jpg](mcsse_fig.jpg) -->\n",
    "\n",
    "### Python Code\n",
    "\n",
    "```python\n",
    ">>> b, v = scan(add, 0, [1,-2,0,3])\n",
    ">>> print('b=', b, 'v=', v)\n",
    "b= [1, -1, -1, 2] v= 2\n",
    "\n",
    ">>> w = reduce(min, -math.inf, b)\n",
    ">>> print('w=', w)\n",
    "w= -1\n",
    "\n",
    ">>> print('v-w=', v-w)\n",
    "v-w= 3\n",
    "```\n",
    "\n",
    "Max of $3$ happens for subsequence $[0,3]$"
   ]
  },
  {
   "cell_type": "markdown",
   "metadata": {
    "slideshow": {
     "slide_type": "slide"
    }
   },
   "source": [
    "## Any ideas to improve the work? "
   ]
  },
  {
   "cell_type": "markdown",
   "metadata": {
    "slideshow": {
     "slide_type": "fragment"
    }
   },
   "source": [
    "\n",
    "<img width=70% src=\"figures\\mcssps.jpeg\"/>\n",
    "\n",
    "\n",
    "\n",
    "<!-- ![mcssps.jpeg](mcssps.jpeg) -->\n",
    "\n",
    "\n"
   ]
  },
  {
   "cell_type": "markdown",
   "metadata": {
    "slideshow": {
     "slide_type": "fragment"
    }
   },
   "source": [
    "We need to return a total of four values:\n",
    "\n",
    "- the max subsequence sum, $m$\n",
    "\n",
    "- the max prefix sum, $p$\n",
    "\n",
    "- the max suffix sum, $s$ and\n",
    "\n",
    "- the overall sum $t$. \n",
    "> [<span style=\"color:red\">**Question**</span>: Why do we need this overall sum?]\n",
    "\n"
   ]
  },
  {
   "cell_type": "markdown",
   "metadata": {
    "slideshow": {
     "slide_type": "fragment"
    }
   },
   "source": [
    "Having this information from the subproblems is enough to produce a similar answer tuple for all levels up, in constant work and span per level. Thus what we have discovered is that to solve the strengthened problem efficiently we have to strengthen the problem once again. \n",
    "\n",
    "Thus if the recursive calls return ($𝑚_1,𝑝_1,𝑠_1,𝑡_1$)\n",
    " and ($𝑚_2,𝑝_2,𝑠_2,𝑡_2$),\n",
    " \n",
    "then we combine the recursive calls and obtain\n",
    "\n",
    "> (max($𝑠_1+𝑝_2$,$𝑚_1$,$𝑚_2$), max($𝑝_1,𝑡_1+𝑝_2$),max($𝑠_1+𝑡_2,𝑠_2$),$𝑡_1+𝑡_2$)."
   ]
  },
  {
   "cell_type": "markdown",
   "metadata": {
    "slideshow": {
     "slide_type": "fragment"
    }
   },
   "source": [
    "\n",
    "<img width=70% src=\"figures\\mcsssp_sol.jpeg\"/>\n"
   ]
  }
 ],
 "metadata": {
  "celltoolbar": "Slideshow",
  "kernelspec": {
   "display_name": "Python 3 (ipykernel)",
   "language": "python",
   "name": "python3"
  },
  "language_info": {
   "codemirror_mode": {
    "name": "ipython",
    "version": 3
   },
   "file_extension": ".py",
   "mimetype": "text/x-python",
   "name": "python",
   "nbconvert_exporter": "python",
   "pygments_lexer": "ipython3",
   "version": "3.9.6"
  },
  "rise": {
   "autolaunch": true,
   "controls": false,
   "enable_chalkboard": true,
   "scroll": true,
   "theme": "simple",
   "transition": "fade"
  },
  "toc": {
   "base_numbering": 1,
   "nav_menu": {},
   "number_sections": true,
   "sideBar": true,
   "skip_h1_title": true,
   "title_cell": "Table of Contents",
   "title_sidebar": "Contents",
   "toc_cell": true,
   "toc_position": {},
   "toc_section_display": true,
   "toc_window_display": false
  }
 },
 "nbformat": 4,
 "nbformat_minor": 4
}
