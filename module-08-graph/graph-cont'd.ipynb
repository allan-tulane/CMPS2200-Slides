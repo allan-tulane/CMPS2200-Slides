{
 "cells": [
  {
   "cell_type": "code",
   "execution_count": 10,
   "metadata": {
    "code_folding": [],
    "slideshow": {
     "slide_type": "skip"
    }
   },
   "outputs": [
    {
     "data": {
      "text/html": [
       "<style>.prompt{width: 0px; min-width: 0px; visibility: collapse}</style>"
      ],
      "text/plain": [
       "<IPython.core.display.HTML object>"
      ]
     },
     "metadata": {},
     "output_type": "display_data"
    },
    {
     "data": {
      "text/html": [
       "<style>\n",
       "div#notebook {\n",
       " font-family: \"Exo_2\", sans-serif;\n",
       "}\n",
       "\n",
       ".rendered_html h1,\n",
       ".text_cell_render h1 {\n",
       " color: #126dce;\n",
       " font-size: 220%;\n",
       " text-align: center;\n",
       " font-weight: lighter;\n",
       "}\n",
       ".rendered_html h2,\n",
       ".text_cell_render h2 {\n",
       " text-align: center;\n",
       " font-size: 170%;\n",
       " color: #126dce;\n",
       " font-style: normal;\n",
       " font-weight: lighter;\n",
       "}\n",
       ".rendered_html h3,\n",
       ".text_cell_render h3 {\n",
       " font-size: 150%;\n",
       " color: #126dce;\n",
       " font-weight: lighter;\n",
       " text-decoration: italic;\n",
       " font-style: normal;\n",
       "}\n",
       ".rendered_html h4,\n",
       ".text_cell_render h4 {\n",
       " font-size: 120%;\n",
       " color: #126dce;\n",
       " font-weight: underline;\n",
       " font-style: normal;\n",
       "}\n",
       ".rendered_html h5,\n",
       ".text_cell_render h5 {\n",
       " font-size: 100%;\n",
       " color: #2f2f2f;\n",
       " font-weight: lighter;\n",
       " text-decoration: underline;\n",
       "}\n",
       "</style>\n"
      ],
      "text/plain": [
       "<IPython.core.display.HTML object>"
      ]
     },
     "metadata": {},
     "output_type": "display_data"
    }
   ],
   "source": [
    "# setup\n",
    "from IPython.core.display import display,HTML\n",
    "display(HTML('<style>.prompt{width: 0px; min-width: 0px; visibility: collapse}</style>'))\n",
    "display(HTML(open('../rise.css').read()))\n",
    "\n",
    "# imports\n",
    "import numpy as np\n",
    "import matplotlib.pyplot as plt\n",
    "import seaborn as sns\n",
    "%matplotlib inline\n",
    "sns.set(style=\"whitegrid\", font_scale=1.5, rc={'figure.figsize':(12, 6)})\n"
   ]
  },
  {
   "cell_type": "markdown",
   "metadata": {
    "slideshow": {
     "slide_type": "slide"
    }
   },
   "source": [
    "# CMPS 2200\n",
    "# Introduction to Algorithms\n",
    "\n",
    "## Review and Discussion\n",
    "\n"
   ]
  },
  {
   "cell_type": "markdown",
   "metadata": {
    "slideshow": {
     "slide_type": "slide"
    }
   },
   "source": [
    "## Annoucement\n",
    "\n",
    "### Teaching Demo: 11/13 [Shortest Path over Positive Weighted Graph]\n",
    "\n",
    "### Final Exam [Two parts]\n",
    "> Part I: In-Class [Dec 13: 12:00 -14:00]<br>\n",
    "> Part II: Take-Home [Dec 11 - Dec 14].\n",
    "\n"
   ]
  },
  {
   "cell_type": "markdown",
   "metadata": {
    "slideshow": {
     "slide_type": "slide"
    }
   },
   "source": [
    "\n",
    "<img src= 'figures/tree-dfs-vs-bfs.gif' width=70%/>\n",
    "\n",
    "\n",
    "When we use **Map of Neighbors** to repreent Graph:\n",
    "\n",
    "- We add a node to the visited set exactly once ($|V|$).\n",
    "\n",
    "- For each edge, we do one lookup to see if it exists in the visited set ($|E|$).\n",
    "\n",
    "- Thus, the total work of BFS and DFS: $O(|V| + |E|)$.\n",
    "\n",
    "> BFS has some paralell portion, but DFS cannot be paralellized. \n",
    "\n",
    "<span style=\"color:red\">**Question**:</span> What about using Adjacency Matrix?\n",
    "\n",
    "\n",
    "$$\n",
    "\\begin{bmatrix}\n",
    "  & A & B & C & D\\\\\n",
    "A & 0 & 1 & 0 & 0\\\\\n",
    "B & 1 & 0 & 1 & 1\\\\\n",
    "C & 0 & 1 & 0 & 1\\\\\n",
    "D & 0 & 1 & 1 & 0\\\\\n",
    "\\end{bmatrix}\n",
    "$$"
   ]
  },
  {
   "cell_type": "markdown",
   "metadata": {
    "slideshow": {
     "slide_type": "slide"
    }
   },
   "source": [
    "<span style=\"color:red\">**Question**:</span> In the following graphs, assume that if there is ever a\n",
    "choice amongst multiple nodes, both the BFS and DFS algorithms will choose the left-most node first.\n",
    "\n",
    "<img src= 'figures/quiz_1.jpg' width=60%/>\n",
    "\n",
    "\n",
    "\n",
    "Starting from the green node at the top, which algorithm will visit the least number of nodes before visiting the\n",
    "yellow goal node? \n"
   ]
  },
  {
   "cell_type": "code",
   "execution_count": null,
   "metadata": {
    "slideshow": {
     "slide_type": "slide"
    }
   },
   "outputs": [],
   "source": [
    "from collections import deque\n",
    "\n",
    "## Graph Representation\n",
    "\n",
    "graph = {\n",
    "            'A': {'B', 'C'},\n",
    "            'B': {'A', 'D', 'E'},\n",
    "            'C': {'A', 'F', 'G'},\n",
    "            'D': {'B'},\n",
    "            'E': {'B', 'H'},\n",
    "            'F': {'C'},\n",
    "            'G': {'C'},\n",
    "            'H': {'E'}\n",
    "        }\n",
    "\n",
    "\n",
    "def generic_search(graph, source, get_next_node_fn):\n",
    "    def generic_search_helper(visited, frontier):\n",
    "        if len(frontier) == 0:\n",
    "            return visited\n",
    "        else:\n",
    "            ## pick a node\n",
    "            node = get_next_node_fn(frontier)\n",
    "            print('visiting', node)\n",
    "            \n",
    "            ## update visited set\n",
    "            visited.add(node)\n",
    "            \n",
    "            ## update frontier set\n",
    "            frontier.extend(filter(lambda n: n not in visited, graph[node]))\n",
    "            \n",
    "            return generic_search_helper(visited, frontier)\n",
    "        \n",
    "    frontier = deque()\n",
    "    frontier.append(source)\n",
    "    visited = set()\n",
    "    return generic_search_helper(visited, frontier)\n",
    "\n",
    "def bfs_fn(frontier):\n",
    "    return frontier.popleft()\n",
    "\n",
    "def dfs_fn(frontier):\n",
    "    return frontier.pop()\n",
    "\n",
    "\n",
    "\n",
    "print('BFS:')\n",
    "generic_search(graph, 'A', bfs_fn)\n",
    "\n",
    "print(' \\nDFS:')\n",
    "generic_search(graph, 'A', dfs_fn)"
   ]
  },
  {
   "cell_type": "markdown",
   "metadata": {
    "slideshow": {
     "slide_type": "slide"
    }
   },
   "source": [
    "## Priority First Search\n",
    "\n",
    "https://en.wikipedia.org/wiki/Best-first_search\n",
    "\n",
    "We can view the `get_next_node_fn` as a way to pick the **highest priority** node to visit at each iteration.\n",
    "\n",
    "E.g., consider a Web crawler that prioritizes which pages to visit first\n",
    "- more intereseting pages\n",
    "- pages that update more frequently"
   ]
  },
  {
   "cell_type": "markdown",
   "metadata": {
    "slideshow": {
     "slide_type": "skip"
    }
   },
   "source": [
    "https://github.com/allan-tulane/fa-23-recitation-04-allanding/blob/main/recitation-05.md\n",
    "\n",
    "https://github.com/allan-tulane/fa-23-recitation-05-allanding/blob/main/recitation-05.md\n",
    "\n",
    "https://github.com/allan-tulane/cmps2200-recitation-06/blob/main/recitation-06.md\n",
    "\n",
    "https://github.com/allan-tulane/cmps2200-assignment-03/blob/main/assignment-03.md\n",
    "\n"
   ]
  }
 ],
 "metadata": {
  "celltoolbar": "Slideshow",
  "kernelspec": {
   "display_name": "Python 3 (ipykernel)",
   "language": "python",
   "name": "python3"
  },
  "language_info": {
   "codemirror_mode": {
    "name": "ipython",
    "version": 3
   },
   "file_extension": ".py",
   "mimetype": "text/x-python",
   "name": "python",
   "nbconvert_exporter": "python",
   "pygments_lexer": "ipython3",
   "version": "3.9.6"
  },
  "rise": {
   "autolaunch": true,
   "controls": false,
   "enable_chalkboard": true,
   "scroll": true,
   "theme": "simple",
   "transition": "fade"
  },
  "toc": {
   "base_numbering": 1,
   "nav_menu": {},
   "number_sections": true,
   "sideBar": true,
   "skip_h1_title": true,
   "title_cell": "Table of Contents",
   "title_sidebar": "Contents",
   "toc_cell": true,
   "toc_position": {},
   "toc_section_display": true,
   "toc_window_display": false
  }
 },
 "nbformat": 4,
 "nbformat_minor": 4
}
