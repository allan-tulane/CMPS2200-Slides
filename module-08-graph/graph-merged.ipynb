{
 "cells": [
  {
   "cell_type": "code",
   "execution_count": 10,
   "metadata": {
    "code_folding": [],
    "slideshow": {
     "slide_type": "skip"
    }
   },
   "outputs": [
    {
     "data": {
      "text/html": [
       "<style>.prompt{width: 0px; min-width: 0px; visibility: collapse}</style>"
      ],
      "text/plain": [
       "<IPython.core.display.HTML object>"
      ]
     },
     "metadata": {},
     "output_type": "display_data"
    },
    {
     "data": {
      "text/html": [
       "<style>\n",
       "div#notebook {\n",
       " font-family: \"Exo_2\", sans-serif;\n",
       "}\n",
       "\n",
       ".rendered_html h1,\n",
       ".text_cell_render h1 {\n",
       " color: #126dce;\n",
       " font-size: 220%;\n",
       " text-align: center;\n",
       " font-weight: lighter;\n",
       "}\n",
       ".rendered_html h2,\n",
       ".text_cell_render h2 {\n",
       " text-align: center;\n",
       " font-size: 170%;\n",
       " color: #126dce;\n",
       " font-style: normal;\n",
       " font-weight: lighter;\n",
       "}\n",
       ".rendered_html h3,\n",
       ".text_cell_render h3 {\n",
       " font-size: 150%;\n",
       " color: #126dce;\n",
       " font-weight: lighter;\n",
       " text-decoration: italic;\n",
       " font-style: normal;\n",
       "}\n",
       ".rendered_html h4,\n",
       ".text_cell_render h4 {\n",
       " font-size: 120%;\n",
       " color: #126dce;\n",
       " font-weight: underline;\n",
       " font-style: normal;\n",
       "}\n",
       ".rendered_html h5,\n",
       ".text_cell_render h5 {\n",
       " font-size: 100%;\n",
       " color: #2f2f2f;\n",
       " font-weight: lighter;\n",
       " text-decoration: underline;\n",
       "}\n",
       "</style>\n"
      ],
      "text/plain": [
       "<IPython.core.display.HTML object>"
      ]
     },
     "metadata": {},
     "output_type": "display_data"
    }
   ],
   "source": [
    "# setup\n",
    "from IPython.core.display import display,HTML\n",
    "display(HTML('<style>.prompt{width: 0px; min-width: 0px; visibility: collapse}</style>'))\n",
    "display(HTML(open('../rise.css').read()))\n",
    "\n",
    "# imports\n",
    "import numpy as np\n",
    "import matplotlib.pyplot as plt\n",
    "import seaborn as sns\n",
    "%matplotlib inline\n",
    "sns.set(style=\"whitegrid\", font_scale=1.5, rc={'figure.figsize':(12, 6)})\n"
   ]
  },
  {
   "cell_type": "markdown",
   "metadata": {
    "slideshow": {
     "slide_type": "slide"
    }
   },
   "source": [
    "# CMPS 2200\n",
    "# Introduction to Algorithms\n",
    "\n",
    "## Review and Graph Search\n"
   ]
  },
  {
   "cell_type": "markdown",
   "metadata": {
    "slideshow": {
     "slide_type": "slide"
    }
   },
   "source": [
    "Today's Agenda\n",
    "\n",
    "- Review of Graph and Graph Search\n",
    "- BFS Analsysis\n",
    "- DFS "
   ]
  },
  {
   "cell_type": "markdown",
   "metadata": {
    "slideshow": {
     "slide_type": "slide"
    }
   },
   "source": [
    "## Graph Review\n",
    "\n",
    "#### Graph $G$: Node $V$, Edge $E$, Neighbor $\\mathcal{N}(e)$\n",
    "\n",
    "<center>\n",
    "<img src=\"figures\\graph_ex.png\" width=70%/>\n",
    "</center>\n",
    "\n",
    "\n",
    "####  Graph Representation \n",
    "  - Adjacency matrix\n",
    "  - Edge Sets\n",
    "  - Map of Neighbors\n",
    "```python\n",
    "graph = {\n",
    "            'A': {'B', 'C'},\n",
    "            'B': {'A', 'D'},\n",
    "            'C': {'A', 'F'},\n",
    "            'D': {'B', 'E'},\n",
    "            'E': {'D'},\n",
    "            'F': {'C'}\n",
    "        }\n",
    "```\n",
    "\n",
    "### Graph Search\n",
    "\n",
    "- Is node $t$ reachable from node $s$ [Lab 8, Task 1]\n",
    "- Is the graph *connected*? Components? [Lab 8, Task 2 and 3]\n",
    "- Shortest path from $s$ to $t$ [BFS for Unweighted Graph]\n",
    "\n",
    "<br>\n",
    "\n",
    "##### Three Sets Considered\n",
    "- **visited**: the set of vertices already visited\n",
    "- **frontier**: the unvisited neighbors of the visited vertices\n",
    "- **unseen**: everything else\n",
    "\n",
    "\n",
    "<center>\n",
    "<img src=\"figures\\graph_search_ex.png\" width=50%/>\n",
    "</center>\n",
    "\n",
    "##### Three Algorithms\n",
    "- Breadth-first Search\n",
    "- Depth-first Search\n",
    "- Priority-first Search [Weighted Graph]"
   ]
  },
  {
   "cell_type": "code",
   "execution_count": 2,
   "metadata": {
    "slideshow": {
     "slide_type": "slide"
    }
   },
   "outputs": [
    {
     "name": "stdout",
     "output_type": "stream",
     "text": [
      "visiting {'A'}\n",
      "visiting {'C', 'B'}\n",
      "visiting {'E', 'F', 'D', 'G'}\n",
      "visiting {'H'}\n"
     ]
    },
    {
     "data": {
      "text/plain": [
       "{'A', 'B', 'C', 'D', 'E', 'F', 'G', 'H'}"
      ]
     },
     "execution_count": 2,
     "metadata": {},
     "output_type": "execute_result"
    }
   ],
   "source": [
    "from functools import reduce\n",
    "\n",
    "\n",
    "# same as example graph above\n",
    "graph = {\n",
    "            'A': {'B', 'C'},\n",
    "            'B': {'A', 'D', 'E'},\n",
    "            'C': {'A', 'F', 'G'},\n",
    "            'D': {'B'},\n",
    "            'E': {'B', 'H'},\n",
    "            'F': {'C'},\n",
    "            'G': {'C'},\n",
    "            'H': {'E'}\n",
    "        }\n",
    "\n",
    "\n",
    "def bfs_recursive(graph, source):\n",
    "    \n",
    "    def bfs_helper(visited, frontier):\n",
    "        if len(frontier) == 0:\n",
    "            return visited\n",
    "        else:\n",
    "            # update visited\n",
    "            # X_{i+1} = X_i OR F_i\n",
    "            visited_new = visited | frontier\n",
    "            print('visiting', (visited_new - visited))\n",
    "            visited = visited_new\n",
    "\n",
    "            # update frontier\n",
    "            # F_{i+1} = N(F_i) \\ X_{i+1}\n",
    "            frontier_neighbors = reduce(set.union, [graph[f] for f in frontier])\n",
    "            frontier = frontier_neighbors - visited\n",
    "            return bfs_helper(visited, frontier)\n",
    "\n",
    "    ## Start Here\n",
    "    ## Initialize visited and frontier\n",
    "    visited = set()\n",
    "    frontier = set([source])        \n",
    "    return bfs_helper(visited, frontier)\n",
    "    \n",
    "\n",
    "bfs_recursive(graph, 'A')"
   ]
  },
  {
   "cell_type": "markdown",
   "metadata": {
    "slideshow": {
     "slide_type": "slide"
    }
   },
   "source": [
    "## Work of BFS\n",
    "\n",
    "- We will simply add up costs of each level.\n",
    "- Work done at each level varies depending on how many nodes it contains.\n",
    "\n",
    "What we do know:\n",
    "\n",
    "- Every reachable node appears in the frontier exactly **once**\n",
    "- Likewise, each edge is processed exactly **once**\n",
    "\n",
    "How much work is done for each node/edge?\n",
    "\n",
    "- `visited_new = visited | frontier`\n",
    "  - each node is added to the visited set at most once\n",
    "- `frontier_neighbors = reduce(set.union, [graph[f] for f in frontier])`\n",
    "  - each edge is added to `frontier_neighbors` at most twice (a->b, b->a)\n",
    "- `frontier = frontier_neighbors - visited`\n",
    "  - each node is removed from the frontier at most once.\n",
    "\n",
    "\n",
    "- Therefore work is $O(|V| + |E|)$\n",
    "\n"
   ]
  },
  {
   "cell_type": "markdown",
   "metadata": {
    "slideshow": {
     "slide_type": "slide"
    }
   },
   "source": [
    "## Parallelism in BFS\n",
    "\n",
    "There is some limited parallelism possible in BFS. While we must visit each level sequentially, at each level we can parallelize the set operations:\n",
    "\n",
    "`visited_new = visited | frontier`\n",
    "\n",
    "`frontier_neighbors = reduce(set.union, [graph[f] for f in frontier])`\n",
    "\n",
    "`frontier = frontier_neighbors - visited`\n",
    "\n",
    "We can represent a set as a binary search tree, which supports $O(\\lg n)$ span operations for union, intersection, and difference operations. (See [Vol II Ch 17](https://www.diderot.one/courses/43/books/185/part/334/chapter/2689) for more details).\n",
    "\n",
    "So, the first and third lines have $O(\\lg n)$ span, but the second has $O(\\lg^2 n)$.\n",
    "  - reduce has $O(\\lg n)$ span, but the union call at each step has $O(\\lg n)$ span\n",
    "  \n",
    "If the distance from the source to the most distant node is $d$, then the span is $O(d \\lg^2 n)$\n",
    "\n",
    "Question: When will BFS stop searching?\n"
   ]
  },
  {
   "cell_type": "markdown",
   "metadata": {
    "slideshow": {
     "slide_type": "slide"
    }
   },
   "source": [
    "### Serial BFS\n",
    "\n",
    "**Alternatively**: represent frontier with a queue, and remove one node at a time.\n",
    "\n",
    "\"first in first out\"\n",
    "\n",
    "- add newly discovered nodes to the end of the list\n",
    "- at each iteration, remove the first node in the list\n"
   ]
  },
  {
   "cell_type": "code",
   "execution_count": 2,
   "metadata": {
    "slideshow": {
     "slide_type": "fragment"
    }
   },
   "outputs": [
    {
     "name": "stdout",
     "output_type": "stream",
     "text": [
      "deque([1, 2, 3])\n",
      "popleft returns: 1\n",
      "deque([2, 3])\n",
      "pop returns: 3\n",
      "deque([2])\n"
     ]
    }
   ],
   "source": [
    "# deque is a double ended queue\n",
    "# a doubly linked list \n",
    "from collections import deque\n",
    "q = deque()\n",
    "q.append(1)\n",
    "q.append(2)\n",
    "q.append(3)\n",
    "print(q)\n",
    "print('popleft returns: %d' %  q.popleft())\n",
    "print(q)\n",
    "print('pop returns: %d' %  q.pop())\n",
    "print(q)"
   ]
  },
  {
   "cell_type": "code",
   "execution_count": 4,
   "metadata": {
    "slideshow": {
     "slide_type": "fragment"
    }
   },
   "outputs": [
    {
     "name": "stdout",
     "output_type": "stream",
     "text": [
      "visiting A\n",
      "visiting B\n",
      "visiting C\n",
      "visiting D\n",
      "visiting E\n",
      "visiting F\n",
      "visiting G\n",
      "visiting H\n"
     ]
    },
    {
     "data": {
      "text/plain": [
       "{'A', 'B', 'C', 'D', 'E', 'F', 'G', 'H'}"
      ]
     },
     "execution_count": 4,
     "metadata": {},
     "output_type": "execute_result"
    }
   ],
   "source": [
    "def bfs_serial(graph, source):\n",
    "    def bfs_serial_helper(visited, frontier):\n",
    "        if len(frontier) == 0:\n",
    "            return visited\n",
    "        else:\n",
    "            node = frontier.popleft()\n",
    "            print('visiting', node)\n",
    "            visited.add(node)\n",
    "    #         for n in graph[node]:\n",
    "    #             if n not in visited:\n",
    "    #                 frontier.append(n)\n",
    "            # in parallel\n",
    "            frontier.extend(filter(lambda n: n not in visited, graph[node]))\n",
    "            return bfs_serial_helper(visited, frontier)\n",
    "\n",
    "    frontier = deque()\n",
    "    frontier.append(source)\n",
    "    visited = set()\n",
    "    return bfs_serial_helper(visited, frontier)\n",
    "\n",
    "bfs_serial(graph, 'A')"
   ]
  },
  {
   "cell_type": "markdown",
   "metadata": {
    "slideshow": {
     "slide_type": "fragment"
    }
   },
   "source": [
    "### Serial BFS Work/Span\n",
    "\n",
    "Work and span are $O(|V| + |E|)$, since each vertex and edge are visited once.\n"
   ]
  },
  {
   "cell_type": "markdown",
   "metadata": {
    "slideshow": {
     "slide_type": "slide"
    }
   },
   "source": [
    "### How can we keep track of the distance each node is from the source?\n",
    "\n",
    "- Shortest Path for Unweighted Graph\n"
   ]
  },
  {
   "cell_type": "code",
   "execution_count": 2,
   "metadata": {
    "slideshow": {
     "slide_type": "fragment"
    }
   },
   "outputs": [
    {
     "name": "stdout",
     "output_type": "stream",
     "text": [
      "visiting {'A'}\n",
      "visiting {'C', 'B'}\n",
      "visiting {'G', 'F', 'D', 'E'}\n",
      "visiting {'H'}\n"
     ]
    },
    {
     "data": {
      "text/plain": [
       "{'A': 0, 'C': 1, 'B': 1, 'G': 2, 'F': 2, 'D': 2, 'E': 2, 'H': 3}"
      ]
     },
     "execution_count": 2,
     "metadata": {},
     "output_type": "execute_result"
    }
   ],
   "source": [
    "def bfs_recursive_depths(graph, source):\n",
    "\n",
    "    def bfs_helper_depths(visited, frontier, cur_depth, depths):\n",
    "        if len(frontier) == 0:\n",
    "            return depths\n",
    "        else:\n",
    "            # update visited\n",
    "            # X_{i+1} = X_i OR F_i\n",
    "            visited_new = visited | frontier\n",
    "            print('visiting', (visited_new - visited))\n",
    "            # record the depths of visited nodes\n",
    "            for v in visited_new - visited:\n",
    "                depths[v] = cur_depth\n",
    "            visited = visited_new        \n",
    "            # update frontier\n",
    "            # F_{i+1} = N(F_i) \\ X_{i+1}\n",
    "            frontier_neighbors = reduce(set.union, [graph[f] for f in frontier])\n",
    "            frontier = frontier_neighbors - visited\n",
    "\n",
    "            return bfs_helper_depths(visited, frontier, cur_depth+1, depths)    \n",
    "\n",
    "    depths = dict()\n",
    "    visited = set()\n",
    "    frontier = set([source])\n",
    "    return bfs_helper_depths(visited, frontier, 0, depths)\n",
    "    \n",
    "\n",
    "        \n",
    "bfs_recursive_depths(graph, 'A')"
   ]
  },
  {
   "cell_type": "markdown",
   "metadata": {
    "slideshow": {
     "slide_type": "fragment"
    }
   },
   "source": [
    "<center>\n",
    "<img src=\"figures\\graph_search_ex.png\" width=50%/>\n",
    "</center>\n",
    "\n",
    "While BFS uses a queue, we can implement DFS with a stack\n",
    "\n",
    "**last in first out**\n"
   ]
  },
  {
   "cell_type": "code",
   "execution_count": 2,
   "metadata": {
    "slideshow": {
     "slide_type": "fragment"
    }
   },
   "outputs": [
    {
     "name": "stdout",
     "output_type": "stream",
     "text": [
      "visiting A\n",
      "visiting C\n",
      "visiting F\n",
      "visiting G\n",
      "visiting B\n",
      "visiting E\n",
      "visiting H\n",
      "visiting D\n"
     ]
    },
    {
     "data": {
      "text/plain": [
       "{'A', 'B', 'C', 'D', 'E', 'F', 'G', 'H'}"
      ]
     },
     "execution_count": 2,
     "metadata": {},
     "output_type": "execute_result"
    }
   ],
   "source": [
    "from collections import deque\n",
    "\n",
    "def dfs_stack(graph, source):\n",
    "    def dfs_stack_helper(visited, frontier):\n",
    "        if len(frontier) == 0:\n",
    "            return visited\n",
    "        else:\n",
    "            node = frontier.pop()\n",
    "            print('visiting', node)\n",
    "            visited.add(node)\n",
    "            frontier.extend(filter(lambda n: n not in visited, graph[node]))\n",
    "            return dfs_stack_helper(visited, frontier)\n",
    "        \n",
    "    frontier = deque()\n",
    "    frontier.append(source)\n",
    "    visited = set()\n",
    "    return dfs_stack_helper(visited, frontier)\n",
    "    \n",
    "graph = {\n",
    "            'A': {'B', 'C'},\n",
    "            'B': {'A', 'D', 'E'},\n",
    "            'C': {'A', 'F', 'G'},\n",
    "            'D': {'B'},\n",
    "            'E': {'B', 'H'},\n",
    "            'F': {'C'},\n",
    "            'G': {'C'},\n",
    "            'H': {'E'}\n",
    "        }\n",
    "\n",
    "dfs_stack(graph, 'A')"
   ]
  },
  {
   "cell_type": "markdown",
   "metadata": {
    "slideshow": {
     "slide_type": "fragment"
    }
   },
   "source": [
    "### Compare with `bfs_serial`!\n",
    "\n",
    "`dfs_stack`:\n",
    "\n",
    "- `node = frontier.pop()`\n",
    "\n",
    "\n",
    "`bfs_serial`:\n",
    "\n",
    "- `node = frontier.popleft()`"
   ]
  },
  {
   "cell_type": "markdown",
   "metadata": {
    "slideshow": {
     "slide_type": "slide"
    }
   },
   "source": [
    "## Cost of DFS\n",
    "\n",
    "As in BFS, we add a node to the visited set exactly once ($|V|$).\n",
    "\n",
    "For each edge, we do one lookup to see if it exists in the visited set ($|E|$).\n",
    "\n",
    "Thus, the total work is equivalent to BFS: $O(|V| + |E|)$.\n",
    "\n"
   ]
  },
  {
   "cell_type": "markdown",
   "metadata": {
    "slideshow": {
     "slide_type": "slide"
    }
   },
   "source": [
    "## Parallelism in DFS?\n",
    "<img src=\"figures/dfs_nop.jpg\" width=\"30%\"/>\n",
    "\n",
    "Is there any opportunity for parallelism?\n",
    "\n",
    "One idea is to just run the search for each child in parallel. \n",
    "- E.g., in this example, search the subtree starting at $a$ in parallel with the subtree starting at $b$\n",
    "\n",
    "What potential problems arise?"
   ]
  },
  {
   "cell_type": "markdown",
   "metadata": {
    "slideshow": {
     "slide_type": "fragment"
    }
   },
   "source": [
    "- We may end up visiting $b$ twice (or $c$, or $f$)\n",
    "- This isn't in DFS order! We shouldn't be visiting $b$ before $e$.\n",
    "\n",
    "DFS belongs to a class of problems called **P**-complete: computations that most likely do not admit solutions with **polylogarithmic** span. "
   ]
  }
 ],
 "metadata": {
  "celltoolbar": "Slideshow",
  "kernelspec": {
   "display_name": "Python 3 (ipykernel)",
   "language": "python",
   "name": "python3"
  },
  "language_info": {
   "codemirror_mode": {
    "name": "ipython",
    "version": 3
   },
   "file_extension": ".py",
   "mimetype": "text/x-python",
   "name": "python",
   "nbconvert_exporter": "python",
   "pygments_lexer": "ipython3",
   "version": "3.9.7"
  },
  "rise": {
   "autolaunch": true,
   "controls": false,
   "enable_chalkboard": true,
   "scroll": true,
   "theme": "simple",
   "transition": "fade"
  },
  "toc": {
   "base_numbering": 1,
   "nav_menu": {},
   "number_sections": true,
   "sideBar": true,
   "skip_h1_title": true,
   "title_cell": "Table of Contents",
   "title_sidebar": "Contents",
   "toc_cell": true,
   "toc_position": {},
   "toc_section_display": true,
   "toc_window_display": false
  }
 },
 "nbformat": 4,
 "nbformat_minor": 4
}
