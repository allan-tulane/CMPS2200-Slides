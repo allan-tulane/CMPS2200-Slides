{
 "cells": [
  {
   "cell_type": "code",
   "execution_count": 1,
   "metadata": {
    "code_folding": [],
    "slideshow": {
     "slide_type": "skip"
    }
   },
   "outputs": [
    {
     "data": {
      "text/html": [
       "<style>.prompt{width: 0px; min-width: 0px; visibility: collapse}</style>"
      ],
      "text/plain": [
       "<IPython.core.display.HTML object>"
      ]
     },
     "metadata": {},
     "output_type": "display_data"
    },
    {
     "data": {
      "text/html": [
       "<style>\n",
       "div#notebook {\n",
       " font-family: \"Exo_2\", sans-serif;\n",
       "}\n",
       "\n",
       ".rendered_html h1,\n",
       ".text_cell_render h1 {\n",
       " color: #126dce;\n",
       " font-size: 220%;\n",
       " text-align: center;\n",
       " font-weight: lighter;\n",
       "}\n",
       ".rendered_html h2,\n",
       ".text_cell_render h2 {\n",
       " text-align: center;\n",
       " font-size: 170%;\n",
       " color: #126dce;\n",
       " font-style: normal;\n",
       " font-weight: lighter;\n",
       "}\n",
       ".rendered_html h3,\n",
       ".text_cell_render h3 {\n",
       " font-size: 150%;\n",
       " color: #126dce;\n",
       " font-weight: lighter;\n",
       " text-decoration: italic;\n",
       " font-style: normal;\n",
       "}\n",
       ".rendered_html h4,\n",
       ".text_cell_render h4 {\n",
       " font-size: 120%;\n",
       " color: #126dce;\n",
       " font-weight: underline;\n",
       " font-style: normal;\n",
       "}\n",
       ".rendered_html h5,\n",
       ".text_cell_render h5 {\n",
       " font-size: 100%;\n",
       " color: #2f2f2f;\n",
       " font-weight: lighter;\n",
       " text-decoration: underline;\n",
       "}\n",
       "</style>\n"
      ],
      "text/plain": [
       "<IPython.core.display.HTML object>"
      ]
     },
     "metadata": {},
     "output_type": "display_data"
    }
   ],
   "source": [
    "# setup\n",
    "from IPython.core.display import display,HTML\n",
    "display(HTML('<style>.prompt{width: 0px; min-width: 0px; visibility: collapse}</style>'))\n",
    "display(HTML(open('../rise.css').read()))\n",
    "\n",
    "# imports\n",
    "import numpy as np\n",
    "import matplotlib.pyplot as plt\n",
    "import seaborn as sns\n",
    "%matplotlib inline\n",
    "sns.set(style=\"whitegrid\", font_scale=1.5, rc={'figure.figsize':(12, 6)})\n"
   ]
  },
  {
   "cell_type": "markdown",
   "metadata": {
    "slideshow": {
     "slide_type": "slide"
    }
   },
   "source": [
    "## Bellman-Ford (Cont'd)\n",
    "\n",
    "### Computing $\\delta^{k+1}(u,v)$\n",
    "\n",
    "As usual, we will assume we have recursively computed $\\delta^k(s,v)$. To extend this to compute $\\delta^{k+1}(s,v)$:\n",
    "\n",
    "\n",
    "$$\n",
    "\\begin{align}\n",
    "\\delta^{k+1}(s, v) = \\min&(\\delta^{k}(s, v),\\\\\n",
    "&\\min_{x \\in N^-(v)} (\\delta^{k}(s, x) + w(x,v))\n",
    "\\end{align}\n",
    "$$\n",
    "where $N^-(v)$ are the *in-neighbors* of $v$\n",
    "\n",
    "<br><br>\n",
    "\n",
    "\n",
    "### Illustration Example\n",
    "\n",
    "<center>\n",
    "<img src=\"figures/bellman2.gif\" width=50%/>\n",
    "</center>\n",
    "\n",
    "\n",
    "\n",
    "\n"
   ]
  },
  {
   "cell_type": "code",
   "execution_count": 5,
   "metadata": {
    "slideshow": {
     "slide_type": "slide"
    }
   },
   "outputs": [
    {
     "data": {
      "text/plain": [
       "{'s': 0, 'a': 0, 'b': 1, 'c': -2, 'd': 0, 't': 1}"
      ]
     },
     "execution_count": 5,
     "metadata": {},
     "output_type": "execute_result"
    }
   ],
   "source": [
    "import math\n",
    "\n",
    "\n",
    "# represent in-neighbors for each node, for constant lookup\n",
    "graph = {\n",
    "            's': {},\n",
    "            'a': {('s', 5), ('c', 2)},\n",
    "            'b': {('a', 1), ('c', 4)},\n",
    "            'c': {('s', -2)}, \n",
    "            'd': {('b', -1), ('c', 4)},\n",
    "            't': {('b', 3), ('d', 1)},\n",
    "        }\n",
    "\n",
    "\n",
    "def bellmanford(graph, source):\n",
    "    def bellmanford_helper(distances, k):        \n",
    "        if k == len(graph): # negative cycle\n",
    "            return -math.inf\n",
    "        else:\n",
    "            # compute new distances\n",
    "            new_distances = compute_distances(graph, distances)\n",
    "            \n",
    "            # check if distances have converged\n",
    "            if converged(distances, new_distances):\n",
    "                return distances\n",
    "            else:                \n",
    "                return bellmanford_helper(new_distances, k+1) ## increase level by 1 [BFS]\n",
    "        \n",
    "    # initialize\n",
    "    distances = dict()\n",
    "    for v in graph:\n",
    "        if v == source:\n",
    "            distances[v] = 0\n",
    "        else:\n",
    "            distances[v] = math.inf\n",
    "    return bellmanford_helper(distances, 0) ## start from source\n",
    "\n",
    "def compute_distances(graph, distances):\n",
    "    new_distances = {}\n",
    "    for v, in_neighbors in graph.items(): # this loop can be done in parallel\n",
    "        # compute all possible distances from s->v\n",
    "        v_distances = [distances[v]] \n",
    "        for in_neighbor, weight in in_neighbors:\n",
    "            v_distances.append(distances[in_neighbor] + weight)\n",
    "        new_distances[v] = min(v_distances)\n",
    "    return new_distances\n",
    "\n",
    "def converged(old_distances, new_distances):\n",
    "    for k in old_distances:\n",
    "        if old_distances[k] != new_distances[k]:\n",
    "            return False\n",
    "    return True\n",
    "\n",
    "\n",
    "bellmanford(graph, 's')"
   ]
  },
  {
   "cell_type": "markdown",
   "metadata": {
    "slideshow": {
     "slide_type": "slide"
    }
   },
   "source": [
    "### Cost of Bellman-Ford\n",
    "\n",
    "```python\n",
    "def compute_distances(graph, distances):\n",
    "    new_distances = {}\n",
    "    for v, in_neighbors in graph.items(): # this loop can be done in parallel\n",
    "        v_distances = [distances[v]]\n",
    "        for in_neighbor, weight in in_neighbors:\n",
    "            v_distances.append(distances[in_neighbor] + weight)\n",
    "        new_distances[v] = min(v_distances)\n",
    "    return new_distances\n",
    "```\n",
    "\n",
    "- For each vertex, we loop through all of its in-neighbors.\n",
    "- We then take the minimum over its in-neighbors\n",
    "- Thus, we will visit each edge in the graph once in each iteration of the algorithm ($|E|$)\n",
    "- There are at most $|V|$ iterations of the algorithm, to the **total work** for `compute_distances` is $O(|V| \\cdot |E|)$.\n",
    "\n",
    "Because we can do the outer loop in parallel, we must consider the maximum work of any vertex $v$.\n",
    "\n",
    "In the worst case, $v$ can have $|V|-1$ in-neighbors. The `min` operation will then take $O(\\lg |V|)$ span, assuming we use `reduce` to implement it.\n",
    "\n",
    "Thus, each iteration has $O(\\lg |V|)$ span, and we have at worst $|V|$ iterations, run sequentially, resulting in **total span** of $O(|V| \\lg |V|)$.\n",
    "\n",
    "\n",
    "\n",
    "<br><br>\n",
    "What about the work to check if we have converged?\n",
    "\n",
    "```python\n",
    "def converged(old_distances, new_distances):\n",
    "    for k in old_distances:\n",
    "        if old_distances[k] != new_distances[k]:\n",
    "            return False\n",
    "    return True\n",
    "```\n",
    "\n",
    "Actually, if we were more clever, we could include this check inside the `compute_distances` function, just before assigning the `new_distances` value.\n",
    "\n",
    "```python\n",
    "...\n",
    "min_v = min(v_distances)\n",
    "if min_v != new_distances[v]:\n",
    "    converged=False\n",
    "new_distances[v] = min(v_distances)\n",
    "...\n",
    "```\n",
    "so, we don't incur any additional cost for this check.\n",
    "\n",
    "\n",
    "<br>\n",
    "\n",
    "Thus, the final work/span of Bellman-Ford is:\n",
    "\n",
    "**Work:** $O(|V| \\cdot |E|)$\n",
    "\n",
    "**Span:** $O(|V| \\lg |V|)$\n",
    "\n",
    "\n",
    "<br>\n",
    "\n",
    "compare with:\n",
    "\n",
    "- Dijkstra: Work$=O(|E|\\log |E|)$, Span$=O(|E|\\log |E|)$ [`min-heap for insertion and deletion`]\n",
    "- BFS: Work$=O(|E|+ |V|)$, Span$=O(|E| + |V|)$\n",
    "\n",
    "\n",
    "So, we can see we pay significant costs going from unweighted $\\rightarrow$ weighted-positive $\\rightarrow$ weighted-negative graphs.\n",
    "\n",
    "- Although, consider the difference in span between Dijkstra and Bellman-Ford"
   ]
  }
 ],
 "metadata": {
  "celltoolbar": "Slideshow",
  "kernelspec": {
   "display_name": "Python 3",
   "language": "python",
   "name": "python3"
  },
  "language_info": {
   "codemirror_mode": {
    "name": "ipython",
    "version": 3
   },
   "file_extension": ".py",
   "mimetype": "text/x-python",
   "name": "python",
   "nbconvert_exporter": "python",
   "pygments_lexer": "ipython3",
   "version": "3.8.5"
  },
  "rise": {
   "autolaunch": true,
   "controls": false,
   "enable_chalkboard": true,
   "scroll": true,
   "theme": "simple",
   "transition": "fade"
  },
  "toc": {
   "base_numbering": 1,
   "nav_menu": {},
   "number_sections": true,
   "sideBar": true,
   "skip_h1_title": true,
   "title_cell": "Table of Contents",
   "title_sidebar": "Contents",
   "toc_cell": true,
   "toc_position": {},
   "toc_section_display": true,
   "toc_window_display": false
  }
 },
 "nbformat": 4,
 "nbformat_minor": 4
}
