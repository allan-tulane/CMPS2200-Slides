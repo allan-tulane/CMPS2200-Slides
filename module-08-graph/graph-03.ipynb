{
 "cells": [
  {
   "cell_type": "code",
   "execution_count": 14,
   "metadata": {
    "code_folding": [],
    "slideshow": {
     "slide_type": "skip"
    }
   },
   "outputs": [
    {
     "name": "stderr",
     "output_type": "stream",
     "text": [
      "/var/folders/tv/1sn89zwj2k1_whhj0cz2v_tw0000gn/T/ipykernel_11938/3224035413.py:2: DeprecationWarning: Importing display from IPython.core.display is deprecated since IPython 7.14, please import from IPython.display\n",
      "  from IPython.core.display import display,HTML\n"
     ]
    },
    {
     "data": {
      "text/html": [
       "<style>.prompt{width: 0px; min-width: 0px; visibility: collapse}</style>"
      ],
      "text/plain": [
       "<IPython.core.display.HTML object>"
      ]
     },
     "metadata": {},
     "output_type": "display_data"
    },
    {
     "data": {
      "text/html": [
       "<style>\n",
       "div#notebook {\n",
       " font-family: \"Exo_2\", sans-serif;\n",
       "}\n",
       "\n",
       ".rendered_html h1,\n",
       ".text_cell_render h1 {\n",
       " color: #126dce;\n",
       " font-size: 220%;\n",
       " text-align: center;\n",
       " font-weight: lighter;\n",
       "}\n",
       ".rendered_html h2,\n",
       ".text_cell_render h2 {\n",
       " text-align: center;\n",
       " font-size: 170%;\n",
       " color: #126dce;\n",
       " font-style: normal;\n",
       " font-weight: lighter;\n",
       "}\n",
       ".rendered_html h3,\n",
       ".text_cell_render h3 {\n",
       " font-size: 150%;\n",
       " color: #126dce;\n",
       " font-weight: lighter;\n",
       " text-decoration: italic;\n",
       " font-style: normal;\n",
       "}\n",
       ".rendered_html h4,\n",
       ".text_cell_render h4 {\n",
       " font-size: 120%;\n",
       " color: #126dce;\n",
       " font-weight: underline;\n",
       " font-style: normal;\n",
       "}\n",
       ".rendered_html h5,\n",
       ".text_cell_render h5 {\n",
       " font-size: 100%;\n",
       " color: #2f2f2f;\n",
       " font-weight: lighter;\n",
       " text-decoration: underline;\n",
       "}\n",
       "</style>\n"
      ],
      "text/plain": [
       "<IPython.core.display.HTML object>"
      ]
     },
     "metadata": {},
     "output_type": "display_data"
    }
   ],
   "source": [
    "# setup\n",
    "from IPython.core.display import display,HTML\n",
    "display(HTML('<style>.prompt{width: 0px; min-width: 0px; visibility: collapse}</style>'))\n",
    "display(HTML(open('../rise.css').read()))\n",
    "\n",
    "# imports\n",
    "import numpy as np\n",
    "# import matplotlib.pyplot as plt\n",
    "# import seaborn as sns\n",
    "# %matplotlib inline\n",
    "# sns.set(style=\"whitegrid\", font_scale=1.5, rc={'figure.figsize':(12, 6)})\n"
   ]
  },
  {
   "cell_type": "markdown",
   "metadata": {
    "slideshow": {
     "slide_type": "slide"
    }
   },
   "source": [
    "# CMPS 2200\n",
    "# Introduction to Algorithms\n",
    "\n",
    "## Depth First Search\n"
   ]
  },
  {
   "cell_type": "markdown",
   "metadata": {
    "slideshow": {
     "slide_type": "slide"
    }
   },
   "source": [
    "### About BFS\n",
    "\n",
    "#### Q1. Shortest Path in Unweighted Networks\n",
    "Example: Google Maps finding shortest path when all roads are equal in cost.\n",
    "\n",
    "<img src= 'figures/unweighted_graph.png' width=50%/>\n",
    "\n",
    "\n"
   ]
  },
  {
   "cell_type": "markdown",
   "metadata": {
    "slideshow": {
     "slide_type": "fragment"
    }
   },
   "source": [
    "#### Q2. You’re given a 2D grid with walls and open paths. What's the best approach to find the shortest distance from top-left to bottom-right?\n",
    "\n",
    "The following is a simple 5x5 grid with open paths (0) and walls (1):\n",
    "```\n",
    "\n",
    "0  0  0  0  0\n",
    "0  1  1  1  0\n",
    "0  1  0  0  0\n",
    "0  1  1  1  0\n",
    "0  0  0  0  0\n",
    "```\n",
    "\n"
   ]
  },
  {
   "cell_type": "markdown",
   "metadata": {
    "slideshow": {
     "slide_type": "fragment"
    }
   },
   "source": [
    "#### Q3. Detecting Friend Groups on a Social Network\n",
    "\n",
    "\n",
    "You are working as a data analyst for a social media platform like Facebook. The platform has millions of users, and you are tasked with identifying friend groups — groups of people who are all connected, directly or indirectly.\n",
    "\n",
    "A friendship can be:\n",
    "\n",
    " - Undirected (e.g., mutual friends: you follow me and I follow you).\n",
    "\n",
    " - Or directed (e.g., one-way follow: I follow you but you don’t follow me back — like Twitter or Instagram).\n",
    "\n",
    "#### Your goal is to detect clusters of users such that:\n",
    "\n",
    "In undirected networks, each group is a connected component.\n",
    "\n",
    "In directed networks, each group is a strongly connected component (SCC) — every user can reach every other user in that group via directed connections."
   ]
  },
  {
   "cell_type": "markdown",
   "metadata": {
    "slideshow": {
     "slide_type": "slide"
    }
   },
   "source": [
    "### Depth First Search\n",
    "> Visit one node's children instead of its siblings\n",
    "\n",
    "<img src= 'figures/tree-dfs-vs-bfs.gif' width=70%/>\n",
    "\n",
    "\n",
    "<br>\n",
    "<br>\n",
    "We can implement DFS with a stack\n",
    "\n",
    "> **last in first out**"
   ]
  },
  {
   "cell_type": "markdown",
   "metadata": {
    "slideshow": {
     "slide_type": "slide"
    }
   },
   "source": [
    "\n",
    "<center>\n",
    "<img src=\"figures/graph_search_ex2.png\" width=70%/>\n",
    "</center>\n"
   ]
  },
  {
   "cell_type": "code",
   "execution_count": 1,
   "metadata": {
    "slideshow": {
     "slide_type": "slide"
    }
   },
   "outputs": [
    {
     "name": "stdout",
     "output_type": "stream",
     "text": [
      "visiting A\n",
      "visiting C\n",
      "visiting F\n",
      "visiting G\n",
      "visiting B\n",
      "visiting D\n",
      "visiting E\n",
      "visiting H\n"
     ]
    },
    {
     "data": {
      "text/plain": [
       "{'A', 'B', 'C', 'D', 'E', 'F', 'G', 'H'}"
      ]
     },
     "execution_count": 1,
     "metadata": {},
     "output_type": "execute_result"
    }
   ],
   "source": [
    "from collections import deque\n",
    "\n",
    "def dfs_stack(graph, source):\n",
    "    def dfs_stack_helper(visited, frontier):\n",
    "        if len(frontier) == 0:\n",
    "            return visited\n",
    "        else:\n",
    "            node = frontier.pop() ## only difference\n",
    "            print('visiting', node)\n",
    "            visited.add(node)\n",
    "            frontier.extend(filter(lambda n: n not in visited, graph[node]))\n",
    "            return dfs_stack_helper(visited, frontier)\n",
    "        \n",
    "    frontier = deque()\n",
    "    frontier.append(source)\n",
    "    visited = set()\n",
    "    return dfs_stack_helper(visited, frontier)\n",
    "    \n",
    "graph = {\n",
    "            'A': {'B', 'C'},\n",
    "            'B': {'A', 'D', 'E'},\n",
    "            'C': {'A', 'F', 'G'},\n",
    "            'D': {'B'},\n",
    "            'E': {'B', 'H'},\n",
    "            'F': {'C'},\n",
    "            'G': {'C'},\n",
    "            'H': {'E'}\n",
    "        }\n",
    "\n",
    "dfs_stack(graph, 'A')"
   ]
  },
  {
   "cell_type": "markdown",
   "metadata": {
    "slideshow": {
     "slide_type": "slide"
    }
   },
   "source": [
    "### Compare with `bfs_serial`!\n",
    "\n",
    "`dfs_stack`:\n",
    "\n",
    "- `node = frontier.pop()`\n",
    "\n",
    "\n",
    "`bfs_serial`:\n",
    "\n",
    "- `node = frontier.popleft()`"
   ]
  },
  {
   "cell_type": "markdown",
   "metadata": {
    "slideshow": {
     "slide_type": "slide"
    }
   },
   "source": [
    "\n",
    "### DFS with recursion\n",
    "\n",
    "\n",
    "but wait, can't we just use recursion?\n",
    "\n",
    "recursion maintains a stack of calls automatically.\n",
    "\n",
    "<center>\n",
    "<img src=\"https://upload.wikimedia.org/wikipedia/commons/7/7f/Depth-First-Search.gif\" width=25%/>\n",
    "</center>\n",
    "\n"
   ]
  },
  {
   "cell_type": "code",
   "execution_count": 2,
   "metadata": {
    "slideshow": {
     "slide_type": "fragment"
    }
   },
   "outputs": [
    {
     "name": "stdout",
     "output_type": "stream",
     "text": [
      "visiting A\n",
      "visiting B\n",
      "visiting E\n",
      "visiting H\n",
      "visiting D\n",
      "visiting C\n",
      "visiting G\n",
      "visiting F\n"
     ]
    },
    {
     "data": {
      "text/plain": [
       "{'A', 'B', 'C', 'D', 'E', 'F', 'G', 'H'}"
      ]
     },
     "execution_count": 2,
     "metadata": {},
     "output_type": "execute_result"
    }
   ],
   "source": [
    "def dfs_recursive(graph, source):\n",
    "    def dfs_recursive_helper(visited, node):  \n",
    "        if node in visited:\n",
    "            return visited\n",
    "        else:\n",
    "            print('visiting', node)\n",
    "            visited.add(node)\n",
    "            for neighbour in graph[node]:\n",
    "                dfs_recursive_helper(visited, neighbour)\n",
    "            return visited\n",
    "        \n",
    "    visited = set()\n",
    "    return dfs_recursive_helper(visited, source)\n",
    "\n",
    "dfs_recursive(graph, 'A')"
   ]
  },
  {
   "cell_type": "code",
   "execution_count": 3,
   "metadata": {
    "slideshow": {
     "slide_type": "fragment"
    }
   },
   "outputs": [
    {
     "name": "stdout",
     "output_type": "stream",
     "text": [
      "visiting A\n",
      "visiting B\n",
      "visiting E\n",
      "visiting H\n",
      "visiting D\n",
      "visiting C\n",
      "visiting G\n",
      "visiting F\n"
     ]
    },
    {
     "data": {
      "text/plain": [
       "{'A', 'B', 'C', 'D', 'E', 'F', 'G', 'H'}"
      ]
     },
     "execution_count": 3,
     "metadata": {},
     "output_type": "execute_result"
    }
   ],
   "source": [
    "def dfs_recursive_iter(graph, source):  \n",
    "    def dfs_recursive_helper_iter(visited, node):\n",
    "        if node in visited:\n",
    "            return visited\n",
    "        else:\n",
    "            print('visiting', node)\n",
    "            visited.add(node)\n",
    "            iterate(dfs_recursive_helper_iter, visited, list(graph[node]))\n",
    "            return visited\n",
    "\n",
    "    visited = set()\n",
    "    return dfs_recursive_helper_iter(visited, source)\n",
    "\n",
    "def iterate(f, x, a):\n",
    "    if len(a) == 0:\n",
    "        return x\n",
    "    else:\n",
    "        return iterate(f, f(x, a[0]), a[1:])\n",
    "\n",
    "dfs_recursive_iter(graph, 'A')"
   ]
  },
  {
   "cell_type": "markdown",
   "metadata": {
    "slideshow": {
     "slide_type": "slide"
    }
   },
   "source": [
    "## Cost of DFS\n",
    "\n",
    "As in BFS, we add a node to the visited set exactly once ($|V|$).\n",
    "\n",
    "For each edge, we do one lookup to see if it exists in the visited set ($|E|$).\n",
    "\n",
    "Thus, the total work is equivalent to BFS: $O(|V| + |E|)$.\n",
    "\n"
   ]
  },
  {
   "cell_type": "markdown",
   "metadata": {
    "slideshow": {
     "slide_type": "slide"
    }
   },
   "source": [
    "## Parallelism in DFS?\n",
    "<img src=\"figures/dfs_nop.jpg\" width=\"30%\"/>\n",
    "\n",
    "Is there any opportunity for parallelism?\n",
    "\n",
    "One idea is to just run the search for each child in parallel. \n",
    "- E.g., in this example, search the subtree starting at $a$ in parallel with the subtree starting at $b$\n",
    "\n",
    "<span style=\"color:red\">**Question**:</span> What potential problems arise?"
   ]
  },
  {
   "cell_type": "markdown",
   "metadata": {
    "slideshow": {
     "slide_type": "fragment"
    }
   },
   "source": [
    "- We may end up visiting $b$ twice (or $c$, or $f$)\n",
    "- This isn't in DFS order! We shouldn't be visiting $b$ before $e$.\n"
   ]
  },
  {
   "cell_type": "markdown",
   "metadata": {
    "slideshow": {
     "slide_type": "slide"
    }
   },
   "source": [
    "## Cycle detection\n",
    "\n",
    "How can we modify DFS to determine if the graph has a cycle?\n",
    "\n",
    "**cycle**: a path in which all nodes are distinct except the first and last\n",
    "- in an undirected graph, a cycle must contain at least three nodes\n",
    "\n",
    "<span style=\"color:red\">**Question**:</span> How??"
   ]
  },
  {
   "cell_type": "markdown",
   "metadata": {
    "slideshow": {
     "slide_type": "fragment"
    }
   },
   "source": [
    "**idea**: determine whether a vertex is visited more than once.\n",
    "\n",
    "but...the second visit must be from a different source\n",
    "\n",
    "<img src=\"figures/triangle.png\"/>\n",
    "\n",
    "e.g., if $a$ is the source, we will vist $b$ twice\n",
    "- once when it is added to `visited`\n",
    "- once in the base case of the recursive call (`if node in visited`), with `c` as the parent\n",
    "\n",
    "but we will visit $a$ three times:\n",
    "- once when it is added to `visited`\n",
    "- twice in the base case of the recursive call (`if node in visited`)\n",
    "  - with `b` as the parent\n",
    "  - with `c` as the parent\n",
    "  \n",
    "So, we need to keep track of the parent of each recursive call, and make sure not to make a recursive call back to the parent."
   ]
  },
  {
   "cell_type": "code",
   "execution_count": 4,
   "metadata": {
    "slideshow": {
     "slide_type": "fragment"
    }
   },
   "outputs": [
    {
     "name": "stdout",
     "output_type": "stream",
     "text": [
      "visiting A\n",
      "visiting B\n",
      "visiting E\n",
      "visiting H\n",
      "visiting D\n",
      "visiting C\n",
      "visiting G\n",
      "visiting F\n"
     ]
    },
    {
     "data": {
      "text/plain": [
       "({'A', 'B', 'C', 'D', 'E', 'F', 'G', 'H'}, False)"
      ]
     },
     "execution_count": 4,
     "metadata": {},
     "output_type": "execute_result"
    }
   ],
   "source": [
    "def dfs_cycle(graph, source):\n",
    "\n",
    "    def dfs_cycle_helper(result, node, parent):\n",
    "        \"\"\"\n",
    "        We pack (visited, has_cycle) variables into a single result variable,\n",
    "        so we can use iterate.\n",
    "        \"\"\"\n",
    "        visited, has_cycle = result\n",
    "\n",
    "        if node in visited:\n",
    "            print('found cycle from %s to %s' % (parent, node))\n",
    "            return (visited, True)\n",
    "\n",
    "        else:\n",
    "            print('visiting', node)\n",
    "            visited.add(node)\n",
    "            # ignore the parent!\n",
    "            neighbors = list(filter(lambda n: n != parent, graph[node]))\n",
    "            # curry the dfs_cycle_helper function to set the parent variable \n",
    "            # to be the node we are visiting now.                         \n",
    "            fn = lambda r, n: dfs_cycle_helper(r, n, node)\n",
    "            res = iterate(fn, (visited, has_cycle), neighbors)\n",
    "            return res\n",
    "    \n",
    "    visited = set()\n",
    "    return dfs_cycle_helper((visited, False), source, source)\n",
    "    \n",
    "dfs_cycle(graph, 'A')"
   ]
  },
  {
   "cell_type": "code",
   "execution_count": 5,
   "metadata": {
    "slideshow": {
     "slide_type": "fragment"
    }
   },
   "outputs": [
    {
     "name": "stdout",
     "output_type": "stream",
     "text": [
      "visiting A\n",
      "visiting B\n",
      "visiting D\n",
      "visiting E\n",
      "visiting H\n",
      "visiting C\n",
      "visiting G\n",
      "found cycle from G to A\n",
      "visiting F\n"
     ]
    },
    {
     "data": {
      "text/plain": [
       "({'A', 'B', 'C', 'D', 'E', 'F', 'G', 'H'}, True)"
      ]
     },
     "execution_count": 5,
     "metadata": {},
     "output_type": "execute_result"
    }
   ],
   "source": [
    "graph2 = {\n",
    "            'A': {'B', 'C'},\n",
    "            'B': {'A', 'D', 'E'},\n",
    "            'C': {'A', 'F', 'G'},\n",
    "            'D': {'B'},\n",
    "            'E': {'B', 'H'},\n",
    "            'F': {'C'},\n",
    "            'G': {'C', 'A'},  # add cycle back to A from G\n",
    "            'H': {'E'}\n",
    "        }\n",
    "dfs_cycle(graph2, 'A')"
   ]
  },
  {
   "cell_type": "markdown",
   "metadata": {
    "slideshow": {
     "slide_type": "slide"
    }
   },
   "source": [
    "## Strongly Connected Component (SCC) \n",
    "\n",
    "\n",
    "Let $G= (V;E)$ be a directed graph. A strongly connected comp onent (SCC) of G is a subset S of V s.t. \n",
    "> for any two vertices $u, v \\in S$, G has a path from u to v and a path from v to u;\n",
    "\n",
    "> S is maximal in the sense that we cannot put any more vertex into S without breaking the above property.\n",
    "\n",
    "<img src=\"figures/scc_ex1.png\"/>\n",
    "\n"
   ]
  },
  {
   "cell_type": "markdown",
   "metadata": {
    "slideshow": {
     "slide_type": "slide"
    }
   },
   "source": [
    "> $\\{a, b, c \\}$ is an SCC.\n",
    "\n",
    "> $\\{a, b, c, d \\}$ is not an SCC.\n",
    "\n",
    "> $\\{d, e, f , k, l \\}$ is not an SCC (because we can still add vertex g).\n",
    "\n",
    "> $\\{e, d, f , k, l, g \\}$ is an SCC."
   ]
  },
  {
   "cell_type": "markdown",
   "metadata": {
    "slideshow": {
     "slide_type": "slide"
    }
   },
   "source": [
    "## 🧠 High-Level Intuition\n",
    "The key insight is:\n",
    "\n",
    "In the original graph, nodes within an SCC can reach each other, but nodes in different SCCs may not be mutually reachable. If we reverse the graph (transpose), the direction of reachability between SCCs also reverses.\n",
    "\n",
    "Kosaraju’s algorithm cleverly uses two passes of DFS to isolate SCCs."
   ]
  },
  {
   "cell_type": "markdown",
   "metadata": {
    "slideshow": {
     "slide_type": "slide"
    }
   },
   "source": [
    "### 🧠 Key Idea of Kosaraju's Algorithm\n",
    "Kosaraju’s algorithm finds SCCs in 3 main steps:\n",
    "\n",
    "1. **First DFS** (on the original graph):\n",
    "    - Do a standard DFS on the original graph.\n",
    "    - Push each node to a stack when its DFS finishes (i.e., all its descendants are visited).\n",
    "    - This gives you the nodes in order of decreasing finish time.\n",
    "    \n",
    "2. **Graph Transposition**:\n",
    "    - Reverse the direction of every edge in the graph.\n",
    "    - If there was an edge u → v, now it becomes v → u.\n",
    "    \n",
    "    <img src=\"figures/scc_ex2.png\"/>\n",
    "\n",
    "\n",
    "3. **Second DFS** (on the transposed graph):\n",
    "    - Pop nodes one by one from the stack (from Step 1).\n",
    "    - For each unvisited node, do DFS on the transposed graph.\n",
    "    - All nodes reached during this DFS form one SCC."
   ]
  },
  {
   "cell_type": "code",
   "execution_count": null,
   "metadata": {
    "slideshow": {
     "slide_type": "slide"
    }
   },
   "outputs": [],
   "source": [
    "from collections import defaultdict\n",
    "\n",
    "def dfs_forward(graph, node, visited, stack):\n",
    "    visited.add(node)\n",
    "    for neighbor in graph[node]:\n",
    "        if neighbor not in visited:\n",
    "            dfs_forward(graph, neighbor, visited, stack)\n",
    "    stack.append(node)  # append after visiting all descendants\n",
    "\n",
    "def dfs_inverse(graph, node, visited, component):\n",
    "    visited.add(node)\n",
    "    component.add(node)\n",
    "    for neighbor in graph[node]:\n",
    "        if neighbor not in visited:\n",
    "            dfs_inverse(graph, neighbor, visited, component)\n",
    "\n",
    "def transpose_graph(graph):\n",
    "    transposed = defaultdict(list)\n",
    "    for u in graph:\n",
    "        for v in graph[u]:\n",
    "            transposed[v].append(u)\n",
    "    return transposed\n",
    "\n",
    "def kosaraju_scc(graph):\n",
    "    visited = set()\n",
    "    stack = []\n",
    "\n",
    "    # Step 1: Fill stack with finishing times\n",
    "    for node in graph:\n",
    "        if node not in visited:\n",
    "            dfs_forward(graph, node, visited, stack)\n",
    "\n",
    "    # Step 2: Transpose the graph\n",
    "    trans_graph = transpose_graph(graph)\n",
    "\n",
    "\n",
    "    # Step 3: Process nodes in reverse finishing time to find SCCs\n",
    "    visited.clear()\n",
    "    sccs = []\n",
    "    print(stack)\n",
    "    while stack:\n",
    "        node = stack.pop()\n",
    "        if node not in visited:\n",
    "            component = set()\n",
    "            dfs_inverse(trans_graph, node, visited, component)\n",
    "            sccs.append(component)\n",
    "\n",
    "    return sccs\n"
   ]
  },
  {
   "cell_type": "code",
   "execution_count": null,
   "metadata": {
    "slideshow": {
     "slide_type": "slide"
    }
   },
   "outputs": [],
   "source": [
    "graph = {\n",
    "    'a': {'b', 'e'},\n",
    "    'b': {'a'},\n",
    "    'c': {'a', 'b'},\n",
    "    'd': {'b', 'e'},\n",
    "    'e': {'d', 'f'},\n",
    "    'f': {'g', 'k'},\n",
    "    'g': {'l'},\n",
    "    'h': {'i'},\n",
    "    'i': {'h'},\n",
    "    'j': {'e', 'g', 'h'},\n",
    "    'k': {'f'},\n",
    "    'l': {'k'}\n",
    "}\n",
    "\n",
    "sccs = kosaraju_scc(graph)\n",
    "print(\"Strongly Connected Components:\")\n",
    "for scc in sccs:\n",
    "    print(scc)\n"
   ]
  }
 ],
 "metadata": {
  "celltoolbar": "Slideshow",
  "kernelspec": {
   "display_name": "Python 3 (ipykernel)",
   "language": "python",
   "name": "python3"
  },
  "language_info": {
   "codemirror_mode": {
    "name": "ipython",
    "version": 3
   },
   "file_extension": ".py",
   "mimetype": "text/x-python",
   "name": "python",
   "nbconvert_exporter": "python",
   "pygments_lexer": "ipython3",
   "version": "3.12.2"
  },
  "rise": {
   "autolaunch": true,
   "controls": false,
   "enable_chalkboard": true,
   "scroll": true,
   "theme": "simple",
   "transition": "fade"
  },
  "toc": {
   "base_numbering": 1,
   "nav_menu": {},
   "number_sections": true,
   "sideBar": true,
   "skip_h1_title": true,
   "title_cell": "Table of Contents",
   "title_sidebar": "Contents",
   "toc_cell": true,
   "toc_position": {},
   "toc_section_display": true,
   "toc_window_display": false
  }
 },
 "nbformat": 4,
 "nbformat_minor": 4
}
