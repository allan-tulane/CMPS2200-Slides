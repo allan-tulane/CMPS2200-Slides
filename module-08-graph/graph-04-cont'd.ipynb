{
 "cells": [
  {
   "cell_type": "code",
   "execution_count": 1,
   "metadata": {
    "code_folding": [],
    "slideshow": {
     "slide_type": "skip"
    }
   },
   "outputs": [
    {
     "data": {
      "text/html": [
       "<style>.prompt{width: 0px; min-width: 0px; visibility: collapse}</style>"
      ],
      "text/plain": [
       "<IPython.core.display.HTML object>"
      ]
     },
     "metadata": {},
     "output_type": "display_data"
    },
    {
     "data": {
      "text/html": [
       "<style>\n",
       "div#notebook {\n",
       " font-family: \"Exo_2\", sans-serif;\n",
       "}\n",
       "\n",
       ".rendered_html h1,\n",
       ".text_cell_render h1 {\n",
       " color: #126dce;\n",
       " font-size: 220%;\n",
       " text-align: center;\n",
       " font-weight: lighter;\n",
       "}\n",
       ".rendered_html h2,\n",
       ".text_cell_render h2 {\n",
       " text-align: center;\n",
       " font-size: 170%;\n",
       " color: #126dce;\n",
       " font-style: normal;\n",
       " font-weight: lighter;\n",
       "}\n",
       ".rendered_html h3,\n",
       ".text_cell_render h3 {\n",
       " font-size: 150%;\n",
       " color: #126dce;\n",
       " font-weight: lighter;\n",
       " text-decoration: italic;\n",
       " font-style: normal;\n",
       "}\n",
       ".rendered_html h4,\n",
       ".text_cell_render h4 {\n",
       " font-size: 120%;\n",
       " color: #126dce;\n",
       " font-weight: underline;\n",
       " font-style: normal;\n",
       "}\n",
       ".rendered_html h5,\n",
       ".text_cell_render h5 {\n",
       " font-size: 100%;\n",
       " color: #2f2f2f;\n",
       " font-weight: lighter;\n",
       " text-decoration: underline;\n",
       "}\n",
       "</style>\n"
      ],
      "text/plain": [
       "<IPython.core.display.HTML object>"
      ]
     },
     "metadata": {},
     "output_type": "display_data"
    }
   ],
   "source": [
    "# setup\n",
    "from IPython.core.display import display,HTML\n",
    "display(HTML('<style>.prompt{width: 0px; min-width: 0px; visibility: collapse}</style>'))\n",
    "display(HTML(open('../rise.css').read()))\n",
    "\n",
    "# imports\n",
    "import numpy as np\n",
    "import matplotlib.pyplot as plt\n",
    "import seaborn as sns\n",
    "%matplotlib inline\n",
    "sns.set(style=\"whitegrid\", font_scale=1.5, rc={'figure.figsize':(12, 6)})\n"
   ]
  },
  {
   "cell_type": "markdown",
   "metadata": {
    "slideshow": {
     "slide_type": "slide"
    }
   },
   "source": [
    "# CMPS 2200\n",
    "# Introduction to Algorithms\n",
    "\n",
    "## Graph Search - Weighted Graph (Cont'd)\n"
   ]
  },
  {
   "cell_type": "markdown",
   "metadata": {
    "slideshow": {
     "slide_type": "slide"
    }
   },
   "source": [
    "## Priority First Search -> Weighted graphs\n",
    "\n",
    "We can view the `get_next_node_fn` as a way to pick the **highest priority** node to visit at each iteration.\n",
    "\n",
    "\n",
    "For many problems, we need to associate real-valued **weights** to each edge.\n",
    "\n",
    "### SSSP: Single-Source Shortest Path\n",
    "\n",
    "Given a weighted graph $G=(V,E,w)$ and a source vertex $s$, the single-source shortest path (SSSP) problem is to find a shortest weighted path from $s$ to every other vertex in $V$.\n",
    "\n",
    "\n",
    "<img src=\"figures/weighted.png\" width=70%/>\n",
    "\n"
   ]
  },
  {
   "cell_type": "markdown",
   "metadata": {
    "slideshow": {
     "slide_type": "slide"
    }
   },
   "source": [
    "## Dijkstra's Algorithm\n",
    "\n",
    "Assume we know the shortest paths to $\\{a,b,c,d\\}$. We can then use these to determine whether $u$ or $v$ is closer to $s$.\n",
    "\n",
    "\n",
    "<center>\n",
    "<img src=\"figures/dijkstra_example.jpg\" width=50%/>\n",
    "</center>\n",
    "\n",
    "The idea of Dijkstra's algorithm is:\n",
    "- Maintain a visited set of vertices whose distances have already been computed correctly.\n",
    "- Calculate distances to each node in the frontier.\n",
    "- Extend the frontier by visiting the closest vertex.\n"
   ]
  },
  {
   "cell_type": "markdown",
   "metadata": {
    "slideshow": {
     "slide_type": "slide"
    }
   },
   "source": [
    "The final algorithm can be viewed as an instance of **priority-first search**, using the path length as the priority criterion.\n",
    "\n",
    "1. Initialize frontier to $(s, 0)$\n",
    "2. While frontier not empty:\n",
    "  - pop from the frontier the node $v$ with minimum distance $d$ from the source.\n",
    "  - set $result(v) = d$ to be the weight of the shortest path from $s$ to $v$\n",
    "  - For each neighbor $x$ of $v$ with edge weight $w$, add $x$ to frontier with distance $d + w$\n",
    "3. return $result$"
   ]
  },
  {
   "cell_type": "markdown",
   "metadata": {
    "slideshow": {
     "slide_type": "fragment"
    }
   },
   "source": [
    "<center>\n",
    "    <img src=\"figures/dijkstra-0.jpg\" width=50%/>\n",
    "</center>"
   ]
  },
  {
   "cell_type": "markdown",
   "metadata": {
    "slideshow": {
     "slide_type": "fragment"
    }
   },
   "source": [
    "<center>\n",
    "    <img src=\"figures/dijkstra-1.jpg\" width=50%/>\n",
    "</center>"
   ]
  },
  {
   "cell_type": "markdown",
   "metadata": {
    "slideshow": {
     "slide_type": "fragment"
    }
   },
   "source": [
    "<center>\n",
    "    <img src=\"figures/dijkstra-2.jpg\" width=50%/>\n",
    "</center>"
   ]
  },
  {
   "cell_type": "markdown",
   "metadata": {
    "slideshow": {
     "slide_type": "fragment"
    }
   },
   "source": [
    "<center>\n",
    "    <img src=\"figures/dijkstra-3.jpg\" width=50%/>\n",
    "</center>"
   ]
  },
  {
   "cell_type": "markdown",
   "metadata": {
    "slideshow": {
     "slide_type": "fragment"
    }
   },
   "source": [
    "<center>\n",
    "    <img src=\"figures/dijkstra-4.jpg\" width=50%/>\n",
    "</center>"
   ]
  },
  {
   "cell_type": "markdown",
   "metadata": {
    "slideshow": {
     "slide_type": "fragment"
    }
   },
   "source": [
    "<center>\n",
    "    <img src=\"figures/dijkstra-5.jpg\" width=50%/>\n",
    "</center>"
   ]
  },
  {
   "cell_type": "markdown",
   "metadata": {
    "slideshow": {
     "slide_type": "fragment"
    }
   },
   "source": [
    "<center>\n",
    "    <img src=\"figures/dijkstra-6.jpg\" width=50%/>\n",
    "</center>"
   ]
  },
  {
   "cell_type": "markdown",
   "metadata": {
    "slideshow": {
     "slide_type": "fragment"
    }
   },
   "source": [
    "<center>\n",
    "    <img src=\"figures/dijkstra-7.jpg\" width=50%/>\n",
    "</center>"
   ]
  },
  {
   "cell_type": "code",
   "execution_count": 1,
   "metadata": {
    "slideshow": {
     "slide_type": "slide"
    }
   },
   "outputs": [
    {
     "name": "stdout",
     "output_type": "stream",
     "text": [
      "Head value of heap : (10, 'a')\n",
      "Head value of heap : (20, 'c')\n",
      "Head value of heap : (30, 'b')\n",
      "Head value of heap : (400, 'd')\n"
     ]
    }
   ],
   "source": [
    "# Heaps in Python\n",
    "from heapq import heappush, heappop \n",
    "  \n",
    "# Creating empty heap \n",
    "heap = [] \n",
    "  \n",
    "# Adding items to the heap using heappush function \n",
    "heappush(heap, (10, 'a')) \n",
    "heappush(heap, (30, 'b')) \n",
    "heappush(heap, (20, 'c')) \n",
    "heappush(heap, (400, 'd')) \n",
    "print(\"Head value of heap : \"+str(heappop(heap)))\n",
    "print(\"Head value of heap : \"+str(heappop(heap)))\n",
    "print(\"Head value of heap : \"+str(heappop(heap)))\n",
    "print(\"Head value of heap : \"+str(heappop(heap)))"
   ]
  },
  {
   "cell_type": "code",
   "execution_count": 2,
   "metadata": {
    "slideshow": {
     "slide_type": "fragment"
    }
   },
   "outputs": [
    {
     "name": "stdout",
     "output_type": "stream",
     "text": [
      "Head value of heap : ('a', 10)\n",
      "Head value of heap : ('b', 30)\n",
      "Head value of heap : ('c', 20)\n",
      "Head value of heap : ('d', 400)\n"
     ]
    }
   ],
   "source": [
    "# Creating empty heap \n",
    "heap1 = [] \n",
    "  \n",
    "# Adding items to the heap using heappush function \n",
    "heappush(heap1, ('a',10)) \n",
    "heappush(heap1, ('b',30)) \n",
    "heappush(heap1, ('c',20)) \n",
    "heappush(heap1, ('d',400)) \n",
    "print(\"Head value of heap : \"+str(heappop(heap1)))\n",
    "print(\"Head value of heap : \"+str(heappop(heap1)))\n",
    "print(\"Head value of heap : \"+str(heappop(heap1)))\n",
    "print(\"Head value of heap : \"+str(heappop(heap1)))"
   ]
  },
  {
   "cell_type": "code",
   "execution_count": 3,
   "metadata": {
    "slideshow": {
     "slide_type": "fragment"
    }
   },
   "outputs": [
    {
     "name": "stdout",
     "output_type": "stream",
     "text": [
      "visiting s\n",
      "...distance= 0\n",
      "visiting a\n",
      "...distance= 1\n",
      "visiting b\n",
      "...distance= 3\n",
      "visiting c\n",
      "...distance= 4\n",
      "visiting c\n",
      "visiting d\n",
      "...distance= 7\n",
      "visiting d\n"
     ]
    },
    {
     "data": {
      "text/plain": [
       "{'s': 0, 'a': 1, 'b': 3, 'c': 4, 'd': 7}"
      ]
     },
     "execution_count": 3,
     "metadata": {},
     "output_type": "execute_result"
    }
   ],
   "source": [
    "# Heaps in Python\n",
    "from heapq import heappush, heappop \n",
    "\n",
    "def dijkstra(graph, source):\n",
    "    def dijkstra_helper(visited, frontier):\n",
    "        if len(frontier) == 0:\n",
    "            return visited\n",
    "        else:\n",
    "            # Pick next closest node from heap\n",
    "            distance, node = heappop(frontier)\n",
    "            print('visiting', node)\n",
    "            if node in visited:\n",
    "                # Already visited, so ignore this longer path\n",
    "                return dijkstra_helper(visited, frontier)\n",
    "            else:\n",
    "                # We now know the shortest path from source to node.\n",
    "                # insert into visited dict.\n",
    "                visited[node] = distance\n",
    "                print('...distance=', distance)\n",
    "                # Visit each neighbor of node and insert into heap.\n",
    "                # We may add same node more than once, heap\n",
    "                # will keep shortest distance prioritized.\n",
    "                for neighbor, weight in graph[node]:\n",
    "                    heappush(frontier, (distance + weight, neighbor))                \n",
    "                return dijkstra_helper(visited, frontier)\n",
    "        \n",
    "    frontier = []\n",
    "    heappush(frontier, (0, source))\n",
    "    visited = dict()  # store the final shortest paths for each node.\n",
    "    return dijkstra_helper(visited, frontier)\n",
    "\n",
    "graph = {\n",
    "            's': {('a', 1), ('c', 5)},\n",
    "            'a': {('b', 2)}, # 'a': {'b'},\n",
    "            'b': {('c', 1), ('d', 5)}, \n",
    "            'c': {('d', 3)},\n",
    "            'd': {},\n",
    "            'e': {('d', 0)}\n",
    "        }\n",
    "dijkstra(graph, 's')"
   ]
  },
  {
   "cell_type": "markdown",
   "metadata": {
    "slideshow": {
     "slide_type": "slide"
    }
   },
   "source": [
    "### Correctness of Dijkstra's Algorithm\n",
    "\n",
    "The algorithm maintains an invariant that each visited element $x \\in X$ contains the shortest path from $s$ to $x$.\n",
    "- That is, `visited[x]` $=\\delta_G(s,x)$\n",
    "\n",
    "\n",
    "- We know this is true after visiting the source, since $\\delta_G(s,x)=$ `visited[x]` $=0$\n",
    "- Dijkstra's property ensures that each element we remove from the heap also maintains this property"
   ]
  },
  {
   "cell_type": "markdown",
   "metadata": {
    "slideshow": {
     "slide_type": "slide"
    }
   },
   "source": [
    "## Work of Dijkstra's Algorithm\n",
    "\n",
    "The two key lines are:\n",
    "\n",
    "```python\n",
    "distance, node = heappop(frontier)\n",
    "```\n",
    "\n",
    "and\n",
    "\n",
    "\n",
    "```python\n",
    "for neighbor, weight in graph[node]:\n",
    "    heappush(frontier, (distance + weight, neighbor))\n",
    "```    \n",
    "\n",
    "What is work and span of `heappop` and `heappush`?"
   ]
  },
  {
   "cell_type": "markdown",
   "metadata": {
    "slideshow": {
     "slide_type": "fragment"
    }
   },
   "source": [
    "$O(\\lg n)$ work and span for each, for a heap of size $n$.\n",
    "\n",
    "How many times will we call these functions?\n",
    "\n",
    "Once per edge, since a node may be added to the heap multiple times for each edge.\n",
    "\n",
    "Thus, the total work and span is $O(|E| \\log |E|)$\n"
   ]
  },
  {
   "cell_type": "markdown",
   "metadata": {},
   "source": [
    "## Question\n",
    "\n",
    "Consider the directed graph shown in the figure below. There are multiple shortest paths between vertices S and T. Which one will be reported by Dijkstra’s shortest path algorithm? Assume that, in any iteration, the shortest path to a vertex v is updated only when a strictly shorter path to v is discovered.\n",
    "\n",
    "<center>\n",
    "    <img src=\"figures/quiz1.png\" width=50%/>\n",
    "</center>\n",
    "\n",
    "Choose one?\n",
    "\n",
    "- SDT \n",
    "- SBDT \n",
    "- SACDT \n",
    "- SACET\n"
   ]
  }
 ],
 "metadata": {
  "celltoolbar": "Slideshow",
  "kernelspec": {
   "display_name": "Python 3 (ipykernel)",
   "language": "python",
   "name": "python3"
  },
  "language_info": {
   "codemirror_mode": {
    "name": "ipython",
    "version": 3
   },
   "file_extension": ".py",
   "mimetype": "text/x-python",
   "name": "python",
   "nbconvert_exporter": "python",
   "pygments_lexer": "ipython3",
   "version": "3.9.6"
  },
  "rise": {
   "autolaunch": true,
   "controls": false,
   "enable_chalkboard": true,
   "scroll": true,
   "theme": "simple",
   "transition": "fade"
  },
  "toc": {
   "base_numbering": 1,
   "nav_menu": {},
   "number_sections": true,
   "sideBar": true,
   "skip_h1_title": true,
   "title_cell": "Table of Contents",
   "title_sidebar": "Contents",
   "toc_cell": true,
   "toc_position": {},
   "toc_section_display": true,
   "toc_window_display": false
  }
 },
 "nbformat": 4,
 "nbformat_minor": 4
}
