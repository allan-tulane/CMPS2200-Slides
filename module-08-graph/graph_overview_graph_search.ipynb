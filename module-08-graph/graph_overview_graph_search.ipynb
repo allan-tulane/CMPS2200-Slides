{
 "cells": [
  {
   "cell_type": "code",
   "execution_count": 1,
   "id": "377f6684",
   "metadata": {
    "code_folding": [],
    "slideshow": {
     "slide_type": "skip"
    }
   },
   "outputs": [
    {
     "data": {
      "text/html": [
       "<style>.prompt{width: 0px; min-width: 0px; visibility: collapse}</style>"
      ],
      "text/plain": [
       "<IPython.core.display.HTML object>"
      ]
     },
     "metadata": {},
     "output_type": "display_data"
    },
    {
     "data": {
      "text/html": [
       "<style>\n",
       "div#notebook {\n",
       " font-family: \"Exo_2\", sans-serif;\n",
       "}\n",
       "\n",
       ".rendered_html h1,\n",
       ".text_cell_render h1 {\n",
       " color: #126dce;\n",
       " font-size: 220%;\n",
       " text-align: center;\n",
       " font-weight: lighter;\n",
       "}\n",
       ".rendered_html h2,\n",
       ".text_cell_render h2 {\n",
       " text-align: center;\n",
       " font-size: 170%;\n",
       " color: #126dce;\n",
       " font-style: normal;\n",
       " font-weight: lighter;\n",
       "}\n",
       ".rendered_html h3,\n",
       ".text_cell_render h3 {\n",
       " font-size: 150%;\n",
       " color: #126dce;\n",
       " font-weight: lighter;\n",
       " text-decoration: italic;\n",
       " font-style: normal;\n",
       "}\n",
       ".rendered_html h4,\n",
       ".text_cell_render h4 {\n",
       " font-size: 120%;\n",
       " color: #126dce;\n",
       " font-weight: underline;\n",
       " font-style: normal;\n",
       "}\n",
       ".rendered_html h5,\n",
       ".text_cell_render h5 {\n",
       " font-size: 100%;\n",
       " color: #2f2f2f;\n",
       " font-weight: lighter;\n",
       " text-decoration: underline;\n",
       "}\n",
       "</style>\n"
      ],
      "text/plain": [
       "<IPython.core.display.HTML object>"
      ]
     },
     "metadata": {},
     "output_type": "display_data"
    }
   ],
   "source": [
    "# setup\n",
    "from IPython.core.display import display,HTML\n",
    "display(HTML('<style>.prompt{width: 0px; min-width: 0px; visibility: collapse}</style>'))\n",
    "display(HTML(open('../rise.css').read()))\n",
    "\n",
    "# imports\n",
    "import numpy as np\n",
    "import matplotlib.pyplot as plt\n",
    "import seaborn as sns\n",
    "%matplotlib inline\n",
    "sns.set(style=\"whitegrid\", font_scale=1.5, rc={'figure.figsize':(12, 6)})\n"
   ]
  },
  {
   "cell_type": "markdown",
   "id": "d5e01185",
   "metadata": {},
   "source": [
    "## Graph Review\n",
    "\n",
    "- Graph $G$: Node $V$, Edge $E$, Neighbor\n",
    "\n",
    "<center>\n",
    "<img src=\"figures\\graph_ex.png\" width=70%/>\n",
    "</center>\n",
    "\n",
    "\n",
    "- Graph Representation [`Adjacency matrix`, `Edge Sets`, `Map of Neighbors`]\n",
    "```python\n",
    "graph = {\n",
    "            'A': {'B', 'C'},\n",
    "            'B': {'A', 'D'},\n",
    "            'C': {'A', 'F'},\n",
    "            'D': {'B', 'E'},\n",
    "            'E': {'D'},\n",
    "            'F': {'C'}\n",
    "        }\n",
    "```\n",
    "- Graph Search\n",
    "    - Is the graph *connected*?\n",
    "    - Is node $t$ reachable from node $s$\n",
    "    - Shortest path from $s$ to $t$\n",
    "    \n",
    "<br>\n",
    "\n",
    "- Three tasks in Lab 8\n",
    "    - All nodes reachable from $s$ \n",
    "    - Graph connected or not?\n",
    "    - Components?\n",
    "\n",
    "<br>\n",
    "\n",
    "- Three Sets Considered\n",
    "    - **visited**: the set of vertices already visited\n",
    "    - **frontier**: the unvisited neighbors of the visited vertices\n",
    "    - **unseen**: everything else\n",
    "\n",
    "<br>\n",
    "\n",
    "- Three Algorithms\n",
    "    - Breadth-first Search\n",
    "    - Depth-first Search\n",
    "    - Priority-first Search\n",
    "\n",
    "<center>\n",
    "<img src=\"figures\\graph_search_ex.png\" width=50%/>\n",
    "</center>"
   ]
  },
  {
   "cell_type": "code",
   "execution_count": 5,
   "id": "690e1bd5",
   "metadata": {
    "slideshow": {
     "slide_type": "slide"
    }
   },
   "outputs": [
    {
     "name": "stdout",
     "output_type": "stream",
     "text": [
      "visiting {'A'}\n",
      "visiting {'B', 'C'}\n",
      "visiting {'E', 'G', 'F', 'D'}\n",
      "visiting {'H'}\n"
     ]
    },
    {
     "data": {
      "text/plain": [
       "{'A', 'B', 'C', 'D', 'E', 'F', 'G', 'H'}"
      ]
     },
     "execution_count": 5,
     "metadata": {},
     "output_type": "execute_result"
    }
   ],
   "source": [
    "from functools import reduce\n",
    "\n",
    "def bfs_recursive(graph, source):\n",
    "    \n",
    "    def bfs_helper(visited, frontier):\n",
    "        if len(frontier) == 0:\n",
    "            return visited\n",
    "        else:\n",
    "            # update visited\n",
    "            # X_{i+1} = X_i OR F_i\n",
    "            visited_new = visited | frontier\n",
    "            print('visiting', (visited_new - visited))\n",
    "            visited = visited_new\n",
    "\n",
    "            # update frontier\n",
    "            # F_{i+1} = N(F_i) \\ X_{i+1}\n",
    "            frontier_neighbors = reduce(set.union, [graph[f] for f in frontier])\n",
    "            frontier = frontier_neighbors - visited\n",
    "            return bfs_helper(visited, frontier)\n",
    "\n",
    "    visited = set()\n",
    "    frontier = set([source])        \n",
    "    return bfs_helper(visited, frontier)\n",
    "    \n",
    "\n",
    "# same as example graph above\n",
    "graph = {\n",
    "            'A': {'B', 'C'},\n",
    "            'B': {'A', 'D', 'E'},\n",
    "            'C': {'A', 'F', 'G'},\n",
    "            'D': {'B'},\n",
    "            'E': {'B', 'H'},\n",
    "            'F': {'C'},\n",
    "            'G': {'C'},\n",
    "            'H': {'E'}\n",
    "        }\n",
    "\n",
    "bfs_recursive(graph, 'A')"
   ]
  },
  {
   "cell_type": "code",
   "execution_count": null,
   "id": "7887401e",
   "metadata": {},
   "outputs": [],
   "source": []
  }
 ],
 "metadata": {
  "kernelspec": {
   "display_name": "Python 3 (ipykernel)",
   "language": "python",
   "name": "python3"
  },
  "language_info": {
   "codemirror_mode": {
    "name": "ipython",
    "version": 3
   },
   "file_extension": ".py",
   "mimetype": "text/x-python",
   "name": "python",
   "nbconvert_exporter": "python",
   "pygments_lexer": "ipython3",
   "version": "3.9.7"
  }
 },
 "nbformat": 4,
 "nbformat_minor": 5
}
