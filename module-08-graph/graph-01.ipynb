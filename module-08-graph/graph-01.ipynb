{
 "cells": [
  {
   "cell_type": "code",
   "execution_count": 1,
   "metadata": {
    "code_folding": [],
    "slideshow": {
     "slide_type": "skip"
    }
   },
   "outputs": [
    {
     "name": "stderr",
     "output_type": "stream",
     "text": [
      "/var/folders/58/tt1ykq5j7t70x29f1wjcb1640000gn/T/ipykernel_32622/1251851185.py:2: DeprecationWarning: Importing display from IPython.core.display is deprecated since IPython 7.14, please import from IPython display\n",
      "  from IPython.core.display import display,HTML\n"
     ]
    },
    {
     "data": {
      "text/html": [
       "<style>.prompt{width: 0px; min-width: 0px; visibility: collapse}</style>"
      ],
      "text/plain": [
       "<IPython.core.display.HTML object>"
      ]
     },
     "metadata": {},
     "output_type": "display_data"
    },
    {
     "data": {
      "text/html": [
       "<style>\n",
       "div#notebook {\n",
       " font-family: \"Exo_2\", sans-serif;\n",
       "}\n",
       "\n",
       ".rendered_html h1,\n",
       ".text_cell_render h1 {\n",
       " color: #126dce;\n",
       " font-size: 220%;\n",
       " text-align: center;\n",
       " font-weight: lighter;\n",
       "}\n",
       ".rendered_html h2,\n",
       ".text_cell_render h2 {\n",
       " text-align: center;\n",
       " font-size: 170%;\n",
       " color: #126dce;\n",
       " font-style: normal;\n",
       " font-weight: lighter;\n",
       "}\n",
       ".rendered_html h3,\n",
       ".text_cell_render h3 {\n",
       " font-size: 150%;\n",
       " color: #126dce;\n",
       " font-weight: lighter;\n",
       " text-decoration: italic;\n",
       " font-style: normal;\n",
       "}\n",
       ".rendered_html h4,\n",
       ".text_cell_render h4 {\n",
       " font-size: 120%;\n",
       " color: #126dce;\n",
       " font-weight: underline;\n",
       " font-style: normal;\n",
       "}\n",
       ".rendered_html h5,\n",
       ".text_cell_render h5 {\n",
       " font-size: 100%;\n",
       " color: #2f2f2f;\n",
       " font-weight: lighter;\n",
       " text-decoration: underline;\n",
       "}\n",
       "</style>\n"
      ],
      "text/plain": [
       "<IPython.core.display.HTML object>"
      ]
     },
     "metadata": {},
     "output_type": "display_data"
    }
   ],
   "source": [
    "# setup\n",
    "from IPython.core.display import display,HTML\n",
    "display(HTML('<style>.prompt{width: 0px; min-width: 0px; visibility: collapse}</style>'))\n",
    "display(HTML(open('../rise.css').read()))\n",
    "\n",
    "# imports\n",
    "import numpy as np\n",
    "import matplotlib.pyplot as plt\n",
    "import seaborn as sns\n",
    "%matplotlib inline\n",
    "sns.set(style=\"whitegrid\", font_scale=1.5, rc={'figure.figsize':(12, 6)})\n"
   ]
  },
  {
   "cell_type": "markdown",
   "metadata": {
    "slideshow": {
     "slide_type": "slide"
    }
   },
   "source": [
    "# CMPS 2200\n",
    "# Introduction to Algorithms\n",
    "\n",
    "## Introduction to Graphs\n"
   ]
  },
  {
   "cell_type": "markdown",
   "metadata": {
    "slideshow": {
     "slide_type": "slide"
    }
   },
   "source": [
    "## Graph examples\n",
    "\n",
    "- social networks\n",
    "- Web link graph\n",
    "- transportation\n",
    "- gas pipelines\n",
    "- disease spread\n",
    "\n",
    "<img src=\"figures/transportation.png\" width=\"50%\"/>\n",
    "\n",
    "\n",
    "\n"
   ]
  },
  {
   "cell_type": "markdown",
   "metadata": {
    "slideshow": {
     "slide_type": "slide"
    }
   },
   "source": [
    "## Terminology\n",
    "\n",
    "A graph $G$ consists of\n",
    "- a set of $n$ vertices/nodes $V$ \n",
    "- a set of $m$ edges $E \\subseteq V \\times V$\n",
    "\n",
    "A **graph** is way to represent objects and their relations\n",
    "  - **Node:** represents an object\n",
    "  - **Edge:** represents a relation between two nodes. \n",
    "  - **Neighbor:** Two nodes are *neighbors* if they are connected by an edge.\n",
    "- **Directed Graph:** Represents asymmetric (one-way) relationships\n",
    "- **Undirected Graph:** Represents symmetric relationships\n",
    "\n",
    "\n",
    "\n",
    "<img src=\"figures/graph.png\" width=\"50%\"/>\n",
    "\n",
    "[Source](https://github.com/iit-cs579/main/blob/master/read/ek-02.pdf)\n",
    "\n"
   ]
  },
  {
   "cell_type": "markdown",
   "metadata": {
    "slideshow": {
     "slide_type": "slide"
    }
   },
   "source": [
    "## Graphs queries\n",
    "\n",
    "What are some things you might want to know about a graph? E.g., consider Facebook friendship graph, transport network, etc.\n",
    "\n"
   ]
  },
  {
   "cell_type": "markdown",
   "metadata": {
    "slideshow": {
     "slide_type": "fragment"
    }
   },
   "source": [
    "- Which are neighbor cities with New Orleans?\n",
    "  - find **neighbors** of a node: $$~~~~~~~~~~~~~~~~~~~~~~~~~~N(v) =\\{v_i ~ \\mid (v, v_i) \\in E ~~ \\hbox{or} ~~(v_i, v) \\in E\\}$$\n",
    "  - in-neighbors or out-neighbors for directed graph\n",
    "\n",
    "- How popular is New Orleans?\n",
    "  - **degree**: number of neighbors of a node:  $~~~~~~|N(v)|$\n",
    " "
   ]
  },
  {
   "cell_type": "markdown",
   "metadata": {
    "slideshow": {
     "slide_type": "fragment"
    }
   },
   "source": [
    "\n",
    "- Do I know which city is connected with New Orleans?\n",
    "  - **path**: a sequence of nodes in which each consecutive pair are neighbors\n",
    "  - **reachability**: $a$ is reachable from $b$ if there is a path between them\n",
    "\n",
    "<img src=\"figures/city.png\" width=\"75%\"/>\n",
    "\n"
   ]
  },
  {
   "cell_type": "markdown",
   "metadata": {
    "slideshow": {
     "slide_type": "fragment"
    }
   },
   "source": [
    "- More??\n",
    "  - a graph is **connected** if there is a *path* between each pair of nodes\n",
    "  - **connected component:** A maximal subset of nodes such that each pair of nodes is connected \n",
    "\n",
    "\n",
    "<img src=\"figures/components.png\" width=30%/>\n",
    "\n",
    "\n",
    "[Source](https://github.com/iit-cs579/main/blob/master/read/ek-02.pdf)"
   ]
  },
  {
   "cell_type": "markdown",
   "metadata": {
    "slideshow": {
     "slide_type": "slide"
    }
   },
   "source": [
    "### What data structures can we use to represent a graph?"
   ]
  },
  {
   "cell_type": "markdown",
   "metadata": {
    "slideshow": {
     "slide_type": "fragment"
    }
   },
   "source": [
    "### Adjacency matrix\n",
    "\n",
    "<img src=\"figures/graph.png\" width=\"50%\"/>\n",
    "\n",
    "\n",
    "$$\n",
    "\\begin{bmatrix}\n",
    "  & A & B & C & D\\\\\n",
    "A & 0 & 1 & 0 & 0\\\\\n",
    "B & 1 & 0 & 1 & 1\\\\\n",
    "C & 0 & 1 & 0 & 1\\\\\n",
    "D & 0 & 1 & 1 & 0\\\\\n",
    "\\end{bmatrix}\n",
    "$$\n",
    "\n",
    "$$\n",
    "\\begin{bmatrix}\n",
    "  & A & B & C & D\\\\\n",
    "A & 0 & 1 & 0 & 0\\\\\n",
    "B & 0 & 0 & 1 & 0\\\\\n",
    "C & 0 & 0 & 0 & 1\\\\\n",
    "D & 0 & 1 & 0 & 0\\\\\n",
    "\\end{bmatrix}\n",
    "$$"
   ]
  },
  {
   "cell_type": "code",
   "execution_count": 1,
   "metadata": {
    "scrolled": true,
    "slideshow": {
     "slide_type": "fragment"
    }
   },
   "outputs": [
    {
     "name": "stdout",
     "output_type": "stream",
     "text": [
      "undirected\n",
      "  A    B    C    D\n",
      "---  ---  ---  ---\n",
      "  0    1    0    0\n",
      "  1    0    1    0\n",
      "  0    1    0    1\n",
      "  0    0    1    0\n",
      "\n",
      "directed\n",
      "  A    B    C    D\n",
      "---  ---  ---  ---\n",
      "  0    1    0    0\n",
      "  0    0    1    0\n",
      "  0    0    0    1\n",
      "  0    0    1    0\n"
     ]
    }
   ],
   "source": [
    "import numpy as np\n",
    "from tabulate import tabulate\n",
    "labels = ['A', 'B', 'C', 'D']\n",
    "nodes = [0,1,2,3]\n",
    "edges = [(0,1), (1,2), (2, 3), (3, 2)]\n",
    "\n",
    "def make_graph(nodes, edges, directed=False):\n",
    "    graph = np.zeros((len(nodes), len(nodes)), dtype=int)\n",
    "    for e in edges:\n",
    "        graph[e[0], e[1]] = 1\n",
    "        if not directed: # add reverse direction\n",
    "            graph[e[1], e[0]] = 1\n",
    "    return graph\n",
    "        \n",
    "graph = make_graph(nodes, edges, directed=False)\n",
    "print('undirected')\n",
    "print(tabulate(graph, labels))\n",
    "      \n",
    "digraph = make_graph(nodes, edges, directed=True)\n",
    "print('\\ndirected')\n",
    "print(tabulate(digraph, labels))"
   ]
  },
  {
   "cell_type": "markdown",
   "metadata": {
    "slideshow": {
     "slide_type": "slide"
    }
   },
   "source": [
    "### Find Neighbors"
   ]
  },
  {
   "cell_type": "code",
   "execution_count": 2,
   "metadata": {
    "slideshow": {
     "slide_type": "fragment"
    }
   },
   "outputs": [
    {
     "name": "stdout",
     "output_type": "stream",
     "text": [
      "['A', 'C']\n",
      "['C']\n"
     ]
    }
   ],
   "source": [
    "def neighbors_adjacency(graph, node, labels):\n",
    "    result = []\n",
    "    i = labels.index(node) \n",
    "    l_i = len(graph[i])\n",
    "    for j in range(l_i):\n",
    "        if graph[i,j] != 0:\n",
    "            result.append(labels[j])\n",
    "    return result\n",
    "    \n",
    "print(neighbors_adjacency(graph, 'B', labels))\n",
    "\n",
    "print(neighbors_adjacency(digraph, 'B', labels))"
   ]
  },
  {
   "cell_type": "markdown",
   "metadata": {
    "slideshow": {
     "slide_type": "fragment"
    }
   },
   "source": [
    "Runtime to access neighbors of a node?"
   ]
  },
  {
   "cell_type": "markdown",
   "metadata": {
    "slideshow": {
     "slide_type": "fragment"
    }
   },
   "source": [
    "$O(|V|)$"
   ]
  },
  {
   "cell_type": "markdown",
   "metadata": {
    "slideshow": {
     "slide_type": "fragment"
    }
   },
   "source": [
    "### What is the problem of adjacency matrix in representing a graph?"
   ]
  },
  {
   "cell_type": "markdown",
   "metadata": {
    "slideshow": {
     "slide_type": "fragment"
    }
   },
   "source": [
    "### Space Inefficient\n",
    "\n",
    "If there are $|V|$ nodes, what is the maximum number of edges?\n",
    "\n"
   ]
  },
  {
   "cell_type": "markdown",
   "metadata": {
    "slideshow": {
     "slide_type": "fragment"
    }
   },
   "source": [
    "\n",
    "$$\\frac{|V|(|V|-1)}{2} \\in O(|V|^2)$$\n",
    "\n",
    "\n",
    "....but, if a graph is dense, then there's not really any value in representing the data as a graph.\n",
    "\n",
    "Luckily, most real-world graphs are extremely sparse.\n",
    "\n",
    "\n"
   ]
  },
  {
   "cell_type": "markdown",
   "metadata": {
    "slideshow": {
     "slide_type": "slide"
    }
   },
   "source": [
    "## Edge Sets\n",
    "\n",
    "We could simply store the graph as a set of edges $E$. [**Sparse Graph**]"
   ]
  },
  {
   "cell_type": "code",
   "execution_count": 2,
   "metadata": {
    "slideshow": {
     "slide_type": "fragment"
    }
   },
   "outputs": [
    {
     "data": {
      "text/plain": [
       "{('A', 'B'), ('B', 'C'), ('C', 'D'), ('D', 'B')}"
      ]
     },
     "execution_count": 2,
     "metadata": {},
     "output_type": "execute_result"
    }
   ],
   "source": [
    "edges = set([('A', 'B'),\n",
    "             ('B', 'C'),\n",
    "             ('C', 'D'),\n",
    "             ('D', 'B')])\n",
    "edges"
   ]
  },
  {
   "cell_type": "markdown",
   "metadata": {
    "slideshow": {
     "slide_type": "fragment"
    }
   },
   "source": [
    "How can we access the neighbors of a node?"
   ]
  },
  {
   "cell_type": "code",
   "execution_count": 3,
   "metadata": {
    "slideshow": {
     "slide_type": "fragment"
    }
   },
   "outputs": [
    {
     "data": {
      "text/plain": [
       "['C', 'D', 'A']"
      ]
     },
     "execution_count": 3,
     "metadata": {},
     "output_type": "execute_result"
    }
   ],
   "source": [
    "def neighbors_set(edges, node):    \n",
    "    # assuming an undirected graph\n",
    "    result = []\n",
    "    for e in edges:\n",
    "  \n",
    "    return result\n",
    "\n",
    "neighbors_set(edges, 'B')"
   ]
  },
  {
   "cell_type": "markdown",
   "metadata": {
    "slideshow": {
     "slide_type": "fragment"
    }
   },
   "source": [
    "What is the work/span of accessing neighbors using an edge set? [Considering parallelism.]"
   ]
  },
  {
   "cell_type": "markdown",
   "metadata": {
    "slideshow": {
     "slide_type": "fragment"
    }
   },
   "source": [
    "Work: $O(|E|)$\n",
    "\n",
    "Span: $O(\\lg |E|)$\n",
    "\n",
    "What is the relationship between $|E|$ and $|V|$?\n",
    "\n",
    "<br><br>\n",
    "\n",
    "Can we do better?\n",
    "\n"
   ]
  },
  {
   "cell_type": "markdown",
   "metadata": {
    "slideshow": {
     "slide_type": "slide"
    }
   },
   "source": [
    "# Map of Neighbors\n",
    "\n",
    "We can use a hashmap (`dict`) to store the neighbors of each node.\n"
   ]
  },
  {
   "cell_type": "code",
   "execution_count": 2,
   "metadata": {
    "slideshow": {
     "slide_type": "subslide"
    }
   },
   "outputs": [
    {
     "data": {
      "text/plain": [
       "{'A': {'B'}, 'B': {'A', 'C', 'D'}, 'C': {'B', 'D'}, 'D': {'B', 'C'}}"
      ]
     },
     "execution_count": 2,
     "metadata": {},
     "output_type": "execute_result"
    }
   ],
   "source": [
    "graph = {\n",
    "            'A': {'B'},\n",
    "            'B': {'A', 'C', 'D'},\n",
    "            'C': {'B', 'D'},\n",
    "            'D': {'B', 'C'}\n",
    "        }\n",
    "graph"
   ]
  },
  {
   "cell_type": "code",
   "execution_count": 10,
   "metadata": {
    "slideshow": {
     "slide_type": "fragment"
    }
   },
   "outputs": [
    {
     "data": {
      "text/plain": [
       "{'A', 'B', 'D'}"
      ]
     },
     "execution_count": 10,
     "metadata": {},
     "output_type": "execute_result"
    }
   ],
   "source": [
    "def neighbors_map(graph, node):\n",
    "    return graph[node]\n",
    "\n",
    "neighbors_map(graph, 'B')"
   ]
  },
  {
   "cell_type": "markdown",
   "metadata": {
    "slideshow": {
     "slide_type": "subslide"
    }
   },
   "source": [
    "Constant time to lookup the neighbors of a node.\n",
    "\n",
    "But, to enumerate all the neighbors, it could take $|V|$ in the worst-case.\n",
    "\n",
    "So, same as the Adjacency Matrix, but with $O(|E|)$ space, instead of $O(|V|^2)$\n",
    "\n"
   ]
  },
  {
   "cell_type": "markdown",
   "metadata": {
    "slideshow": {
     "slide_type": "slide"
    }
   },
   "source": [
    "## Graph Search\n",
    "\n",
    "One of the fundamental operations over graphs\n",
    "\n",
    "- Start at a *source* node *s*\n",
    "- Visit all *reachable* nodes \n",
    "  - $t$ is reachable from $s$ if there is a path between them\n",
    "- For efficiency, visit each node at most once.\n",
    "\n",
    "\n",
    "<br><br>\n",
    "Can be used to solve a number of problem:\n",
    "\n",
    "- Is the graph *connected*?\n",
    "- Is node $t$ reachable from node $s$\n",
    "- Shortest path from $s$ to $t$\n"
   ]
  },
  {
   "cell_type": "markdown",
   "metadata": {
    "slideshow": {
     "slide_type": "slide"
    }
   },
   "source": [
    "## Generic Graph Search\n",
    "\n",
    "Consider the task of crawling every web page reachable from a starting page $s$.\n",
    "\n",
    "How would you do this?\n",
    "\n"
   ]
  },
  {
   "cell_type": "markdown",
   "metadata": {
    "slideshow": {
     "slide_type": "fragment"
    }
   },
   "source": [
    "At any point in the search, a vertex can be in one of three sets:\n",
    "\n",
    "- **visited**: the set of vertices already visited\n",
    "- **frontier**: the unvisited neighbors of the visited vertices\n",
    "- **unseen**: everything else"
   ]
  },
  {
   "cell_type": "markdown",
   "metadata": {
    "slideshow": {
     "slide_type": "fragment"
    }
   },
   "source": [
    "We can then describe a generic search algorithm as follows:\n",
    "\n",
    "> while vertices remain to be visited:\n",
    "- visit some unvisited nodes in the frontier\n",
    "- update the three sets\n",
    "\n",
    "\n",
    "<img src=\"figures/components.png\" width=30%/>\n",
    "\n",
    "\n",
    "```python \n",
    "\n",
    "def generic_search(graph, start_node, get_next_node_fn):\n",
    "    visited = set([start_node])\n",
    "    frontier = set([start_node])\n",
    "    while len(frontier) != 0:\n",
    "        print('frontier', frontier)\n",
    "        ## pick a node\n",
    "        node = get_next_node_fn(frontier)\n",
    "        print('visiting', node)\n",
    "        \n",
    "        ## update visited set\n",
    "        visited.add(node)\n",
    "        \n",
    "        ## update frontier set\n",
    "        for ni in graph[node]:\n",
    "            if ni not in visited:\n",
    "                frontier.add(ni)\n",
    "                \n",
    "    return visited\n",
    "\n",
    "\n",
    "```"
   ]
  },
  {
   "cell_type": "markdown",
   "metadata": {
    "slideshow": {
     "slide_type": "slide"
    }
   },
   "source": [
    "Given a graph:\n",
    "- Is the graph *connected*?\n",
    "- Is node $t$ reachable from node $s$"
   ]
  }
 ],
 "metadata": {
  "celltoolbar": "Slideshow",
  "kernelspec": {
   "display_name": "Python 3 (ipykernel)",
   "language": "python",
   "name": "python3"
  },
  "language_info": {
   "codemirror_mode": {
    "name": "ipython",
    "version": 3
   },
   "file_extension": ".py",
   "mimetype": "text/x-python",
   "name": "python",
   "nbconvert_exporter": "python",
   "pygments_lexer": "ipython3",
   "version": "3.9.6"
  },
  "rise": {
   "autolaunch": true,
   "controls": false,
   "enable_chalkboard": true,
   "scroll": true,
   "theme": "simple",
   "transition": "fade"
  },
  "toc": {
   "base_numbering": 1,
   "nav_menu": {},
   "number_sections": true,
   "sideBar": true,
   "skip_h1_title": true,
   "title_cell": "Table of Contents",
   "title_sidebar": "Contents",
   "toc_cell": true,
   "toc_position": {},
   "toc_section_display": true,
   "toc_window_display": false
  }
 },
 "nbformat": 4,
 "nbformat_minor": 4
}
