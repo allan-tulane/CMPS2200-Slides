{
 "cells": [
  {
   "cell_type": "markdown",
   "metadata": {
    "slideshow": {
     "slide_type": "slide"
    }
   },
   "source": [
    "### Final Exam\n",
    "There will be two parts like Mid-term exam. We will cover the content:\n",
    "- Randomized Algorithm\n",
    "- Greedy Algorithm\n",
    "- Dynamic Programimg\n",
    "- Graph Search\n",
    "- Spaning Tree\n",
    "\n",
    "> Part I is in-person from 1:00PM-3:00PM, May 5.\n",
    "\n",
    "> Part II is take-home from 12:00AM, May 5 to 11:59PM, May 7. "
   ]
  },
  {
   "cell_type": "markdown",
   "metadata": {
    "slideshow": {
     "slide_type": "slide"
    }
   },
   "source": [
    "### Questions # 1\n",
    "\n",
    "Which of the following statements about Minimum Spanning Trees is always true?\n",
    "\n",
    "- A) MST is always unique.\n",
    "- B) MST always includes the smallest weight edge incident to every vertex.\n",
    "- C) MST always minimizes the total edge weight among all spanning trees.\n",
    "- D) MST is a subgraph that may contain cycles.\n",
    "\n",
    "\n",
    "Answer: C"
   ]
  },
  {
   "cell_type": "markdown",
   "metadata": {
    "slideshow": {
     "slide_type": "slide"
    }
   },
   "source": [
    "### Questions # 2\n",
    "\n",
    "Which of the following actions will definitely not change the MST?\n",
    "\n",
    "- A) Adding a new edge with a very large weight.\n",
    "- B) Decreasing the weight of an edge in the MST.\n",
    "- C) Increasing the weight of an edge not in the MST.\n",
    "- D) Decreasing the weight of an edge not in the MST.\n",
    "\n",
    "\n",
    "Answer: C"
   ]
  },
  {
   "cell_type": "markdown",
   "metadata": {
    "slideshow": {
     "slide_type": "slide"
    }
   },
   "source": [
    "### Questions # 3\n",
    "\n",
    "Which of the following statements is TRUE?\n",
    "\n",
    "- A) A graph’s MST always contains the edge with the smallest weight.\n",
    "\n",
    "- B) A graph’s MST always contains the edge with the largest weight.\n",
    "\n",
    "- C) If all edges have the same weight, then every spanning tree is an MST.\n",
    "\n",
    "- D) If the graph is not connected, MST still exists but only for each component separately.\n",
    "\n",
    "Answer: C"
   ]
  },
  {
   "cell_type": "markdown",
   "metadata": {
    "slideshow": {
     "slide_type": "slide"
    }
   },
   "source": [
    "### Questions # 4\n",
    "\n",
    "In Prim's algorithm, if implemented with an adjacency matrix (no heap), what is the time complexity?\n",
    "\n",
    "- A) $O(V^2)$\n",
    " \n",
    "- B) $O(E\\log V)$\n",
    "\n",
    "- C) $O(E+V\\log V)$\n",
    "\n",
    "- D) $O(V+E)$\n",
    "\n",
    "Answer: A\n",
    "\n"
   ]
  }
 ],
 "metadata": {
  "celltoolbar": "Slideshow",
  "kernelspec": {
   "display_name": "Python 3 (ipykernel)",
   "language": "python",
   "name": "python3"
  },
  "language_info": {
   "codemirror_mode": {
    "name": "ipython",
    "version": 3
   },
   "file_extension": ".py",
   "mimetype": "text/x-python",
   "name": "python",
   "nbconvert_exporter": "python",
   "pygments_lexer": "ipython3",
   "version": "3.12.2"
  },
  "rise": {
   "autolaunch": true,
   "controls": false,
   "enable_chalkboard": true,
   "scroll": true,
   "theme": "simple",
   "transition": "fade"
  },
  "toc": {
   "base_numbering": 1,
   "nav_menu": {},
   "number_sections": true,
   "sideBar": true,
   "skip_h1_title": true,
   "title_cell": "Table of Contents",
   "title_sidebar": "Contents",
   "toc_cell": true,
   "toc_position": {},
   "toc_section_display": true,
   "toc_window_display": false
  }
 },
 "nbformat": 4,
 "nbformat_minor": 4
}
