{
 "cells": [
  {
   "cell_type": "code",
   "execution_count": 2,
   "metadata": {
    "code_folding": [],
    "slideshow": {
     "slide_type": "skip"
    }
   },
   "outputs": [
    {
     "data": {
      "text/html": [
       "<style>.prompt{width: 0px; min-width: 0px; visibility: collapse}</style>"
      ],
      "text/plain": [
       "<IPython.core.display.HTML object>"
      ]
     },
     "metadata": {},
     "output_type": "display_data"
    },
    {
     "data": {
      "text/html": [
       "<style>\n",
       "div#notebook {\n",
       " font-family: \"Exo_2\", sans-serif;\n",
       "}\n",
       "\n",
       ".rendered_html h1,\n",
       ".text_cell_render h1 {\n",
       " color: #126dce;\n",
       " font-size: 220%;\n",
       " text-align: center;\n",
       " font-weight: lighter;\n",
       "}\n",
       ".rendered_html h2,\n",
       ".text_cell_render h2 {\n",
       " text-align: center;\n",
       " font-size: 170%;\n",
       " color: #126dce;\n",
       " font-style: normal;\n",
       " font-weight: lighter;\n",
       "}\n",
       ".rendered_html h3,\n",
       ".text_cell_render h3 {\n",
       " font-size: 150%;\n",
       " color: #126dce;\n",
       " font-weight: lighter;\n",
       " text-decoration: italic;\n",
       " font-style: normal;\n",
       "}\n",
       ".rendered_html h4,\n",
       ".text_cell_render h4 {\n",
       " font-size: 120%;\n",
       " color: #126dce;\n",
       " font-weight: underline;\n",
       " font-style: normal;\n",
       "}\n",
       ".rendered_html h5,\n",
       ".text_cell_render h5 {\n",
       " font-size: 100%;\n",
       " color: #2f2f2f;\n",
       " font-weight: lighter;\n",
       " text-decoration: underline;\n",
       "}\n",
       "</style>\n"
      ],
      "text/plain": [
       "<IPython.core.display.HTML object>"
      ]
     },
     "metadata": {},
     "output_type": "display_data"
    }
   ],
   "source": [
    "# setup\n",
    "from IPython.core.display import display,HTML\n",
    "display(HTML('<style>.prompt{width: 0px; min-width: 0px; visibility: collapse}</style>'))\n",
    "display(HTML(open('rise.css').read()))\n",
    "\n",
    "# imports\n",
    "import numpy as np\n",
    "import matplotlib.pyplot as plt\n",
    "import seaborn as sns\n",
    "%matplotlib inline\n",
    "sns.set(style=\"whitegrid\", font_scale=1.5, rc={'figure.figsize':(12, 6)})\n"
   ]
  },
  {
   "cell_type": "markdown",
   "metadata": {
    "slideshow": {
     "slide_type": "slide"
    }
   },
   "source": [
    "# CMPS 2200\n",
    "# Introduction to Algorithms\n",
    "\n",
    "## Randomized Algorithms - Selection\n"
   ]
  },
  {
   "cell_type": "markdown",
   "metadata": {
    "slideshow": {
     "slide_type": "slide"
    }
   },
   "source": [
    "#### Selection: Finding the $k$-th minimal element given a sequence\n",
    "\n",
    "Given an unsorted list $a$ and an integer $k$ ($0\\leq k< |a|$), the **order statistics** (or **selection**) problem asks us to return the $k$-th smallest element from $a$. \n",
    "\n",
    ">We also refer to the $k$-th smallest element as the element of *rank* $k$.  \n",
    "\n",
    "<span style=\"color:orange\">Example</span>: Let $a=\\langle 2, 5, 4, 1, 3, -1, 99\\rangle.$ For $k=0$, the \"$0$-th smallest\" element is the minimum element in $a$, or $-1$. For $k=n-1$, it is the maximum, or $99$. For $k=3$, we return $3$.\n"
   ]
  },
  {
   "cell_type": "markdown",
   "metadata": {
    "slideshow": {
     "slide_type": "fragment"
    }
   },
   "source": [
    "<span style=\"color:green\">**Brute Force**??</span> Search Space, Work/Span?\n"
   ]
  },
  {
   "cell_type": "markdown",
   "metadata": {
    "slideshow": {
     "slide_type": "fragment"
    }
   },
   "source": [
    "<span style=\"color:red\">**Reduction**??</span> lower bound and upper bound? \n",
    "\n"
   ]
  },
  {
   "cell_type": "markdown",
   "metadata": {
    "slideshow": {
     "slide_type": "fragment"
    }
   },
   "source": [
    "**Problem A**: Finding the $k$-th minimal element<br><br>\n",
    "\n",
    "**Problem B**: Sorting<br>\n",
    "**Problem C**: Finding the minimal element\n"
   ]
  },
  {
   "cell_type": "markdown",
   "metadata": {
    "slideshow": {
     "slide_type": "fragment"
    }
   },
   "source": [
    "First, any algorithm for this problem requires $\\Omega(n)$ work. \n",
    "\n",
    "<span style=\"color:blue\">Quiz:</span> $\\Omega(n), \\Theta(n), \\mathcal{O}(n)$\n",
    "\n",
    "> Check $f(n) = n^2, ~~~g(n) = \\sqrt(n), ~~~h(n) = \\log^2 n$"
   ]
  },
  {
   "cell_type": "markdown",
   "metadata": {
    "slideshow": {
     "slide_type": "fragment"
    }
   },
   "source": [
    "Second, we can reduce this problem to sorting: we sort $a$ and return the $k$-th element of this sorted list. This requires $O(n\\log n)$ time. "
   ]
  },
  {
   "cell_type": "markdown",
   "metadata": {
    "slideshow": {
     "slide_type": "slide"
    }
   },
   "source": [
    "\n",
    "Can we do any better? Sorting seems like overkill since we don't really need to rearrange all the elements, or even return a list."
   ]
  },
  {
   "cell_type": "markdown",
   "metadata": {
    "slideshow": {
     "slide_type": "fragment"
    }
   },
   "source": [
    "A useful observation is that the $k$-th smallest element in the list *partitions* the list into:\n",
    "- a set of $k$ smaller elements, \n",
    "- a set of $n$-$k$-$1$ larger elements. \n",
    "\n",
    "Example: Suppose $a=\\langle 2, 5, 4, 1, 3, -1, 99\\rangle$ and $k=3$. So $3$ is larger than $\\langle 2, 1, -1 \\rangle$ and smaller than $\\langle5, 4, 99\\rangle$.\n",
    "\n"
   ]
  },
  {
   "cell_type": "markdown",
   "metadata": {
    "slideshow": {
     "slide_type": "slide"
    }
   },
   "source": [
    "Notice that *for any* element $x$ in the list, we can look at each element in the list to compute the rank of $x$. This can be done in $O(n)$ work and $O(\\log n)$ span. \n",
    "\n",
    "\n",
    "\n"
   ]
  },
  {
   "cell_type": "markdown",
   "metadata": {
    "slideshow": {
     "slide_type": "fragment"
    }
   },
   "source": [
    "\n",
    "<br>\n",
    "<br>\n",
    "<br>\n",
    "\n",
    "<span style=\"color:Blue\">Example</span>: Suppose $a=\\langle 2, 5, 4, 1, 3, -1, 99\\rangle$ and $k=3$. \n",
    "\n",
    "For $a[0] = 2$, it is larger than 2 elements ($\\langle 1, -1 \\rangle$) and smaller than 5 elements ($\\langle 5, 4, 3, 99\\rangle$).\n",
    "\n",
    "\n",
    "<br><br>\n",
    "We can see from this example that once we've identified 3 smaller elements ($\\langle 1, -1 \\rangle$ and $2$), the element of rank $k=3$ in $a$ must be in $\\langle5, 4, 3, 99\\rangle$. Moreover, it's new rank is $k-3 = 0$ in this list. \n",
    "\n",
    "This is a little like binary search, but with the partition step helping establish some order."
   ]
  },
  {
   "cell_type": "markdown",
   "metadata": {
    "slideshow": {
     "slide_type": "slide"
    }
   },
   "source": [
    "This observation motivates the following recursive algorithm:\n",
    "\n",
    "<p>\\begin{array}{ll}  \n",
    "\\mathit{simple\\_select}~a~k =   \n",
    "\\\\  \n",
    "~~\\texttt{let}  \n",
    "\\\\  \n",
    "~~~~p = a[0]   \n",
    "\\\\  \n",
    "~~~~\\ell = \\left\\langle\\, x \\in a \\;|\\; x < p \\,\\right\\rangle  \n",
    "\\\\  \n",
    "~~~~r = \\left\\langle\\, x \\in a \\;|\\; x > p \\,\\right\\rangle  \n",
    "\\\\  \n",
    "~~\\texttt{in}  \n",
    "\\\\  \n",
    "~~~~\\texttt{if}~(k < |\\ell|)~\\texttt{then}~\\mathit{simple\\_select}~\\ell~k  \n",
    "\\\\  \n",
    "~~~~\\texttt{else if}~(k < |a| - |r|)~\\texttt{then}~p  \n",
    "\\\\  \n",
    "~~~~\\texttt{else}~\\mathit{simple\\_select}~r~(k - (|a| - |r|))  \n",
    "\\\\  \n",
    "~~\\texttt{end}  \n",
    "\\end{array}</p>\n"
   ]
  },
  {
   "cell_type": "code",
   "execution_count": 1,
   "metadata": {
    "slideshow": {
     "slide_type": "fragment"
    }
   },
   "outputs": [
    {
     "name": "stdout",
     "output_type": "stream",
     "text": [
      "\n",
      "a= [2, 5, 4, 1, 3, -1, 99] k= 3 p= 2\n",
      "l= [1, -1] r= [5, 4, 3, 99]\n",
      "...recursing with r=[5, 4, 3, 99] and k=0\n",
      "\n",
      "a= [5, 4, 3, 99] k= 0 p= 5\n",
      "l= [4, 3] r= [99]\n",
      "...recursing with l=[4, 3] and k=0\n",
      "\n",
      "a= [4, 3] k= 0 p= 4\n",
      "l= [3] r= []\n",
      "...recursing with l=[3] and k=0\n",
      "\n",
      "a= [3] k= 0 p= 3\n",
      "l= [] r= []\n",
      "...returning p=3\n"
     ]
    },
    {
     "data": {
      "text/plain": [
       "3"
      ]
     },
     "execution_count": 1,
     "metadata": {},
     "output_type": "execute_result"
    }
   ],
   "source": [
    "def simple_select(a, k):\n",
    "    p = a[0]\n",
    "    print('\\na=', a, 'k=', k, 'p=', p)\n",
    "    l = list(filter(lambda x: x < p, a))  \n",
    "    r = list(filter(lambda x: x > p, a))  \n",
    "    print('l=', l, 'r=', r)\n",
    "    if k < len(l):\n",
    "        print('...recursing with l=%s and k=%d' % (str(l), k))\n",
    "        return simple_select(l, k)\n",
    "    elif k < len(a) - len(r):\n",
    "        print('...returning p=%d' % p)\n",
    "        return p\n",
    "    else:\n",
    "        print('...recursing with r=%s and k=%d' % (str(r), k - (len(a) -  len(r))))\n",
    "        return simple_select(r, k - (len(a) -  len(r)))\n",
    "    \n",
    "# -1, 1, 2, 3, 4, 5, 99\n",
    "# k=3 -> 3\n",
    "# k=0 -> -1\n",
    "# k=6 -> 99\n",
    "simple_select([2,5,4,1,3,-1,99], 3)"
   ]
  },
  {
   "cell_type": "markdown",
   "metadata": {
    "slideshow": {
     "slide_type": "fragment"
    }
   },
   "source": [
    "\n",
    "We just have one recursive call so no parallelism there. However, we can use filter to partition in parallel. This has $O(n)$ work $O(\\log n)$ span.\n",
    "\n",
    "What is the total work over all recursions? We know that the work in each recursive call is \n",
    "$$\\max\\{W(\\mid l\\mid), W(\\mid r\\mid)\\} + O(n)$$\n",
    "\n",
    "<span style=\"color:blue\">What is the worst case?? Is this divide-and-conquer or not?</span>"
   ]
  },
  {
   "cell_type": "markdown",
   "metadata": {
    "slideshow": {
     "slide_type": "fragment"
    }
   },
   "source": [
    "Consider the case where $a$ is a sorted list. Then in every call, $\\ell = \\emptyset$, and $\\mid r\\mid = n-1$. So we would we have $W(n) = W(n-1) + n = O(n^2)$. This is worse than just sorting the list!\n",
    "\n",
    "Moreover the span is $S(n) = S(n-1) + \\lg n \\in O(n\\lg n)$ - far worse than sorting $O(\\lg^2 n)$!\n",
    "\n"
   ]
  },
  {
   "cell_type": "markdown",
   "metadata": {
    "slideshow": {
     "slide_type": "slide"
    }
   },
   "source": [
    "#### What can we do?\n",
    "\n",
    "<img width=\"60%\" src=\"hope_pray.jpeg\"/>\n"
   ]
  },
  {
   "cell_type": "markdown",
   "metadata": {
    "slideshow": {
     "slide_type": "slide"
    }
   },
   "source": [
    "### Randomized Algorithms\n",
    "\n",
    "When we don't know exactly how to proceed in solving a problem, we can make a random choice and hope we made the right one.\n",
    "\n",
    "Alternately, we can view randomization as helping us avoid always making the worst/wrong choice. \n",
    "\n",
    "Additionally for instances where we might not have a good way to proceed, we can \"guess\" an answer and \"hope\" it's a good choice. \n",
    "\n",
    "What does \"hope\" mean, computationally? A proof that at least most of the time, we are correct/efficient.\n",
    "\n",
    "<br><br>\n",
    "Randomized algorithms can often be:\n",
    "\n",
    "1- easier to understand\n",
    "\n",
    "2- faster\n",
    "\n",
    "3- more robust to adversarial input (cryptography)"
   ]
  },
  {
   "cell_type": "markdown",
   "metadata": {
    "slideshow": {
     "slide_type": "slide"
    }
   },
   "source": [
    "The problem is that we just don't know anything about the element we're using for the partition. How do we avoid this worst case?\n",
    "\n",
    "Pick a random element, or **pivot**, for partitioning!\n",
    "\n",
    "<p>\\begin{array}{ll}  \n",
    "\\mathit{select}~a~k =   \n",
    "\\\\  \n",
    "~~\\texttt{let}  \n",
    "\\\\  \n",
    "~~~~p = \\mbox{pick a uniformly random element from}~a   \n",
    "\\\\  \n",
    "~~~~\\ell = \\left\\langle\\, x \\in a \\;|\\; x < p \\,\\right\\rangle  \n",
    "\\\\  \n",
    "~~~~r = \\left\\langle\\, x \\in a \\;|\\; x > p \\,\\right\\rangle  \n",
    "\\\\  \n",
    "~~\\texttt{in}  \n",
    "\\\\  \n",
    "~~~~\\texttt{if}~(k < |\\ell|)~\\texttt{then}~\\mathit{select}~\\ell~k  \n",
    "\\\\  \n",
    "~~~~\\texttt{else if}~(k < |a| - |r|)~\\texttt{then}~p  \n",
    "\\\\  \n",
    "~~~~\\texttt{else}~\\mathit{select}~r~(k - (|a| - |r|))  \n",
    "\\\\  \n",
    "~~\\texttt{end}  \n",
    "\\end{array}</p>\n"
   ]
  },
  {
   "cell_type": "code",
   "execution_count": 5,
   "metadata": {
    "scrolled": true,
    "slideshow": {
     "slide_type": "fragment"
    }
   },
   "outputs": [
    {
     "name": "stdout",
     "output_type": "stream",
     "text": [
      "\n",
      "a= [2, 5, 4, 1, 3, -1, 99] k= 3 p= -1\n",
      "l= [] r= [2, 5, 4, 1, 3, 99]\n",
      "...recursing with r=[2, 5, 4, 1, 3, 99] and k=2\n",
      "\n",
      "a= [2, 5, 4, 1, 3, 99] k= 2 p= 5\n",
      "l= [2, 4, 1, 3] r= [99]\n",
      "...recursing with l=[2, 4, 1, 3] and k=2\n",
      "\n",
      "a= [2, 4, 1, 3] k= 2 p= 3\n",
      "l= [2, 1] r= [4]\n",
      "...returning p=3\n"
     ]
    },
    {
     "data": {
      "text/plain": [
       "3"
      ]
     },
     "execution_count": 5,
     "metadata": {},
     "output_type": "execute_result"
    }
   ],
   "source": [
    "import random\n",
    "# random.seed(42)  # for repeatability\n",
    "\n",
    "def select(a, k):\n",
    "    p = random.choice(a)\n",
    "    print('\\na=', a, 'k=', k, 'p=', p)\n",
    "    l = list(filter(lambda x: x < p, a))  # O(|a|) work, O(log|a|) span\n",
    "    r = list(filter(lambda x: x > p, a))  # O(|a|) work, O(log|a|) span\n",
    "    print('l=', l, 'r=', r)\n",
    "    if k < len(l):\n",
    "        print('...recursing with l=%s and k=%d' % (str(l), k))\n",
    "        return select(l, k)\n",
    "    elif k < len(a) - len(r):\n",
    "        print('...returning p=%d' % p)\n",
    "        return p\n",
    "    else:\n",
    "        print('...recursing with r=%s and k=%d' % (str(r), k - (len(a) -  len(r))))\n",
    "        return select(r, k - (len(a) -  len(r)))\n",
    "    \n",
    "select([2,5,4,1,3,-1,99], 3)"
   ]
  },
  {
   "cell_type": "markdown",
   "metadata": {
    "slideshow": {
     "slide_type": "slide"
    }
   },
   "source": [
    "\n",
    "If we get a sorted list as input, what is the probability of the worst-case?\n",
    "\n",
    "The size of the $l$ and $r$ will depend on the random choice. Thus, the recurrences describing the work and span depend on each random choice and we need to find their **expected asymptotic work/span**."
   ]
  },
  {
   "cell_type": "markdown",
   "metadata": {
    "slideshow": {
     "slide_type": "slide"
    }
   },
   "source": [
    "### Expected Work and Span\n",
    "\n",
    "**Expectation** of a random variable $X$ defined for a probability space $(\\Omega, \\mathbf{P})$ is denoted ($\\Omega$ is the sample space):\n",
    "\n",
    "$$ \\mathbf{E}\\left[{X}\\right] = \\sum_{x} x \\cdot \\mathbf{P}\\left[X = x\\right]. $$\n",
    "\n"
   ]
  },
  {
   "cell_type": "markdown",
   "metadata": {
    "slideshow": {
     "slide_type": "fragment"
    }
   },
   "source": [
    "``Example 1``: Let $X$ be the sum value of **a pair of dice**. Each trial is independent. "
   ]
  },
  {
   "cell_type": "markdown",
   "metadata": {
    "slideshow": {
     "slide_type": "fragment"
    }
   },
   "source": [
    "$X$ can take on values between 2 and 12, where each has a certain probability based on the possible ways the dice can sum to that value.  What is the expected value of the value of a pair of unbiased dice? "
   ]
  },
  {
   "cell_type": "markdown",
   "metadata": {
    "slideshow": {
     "slide_type": "fragment"
    }
   },
   "source": [
    "\n",
    "$\\begin{eqnarray*}\n",
    "\\mathbf{E}\\left[{X}\\right] &=& \\sum_{x=2}^{12} x \\cdot \\mathbf{P}\\left[X = x\\right] \\\\\n",
    "&=& 2\\cdot\\frac{1}{36} + 3\\cdot\\frac{2}{36} + 4\\cdot\\frac{3}{36} + \\cdots + 11\\cdot\\frac{2}{36} + 12\\cdot\\frac{1}{36}\\\\\n",
    "& = & 7\n",
    "\\end{eqnarray*}$"
   ]
  },
  {
   "cell_type": "markdown",
   "metadata": {
    "slideshow": {
     "slide_type": "slide"
    }
   },
   "source": [
    "#### One More Example: Randomly filtering elements\n",
    "\n",
    "Suppose we are given a list $L$ of length $n$. \n",
    "\n",
    "For each element we flip an unbiased coin $x_i$. Return a list $R$ with $L[i]$ such that $x_i$ is heads.\n",
    "\n",
    "What is the expected size of $R$?\n"
   ]
  },
  {
   "cell_type": "markdown",
   "metadata": {
    "slideshow": {
     "slide_type": "fragment"
    }
   },
   "source": [
    "Let $X_i$ be an indicator random variable that is 1 if element $i$ is chosen, and 0 otherwise. The size of $R$ could be formulated as $X = \\sum_{i=0}^{n-1} X_i$. So by **linearity of expectation**, we can compute:\n",
    "\n",
    "$$\\mathbf{E}[X] = \\sum_{i=0}^{n-1} \\mathbf{E}[X_i].$$\n",
    "\n",
    "Now notice that by the definition of expectation \n",
    "\n",
    "$$E[X_i] = 0\\cdot \\mathbf{P}[X_i = 0] + 1\\cdot\\mathbf{P}[X_i = 1] = \\mathbf{P}[X_i = 1].$$\n",
    "\n",
    "Since we flip a coin for each element independently, $\\mathbf{P}[X_i = 1] = 1/2.$ Thus, $\\mathbf{E}[X_i] = 1/2$ for all $i$. So we have that\n",
    "\n",
    "$$\\mathbf{E}[X] = \\sum_{i=0}^{n-1} \\frac{1}{2} = \\frac{n}{2}.$$\n",
    "\n",
    "\n",
    "So the expected size of $R$ is $n/2$."
   ]
  },
  {
   "cell_type": "markdown",
   "metadata": {
    "slideshow": {
     "slide_type": "fragment"
    }
   },
   "source": [
    "How about considering the expected size directly?\n",
    "\n",
    "Let $X$ be the size of $R$. What is the possible value of $X$? What is the probability per each value?\n",
    "\n",
    "<br>\n",
    "<br>\n",
    "<br>\n",
    "\n",
    "$X$ can be from 0 to $n$\n",
    "\n",
    "What is $P[X]$?\n",
    "\n",
    "<br>\n",
    "<br>\n",
    "<br>\n",
    "<br>\n",
    "\n",
    "$$\\mathbf{E}[X] = 0\\frac{C_n^0}{2^n}+1\\frac{C_n^1}{2^n}+2\\frac{C_n^2}{2^n}+\\cdots + n\\frac{C_n^n}{2^n} = \\frac{n2^{n-1}}{2^n} = \\frac{n}{2} $$"
   ]
  },
  {
   "cell_type": "markdown",
   "metadata": {
    "slideshow": {
     "slide_type": "slide"
    }
   },
   "source": [
    "``Example 3``: Let's look at coin flips where we have equal probability of heads/tails, and define $X$ as the number of flips until we get heads. What is $E[X]$? "
   ]
  },
  {
   "cell_type": "markdown",
   "metadata": {
    "slideshow": {
     "slide_type": "fragment"
    }
   },
   "source": [
    "Observe that:\n",
    "\n",
    "$\\begin{eqnarray*}\n",
    "E[X] &=& \\frac{1}{2}\\times{1} + \\frac{1}{2}\\times(1+E[X]) \\\\\n",
    "\\end{eqnarray*}$\n",
    "\n",
    "Solving for $E[X]$, we get that $E[X] = 2$. \n",
    "\n"
   ]
  },
  {
   "cell_type": "markdown",
   "metadata": {
    "slideshow": {
     "slide_type": "fragment"
    }
   },
   "source": [
    "One more solution:\n",
    "\n",
    "$\\begin{eqnarray*}\n",
    "E[X] &=& \\frac{1}{2}\\times{1} + \\Big(\\frac{1}{2}\\Big)^2\\times{2}+\\Big(\\frac{1}{2}\\Big)^3\\times{3}+\\cdots\\Big(\\frac{1}{2}\\Big)^i\\times{i} ~~~(i\\rightarrow \\infty)\\\\\n",
    "& = & \\sum_{i=1}^{\\infty}\\Big(\\frac{1}{2}\\Big)^i\\times{i}\\\\\n",
    "& = & 2\\\\\n",
    "\\end{eqnarray*}$"
   ]
  },
  {
   "cell_type": "markdown",
   "metadata": {
    "slideshow": {
     "slide_type": "fragment"
    }
   },
   "source": [
    "More generally, the expected number of trials to get an outcome of probability $p$ is $1/p$. (We'll see this later.)\n"
   ]
  },
  {
   "cell_type": "markdown",
   "metadata": {
    "slideshow": {
     "slide_type": "slide"
    }
   },
   "source": [
    "When using randomization we usually have one of two types of algorithms.\n",
    "\n",
    "A **Monte Carlo** randomized algorithm has a **deterministic** worst-case runtime but a randomized output that is correct with some probability.\n",
    "\n",
    "A **Las Vegas** randomized algorithm always produces a correct solution, but has an **expected** runtime.  \n",
    "\n",
    "We will focus on Las Vegas algorithms."
   ]
  },
  {
   "cell_type": "markdown",
   "metadata": {
    "slideshow": {
     "slide_type": "slide"
    }
   },
   "source": [
    "<p>\\begin{array}{ll}  \n",
    "\\mathit{select}~a~k =   \n",
    "\\\\  \n",
    "~~\\texttt{let}  \n",
    "\\\\  \n",
    "~~~~p = \\mbox{pick a uniformly random element from}~a   \n",
    "\\\\  \n",
    "~~~~\\ell = \\left\\langle\\, x \\in a \\;|\\; x < p \\,\\right\\rangle  \n",
    "\\\\  \n",
    "~~~~r = \\left\\langle\\, x \\in a \\;|\\; x > p \\,\\right\\rangle  \n",
    "\\\\  \n",
    "~~\\texttt{in}  \n",
    "\\\\  \n",
    "~~~~\\texttt{if}~(k < |\\ell|)~\\texttt{then}~\\mathit{select}~\\ell~k  \n",
    "\\\\  \n",
    "~~~~\\texttt{else if}~(k < |a| - |r|)~\\texttt{then}~p  \n",
    "\\\\  \n",
    "~~~~\\texttt{else}~\\mathit{select}~r~(k - (|a| - |r|))  \n",
    "\\\\  \n",
    "~~\\texttt{end}  \n",
    "\\end{array}</p>\n"
   ]
  },
  {
   "cell_type": "markdown",
   "metadata": {
    "slideshow": {
     "slide_type": "fragment"
    }
   },
   "source": [
    "Let's get some intution for what's happening. We saw that the work of our algorithm depends on $\\max\\{W(\\mid l\\mid), W(\\mid r\\mid)\\}$ in each recursive call. While there is only a $1/n$ probability of choosing a balanced split, any constant fraction reduction in the size of the larger list yields good performance. "
   ]
  },
  {
   "cell_type": "markdown",
   "metadata": {
    "slideshow": {
     "slide_type": "fragment"
    }
   },
   "source": [
    "Let $X(n)$ be the fractional size of the larger side of the split, for an input of size $n$. So \n",
    "\n",
    "$$X(n) = \\frac{\\max{\\{|l|, |r|\\}}}{n}$$\n",
    "\n",
    "e.g., $n=6$\n",
    "\n",
    "|i  | len(l) | len(r)  | X(i) |\n",
    "|---|--------|---------|------|\n",
    "|0  | 0      | 5       | 5/6  |\n",
    "|1  | 1      | 4       | 4/6  |\n",
    "|2  | 2      | 3       | 3/6  |\n",
    "|3  | 3      | 2       | 3/6  |\n",
    "|4  | 4      | 1       | 4/6  |\n",
    "|5  | 5      | 0       | 5/6  |\n",
    "\n",
    "Then the work and span recurrences are:\n",
    "\n",
    "$$W(n) \\leq W(X(n) \\cdot n) + O(n)$$\n",
    "\n",
    "$$S(n) \\leq S(X(n) \\cdot n) + O(\\lg n)$$ \n",
    "\n",
    "<br>\n",
    "\n",
    "First, we'll bound $\\mathbf{E}[X(n)].$ If $|l| = i$, then $|r| = n - i -1$. Using the fact that the probability of the pivot being any particular $i$ is $1/n$, we have:\n",
    "\n",
    "$$\\begin{eqnarray*}\n",
    " \\mathbf{E}\\left[{X(n)}\\right] &=&  \\sum_{i=0}^{n-1}P[X(i)] \\cdot X(i)\\\\\n",
    " & = & \\frac{1}{n} \\sum_{i=0}^{n-1} \\frac{\\max\\{i, n-i-1\\}}{n} \\\\\n",
    " &\\leq & \\frac{1}{n} \\sum_{j=n/2}^{n-1} \\frac{2}{n} \\cdot j  \\\\\n",
    " & \\leq & \\frac{2}{n^2}\\sum_{j=n/2}^{n-1} j =\\frac{2}{n^2}\\times\\frac{3n^2 - 2n}{8}\\\\\n",
    " &\\leq & \\frac{3}{4}  \n",
    "\\end{eqnarray*}$$\n",
    "\n",
    "<br>\n"
   ]
  },
  {
   "cell_type": "markdown",
   "metadata": {
    "slideshow": {
     "slide_type": "fragment"
    }
   },
   "source": [
    "\n",
    "$$W(n) \\leq W(\\frac{3}{4}n) + O(n) \\Rightarrow \\mathrm{root~dominated}  \\Rightarrow W(n)=\\mathcal{O}(n)$$\n",
    "\n",
    "$$S(n) \\leq S(\\frac{3}{4}n) + O(\\lg n) \\Rightarrow \\mathrm{balanced} \\Rightarrow S(n) = \\mathcal{O}(\\lg^2n)$$ "
   ]
  },
  {
   "cell_type": "markdown",
   "metadata": {
    "slideshow": {
     "slide_type": "slide"
    }
   },
   "source": [
    "\n",
    "It might seem tempting to say that we are done. However, we could get \"unlucky\" in a series of recursions even though $\\mathbf{E}[X(n)]\\leq 3/4.$ "
   ]
  },
  {
   "cell_type": "markdown",
   "metadata": {
    "slideshow": {
     "slide_type": "fragment"
    }
   },
   "source": [
    "What we want to know is:  **What's the probability that the input to the recursive call has size $\\le \\frac{3}{4} n$ ?**\n",
    "<br>\n",
    "\n",
    "We can examine where $p$ might land in the sorted version of $a$, to understand the probability of a good split.\n",
    "\n",
    "<img width=\"60%\" src=\"selection-intuition.jpg\"/>\n",
    "\n",
    "If the sampled pivot lies in the green region, then the size of the array passed to the recursive call is at most $3n/4$.\n",
    "\n",
    "The probability of sampling a point in the green region is $1/2$.\n",
    "\n",
    "We can see that $\\mathbf{P}[\\max\\{W(\\mid l\\mid), W(\\mid r\\mid)\\} \\leq W(3n/4)] = 1/2$.\n",
    "\n",
    "\n",
    "\n",
    "If we think of each choice of pivot as a coin flip (\"good\" vs. \"bad\") then the expected number of pivot choices to reduce the input to $3n/4$ is 2. \n",
    "\n",
    "In other words, every two recursions yield the desired reduction in list size, and so in expectation we will do linear work.\n",
    "\n",
    "<br><br>\n",
    "**What if we're unlucky?**\n",
    "\n",
    "We could keep sampling pivots outside of the green area. What is the probability if we do so $i$ times in a row?\n",
    "\n",
    "<br><br>\n",
    "$\\frac{1}{2} * \\frac{1}{2} * \\frac{1}{2} * ... = \\frac{1}{2^i}$\n",
    "\n",
    "E.g., for $i=10$, probability of getting no good pivots is $\\approx 0.1\\%$. \n",
    "\n",
    "Thus, probability of getting at least one good pivot for 10 splits is $\\approx 99.9\\%$"
   ]
  }
 ],
 "metadata": {
  "celltoolbar": "Slideshow",
  "kernelspec": {
   "display_name": "Python 3 (ipykernel)",
   "language": "python",
   "name": "python3"
  },
  "language_info": {
   "codemirror_mode": {
    "name": "ipython",
    "version": 3
   },
   "file_extension": ".py",
   "mimetype": "text/x-python",
   "name": "python",
   "nbconvert_exporter": "python",
   "pygments_lexer": "ipython3",
   "version": "3.9.6"
  },
  "rise": {
   "autolaunch": true,
   "controls": false,
   "enable_chalkboard": true,
   "scroll": true,
   "theme": "simple",
   "transition": "fade"
  },
  "toc": {
   "base_numbering": 1,
   "nav_menu": {},
   "number_sections": true,
   "sideBar": true,
   "skip_h1_title": true,
   "title_cell": "Table of Contents",
   "title_sidebar": "Contents",
   "toc_cell": true,
   "toc_position": {},
   "toc_section_display": true,
   "toc_window_display": false
  }
 },
 "nbformat": 4,
 "nbformat_minor": 4
}
