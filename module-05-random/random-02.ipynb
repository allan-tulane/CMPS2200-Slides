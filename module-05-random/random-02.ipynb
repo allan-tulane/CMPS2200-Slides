{
 "cells": [
  {
   "cell_type": "code",
   "execution_count": 1,
   "metadata": {
    "code_folding": [],
    "slideshow": {
     "slide_type": "skip"
    }
   },
   "outputs": [
    {
     "data": {
      "text/html": [
       "<style>.prompt{width: 0px; min-width: 0px; visibility: collapse}</style>"
      ],
      "text/plain": [
       "<IPython.core.display.HTML object>"
      ]
     },
     "metadata": {},
     "output_type": "display_data"
    },
    {
     "data": {
      "text/html": [
       "<style>\n",
       "div#notebook {\n",
       " font-family: \"Exo_2\", sans-serif;\n",
       "}\n",
       "\n",
       ".rendered_html h1,\n",
       ".text_cell_render h1 {\n",
       " color: #126dce;\n",
       " font-size: 220%;\n",
       " text-align: center;\n",
       " font-weight: lighter;\n",
       "}\n",
       ".rendered_html h2,\n",
       ".text_cell_render h2 {\n",
       " text-align: center;\n",
       " font-size: 170%;\n",
       " color: #126dce;\n",
       " font-style: normal;\n",
       " font-weight: lighter;\n",
       "}\n",
       ".rendered_html h3,\n",
       ".text_cell_render h3 {\n",
       " font-size: 150%;\n",
       " color: #126dce;\n",
       " font-weight: lighter;\n",
       " text-decoration: italic;\n",
       " font-style: normal;\n",
       "}\n",
       ".rendered_html h4,\n",
       ".text_cell_render h4 {\n",
       " font-size: 120%;\n",
       " color: #126dce;\n",
       " font-weight: underline;\n",
       " font-style: normal;\n",
       "}\n",
       ".rendered_html h5,\n",
       ".text_cell_render h5 {\n",
       " font-size: 100%;\n",
       " color: #2f2f2f;\n",
       " font-weight: lighter;\n",
       " text-decoration: underline;\n",
       "}\n",
       "</style>\n"
      ],
      "text/plain": [
       "<IPython.core.display.HTML object>"
      ]
     },
     "metadata": {},
     "output_type": "display_data"
    }
   ],
   "source": [
    "# setup\n",
    "from IPython.core.display import display,HTML\n",
    "display(HTML('<style>.prompt{width: 0px; min-width: 0px; visibility: collapse}</style>'))\n",
    "display(HTML(open('rise.css').read()))\n",
    "\n",
    "# imports\n",
    "import numpy as np\n",
    "import matplotlib.pyplot as plt\n",
    "import seaborn as sns\n",
    "%matplotlib inline\n",
    "sns.set(style=\"whitegrid\", font_scale=1.5, rc={'figure.figsize':(12, 6)})\n"
   ]
  },
  {
   "cell_type": "markdown",
   "metadata": {
    "slideshow": {
     "slide_type": "slide"
    }
   },
   "source": [
    "# CMPS 2200\n",
    "# Introduction to Algorithms\n",
    "\n",
    "## Randomized Algorithm - Selection & Quicksort\n"
   ]
  },
  {
   "cell_type": "markdown",
   "metadata": {
    "slideshow": {
     "slide_type": "slide"
    }
   },
   "source": [
    "### Randomized Algorithms\n",
    "\n",
    "When we don't know exactly how to proceed in solving a problem, we can make a random choice and hope we made the right one. Alternately, we can view randomization as helping us avoid always making the worst/wrong choice. \n"
   ]
  },
  {
   "cell_type": "markdown",
   "metadata": {
    "slideshow": {
     "slide_type": "slide"
    }
   },
   "source": [
    "Given an unsorted list $a$ and an integer $k$ ($0\\leq k< |a|$), the **order statistics** (or **selection**) problem asks us to return the $k$-th smallest element from $a$.\n",
    "\n",
    "<p>\\begin{array}{ll}  \n",
    "\\mathit{select}~a~k =   \n",
    "\\\\  \n",
    "\\texttt{let}  \n",
    "\\\\  \n",
    "~~~~p = \\mbox{pick a uniformly random element from}~a\n",
    "\\\\  \n",
    "~~~~\\ell = \\left\\langle\\, x \\in a \\;|\\; x < p \\,\\right\\rangle  \n",
    "\\\\  \n",
    "~~~~r = \\left\\langle\\, x \\in a \\;|\\; x > p \\,\\right\\rangle  \n",
    "\\\\  \n",
    "\\texttt{in}  \n",
    "\\\\  \n",
    "~~~~\\texttt{if}~(k < |\\ell|)~\\texttt{then}~\\mathit{select}~\\ell~k  \n",
    "\\\\  \n",
    "~~~~\\texttt{else if}~(k < |a| - |r|)~\\texttt{then}~p  \n",
    "\\\\  \n",
    "~~~~\\texttt{else}~\\mathit{select}~r~(k - (|a| - |r|))  \n",
    "\\\\  \n",
    "\\texttt{end}  \n",
    "\\end{array}</p>\n",
    "\n",
    "The recurrence of work is:\n",
    "$$W(n) = \\max\\{W(\\mid l\\mid), W(\\mid r\\mid)\\} + O(n)$$\n"
   ]
  },
  {
   "cell_type": "markdown",
   "metadata": {
    "slideshow": {
     "slide_type": "slide"
    }
   },
   "source": [
    "### Expected Work and Span\n",
    "\n",
    "**Expectation** of a random variable $X$ defined for a probability space $(\\Omega, \\mathbf{P})$ is denoted ($\\Omega$ is the sample space)\n",
    "\n",
    "$$ \\mathbf{E}\\left[{X}\\right] = \\sum_{x} x \\cdot \\mathbf{P}\\left[X = x\\right]. $$\n",
    "\n",
    "Intuitively, the expectation is really just a weighted average of the values of the random variable.\n",
    "\n",
    "\n",
    "``Example 1``: Let $X$ be the sum value of a pair of dice. Each trial is independent. $X$ can take on values between 2 and 12, where each has a certain probability based on the possible ways the dice can sum to that value. What is the expected value of the value of a pair of unbiased dice? \n",
    "\n",
    "\n",
    "$$\\begin{eqnarray*}\n",
    "\\mathbf{E}\\left[{X}\\right] &=& \\sum_{x=2}^{12} x \\cdot \\mathbf{P}\\left[X = x\\right] \\\\\n",
    "&=& 2\\cdot\\frac{1}{36} + 3\\cdot\\frac{2}{36} + 4\\cdot\\frac{3}{36} + \\cdots + 11\\cdot\\frac{2}{36} + 12\\cdot\\frac{1}{36}\\\\\n",
    "& = & 7\n",
    "\\end{eqnarray*}$$"
   ]
  },
  {
   "cell_type": "markdown",
   "metadata": {
    "slideshow": {
     "slide_type": "slide"
    }
   },
   "source": [
    "``Example 2``: Let's look at coin flips where we have equal probability of heads/tails, and define $X$ as the number of flips until we get heads. What is $E[X]$? "
   ]
  },
  {
   "cell_type": "markdown",
   "metadata": {
    "slideshow": {
     "slide_type": "fragment"
    }
   },
   "source": [
    "Observe that:\n",
    "\n",
    "$\\begin{eqnarray*}\n",
    "E[X] &=& \\frac{1}{2}1 + \\frac{1}{2}(1+E[X]) \\\\\n",
    "\\end{eqnarray*}$\n",
    "\n",
    "Solving for $E[X]$, we get that $E[X] = 2$. \n",
    "\n",
    "More generally, the expected number of trials to get an outcome of probability $p$ is $1/p$. (We'll see this later.)\n"
   ]
  },
  {
   "cell_type": "markdown",
   "metadata": {
    "slideshow": {
     "slide_type": "slide"
    }
   },
   "source": [
    "The work/span of our algorithm depends on $\\max\\{W(\\mid l\\mid), W(\\mid r\\mid)\\}$ in each recursive call. Let $X(n)$ be the fractional size of the larger side of the split, for an input of size $n$:\n",
    "$$W(n) = \\max\\{W(\\mid l\\mid), W(\\mid r\\mid)\\} + O(n)$$\n",
    "So,\n",
    "\n",
    "$$X(n) = \\frac{\\max{\\{|l|, |r|\\}}}{n}$$\n",
    "\n",
    "Then the work and span recurrences are:\n",
    "\n",
    "$$W(n) = W(X(n) \\cdot n) + O(n)$$\n",
    "\n",
    "$$S(n) = S(X(n) \\cdot n) + O(\\lg n)$$ \n",
    "\n",
    "\n",
    "\n",
    "e.g., $n=6$\n",
    "\n",
    "|i  | len(l) | len(r)  | X(i) | p(i) |\n",
    "|---|--------|---------|------|------|\n",
    "|0  | 0      | 5       | 5/6  |  1/6 |\n",
    "|1  | 1      | 4       | 4/6  |  1/6 |\n",
    "|2  | 2      | 3       | 3/6  |  1/6 |\n",
    "|3  | 3      | 2       | 3/6  |  1/6 |\n",
    "|4  | 4      | 1       | 4/6  |  1/6 |\n",
    "|5  | 5      | 0       | 5/6  |  1/6 |\n",
    "\n"
   ]
  },
  {
   "cell_type": "markdown",
   "metadata": {
    "slideshow": {
     "slide_type": "fragment"
    }
   },
   "source": [
    "First, we'll bound $\\mathbf{E}[X(n)].$ If $|l| = i$, then $|r| = n - i -1$. Using the fact that the probability of the pivot being any particular $i$ is $1/n$, we have:\n",
    "\n",
    "$$\\begin{eqnarray*}\n",
    " \\mathbf{E}\\left[{X(n)}\\right] &=&  \\sum_{i=0}^{n-1}P[X(i)] \\cdot X(i)\\\\\n",
    " & = & \\frac{1}{n} \\sum_{i=0}^{n-1} \\frac{\\max\\{i, n-i-1\\}}{n} \\\\\n",
    " &\\leq & \\frac{1}{n} \\sum_{j=n/2}^{n-1} \\frac{2}{n} \\cdot j  \\\\\n",
    " & \\leq & \\frac{2}{n^2}\\sum_{j=n/2}^{n-1} j =\\frac{2}{n^2}\\times\\frac{3n^2 - 2n}{8}\\\\\n",
    " &\\leq & \\frac{3}{4}  \n",
    "\\end{eqnarray*}$$\n",
    "\n",
    "<br>\n",
    "\n",
    "It might seem tempting to say that we are done. However, we could get \"unlucky\" in a series of recursions even though $\\mathbf{E}[X(n)]\\leq 3/4.$ "
   ]
  },
  {
   "cell_type": "markdown",
   "metadata": {
    "slideshow": {
     "slide_type": "fragment"
    }
   },
   "source": [
    "\n",
    "$$W(n) \\leq W(\\frac{3}{4}n) + O(n) \\Rightarrow \\mathrm{root~dominated}  \\Rightarrow W(n)=\\mathcal{O}(n)$$\n",
    "\n",
    "$$S(n) \\leq S(\\frac{3}{4}n) + O(\\lg n) \\Rightarrow \\mathrm{balanced} \\Rightarrow S(n) = \\mathcal{O}(\\lg^2n)$$ "
   ]
  },
  {
   "cell_type": "markdown",
   "metadata": {
    "slideshow": {
     "slide_type": "slide"
    }
   },
   "source": [
    "What we want to know is:  **What's the probability that the input to the recursive call has size $\\le \\frac{3}{4} n$ ?**\n",
    "<br>\n",
    "\n",
    "We can examine where $p$ might land in the sorted version of $a$, to understand the probability of a good split.\n",
    "\n",
    "<img width=\"60%\" src=\"selection-intuition.jpg\"/>\n",
    "\n",
    "If the sampled pivot lies in the green region, then the size of the array passed to the recursive call is at most $3n/4$.\n",
    "\n",
    "The probability of sampling a point in the green region is $1/2$.\n",
    "\n",
    "We can see that $\\mathbf{P}[\\max\\{W(\\mid l\\mid), W(\\mid r\\mid)\\} \\leq W(3n/4)] = 1/2$.\n",
    "\n",
    "\n",
    "\n",
    "If we think of each choice of pivot as a coin flip (\"good\" vs. \"bad\") then the expected number of pivot choices to reduce the input to $3n/4$ is 2. \n",
    "\n",
    "In other words, every two recursions yields the desired reduction in list size, and so in expectation we will do linear work.\n",
    "\n",
    "<br><br>\n",
    "**What if we're unlucky?**\n",
    "\n",
    "We could keep sampling pivots outside of the green area. What is the probability if we do so $i$ times in a row?\n",
    "\n",
    "<br><br>\n",
    "$\\frac{1}{2} * \\frac{1}{2} * \\frac{1}{2} * ... = \\frac{1}{2^i}$\n",
    "\n",
    "E.g., for $i=10$, probability of getting no good pivots is $\\approx 0.1\\%$. \n",
    "\n",
    "Thus, probability of getting at least one good pivot for 10 splits is $\\approx 99.9\\%$"
   ]
  },
  {
   "cell_type": "markdown",
   "metadata": {
    "slideshow": {
     "slide_type": "slide"
    }
   },
   "source": [
    "## Quick Sort\n",
    "\n",
    "We saw how the problem of selection could be solved with a randomized algorithm. The key was to choose a random element and then partition the list into two parts. \n",
    "\n",
    "What if we recursively sorted these two parts?\n",
    "\n",
    "Let $a=\\langle 2, 5, 4, 1, 3, -1, 99\\rangle.$ Suppose we chose 4 as the pivot. Then the two parts of the list are $\\ell=\\langle 2, 1, 3, -1\\rangle$ and $r=\\langle 5, 99\\rangle$. In sorted order they are $\\ell'=\\langle -1, 1, 2, 3\\rangle$ and $r'=\\langle 5, 99\\rangle$.\n",
    "\n",
    "So all we have to do is append $l'$, the pivot and $r'$!\n",
    "\n",
    "This suggests a divide-and-conquer algorithm, but with similar characteristics as our algorithm for selection. "
   ]
  },
  {
   "cell_type": "markdown",
   "metadata": {
    "slideshow": {
     "slide_type": "slide"
    }
   },
   "source": [
    " <p>\\[\\begin{array}{ll}  \n",
    "\\mathit{quicksort}~a =  \\\\  \n",
    "~~~~\\texttt{if}~|a| = 0~\\texttt{then}~a  \\\\  \n",
    "~~~~\\texttt{else}   \\\\  \n",
    "~~~~~~~~\\texttt{let}  \\\\  \n",
    "~~~~~~~~~~~~p = \\texttt{pick a random pivot from}~a  \\\\  \n",
    "~~~~~~~~~~~~    a_1 = \\left\\langle\\, x \\in a \\;|\\; x < p \\,\\right\\rangle  \\\\  \n",
    "~~~~~~~~~~~~    a_2 = \\left\\langle\\, x \\in a \\;|\\; x = p \\,\\right\\rangle  \\\\  \n",
    "~~~~~~~~~~~~    a_3 = \\left\\langle\\, x \\in a \\;|\\; x > p \\,\\right\\rangle  \\\\  \n",
    "~~~~~~~~~~~~    (s_1,s_3) = (\\mathit{quicksort}~a_1)~\\mid\\mid{}~(\\mathit{quicksort}~a_3)  \\\\  \n",
    "~~~~~~~~   \\texttt{in}  \\\\  \n",
    "~~~~~~~~~~~~    s_1 \\texttt{++}{} a_2 \\texttt{++}{} s_3  \\\\  \n",
    "~~~~~~~~  \\texttt{end}  \n",
    "\\end{array}\\]</p>\n"
   ]
  },
  {
   "cell_type": "markdown",
   "metadata": {},
   "source": [
    "Let $X(n)$ be the fractional size of the larger side of the split, for an input of size $n$. So \n",
    "\n",
    "$$X(n) = \\frac{\\max{\\{|l|, |r|\\}}}{n}$$\n",
    "\n"
   ]
  },
  {
   "cell_type": "markdown",
   "metadata": {
    "slideshow": {
     "slide_type": "fragment"
    }
   },
   "source": [
    "Then the work and span recurrences are:\n",
    "$$W(n) \\leq W(X(n) \\cdot n)+ W((1-X(n)) \\cdot n)+ O(n)$$\n",
    "\n",
    "$$S(n) \\leq S(X(n) \\cdot n) + O(\\lg n)$$ \n",
    "\n",
    "The expected work and span are:\n",
    "\n",
    "$$W(n) \\leq W(\\frac{3}{4}n)+W(\\frac{1}{4}n) + O(n) \\Rightarrow \\mathrm{balanced}  \\Rightarrow W(n)=\\mathcal{O}(n\\lg n)$$\n",
    "\n",
    "$$S(n) \\leq S(\\frac{3}{4}n) + O(\\lg n) \\Rightarrow \\mathrm{balanced} \\Rightarrow S(n) = \\mathcal{O}(\\lg^2n)$$ \n",
    "\n",
    "However, the worse work and span are\n",
    "\n",
    "$$W(n) \\leq W(n-1)+W(1) + O(n) \\Rightarrow \\mathrm{balanced}  \\Rightarrow W(n)=\\mathcal{O}(n^2)$$\n",
    "\n",
    "$$S(n) \\leq S(n-1) + O(\\lg n) \\Rightarrow \\mathrm{balanced} \\Rightarrow S(n) = \\mathcal{O}(n\\lg n)$$ \n"
   ]
  },
  {
   "cell_type": "markdown",
   "metadata": {
    "slideshow": {
     "slide_type": "slide"
    }
   },
   "source": [
    "### Comparison of Sorting Algorithms\n",
    "\n",
    "<table border=\"1\">\n",
    "<tr>\n",
    "<th></th>\n",
    "        <th colspan=\"3\">Time</th>\n",
    "        <th colspan=\"4\"></th>\n",
    "    </tr>\n",
    "<tr>\n",
    "<td>Sort</td>\n",
    "        <td>Average</td>\n",
    "        <td>Best</td>\n",
    "        <td>Worst</td>\n",
    "        <td>Remarks</td>\n",
    "    </tr>\n",
    "<tr>\n",
    "<td><a href=\"//www.cprogramming.com/tutorial/computersciencetheory/sorting2.html\">Selection\n",
    "                Sort</a></td>\n",
    "        <td>O(n^2)</td>\n",
    "        <td>O(n^2)</td>\n",
    "        <td>O(n^2)</td>\n",
    "        <td>Even a perfectly sorted input requires scanning the entire array</td>\n",
    "    </tr>\n",
    "<tr>\n",
    "<td><a href=\"//www.cprogramming.com/tutorial/computersciencetheory/sorting2.html\">Insertion\n",
    "                Sort</a></td>\n",
    "        <td>O(n^2)</td>\n",
    "        <td>O(n)</td>\n",
    "        <td>O(n^2)</td>\n",
    "        <td>In the best case (already sorted), every insert requires constant time</td>\n",
    "    </tr>\n",
    "<tr>\n",
    "<td><a href=\"//www.cprogramming.com/tutorial/computersciencetheory/mergesort.html\">Merge\n",
    "                Sort</a></td>\n",
    "        <td>O(n*log(n))</td>\n",
    "        <td>O(n*log(n))</td>\n",
    "        <td>O(n*log(n))</td>\n",
    "        <td>On arrays, merge sort requires O(n) space; on linked lists, merge\n",
    "       sort requires constant space</td>\n",
    "    </tr>\n",
    "<tr>\n",
    "<td><a href=\"//www.cprogramming.com/tutorial/computersciencetheory/quicksort.html\">Quicksort</a></td>\n",
    "        <td>O(n*log(n))</td>\n",
    "        <td>O(n*log(n))</td>\n",
    "        <td>O(n^2)</td>\n",
    "        <td>Randomly picking a pivot value (or shuffling the array prior to\n",
    "            sorting) can help avoid worst case scenarios such as a perfectly\n",
    "            sorted array.</td>\n",
    "    </tr>\n",
    "</table>"
   ]
  }
 ],
 "metadata": {
  "celltoolbar": "Slideshow",
  "kernelspec": {
   "display_name": "Python 3 (ipykernel)",
   "language": "python",
   "name": "python3"
  },
  "language_info": {
   "codemirror_mode": {
    "name": "ipython",
    "version": 3
   },
   "file_extension": ".py",
   "mimetype": "text/x-python",
   "name": "python",
   "nbconvert_exporter": "python",
   "pygments_lexer": "ipython3",
   "version": "3.9.7"
  },
  "rise": {
   "autolaunch": true,
   "controls": false,
   "enable_chalkboard": true,
   "scroll": true,
   "theme": "simple",
   "transition": "fade"
  },
  "toc": {
   "base_numbering": 1,
   "nav_menu": {},
   "number_sections": true,
   "sideBar": true,
   "skip_h1_title": true,
   "title_cell": "Table of Contents",
   "title_sidebar": "Contents",
   "toc_cell": true,
   "toc_position": {},
   "toc_section_display": true,
   "toc_window_display": false
  }
 },
 "nbformat": 4,
 "nbformat_minor": 4
}
