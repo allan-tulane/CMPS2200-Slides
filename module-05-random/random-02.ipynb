{
 "cells": [
  {
   "cell_type": "code",
   "execution_count": 1,
   "metadata": {
    "code_folding": [],
    "slideshow": {
     "slide_type": "skip"
    }
   },
   "outputs": [
    {
     "data": {
      "text/html": [
       "<style>.prompt{width: 0px; min-width: 0px; visibility: collapse}</style>"
      ],
      "text/plain": [
       "<IPython.core.display.HTML object>"
      ]
     },
     "metadata": {},
     "output_type": "display_data"
    },
    {
     "data": {
      "text/html": [
       "<style>\n",
       "div#notebook {\n",
       " font-family: \"Exo_2\", sans-serif;\n",
       "}\n",
       "\n",
       ".rendered_html h1,\n",
       ".text_cell_render h1 {\n",
       " color: #126dce;\n",
       " font-size: 220%;\n",
       " text-align: center;\n",
       " font-weight: lighter;\n",
       "}\n",
       ".rendered_html h2,\n",
       ".text_cell_render h2 {\n",
       " text-align: center;\n",
       " font-size: 170%;\n",
       " color: #126dce;\n",
       " font-style: normal;\n",
       " font-weight: lighter;\n",
       "}\n",
       ".rendered_html h3,\n",
       ".text_cell_render h3 {\n",
       " font-size: 150%;\n",
       " color: #126dce;\n",
       " font-weight: lighter;\n",
       " text-decoration: italic;\n",
       " font-style: normal;\n",
       "}\n",
       ".rendered_html h4,\n",
       ".text_cell_render h4 {\n",
       " font-size: 120%;\n",
       " color: #126dce;\n",
       " font-weight: underline;\n",
       " font-style: normal;\n",
       "}\n",
       ".rendered_html h5,\n",
       ".text_cell_render h5 {\n",
       " font-size: 100%;\n",
       " color: #2f2f2f;\n",
       " font-weight: lighter;\n",
       " text-decoration: underline;\n",
       "}\n",
       "</style>\n"
      ],
      "text/plain": [
       "<IPython.core.display.HTML object>"
      ]
     },
     "metadata": {},
     "output_type": "display_data"
    }
   ],
   "source": [
    "# setup\n",
    "from IPython.core.display import display,HTML\n",
    "display(HTML('<style>.prompt{width: 0px; min-width: 0px; visibility: collapse}</style>'))\n",
    "display(HTML(open('rise.css').read()))\n",
    "\n",
    "# imports\n",
    "import numpy as np\n",
    "import matplotlib.pyplot as plt\n",
    "import seaborn as sns\n",
    "%matplotlib inline\n",
    "sns.set(style=\"whitegrid\", font_scale=1.5, rc={'figure.figsize':(12, 6)})\n"
   ]
  },
  {
   "cell_type": "markdown",
   "metadata": {
    "slideshow": {
     "slide_type": "slide"
    }
   },
   "source": [
    "# CMPS 2200\n",
    "# Introduction to Algorithms\n",
    "\n",
    "## Randomized Algorithm - Quicksort\n"
   ]
  },
  {
   "cell_type": "markdown",
   "metadata": {
    "slideshow": {
     "slide_type": "slide"
    }
   },
   "source": [
    "## Quick Sort\n",
    "\n",
    "We saw how the problem of selection could be solved with a randomized algorithm. The key was to choose a random element and then partition the list into two parts. \n",
    "\n",
    "What if we recursively sorted these two parts?\n",
    "\n",
    "Let $a=\\langle 2, 5, 4, 1, 3, -1, 99\\rangle.$ Suppose we chose 4 as the pivot. Then the two parts of the list are $\\ell=\\langle 2, 1, 3, -1\\rangle$ and $r=\\langle 5, 99\\rangle$. In sorted order they are $\\ell'=\\langle -1, 1, 2, 3\\rangle$ and $r'=\\langle 5, 99\\rangle$.\n",
    "\n",
    "So all we have to do is append $l'$, the pivot and $r'$!\n",
    "\n",
    "This suggests a divide-and-conquer algorithm, but with similar characteristics as our algorithm for selection. "
   ]
  },
  {
   "cell_type": "markdown",
   "metadata": {
    "slideshow": {
     "slide_type": "slide"
    }
   },
   "source": [
    " <p>\\[\\begin{array}{ll}  \n",
    "\\mathit{quicksort}~a =  \\\\  \n",
    "~~~~\\texttt{if}~|a| = 0~\\texttt{then}~a  \\\\  \n",
    "~~~~\\texttt{else}   \\\\  \n",
    "~~~~~~~~\\texttt{let}  \\\\  \n",
    "~~~~~~~~~~~~p = \\texttt{pick a random pivot from}~a  \\\\  \n",
    "~~~~~~~~~~~~    a_1 = \\left\\langle\\, x \\in a \\;|\\; x < p \\,\\right\\rangle  \\\\  \n",
    "~~~~~~~~~~~~    a_2 = \\left\\langle\\, x \\in a \\;|\\; x = p \\,\\right\\rangle  \\\\  \n",
    "~~~~~~~~~~~~    a_3 = \\left\\langle\\, x \\in a \\;|\\; x > p \\,\\right\\rangle  \\\\  \n",
    "~~~~~~~~~~~~    (s_1,s_3) = (\\mathit{quicksort}~a_1)~\\mid\\mid{}~(\\mathit{quicksort}~a_3)  \\\\  \n",
    "~~~~~~~~   \\texttt{in}  \\\\  \n",
    "~~~~~~~~~~~~    s_1 \\texttt{++}{} a_2 \\texttt{++}{} s_3  \\\\  \n",
    "~~~~~~~~  \\texttt{end}  \n",
    "\\end{array}\\]</p>\n"
   ]
  },
  {
   "cell_type": "markdown",
   "metadata": {},
   "source": [
    "Let $X(n)$ be the fractional size of the larger side of the split, for an input of size $n$. So \n",
    "\n",
    "$$X(n) = \\frac{\\max{\\{|l|, |r|\\}}}{n}$$\n",
    "\n"
   ]
  },
  {
   "cell_type": "markdown",
   "metadata": {
    "slideshow": {
     "slide_type": "fragment"
    }
   },
   "source": [
    "Then the work and span recurrences are:\n",
    "$$W(n) \\leq W(X(n) \\cdot n)+ W((1-X(n)) \\cdot n)+ O(n)$$\n",
    "\n",
    "$$S(n) \\leq S(X(n) \\cdot n) + O(\\lg n)$$ \n",
    "\n",
    "The expected work and span are:\n",
    "\n",
    "$$W(n) \\leq W(\\frac{3}{4}n)+W(\\frac{1}{4}n) + O(n) \\Rightarrow \\mathrm{balanced}  \\Rightarrow W(n)=\\mathcal{O}(n\\lg n)$$\n",
    "\n",
    "$$S(n) \\leq S(\\frac{3}{4}n) + O(\\lg n) \\Rightarrow \\mathrm{balanced} \\Rightarrow S(n) = \\mathcal{O}(\\lg^2n)$$ \n",
    "\n",
    "However, the worse work and span are\n",
    "\n",
    "$$W(n) \\leq W(n-1)+W(1) + O(n) \\Rightarrow \\mathrm{balanced}  \\Rightarrow W(n)=\\mathcal{O}(n^2)$$\n",
    "\n",
    "$$S(n) \\leq S(n-1) + O(\\lg n) \\Rightarrow \\mathrm{balanced} \\Rightarrow S(n) = \\mathcal{O}(n\\lg n)$$ \n"
   ]
  },
  {
   "cell_type": "markdown",
   "metadata": {
    "slideshow": {
     "slide_type": "slide"
    }
   },
   "source": [
    "### Comparison of Sorting Algorithms\n",
    "\n",
    "<table border=\"1\">\n",
    "<tr>\n",
    "<th></th>\n",
    "        <th colspan=\"3\">Time</th>\n",
    "        <th colspan=\"4\"></th>\n",
    "    </tr>\n",
    "<tr>\n",
    "<td>Sort</td>\n",
    "        <td>Average</td>\n",
    "        <td>Best</td>\n",
    "        <td>Worst</td>\n",
    "        <td>Remarks</td>\n",
    "    </tr>\n",
    "<tr>\n",
    "<td><a href=\"//www.cprogramming.com/tutorial/computersciencetheory/sorting2.html\">Selection\n",
    "                Sort</a></td>\n",
    "        <td>O(n^2)</td>\n",
    "        <td>O(n^2)</td>\n",
    "        <td>O(n^2)</td>\n",
    "        <td>Even a perfectly sorted input requires scanning the entire array</td>\n",
    "    </tr>\n",
    "<tr>\n",
    "<td><a href=\"//www.cprogramming.com/tutorial/computersciencetheory/sorting2.html\">Insertion\n",
    "                Sort</a></td>\n",
    "        <td>O(n^2)</td>\n",
    "        <td>O(n)</td>\n",
    "        <td>O(n^2)</td>\n",
    "        <td>In the best case (already sorted), every insert requires constant time</td>\n",
    "    </tr>\n",
    "<tr>\n",
    "<td><a href=\"//www.cprogramming.com/tutorial/computersciencetheory/mergesort.html\">Merge\n",
    "                Sort</a></td>\n",
    "        <td>O(n*log(n))</td>\n",
    "        <td>O(n*log(n))</td>\n",
    "        <td>O(n*log(n))</td>\n",
    "        <td>On arrays, merge sort requires O(n) space; on linked lists, merge\n",
    "       sort requires constant space</td>\n",
    "    </tr>\n",
    "<tr>\n",
    "<td><a href=\"//www.cprogramming.com/tutorial/computersciencetheory/quicksort.html\">Quicksort</a></td>\n",
    "        <td>O(n*log(n))</td>\n",
    "        <td>O(n*log(n))</td>\n",
    "        <td>O(n^2)</td>\n",
    "        <td>Randomly picking a pivot value (or shuffling the array prior to\n",
    "            sorting) can help avoid worst case scenarios such as a perfectly\n",
    "            sorted array.</td>\n",
    "    </tr>\n",
    "</table>"
   ]
  }
 ],
 "metadata": {
  "celltoolbar": "Slideshow",
  "kernelspec": {
   "display_name": "Python 3 (ipykernel)",
   "language": "python",
   "name": "python3"
  },
  "language_info": {
   "codemirror_mode": {
    "name": "ipython",
    "version": 3
   },
   "file_extension": ".py",
   "mimetype": "text/x-python",
   "name": "python",
   "nbconvert_exporter": "python",
   "pygments_lexer": "ipython3",
   "version": "3.9.6"
  },
  "rise": {
   "autolaunch": true,
   "controls": false,
   "enable_chalkboard": true,
   "scroll": true,
   "theme": "simple",
   "transition": "fade"
  },
  "toc": {
   "base_numbering": 1,
   "nav_menu": {},
   "number_sections": true,
   "sideBar": true,
   "skip_h1_title": true,
   "title_cell": "Table of Contents",
   "title_sidebar": "Contents",
   "toc_cell": true,
   "toc_position": {},
   "toc_section_display": true,
   "toc_window_display": false
  }
 },
 "nbformat": 4,
 "nbformat_minor": 4
}
