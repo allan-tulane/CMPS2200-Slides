{
 "cells": [
  {
   "cell_type": "code",
   "execution_count": 1,
   "metadata": {
    "code_folding": [],
    "slideshow": {
     "slide_type": "skip"
    }
   },
   "outputs": [
    {
     "data": {
      "text/html": [
       "<style>.prompt{width: 0px; min-width: 0px; visibility: collapse}</style>"
      ],
      "text/plain": [
       "<IPython.core.display.HTML object>"
      ]
     },
     "metadata": {},
     "output_type": "display_data"
    },
    {
     "data": {
      "text/html": [
       "<style>\n",
       "div#notebook {\n",
       " font-family: \"Exo_2\", sans-serif;\n",
       "}\n",
       "\n",
       ".rendered_html h1,\n",
       ".text_cell_render h1 {\n",
       " color: #126dce;\n",
       " font-size: 220%;\n",
       " text-align: center;\n",
       " font-weight: lighter;\n",
       "}\n",
       ".rendered_html h2,\n",
       ".text_cell_render h2 {\n",
       " text-align: center;\n",
       " font-size: 170%;\n",
       " color: #126dce;\n",
       " font-style: normal;\n",
       " font-weight: lighter;\n",
       "}\n",
       ".rendered_html h3,\n",
       ".text_cell_render h3 {\n",
       " font-size: 150%;\n",
       " color: #126dce;\n",
       " font-weight: lighter;\n",
       " text-decoration: italic;\n",
       " font-style: normal;\n",
       "}\n",
       ".rendered_html h4,\n",
       ".text_cell_render h4 {\n",
       " font-size: 120%;\n",
       " color: #126dce;\n",
       " font-weight: underline;\n",
       " font-style: normal;\n",
       "}\n",
       ".rendered_html h5,\n",
       ".text_cell_render h5 {\n",
       " font-size: 100%;\n",
       " color: #2f2f2f;\n",
       " font-weight: lighter;\n",
       " text-decoration: underline;\n",
       "}\n",
       "</style>\n"
      ],
      "text/plain": [
       "<IPython.core.display.HTML object>"
      ]
     },
     "metadata": {},
     "output_type": "display_data"
    }
   ],
   "source": [
    "# setup\n",
    "from IPython.core.display import display,HTML\n",
    "display(HTML('<style>.prompt{width: 0px; min-width: 0px; visibility: collapse}</style>'))\n",
    "display(HTML(open('rise.css').read()))\n",
    "\n",
    "# imports\n",
    "import numpy as np\n",
    "import matplotlib.pyplot as plt\n",
    "import seaborn as sns\n",
    "%matplotlib inline\n",
    "sns.set(style=\"whitegrid\", font_scale=1.5, rc={'figure.figsize':(12, 6)})\n"
   ]
  },
  {
   "cell_type": "markdown",
   "metadata": {
    "slideshow": {
     "slide_type": "slide"
    }
   },
   "source": [
    "# CMPS 2200\n",
    "# Introduction to Algorithms\n",
    "\n",
    "## Review + Scan\n"
   ]
  },
  {
   "cell_type": "markdown",
   "metadata": {
    "slideshow": {
     "slide_type": "slide"
    }
   },
   "source": [
    "### Analysis of Iterate and Reduce\n",
    "\n",
    "\n",
    "$iterate \\: f \\: x \\: a =\n",
    "\\begin{cases}\n",
    "x & \\hbox{if} \\: |a| = 0\\\\\n",
    "iterate \\: f \\:\\: f(x, a[0]) \\:\\:\\: a[1 \\ldots |a|-1]& \\hbox{otherwise}\n",
    "\\end{cases}\n",
    "$\n",
    "\n",
    "<br>\n",
    "\n",
    "\n",
    "$reduce \\: f \\: id \\: a =\n",
    "\\begin{cases}\n",
    "id & \\hbox{if} \\: |a| = 0\\\\\n",
    "a[0] & \\hbox{if} \\: |a| = 1\\\\\n",
    "f(reduce \\: f \\: id \\: (a[0 \\ldots \\lfloor \\frac{|a|}{2} \\rfloor - 1]), \\\\ \\:\\:\\:reduce \\: f \\: id \\: (a[\\lfloor \\frac{|a|}{2} \\rfloor \\ldots |a|-1])& \\hbox{otherwise}\n",
    "\\end{cases}\n",
    "$\n",
    "\n",
    "<br>\n",
    "\n",
    "\n",
    "`iterate(merge, [], list(map(singleton, [1,3,6,4,8,7,5,2])))`\n",
    "\n",
    "This is **insertion sort**! $[1] \\rightarrow [1,3] \\rightarrow [1,3,6] \\rightarrow [1,3,4,6] \\ldots$\n",
    "\n",
    "<br>\n",
    "\n",
    "`reduce(merge, [], list(map(singleton, [1,3,6,4,8,7,5,2])))`\n",
    "\n",
    "This is **merge sort**!\n",
    "\n",
    "\n",
    "\n",
    "Assuming the `merge` function has **work** $O(n)$, and the `merge` function has **span** $O(\\lg n)$\n",
    "\n",
    "#### insertion sort\n",
    "\n",
    "$$W(n) = W(n-1) + n \\in O(n^2)$$\n",
    "\n",
    "$$S(n) = S(n-1) + \\lg n \\in O(n \\lg n)$$\n",
    "\n",
    "\n",
    "\n",
    "#### merge sort\n",
    "\n",
    "$$W(n) = 2W(n/2) + n \\in O(n \\lg n)$$\n",
    "\n",
    "$$S(n) = S(n/2) + \\lg n \\in O(\\lg^2 n)$$"
   ]
  },
  {
   "cell_type": "markdown",
   "metadata": {
    "slideshow": {
     "slide_type": "slide"
    }
   },
   "source": [
    "## Scan\n",
    "\n",
    "*reduce* doesn't store the intermediate results, which limits it somewhat. \n",
    "\n",
    "*scan* is reduce version of prefix, compared with iterate_prefix.\n",
    "\n",
    "$scan \\: (f : \\alpha \\times \\alpha \\rightarrow \\alpha) (id : \\alpha) (a : \\mathbb{S}_\\alpha) : (S_\\alpha * \\alpha)$\n",
    "\n",
    "\n",
    "Input is:\n",
    "- $f$: an associative binary function\n",
    "- $a$ is the sequence\n",
    "- $id$ is the **left identity** of $f$ $\\:\\: \\equiv \\:\\:$ $f(id, x) = x$ for all $x \\in \\alpha$\n",
    "\n",
    "Returns:\n",
    "- a tuple containing:\n",
    "  - a value of type $S_\\alpha$, the sequence of intermediate values\n",
    "  - a value of type $\\alpha$ that is the result of the \"sum\" with respect to $f$ of the input sequence $a$\n",
    "\n",
    "\n",
    "<br>\n",
    "\n",
    "$scan \\: f \\: id \\: a = (\\langle reduce \\:\\: f \\:\\: id \\:\\: a[0 \\ldots (i-1)] : 0 \\le i < |a| \\rangle,$  \n",
    "$\\:\\:\\:\\:\\:\\:\\:\\:\\:\\:\\:\\:\\:\\:\\:\\:\\:\\:\\:\\:\\:\\:\\:\\:\\: reduce \\:\\: f \\:\\: id \\:\\: a)$"
   ]
  },
  {
   "cell_type": "code",
   "execution_count": 1,
   "metadata": {
    "slideshow": {
     "slide_type": "slide"
    }
   },
   "outputs": [
    {
     "data": {
      "text/plain": [
       "([2, 3, 6, 8, 10, 15, 19, 20], 20)"
      ]
     },
     "execution_count": 1,
     "metadata": {},
     "output_type": "execute_result"
    }
   ],
   "source": [
    "def iterate(f, x, a):\n",
    "\n",
    "    if len(a) == 0:\n",
    "        return x\n",
    "    else:\n",
    "        return iterate(f, f(x, a[0]), a[1:])\n",
    "\n",
    "def reduce(f, id_, a):\n",
    "\n",
    "    if len(a) == 0:\n",
    "        return id_\n",
    "    elif len(a) == 1:\n",
    "        return a[0]\n",
    "    else:\n",
    "        # can call these in parallel\n",
    "        return f(reduce(f, id_, a[:len(a)//2]),\n",
    "                  reduce(f, id_, a[len(a)//2:]))\n",
    "\n",
    "## inefficient implmentation\n",
    "def scan(f, id_, a):\n",
    "    \n",
    "    \"\"\"\n",
    "    This is a horribly inefficient implementation of scan\n",
    "    only to understand what it does.\n",
    "    We'll discuss how to make it more efficient later.\n",
    "    \"\"\"\n",
    "\n",
    "    return (\n",
    "            [reduce(f, id_, a[:i+1]) for i in range(len(a))],\n",
    "             reduce(f, id_, a)\n",
    "           )\n",
    "        \n",
    "def plus(x, y):\n",
    "    return x + y\n",
    "\n",
    "scan(plus, 0, [2,1,3,2,2,5,4,1])"
   ]
  },
  {
   "cell_type": "code",
   "execution_count": 2,
   "metadata": {},
   "outputs": [
    {
     "data": {
      "text/plain": [
       "([2, 3, 6, 8, 10, 15, 19, 20], 20)"
      ]
     },
     "execution_count": 2,
     "metadata": {},
     "output_type": "execute_result"
    }
   ],
   "source": [
    "def iterate_prefixes(h, x, a):\n",
    "    def g(result, next_element): \n",
    "        prefixes, current_result = result[0], result[1]\n",
    "        r = h(current_result, next_element) ## this step could be different\n",
    "        return (prefixes + [r], r)\n",
    "    return iterate(g, ([], x), a)    \n",
    "\n",
    "iterate_prefixes(plus, 0, [2,1,3,2,2,5,4,1])"
   ]
  },
  {
   "cell_type": "markdown",
   "metadata": {
    "slideshow": {
     "slide_type": "fragment"
    }
   },
   "source": [
    "#### What are the work and span for two algorithms?"
   ]
  },
  {
   "cell_type": "markdown",
   "metadata": {
    "slideshow": {
     "slide_type": "slide"
    }
   },
   "source": [
    "We will look at how to improve `scan` approach using `prefix_sum` as an example. \n",
    "\n",
    "$\\texttt{prefix_sum}([2,1,3,2,2,5,4,1]) \\rightarrow ([0, 2, 3, 6, 8, 10, 15, 19], 20)$\n",
    "\n",
    "\n",
    "Divide and conquer won't quite work...why?\n",
    "\n",
    "<br><br>\n",
    "need sum at $i-1$ to compute sum at $i$\n",
    "\n",
    "<br><br>\n",
    "Let's see the **Divide-and-Conquer** version."
   ]
  },
  {
   "cell_type": "markdown",
   "metadata": {
    "slideshow": {
     "slide_type": "slide"
    }
   },
   "source": [
    "### Divide-and-Conquer \n",
    "\n",
    "\n",
    "$\\texttt{prefix_sum}([2,1,3,2,2,5,4,1]) \\rightarrow ([0, 2, 3, 6, 8, 10, 15, 19], 20)$\n",
    "\n",
    "Now we just split the list $[2,1,3,2],[2,5,4,1]$ and recursively compute prefix sums?\n",
    "\n",
    "We'd get results $(b, b')$ and $(c, c')$ where:\n",
    "\n",
    "$(b, b') = (\\langle 0, 2, 3, 6\\rangle, 8)$\n",
    "\n",
    "$(c, c') = (\\langle 0, 2, 7, 11\\rangle, 12)$\n",
    " \n",
    "Now, it's easy to see that $b$ already gives us half the solution - how do we get the result by combining solutions?\n"
   ]
  },
  {
   "cell_type": "markdown",
   "metadata": {
    "slideshow": {
     "slide_type": "fragment"
    }
   },
   "source": [
    "To compute prefix sums, all we have to do is to add the sum of the first half to all of the elements of $b$ and to $b'$. We can generalize this approach to get:\n",
    "\n",
    "<p><span class=\"math display\">\\[\\begin{array}{l}  \n",
    "\\mathit{scanDC}~f~\\mathit{id}~a =  \n",
    "\\\\  \n",
    "~~~~\\texttt{if}~|a| = 0~\\texttt{then}  \n",
    "\\\\  \n",
    "~~~~~~~~(\\left\\langle\\,  \\,\\right\\rangle, \\mathit{id})  \n",
    "\\\\  \n",
    "~~~~\\texttt{else if}~|a| = 1~\\texttt{then}  \n",
    "\\\\   \n",
    "~~~~~~~~(\\left\\langle\\, \\mathit{id} \\,\\right\\rangle,a[0])  \n",
    "\\\\  \n",
    "~~~~\\texttt{else}  \n",
    "\\\\   \n",
    "~~~~~~~~\\texttt{let}  \n",
    "\\\\   \n",
    "~~~~~~~~~~~~(b, c) = \\mathit{splitMid}~a  \n",
    "\\\\  \n",
    "~~~~~~~~~~~~((l,b'),(r,c')) = (\\mathit{scanDC}~f~\\mathit{id}~b \\mid\\mid{}~\\mathit{scanDC}~f~\\mathit{id}~c)  \n",
    "\\\\  \n",
    "~~~~~~~~~~~~r' = \\left\\langle\\, f (b',x) : x \\in r \\,\\right\\rangle  \n",
    "\\\\  \n",
    "~~~~~~~~\\texttt{in}  \n",
    "\\\\  \n",
    "~~~~~~~~~~~~(\\mathit{append}~(l,r'), f(b',c'))  \n",
    "\\\\  \n",
    "~~~~~~~~\\texttt{end}  \n",
    "\\end{array}\\]</span></p>\n",
    "\n"
   ]
  },
  {
   "cell_type": "markdown",
   "metadata": {
    "slideshow": {
     "slide_type": "fragment"
    }
   },
   "source": [
    "Assuming that $f(n)$ can be computed in constant time, we get the following recurrences for work and span:\n",
    "    \n",
    "$$ W(n) = 2W(n/2) + O(n)$$\n",
    "\n",
    "and \n",
    "\n",
    "$$ S(n) = S(n/2) + O(1) $$\n",
    "\n",
    "Thus the work is $O(n \\log n)$ and the span is $O(\\log n)$.\n",
    "\n",
    "Is this algorithm work-efficient? Why or why not?"
   ]
  },
  {
   "cell_type": "code",
   "execution_count": 1,
   "metadata": {
    "scrolled": true,
    "slideshow": {
     "slide_type": "fragment"
    }
   },
   "outputs": [
    {
     "name": "stdout",
     "output_type": "stream",
     "text": [
      "                 a= [2, 1, 3, 2, 2, 5, 4, 1]\n",
      "         a= [2, 1, 3, 2]\n",
      "     a= [2, 1]\n",
      "   a= [2]\n",
      "   a= [1]\n",
      "     a= [3, 2]\n",
      "   a= [3]\n",
      "   a= [2]\n",
      "         a= [2, 5, 4, 1]\n",
      "     a= [2, 5]\n",
      "   a= [2]\n",
      "   a= [5]\n",
      "     a= [4, 1]\n",
      "   a= [4]\n",
      "   a= [1]\n"
     ]
    },
    {
     "data": {
      "text/plain": [
       "([0, 2, 3, 6, 8, 10, 15, 19], 20)"
      ]
     },
     "execution_count": 1,
     "metadata": {},
     "output_type": "execute_result"
    }
   ],
   "source": [
    "def scanDC(f, id_, a):\n",
    "    space = len(a) * '  ' # for printing\n",
    "    print(space, 'a=', a)\n",
    "\n",
    "    if len(a) == 0:\n",
    "        return ([], id_)\n",
    "    elif len(a) == 1:\n",
    "        return ([id_], a[0])\n",
    "    else:\n",
    "        b = a[:len(a)//2]\n",
    "        c = a[len(a)//2:]\n",
    "        left, L = scanDC(f, id_, b)\n",
    "        right, R = scanDC(f, id_, c)\n",
    "        updated_right = [f(L, x) for x in right]\n",
    "        return left + updated_right, f(L, R)\n",
    "\n",
    "def plus(x,y):\n",
    "    return x + y\n",
    "        \n",
    "scanDC(plus, 0, [2,1,3,2,2,5,4,1])"
   ]
  },
  {
   "cell_type": "markdown",
   "metadata": {
    "slideshow": {
     "slide_type": "slide"
    }
   },
   "source": [
    "### Can we improve the work and span?"
   ]
  },
  {
   "cell_type": "markdown",
   "metadata": {
    "slideshow": {
     "slide_type": "fragment"
    }
   },
   "source": [
    "Instead, we use an idea called **contraction** that is like divide and conquer, but doesn't require subproblems to be independent. Yet it still allows some parallelism.\n",
    "\n",
    "\n",
    "<br><br>\n",
    "\n",
    "**Key observation:**\n",
    "\n",
    "Given input $[2,1,3,2,2,5,4,1]$ we can compute pairwise addition on each adjacent pairs of numbers:\n",
    "\n",
    "$[2,1,3,2,2,5,4,1] \\rightarrow$\n",
    "\n",
    "$[(2+1), (3+2), (2+5), (4+1)] \\rightarrow$\n",
    "\n",
    "$[3, 5, 7, 5]$\n",
    "\n",
    "### These four additions can be done in parallel"
   ]
  },
  {
   "cell_type": "markdown",
   "metadata": {
    "slideshow": {
     "slide_type": "fragment"
    }
   },
   "source": [
    "This is a **partial** output. How do we modify this to get the final output?\n",
    "\n",
    "\n",
    "Since we are using recursion, we will assume we have access to the right output for this subproblem, which is\n",
    "\n",
    "$\\texttt{prefix_sum}([3, 5, 7, 5]) \\rightarrow ([0, 3, 8, 15], 20)$\n",
    "\n",
    "We want to have $~[\\mathbf{0}, 2, \\mathbf{3}, 6, \\mathbf{8}, 10, \\mathbf{15}, 19], 20)$\n",
    "\n",
    "<br>\n",
    "\n",
    "How can we combine this partial solution with the original input $[2,1,3,2,2,5,4,1]$ to get the right answer?\n"
   ]
  },
  {
   "cell_type": "markdown",
   "metadata": {
    "slideshow": {
     "slide_type": "fragment"
    }
   },
   "source": [
    "![figures/scan.png](figures/scan.png)\n",
    "\n",
    "> Sum together the partial output at position $i$ with the original input at $i+1$."
   ]
  },
  {
   "cell_type": "code",
   "execution_count": 3,
   "metadata": {
    "slideshow": {
     "slide_type": "fragment"
    }
   },
   "outputs": [
    {
     "name": "stdout",
     "output_type": "stream",
     "text": [
      "                 a= [2, 1, 3, 2, 2, 5, 4, 1]\n",
      "                 subproblem= [3, 5, 7, 5]\n",
      "         a= [3, 5, 7, 5]\n",
      "         subproblem= [8, 12]\n",
      "     a= [8, 12]\n",
      "     subproblem= [20]\n",
      "   a= [20]\n",
      "     partial_output= [0] total= 20\n",
      "     returning ([0, 8], 20)\n",
      "         partial_output= [0, 8] total= 20\n",
      "         returning ([0, 3, 8, 15], 20)\n",
      "                 partial_output= [0, 3, 8, 15] total= 20\n",
      "                 returning ([0, 2, 3, 6, 8, 10, 15, 19], 20)\n"
     ]
    },
    {
     "data": {
      "text/plain": [
       "([0, 2, 3, 6, 8, 10, 15, 19], 20)"
      ]
     },
     "execution_count": 3,
     "metadata": {},
     "output_type": "execute_result"
    }
   ],
   "source": [
    "def fastscan(f, id_, a):\n",
    "    space = len(a) * '  ' # for printing\n",
    "    print(space, 'a=', a)\n",
    "\n",
    "    # base cases are same as reduce\n",
    "    if len(a) == 0:\n",
    "        return [], id_\n",
    "    elif len(a) == 1:\n",
    "        return [id_], a[0]\n",
    "    else:\n",
    "        # compute the \"partial solution\" by\n",
    "        # applying f to each adjacent pair of numbers \n",
    "        # e.g., [2, 1, 3, 2, 2, 5, 4, 1] -> [3, 5, 7, 5]\n",
    "        # this can be done in parallel\n",
    "        subproblem = [f(a[i], a[i+1]) for i in range(len(a))[::2]]\n",
    "        print(space, 'subproblem=', subproblem)\n",
    "\n",
    "        # recursively apply fastscan to the subproblem\n",
    "        partial_output, total = fastscan(f, id_, subproblem)     # ->[8, 12]->[20]\n",
    "        # partial_output = [0, 3, 8, 15]   total=20\n",
    "        print(space, 'partial_output=', partial_output, 'total=', total)\n",
    "        \n",
    "        # combine partial_output with input to get desired output\n",
    "        ret = (\n",
    "            [partial_output[i//2] if i%2==0 else   # use partial output\n",
    "             f(partial_output[i//2], a[i-1])       # combine partial output with next value\n",
    "             for i in range(len(a))],\n",
    "            total\n",
    "        )\n",
    "        print(space, 'returning', ret)\n",
    "        return ret\n",
    "\n",
    "def plus(x,y):\n",
    "    return x + y\n",
    "        \n",
    "fastscan(plus, 0, [2,1,3,2,2,5,4,1])"
   ]
  },
  {
   "cell_type": "code",
   "execution_count": 4,
   "metadata": {
    "slideshow": {
     "slide_type": "fragment"
    }
   },
   "outputs": [
    {
     "data": {
      "text/plain": [
       "[0, 2, 4, 6, 8]"
      ]
     },
     "execution_count": 4,
     "metadata": {},
     "output_type": "execute_result"
    }
   ],
   "source": [
    "# python note: fancy indexing\n",
    "list(range(10)[::2])"
   ]
  },
  {
   "cell_type": "markdown",
   "metadata": {
    "slideshow": {
     "slide_type": "slide"
    }
   },
   "source": [
    "\n",
    "### `scan` in SPARC \n",
    "\n",
    "\\begin{array}{l}  \n",
    "\\\\  \n",
    "\\mathit{scan}~f~\\mathit{id}~a =  \n",
    "\\\\  \n",
    "~~~~\\texttt{if}~|a| = 0~\\texttt{then}   \n",
    "\\\\  \n",
    "~~~~\\left(\\left\\langle\\,  \\,\\right\\rangle, id\\right)  \n",
    "\\\\  \n",
    "~~~~\\texttt{else if}~|a| = 1 ~\\texttt{then}  \n",
    "\\\\  \n",
    "~~~~~~~~\\left( \\left\\langle\\, id \\,\\right\\rangle, a[0] \\right)  \n",
    "\\\\  \n",
    "~~~~\\texttt{else}  \n",
    "\\\\   \n",
    "~~~~~~~~\\texttt{let}  \n",
    "\\\\  \n",
    "~~~~~~~~~~~~a' = \\left\\langle\\,  f(a[2i],a[2i+1]) : 0 \\leq i < n/2 \\,\\right\\rangle  \n",
    "\\\\  \n",
    "~~~~~~~~~~~~(r,t) = \\mathit{scan}~f~\\mathit{id}~ a' \n",
    "\\\\  \n",
    "~~~~~~~~\\texttt{in}  \n",
    "\\\\   \n",
    "~~~~~~~~~~~~(\\left\\langle\\,  p_i : 0 \\leq i < n  \\,\\right\\rangle, t),~\\texttt{where}~p_i =   \n",
    "\\begin{cases}  \n",
    "     r[i/2]  & \\texttt{even}(i) \\\\  \n",
    "     f(r[i/2], a[i-1]) & \\texttt{otherwise}  \n",
    "\\end{cases}  \n",
    "\\\\  \n",
    "~~~~~~~~\\texttt{end}  \n",
    "\\end{array}"
   ]
  },
  {
   "cell_type": "markdown",
   "metadata": {
    "slideshow": {
     "slide_type": "slide"
    }
   },
   "source": [
    "### Analysis of the Work of `scan` \n",
    "\n",
    "Assume that function `f` is constant time.\n",
    "\n",
    "<br><br>\n",
    "\n",
    "\n",
    "```python\n",
    "subproblem = [f(a[i], a[i+1]) for i in range(len(a))[::2]]\n",
    "```\n"
   ]
  },
  {
   "cell_type": "markdown",
   "metadata": {
    "slideshow": {
     "slide_type": "fragment"
    }
   },
   "source": [
    "takes $O(n)$"
   ]
  },
  {
   "cell_type": "markdown",
   "metadata": {
    "slideshow": {
     "slide_type": "fragment"
    }
   },
   "source": [
    "<br><br>\n",
    "\n",
    "```python\n",
    "        ret = (\n",
    "            [partial_output[i//2] if i%2==0 else\n",
    "             f(partial_output[i//2], a[i-1])  \n",
    "             for i in range(len(a))],\n",
    "            total\n",
    "        )\n",
    "```"
   ]
  },
  {
   "cell_type": "markdown",
   "metadata": {
    "slideshow": {
     "slide_type": "fragment"
    }
   },
   "source": [
    "takes $O(n)$"
   ]
  },
  {
   "cell_type": "markdown",
   "metadata": {
    "slideshow": {
     "slide_type": "fragment"
    }
   },
   "source": [
    "```python\n",
    "partial_output, total = fastscan(f, id_, subproblem)\n",
    "```\n"
   ]
  },
  {
   "cell_type": "markdown",
   "metadata": {
    "slideshow": {
     "slide_type": "fragment"
    }
   },
   "source": [
    "reduces problem in half each recursive call\n",
    "\n",
    "but there is only one recursive call, instead of two for, e.g., `merge sort`\n",
    "\n"
   ]
  },
  {
   "cell_type": "markdown",
   "metadata": {
    "slideshow": {
     "slide_type": "fragment"
    }
   },
   "source": [
    "$$W(n) = W(n/2) + n$$"
   ]
  },
  {
   "cell_type": "markdown",
   "metadata": {
    "slideshow": {
     "slide_type": "fragment"
    }
   },
   "source": [
    "$$W(n) \\in O(n)$$"
   ]
  },
  {
   "cell_type": "markdown",
   "metadata": {
    "slideshow": {
     "slide_type": "slide"
    }
   },
   "source": [
    "### Analysis of the Span of `scan` \n",
    "\n",
    "Assume that function `f` is constant time.\n",
    "\n",
    "\n",
    "```python\n",
    "subproblem = [f(a[i], a[i+1]) for i in range(len(a))[::2]]\n",
    "```\n"
   ]
  },
  {
   "cell_type": "markdown",
   "metadata": {
    "slideshow": {
     "slide_type": "fragment"
    }
   },
   "source": [
    "\n",
    "With infinite processors, this can be done in constant work.\n",
    "\n"
   ]
  },
  {
   "cell_type": "markdown",
   "metadata": {
    "slideshow": {
     "slide_type": "fragment"
    }
   },
   "source": [
    "\n",
    "```python\n",
    "        ret = (\n",
    "            [partial_output[i//2] if i%2==0 else\n",
    "             f(partial_output[i//2], a[i-1])  \n",
    "             for i in range(len(a))],\n",
    "            total\n",
    "        )\n",
    "```\n"
   ]
  },
  {
   "cell_type": "markdown",
   "metadata": {
    "slideshow": {
     "slide_type": "fragment"
    }
   },
   "source": [
    "With infinite processors, this can be done in constant work."
   ]
  },
  {
   "cell_type": "markdown",
   "metadata": {
    "slideshow": {
     "slide_type": "fragment"
    }
   },
   "source": [
    "```python\n",
    "partial_output, total = fastscan(f, id_, subproblem)\n",
    "```\n"
   ]
  },
  {
   "cell_type": "markdown",
   "metadata": {
    "slideshow": {
     "slide_type": "fragment"
    }
   },
   "source": [
    "\n",
    "reduces problem in half each recursive call\n",
    "\n",
    "<br><br>\n",
    "\n"
   ]
  },
  {
   "cell_type": "markdown",
   "metadata": {
    "slideshow": {
     "slide_type": "fragment"
    }
   },
   "source": [
    "$$S(n) = S(n/2) + O(1)$$\n"
   ]
  },
  {
   "cell_type": "markdown",
   "metadata": {
    "slideshow": {
     "slide_type": "fragment"
    }
   },
   "source": [
    "$$S(n) \\in O(\\lg n)$$\n",
    "\n",
    "- surprisingly the *same* work and span of `reduce`\n",
    "- even though we're keeping track of output for all prefixes.\n",
    "\n",
    "<br><br>\n",
    "`scan` is a popular primitive in parallel programming, used to solve many problems, including:\n",
    "https://en.wikipedia.org/wiki/Prefix_sum\n",
    "\n",
    "- evaluating polynomials\n",
    "- quicksort\n",
    "- search for regular expressions"
   ]
  }
 ],
 "metadata": {
  "celltoolbar": "Slideshow",
  "kernelspec": {
   "display_name": "Python 3 (ipykernel)",
   "language": "python",
   "name": "python3"
  },
  "language_info": {
   "codemirror_mode": {
    "name": "ipython",
    "version": 3
   },
   "file_extension": ".py",
   "mimetype": "text/x-python",
   "name": "python",
   "nbconvert_exporter": "python",
   "pygments_lexer": "ipython3",
   "version": "3.8.2"
  },
  "rise": {
   "autolaunch": true,
   "controls": false,
   "enable_chalkboard": true,
   "scroll": true,
   "theme": "simple",
   "transition": "fade"
  },
  "toc": {
   "base_numbering": 1,
   "nav_menu": {},
   "number_sections": true,
   "sideBar": true,
   "skip_h1_title": true,
   "title_cell": "Table of Contents",
   "title_sidebar": "Contents",
   "toc_cell": true,
   "toc_position": {},
   "toc_section_display": true,
   "toc_window_display": false
  }
 },
 "nbformat": 4,
 "nbformat_minor": 4
}
