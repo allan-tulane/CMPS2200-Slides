{
 "cells": [
  {
   "cell_type": "code",
   "execution_count": 1,
   "metadata": {
    "code_folding": [],
    "slideshow": {
     "slide_type": "skip"
    }
   },
   "outputs": [
    {
     "data": {
      "text/html": [
       "<style>.prompt{width: 0px; min-width: 0px; visibility: collapse}</style>"
      ],
      "text/plain": [
       "<IPython.core.display.HTML object>"
      ]
     },
     "metadata": {},
     "output_type": "display_data"
    },
    {
     "data": {
      "text/html": [
       "<style>\n",
       "div#notebook {\n",
       " font-family: \"Exo_2\", sans-serif;\n",
       "}\n",
       "\n",
       ".rendered_html h1,\n",
       ".text_cell_render h1 {\n",
       " color: #126dce;\n",
       " font-size: 220%;\n",
       " text-align: center;\n",
       " font-weight: lighter;\n",
       "}\n",
       ".rendered_html h2,\n",
       ".text_cell_render h2 {\n",
       " text-align: center;\n",
       " font-size: 170%;\n",
       " color: #126dce;\n",
       " font-style: normal;\n",
       " font-weight: lighter;\n",
       "}\n",
       ".rendered_html h3,\n",
       ".text_cell_render h3 {\n",
       " font-size: 150%;\n",
       " color: #126dce;\n",
       " font-weight: lighter;\n",
       " text-decoration: italic;\n",
       " font-style: normal;\n",
       "}\n",
       ".rendered_html h4,\n",
       ".text_cell_render h4 {\n",
       " font-size: 120%;\n",
       " color: #126dce;\n",
       " font-weight: underline;\n",
       " font-style: normal;\n",
       "}\n",
       ".rendered_html h5,\n",
       ".text_cell_render h5 {\n",
       " font-size: 100%;\n",
       " color: #2f2f2f;\n",
       " font-weight: lighter;\n",
       " text-decoration: underline;\n",
       "}\n",
       "</style>\n"
      ],
      "text/plain": [
       "<IPython.core.display.HTML object>"
      ]
     },
     "metadata": {},
     "output_type": "display_data"
    }
   ],
   "source": [
    "# setup\n",
    "from IPython.core.display import display,HTML\n",
    "display(HTML('<style>.prompt{width: 0px; min-width: 0px; visibility: collapse}</style>'))\n",
    "display(HTML(open('rise.css').read()))\n",
    "\n",
    "# imports\n",
    "import numpy as np\n",
    "import matplotlib.pyplot as plt\n",
    "import seaborn as sns\n",
    "%matplotlib inline\n",
    "sns.set(style=\"whitegrid\", font_scale=1.5, rc={'figure.figsize':(12, 6)})\n"
   ]
  },
  {
   "cell_type": "markdown",
   "metadata": {
    "slideshow": {
     "slide_type": "slide"
    }
   },
   "source": [
    "# CMPS 2200\n",
    "# Introduction to Algorithms\n",
    "\n",
    "## Review + Reduce Sort\n"
   ]
  },
  {
   "cell_type": "markdown",
   "metadata": {},
   "source": [
    "### Agenda \n",
    "\n",
    " - Review Iterate and Reduce\n",
    " - Review Generic Devide-and-Conquer\n",
    " - "
   ]
  },
  {
   "cell_type": "markdown",
   "metadata": {
    "slideshow": {
     "slide_type": "slide"
    }
   },
   "source": [
    "## Iterate\n",
    "\n",
    "- Iterate over a sequence and accumulate a result that changes at each step (e.g., \"running sum\")\n",
    "\n",
    "$iterate \\ (f : \\alpha \\times \\beta \\rightarrow \\alpha) (x : \\alpha) (a : \\mathbb{S}_\\beta) : \\alpha$\n",
    "\n",
    "$iterate$ is a function that takes as input:\n",
    "- another function $f : \\alpha \\times \\beta \\rightarrow \\alpha$\n",
    "- an initial result $x$\n",
    "- a sequence $a$ of type $\\mathbb{S}_\\beta$\n",
    "\n",
    "and returns a value of type $\\alpha$ that is the result of applying $f(x,a)$ to each element of the sequence.\n",
    "\n",
    "\n",
    "<br>\n",
    "\n",
    "$iterate \\: f \\: x \\: a =\n",
    "\\begin{cases}\n",
    "x & \\hbox{if} \\: |a| = 0\\\\\n",
    "iterate \\: f \\:\\: f(x, a[0]) \\:\\:\\: a[1 \\ldots |a|-1]& \\hbox{otherwise}\n",
    "\\end{cases}\n",
    "$\n",
    "\n",
    "\n",
    "e.g.\n",
    "\n",
    "$iterate \\:\\: + \\:\\:\\: 0 \\:\\:\\: \\langle 2,5,1,6 \\rangle \\Rightarrow (((2+5)+1)+6) \\Rightarrow 14$\n",
    "\n",
    "<br>\n",
    "\n",
    "$f(f(f(x, a[0]), a[1]), a[2])\\ldots)$"
   ]
  },
  {
   "cell_type": "code",
   "execution_count": 3,
   "metadata": {},
   "outputs": [
    {
     "name": "stdout",
     "output_type": "stream",
     "text": [
      "iterate: calling plus x=0 a=[1, 2, 4, 6, 8, 2, 5, 1, 6]\n",
      "iterate: calling plus x=1 a=[2, 4, 6, 8, 2, 5, 1, 6]\n",
      "iterate: calling plus x=3 a=[4, 6, 8, 2, 5, 1, 6]\n",
      "iterate: calling plus x=7 a=[6, 8, 2, 5, 1, 6]\n",
      "iterate: calling plus x=13 a=[8, 2, 5, 1, 6]\n",
      "iterate: calling plus x=21 a=[2, 5, 1, 6]\n",
      "iterate: calling plus x=23 a=[5, 1, 6]\n",
      "iterate: calling plus x=28 a=[1, 6]\n",
      "iterate: calling plus x=29 a=[6]\n",
      "iterate: calling plus x=35 a=[]\n"
     ]
    },
    {
     "data": {
      "text/plain": [
       "35"
      ]
     },
     "execution_count": 3,
     "metadata": {},
     "output_type": "execute_result"
    }
   ],
   "source": [
    "def iterate(f, x, a):\n",
    "    \"\"\"\n",
    "    Params:\n",
    "      f.....function to apply\n",
    "      x.....return when a is empty\n",
    "      a.....input sequence\n",
    "    \"\"\"\n",
    "    print('iterate: calling %s x=%s a=%s' % (f.__name__, x, a))\n",
    "    if len(a) == 0:\n",
    "        return x\n",
    "    else:\n",
    "        return iterate(f, f(x, a[0]), a[1:])\n",
    "\n",
    "def plus(x, y):\n",
    "    return x + y\n",
    "\n",
    "iterate(plus, 0, [1,2,4,6,8,2,5,1,6])"
   ]
  },
  {
   "cell_type": "markdown",
   "metadata": {},
   "source": [
    "Work and Span of iterate with **plus function**?\n",
    "\n",
    "$W(n) = W(n-1) + 1 \\in O(n)$\n",
    "\n",
    "$S(n) = S(n-1) + 1 \\in O(n)$"
   ]
  },
  {
   "cell_type": "markdown",
   "metadata": {
    "slideshow": {
     "slide_type": "slide"
    }
   },
   "source": [
    "## Reduce\n",
    "\n",
    "\n",
    "> A function that repeatedly applies an **associative binary operation** to a collection of elements until the result is *reduced* to a single value.\n",
    "\n",
    "Associative operations allow commuting the order of operations.\n",
    "- $plus(plus(2,3), 5) = plus(2, plus(3,5)) = 10$\n",
    "\n",
    "<br>\n",
    "\n",
    "**formal definition of reduce**:\n",
    "\n",
    "$reduce \\: (f : \\alpha \\times \\alpha \\rightarrow \\alpha) (id : \\alpha) (a : \\mathbb{S}_\\alpha) : \\alpha$\n",
    "\n",
    "Input is:\n",
    "- $f$: an associative binary function\n",
    "- $a$ is the sequence\n",
    "- $id$ is the **left identity** of $f$ $\\:\\: \\equiv \\:\\:$ $f(id, x) = x$ for all $x \\in \\alpha$\n",
    "\n",
    "Returns:\n",
    "- a value of type $\\alpha$ that is the result of the \"sum\" with respect to $f$ of the input sequence $a$\n",
    "\n",
    "\n",
    "<br>\n",
    "\n",
    "\n",
    "$reduce \\: f \\: id \\: a =\n",
    "\\begin{cases}\n",
    "id & \\hbox{if} \\: |a| = 0\\\\\n",
    "a[0] & \\hbox{if} \\: |a| = 1\\\\\n",
    "f(reduce \\: f \\: id \\: (a[0 \\ldots \\lfloor \\frac{|a|}{2} \\rfloor - 1]), \\\\ \\:\\:\\:reduce \\: f \\: id \\: (a[\\lfloor \\frac{|a|}{2} \\rfloor \\ldots |a|-1])& \\hbox{otherwise}\n",
    "\\end{cases}\n",
    "$\n",
    "\n",
    "> When $f$ is associative: $reduce \\: f \\: id \\: a  \\: \\equiv \\: iterate \\: f \\: id \\: a$, reduce is a variant of iterate that allows for easier parallelism.\n",
    "\n",
    "\n",
    "\n"
   ]
  },
  {
   "cell_type": "code",
   "execution_count": 4,
   "metadata": {
    "slideshow": {
     "slide_type": "fragment"
    }
   },
   "outputs": [
    {
     "data": {
      "text/plain": [
       "35"
      ]
     },
     "execution_count": 4,
     "metadata": {},
     "output_type": "execute_result"
    }
   ],
   "source": [
    "def reduce(f, id_, a):\n",
    "    # print('a=%s' % a) # for tracing\n",
    "    if len(a) == 0:\n",
    "        return id_\n",
    "    elif len(a) == 1:\n",
    "        return a[0]\n",
    "    else:\n",
    "        # can call these in parallel\n",
    "        return f(reduce(f, id_, a[:len(a)//2]), \n",
    "                 reduce(f, id_, a[len(a)//2:]))\n",
    "\n",
    "reduce(plus, 0, [1,2,4,6,8,2,5,1,6])"
   ]
  },
  {
   "cell_type": "markdown",
   "metadata": {
    "slideshow": {
     "slide_type": "fragment"
    }
   },
   "source": [
    "Work and Span of reduce with **plus function**\n",
    "\n",
    "$$W(n) = 2W(n/2) + 1 \\in O(n)$$\n",
    "\n",
    "$$S(n) = S(n/2) + 1 \\in O(\\lg n)$$"
   ]
  },
  {
   "cell_type": "markdown",
   "metadata": {
    "slideshow": {
     "slide_type": "slide"
    }
   },
   "source": [
    "For more complicated combination functions, we can define a generic version of most divide and conquer algorithms and show that it can be implemented with `reduce` and `map`."
   ]
  },
  {
   "cell_type": "code",
   "execution_count": null,
   "metadata": {
    "slideshow": {
     "slide_type": "fragment"
    }
   },
   "outputs": [],
   "source": [
    "## Generic divide and conquer algorithm.\n",
    "\n",
    "def my_divide_n_conquer_alg(mylist):    \n",
    "    if len(mylist) == 0:\n",
    "        return LEFT_IDENTITY# <identity>\n",
    "    elif len(mylist) == 1:\n",
    "        return BASECASE(mylist[0]) # basecase for 1\n",
    "    else:\n",
    "        return COMBINE_FUNCTION(\n",
    "            my_divide_n_conquer_alg(mylist[:len(mylist)//2]),\n",
    "            my_divide_n_conquer_alg(mylist[len(mylist)//2:])\n",
    "        )\n",
    "\n",
    "def COMBINE_FUNCTION(solution1, solution2):\n",
    "    \"\"\" return the combination of two recursive solutions\"\"\"\n",
    "    pass\n",
    "\n",
    "def BASECASE(value):\n",
    "    \"\"\" return the basecase value for a single input\"\"\"\n",
    "    pass\n",
    "\n",
    "### is equivalent to\n",
    "reduce(COMBINE_FUNCTION, LEFT_IDENTITY, (map(BASECASE, mylist)))"
   ]
  },
  {
   "cell_type": "markdown",
   "metadata": {
    "slideshow": {
     "slide_type": "slide"
    }
   },
   "source": [
    "### Example: Sorting with Reduce"
   ]
  },
  {
   "cell_type": "code",
   "execution_count": 2,
   "metadata": {
    "slideshow": {
     "slide_type": "fragment"
    }
   },
   "outputs": [
    {
     "data": {
      "text/plain": [
       "[1, 2, 3, 4, 8, 10]"
      ]
     },
     "execution_count": 2,
     "metadata": {},
     "output_type": "execute_result"
    }
   ],
   "source": [
    "def merge(left, right):\n",
    "    \"\"\"\n",
    "    Takes in two sorted lists and returns a sorted list that combines them both.\n",
    "    \"\"\"\n",
    "    i = j = 0\n",
    "    result = []\n",
    "    while i < len(left) and j < len(right):\n",
    "        if right[j] < left[i]:   # out of order: e.g., left=[4], right=[3]\n",
    "            result.append(right[j])\n",
    "            j += 1\n",
    "        else:                   # in order: e.g., left=[1], right=[2]\n",
    "            result.append(left[i])\n",
    "            i += 1    \n",
    "    # append any remaining items (at most one list will have items left)\n",
    "    result.extend(left[i:])\n",
    "    result.extend(right[j:])\n",
    "    return result\n",
    "\n",
    "merge([1,4,8], [2,3,10])"
   ]
  },
  {
   "cell_type": "markdown",
   "metadata": {
    "slideshow": {
     "slide_type": "fragment"
    }
   },
   "source": [
    "What is base case and left identity? "
   ]
  },
  {
   "cell_type": "code",
   "execution_count": 29,
   "metadata": {
    "slideshow": {
     "slide_type": "fragment"
    }
   },
   "outputs": [
    {
     "data": {
      "text/plain": [
       "[1, 2, 3, 4, 5, 6, 7, 8]"
      ]
     },
     "execution_count": 29,
     "metadata": {},
     "output_type": "execute_result"
    }
   ],
   "source": [
    "def singleton(value):\n",
    "    \"\"\" just created a list with one element. \"\"\"\n",
    "    return [value]\n",
    "\n",
    "## reduce(COMBINE_FUNCTION, LEFT_IDENTITY, (map(BASECASE, mylist)))\n",
    "reduce(merge, [], list(map(singleton, [1,3,6,4,8,7,5,2])))"
   ]
  },
  {
   "cell_type": "markdown",
   "metadata": {
    "slideshow": {
     "slide_type": "fragment"
    }
   },
   "source": [
    "What if we use `iterate` instead of `reduce`?"
   ]
  },
  {
   "cell_type": "code",
   "execution_count": 30,
   "metadata": {
    "slideshow": {
     "slide_type": "fragment"
    }
   },
   "outputs": [
    {
     "data": {
      "text/plain": [
       "[1, 2, 3, 4, 5, 6, 7, 8]"
      ]
     },
     "execution_count": 30,
     "metadata": {},
     "output_type": "execute_result"
    }
   ],
   "source": [
    "iterate(merge, [], list(map(singleton, [1,3,6,4,8,7,5,2])))"
   ]
  },
  {
   "cell_type": "markdown",
   "metadata": {},
   "source": [
    "### Analysis\n",
    "\n",
    "`iterate(merge, [], list(map(singleton, [1,3,6,4,8,7,5,2])))`\n",
    "\n",
    "This is **insertion sort**!\n",
    "\n",
    "- We iterate from left to right.\n",
    "- At each step we insert the next element into the appropriate place in the sorted list.\n",
    "\n",
    "$[1] \\rightarrow [1,3] \\rightarrow [1,3,6] \\rightarrow [1,3,4,6] \\ldots$\n",
    "\n",
    "<br><br>\n",
    "\n",
    "Assuming the `merge` function has **work** $O(n)$.\n",
    "\n",
    "$$W(n) = W(n-1) + n \\in O(n^2)$$\n",
    "\n",
    "<br><br>\n",
    "\n",
    "Assuming the `merge` function has **span** $O(\\lg n)$ (note our implementation above doesn't yet do this).\n",
    "\n",
    "$$S(n) = S(n-1) + \\lg n \\in O(n \\lg n)$$\n",
    "\n",
    "\n",
    "<br><br><br><br>\n",
    "\n",
    "`reduce(merge, [], list(map(singleton, [1,3,6,4,8,7,5,2])))`\n",
    "\n",
    "This is **merge sort**!\n",
    "\n",
    "<br><br>\n",
    "\n",
    "Assuming the `merge` function has **work** $O(n)$.\n",
    "\n",
    "$$W(n) = 2W(n/2) + n \\in O(n \\lg n)$$\n",
    "\n",
    "Assuming the `merge` function has **span** $O(\\lg n)$.\n",
    "\n",
    "$$S(n) = S(n/2) + \\lg n \\in O(\\lg^2 n)$$"
   ]
  },
  {
   "cell_type": "markdown",
   "metadata": {
    "slideshow": {
     "slide_type": "slide"
    }
   },
   "source": [
    "## Scan\n",
    "\n",
    "*reduce* doesn't store the intermediate results, which limits it somewhat. \n",
    "\n",
    "*scan* is like reduce, but it keeps track of the intermediate computations (like *iterate* does).\n",
    "\n",
    "$scan \\: (f : \\alpha \\times \\alpha \\rightarrow \\alpha) (id : \\alpha) (a : \\mathbb{S}_\\alpha) : (S_\\alpha * \\alpha)$\n",
    "\n",
    "\n",
    "Input is:\n",
    "- $f$: an associative binary function\n",
    "- $a$ is the sequence\n",
    "- $id$ is the **left identity** of $f$ $\\:\\: \\equiv \\:\\:$ $f(id, x) = x$ for all $x \\in \\alpha$\n",
    "\n",
    "Returns:\n",
    "- a tuple containing:\n",
    "  - a value of type $S_\\alpha$, the sequence of intermediate values\n",
    "  - a value of type $\\alpha$ that is the result of the \"sum\" with respect to $f$ of the input sequence $a$\n",
    "\n",
    "\n",
    "\n",
    "<br>\n",
    "\n",
    "\n",
    "<br>\n",
    "\n",
    "$scan \\: f \\: id \\: a = (\\langle reduce \\:\\: f \\:\\: id \\:\\: a[0 \\ldots (i-1)] : 0 \\le i < |a| \\rangle,$  \n",
    "$\\:\\:\\:\\:\\:\\:\\:\\:\\:\\:\\:\\:\\:\\:\\:\\:\\:\\:\\:\\:\\:\\:\\:\\:\\: reduce \\:\\: f \\:\\: id \\:\\: a)$"
   ]
  },
  {
   "cell_type": "code",
   "execution_count": 6,
   "metadata": {
    "slideshow": {
     "slide_type": "slide"
    }
   },
   "outputs": [
    {
     "data": {
      "text/plain": [
       "([2, 3, 6, 8, 10, 15, 19, 20], 20)"
      ]
     },
     "execution_count": 6,
     "metadata": {},
     "output_type": "execute_result"
    }
   ],
   "source": [
    "def reduce(f, id_, a):\n",
    "    # print('a=%s' % a) # for tracing\n",
    "    if len(a) == 0:\n",
    "        return id_\n",
    "    elif len(a) == 1:\n",
    "        return a[0]\n",
    "    else:\n",
    "        # can call these in parallel\n",
    "        return f(reduce(f, id_, a[:len(a)//2]),\n",
    "                  reduce(f, id_, a[len(a)//2:]))\n",
    "        \n",
    "def plus(x, y):\n",
    "    return x + y\n",
    "\n",
    "def scan(f, id_, a):\n",
    "    \"\"\"\n",
    "    This is a horribly inefficient implementation of scan\n",
    "    only to understand what it does.\n",
    "    We'll discuss how to make it more efficient later.\n",
    "    \"\"\"\n",
    "    return (\n",
    "            [reduce(f, id_, a[:i+1]) for i in range(len(a))],\n",
    "             reduce(f, id_, a)\n",
    "           )\n",
    "\n",
    "scan(plus, 0, [2,1,3,2,2,5,4,1])"
   ]
  },
  {
   "cell_type": "markdown",
   "metadata": {
    "slideshow": {
     "slide_type": "fragment"
    }
   },
   "source": [
    "`scan` is sometimes called `prefix sum`, as in the previous example it computes the sum of every prefix of a list."
   ]
  },
  {
   "cell_type": "code",
   "execution_count": 5,
   "metadata": {
    "slideshow": {
     "slide_type": "fragment"
    }
   },
   "outputs": [
    {
     "data": {
      "text/plain": [
       "([10, 10, 10, 12, 12, 16, 16], 16)"
      ]
     },
     "execution_count": 5,
     "metadata": {},
     "output_type": "execute_result"
    }
   ],
   "source": [
    "# what does this do?\n",
    "import math\n",
    "def gt(x,y):\n",
    "    return x if x > y else y\n",
    "\n",
    "scan(gt, -math.inf, [10,4,5,12,3,16,5]) "
   ]
  }
 ],
 "metadata": {
  "celltoolbar": "Slideshow",
  "kernelspec": {
   "display_name": "Python 3 (ipykernel)",
   "language": "python",
   "name": "python3"
  },
  "language_info": {
   "codemirror_mode": {
    "name": "ipython",
    "version": 3
   },
   "file_extension": ".py",
   "mimetype": "text/x-python",
   "name": "python",
   "nbconvert_exporter": "python",
   "pygments_lexer": "ipython3",
   "version": "3.9.7"
  },
  "rise": {
   "autolaunch": true,
   "controls": false,
   "enable_chalkboard": true,
   "scroll": true,
   "theme": "simple",
   "transition": "fade"
  },
  "toc": {
   "base_numbering": 1,
   "nav_menu": {},
   "number_sections": true,
   "sideBar": true,
   "skip_h1_title": true,
   "title_cell": "Table of Contents",
   "title_sidebar": "Contents",
   "toc_cell": true,
   "toc_position": {},
   "toc_section_display": true,
   "toc_window_display": false
  }
 },
 "nbformat": 4,
 "nbformat_minor": 4
}
