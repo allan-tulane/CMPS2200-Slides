{
 "cells": [
  {
   "cell_type": "code",
   "execution_count": 2,
   "metadata": {
    "code_folding": [],
    "slideshow": {
     "slide_type": "skip"
    }
   },
   "outputs": [
    {
     "data": {
      "text/html": [
       "<style>.prompt{width: 0px; min-width: 0px; visibility: collapse}</style>"
      ],
      "text/plain": [
       "<IPython.core.display.HTML object>"
      ]
     },
     "metadata": {},
     "output_type": "display_data"
    },
    {
     "data": {
      "text/html": [
       "<style>\n",
       "div#notebook {\n",
       " font-family: \"Exo_2\", sans-serif;\n",
       "}\n",
       "\n",
       ".rendered_html h1,\n",
       ".text_cell_render h1 {\n",
       " color: #126dce;\n",
       " font-size: 220%;\n",
       " text-align: center;\n",
       " font-weight: lighter;\n",
       "}\n",
       ".rendered_html h2,\n",
       ".text_cell_render h2 {\n",
       " text-align: center;\n",
       " font-size: 170%;\n",
       " color: #126dce;\n",
       " font-style: normal;\n",
       " font-weight: lighter;\n",
       "}\n",
       ".rendered_html h3,\n",
       ".text_cell_render h3 {\n",
       " font-size: 150%;\n",
       " color: #126dce;\n",
       " font-weight: lighter;\n",
       " text-decoration: italic;\n",
       " font-style: normal;\n",
       "}\n",
       ".rendered_html h4,\n",
       ".text_cell_render h4 {\n",
       " font-size: 120%;\n",
       " color: #126dce;\n",
       " font-weight: underline;\n",
       " font-style: normal;\n",
       "}\n",
       ".rendered_html h5,\n",
       ".text_cell_render h5 {\n",
       " font-size: 100%;\n",
       " color: #2f2f2f;\n",
       " font-weight: lighter;\n",
       " text-decoration: underline;\n",
       "}\n",
       "</style>\n"
      ],
      "text/plain": [
       "<IPython.core.display.HTML object>"
      ]
     },
     "metadata": {},
     "output_type": "display_data"
    }
   ],
   "source": [
    "# setup\n",
    "from IPython.core.display import display,HTML\n",
    "display(HTML('<style>.prompt{width: 0px; min-width: 0px; visibility: collapse}</style>'))\n",
    "display(HTML(open('rise.css').read()))\n",
    "\n",
    "# imports\n",
    "import numpy as np\n",
    "import matplotlib.pyplot as plt\n",
    "import seaborn as sns\n",
    "%matplotlib inline\n",
    "sns.set(style=\"whitegrid\", font_scale=1.5, rc={'figure.figsize':(12, 6)})\n"
   ]
  },
  {
   "cell_type": "markdown",
   "metadata": {
    "slideshow": {
     "slide_type": "slide"
    }
   },
   "source": [
    "# CMPS 2200\n",
    "# Introduction to Algorithms\n",
    "\n",
    "## Sequences\n"
   ]
  },
  {
   "cell_type": "markdown",
   "metadata": {
    "slideshow": {
     "slide_type": "slide"
    }
   },
   "source": [
    "## Sequences\n",
    "\n",
    "- many useful functions for parallel algorithms\n",
    "\n",
    "\n",
    "Simple to express by example:\n",
    "\n",
    "$\\langle 10, 20, 40 \\rangle$\n",
    "\n",
    "- We'll spend some time defining it more formally so the semantics are precise.\n",
    "\n",
    "- We'll then define primitive operations over sequences that can be composed to solve a wide array of problems involving sequences.\n",
    "\n",
    "<br>\n",
    "\n",
    "First, a quick refresher of sets, relations, and functions...\n"
   ]
  },
  {
   "cell_type": "markdown",
   "metadata": {
    "slideshow": {
     "slide_type": "slide"
    }
   },
   "source": [
    "## Set\n",
    "\n",
    "> **set**: collection of distinct objects  \n",
    "\n",
    "- each element of a set appears exactly once\n",
    "- set with no elements is empty set: $\\{\\}$ or $\\emptyset$\n",
    "\n",
    "E.g., Cartesian product of sets $A$ and $B = \\{(i,j) : i \\in A, j \\in B\\}$\n",
    "- \" tuples $i$ and $j$ *such that* $i$ is in $A$ and $j$ is in $B$ \""
   ]
  },
  {
   "cell_type": "markdown",
   "metadata": {
    "slideshow": {
     "slide_type": "slide"
    }
   },
   "source": [
    "## Relation\n",
    "\n",
    "> A binary **relation** $R$ from a set $A$ to a set $B$ is a subset of the Cartesian product of $A$ and $B$.  \n",
    "\n",
    "- $R \\subseteq A \\times B$\n",
    "- **domain** of $R$ is the set $\\{a : (a,b) \\in R\\}$\n",
    "- **range** of $R$ is the set $\\{b : (a,b) \\in R\\}$"
   ]
  },
  {
   "cell_type": "markdown",
   "metadata": {
    "slideshow": {
     "slide_type": "slide"
    }
   },
   "source": [
    "## Function\n",
    "\n",
    ">  A **function** or **mapping** from $A$ to $B$ is a relation $R \\subset A \\times B$ such that: \n",
    "\n",
    "- $|R| = |$domain$(R)|$\n",
    "- that is, for every $a$ in the domain of $R$, there is only one $b$ in the range of $R$ such that $(a,b) \\in R$\n",
    "\n",
    "$A$ is the **domain** and $B$ is the **co-domain**."
   ]
  },
  {
   "cell_type": "markdown",
   "metadata": {
    "slideshow": {
     "slide_type": "slide"
    }
   },
   "source": [
    "## Sequence\n",
    "\n",
    "> A **sequence** is a function whose domain is a contiguous set of natural numbers starting at zero.\n",
    "\n",
    "An $\\alpha$ **sequence** is a function from $\\mathbb{N}$ to $\\alpha$ with domain $\\{0, \\ldots, n-1\\}$ for some $n \\in \\mathbb{N}$\n",
    "\n",
    "- $\\alpha$ specifies the type of the sequence elements\n",
    "\n",
    "<br>\n",
    "\n",
    "E.g., $X$ and $Y$ are equivalent sequences:\n",
    "\n",
    "$ X = \\{(0, $ '$a$'$), (1, $ '$b$'$), (2, $ '$c$'$)\\} \\equiv \\langle $'$a$'$, \\: $'$b$'$, \\: $'$c$'$\\rangle$\n",
    "\n",
    "$ Y = \\{(1, $ '$b$'$), (2, $ '$c$'$), (0, $ '$a$'$)\\} \\equiv \\langle $'$a$'$, \\: $'$b$'$, \\: $'$c$'$\\rangle$\n",
    "\n",
    "<br>\n",
    "\n",
    "but $Z$ is not a sequence. why not?\n",
    "\n",
    "$ Z = \\{(0, $ '$a$'$), (2, $ '$c$'$)\\} $\n"
   ]
  },
  {
   "cell_type": "markdown",
   "metadata": {
    "slideshow": {
     "slide_type": "fragment"
    }
   },
   "source": [
    "> with domain $\\{0, \\ldots, n-1\\}$\n",
    "\n",
    "<br><br><br>\n",
    "\n",
    "Next, we'll define a number of functions over sequences and use them to solve problems.\n",
    "\n",
    "For each, we'll show the mathematical definition, and python code."
   ]
  },
  {
   "cell_type": "markdown",
   "metadata": {
    "slideshow": {
     "slide_type": "slide"
    }
   },
   "source": [
    "## Tabulate\n",
    "\n",
    "**formal definition**:   \n",
    "$tabulate \\: (f : \\: \\mathbb{N} \\rightarrow \\alpha)\\: (n :\\: \\mathbb{N}) : \\: \\mathbb{S}_\\alpha = \\langle f(0), f(1), \\ldots, f(n-1) \\rangle$\n",
    "\n",
    "$tabulate$ is a function that takes as input:\n",
    "- another function $f$\n",
    "- a natural number $n$\n",
    "\n",
    "and returns a sequence of length $n$ by applying $f$ to each element in $\\langle 0, \\ldots, n-1 \\rangle$\n",
    " "
   ]
  },
  {
   "cell_type": "code",
   "execution_count": 1,
   "metadata": {
    "slideshow": {
     "slide_type": "fragment"
    }
   },
   "outputs": [
    {
     "data": {
      "text/plain": [
       "[0, 2, 4, 6, 8, 10, 12, 14, 16, 18]"
      ]
     },
     "execution_count": 1,
     "metadata": {},
     "output_type": "execute_result"
    }
   ],
   "source": [
    "def double(n):\n",
    "        return 2*n\n",
    "    \n",
    "def tabulate(f, n):\n",
    "    return [f(i) for i in range(n)]\n",
    "   \n",
    "tabulate(double, 10)\n"
   ]
  },
  {
   "cell_type": "markdown",
   "metadata": {
    "slideshow": {
     "slide_type": "slide"
    }
   },
   "source": [
    "### Each call to f(i) can be done in parallel!"
   ]
  },
  {
   "cell_type": "code",
   "execution_count": 2,
   "metadata": {
    "slideshow": {
     "slide_type": "fragment"
    }
   },
   "outputs": [
    {
     "data": {
      "text/plain": [
       "[0, 2, 4, 6, 8, 10, 12, 14, 16, 18]"
      ]
     },
     "execution_count": 2,
     "metadata": {},
     "output_type": "execute_result"
    }
   ],
   "source": [
    "from multiprocessing.pool import ThreadPool\n",
    "\n",
    "def parallel_tabulate(f, n, nthreads=5):\n",
    "    with ThreadPool(nthreads) as pool:\n",
    "        results = []\n",
    "        # launch all tasks\n",
    "        for i in range(n): \n",
    "            results.append(pool.apply_async(f, [i]))\n",
    "        # wait for all to finish\n",
    "        return [r.get() for r in results]\n",
    "    \n",
    "list(parallel_tabulate(double, 10))"
   ]
  },
  {
   "cell_type": "markdown",
   "metadata": {
    "slideshow": {
     "slide_type": "slide"
    }
   },
   "source": [
    "## Map\n",
    "\n",
    "-  like $tabulate$, but applies $f$ to *elements* of sequence, rather than integers.\n",
    "\n",
    "**formal definition**: \n",
    "\n",
    "$ map \\: (f : \\alpha \\rightarrow \\beta)(a : \\mathbb{S}_\\alpha) : \\mathbb{S}_\\beta = \\{(i, f(x)) : (i, x) \\in a\\}$\n",
    "\n",
    "$map$ is a function that takes as input:\n",
    "- another function $f : \\alpha \\rightarrow \\beta$\n",
    "- a sequence $a$ of type $\\mathbb{S}_\\alpha$\n",
    "\n",
    "and returns a sequence of type $\\mathbb{S}_\\beta$ with length $n$ by applying $f$ to each element $x \\in a$\n",
    "\n",
    "<br>\n",
    "\n",
    "e.g., assume $a = \\langle 2, 4, 5, 7\\rangle$\n",
    "\n",
    "$map\\: (\\mathtt{lambda} \\: x \\: . \\: x^2)\\: a \\equiv \\langle x^2 : x \\ \\in a \\rangle \\Rightarrow \\langle  4, 16, 25, 49 \\rangle$"
   ]
  },
  {
   "cell_type": "code",
   "execution_count": 2,
   "metadata": {
    "slideshow": {
     "slide_type": "fragment"
    }
   },
   "outputs": [
    {
     "data": {
      "text/plain": [
       "[16, 256, 625, 2401]"
      ]
     },
     "execution_count": 2,
     "metadata": {},
     "output_type": "execute_result"
    }
   ],
   "source": [
    "def my_map(f, a):\n",
    "    return [f(x) for x in a]\n",
    "\n",
    "def square(x):\n",
    "    return x**2\n",
    " \n",
    "my_map(square, [4, 16, 25, 49])\n"
   ]
  },
  {
   "cell_type": "markdown",
   "metadata": {
    "slideshow": {
     "slide_type": "slide"
    }
   },
   "source": [
    "## Lambda Calculus \n",
    "\n",
    "Consists of expressions $e$ in one of three forms:\n",
    "\n",
    "1. a **variable**, e.g., $x$\n",
    "2. a **lambda abstraction**, e.g., $(\\lambda \\: x \\: . \\: e)$, where $e$ is a function body.\n",
    "3. an **application**, written $(e_1, e_2)$ for expressions $e_1$, $e_2$.\n",
    "\n",
    "```python\n",
    "# lambda functions exist in Python.\n",
    "# these are anonymous functions (no names)\n",
    "# Here, e_2 is a variable.\n",
    "square = lambda x: x*x\n",
    "square(10)\n",
    "```\n",
    "\n",
    "<a href='https://en.wikipedia.org/wiki/Lambda_calculus'>Source</a>"
   ]
  },
  {
   "cell_type": "code",
   "execution_count": 3,
   "metadata": {
    "slideshow": {
     "slide_type": "fragment"
    }
   },
   "outputs": [
    {
     "data": {
      "text/plain": [
       "[16, 256, 625, 2401]"
      ]
     },
     "execution_count": 3,
     "metadata": {},
     "output_type": "execute_result"
    }
   ],
   "source": [
    "my_map(lambda x:x**2, [4, 16, 25, 49])"
   ]
  },
  {
   "cell_type": "code",
   "execution_count": 5,
   "metadata": {
    "slideshow": {
     "slide_type": "fragment"
    }
   },
   "outputs": [
    {
     "data": {
      "text/plain": [
       "[16, 256, 625, 2401]"
      ]
     },
     "execution_count": 5,
     "metadata": {},
     "output_type": "execute_result"
    }
   ],
   "source": [
    "# In fact, map is built into python:\n",
    "list(map(lambda x:x**2, [4, 16, 25, 49]))"
   ]
  },
  {
   "cell_type": "code",
   "execution_count": 4,
   "metadata": {
    "slideshow": {
     "slide_type": "slide"
    }
   },
   "outputs": [
    {
     "data": {
      "text/plain": [
       "40320"
      ]
     },
     "execution_count": 4,
     "metadata": {},
     "output_type": "execute_result"
    }
   ],
   "source": [
    "factorial = lambda i: i if i < 2 else i*factorial(i-1)\n",
    "\n",
    "def factorial(i):\n",
    "    if i<2: \n",
    "        return i\n",
    "    else:\n",
    "        return i*factorial(i-1)\n",
    "    \n",
    "    \n",
    "factorial(8)"
   ]
  },
  {
   "cell_type": "markdown",
   "metadata": {
    "slideshow": {
     "slide_type": "slide"
    }
   },
   "source": [
    "## Filter\n",
    "\n",
    "like $map$, but $f$ is a boolean function, and the returned list contains elements where $f(x)$ is True.\n",
    "\n",
    "\n",
    "$filter$ is a function that takes as input:\n",
    "- another function $f : \\alpha \\rightarrow \\mathbb{B}$\n",
    "- a sequence $a$ of type $\\mathbb{S}_\\alpha$\n",
    "\n",
    "and returns a sequence of type $\\mathbb{S}_\\alpha$ with length $\\le n$ by applying $f$ to each element $x \\in a$ and retaining only those where $f(x)$ is $\\mathtt{True}$.\n",
    "\n",
    "<br>\n",
    "\n",
    "\n",
    "e.g., assume $a = \\langle 2, 4, 5, 7\\rangle$\n",
    "\n",
    "$filter\\: \\mathtt{isEven} \\: a \\equiv \\langle x : x \\in a \\: \\vert \\: \\mathtt{isEven}\\: x \\rangle \\Rightarrow \\langle  2, 4\\rangle$"
   ]
  },
  {
   "cell_type": "code",
   "execution_count": 6,
   "metadata": {
    "slideshow": {
     "slide_type": "fragment"
    }
   },
   "outputs": [
    {
     "data": {
      "text/plain": [
       "[4, 16, 36, 64]"
      ]
     },
     "execution_count": 6,
     "metadata": {},
     "output_type": "execute_result"
    }
   ],
   "source": [
    "def my_filter(f, a):\n",
    "    return [x for x in a if f(x)]\n",
    "\n",
    "def isEven(x):\n",
    "    if x%2==0:\n",
    "        return True\n",
    "    else:\n",
    "        return False\n",
    "    \n",
    "my_filter(isEven, [4, 16, 25, 36, 49, 64])"
   ]
  },
  {
   "cell_type": "code",
   "execution_count": 7,
   "metadata": {
    "slideshow": {
     "slide_type": "fragment"
    }
   },
   "outputs": [
    {
     "data": {
      "text/plain": [
       "[4, 16, 36, 64, 100]"
      ]
     },
     "execution_count": 7,
     "metadata": {},
     "output_type": "execute_result"
    }
   ],
   "source": [
    "# like map, this also already exists...\n",
    "list(filter(lambda x:x%2==0, [4, 16, 25, 36, 49, 64, 81, 100]))"
   ]
  },
  {
   "cell_type": "markdown",
   "metadata": {
    "slideshow": {
     "slide_type": "fragment"
    }
   },
   "source": [
    "**Question**: What is the work and span?"
   ]
  },
  {
   "cell_type": "markdown",
   "metadata": {
    "slideshow": {
     "slide_type": "slide"
    }
   },
   "source": [
    "## Quick hits\n",
    "\n",
    "### Subsequence\n",
    "\n",
    "- $a[e_i \\ldots e_j] \\equiv subseq(a, \\: e_i, \\: e_j-e_i+1)$\n",
    "- subsequence starting at location $i$ with length $j$\n",
    "- e.g., $subseq(\\langle 1,2,3,4,5,6 \\rangle, 2, 3) \\Rightarrow \\langle 3, 4, 5 \\rangle$\n",
    "\n",
    "\n",
    "### Append\n",
    "\n",
    "- $append(a,b)$ appends sequence $b$ after sequence $a$\n",
    "- shorthand: $a +\\!\\!+ \\: b$\n",
    "- e.g., $\\langle 1,2,3 \\rangle +\\!\\!+ \\: \\langle 4, 5 \\rangle \\Rightarrow \\langle 1,2,3,4,5 \\rangle $\n",
    "\n",
    "\n",
    "### Flatten\n",
    "\n",
    "- append two or more sequences.\n",
    "- $flatten \\langle \\langle 1,2,3 \\rangle, \\langle 4 \\rangle, \\langle 5, 6 \\rangle \\rangle \\Rightarrow \\langle 1,2,3,4,5,6 \\rangle$\n",
    "\n",
    "### Update\n",
    "\n",
    "- $update (a, (i, x))$ updates location $i$ of sequence $a$ to have value $x$\n",
    "- e.g., $a = \\langle 1,2,3,4,5,6 \\rangle$\n",
    "- $update \\: a \\: (2, 99) \\Rightarrow \\langle 1,2,\\mathbf{99},4,5,6 \\rangle$\n",
    "- How can we ensure data persistence here?\n",
    "\n",
    "### Inject\n",
    "\n",
    "- update multiple locations at once\n",
    "- e.g., $a = \\langle 1,2,3,4,5,6 \\rangle$\n",
    "- $inject \\: a \\: \\langle (2, 99), (4, 100) \\rangle \\Rightarrow \\langle 1,2,\\mathbf{99},4, \\mathbf{100}, 6 \\rangle $\n",
    "\n",
    "<br>\n",
    "\n",
    "- what if we want to parallelize $inject$?"
   ]
  },
  {
   "cell_type": "markdown",
   "metadata": {
    "slideshow": {
     "slide_type": "slide"
    }
   },
   "source": [
    "## Nondeterministic Inject\n",
    "\n",
    "Can we just parallelize each update?\n",
    "\n",
    "<br><br>\n",
    "$a = \\langle 1,2,3,4,5,6 \\rangle$\n",
    "\n",
    "$inject \\: a \\: \\langle (2, 99), (2, 100) \\rangle \\Rightarrow $ ???\n",
    "\n",
    "<br>\n",
    "\n",
    "$ninject \\: a \\: \\langle (2, 99), (2, 100) \\rangle \\Rightarrow$ \n",
    "\n",
    "$\\langle 1,2,\\mathbf{99},4,5,6 \\rangle$  **OR**\n",
    "$\\langle 1,2,\\mathbf{100},4,5,6 \\rangle$\n",
    "\n",
    "<br>\n",
    "\n",
    "essentially ignore race conditions\n",
    "\n"
   ]
  },
  {
   "cell_type": "markdown",
   "metadata": {
    "slideshow": {
     "slide_type": "slide"
    }
   },
   "source": [
    "## Iterate\n",
    "\n",
    "- Iterate over a sequence and accumulate a result that changes at each step (e.g., \"running sum\")\n",
    "\n",
    "\n",
    "$iterate$ is a function that takes as input:\n",
    "- another function $f : \\alpha \\times \\beta \\rightarrow \\alpha$\n",
    "- an initial result $x$\n",
    "- a sequence $a$ of type $\\mathbb{S}_\\beta$\n",
    "\n",
    "and returns a value of type $\\alpha$ that is the result of applying $f(x,a)$ to each element of the sequence.\n",
    "\n",
    "\n",
    "<br>\n",
    "\n",
    "$iterate \\: f \\: x \\: a =\n",
    "\\begin{cases}\n",
    "x & \\hbox{if} \\: |a| = 0\\\\\n",
    "iterate \\: f \\:\\: f(x, a[0]) \\:\\:\\: a[1 \\ldots |a|-1]& \\hbox{otherwise}\n",
    "\\end{cases}\n",
    "$\n",
    "\n",
    "\n",
    "e.g.\n",
    "\n",
    "$iterate \\:\\: + \\:\\:\\: 0 \\:\\:\\: \\langle 2,5,1,6 \\rangle \\Rightarrow ((((0+2)+5)+1)+6) \\Rightarrow 14$\n",
    "\n",
    "<br>\n",
    "\n",
    "$f(f(f(x, a[0]), a[1]), a[2])\\ldots)$"
   ]
  },
  {
   "cell_type": "code",
   "execution_count": 8,
   "metadata": {
    "slideshow": {
     "slide_type": "fragment"
    }
   },
   "outputs": [
    {
     "name": "stdout",
     "output_type": "stream",
     "text": [
      "iterate: calling plus x=0 a=[2, 5, 1, 6]\n",
      "iterate: calling plus x=2 a=[5, 1, 6]\n",
      "iterate: calling plus x=7 a=[1, 6]\n",
      "iterate: calling plus x=8 a=[6]\n",
      "iterate: calling plus x=14 a=[]\n"
     ]
    },
    {
     "data": {
      "text/plain": [
       "14"
      ]
     },
     "execution_count": 8,
     "metadata": {},
     "output_type": "execute_result"
    }
   ],
   "source": [
    "def iterate(f, x, a):\n",
    "    \"\"\"\n",
    "    Params:\n",
    "      f.....function to apply\n",
    "      x.....return when a is empty\n",
    "      a.....input sequence\n",
    "    \"\"\"\n",
    "    print('iterate: calling %s x=%s a=%s' % (f.__name__, x, a))\n",
    "    if len(a) == 0:\n",
    "        return x\n",
    "    else:\n",
    "        return iterate(f, f(x, a[0]), a[1:])\n",
    "\n",
    "def plus(x, y):\n",
    "    return x + y\n",
    "\n",
    "iterate(plus, 0, [2,5,1,6])"
   ]
  },
  {
   "cell_type": "markdown",
   "metadata": {
    "slideshow": {
     "slide_type": "slide"
    }
   },
   "source": [
    "### How can we use *iterate* to implement flatten? \n",
    "- $flatten \\langle \\langle 1,2,3 \\rangle, \\langle 4 \\rangle, \\langle 5, 6 \\rangle \\rangle \\Rightarrow \\langle 1,2,3,4,5,6 \\rangle$"
   ]
  },
  {
   "cell_type": "code",
   "execution_count": 9,
   "metadata": {
    "slideshow": {
     "slide_type": "fragment"
    }
   },
   "outputs": [
    {
     "name": "stdout",
     "output_type": "stream",
     "text": [
      "iterate: calling plus x=[] a=[[1, 2, 3], [4], [5, 6]]\n",
      "iterate: calling plus x=[1, 2, 3] a=[[4], [5, 6]]\n",
      "iterate: calling plus x=[1, 2, 3, 4] a=[[5, 6]]\n",
      "iterate: calling plus x=[1, 2, 3, 4, 5, 6] a=[]\n"
     ]
    },
    {
     "data": {
      "text/plain": [
       "[1, 2, 3, 4, 5, 6]"
      ]
     },
     "execution_count": 9,
     "metadata": {},
     "output_type": "execute_result"
    }
   ],
   "source": [
    "def flatten(sequences):\n",
    "    return iterate(plus, [], sequences)\n",
    "    \n",
    "flatten([[1,2,3], [4], [5,6]])"
   ]
  },
  {
   "cell_type": "markdown",
   "metadata": {
    "slideshow": {
     "slide_type": "slide"
    }
   },
   "source": [
    "## Iterate Prefixes [Optional]\n",
    "\n",
    "- also returns the intermediate values computed by $iterate$\n",
    "- That is to create a sequence to store the results of every operation\n",
    "\n",
    "```python\n",
    "\n",
    "iterate_prefixes(plus, 0, [2,5,1,6,9])\n",
    "\n",
    "```\n",
    "We will return [2, 7, 8, 14, 23]. **How do we achieve?**\n",
    "\n",
    "\n",
    "> https://realpython.com/inner-functions-what-are-they-good-for/\n",
    "\n",
    "\n",
    "\n",
    "<!-- $ iteratePrefixes \\: f \\: x \\: a = \\\\\n",
    "~~\\mathtt{let}\\\\\n",
    "\\: g (b,x)\\: y = (b +\\!\\!+x, f(x,y))\\\\\n",
    "~~\\mathtt{in} \\\\\n",
    "\\: iterate\\: g (\\langle \\rangle, x)\\: a\\\\\n",
    "\\: \\mathtt{end}\n",
    "$ -->"
   ]
  },
  {
   "cell_type": "code",
   "execution_count": 11,
   "metadata": {
    "slideshow": {
     "slide_type": "fragment"
    }
   },
   "outputs": [
    {
     "data": {
      "text/plain": [
       "24"
      ]
     },
     "execution_count": 11,
     "metadata": {},
     "output_type": "execute_result"
    }
   ],
   "source": [
    "def factorial(number):\n",
    "    # Validate input\n",
    "    if not isinstance(number, int):\n",
    "        raise TypeError(\"Sorry. 'number' must be an integer.\")\n",
    "    if number < 0:\n",
    "        raise ValueError(\"Sorry. 'number' must be zero or positive.\")\n",
    "    # Calculate the factorial of number\n",
    "    def inner_factorial(number):\n",
    "        if number <= 1:\n",
    "            return 1\n",
    "        return number * inner_factorial(number - 1)\n",
    "    return inner_factorial(number)\n",
    "\n",
    "factorial(4)"
   ]
  },
  {
   "cell_type": "markdown",
   "metadata": {
    "slideshow": {
     "slide_type": "fragment"
    }
   },
   "source": [
    "We can define a variable to store such intermediate result and append when we iterate the sequence."
   ]
  },
  {
   "cell_type": "code",
   "execution_count": 12,
   "metadata": {
    "slideshow": {
     "slide_type": "fragment"
    }
   },
   "outputs": [
    {
     "name": "stdout",
     "output_type": "stream",
     "text": [
      "iterate: calling g x=([], 0) a=[2, 5, 1, 6, 9]\n",
      "\titerate_prefixes: prefixes=[] current_result=0 next_element=2\n",
      "iterate: calling g x=([2], 2) a=[5, 1, 6, 9]\n",
      "\titerate_prefixes: prefixes=[2] current_result=2 next_element=5\n",
      "iterate: calling g x=([2, 7], 7) a=[1, 6, 9]\n",
      "\titerate_prefixes: prefixes=[2, 7] current_result=7 next_element=1\n",
      "iterate: calling g x=([2, 7, 8], 8) a=[6, 9]\n",
      "\titerate_prefixes: prefixes=[2, 7, 8] current_result=8 next_element=6\n",
      "iterate: calling g x=([2, 7, 8, 14], 14) a=[9]\n",
      "\titerate_prefixes: prefixes=[2, 7, 8, 14] current_result=14 next_element=9\n",
      "iterate: calling g x=([2, 7, 8, 14, 23], 23) a=[]\n"
     ]
    },
    {
     "data": {
      "text/plain": [
       "([2, 7, 8, 14, 23], 23)"
      ]
     },
     "execution_count": 12,
     "metadata": {},
     "output_type": "execute_result"
    }
   ],
   "source": [
    "def iterate(f, x, a):\n",
    "    print('iterate: calling %s x=%s a=%s' % (f.__name__, x, a))\n",
    "    if len(a) == 0:\n",
    "        return x\n",
    "    else:\n",
    "        return iterate(f, f(x, a[0]), a[1:])\n",
    "\n",
    "def iterate_prefixes(h, x, a):\n",
    "    def g(result, next_element): \n",
    "        prefixes, current_result = result[0], result[1]\n",
    "        print('\\titerate_prefixes: prefixes=%s current_result=%s next_element=%s' % (prefixes, current_result, next_element))\n",
    "        # get next result\n",
    "        r = h(current_result, next_element)\n",
    "        return (prefixes + [r], r)\n",
    "    return iterate(g, ([], x), a)    \n",
    "\n",
    "iterate_prefixes(plus, 0, [2,5,1,6,9])"
   ]
  },
  {
   "cell_type": "markdown",
   "metadata": {
    "slideshow": {
     "slide_type": "slide"
    }
   },
   "source": [
    "## Problem: Rightmost Positive  [Optional]\n",
    "\n",
    "> Given a sequence of integers $a$, for each element in $a$ find the rightmost positive number to its left.\n",
    "\n",
    "E.g., \n",
    "\n",
    "$rpos \\: \\langle 1, 0, -1, 2, 3, 0, -5, 7 \\rangle \\Rightarrow \\langle -\\infty, 1, 1, 1, 2, 3, 3, 3 \\rangle$\n",
    "\n",
    " ($-\\infty$ if no positive element to the left)\n",
    " \n",
    " Let's design a solution using $iterate$"
   ]
  },
  {
   "cell_type": "code",
   "execution_count": 15,
   "metadata": {
    "slideshow": {
     "slide_type": "fragment"
    }
   },
   "outputs": [
    {
     "name": "stdout",
     "output_type": "stream",
     "text": [
      "([-inf], 1)\n",
      "([-inf, 1], 1)\n",
      "([-inf, 1, 1], 1)\n"
     ]
    }
   ],
   "source": [
    "import math\n",
    "\n",
    "def extend_positive(result, next_element):\n",
    "    \"\"\"\n",
    "    Params:\n",
    "      result.........tuple of (last positive value, list of intermediate outputs)\n",
    "      next_element...next element to be read from input list\n",
    "      \n",
    "    Returns:\n",
    "      tuple of (last positive value, list of intermediate outputs)\n",
    "    \"\"\"\n",
    "    sequence, last_positive_value = result[0], result[1]\n",
    "    new_sequence = sequence + [last_positive_value]  # data persistence...vs. sequence.append(last_positive_value)\n",
    "    \n",
    "    if next_element > 0:\n",
    "        return (new_sequence, next_element)          # next_element becomes the last_positive_value\n",
    "    else:                \n",
    "        return (new_sequence, last_positive_value)   # last_positive_value is unchanged\n",
    "    \n",
    "\n",
    "# call extend_positive for each element of input [1,0,-2,...]\n",
    "result1 = extend_positive(([], -math.inf),  1) \n",
    "print(result1)\n",
    "\n",
    "result2 = extend_positive(result1,  0) \n",
    "print(result2)\n",
    "\n",
    "result3 = extend_positive(result2,  -1) \n",
    "print(result3)"
   ]
  },
  {
   "cell_type": "code",
   "execution_count": null,
   "metadata": {
    "slideshow": {
     "slide_type": "fragment"
    }
   },
   "outputs": [],
   "source": [
    "iterate(extend_positive, (-math.inf, []), [1,0,-1,2,3,0,-5,7])"
   ]
  },
  {
   "cell_type": "markdown",
   "metadata": {
    "slideshow": {
     "slide_type": "slide"
    }
   },
   "source": [
    "Can we solve $\\mathtt{RightmostPositive}$ using *iteratePrefixes* instead?"
   ]
  },
  {
   "cell_type": "code",
   "execution_count": 19,
   "metadata": {
    "slideshow": {
     "slide_type": "fragment"
    }
   },
   "outputs": [],
   "source": [
    "def select_positive(last_positive_value, next_element):\n",
    "    \"\"\"\n",
    "    Params:\n",
    "      last_positive_value...the last positive value seen\n",
    "      next_element..........next element from input list\n",
    "      \n",
    "    Returns:\n",
    "      the element to be remembered going forward\n",
    "    \"\"\"\n",
    "    if next_element > 0:        # remember this new value\n",
    "        return next_element\n",
    "    else:                       # reuse the old value\n",
    "        return last_positive_value\n",
    "    \n",
    "# no need to keep track of the return sequence as in extend_positive\n",
    "# we let iterate_prefixes handle that."
   ]
  },
  {
   "cell_type": "code",
   "execution_count": 20,
   "metadata": {
    "slideshow": {
     "slide_type": "fragment"
    }
   },
   "outputs": [
    {
     "name": "stdout",
     "output_type": "stream",
     "text": [
      "iterate: calling g x=([], -inf) a=[1, 0, -1, 2, 3, 0, -5, 7]\n",
      "\titerate_prefixes: prefixes=[] current_result=-inf next_element=1\n",
      "iterate: calling g x=([1], 1) a=[0, -1, 2, 3, 0, -5, 7]\n",
      "\titerate_prefixes: prefixes=[1] current_result=1 next_element=0\n",
      "iterate: calling g x=([1, 1], 1) a=[-1, 2, 3, 0, -5, 7]\n",
      "\titerate_prefixes: prefixes=[1, 1] current_result=1 next_element=-1\n",
      "iterate: calling g x=([1, 1, 1], 1) a=[2, 3, 0, -5, 7]\n",
      "\titerate_prefixes: prefixes=[1, 1, 1] current_result=1 next_element=2\n",
      "iterate: calling g x=([1, 1, 1, 2], 2) a=[3, 0, -5, 7]\n",
      "\titerate_prefixes: prefixes=[1, 1, 1, 2] current_result=2 next_element=3\n",
      "iterate: calling g x=([1, 1, 1, 2, 3], 3) a=[0, -5, 7]\n",
      "\titerate_prefixes: prefixes=[1, 1, 1, 2, 3] current_result=3 next_element=0\n",
      "iterate: calling g x=([1, 1, 1, 2, 3, 3], 3) a=[-5, 7]\n",
      "\titerate_prefixes: prefixes=[1, 1, 1, 2, 3, 3] current_result=3 next_element=-5\n",
      "iterate: calling g x=([1, 1, 1, 2, 3, 3, 3], 3) a=[7]\n",
      "\titerate_prefixes: prefixes=[1, 1, 1, 2, 3, 3, 3] current_result=3 next_element=7\n",
      "iterate: calling g x=([1, 1, 1, 2, 3, 3, 3, 7], 7) a=[]\n"
     ]
    },
    {
     "data": {
      "text/plain": [
       "([1, 1, 1, 2, 3, 3, 3, 7], 7)"
      ]
     },
     "execution_count": 20,
     "metadata": {},
     "output_type": "execute_result"
    }
   ],
   "source": [
    "iterate_prefixes(select_positive, -math.inf, [1,0,-1,2,3,0,-5,7])"
   ]
  },
  {
   "cell_type": "markdown",
   "metadata": {
    "slideshow": {
     "slide_type": "fragment"
    }
   },
   "source": [
    "Much less code! \n",
    "\n",
    "- These functions are powerful primitives that can be composed into more complicated algorithms."
   ]
  }
 ],
 "metadata": {
  "celltoolbar": "Slideshow",
  "kernelspec": {
   "display_name": "Python 3 (ipykernel)",
   "language": "python",
   "name": "python3"
  },
  "language_info": {
   "codemirror_mode": {
    "name": "ipython",
    "version": 3
   },
   "file_extension": ".py",
   "mimetype": "text/x-python",
   "name": "python",
   "nbconvert_exporter": "python",
   "pygments_lexer": "ipython3",
   "version": "3.9.6"
  },
  "rise": {
   "autolaunch": true,
   "controls": false,
   "enable_chalkboard": true,
   "scroll": true,
   "theme": "simple",
   "transition": "fade"
  },
  "toc": {
   "base_numbering": 1,
   "nav_menu": {},
   "number_sections": true,
   "sideBar": true,
   "skip_h1_title": true,
   "title_cell": "Table of Contents",
   "title_sidebar": "Contents",
   "toc_cell": true,
   "toc_position": {},
   "toc_section_display": true,
   "toc_window_display": false
  }
 },
 "nbformat": 4,
 "nbformat_minor": 4
}
