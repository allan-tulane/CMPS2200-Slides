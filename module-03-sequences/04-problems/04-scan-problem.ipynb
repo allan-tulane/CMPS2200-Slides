{
 "cells": [
  {
   "cell_type": "code",
   "execution_count": 1,
   "metadata": {
    "code_folding": [],
    "slideshow": {
     "slide_type": "skip"
    }
   },
   "outputs": [
    {
     "data": {
      "text/html": [
       "<style>.prompt{width: 0px; min-width: 0px; visibility: collapse}</style>"
      ],
      "text/plain": [
       "<IPython.core.display.HTML object>"
      ]
     },
     "metadata": {},
     "output_type": "display_data"
    },
    {
     "data": {
      "text/html": [
       "<style>\n",
       "div#notebook {\n",
       " font-family: \"Exo_2\", sans-serif;\n",
       "}\n",
       "\n",
       ".rendered_html h1,\n",
       ".text_cell_render h1 {\n",
       " color: #126dce;\n",
       " font-size: 220%;\n",
       " text-align: center;\n",
       " font-weight: lighter;\n",
       "}\n",
       ".rendered_html h2,\n",
       ".text_cell_render h2 {\n",
       " text-align: center;\n",
       " font-size: 170%;\n",
       " color: #126dce;\n",
       " font-style: normal;\n",
       " font-weight: lighter;\n",
       "}\n",
       ".rendered_html h3,\n",
       ".text_cell_render h3 {\n",
       " font-size: 150%;\n",
       " color: #126dce;\n",
       " font-weight: lighter;\n",
       " text-decoration: italic;\n",
       " font-style: normal;\n",
       "}\n",
       ".rendered_html h4,\n",
       ".text_cell_render h4 {\n",
       " font-size: 120%;\n",
       " color: #126dce;\n",
       " font-weight: underline;\n",
       " font-style: normal;\n",
       "}\n",
       ".rendered_html h5,\n",
       ".text_cell_render h5 {\n",
       " font-size: 100%;\n",
       " color: #2f2f2f;\n",
       " font-weight: lighter;\n",
       " text-decoration: underline;\n",
       "}\n",
       "</style>\n"
      ],
      "text/plain": [
       "<IPython.core.display.HTML object>"
      ]
     },
     "metadata": {},
     "output_type": "display_data"
    }
   ],
   "source": [
    "# setup\n",
    "from IPython.core.display import display,HTML\n",
    "display(HTML('<style>.prompt{width: 0px; min-width: 0px; visibility: collapse}</style>'))\n",
    "display(HTML(open('rise.css').read()))\n",
    "\n",
    "# imports\n",
    "import numpy as np\n",
    "import matplotlib.pyplot as plt\n",
    "import seaborn as sns\n",
    "%matplotlib inline\n",
    "sns.set(style=\"whitegrid\", font_scale=1.5, rc={'figure.figsize':(12, 6)})\n"
   ]
  },
  {
   "cell_type": "markdown",
   "metadata": {
    "slideshow": {
     "slide_type": "slide"
    }
   },
   "source": [
    "# CMPS 2200\n",
    "# Introduction to Algorithms\n",
    "\n",
    "## Scan + Problems\n"
   ]
  },
  {
   "cell_type": "code",
   "execution_count": 11,
   "metadata": {
    "slideshow": {
     "slide_type": "slide"
    }
   },
   "outputs": [],
   "source": [
    "# Review of primitive functions.\n",
    "\n",
    "def tabulate(f, n):\n",
    "    return [f(i) for i in range(n)]\n",
    "\n",
    "def my_map(f, a):\n",
    "    return [f(x) for x in a]\n",
    "\n",
    "def my_filter(f, a):\n",
    "    return [x for x in a if f(x)]\n",
    "\n",
    "def iterate(f, x, a):\n",
    "    if len(a) == 0:\n",
    "        return x\n",
    "    else:\n",
    "        return iterate(f, f(x, a[0]), a[1:])\n",
    "\n",
    "def reduce(f, id_, a):\n",
    "    if len(a) == 0:\n",
    "        return id_\n",
    "    elif len(a) == 1:\n",
    "        return a[0]\n",
    "    else:\n",
    "        return f(reduce(f, id_, a[:len(a)//2]),\n",
    "                 reduce(f, id_, a[len(a)//2:]))\n",
    "\n",
    "\n",
    "def scan(f, id_, a):\n",
    "    return (\n",
    "            [reduce(f, id_, a[:i+1]) for i in range(len(a))],\n",
    "             reduce(f, id_, a)\n",
    "           )\n",
    "\n"
   ]
  },
  {
   "cell_type": "code",
   "execution_count": 2,
   "metadata": {
    "slideshow": {
     "slide_type": "fragment"
    }
   },
   "outputs": [],
   "source": [
    "def plus(x, y):\n",
    "    return x + y\n",
    "\n",
    "\n",
    "def flatten(sequences):\n",
    "    return reduce(plus, [], sequences) # iterate(plus, [], sequences)"
   ]
  },
  {
   "cell_type": "markdown",
   "metadata": {
    "slideshow": {
     "slide_type": "slide"
    }
   },
   "source": [
    "### Divide-and-Conquer Scan\n",
    "\n",
    "<p><span class=\"math display\">\\[\\begin{array}{l}  \n",
    "\\mathit{scanDC}~f~\\mathit{id}~a =  \n",
    "\\\\  \n",
    "~~~~\\texttt{if}~|a| = 0~\\texttt{then}  \n",
    "\\\\  \n",
    "~~~~~~~~(\\left\\langle\\,  \\,\\right\\rangle, \\mathit{id})  \n",
    "\\\\  \n",
    "~~~~\\texttt{else if}~|a| = 1~\\texttt{then}  \n",
    "\\\\   \n",
    "~~~~~~~~(\\left\\langle\\, \\mathit{id} \\,\\right\\rangle,a[0])  \n",
    "\\\\  \n",
    "~~~~\\texttt{else}  \n",
    "\\\\   \n",
    "~~~~~~~~\\texttt{let}  \n",
    "\\\\   \n",
    "~~~~~~~~~~~~(b, c) = \\mathit{splitMid}~a  \n",
    "\\\\  \n",
    "~~~~~~~~~~~~((l,b'),(r,c')) = (\\mathit{scanDC}~f~\\mathit{id}~b \\mid\\mid{}~\\mathit{scanDC}~f~\\mathit{id}~c)  \n",
    "\\\\  \n",
    "~~~~~~~~~~~~r' = \\left\\langle\\, f (b',x) : x \\in r \\,\\right\\rangle  \n",
    "\\\\  \n",
    "~~~~~~~~\\texttt{in}  \n",
    "\\\\  \n",
    "~~~~~~~~~~~~(\\mathit{append}~(l,r'), f(b',c'))  \n",
    "\\\\  \n",
    "~~~~~~~~\\texttt{end}  \n",
    "\\end{array}\\]</span></p>\n",
    "\n",
    "\n",
    "\n",
    "Assuming that $f(n)$ can be computed in constant time, we get the following recurrences for work and span:\n",
    "    \n",
    "$$ W(n) = 2W(n/2) + O(n)$$\n",
    "\n",
    "and \n",
    "\n",
    "$$ S(n) = S(n/2) + O(1) $$\n",
    "\n",
    "Thus the work is $O(n \\log n)$ and the span is $O(\\log n)$.\n"
   ]
  },
  {
   "cell_type": "markdown",
   "metadata": {
    "slideshow": {
     "slide_type": "slide"
    }
   },
   "source": [
    "\n",
    "### Contraction `scan` \n",
    "\n",
    "\\begin{array}{l}  \n",
    "\\\\  \n",
    "\\mathit{scan}~f~\\mathit{id}~a =  \n",
    "\\\\  \n",
    "~~~~\\texttt{if}~|a| = 0~\\texttt{then}   \n",
    "\\\\  \n",
    "~~~~\\left(\\left\\langle\\,  \\,\\right\\rangle, id\\right)  \n",
    "\\\\  \n",
    "~~~~\\texttt{else if}~|a| = 1 ~\\texttt{then}  \n",
    "\\\\  \n",
    "~~~~~~~~\\left( \\left\\langle\\, id \\,\\right\\rangle, a[0] \\right)  \n",
    "\\\\  \n",
    "~~~~\\texttt{else}  \n",
    "\\\\   \n",
    "~~~~~~~~\\texttt{let}  \n",
    "\\\\  \n",
    "~~~~~~~~~~~~a' = \\left\\langle\\,  f(a[2i],a[2i+1]) : 0 \\leq i < n/2 \\,\\right\\rangle  \n",
    "\\\\  \n",
    "~~~~~~~~~~~~(r,t) = \\mathit{scan}~f~\\mathit{id}~ a' \n",
    "\\\\  \n",
    "~~~~~~~~\\texttt{in}  \n",
    "\\\\   \n",
    "~~~~~~~~~~~~(\\left\\langle\\,  p_i : 0 \\leq i < n  \\,\\right\\rangle, t),~\\texttt{where}~p_i =   \n",
    "\\begin{cases}  \n",
    "     r[i/2]  & \\texttt{even}(i) \\\\  \n",
    "     f(r[i/2], a[i-1]) & \\texttt{otherwise}  \n",
    "\\end{cases}  \n",
    "\\\\  \n",
    "~~~~~~~~\\texttt{end}  \n",
    "\\end{array}\n",
    "\n",
    "\n",
    "Assuming that $f(n)$ can be computed in constant time, we get the following recurrences for work and span:\n",
    "    \n",
    "$$ W(n) = W(n/2) + O(n)$$\n",
    "\n",
    "and \n",
    "\n",
    "$$ S(n) = S(n/2) + O(1) $$\n",
    "\n",
    "Thus the work is $O(n)$ and the span is $O(\\log n)$."
   ]
  },
  {
   "cell_type": "markdown",
   "metadata": {
    "slideshow": {
     "slide_type": "slide"
    }
   },
   "source": [
    "- surprisingly the *same* work and span of `reduce`\n",
    "- even though we're keeping track of output for all prefixes.\n",
    "\n",
    "<br><br>\n",
    "`scan` is a popular primitive in parallel programming, used to solve many problems, including:\n",
    "https://en.wikipedia.org/wiki/Prefix_sum\n"
   ]
  },
  {
   "cell_type": "markdown",
   "metadata": {
    "slideshow": {
     "slide_type": "slide"
    }
   },
   "source": [
    "### Filtering\n",
    "\n",
    "```python\n",
    "def my_filter(f, a):\n",
    "    return [x for x in a if f(x)]\n",
    "```"
   ]
  },
  {
   "cell_type": "markdown",
   "metadata": {
    "slideshow": {
     "slide_type": "fragment"
    }
   },
   "source": [
    "We need to account for the work to create the return array.\n",
    "\n",
    "<br><br>\n",
    "We can't do this in constant span, because the location of one value depends on the location of other values.\n",
    "<br><br>\n",
    "\n",
    "$filter \\:\\: positive \\:\\: [-1,3,-2,4,-5,6] \\rightarrow [3,4,6]$\n",
    "\n",
    "<br><br>\n",
    "**idea:** Make a first, parallel pass to create boolean values indicating if the value will be copied to the new array.\n",
    "\n",
    "$[false,true,false,true,false,true]$\n",
    "\n",
    "Use **scan** to determine indices in the new array. \n",
    "\n",
    "<br>\n",
    "We'll see a version of this on the lab this week.\n"
   ]
  },
  {
   "cell_type": "markdown",
   "metadata": {
    "slideshow": {
     "slide_type": "slide"
    }
   },
   "source": [
    "<span style=\"color:red\">Question:</span> Find an element which can separate a sequence so that its left and right sum are the same. If no, return -1\n",
    "\n",
    "> example 1: [1, 6, 4, 2, 5] $\\rightarrow$ 4<br>\n",
    "> example 2: [8, 6, 4, 2, 5] $\\rightarrow$ -1"
   ]
  },
  {
   "cell_type": "code",
   "execution_count": 5,
   "metadata": {
    "slideshow": {
     "slide_type": "fragment"
    }
   },
   "outputs": [
    {
     "name": "stdout",
     "output_type": "stream",
     "text": [
      "[1, 6, 4, 2, 5]\n",
      "[5, 2, 4, 6, 1]\n",
      "[1, 7, 11, 13, 18]\n",
      "[5, 7, 11, 17, 18]\n"
     ]
    }
   ],
   "source": [
    "a = [1, 6, 4, 2, 5]\n",
    "b = a[::-1]\n",
    "print(a)\n",
    "print(b)\n",
    "\n",
    "pa, sa = scan(plus, 0, a)\n",
    "pb, sb = scan(plus, 0, b)\n",
    "\n",
    "print(pa)\n",
    "print(pb)\n"
   ]
  },
  {
   "cell_type": "code",
   "execution_count": 6,
   "metadata": {
    "slideshow": {
     "slide_type": "slide"
    }
   },
   "outputs": [
    {
     "name": "stdout",
     "output_type": "stream",
     "text": [
      "mississippi\n"
     ]
    }
   ],
   "source": [
    "## count the frequency per unique character\n",
    "\n",
    "seq = 'mississippi'\n",
    "print(seq)"
   ]
  },
  {
   "cell_type": "code",
   "execution_count": 7,
   "metadata": {
    "slideshow": {
     "slide_type": "fragment"
    }
   },
   "outputs": [
    {
     "name": "stdout",
     "output_type": "stream",
     "text": [
      "[('m', 1), ('i', 1), ('s', 1), ('s', 1), ('i', 1), ('s', 1), ('s', 1), ('i', 1), ('p', 1), ('p', 1), ('i', 1)]\n"
     ]
    }
   ],
   "source": [
    "## define a mapping funcion\n",
    "\n",
    "seq_map = list(map(lambda x: (x, 1),seq))\n",
    "\n",
    "print(seq_map)"
   ]
  },
  {
   "cell_type": "markdown",
   "metadata": {
    "slideshow": {
     "slide_type": "fragment"
    }
   },
   "source": [
    "### Collect\n",
    "\n",
    "> Given a sequence of  key-value pairs, the operation collect ``collects'' together all the values for a given key. This operation is quite common in data processing, and in relational database languages such as SQL it is referred to as “Group by”. \n",
    " \n",
    " \n",
    "```python \n",
    "groups = collect([('i', 1), ('s', 1), ('m', 1), ('i', 1)])\n",
    "groups = [('s', [1]), ('i', [1, 1]), ('m', [1])]  \n",
    "\n",
    "```\n",
    "    "
   ]
  },
  {
   "cell_type": "code",
   "execution_count": 8,
   "metadata": {},
   "outputs": [
    {
     "name": "stdout",
     "output_type": "stream",
     "text": [
      "[('i', [1, 1, 1, 1]), ('m', [1]), ('p', [1, 1]), ('s', [1, 1, 1, 1])]\n"
     ]
    }
   ],
   "source": [
    "from collections import defaultdict\n",
    "\n",
    "def collect(pairs):\n",
    "    \n",
    "    result = defaultdict(list)\n",
    "    for pair in sorted(pairs):\n",
    "        result[pair[0]].append(pair[1])\n",
    "    return list(result.items())\n",
    "\n",
    "\n",
    "groups = collect(seq_map)\n",
    "print(groups)"
   ]
  },
  {
   "cell_type": "code",
   "execution_count": 9,
   "metadata": {},
   "outputs": [
    {
     "name": "stdout",
     "output_type": "stream",
     "text": [
      "[('i', 4), ('m', 1), ('p', 2), ('s', 4)]\n"
     ]
    }
   ],
   "source": [
    "def word_count_reduce(group):\n",
    "    \"\"\"\n",
    "    Params:\n",
    "      group...a tuple of the form (token, list_of_ones), indicating the number of times each word appears.\n",
    "    Returns:\n",
    "      tuple of form (token, int), where int is the number of times that token appears\n",
    "    E.g.\n",
    "    >>> word_count_reduce(['i', [1,1]])\n",
    "    ('i', 2)\n",
    "\n",
    "    NOTE: you should use call the `reduce` function here.\n",
    "    \"\"\"\n",
    "    return (group[0], reduce(plus, 0, group[1]))\n",
    "\n",
    "\n",
    "print([word_count_reduce(g) for g in groups])"
   ]
  },
  {
   "cell_type": "markdown",
   "metadata": {
    "slideshow": {
     "slide_type": "slide"
    }
   },
   "source": [
    "### All Contiguous Subsequences\n",
    "\n",
    "Given a sequence $a$, generate all contiguous subsequences.\n",
    "\n",
    "<br><br>\n",
    "\n",
    "\n",
    "$\\langle a \\langle i, \\ldots,j \\rangle : 0 \\le i < |a|, i \\le j < |a| \\rangle$\n",
    "\n",
    "$\\equiv$\n",
    "\n",
    "$\\langle a \\langle i, \\ldots,j \\rangle : 0 \\le i \\le j < |a| \\rangle$\n",
    "\n",
    "$\\equiv$\n",
    "\n",
    "$flatten \\langle \\: \\langle a[i \\ldots i+j]: i \\le j < |a| \\rangle : 0 \\le i < |a| \\rangle$\n",
    "\n",
    "$\\equiv$\n",
    "\n",
    "$flatten (tabulate (\\mathtt{lambda} \\:  i \\: . tabulate ( \\mathtt{lambda} \\: j \\: . \\: a[i \\ldots i+j])(|a| - i - 1)|a|)$"
   ]
  },
  {
   "cell_type": "code",
   "execution_count": 1,
   "metadata": {
    "slideshow": {
     "slide_type": "fragment"
    }
   },
   "outputs": [
    {
     "data": {
      "text/plain": [
       "[[1],\n",
       " [1, 2],\n",
       " [1, 2, 3],\n",
       " [1, 2, 3, 4],\n",
       " [1, 2, 3, 4, 5],\n",
       " [2],\n",
       " [2, 3],\n",
       " [2, 3, 4],\n",
       " [2, 3, 4, 5],\n",
       " [3],\n",
       " [3, 4],\n",
       " [3, 4, 5],\n",
       " [4],\n",
       " [4, 5],\n",
       " [5]]"
      ]
     },
     "execution_count": 1,
     "metadata": {},
     "output_type": "execute_result"
    }
   ],
   "source": [
    "# sequential solution\n",
    "\n",
    "def all_contiguous_subseq(a):\n",
    "    for i in range(len(a)):\n",
    "        for j in range(i+1, len(a)+1):\n",
    "            yield a[i:j]\n",
    "            \n",
    "list(all_contiguous_subseq([1,2,3,4,5]))"
   ]
  },
  {
   "cell_type": "code",
   "execution_count": 4,
   "metadata": {
    "slideshow": {
     "slide_type": "fragment"
    }
   },
   "outputs": [
    {
     "data": {
      "text/plain": [
       "[[1],\n",
       " [1, 2],\n",
       " [1, 2, 3],\n",
       " [1, 2, 3, 4],\n",
       " [1, 2, 3, 4, 5],\n",
       " [2],\n",
       " [2, 3],\n",
       " [2, 3, 4],\n",
       " [2, 3, 4, 5],\n",
       " [3],\n",
       " [3, 4],\n",
       " [3, 4, 5],\n",
       " [4],\n",
       " [4, 5],\n",
       " [5]]"
      ]
     },
     "execution_count": 4,
     "metadata": {},
     "output_type": "execute_result"
    }
   ],
   "source": [
    "# nested tabulate\n",
    "a = [1,2,3,4,5]\n",
    "flatten(\n",
    "    tabulate(lambda i: \n",
    "             tabulate(lambda j: a[i:i+j+1],\n",
    "                      len(a)-i),\n",
    "         len(a))\n",
    ")"
   ]
  },
  {
   "cell_type": "markdown",
   "metadata": {
    "slideshow": {
     "slide_type": "slide"
    }
   },
   "source": [
    "### analysis of All Contiguous Subsequences\n",
    "\n",
    "How many calls to `a[i:i+j+1]` (i.e., `subseq`)?"
   ]
  },
  {
   "cell_type": "markdown",
   "metadata": {
    "slideshow": {
     "slide_type": "fragment"
    }
   },
   "source": [
    "If $|a|=n$,\n",
    "\n",
    "$$ \\sum_{i=1}^n = \\frac{n(n-1)}{2}  \\in O(n^2) $$\n",
    "\n",
    "Work and span of `subseq` is O(1) (**why?**)\n",
    "\n",
    "Therefore, total work is $O(n^2)$.\n",
    "\n",
    "<br>\n",
    "\n",
    "Span of inner `tabulate` is $O(1)$, and outer `tabulate` is also $O(1)$.\n",
    "\n",
    "<br>\n",
    "\n",
    "`flatten` at the end requires $O(\\lg n)$ span.\n",
    "\n",
    "Therefore, total span is $O(\\lg n)$\n"
   ]
  }
 ],
 "metadata": {
  "celltoolbar": "Slideshow",
  "kernelspec": {
   "display_name": "Python 3 (ipykernel)",
   "language": "python",
   "name": "python3"
  },
  "language_info": {
   "codemirror_mode": {
    "name": "ipython",
    "version": 3
   },
   "file_extension": ".py",
   "mimetype": "text/x-python",
   "name": "python",
   "nbconvert_exporter": "python",
   "pygments_lexer": "ipython3",
   "version": "3.9.7"
  },
  "rise": {
   "autolaunch": true,
   "controls": false,
   "enable_chalkboard": true,
   "scroll": true,
   "theme": "simple",
   "transition": "fade"
  },
  "toc": {
   "base_numbering": 1,
   "nav_menu": {},
   "number_sections": true,
   "sideBar": true,
   "skip_h1_title": true,
   "title_cell": "Table of Contents",
   "title_sidebar": "Contents",
   "toc_cell": true,
   "toc_position": {},
   "toc_section_display": true,
   "toc_window_display": false
  }
 },
 "nbformat": 4,
 "nbformat_minor": 4
}
